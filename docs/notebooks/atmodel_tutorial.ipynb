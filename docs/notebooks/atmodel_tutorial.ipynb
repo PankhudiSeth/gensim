{
 "cells": [
  {
   "cell_type": "markdown",
   "metadata": {},
   "source": [
    "# The author-topic model: LDA with metadata\n",
    "\n",
    "In this tutorial, you will learn how to use the author-topic model in Gensim. First, we will apply it to get insight about authors and topics in a corpus consisting of scientific papers; secondly, we will apply the model to tags on questions about cooking on StackExchange, and implement a simple automatic tagging system.\n",
    "\n",
    "The author-topic model is in extension of Latent Dirichlet Allocation (LDA). Each document is associated with a set of authors, and the topic distribution for each of these authors are learned. Each author is also associated with multiple documents. To learn about the theoretical side of the author-topic model, see [Rosen-Zvi and co-authors](https://mimno.infosci.cornell.edu/info6150/readings/398.pdf), for example.\n",
    "\n",
    "Naturally, familiarity with topic modelling, LDA and Gensim is assumed in this tutorial. If you are not familiar with either LDA, or its Gensim implementation, consider some of these resources:\n",
    "* Gentle introduction to the LDA model: http://blog.echen.me/2011/08/22/introduction-to-latent-dirichlet-allocation/\n",
    "* Gensim's LDA API documentation: https://radimrehurek.com/gensim/models/ldamodel.html\n",
    "* Topic modelling in Gensim: http://radimrehurek.com/topic_modeling_tutorial/2%20-%20Topic%20Modeling.html\n",
    "* Pre-processing and training LDA: https://github.com/RaRe-Technologies/gensim/blob/develop/docs/notebooks/lda_training_tips.ipynb\n",
    "\n",
    "\n",
    "In part 1, we will illustrate basic usage of the model, and explore the resulting representation a bit. How to load and pre-process the dataset used is also covered.\n",
    "\n",
    "In part 2, we will develop a simple automatic tagging system, and some more of the model's functionality will be shown.\n",
    "\n",
    "## Part 1: analyzing scientific papers\n",
    "\n",
    "The data used in part 1 consists of scientific papers about machine learning, from the Neural Information Processing Systems conference. It is the same dataset used in the [Pre-processing and training LDA](https://github.com/RaRe-Technologies/gensim/blob/develop/docs/notebooks/lda_training_tips.ipynb) tutorial, mentioned earlier.\n",
    "\n",
    "You can download the data from Sam Roweis' website (http://www.cs.nyu.edu/~roweis/data.html).\n",
    "\n",
    "In the following sections we will load the data, pre-process it, train the model, and explore the results using some of the implementation's functionality. Feel free to skip the loading and pre-processing for now, if you are familiar with the process.\n",
    "\n",
    "### Loading the data\n",
    "\n",
    "In the cell below, we crawl the folders and files in the dataset, and read the files into memory."
   ]
  },
  {
   "cell_type": "code",
   "execution_count": 1,
   "metadata": {
    "collapsed": true
   },
   "outputs": [],
   "source": [
    "import os, re\n",
    "\n",
    "# Folder containing all NIPS papers.\n",
    "data_dir = '../../../../data/nipstxt/'  # Set this path to the data on your machine.\n",
    "\n",
    "# Folders containin individual NIPS papers.\n",
    "yrs = ['00', '01', '02', '03', '04', '05', '06', '07', '08', '09', '10', '11', '12']\n",
    "dirs = ['nips' + yr for yr in yrs]\n",
    "\n",
    "# Get all document texts and their corresponding IDs.\n",
    "docs = []\n",
    "doc_ids = []\n",
    "for yr_dir in dirs:\n",
    "    files = os.listdir(data_dir + yr_dir)  # List of filenames.\n",
    "    for filen in files:\n",
    "        # Get document ID.\n",
    "        (idx1, idx2) = re.search('[0-9]+', filen).span()  # Matches the indexes of the start end end of the ID.\n",
    "        doc_ids.append(yr_dir[4:] + '_' + str(int(filen[idx1:idx2])))\n",
    "        \n",
    "        # Read document text.\n",
    "        # Note: ignoring characters that cause encoding errors.\n",
    "        with open(data_dir + yr_dir + '/' + filen, errors='ignore', encoding='utf-8') as fid:\n",
    "            txt = fid.read()\n",
    "            \n",
    "        # Replace any whitespace (newline, tabs, etc.) by a single space.\n",
    "        txt = re.sub('\\s', ' ', txt)\n",
    "        \n",
    "        docs.append(txt)"
   ]
  },
  {
   "cell_type": "markdown",
   "metadata": {},
   "source": [
    "Construct a mapping from author names to document IDs."
   ]
  },
  {
   "cell_type": "code",
   "execution_count": 2,
   "metadata": {
    "collapsed": true
   },
   "outputs": [],
   "source": [
    "filenames = [data_dir + 'idx/a' + yr + '.txt' for yr in yrs]  # Using the years defined in previous cell.\n",
    "\n",
    "# Get all author names and their corresponding document IDs.\n",
    "author2doc = dict()\n",
    "i = 0\n",
    "for yr in yrs:\n",
    "    # The files \"a00.txt\" and so on contain the author-document mappings.\n",
    "    filename = data_dir + 'idx/a' + yr + '.txt'\n",
    "    for line in open(filename, errors='ignore', encoding='utf-8'):\n",
    "        # Each line corresponds to one author.\n",
    "        contents = re.split(',', line)\n",
    "        author_name = (contents[1] + contents[0]).strip()\n",
    "        # Remove any whitespace to reduce redundant author names.\n",
    "        author_name = re.sub('\\s', '', author_name)\n",
    "        # Get document IDs for author.\n",
    "        ids = [c.strip() for c in contents[2:]]\n",
    "        if not author2doc.get(author_name):\n",
    "            # This is a new author.\n",
    "            author2doc[author_name] = []\n",
    "            i += 1\n",
    "        \n",
    "        # Add document IDs to author.\n",
    "        author2doc[author_name].extend([yr + '_' + id for id in ids])\n",
    "\n",
    "# Use an integer ID in author2doc, instead of the IDs provided in the NIPS dataset.\n",
    "# Mapping from ID of document in NIPS datast, to an integer ID.\n",
    "doc_id_dict = dict(zip(doc_ids, range(len(doc_ids))))\n",
    "# Replace NIPS IDs by integer IDs.\n",
    "for a, a_doc_ids in author2doc.items():\n",
    "    for i, doc_id in enumerate(a_doc_ids):\n",
    "        author2doc[a][i] = doc_id_dict[doc_id]"
   ]
  },
  {
   "cell_type": "markdown",
   "metadata": {},
   "source": [
    "### Pre-processing text\n",
    "\n",
    "The text will be pre-processed using the following steps:\n",
    "* Tokenize text.\n",
    "* Replace all whitespace by single spaces.\n",
    "* Remove all punctuation and numbers.\n",
    "* Remove stopwords.\n",
    "* Lemmatize words.\n",
    "* Add multi-word named entities.\n",
    "* Add frequent bigrams.\n",
    "* Remove frequent and rare words.\n",
    "\n",
    "Part 2 will use the same pre-processing, for the most part, so we shall explain it here.\n",
    "\n",
    "A lot of the heavy lifting will be done by the great package, Spacy. Spacy markets itself as \"industrial-strength natural language processing\", is fast, enables multiprocessing, and is easy to use. First, let's import it and load the NLP pipline in english."
   ]
  },
  {
   "cell_type": "code",
   "execution_count": 3,
   "metadata": {
    "collapsed": true
   },
   "outputs": [],
   "source": [
    "import spacy\n",
    "nlp = spacy.load('en')"
   ]
  },
  {
   "cell_type": "markdown",
   "metadata": {},
   "source": [
    "In the code below, Spacy takes care of tokenization, removing non-alphabetic characters, removal of stopwords, lemmatization and named entity recognition.\n",
    "\n",
    "Note that we only keep named entities that consist of more than one word, as single word named entities are already there."
   ]
  },
  {
   "cell_type": "code",
   "execution_count": 4,
   "metadata": {
    "collapsed": false
   },
   "outputs": [
    {
     "name": "stdout",
     "output_type": "stream",
     "text": [
      "CPU times: user 10min 12s, sys: 592 ms, total: 10min 12s\n",
      "Wall time: 3min 23s\n"
     ]
    }
   ],
   "source": [
    "%%time\n",
    "processed_docs = []    \n",
    "for doc in nlp.pipe(docs, n_threads=4, batch_size=100):\n",
    "    # Process document using Spacy NLP pipeline.\n",
    "    \n",
    "    ents = doc.ents  # Named entities.\n",
    "\n",
    "    # Keep only words (no numbers, no punctuation).\n",
    "    # Lemmatize tokens, remove punctuation and remove stopwords.\n",
    "    doc = [token.lemma_ for token in doc if token.is_alpha and not token.is_stop]\n",
    "\n",
    "    # Remove common words from a stopword list.\n",
    "    #doc = [token for token in doc if token not in STOPWORDS]\n",
    "\n",
    "    # Add named entities, but only if they are a compound of more than word.\n",
    "    doc.extend([str(entity) for entity in ents if len(entity) > 1])\n",
    "    \n",
    "    processed_docs.append(doc)"
   ]
  },
  {
   "cell_type": "code",
   "execution_count": 5,
   "metadata": {
    "collapsed": true
   },
   "outputs": [],
   "source": [
    "docs = processed_docs\n",
    "del processed_docs"
   ]
  },
  {
   "cell_type": "markdown",
   "metadata": {},
   "source": [
    "Below, we use a Gensim model to add bigrams. Note that this achieves the same goal as named entity recognition, that is, finding adjacent words that have some particular significance."
   ]
  },
  {
   "cell_type": "code",
   "execution_count": 10,
   "metadata": {
    "collapsed": false,
    "scrolled": true
   },
   "outputs": [
    {
     "name": "stderr",
     "output_type": "stream",
     "text": [
      "/home/olavur/Dropbox/my_folder/workstuff/DTU/thesis/code/gensim/gensim/models/phrases.py:248: UserWarning: For a faster implementation, use the gensim.models.phrases.Phraser class\n",
      "  warnings.warn(\"For a faster implementation, use the gensim.models.phrases.Phraser class\")\n"
     ]
    }
   ],
   "source": [
    "# Compute bigrams.\n",
    "from gensim.models import Phrases\n",
    "# Add bigrams and trigrams to docs (only ones that appear 20 times or more).\n",
    "bigram = Phrases(docs, min_count=20)\n",
    "for idx in range(len(docs)):\n",
    "    for token in bigram[docs[idx]]:\n",
    "        if '_' in token:\n",
    "            # Token is a bigram, add to document.\n",
    "            docs[idx].append(token)"
   ]
  },
  {
   "cell_type": "markdown",
   "metadata": {},
   "source": [
    "Now we are ready to construct a dictionary, as our vocabulary is finalized. We then remove common words (occurring $> 50\\%$ of the time), and rare words (occur $< 20$ times in total)."
   ]
  },
  {
   "cell_type": "code",
   "execution_count": 19,
   "metadata": {
    "collapsed": true
   },
   "outputs": [],
   "source": [
    "# Create a dictionary representation of the documents, and filter out frequent and rare words.\n",
    "\n",
    "from gensim.corpora import Dictionary\n",
    "dictionary = Dictionary(docs)\n",
    "\n",
    "# Remove rare and common tokens.\n",
    "# Filter out words that occur too frequently or too rarely.\n",
    "max_freq = 0.5\n",
    "min_wordcount = 20\n",
    "dictionary.filter_extremes(no_below=min_wordcount, no_above=max_freq)\n",
    "\n",
    "_ = dictionary[0]  # This sort of \"initializes\" dictionary.id2token."
   ]
  },
  {
   "cell_type": "markdown",
   "metadata": {},
   "source": [
    "We produce the vectorized representation of the documents, to supply the author-topic model with, by computing the bag-of-words."
   ]
  },
  {
   "cell_type": "code",
   "execution_count": 20,
   "metadata": {
    "collapsed": true
   },
   "outputs": [],
   "source": [
    "# Vectorize data.\n",
    "\n",
    "# Bag-of-words representation of the documents.\n",
    "corpus = [dictionary.doc2bow(doc) for doc in docs]"
   ]
  },
  {
   "cell_type": "markdown",
   "metadata": {},
   "source": [
    "Let's inspect the dimensionality of our data."
   ]
  },
  {
   "cell_type": "code",
   "execution_count": 21,
   "metadata": {
    "collapsed": false
   },
   "outputs": [
    {
     "name": "stdout",
     "output_type": "stream",
     "text": [
      "Number of authors: 2479\n",
      "Number of unique tokens: 6996\n",
      "Number of documents: 1740\n"
     ]
    }
   ],
   "source": [
    "print('Number of authors: %d' % len(author2doc))\n",
    "print('Number of unique tokens: %d' % len(dictionary))\n",
    "print('Number of documents: %d' % len(corpus))"
   ]
  },
  {
   "cell_type": "markdown",
   "metadata": {},
   "source": [
    "### Train and use model\n",
    "\n",
    "We train the author-topic model on the data prepared in the previous sections. \n",
    "\n",
    "The interface to the author-topic model is very similar to that of LDA in Gensim. In addition to a corpus, ID to word mapping (`id2word`) and number of topics (`num_topics`), the author-topic model requires either a author to document ID mapping (`author2doc`), or the reverse (`doc2author`).\n",
    "\n",
    "Below, we have also (this can be skipped for now):\n",
    "* Increased the number of `passes` over the dataset (to improve the convergence of the optimization problem).\n",
    "* Decreased the number of `iterations` over each document (related to the above).\n",
    "* Specified the mini-batch size (`chunksize`) (primarily to speed up training).\n",
    "* Turned off bound evaluation (`eval_every`) (as it takes a long time to compute).\n",
    "* Turned on automatic learning of the `alpha` and `eta` priors (to improve the convergence of the optimization problem).\n",
    "* Set the random state (`random_state`) of the random number generator (to make these experiments reproducible).\n",
    "\n",
    "We load the model, and train it."
   ]
  },
  {
   "cell_type": "code",
   "execution_count": 28,
   "metadata": {
    "collapsed": false
   },
   "outputs": [
    {
     "name": "stdout",
     "output_type": "stream",
     "text": [
      "CPU times: user 2min 35s, sys: 26.5 s, total: 3min 1s\n",
      "Wall time: 2min 31s\n"
     ]
    }
   ],
   "source": [
    "from gensim.models import AuthorTopicModel\n",
    "%time model = AuthorTopicModel(corpus=corpus, num_topics=10, id2word=dictionary.id2token, \\\n",
    "                author2doc=author2doc, chunksize=2000, passes=100, alpha='auto', eta='auto', \\\n",
    "                eval_every=0, iterations=1, random_state=1)"
   ]
  },
  {
   "cell_type": "code",
   "execution_count": 46,
   "metadata": {
    "collapsed": false
   },
   "outputs": [
    {
     "name": "stdout",
     "output_type": "stream",
     "text": [
      "CPU times: user 14min 22s, sys: 2min 12s, total: 16min 34s\n",
      "Wall time: 14min 9s\n"
     ]
    }
   ],
   "source": [
    "%%time\n",
    "model_list = []\n",
    "for i in range(5):\n",
    "    model = AuthorTopicModel(corpus=corpus, num_topics=10, id2word=dictionary.id2token, \\\n",
    "                    author2doc=author2doc, chunksize=2000, passes=100, alpha='auto', eta='auto', \\\n",
    "                    eval_every=0, iterations=1, random_state=i)\n",
    "    top_topics = model.top_topics(corpus)\n",
    "    tc = sum([t[1] for t in top_topics])\n",
    "    model_list.append((model, tc))"
   ]
  },
  {
   "cell_type": "code",
   "execution_count": 44,
   "metadata": {
    "collapsed": false
   },
   "outputs": [],
   "source": [
    "model, tc = max(model_list, key=lambda x: x[1])"
   ]
  },
  {
   "cell_type": "markdown",
   "metadata": {},
   "source": [
    "Let's print the most important words in the topics."
   ]
  },
  {
   "cell_type": "code",
   "execution_count": 29,
   "metadata": {
    "collapsed": false
   },
   "outputs": [
    {
     "data": {
      "text/plain": [
       "[(0,\n",
       "  '0.014*\"recognition\" + 0.013*\"class\" + 0.013*\"classifier\" + 0.013*\"speech\" + 0.011*\"word\" + 0.010*\"classification\" + 0.007*\"layer\" + 0.006*\"character\" + 0.005*\"training_set\" + 0.005*\"context\"'),\n",
       " (1,\n",
       "  '0.013*\"image\" + 0.010*\"object\" + 0.009*\"visual\" + 0.009*\"component\" + 0.008*\"layer\" + 0.008*\"signal\" + 0.008*\"representation\" + 0.007*\"field\" + 0.006*\"direction\" + 0.006*\"motion\"'),\n",
       " (2,\n",
       "  '0.008*\"gaussian\" + 0.007*\"w\" + 0.007*\"density\" + 0.007*\"noise\" + 0.006*\"approximation\" + 0.006*\"likelihood\" + 0.006*\"matrix\" + 0.006*\"mixture\" + 0.005*\"prior\" + 0.005*\"y\"'),\n",
       " (3,\n",
       "  '0.021*\"neuron\" + 0.013*\"threshold\" + 0.008*\"memory\" + 0.007*\"layer\" + 0.007*\"circuit\" + 0.006*\"connection\" + 0.006*\"synapse\" + 0.006*\"cell\" + 0.006*\"activation\" + 0.006*\"bound\"'),\n",
       " (4,\n",
       "  '0.010*\"sequence\" + 0.007*\"p\" + 0.007*\"f\" + 0.006*\"memory\" + 0.006*\"rule\" + 0.006*\"representation\" + 0.005*\"node\" + 0.005*\"let\" + 0.005*\"matrix\" + 0.004*\"language\"'),\n",
       " (5,\n",
       "  '0.011*\"action\" + 0.010*\"optimal\" + 0.010*\"policy\" + 0.008*\"q\" + 0.006*\"reinforcement\" + 0.005*\"decision\" + 0.005*\"cost\" + 0.004*\"rule\" + 0.004*\"control\" + 0.004*\"reward\"'),\n",
       " (6,\n",
       "  '0.008*\"layer\" + 0.008*\"net\" + 0.007*\"chip\" + 0.007*\"hidden\" + 0.007*\"architecture\" + 0.006*\"signal\" + 0.006*\"hidden_unit\" + 0.005*\"representation\" + 0.005*\"noise\" + 0.005*\"propagation\"'),\n",
       " (7,\n",
       "  '0.024*\"image\" + 0.010*\"distance\" + 0.007*\"cluster\" + 0.006*\"object\" + 0.005*\"constraint\" + 0.005*\"pixel\" + 0.005*\"recognition\" + 0.004*\"graph\" + 0.004*\"transformation\" + 0.004*\"surface\"'),\n",
       " (8,\n",
       "  '0.019*\"neuron\" + 0.019*\"cell\" + 0.010*\"response\" + 0.009*\"spike\" + 0.008*\"stimulus\" + 0.007*\"activity\" + 0.007*\"frequency\" + 0.007*\"signal\" + 0.007*\"synaptic\" + 0.006*\"visual\"'),\n",
       " (9,\n",
       "  '0.024*\"control\" + 0.012*\"dynamic\" + 0.010*\"trajectory\" + 0.009*\"motor\" + 0.007*\"controller\" + 0.007*\"movement\" + 0.007*\"robot\" + 0.006*\"position\" + 0.005*\"forward\" + 0.005*\"system\"')]"
      ]
     },
     "execution_count": 29,
     "metadata": {},
     "output_type": "execute_result"
    }
   ],
   "source": [
    "model.show_topics(num_topics=10)"
   ]
  },
  {
   "cell_type": "markdown",
   "metadata": {},
   "source": [
    "These topics are by no means perfect. They have problems such as *chained topics*, *intruded words*, *random topics*, and *unbalanced topics* (see [Mimno and co-authors 2011](https://people.cs.umass.edu/~wallach/publications/mimno11optimizing.pdf)). They will do for the purposes of this tutorial, however.\n",
    "\n",
    "**TODO:** re-write the interpretation of the topics below, if necessary.\n",
    "\n",
    "Below, we use the `model[name]` syntax to retrieve the topic distribution for some authors. Comparing the authors' topics with the topics above, we observe that the model has correctly identified that Yann LeCun and Geoffrey E. Hinton both have something to do with neural networks (topic 5), speech recognition (topic 1 and 5) and statistical machine learning (topic 9). We also observe that Yann LeCun has been particularly occupied with image processing, and perhaps that Geoffrey E. Hinton has worked with visual perception in neuroscience (this is less clear).\n",
    "\n",
    "Similarly, Terrence J. Sejnowski and James M. Bower are both neuroscientist, first and foremost, and their topic distributions seem to reflect that."
   ]
  },
  {
   "cell_type": "code",
   "execution_count": 30,
   "metadata": {
    "collapsed": false
   },
   "outputs": [
    {
     "name": "stdout",
     "output_type": "stream",
     "text": [
      "\n",
      "YannLeCun\n",
      "Docs: [143, 406, 370, 495, 456, 449, 595, 616, 760, 752, 1532]\n",
      "Topics:\n",
      "[(0, 0.55690462184283596),\n",
      " (6, 0.10083730596510701),\n",
      " (7, 0.25652573327449635),\n",
      " (9, 0.078144169477103245)]\n",
      "\n",
      "GeoffreyE.Hinton\n",
      "Docs: [56, 143, 284, 230, 197, 462, 463, 430, 688, 784, 826, 848, 869, 1387, 1684, 1728]\n",
      "Topics:\n",
      "[(1, 0.84433690567662456), (2, 0.15547549123537502)]\n",
      "\n",
      "TerrenceJ.Sejnowski\n",
      "Docs: [513, 530, 539, 468, 611, 581, 600, 594, 703, 711, 849, 981, 944, 865, 850, 883, 881, 1221, 1137, 1224, 1146, 1282, 1248, 1179, 1424, 1359, 1528, 1484, 1571, 1727, 1732]\n",
      "Topics:\n",
      "[(1, 0.9998644049926757)]\n",
      "\n",
      "JamesM.Bower\n",
      "Docs: [17, 48, 58, 131, 101, 126, 127, 281, 208, 225]\n",
      "Topics:\n",
      "[(8, 0.97693607253656878), (9, 0.01880923677106713)]\n"
     ]
    }
   ],
   "source": [
    "from pprint import pprint\n",
    "\n",
    "name = 'YannLeCun'\n",
    "print('\\n%s' % name)\n",
    "print('Docs:', author2doc[name])\n",
    "print('Topics:')\n",
    "pprint(model[name])\n",
    "\n",
    "name = 'GeoffreyE.Hinton'\n",
    "print('\\n%s' % name)\n",
    "print('Docs:', author2doc[name])\n",
    "print('Topics:')\n",
    "pprint(model[name])\n",
    "\n",
    "name = 'TerrenceJ.Sejnowski'\n",
    "print('\\n%s' % name)\n",
    "print('Docs:', author2doc[name])\n",
    "print('Topics:')\n",
    "pprint(model[name])\n",
    "\n",
    "name = 'JamesM.Bower'\n",
    "print('\\n%s' % name)\n",
    "print('Docs:', author2doc[name])\n",
    "print('Topics:')\n",
    "pprint(model[name])"
   ]
  },
  {
   "cell_type": "markdown",
   "metadata": {},
   "source": [
    "We can construct the `doc2author` dictionary ourselves."
   ]
  },
  {
   "cell_type": "code",
   "execution_count": 43,
   "metadata": {
    "collapsed": false
   },
   "outputs": [],
   "source": [
    "from gensim.models import atmodel\n",
    "doc2author = atmodel.construct_doc2author(author2doc=author2doc, corpus=corpus)"
   ]
  },
  {
   "cell_type": "markdown",
   "metadata": {},
   "source": [
    "We can also compute the (per-word) bound."
   ]
  },
  {
   "cell_type": "code",
   "execution_count": 44,
   "metadata": {
    "collapsed": false
   },
   "outputs": [
    {
     "data": {
      "text/plain": [
       "-7.6914582241156673"
      ]
     },
     "execution_count": 44,
     "metadata": {},
     "output_type": "execute_result"
    }
   ],
   "source": [
    "# Compute the per-word bound.\n",
    "# Number of words in corpus.\n",
    "corpus_words = sum(cnt for document in corpus for _, cnt in document)\n",
    "\n",
    "# Compute bound and divide by number of words.\n",
    "perwordbound = model.bound(corpus, author2doc=author2doc, doc2author=doc2author) / corpus_words\n",
    "print(perwordbound)"
   ]
  },
  {
   "cell_type": "markdown",
   "metadata": {},
   "source": [
    "We can evaluate the quality of the topics by computing the topic coherence, as in the LDA class. Use this to e.g. find out which of the topics are poor quality, or as a metric for model selection."
   ]
  },
  {
   "cell_type": "code",
   "execution_count": 65,
   "metadata": {
    "collapsed": false
   },
   "outputs": [
    {
     "name": "stdout",
     "output_type": "stream",
     "text": [
      "CPU times: user 17.1 s, sys: 0 ns, total: 17.1 s\n",
      "Wall time: 17.1 s\n"
     ]
    }
   ],
   "source": [
    "%time top_topics = model.top_topics(corpus)"
   ]
  },
  {
   "cell_type": "markdown",
   "metadata": {},
   "source": [
    "### Explore author-topic representation"
   ]
  },
  {
   "cell_type": "code",
   "execution_count": 91,
   "metadata": {
    "collapsed": true
   },
   "outputs": [],
   "source": [
    "from sklearn.manifold import TSNE\n",
    "tsne = TSNE(n_components=2, random_state=0)\n",
    "_ = tsne.fit_transform(model.state.gamma)  # Result stored in tsne.embedding_"
   ]
  },
  {
   "cell_type": "code",
   "execution_count": 93,
   "metadata": {
    "collapsed": false,
    "scrolled": true
   },
   "outputs": [
    {
     "data": {
      "text/html": [
       "\n",
       "    <div class=\"bk-root\">\n",
       "        <a href=\"http://bokeh.pydata.org\" target=\"_blank\" class=\"bk-logo bk-logo-small bk-logo-notebook\"></a>\n",
       "        <span id=\"6102b01d-ca55-4245-960a-82f5a01ce86d\">Loading BokehJS ...</span>\n",
       "    </div>"
      ]
     },
     "metadata": {},
     "output_type": "display_data"
    },
    {
     "data": {
      "application/javascript": [
       "\n",
       "(function(global) {\n",
       "  function now() {\n",
       "    return new Date();\n",
       "  }\n",
       "\n",
       "  var force = \"1\";\n",
       "\n",
       "  if (typeof (window._bokeh_onload_callbacks) === \"undefined\" || force !== \"\") {\n",
       "    window._bokeh_onload_callbacks = [];\n",
       "    window._bokeh_is_loading = undefined;\n",
       "  }\n",
       "\n",
       "\n",
       "  \n",
       "  if (typeof (window._bokeh_timeout) === \"undefined\" || force !== \"\") {\n",
       "    window._bokeh_timeout = Date.now() + 5000;\n",
       "    window._bokeh_failed_load = false;\n",
       "  }\n",
       "\n",
       "  var NB_LOAD_WARNING = {'data': {'text/html':\n",
       "     \"<div style='background-color: #fdd'>\\n\"+\n",
       "     \"<p>\\n\"+\n",
       "     \"BokehJS does not appear to have successfully loaded. If loading BokehJS from CDN, this \\n\"+\n",
       "     \"may be due to a slow or bad network connection. Possible fixes:\\n\"+\n",
       "     \"</p>\\n\"+\n",
       "     \"<ul>\\n\"+\n",
       "     \"<li>re-rerun `output_notebook()` to attempt to load from CDN again, or</li>\\n\"+\n",
       "     \"<li>use INLINE resources instead, as so:</li>\\n\"+\n",
       "     \"</ul>\\n\"+\n",
       "     \"<code>\\n\"+\n",
       "     \"from bokeh.resources import INLINE\\n\"+\n",
       "     \"output_notebook(resources=INLINE)\\n\"+\n",
       "     \"</code>\\n\"+\n",
       "     \"</div>\"}};\n",
       "\n",
       "  function display_loaded() {\n",
       "    if (window.Bokeh !== undefined) {\n",
       "      Bokeh.$(\"#6102b01d-ca55-4245-960a-82f5a01ce86d\").text(\"BokehJS successfully loaded.\");\n",
       "    } else if (Date.now() < window._bokeh_timeout) {\n",
       "      setTimeout(display_loaded, 100)\n",
       "    }\n",
       "  }\n",
       "\n",
       "  function run_callbacks() {\n",
       "    window._bokeh_onload_callbacks.forEach(function(callback) { callback() });\n",
       "    delete window._bokeh_onload_callbacks\n",
       "    console.info(\"Bokeh: all callbacks have finished\");\n",
       "  }\n",
       "\n",
       "  function load_libs(js_urls, callback) {\n",
       "    window._bokeh_onload_callbacks.push(callback);\n",
       "    if (window._bokeh_is_loading > 0) {\n",
       "      console.log(\"Bokeh: BokehJS is being loaded, scheduling callback at\", now());\n",
       "      return null;\n",
       "    }\n",
       "    if (js_urls == null || js_urls.length === 0) {\n",
       "      run_callbacks();\n",
       "      return null;\n",
       "    }\n",
       "    console.log(\"Bokeh: BokehJS not loaded, scheduling load and callback at\", now());\n",
       "    window._bokeh_is_loading = js_urls.length;\n",
       "    for (var i = 0; i < js_urls.length; i++) {\n",
       "      var url = js_urls[i];\n",
       "      var s = document.createElement('script');\n",
       "      s.src = url;\n",
       "      s.async = false;\n",
       "      s.onreadystatechange = s.onload = function() {\n",
       "        window._bokeh_is_loading--;\n",
       "        if (window._bokeh_is_loading === 0) {\n",
       "          console.log(\"Bokeh: all BokehJS libraries loaded\");\n",
       "          run_callbacks()\n",
       "        }\n",
       "      };\n",
       "      s.onerror = function() {\n",
       "        console.warn(\"failed to load library \" + url);\n",
       "      };\n",
       "      console.log(\"Bokeh: injecting script tag for BokehJS library: \", url);\n",
       "      document.getElementsByTagName(\"head\")[0].appendChild(s);\n",
       "    }\n",
       "  };var element = document.getElementById(\"6102b01d-ca55-4245-960a-82f5a01ce86d\");\n",
       "  if (element == null) {\n",
       "    console.log(\"Bokeh: ERROR: autoload.js configured with elementid '6102b01d-ca55-4245-960a-82f5a01ce86d' but no matching script tag was found. \")\n",
       "    return false;\n",
       "  }\n",
       "\n",
       "  var js_urls = ['https://cdn.pydata.org/bokeh/release/bokeh-0.12.3.min.js', 'https://cdn.pydata.org/bokeh/release/bokeh-widgets-0.12.3.min.js'];\n",
       "\n",
       "  var inline_js = [\n",
       "    function(Bokeh) {\n",
       "      Bokeh.set_log_level(\"info\");\n",
       "    },\n",
       "    \n",
       "    function(Bokeh) {\n",
       "      \n",
       "      Bokeh.$(\"#6102b01d-ca55-4245-960a-82f5a01ce86d\").text(\"BokehJS is loading...\");\n",
       "    },\n",
       "    function(Bokeh) {\n",
       "      console.log(\"Bokeh: injecting CSS: https://cdn.pydata.org/bokeh/release/bokeh-0.12.3.min.css\");\n",
       "      Bokeh.embed.inject_css(\"https://cdn.pydata.org/bokeh/release/bokeh-0.12.3.min.css\");\n",
       "      console.log(\"Bokeh: injecting CSS: https://cdn.pydata.org/bokeh/release/bokeh-widgets-0.12.3.min.css\");\n",
       "      Bokeh.embed.inject_css(\"https://cdn.pydata.org/bokeh/release/bokeh-widgets-0.12.3.min.css\");\n",
       "    }\n",
       "  ];\n",
       "\n",
       "  function run_inline_js() {\n",
       "    \n",
       "    if ((window.Bokeh !== undefined) || (force === \"1\")) {\n",
       "      for (var i = 0; i < inline_js.length; i++) {\n",
       "        inline_js[i](window.Bokeh);\n",
       "      }if (force === \"1\") {\n",
       "        display_loaded();\n",
       "      }} else if (Date.now() < window._bokeh_timeout) {\n",
       "      setTimeout(run_inline_js, 100);\n",
       "    } else if (!window._bokeh_failed_load) {\n",
       "      console.log(\"Bokeh: BokehJS failed to load within specified timeout.\");\n",
       "      window._bokeh_failed_load = true;\n",
       "    } else if (!force) {\n",
       "      var cell = $(\"#6102b01d-ca55-4245-960a-82f5a01ce86d\").parents('.cell').data().cell;\n",
       "      cell.output_area.append_execute_result(NB_LOAD_WARNING)\n",
       "    }\n",
       "\n",
       "  }\n",
       "\n",
       "  if (window._bokeh_is_loading === 0) {\n",
       "    console.log(\"Bokeh: BokehJS loaded, going straight to plotting\");\n",
       "    run_inline_js();\n",
       "  } else {\n",
       "    load_libs(js_urls, function() {\n",
       "      console.log(\"Bokeh: BokehJS plotting callback run at\", now());\n",
       "      run_inline_js();\n",
       "    });\n",
       "  }\n",
       "}(this));"
      ]
     },
     "metadata": {},
     "output_type": "display_data"
    }
   ],
   "source": [
    "from bokeh.io import output_notebook\n",
    "from bokeh.models import HoverTool\n",
    "from bokeh.plotting import figure, show, ColumnDataSource\n",
    "\n",
    "output_notebook()"
   ]
  },
  {
   "cell_type": "markdown",
   "metadata": {},
   "source": [
    "If you are unable to view the plot below, it is available [here]() (**TODO:** make a page for the plot, and include the link), or view the entire notebook [here]() (**TODO:** make nvbiewer page for the notebook or something)."
   ]
  },
  {
   "cell_type": "code",
   "execution_count": 94,
   "metadata": {
    "collapsed": false
   },
   "outputs": [
    {
     "data": {
      "text/html": [
       "\n",
       "\n",
       "    <div class=\"bk-root\">\n",
       "        <div class=\"plotdiv\" id=\"41a36679-8972-49ee-bd32-fa43091441c3\"></div>\n",
       "    </div>\n",
       "<script type=\"text/javascript\">\n",
       "  \n",
       "  (function(global) {\n",
       "    function now() {\n",
       "      return new Date();\n",
       "    }\n",
       "  \n",
       "    var force = \"\";\n",
       "  \n",
       "    if (typeof (window._bokeh_onload_callbacks) === \"undefined\" || force !== \"\") {\n",
       "      window._bokeh_onload_callbacks = [];\n",
       "      window._bokeh_is_loading = undefined;\n",
       "    }\n",
       "  \n",
       "  \n",
       "    \n",
       "    if (typeof (window._bokeh_timeout) === \"undefined\" || force !== \"\") {\n",
       "      window._bokeh_timeout = Date.now() + 0;\n",
       "      window._bokeh_failed_load = false;\n",
       "    }\n",
       "  \n",
       "    var NB_LOAD_WARNING = {'data': {'text/html':\n",
       "       \"<div style='background-color: #fdd'>\\n\"+\n",
       "       \"<p>\\n\"+\n",
       "       \"BokehJS does not appear to have successfully loaded. If loading BokehJS from CDN, this \\n\"+\n",
       "       \"may be due to a slow or bad network connection. Possible fixes:\\n\"+\n",
       "       \"</p>\\n\"+\n",
       "       \"<ul>\\n\"+\n",
       "       \"<li>re-rerun `output_notebook()` to attempt to load from CDN again, or</li>\\n\"+\n",
       "       \"<li>use INLINE resources instead, as so:</li>\\n\"+\n",
       "       \"</ul>\\n\"+\n",
       "       \"<code>\\n\"+\n",
       "       \"from bokeh.resources import INLINE\\n\"+\n",
       "       \"output_notebook(resources=INLINE)\\n\"+\n",
       "       \"</code>\\n\"+\n",
       "       \"</div>\"}};\n",
       "  \n",
       "    function display_loaded() {\n",
       "      if (window.Bokeh !== undefined) {\n",
       "        Bokeh.$(\"#41a36679-8972-49ee-bd32-fa43091441c3\").text(\"BokehJS successfully loaded.\");\n",
       "      } else if (Date.now() < window._bokeh_timeout) {\n",
       "        setTimeout(display_loaded, 100)\n",
       "      }\n",
       "    }\n",
       "  \n",
       "    function run_callbacks() {\n",
       "      window._bokeh_onload_callbacks.forEach(function(callback) { callback() });\n",
       "      delete window._bokeh_onload_callbacks\n",
       "      console.info(\"Bokeh: all callbacks have finished\");\n",
       "    }\n",
       "  \n",
       "    function load_libs(js_urls, callback) {\n",
       "      window._bokeh_onload_callbacks.push(callback);\n",
       "      if (window._bokeh_is_loading > 0) {\n",
       "        console.log(\"Bokeh: BokehJS is being loaded, scheduling callback at\", now());\n",
       "        return null;\n",
       "      }\n",
       "      if (js_urls == null || js_urls.length === 0) {\n",
       "        run_callbacks();\n",
       "        return null;\n",
       "      }\n",
       "      console.log(\"Bokeh: BokehJS not loaded, scheduling load and callback at\", now());\n",
       "      window._bokeh_is_loading = js_urls.length;\n",
       "      for (var i = 0; i < js_urls.length; i++) {\n",
       "        var url = js_urls[i];\n",
       "        var s = document.createElement('script');\n",
       "        s.src = url;\n",
       "        s.async = false;\n",
       "        s.onreadystatechange = s.onload = function() {\n",
       "          window._bokeh_is_loading--;\n",
       "          if (window._bokeh_is_loading === 0) {\n",
       "            console.log(\"Bokeh: all BokehJS libraries loaded\");\n",
       "            run_callbacks()\n",
       "          }\n",
       "        };\n",
       "        s.onerror = function() {\n",
       "          console.warn(\"failed to load library \" + url);\n",
       "        };\n",
       "        console.log(\"Bokeh: injecting script tag for BokehJS library: \", url);\n",
       "        document.getElementsByTagName(\"head\")[0].appendChild(s);\n",
       "      }\n",
       "    };var element = document.getElementById(\"41a36679-8972-49ee-bd32-fa43091441c3\");\n",
       "    if (element == null) {\n",
       "      console.log(\"Bokeh: ERROR: autoload.js configured with elementid '41a36679-8972-49ee-bd32-fa43091441c3' but no matching script tag was found. \")\n",
       "      return false;\n",
       "    }\n",
       "  \n",
       "    var js_urls = [];\n",
       "  \n",
       "    var inline_js = [\n",
       "      function(Bokeh) {\n",
       "        Bokeh.$(function() {\n",
       "            var docs_json = {\"b2190c34-8ad1-43da-9eb1-11b2fce0b831\":{\"roots\":{\"references\":[{\"attributes\":{\"active_drag\":\"auto\",\"active_scroll\":\"auto\",\"active_tap\":\"auto\",\"tools\":[{\"id\":\"96c1b6cd-5925-4731-b77b-8d927aefe1fb\",\"type\":\"HoverTool\"},{\"id\":\"8ef0ca4e-211a-4eb0-a4a1-00b166cd067b\",\"type\":\"CrosshairTool\"},{\"id\":\"54aba3de-b5ba-4614-9454-676be8eb65f2\",\"type\":\"PanTool\"},{\"id\":\"6cf65f6a-4513-4025-aa1c-3e9e9bf19849\",\"type\":\"WheelZoomTool\"},{\"id\":\"04792e1d-b673-41c0-bb26-6a3715c0fc62\",\"type\":\"BoxZoomTool\"},{\"id\":\"93f61012-39e6-4c61-84e3-b0a0e87f3f9f\",\"type\":\"ResetTool\"},{\"id\":\"405143b7-165b-4e3d-9f6f-79f56e1f92bf\",\"type\":\"SaveTool\"},{\"id\":\"5de9f7d8-b95a-44d2-9282-65da4728fe96\",\"type\":\"LassoSelectTool\"}]},\"id\":\"c8e95b28-d8df-4400-923d-0bdf73eee77c\",\"type\":\"Toolbar\"},{\"attributes\":{\"below\":[{\"id\":\"8ebb10c7-c53b-4a2b-9d42-f2c171773d26\",\"type\":\"LinearAxis\"}],\"left\":[{\"id\":\"4e4ed15a-e996-4ae9-9f23-70ae02cc53e3\",\"type\":\"LinearAxis\"}],\"renderers\":[{\"id\":\"8ebb10c7-c53b-4a2b-9d42-f2c171773d26\",\"type\":\"LinearAxis\"},{\"id\":\"f6d13c55-5cc7-4892-97bc-34d5e07e9a9f\",\"type\":\"Grid\"},{\"id\":\"4e4ed15a-e996-4ae9-9f23-70ae02cc53e3\",\"type\":\"LinearAxis\"},{\"id\":\"b1b50eef-6017-4da7-b623-a91b3ceb045a\",\"type\":\"Grid\"},{\"id\":\"2d25b1ac-ff90-4bd4-805e-9cc34dc90d51\",\"type\":\"BoxAnnotation\"},{\"id\":\"3d7f68a7-f575-4ef5-bcc8-54611dc30a2f\",\"type\":\"PolyAnnotation\"},{\"id\":\"38778319-885d-4fb9-9a91-1d9308d6653f\",\"type\":\"GlyphRenderer\"}],\"title\":{\"id\":\"be76a844-555b-4791-bd03-c55c9ae38880\",\"type\":\"Title\"},\"tool_events\":{\"id\":\"847c7f23-bf3c-4cd8-8e5f-4c2e69c9f4e1\",\"type\":\"ToolEvents\"},\"toolbar\":{\"id\":\"c8e95b28-d8df-4400-923d-0bdf73eee77c\",\"type\":\"Toolbar\"},\"x_range\":{\"id\":\"e8955376-46fc-4da4-b76e-b7c78ee14543\",\"type\":\"DataRange1d\"},\"y_range\":{\"id\":\"0ab243b8-9d31-42b8-aba2-171b84fbb572\",\"type\":\"DataRange1d\"}},\"id\":\"ff7d1c68-ba86-4cbe-9110-f5276b64d0bf\",\"subtype\":\"Figure\",\"type\":\"Plot\"},{\"attributes\":{\"callback\":null},\"id\":\"0ab243b8-9d31-42b8-aba2-171b84fbb572\",\"type\":\"DataRange1d\"},{\"attributes\":{\"fill_alpha\":{\"value\":0.1},\"fill_color\":{\"value\":\"#1f77b4\"},\"line_alpha\":{\"value\":0.1},\"line_color\":{\"value\":\"#1f77b4\"},\"radius\":{\"field\":\"radii\",\"units\":\"data\"},\"x\":{\"field\":\"x\"},\"y\":{\"field\":\"y\"}},\"id\":\"3548c0d5-3823-48b4-80b5-a63601ae29c5\",\"type\":\"Circle\"},{\"attributes\":{\"callback\":null,\"column_names\":[\"author_names\",\"y\",\"radii\",\"x\"],\"data\":{\"author_names\":[\"A.A.Handzel\",\"A.Afghan\",\"A.B.Bonds\",\"A.B.Kirillov\",\"A.Blake\",\"A.C.C.Coolen\",\"A.C.Tsoi\",\"A.Cichocki\",\"A.D.Back\",\"A.D.Rexlish\",\"A.Dembo\",\"A.Drees\",\"A.During\",\"A.E.Friedman\",\"A.F.Murray\",\"A.Ferguson\",\"A.G.Barto\",\"A.G.U.Perera\",\"A.Gersho\",\"A.Grunewald\",\"A.H.L.West\",\"A.HarryKlopf\",\"A.Hartstein\",\"A.Horst\",\"A.J.Bell\",\"A.J.Holmes\",\"A.J.Robinson\",\"A.Jagota\",\"A.Jayakumar\",\"A.Juels\",\"A.K.Krishnamurthy\",\"A.Kowalczyk\",\"A.Kramer\",\"A.Krogh\",\"A.L.Yuille\",\"A.Linden\",\"A.M.Annaswamy\",\"A.Marcantonio\",\"A.Meyer-Baese\",\"A.MiguelSanMartin\",\"A.Moopenn\",\"A.N.Michel\",\"A.NellBurgess\",\"A.Orlitsky\",\"A.P.Dunmur\",\"A.P.Thakoor\",\"A.Pentland\",\"A.Pouget\",\"A.R.Bulsara\",\"A.Rangarajan\",\"A.Rao\",\"A.Sangiovanni-Vincentelli\",\"A.Sato\",\"A.Senior\",\"A.Sergejew\",\"A.Shustorovich\",\"A.U.Levin\",\"A.W.Moore\",\"A.Zador\",\"A.vanSchaik\",\"AapoHyvarinen\",\"AapoHyvarrinen\",\"AbirZahalka\",\"AchimStahlberger\",\"AdAertsen\",\"AdamJ.Grove\",\"AdamJ.Nucci\",\"AdamKowalczyk\",\"AdamKrzyzak\",\"AdamN.Mamelak\",\"AdamPrtigel-Bennett\",\"AdrianTrapletti\",\"AhChungTsoi\",\"AjayGupta\",\"AjayN.Jain\",\"AkayshaC.Tang\",\"AkioTanaka\",\"AkiraHayashi\",\"AkitoSakurai\",\"AlanBarr\",\"AlanBlair\",\"AlanD.Blair\",\"AlanD.Marts\",\"AlanEMurray\",\"AlanF.Murray\",\"AlanH.Barr\",\"AlanH.Kramer\",\"AlanJ.Harget\",\"AlanL.Yuille\",\"AlanLapedes\",\"AlanMurray\",\"AlanStocker\",\"AlanYuille\",\"AlbertoBertoni\",\"AlbertoSangiovanni-Vincentelli\",\"AldraWatanabe\",\"AlessandroSperduti\",\"AlexChemjavsky\",\"AlexJ.Smola\",\"AlexP.Pentland\",\"AlexPentland\",\"AlexRobel\",\"AlexSmola\",\"AlexT.Nelson\",\"AlexWaibel\",\"AlexanderDimitrov\",\"AlexanderGrunewald\",\"AlexanderJ.Smola\",\"AlexanderJourjine\",\"AlexanderLinden\",\"AlexanderMoopenn\",\"AlexanderRoitershtein\",\"AlexanderSinger\",\"AlexanderT.Ihler\",\"Alexandervon-zur-Muhlen\",\"AlexandrePouget\",\"AlfonsoRenart\",\"AliA.Minai\",\"AliH.Sayed\",\"AliceChiang\",\"AliceM.Chiang\",\"AlirezaKhotanzad\",\"AlisterHamilton\",\"AllenI.Selverston\",\"AllenM.Peterson\",\"AllenM.Waxman\",\"AlokeGuha\",\"AlvaroA.Cmz-Cabrara\",\"AlyssaApsel\",\"AmirAtiya\",\"AmirDembo\",\"AmirF.Atiya\",\"AmitManwani\",\"AmnonShashua\",\"AmnonYariv\",\"AmyMcGovern\",\"AnandRangarajan\",\"AndersKrogh\",\"AndreElisseeff\",\"AndreJ.Noest\",\"AndreLongtin\",\"AndreStechert\",\"AndreasG.Andreou\",\"AndreasHerz\",\"AndreasM.Bartels\",\"AndreasS.Weigend\",\"AndreasStafylopatis\",\"AndreasStolcke\",\"AndreasWeigend\",\"AndreasZiehe\",\"AndresRodriguez\",\"Andrevan-Schaik\",\"AndrewBack\",\"AndrewBlake\",\"AndrewD.Brown\",\"AndrewD.J.Cross\",\"AndrewG.Barto\",\"AndrewGee\",\"AndrewH.Gee\",\"AndrewHsu\",\"AndrewLippman\",\"AndrewM.Finch\",\"AndrewMoore\",\"AndrewR.Barron\",\"AndrewR.Webb\",\"AndrewS.Noetzel\",\"AndrewW.Moore\",\"AndrewY.Ng\",\"Andrfivan-Schaik\",\"AndrzejCichocki\",\"AnenGersho\",\"AnnaCorderoy\",\"AnnaMorpurgo\",\"AnsgarH.L.West\",\"Antalvan-den-Bosch\",\"AnthonyBell\",\"AnthonyBloesch\",\"AnthonyJ.Bell\",\"AnthonyJ.R.Heading\",\"AnthonyJayakumar\",\"AnthonyKuh\",\"AnthonyLaVigna\",\"AnthonyM.Zador\",\"AnthonyV.W.Smith\",\"AnthonyZador\",\"AntonGunzinger\",\"AntonSchwartz\",\"AntoninaStarita\",\"AntonioTuriel\",\"AnyaC.Hurlbert\",\"AnyaHurlbert\",\"AoZee\",\"ArchismartRudra\",\"ArlindoL.Oliveira\",\"ArmandoManduca\",\"ArnaudDoucet\",\"ArthurB.Markman\",\"ArthurFlexer\",\"ArthurMcNair\",\"AsaBen-Hut\",\"AsrielU.Levin\",\"AssafJ.Zeevi\",\"AtamP.Dhawan\",\"AthanasiosG.Tsirukis\",\"AthanassiosSiapas\",\"AudreyL.Guzik\",\"AvijitSaha\",\"AvnerPriel\",\"AvrimBlum\",\"AxelCleeremans\",\"AyhanDemiriz\",\"B.A.Golomb\",\"B.A.Pearlmutter\",\"B.Boser\",\"B.DasGupta\",\"B.Flower\",\"B.G.Home\",\"B.J.Frey\",\"B.Kingsbury\",\"B.Lemarie\",\"B.Linares-Barranco\",\"B.P.Yuhas\",\"B.Parmanto\",\"B.Ravindran\",\"B.Scholkopf\",\"B.V.K.VijayaKumar\",\"B.V.Roy\",\"B.W.Mel\",\"B.Yuhas\",\"BabackMoghaddam\",\"BabakHassibi\",\"BahramNabet\",\"BalazsKegl\",\"BarakA.Pearlmutter\",\"BarakPearlmutter\",\"BarbaraKlein\",\"BarbaraRosario\",\"BarbaraWold\",\"BarnbangParmanto\",\"BarryFlower\",\"BarryJ.Richmond\",\"BartlettMel\",\"BartlettW.Mel\",\"BehnaamAazhang\",\"BemdFritzke\",\"BenA.Marcotte\",\"BenNorth\",\"BenS.Wittner\",\"Benjaminvan-Roy\",\"BennyLautmp\",\"BenoitHuet\",\"BernardDoyon\",\"BernardVictorri\",\"BernardoA.Huberman\",\"BernardoHuberman\",\"Bernd-PeterParis\",\"BerndFritzke\",\"BernhardE.Boser\",\"BernhardScholkopf\",\"BernhardSchottky\",\"Bertde-Vries\",\"BertramE.Shi\",\"BhaskarDasGupta\",\"BhusanGupta\",\"BillBaird\",\"BillG.Home\",\"BillG.Horne\",\"BillHorne\",\"BimalMathur\",\"BjomLambrigsten\",\"BojanPetek\",\"BraceRosen\",\"BradleyA.Minch\",\"BradleyC.Love\",\"BradleyTonkes\",\"BradleyW.Dickinson\",\"BrandynWebb\",\"BrendaClaiborne\",\"BrendaJ.Claiborne\",\"BrendanJ.Frey\",\"BrianBox\",\"BrianD.McVey\",\"BrianRasnow\",\"BrianS.Blais\",\"BrianSallans\",\"BrianV.Bonnlander\",\"BrookeAnderson\",\"BrooksBisofberger\",\"BruceDow\",\"BruceE.Rosen\",\"BruceGraham\",\"BruceL.McNaughton\",\"BruceMacDonald\",\"BrunoA.Olshausen\",\"BrunoCaprile\",\"BrunoCessac\",\"ByronDom\",\"C.A.Mead\",\"C.A.Micchelli\",\"C.B.Miller\",\"C.C.Atkeson\",\"C.Cones\",\"C.D.Spence\",\"C.Darken\",\"C.E.Rasmussen\",\"C.E.Schreiner\",\"C.F.Beckmann\",\"C.I.Thorbergsson\",\"C.J.C.H.Watkins\",\"C.J.Heckman\",\"C.J.Wellekens\",\"C.K.I.Williams\",\"C.K.Sin\",\"C.Kenyon\",\"C.Koch\",\"C.L.Fry\",\"C.L.Giles\",\"C.L.Winter\",\"C.LeeGiles\",\"C.M.Bishop\",\"C.M.Marcus\",\"C.Neukirchen\",\"C.Nohl\",\"C.Stevens\",\"C.T.Abdallah\",\"C.W.H.Mace\",\"C.W.Thrasher\",\"CandaceKamm\",\"CarlE.Rasmussen\",\"CarlaBrodley\",\"CarlaJ.Shatz\",\"CarlosBrody\",\"CarlosD.Brody\",\"CarlosMejia\",\"CarreitSahar-Pikielny\",\"CarverA.Mead\",\"CarverMead\",\"CatherineE.Myers\",\"CatherineStevens\",\"CazhaowS.Qazaz\",\"CedricDeffayet\",\"CesareFurlanello\",\"Ch.Tietz\",\"Chan-doLee\",\"ChangfengWang\",\"ChanthalChatterjee\",\"CharlesENeugebauer\",\"CharlesElbaurn\",\"CharlesF.Stevens\",\"CharlesFefferman\",\"CharlesL.Isbell\",\"CharlesM.Higgins\",\"CharlesM.Marcus\",\"CharlesRosenberg\",\"CharlesSchley\",\"CharlesStein\",\"CharlesW.Anderson\",\"ChdstofKoch\",\"Chiang-JungPu\",\"Chien-PingLu\",\"ChienPingLu\",\"ChongGu\",\"ChrisDiorio\",\"ChrisJ.C.Burges\",\"ChrisM.Bishop\",\"ChrisMesterharm\",\"ChristianDarken\",\"ChristianLebiere\",\"ChristianPiepenbrock\",\"ChristianW.Eurich\",\"ChristianeLinster\",\"ChristofKoch\",\"ChristofSchofl\",\"ChristophBregler\",\"ChristophE.Schreiner\",\"ChristophSchaefers\",\"ChristopheAndrieu\",\"ChristopheK.I.Williams\",\"ChristopherAssad\",\"ChristopherAtkeson\",\"ChristopherBowman\",\"ChristopherConnolly\",\"ChristopherDonham\",\"ChristopherG.Atkeson\",\"ChristopherJ.C.Burges\",\"ChristopherJ.Matheus\",\"ChristopherJ.Merz\",\"ChristopherJ.Metz\",\"ChristopherK.I.Williams\",\"ChristopherL.Scofield\",\"ChristopherM.Bishop\",\"ChristopherWilliams\",\"Chuan-LinWu\",\"ChuanyiJi\",\"ChuckWooters\",\"ChulanKwon\",\"ClaireLegleye\",\"ClaudeNadeau\",\"ClaudineMasson\",\"ClaudioGentile\",\"ClausBenkert\",\"ClayD.Spence\",\"ClaySpence\",\"ClaytonMcMillan\",\"CliffordLau\",\"ClintS.Cole\",\"ColinCampbell\",\"ColinG.Windsor\",\"ColinHumphties\",\"ConradC.Galland\",\"CorM.van-den-Bleek\",\"CorinnaCortes\",\"CraigR.Nohl\",\"CraigT.Jin\",\"CristophBregler\",\"CsabaSzepesvfixi\",\"CtuistophNeukirchen\",\"CurtisPadgett\",\"CyrilLatimer\",\"D.B.Schwartz\",\"D.Brandeis\",\"D.Chen\",\"D.D.Coon\",\"D.D.Lee\",\"D.Geiger\",\"D.H.Ballard\",\"D.Hammerstrom\",\"D.Henderson\",\"D.J.Kershaw\",\"D.J.Willshaw\",\"D.Johnson\",\"D.Kontoravdis\",\"D.L.Standley\",\"D.Lippe\",\"D.M.Titterington\",\"D.MacKay\",\"D.Ormoneit\",\"D.P.Helmbold\",\"D.S.C.So\",\"D.S.Tang\",\"D.S.Touretzky\",\"D.Saad\",\"D.Shemngton\",\"D.Sherrington\",\"D.T.Lawrence\",\"D.W.Opitz\",\"D.Yeung\",\"DaleK.Lee\",\"DaleSchuurmans\",\"DanCornford\",\"DanHammerstrom\",\"DanRoth\",\"DanaH.Ballard\",\"DanaRon\",\"DanaZ.Anderson\",\"DanielB.Schwartz\",\"DanielD.Lee\",\"DanielH.Lange\",\"DanielJ.Rosen\",\"DanielKammen\",\"DanielKersten\",\"DanielL.Alkon\",\"DanielL.James\",\"DanielL.Ruderman\",\"DanielM.Kammen\",\"DanielM.Wolpert\",\"DanielNissman\",\"DanielPotter\",\"DanielRuderman\",\"DanielS.Clouse\",\"DanielSchwartz\",\"DanielWillett\",\"DaphnaWeinshall\",\"DaphneBavelier\",\"DaphneKoller\",\"DarkoStefanovic\",\"DarrellLaham\",\"DarrenMutz\",\"DaveGillespie\",\"DaviGeiger\",\"DavidA.Cohn\",\"DavidA.Kessler\",\"DavidA.Nix\",\"DavidA.Robinson\",\"DavidAndre\",\"DavidB.Grimes\",\"DavidB.Kirk\",\"DavidB.Parker\",\"DavidB.Rosen\",\"DavidBarber\",\"DavidBlackman\",\"DavidBrady\",\"DavidChapman\",\"DavidCohn\",\"DavidDeMers\",\"DavidE.Rumelhart\",\"DavidE.VandenBout\",\"DavidFeld\",\"DavidForsyth\",\"DavidG.Grier\",\"DavidG.Stork\",\"DavidG.Ward\",\"DavidGoodine\",\"DavidH.Ackley\",\"DavidH.Wolpert\",\"DavidHandelman\",\"DavidHaussler\",\"DavidHelmbold\",\"DavidHorn\",\"DavidJ.Burr\",\"DavidJ.C.MacKay\",\"DavidJ.Crisp\",\"DavidJ.Foster\",\"DavidJ.Miller\",\"DavidKirk\",\"DavidL.Bisset\",\"DavidL.Trotman\",\"DavidL.Waltz\",\"DavidLowe\",\"DavidMarsan\",\"DavidMarson\",\"DavidMcAllester\",\"DavidMontana\",\"DavidNix\",\"DavidPrice\",\"DavidRogers\",\"DavidRumelhart\",\"DavidS.Touretzky\",\"DavidSaad\",\"DavidScheeff\",\"DavidServan-Schreiber\",\"DavidShahian\",\"DavidSomers\",\"DavidStork\",\"DavidTam\",\"DavidTerman\",\"DavidTouretzky\",\"DavidVandenBout\",\"DavidW.Jacobs\",\"DavidWarland\",\"DavidWillshaw\",\"DavidWolpert\",\"DavidZipser\",\"DaweiDong\",\"DaweiW.Dong\",\"DeLiangL.Wang\",\"DeLiangWang\",\"DeanA.Pomerleau\",\"DeanBrettle\",\"DeanPomerleau\",\"DedreGentner\",\"DeirdreW.Wheeler\",\"DeirdreWheeler\",\"DemetrPsaltis\",\"DemetriPsaltis\",\"DemetriTerzopoulos\",\"DianeLitman\",\"DidierHerschkowitz\",\"DidierKeymeulen\",\"DiegoGiuliani\",\"DiegoSona\",\"DietrichLehmann\",\"DietrichWettschereck\",\"DimitriBertsekas\",\"DimitrisMargaritis\",\"DirkOrmoneit\",\"DirkTimmerman\",\"Dit-YanYeung\",\"DmitriB.Chklovskii\",\"DmitryRinberg\",\"DoinaPrecup\",\"DominikHornel\",\"DonBone\",\"DonMontgomery\",\"DonR.Hush\",\"DonaldB.Malkoff\",\"DonaldJ.Baxter\",\"DonaldMathis\",\"DonaldT.Freeman\",\"DongXiang\",\"DonghuiCai\",\"DonnieHenderson\",\"DorothyA.Mighell\",\"DougJohnson\",\"DougReeves\",\"DouglasBaumgardt\",\"DouglasKerns\",\"DouglasL.Reilly\",\"DouglasR.Martin\",\"E.Alpaydin\",\"E.D.Sontag\",\"E.Domany\",\"E.E.Fetz\",\"E.Ersu\",\"E.Erwin\",\"E.Fragniere\",\"E.Littmann\",\"E.Majani\",\"E.Mjolsness\",\"E.Niebur\",\"E.Pasero\",\"E.Vittoz\",\"E.W.Jacobs\",\"E.Zohary\",\"EHergert\",\"EMoss\",\"EWeber\",\"EalanA.Henis\",\"EberhardE.Fetz\",\"EdgarA.Brown\",\"EdmondoTrentin\",\"EdmundT.Rolls\",\"EduardSackinger\",\"EduardoD.Sontag\",\"EduardoSontag\",\"EdwardK.Blum\",\"EdwardReitman\",\"EdwardSchwartz\",\"EdwardStern\",\"EdwardW.Kairiss\",\"EdwardW.Page\",\"EdwinLewis\",\"EdwinR.Hancock\",\"EeroP.Simoncelli\",\"EgonC.Pasztor\",\"EilonVaadia\",\"EimeiOyama\",\"EinarSorheim\",\"EladSchneidman\",\"EliShamir\",\"ElieBienenstock\",\"EliotMoss\",\"ElizabethC.Behrman\",\"ElliotSinger\",\"EmadN.Eskandar\",\"EmanualV.Todorov\",\"EmanuelTodorov\",\"EmanuelaBricolo\",\"EmmanuelGuigon\",\"EnnioMingolla\",\"EnricoBocchieri\",\"EricA.Hansen\",\"EricA.Wan\",\"EricB.Baum\",\"EricBaum\",\"EricBoussard\",\"EricChang\",\"EricCosatto\",\"EricCourchesne\",\"EricD.Young\",\"EricFragniere\",\"EricGranger\",\"EricI.Chang\",\"EricI.Knudsen\",\"EricJohnson\",\"EricMjolsness\",\"EricPostma\",\"EricS.Reifsnider\",\"EricSaund\",\"EricSchnell\",\"EricVatikiotis-Bateson\",\"EricVittoz\",\"ErichJ.Smythe\",\"ErichWhitney\",\"ErikD.Lumer\",\"ErkkiOja\",\"ErnestFokoue\",\"ErnestWan\",\"ErnstNiebur\",\"EsterLevin\",\"EstherLevin\",\"EtanJ.Markus\",\"EtienneBarnard\",\"EugeneSantos\",\"EvanSteeg\",\"EveMarder\",\"EyalCohen\",\"EyalYair\",\"EytanDomany\",\"EytanRuppin\",\"F.B.Rodriguez\",\"F.Botelho\",\"F.D.Garber\",\"F.Fallside\",\"F.Gingras\",\"F.H.Schuling\",\"F.Ohl\",\"F.R.Waugh\",\"FabioSolari\",\"FabrizioGabbiani\",\"FangyuGao\",\"FedericoFaggin\",\"FedericoGirosi\",\"FerdinandPeper\",\"FerdinandoA.Mussa-Ivaldi\",\"FerdinandoMussa-lvaldi\",\"FernandaBotelho\",\"FernandoJ.Nunez\",\"FernandoJ.Pineda\",\"FernandoLozano\",\"FernandoPineda\",\"FlorisTakens\",\"FouadBadran\",\"FrancesS.Chance\",\"FrancescoVivarelli\",\"FrancisQuek\",\"FrankEeckman\",\"FrankH.Eeckman\",\"FrankMoss\",\"FrankWerblin\",\"FrankWilczek\",\"FranklinJ.Rudolph\",\"FranklinR.Arethor\",\"FransM.Coetzee\",\"FredRieke\",\"FredWolf\",\"FriedrichLeisch\",\"FriedrichLeiseh\",\"FriedrichT.Sommex\",\"Fu-ShengTsung\",\"FxnstR.Dow\",\"G.BjornChristianson\",\"G.Brightwell\",\"G.Cauwenberghs\",\"G.Dreyfus\",\"G.G.Blasdel\",\"G.Hinton\",\"G.Indiveri\",\"G.J.Goodhill\",\"G.J.Gordon\",\"G.J.Kacmarcik\",\"G.J.Zelinsky\",\"G.Jackson\",\"G.L.Heileman\",\"G.L.Martin\",\"G.M.Kuhn\",\"G.N.Borisyuk\",\"G.Rigoll\",\"G.T.Buracas\",\"G.T.Kenyon\",\"G.Towell\",\"G.W.Flake\",\"G.Z.Sun\",\"G.Zavaliagkos\",\"GadiPinkas\",\"GalChechik\",\"GaleL.Martin\",\"GaleMartin\",\"GarethJames\",\"GarrisonCottrell\",\"GarrisonW.Cottrell\",\"GaryBradshaw\",\"GaryCook\",\"GaryG.Blasdel\",\"GaryLynch\",\"GaryM.Kuhn\",\"GaryM.Scott\",\"GaryW.Flake\",\"GavinSmith\",\"GeneA.Tagliarini\",\"GeneBoe\",\"GeneGindi\",\"GenevieveB.Orr\",\"GennadyS.Cymbalyuk\",\"GeoffreyE.Hinton\",\"GeoffreyFox\",\"GeoffreyGoodhill\",\"GeoffreyHinton\",\"GeoffreyJ.Goodhill\",\"GeoffreyOrsak\",\"GeoffreyTowell\",\"GeorgBrabant\",\"GeorgDorffner\",\"GeorgSchnitger\",\"GeorgeLeeZimmerman\",\"GeorgeZavaliagkos\",\"GeraldFahner\",\"GeraldSommer\",\"GeraldTesauro\",\"GeraldineLegendre\",\"GerardDreyfus\",\"GerardinaHernandez\",\"GerhardPaass\",\"GerhardRigoll\",\"GermanMato\",\"GertCauwenberghs\",\"GezaGyorgyi\",\"GfintherPalm\",\"GiacomoM.Bisio\",\"GiancarloFerrari-Trecate\",\"GianlucaBontempi\",\"GianlucaDonato\",\"GideonDror\",\"GideonEInbar\",\"GilletteElvgren\",\"GillianMarshall\",\"GintamsV.Reklaitis\",\"GiovanniFlammia\",\"GirishN.Patel\",\"GlennMarion\",\"GraceWahba\",\"GregMartin\",\"GregoryE.Gonye\",\"GregoryECooper\",\"GregoryJ.Wolff\",\"GregoryM.Saunders\",\"GregoryR.Galperin\",\"GriffBilbro\",\"GrigorisKarakoulas\",\"GunnarRatsch\",\"Guo-ZhenSun\",\"Guo-ZhengSun\",\"GustavoDeco\",\"GuyJ.Brown\",\"GwendalLeMasson\",\"H.A.K.Mastebroek\",\"H.A.Rowley\",\"H.Attias\",\"H.Bolouri\",\"H.Bourlard\",\"H.C.Rae\",\"H.Drucker\",\"H.Ferni\",\"H.G.Zimmermann\",\"H.H.Chen\",\"H.L.Ferra\",\"H.Langenbacher\",\"H.MartinReekie\",\"H.N.Mhaskar\",\"H.Nakahara\",\"H.Ozaki\",\"H.P.Graf\",\"H.Pan\",\"H.R.Doyle\",\"H.Ritter\",\"H.S.Baird\",\"H.S.Seung\",\"H.Scheich\",\"H.Schwarze\",\"H.SebastianSeung\",\"H.T.Blair\",\"H.Tolle\",\"H.U.Bauer\",\"H.Wagner\",\"H.Wang\",\"H.Weissman\",\"H.Yang\",\"HagaiAttias\",\"HaimSompolinski\",\"HaimSompolinsky\",\"HalMcCartor\",\"HalbertWhite\",\"HalinaAbramowicz\",\"HananDavidowitz\",\"HangLi\",\"HansGeorgZimmermann\",\"HansHenrikThodberg\",\"HansP.Graf\",\"HansPeterGraf\",\"HansUlrichBauer\",\"HarelShouval\",\"HarrisDmcker\",\"HarrisDrucker\",\"HarrisonMonFookLeong\",\"HarryBurke\",\"HarryPrintz\",\"HarryWechsler\",\"HarveyKasdan\",\"HasanS.Uyar\",\"HavaT.Siegelmann\",\"HayitK.Greenspan\",\"HeikoNeumann\",\"HeinrichH.Bfilthoff\",\"HeinrichH.Btilthoff\",\"HeinzSchuster\",\"HelenePaugam-Moisy\",\"HelmutSchwegler\",\"HemantS.Kudrimoti\",\"HendricusG.Loos\",\"HenriAtlan\",\"HenrikBohr\",\"HenrikFredholm\",\"HerbertRoitblat\",\"HerbertWiklicky\",\"HermanFerra\",\"HermanVerrelst\",\"HermannHild\",\"HervdBourlard\",\"HerveBourlard\",\"Hi.Chiel\",\"HidekiNoda\",\"HidemitsuOgawa\",\"HideoKosaka\",\"HilaryTunley\",\"HilbertJ.Kappen\",\"HillelJ.Chiel\",\"HillelPratt\",\"HinrichSchfitze\",\"HiroakiGomi\",\"HiroakiSaito\",\"HirofumiMatsui\",\"HiroshiAndo\",\"HiroshiIshii\",\"HiroyukiNakahara\",\"HisashiSuzuki\",\"HolgerSchoner\",\"HolgerSchwenk\",\"HolmSchwarze\",\"HongC.Leung\",\"HongLeung\",\"HoracioFranco\",\"HorstBischof\",\"HosseinL.Najafi\",\"HowardH.Yang\",\"HowardHenry\",\"HowardKaushansky\",\"Hsing-HenChen\",\"HuguesBersini\",\"Hui-H.Hsu\",\"HuiTong\",\"HumbertSuarez\",\"Hung-LiTseng\",\"Hwang-SooLee\",\"HynekHermansky\",\"HyoungsooYoon\",\"I.Guyon\",\"I.Jouny\",\"I.M.Elfadel\",\"I.Pal\",\"I.Santoso\",\"IanParberry\",\"IanT.Nabney\",\"IdanSegev\",\"IdoKanter\",\"IgorGrebert\",\"Il-SongHan\",\"IlSongHan\",\"IngoSchiegl\",\"IraG.Smotroff\",\"IrfanEssa\",\"IrisGinzburg\",\"IsaacMeilijson\",\"IsabelleGuyon\",\"ItayGat\",\"J.A.Coelho\",\"J.A.F.Leite\",\"J.A.Farrell\",\"J.A.Marshall\",\"J.AllanHobson\",\"J.Alspector\",\"J.AnthonyMovshon\",\"J.B.Hampshire\",\"J.B.Tenenbaum\",\"J.Barhen\",\"J.Baxter\",\"J.Beck\",\"J.Bernasconi\",\"J.Bruck\",\"J.C.Hager\",\"J.C.Houk\",\"J.C.Jackson\",\"J.C.Pearson\",\"J.C.Platt\",\"J.D.Cowan\",\"J.D.Cowen\",\"J.Deppisch\",\"J.F.Shepanski\",\"J.G.Taylor\",\"J.Hajto\",\"J.Hertz\",\"J.J.Gelfand\",\"J.J.Hopfield\",\"J.JeffreyMahoney\",\"J.Kivinen\",\"J.Kramer\",\"J.L.Elman\",\"J.L.Huertas\",\"J.L.Wyatt\",\"J.L.vanHemmen\",\"J.Larsen\",\"J.Lazzaro\",\"J.LeovanHemmen\",\"J.Makhoul\",\"J.Moody\",\"J.N.Tsitsiklis\",\"J.PNadal\",\"J.S.Denker\",\"J.Schneider\",\"J.Shawe-Taylor\",\"J.Sirosh\",\"J.StephenJudd\",\"J.Szymanski\",\"J.T.Buckingham\",\"J.Tani\",\"J.VanderSpiegel\",\"J.W.Howse\",\"J.W.Shavlik\",\"J.Walter\",\"J.Wawrzynek\",\"J.Zhao\",\"JOrgBmske\",\"JaakkoHollmen\",\"JaapC.Schouten\",\"JackD.Cowan\",\"JackGelfand\",\"JackL.Gallant\",\"JackL.Meador\",\"JacobBarhen\",\"JacobEnglebrecht\",\"JacobErel\",\"JacquesGautrals\",\"JacquesJ.Vidal\",\"JacquesVidal\",\"JagmeetS.Kanwal\",\"JakeRyan\",\"JakobBernasconi\",\"JakobBohr\",\"JakubWejchert\",\"JamesA.Pittman\",\"JamesA.Reggia\",\"JamesA.Ritcey\",\"JamesA.Simmons\",\"JamesB.Burr\",\"JamesBeck\",\"JamesBower\",\"JamesC.Houk\",\"JamesD.Keeler\",\"JamesE.Steck\",\"JamesGlass\",\"JamesGlynn\",\"JamesGoodwin\",\"JamesHendler\",\"JamesHutchinson\",\"JamesJ.Knierim\",\"JamesK.Peterson\",\"JamesKeeler\",\"JamesL.McClelland\",\"JamesM.Bower\",\"JamesM.Coughlan\",\"JamesM.Goodwin\",\"JamesP.Callan\",\"JamesPittman\",\"JamesR.Cavanaugh\",\"JamesR.Mann\",\"JamesR.Williamson\",\"JamesS.Schwaber\",\"JamesT.Buchanan\",\"JamesWaskiewicz\",\"JanBen\",\"JanPuzicha\",\"JanVanderSpiegel\",\"JaneBromley\",\"JaneenAnderson\",\"JanetMetcalfe\",\"JanetWiles\",\"JaredLeinbach\",\"JashojibanBanik\",\"JasonSroka\",\"JasonWeston\",\"JavierMovellan\",\"JavierR.Movellan\",\"JawadA.Salehi\",\"JayAlexander\",\"JayDiamond\",\"Jean-BernardTheeten\",\"Jean-FranqoisIsabelle\",\"Jean-FranqoisVibert\",\"Jean-PierreNadal\",\"JeanRaysz\",\"JeanneC.Milostan\",\"JeanneTownsend\",\"JeffBilmes\",\"JeffG.Schneider\",\"JeffMellstrom\",\"JeffreyC.Lagarias\",\"JeffreyEMonaco\",\"JeffreyL.Elman\",\"JeffreyP.Sutton\",\"JeffreyR.LaFranchise\",\"JeffreyTeeters\",\"JehoshuaBruck\",\"Jen-LunYuan\",\"JenniferLund\",\"Jenq-NengHwang\",\"JensKohlmorgen\",\"JeremyFrank\",\"JeremyH.Holleman\",\"JeremyS.de-Bonet\",\"JeromeConnor\",\"JeromeFreidman\",\"JesperVedelsby\",\"JessicaD.Bayliss\",\"JetteRandlov\",\"JianWu\",\"JianfengFeng\",\"JillP.Mesirov\",\"JimAustin\",\"JimBergen\",\"JimChristian\",\"JimDonnett\",\"JimHawkins\",\"JimKeeler\",\"JimMann\",\"JimSchimert\",\"JinLuo\",\"JitendraMalik\",\"JoachimBuhmann\",\"JoachimM.Buhmann\",\"JoachimUtans\",\"JoaoF.G.de-Freitas\",\"JochenBraun\",\"JoeEisenberg\",\"JoeTebelskis\",\"JoelBert\",\"JoelRatsaby\",\"JofioF.G.de-Freitas\",\"JohannesFeulner\",\"JohnA.Hertz\",\"JohnAllman\",\"JohnB.Hampshire\",\"JohnBain\",\"JohnBaras\",\"JohnBridle\",\"JohnC.Pearson\",\"JohnC.Platt\",\"JohnCavazos\",\"JohnD.Uhley\",\"JohnDenker\",\"JohnE.Hogden\",\"JohnE.Moody\",\"JohnE.W.Mayhew\",\"JohnEHoude\",\"JohnF.Kolen\",\"JohnG.Harris\",\"JohnG.Milton\",\"JohnGrace\",\"JohnH.Holland\",\"JohnHaggerty\",\"JohnHershey\",\"JohnHertz\",\"JohnJ.Hopfield\",\"JohnK.Douglass\",\"JohnK.Williams\",\"JohnKassebaum\",\"JohnKennedy\",\"JohnKolen\",\"JohnKruschke\",\"JohnL.Wyatt\",\"JohnLazzaro\",\"JohnLoch\",\"JohnMakhoul\",\"JohnMoody\",\"JohnN.Tsitsiklis\",\"JohnO'Keefe\",\"JohnP.Donoghue\",\"JohnP.Miller\",\"JohnPearson\",\"JohnPerry\",\"JohnPlatt\",\"JohnS.Bridle\",\"JohnS.Denker\",\"JohnS.Pezaris\",\"JohnShawe-Taylor\",\"JohnW.Fisher\",\"JohnW.Miller\",\"JohnWawrzynek\",\"JohnY.Cheung\",\"JonTombs\",\"JonathanA.Marshall\",\"JonathanBachrach\",\"JonathanBaxter\",\"JonathanD.Cohen\",\"JonathanL.Shapiro\",\"JonathanQ.Li\",\"Jong-HoonOh\",\"JoosVandewalle\",\"JordanB.Pollack\",\"JordanPollack\",\"JorgKindermann\",\"JoseA.B.Fortes\",\"JoseAmbros-Ingerson\",\"JoseC.Principe\",\"JosePrincipe\",\"JosefP.Rauschecker\",\"JosefSkrzypek\",\"JosefZeitlhofer\",\"JosefZihl\",\"JosephB.Keller\",\"JosephC.Hager\",\"JosephCollard\",\"JosephDao\",\"JosephG.Malpeli\",\"JosephO.Ruanaidh\",\"JosephPolifroni\",\"JosephSill\",\"JosephSirosh\",\"JosephW.Goodman\",\"JoshI.Gold\",\"JoshuaAlspector\",\"JoshuaB.Tenenbaum\",\"JoshuaChover\",\"JoshuaTenenbaum\",\"JoumanaGhosn\",\"JoydeepGhosh\",\"Ju-SeogJang\",\"JuanK.Lin\",\"JudeShavlik\",\"JudeW.Shavlik\",\"JuergenFritsch\",\"JuergenSchmidhuber\",\"JuliaBorger\",\"JunZhang\",\"Jung-WookCho\",\"JurgenHollatz\",\"JurgenSchmidhuber\",\"JustinA.Boyan\",\"JustinBoyan\",\"JustinianRosca\",\"Jyh-MingKuo\",\"JyrldKivinen\",\"K.Asanovic\",\"K.Boahen\",\"K.Doya\",\"K.Fukumizu\",\"K.Homik\",\"K.I.Diamantaras\",\"K.J.Cherkauer\",\"K.JarrodMillman\",\"K.Mueller\",\"K.Obermayer\",\"K.Pawelzik\",\"K.Rose\",\"K.Schulten\",\"K.VenkateshPrasad\",\"K.Y.Goldberg\",\"K.Y.MichaelWong\",\"K.Y.Siu\",\"K.Yamada\",\"KaganTumer\",\"KaganTurner\",\"KahKaySung\",\"Kai-YeungSiu\",\"KalanitGrillSpector\",\"KamilA.Grajski\",\"KanBoonyanit\",\"KariTorkkola\",\"KarlGustafson\",\"KarlGustarson\",\"KaroJim\",\"KarvelK.Thomber\",\"KatalinM.Gothard\",\"KathrynLaskey\",\"KazuhikoYokosawa\",\"KazukiJoe\",\"KazumiSaito\",\"KeChen\",\"KechenZhang\",\"Ken-ichiIso\",\"KenHsu\",\"KenjiDoya\",\"KenjiMatsumoto\",\"KennethA.Norman\",\"KennethD.Miller\",\"KennethKreutz-Delgado\",\"KennethM.Buckland\",\"KennethMarko\",\"KennethY.Tsai\",\"KennethZeger\",\"KenneyNg\",\"KevinA.Archie\",\"KevinCummings\",\"KevinE.Martin\",\"KevinJ.Lang\",\"KevinJ.Moon\",\"KevinLang\",\"KevinP.Murphy\",\"KevinR.Farrell\",\"KevinR.Wheeler\",\"KhalidChoukri\",\"Ki-ChulKim\",\"KimmoKiviluoto\",\"KiyoshiHonda\",\"Klaus-R.Muller\",\"Klaus-RobertMilllet\",\"Klaus-RobertMuller\",\"KlausObermayer\",\"KlausPawelzik\",\"KlausPrank\",\"KlausR.Pawelzik\",\"KlausSchulten\",\"KnutMoller\",\"KoSakai\",\"KojiKotani\",\"KongKritayakirana\",\"KristRoginski\",\"KristinBennett\",\"KristinaJohnson\",\"KukjinKang\",\"KunihikoIizuka\",\"KurtFleischer\",\"KurtHomik\",\"KurtHornik\",\"KurtR.Smith\",\"KwabenaA.Boahen\",\"KwokFaiHui\",\"L.A.Akers\",\"L.Bottou\",\"L.C.Dixon\",\"L.C.Parra\",\"L.D.Jackel\",\"L.F.Abbott\",\"L.K.Hansen\",\"L.K.Saul\",\"L.Personnaz\",\"L.Pessoa\",\"L.Q.Zhang\",\"L.RichardCarley\",\"L.S.Smith\",\"L.Wu\",\"L.Xu\",\"L.Y.Pratt\",\"LB.Shuvalova\",\"LanceC.Walton\",\"LanceM.Optican\",\"LanceR.Williams\",\"LanceWu\",\"LarryYaeger\",\"LarsKaiHansen\",\"LarsSchwabe\",\"LasseHolmstrom\",\"LauraMartignon\",\"LauranceT.Maloney\",\"LaurensLeerink\",\"LaurensR.Leerink\",\"LaurentItti\",\"LawrenceD.Jackel\",\"LawrenceDavis\",\"LawrenceK.Saul\",\"LawrenceSaul\",\"LeemonBaird\",\"LeemonC.Baird\",\"LehelCsato\",\"LeiXu\",\"LeifH.Finkel\",\"LeonBottou\",\"LeonN.Cooper\",\"LeonPersonnaz\",\"LeonS.Sterling\",\"LeonardG.C.Hamey\",\"LeonidKruglyak\",\"LesAtlas\",\"LesE.Atlas\",\"LfionPersonnaz\",\"LidrorTroyansky\",\"LinaL.E.Massone\",\"LindaKaufman\",\"LindaKukolich\",\"LionelTarassenko\",\"LiqingZhang\",\"LiuKe\",\"LizhongWu\",\"LlewMason\",\"LloydWatts\",\"LorienY.Pratt\",\"LouisCeci\",\"LouiseOsterholtz\",\"LucasC.Parra\",\"LucasParra\",\"LuciaM.Vaina\",\"LuckyVidmar\",\"LucyE.Hadden\",\"LyleJ.Borg-Graham\",\"LyndonJ.Brown\",\"LynetteHirschman\",\"LynneKiorpes\",\"M.A.Jabri\",\"M.A.Mahowald\",\"M.AnthonyLewis\",\"M.Blatt\",\"M.Cekic\",\"M.Dale\",\"M.Deweese\",\"M.Dikaiakos\",\"M.Finke\",\"M.Garzon\",\"M.Gilloux\",\"M.H.Goldstein\",\"M.Hasselmo\",\"M.Herbster\",\"M.I.Jordan\",\"M.Isard\",\"M.J.Denham\",\"M.J.Rose\",\"M.Jabri\",\"M.K.Warmuth\",\"M.Kadirkamanathan\",\"M.Kearns\",\"M.Konishi\",\"M.Leroux\",\"M.M.Hayhoe\",\"M.M.Hochberg\",\"M.Mahowald\",\"M.Marchand\",\"M.Meila\",\"M.Niranjan\",\"M.Pavel\",\"M.R.Walker\",\"M.Revow\",\"M.S.Bartlett\",\"M.Schenkel\",\"M.Svensen\",\"M.V.Solodov\",\"M.Veloso\",\"M.W.Craven\",\"M.W.Pealersen\",\"M.Wattenberg\",\"MagnusRattray\",\"MagnusStensmo\",\"MahesanNiranjan\",\"MaheshVaranasi\",\"MakotoHirayama\",\"MalcolmSlaney\",\"MalikMagdon-Ismail\",\"ManceHarmon\",\"ManeeshSahani\",\"ManfredK.Warmuth\",\"ManfredOpper\",\"ManoelF.Tenorio\",\"ManoelFernandoTenorio\",\"ManuelF.Fernandez\",\"ManuelSamuelides\",\"Marc-OlivierCoppens\",\"MarcH.Cohen\",\"MarcLoinaz\",\"MarcellaA.McClure\",\"MarcelloPelillo\",\"MarcusFrean\",\"MarcusHeld\",\"MarcusHennecke\",\"MargaretSereno\",\"MarianS.Bartlett\",\"MarianStewartBartlett\",\"MarilynWalker\",\"MarinaMeila\",\"MarioBlaum\",\"MarioMarchand\",\"MarioP.Vecchi\",\"MarissaWesterfield\",\"MariusUsher\",\"Mark.RSydorenko\",\"MarkA.Gluck\",\"MarkA.Rubin\",\"MarkDerthick\",\"MarkE.Nelson\",\"MarkFanty\",\"MarkGerules\",\"MarkGluck\",\"MarkHoller\",\"MarkKvale\",\"MarkMathieson\",\"MarkOllila\",\"MarkPlutowski\",\"MarkRing\",\"MarkSaffman\",\"MarkSitton\",\"MarkW.Goudreau\",\"MarkWhite\",\"MarkZlochin\",\"MarkusLappe\",\"MarkusMeister\",\"MarkusSchenkel\",\"MarkusSvensen\",\"MarleneBehrmann\",\"MarshallFlax\",\"MarthaFarah\",\"MartinHammer\",\"MartinI.Sereno\",\"MartinJ.Johnson\",\"MartinJ.McKeown\",\"MartinJ.Wainwright\",\"MartinLades\",\"MartinMaechler\",\"MartinRiedmiller\",\"MartinRoscheisen\",\"MartinS.Glassman\",\"MartinSereno\",\"MartinStemmler\",\"MartinStetter\",\"MartineNaillon\",\"Martinede-Gerlache\",\"MarvinLuttges\",\"MarwanA.Jabri\",\"MarwanJabd\",\"MarwanJabri\",\"MaryB.Oftaway\",\"MaryE.T.Boyle\",\"MaryTabasko\",\"Masa-akiSato\",\"MasahikoHamno\",\"MasashiSugiyama\",\"MasayukiMiyamoto\",\"MasazumiKatayama\",\"MassimoSivilotti\",\"MassoudOmidvar\",\"MathiasQuoy\",\"MatsOsterberg\",\"MattMelton\",\"MatthewA.Wilson\",\"MatthewBrand\",\"MatthewJ.Beal\",\"MatthewM.Williamson\",\"MatthewN.Dailey\",\"MatthewSaffell\",\"MatthiasBurger\",\"MatthiasScholz\",\"MatthiasSeeger\",\"MattiHamalainen\",\"MauriceLee\",\"MauriceMilgram\",\"MauroBirattari\",\"MaxGarzon\",\"MaximilianRiesenhuber\",\"MazinRahim\",\"MelanieMitchell\",\"MenasheDornay\",\"Meng-JangLin\",\"MicahS.Siegel\",\"MichaelA.Glover\",\"MichaelBrownlow\",\"MichaelBurl\",\"MichaelC.Crair\",\"MichaelC.Mozer\",\"MichaelChuang\",\"MichaelCohen\",\"MichaelD.Revow\",\"MichaelDuff\",\"MichaelE.Hasselmo\",\"MichaelE.Levemon\",\"MichaelE.Tipping\",\"MichaelFinke\",\"MichaelFleisher\",\"MichaelG.Dyer\",\"MichaelG.Paulin\",\"MichaelGasser\",\"MichaelHasselmo\",\"MichaelHormel\",\"MichaelHumphreys\",\"MichaelI.Jordan\",\"MichaelI.Miller\",\"MichaelIsard\",\"MichaelJ.Berry\",\"MichaelJ.Carter\",\"MichaelJ.Pazzani\",\"MichaelJordan\",\"MichaelKearns\",\"MichaelKocheisen\",\"MichaelL.Chuang\",\"MichaelL.Littman\",\"MichaelLemmon\",\"MichaelLittman\",\"MichaelM.Merzenich\",\"MichaelMckenna\",\"MichaelMozer\",\"MichaelMurray\",\"MichaelO.Duff\",\"MichaelP.Perrone\",\"MichaelP.Stryker\",\"MichaelP.Weisend\",\"MichaelPhillips\",\"MichaelR.Berthold\",\"MichaelRecce\",\"MichaelRossen\",\"MichaelS.Gray\",\"MichaelS.Lewicki\",\"MichaelSchmitt\",\"MichaelSeibert\",\"MichaelT.Gately\",\"MichaelTunnon\",\"MichaelWennan\",\"MichaelZibulevsky\",\"MichailZak\",\"MichalMorciniec\",\"MichelCrepon\",\"MichelKerszberg\",\"MichiakiTaniguchi\",\"MichielNoordewier\",\"MichioNakashima\",\"MichiroNegishi\",\"MiguelA.Carreira-Perpinan\",\"MikeE.U.Smith\",\"MikeHochberg\",\"MikeSchuster\",\"MikeWynne-Jones\",\"Ming-HsuanYang\",\"Ming-TakLeung\",\"MinoruAsogawa\",\"MiriamSchulte\",\"MirtaB.Gordon\",\"MishaMahowald\",\"MishaPavel\",\"MitchellGilMaltenfort\",\"MitsuoKawato\",\"MitsuoKomura\",\"MohamedEl-Sharkawi\",\"MohammadA.Al-Ansari\",\"Mohammed-AbdelGhani\",\"MoiseH.Goldstein\",\"MonikaWoszczyna\",\"MosfeqRashid\",\"MosheKaro\",\"MosheSipper\",\"MostefaGolea\",\"MottenPedersen\",\"N.Barkai\",\"N.E.Berthier\",\"N.Fukumura\",\"N.H.Wulff\",\"N.Kamnanithi\",\"N.Morgan\",\"N.Murata\",\"N.N.Schraudolph\",\"N.S.Skantzos\",\"N.Toomarian\",\"NadaE.Matic\",\"NaftaliTishby\",\"NandaKambhatla\",\"NaohiroFukumura\",\"NaomiTakahashi\",\"NaonoriUeda\",\"NarendraAhuja\",\"NathanH.Brown\",\"NathanIntrator\",\"NebojsaJojic\",\"NeilBurgess\",\"NeilLawrence\",\"NelloCristianini\",\"NelsonMorgan\",\"NestorParga\",\"NevinL.Zhang\",\"NiallMcLoughlin\",\"NicholasCamevale\",\"NicholasD.Socci\",\"NicholasJ.Adams\",\"NicholasJ.Redding\",\"NicholasR.Howe\",\"NicholasRoy\",\"NicholasS.Flann\",\"NickLittlestone\",\"NicolN.Schraudolph\",\"NicolSchraudolph\",\"NigelDuffy\",\"NigelM.Allinson\",\"NikhilBhushan\",\"NikosLogothetis\",\"NikzadToomarian\",\"NirFriedman\",\"NirLevy\",\"NirmalaRamanujam\",\"NoamSlonim\",\"NoboruMumta\",\"NoboruMurata\",\"NobuoSuematsu\",\"NorbertoM.Grzywacz\",\"NormanYarvin\",\"NunoVasconcelos\",\"NuriaOliver\",\"O.Farotimi\",\"O.I.Tsioutsias\",\"O.J.M.Coenen\",\"O.L.Mangasarian\",\"O.Miller\",\"OdedMaron\",\"OdeliaSchwartz\",\"OferMatan\",\"OferZeitouni\",\"OjvindBernander\",\"OleWinther\",\"OliverB.Downs\",\"OliverLandolt\",\"OliverMihatsch\",\"OlivierBernier\",\"OlivierChapelle\",\"OlivierCoenen\",\"OttoSchmidbauer\",\"P.A.Chou\",\"P.A.Viola\",\"P.Anandan\",\"P.Auer\",\"P.Baldi\",\"P.Campbell\",\"P.Dayan\",\"P.Ekman\",\"P.JonathonPhillips\",\"P.K.Ko\",\"P.Kaye\",\"P.Koiran\",\"P.L.Bartlett\",\"P.Leong\",\"P.N.Sabes\",\"P.R.Montague\",\"P.ReadMontague\",\"P.S.Bradley\",\"P.S.Krishnaprasad\",\"P.Sollich\",\"P.Stone\",\"P.Tino\",\"P.W.Munro\",\"PaatRusmevichiemong\",\"PadhraicSmyth\",\"PanayiotaPoirazi\",\"PaolaCampadelli\",\"PaoloFrasconi\",\"PaoloGaudiano\",\"ParryHusbands\",\"ParthaNiyogi\",\"PatLangdon\",\"PatricK.Stanton\",\"PatriceSimard\",\"PatriceY.Simard\",\"PatrickAgin\",\"PatrickGallinari\",\"PatrickHaffner\",\"PatrickMoore\",\"PatrikHoyer\",\"PaulA.Viola\",\"PaulBeckman\",\"PaulBourgine\",\"PaulChristy\",\"PaulDean\",\"PaulEkman\",\"PaulHasler\",\"PaulM.Chau\",\"PaulMineiro\",\"PaulMueller\",\"PaulMunro\",\"PaulNachtigall\",\"PaulR.Cooper\",\"PaulRhodes\",\"PaulRodriguez\",\"PaulS.Haynes\",\"PaulSajda\",\"PaulSmolensky\",\"PaulStolorz\",\"PaulUtgoff\",\"PaulViola\",\"PaulW.Goldberg\",\"PaulW.Munro\",\"PavelLaskov\",\"PedroA.d.F.R.Hojen-Sorensen\",\"PedroGuedesde-Oliveira\",\"PekkaOrponen\",\"PenttiKanerva\",\"PeterAdorjan\",\"PeterBartlett\",\"PeterBollmann-Sdorra\",\"PeterD.Lawrence\",\"PeterDayan\",\"PeterE.Latham\",\"PeterF.Rowat\",\"PeterFoltz\",\"PeterJ.Angeline\",\"PeterJ.Edwards\",\"PeterKazlas\",\"PeterL.Bartlett\",\"PeterM.Williams\",\"PeterMarbach\",\"PeterN.Prokopowicz\",\"PeterN.Steinmetz\",\"PeterRappelsberger\",\"PeterSollich\",\"PeterSykacek\",\"PeterT.Szymanski\",\"PeterTifio\",\"PetriKoistinen\",\"PhilKohn\",\"PhilipH.Goodman\",\"PhilipJ.Holmes\",\"PhilipM.Long\",\"PhilippHiffiiger\",\"PhilippeO.Pouliquen\",\"PhillipAlvelda\",\"PieroCosi\",\"PierreBaldi\",\"PierreBand\",\"PierreBaraduc\",\"PietroPerona\",\"PingZhou\",\"PoHsiangChu\",\"PrahladGupta\",\"QingnanLi\",\"R.A.Grupen\",\"R.A.Pearson\",\"R.AndrewMcCallum\",\"R.C.Williamson\",\"R.Caruana\",\"R.ChristopherdeCharms\",\"R.Chu\",\"R.D.Beer\",\"R.D.Griffin\",\"R.D.Puff\",\"R.Dodier\",\"R.DouglasMartin\",\"R.E.Howard\",\"R.E.Jenkins\",\"R.E.Ritzmann\",\"R.Erlanson\",\"R.Etienne-Cummings\",\"R.Gourley\",\"R.H.Crites\",\"R.H.Koch\",\"R.Hofmann\",\"R.J.Wang\",\"R.Janow\",\"R.K.Alley\",\"R.Kaihara\",\"R.Kempter\",\"R.Lee\",\"R.M.Borisyuk\",\"R.M.Peterson\",\"R.M.Westervelt\",\"R.Meir\",\"R.Miikkulainen\",\"R.Neuneier\",\"R.P.N.Rao\",\"R.R.Snapp\",\"R.R.de-Ruyter-van-Steveninck\",\"R.S.Hubbard\",\"R.S.Peterson\",\"R.S.Sutton\",\"R.Schwartz\",\"R.Sitaramen\",\"R.T.Edwards\",\"R.Tibshirani\",\"R.TimothyEdwards\",\"R.W.Penney\",\"R.Zecchina\",\"RadekGrzeszczuk\",\"RadfordM.Neal\",\"RafaelMalach\",\"RahulSarpeshkar\",\"RailKompe\",\"RainerGoebel\",\"RainerMalaka\",\"RajeshP.N.Rao\",\"RajeshRao\",\"RalfHerbrich\",\"RalfWessel\",\"RalphEtienne-Cummings\",\"RalphLinsker\",\"RalphM.Siegel\",\"RalphNeuneier\",\"RalphPenner\",\"RalphWolf\",\"RamaChellappa\",\"RanEl-Yaniv\",\"RandallC.O'Reilly\",\"RandallD.Beer\",\"RandallR.Spangler\",\"RaoulTawel\",\"RaphaelFeraud\",\"RaviK.Sharma\",\"RaymondJ.Mooney\",\"RaymondJ.W.Wang\",\"RaymondL.Watrous\",\"RebeccaCastafio\",\"RebeccaRichards-Kortum\",\"RegisCardin\",\"ReidR.Harrison\",\"ReimarHofmann\",\"ReimarHolmann\",\"ReinerLenz\",\"ReinhardBlasig\",\"ReinholdMann\",\"RembrandtBakker\",\"RemiMunos\",\"RenatoDe-Mori\",\"RenatoVicente\",\"RezaShadmehr\",\"RicardoA.MarquesPereira\",\"RicardoVigario\",\"RichCamana\",\"RichCaruana\",\"RichardA.Andersen\",\"RichardC.Wilson\",\"RichardC.Windecker\",\"RichardCoggins\",\"RichardEhman\",\"RichardFozzard\",\"RichardG.M.Morris\",\"RichardGolden\",\"RichardGranger\",\"RichardH.Lathrop\",\"RichardJ.Coggins\",\"RichardJ.Mammone\",\"RichardK.Belew\",\"RichardKempter\",\"RichardLadnet\",\"RichardLehrer\",\"RichardLippmann\",\"RichardLyon\",\"RichardM.Golden\",\"RichardO.Duda\",\"RichardP.Lippmann\",\"RichardRohwer\",\"RichardS.Sutton\",\"RichardS.Zemel\",\"RichardSchwartz\",\"RichardSutton\",\"RichardT.J.Bostock\",\"RichardWolniewicz\",\"RichardZemel\",\"RiittaHari\",\"RistoMiikkulainen\",\"RitaVenturini\",\"Robde-Ruyter-van-Steveninck\",\"RobertA.Jacobs\",\"RobertAllen\",\"RobertB.Allen\",\"RobertB.Darling\",\"RobertB.Pinter\",\"RobertC.Eaton\",\"RobertC.Williamson\",\"RobertCrites\",\"RobertCunningham\",\"RobertE.Druzinsky\",\"RobertE.Schapire\",\"RobertFarber\",\"RobertFrye\",\"RobertH.Dodier\",\"RobertJ.Adler\",\"RobertJ.Marks\",\"RobertJacobs\",\"RobertL.Tokar\",\"RobertMoll\",\"RobertSchapire\",\"RobertSnapp\",\"RobertTibshitani\",\"RobertWilliamson\",\"RobertoPieraccini\",\"RodericGinpen\",\"RoderickMurray-Smith\",\"RodneyCotterill\",\"RodneyDouglas\",\"RodneyGoodman\",\"RodneyJ.Douglas\",\"RodneyM.Goodman\",\"RodolfoMilito\",\"RogerCheng\",\"RogerShepard\",\"RolfD.Henkel\",\"RolfEckmiller\",\"RonKeesing\",\"RonL.Rivest\",\"RonMeir\",\"RonPapka\",\"Ronald.Rivest\",\"RonaldA.Cole\",\"RonaldA.Sumida\",\"RonaldCole\",\"RonaldG.Benson\",\"RonaldH.Silverman\",\"RonaldJ.Williams\",\"RonaldKlein\",\"RonaldL.Calabrese\",\"RonaldL.Rivest\",\"RonaldM.Harris-Warrick\",\"RonaldParr\",\"RonaldRosenfeld\",\"RonaldSverdlove\",\"RonenBasri\",\"RonnyMeir\",\"RoopakShah\",\"Rudolphvan-der-Merwe\",\"RussellH.Lambert\",\"RuthErlanson\",\"RuthJ.Williams\",\"RuthRosenholtz\",\"RyoheiNakano\",\"RyojiSuzuki\",\"RyotaroKamimura\",\"S.A.Macy\",\"S.A.Seinenov\",\"S.A.Solla\",\"S.Amari\",\"S.Baluja\",\"S.Boes\",\"S.C.Ahalt\",\"S.C.Kremer\",\"S.Churcher\",\"S.E.Hihi\",\"S.Finch\",\"S.G.Lisberger\",\"S.Gold\",\"S.Hadjffaradji\",\"S.Haghighi\",\"S.J.Hanson\",\"S.K.Khanna\",\"S.K.Riis\",\"S.L.McCabe\",\"S.Lawrence\",\"S.Liu\",\"S.M.Omohundro\",\"S.M.Rueget\",\"S.Makeig\",\"S.N.Laughton\",\"S.P.M.Choi\",\"S.P.Singh\",\"S.Pappu\",\"S.Pickard\",\"S.R.H.Joseph\",\"S.R.Waterhouse\",\"S.Rehfuss\",\"S.Sahar\",\"S.SathiyaKeerthi\",\"S.Schaal\",\"S.SidneyFels\",\"S.Sundararajan\",\"S.Thrun\",\"S.Wiseman\",\"S.Yasui\",\"S.Yu\",\"SachaB.Nelson\",\"SaeedHadjifaradji\",\"SamRoweis\",\"SamT.Roweis\",\"SamuelP.M.Choi\",\"SamyBengio\",\"SandeepGulati\",\"SandraPanizza\",\"Sang-YungShin\",\"SanjayBiswas\",\"SantoshS.Venkatesh\",\"SantoshVenkatesh\",\"SaraA.Solla\",\"SaraSolla\",\"SatinderP.Singh\",\"SatinderSingh\",\"SatoruShiono\",\"SatoshiSuzuki\",\"SatoshiYamada\",\"SatoshiYamaria\",\"SayanMukherjee\",\"SayandevMukherjee\",\"ScottDavies\",\"ScottE.Fahlman\",\"ScottFahlman\",\"ScottKirkpatrick\",\"ScottMakeig\",\"ScottMarkel\",\"ScottRickard\",\"ScrenHalkjaer\",\"SeanD.Murphy\",\"SebastianB.Thrun\",\"SebastianMika\",\"SebastianRisau-Gusman\",\"SebastianThmn\",\"SebastianThrun\",\"SehoOh\",\"SeiMiyake\",\"SenSong\",\"SeppHochreiter\",\"SergeyIoffe\",\"SethuVijayahunar\",\"ShaiFine\",\"ShamKakade\",\"ShanParfitt\",\"SharadSinghal\",\"ShaulHochstein\",\"ShawnR.Lockery\",\"SheilaKannappan\",\"SheldonGilbert\",\"ShellyGoggin\",\"ShengMa\",\"SheriL.Gish\",\"SherifBotros\",\"SherrylTomboulian\",\"ShigemTanaka\",\"ShigeruTanaka\",\"Shih-ChengYen\",\"Shih-ChiiLiu\",\"ShimonEdelman\",\"ShimonUllman\",\"ShinIshii\",\"ShinichiSakata\",\"ShiroIkeda\",\"ShivakumarVaithyanathan\",\"ShlomoZilberstein\",\"ShujiYoshizawa\",\"ShumeetBaluja\",\"Shun-ichiAmari\",\"SiWu\",\"SiegfriedBos\",\"SilvioP.Sabatini\",\"SimonCarlile\",\"SimonDennis\",\"SimonJ.Thorpe\",\"SmartGeman\",\"SmartRussell\",\"SongLi\",\"Soo-YoungLee\",\"SophieDeneve\",\"SorenBrunak\",\"SowmyaRamachandran\",\"SreerupaDas\",\"SrinageshSatyanarayana\",\"StefanD.Wilke\",\"StefanHeil\",\"StefanKnerr\",\"StefanManke\",\"StefanSchaal\",\"StefanoMonti\",\"SteffenPetersen\",\"SteliosM.Smimakis\",\"StellaX.Yu\",\"StephanLuna\",\"StephanPareigis\",\"StephaneCanu\",\"StephanieForrest\",\"StephanieSeneft\",\"StephenA.Fisher\",\"StephenChurcher\",\"StephenCox\",\"StephenG.Lisberger\",\"StephenGrossberg\",\"StephenHanson\",\"StephenJ.Hanson\",\"StephenJoseHanson\",\"StephenJudd\",\"StephenLane\",\"StephenM.Omohundro\",\"StephenOmohundro\",\"StephenP.DeWeerth\",\"StephenPiche\",\"StephenPickard\",\"SteveCttien\",\"SteveGyger\",\"SteveMims\",\"SteveRenals\",\"SteveWaterhouse\",\"StevenA.Harp\",\"StevenBradtke\",\"StevenE.Golowich\",\"StevenGold\",\"StevenJ.Bradtke\",\"StevenJ.Nowlan\",\"StevenNowlan\",\"StevenR.Skinner\",\"StevenS.Watkins\",\"StuartMackie\",\"SubutaiAhmad\",\"SugunaPappu\",\"SuguruArimoto\",\"SumioWatanabe\",\"SusanCiarroccaLee\",\"SusumuTachi\",\"SuthepMadarasmi\",\"SuzannaBecker\",\"SvenKoenig\",\"SvilenTzonev\",\"SylvieRenaud-LeMasson\",\"SylvieRyckebusch\",\"SylvieThiria\",\"T.D.Albright\",\"T.Darrell\",\"T.Delbruck\",\"T.Downs\",\"T.Duong\",\"T.Flash\",\"T.Furukawa\",\"T.G.Dietterich\",\"T.Geisel\",\"T.Hastie\",\"T.J.Sejnowski\",\"T.Jaakkola\",\"T.Jung\",\"T.Kailath\",\"T.Kanade\",\"T.Lin\",\"T.Maxwell\",\"T.Mitchell\",\"T.Morimoto\",\"T.Nakai\",\"T.Ohmi\",\"T.P.Allen\",\"T.Petsehe\",\"T.Rebotier\",\"T.Sabisch.\",\"T.Serrano-Gotarredona\",\"T.Shibata\",\"T.Xu\",\"T.Yamashita\",\"TadHogg\",\"TadahiroOhmi\",\"TadashiShibata\",\"TaiSingLee\",\"TakahiroWatanabe\",\"TakaoWatanabe\",\"TakashiOnoda\",\"TakeoYamashita\",\"TalGrossman\",\"TamarFlash\",\"TamilsLinder\",\"TanPhan\",\"TarigSamad\",\"TatsutoMurayama\",\"Te-WonLee\",\"TerenceD.Sanger\",\"TerenceSanger\",\"TerrenceFine\",\"TerrenceJ.Sejnowski\",\"TerrenceL.Fine\",\"TerrenceSejnowski\",\"Th.Sudbrak\",\"TheaB.Ghiselli-Crippa\",\"TheoGeisel\",\"TheodoreJ.Perkins\",\"TheresaLong\",\"ThiloT.Frieg\",\"ThomasA.Busey\",\"ThomasAnastasio\",\"ThomasBriegel\",\"ThomasBrown\",\"ThomasC.Ferree\",\"ThomasClare\",\"ThomasDietterich\",\"ThomasG.Dietterich\",\"ThomasG.Edwards\",\"ThomasH.Brown\",\"ThomasHofmann\",\"ThomasHolmann\",\"ThomasJ.Anastasio\",\"ThomasK.Landauer\",\"ThomasK.Miller\",\"ThomasKailath\",\"ThomasKepler\",\"ThomasP.Vogl\",\"ThomasPetsche\",\"ThomasR.Hancock\",\"ThomasR.Shultz\",\"ThomasRagg\",\"ThomasShultz\",\"ThoreGraepel\",\"ThorsteinnS.Rognvaldsson\",\"TiloSloboda\",\"TimA.Hely\",\"TimHoriuchi\",\"TimHunkapiller\",\"TimSmithers\",\"TimothyChiu\",\"TimothyHoriuchi\",\"TimothyK.Horiuchi\",\"TimothyS.Wilkinson\",\"TimothyW.Cacciatore\",\"TimothyX.Brown\",\"Ting-ChuenPong\",\"TobiDelbruck\",\"TobiasMann\",\"ToddK.Leen\",\"ToddLeen\",\"ToddS.Braver\",\"ToddSoukup\",\"ToddTroyer\",\"TomBrashers-Krug\",\"TomHeskes\",\"TomJ.Richardson\",\"TomM.Mitchell\",\"TomN.Todd\",\"TomOhira\",\"TomasLozano-Perez\",\"TomasoA.Poggio\",\"TomasoPoggio\",\"TomilsLozano-Perez\",\"TommiJaakkola\",\"TommiS.Jaakkola\",\"TonWeijters\",\"TongZhang\",\"ToniaG.Morris\",\"TonyA.Plate\",\"TonyJ.Prescott\",\"TonyJebara\",\"TonyPlate\",\"TonyRobinson\",\"TorstenZeppenfeld\",\"ToruOhira\",\"ToshiakiOkamoto\",\"ToshioInui\",\"ToshiteruHomma\",\"ToshiyukiTanaka\",\"TrentE.Lange\",\"TrevorDarrell\",\"TrevorHastie\",\"TrevorJ.Darrell\",\"TrevorMundel\",\"TroelsKjaer\",\"Tzi-DarChiueh\",\"TzioDarChiueh\",\"Tzu-puHsieh\",\"Tzyy-PingJung\",\"UdoFanst\",\"UlrichBodenhausen\",\"UpinderS.Bhalla\",\"UriRokni\",\"UrsA.Muller\",\"UryNaftaly\",\"UsamaFayyad\",\"UweHelmke\",\"V.A.Chulaevsky\",\"V.Bohossian\",\"V.I.Kryukov\",\"V.I.Makarenko\",\"V.Kadirkamanathan\",\"V.P.Roychowdhury\",\"V.Sundareswaran\",\"V.Tresp\",\"V.Vapnik\",\"ValentinoBraitenberg\",\"VanH.Vu\",\"VanHenkle\",\"VaskenBohossian\",\"VeikkoJousmaki\",\"VerenaHebler\",\"VicenteHonrubia\",\"VicenteIragui\",\"VictorAbrash\",\"VictorHu\",\"VictorW.Zue\",\"VictorZue\",\"VijayR.Konda\",\"VijaySamalam\",\"VijaykumarGullapalli\",\"ViktorGruev\",\"VirginiaL.Stonick\",\"VirginiaR.de-Sa\",\"VitalyMaiorov\",\"VladimirCherkassky\",\"VladimirN.Vapnik\",\"VladimirVapnik\",\"VolkerHansen\",\"VolkerRoth\",\"VolkerSteinhage\",\"VolkerTresp\",\"VolneiPedroni\",\"VolodyaVovk\",\"VwaniP.Roychowdhury\",\"VwaniRoychowdhury\",\"W.Bair\",\"W.Bialek\",\"W.E.Blanz\",\"W.E.Sullivan\",\"W.FritzKruger\",\"W.Gerstner\",\"W.H.Zaagman\",\"W.HarmonRay\",\"W.Hubbard\",\"W.Maass\",\"W.Miller\",\"W.N.Street\",\"W.Owen\",\"W.Porod\",\"W.R.Gardner\",\"W.R.Softky\",\"W.Ross\",\"W.ScottStornetta\",\"W.ThomasMiller\",\"W.ZevRymer\",\"W.Zhang\",\"WalterMetznet\",\"Wan-PingChiang\",\"Wee-KhengLeow\",\"WeeSunLee\",\"Wei-TsihLee\",\"WeiminLiu\",\"WesleyE.Snyder\",\"WesleySnyder\",\"WilfriedBrauer\",\"WilhamBialek\",\"WillardMiranker\",\"WilliamB.Levy\",\"WilliamBaxter\",\"WilliamBialek\",\"WilliamE.Skaggs\",\"WilliamE.Vinje\",\"WilliamFaller\",\"WilliamFinnoff\",\"WilliamP.Lincoln\",\"WilliamR.Softky\",\"WilliamSkaggs\",\"WilliamT.Freeman\",\"WilliamW.Cohen\",\"WilliamW.Lytton\",\"WilliamW.Streilein\",\"WilliamY.Huang\",\"WimWiegerinck\",\"WolfgangMaass\",\"WolframMenzel\",\"WulframGerstner\",\"WyethBair\",\"X.Wang\",\"XavierBoyen\",\"XavierGiannakopoulos\",\"XiaohuiXie\",\"XinWang\",\"XiruZhang\",\"XiuwenLiu\",\"XiwuLin\",\"XuboB.Song\",\"XuboSong\",\"Y.Abu-Mostafa\",\"Y.Bengio\",\"Y.C.Lee\",\"Y.C.Pati\",\"Y.Cboe\",\"Y.Konig\",\"Y.LeCun\",\"Y.Mansour\",\"Y.Matsuoka\",\"Y.Singer\",\"Y.Xie\",\"Y.Zhao\",\"YairWeiss\",\"YakWeiss\",\"YanFang\",\"YannLeCun\",\"YannickPouliot\",\"YannisTsividis\",\"YaserAbu-Mostafa\",\"YaserS.Abu-Mostafa\",\"YasuhamKoike\",\"YasuharuKioke\",\"YasuhiroWada\",\"Ye.I.Kovalenko\",\"YechezkelYeshurun\",\"Yee-ChunLee\",\"Yee-WhyeTeh\",\"YehudaSalu\",\"YeshwantK.Muthusamy\",\"YeshwantMuthusamy\",\"YiLi\",\"Ying-WungLee\",\"YingZhao\",\"YishayMansour\",\"Yiu-faiWong\",\"YoavFreund\",\"YochaiKonig\",\"YoichiHayashi\",\"YojiUno\",\"YongLiu\",\"YoramBaram\",\"YoramGdalyahu\",\"YoramSinger\",\"YosefRinott\",\"YoshihiroMori\",\"YoshioTakane\",\"YoshiroMiyata\",\"YoshiyukiKabashima\",\"YoshuaBengio\",\"Yu-MingChiang\",\"YuHe\",\"YuanshengXiong\",\"YuansongLiao\",\"YuedongWang\",\"YurikoOshima-Takane\",\"YuzoHirai\",\"YuzuruSato\",\"YvesBurnod\",\"YvesChauvin\",\"YvesGrandvalet\",\"YvesMoteau\",\"Z.Chi\",\"Z.Ghahramani\",\"ZacharyMainen\",\"ZeevOlami\",\"ZehraCataltepe\",\"ZhaopingLi\",\"ZhiyongYang\",\"ZiliLiu\",\"ZoeF.Butler\",\"ZoranObradovic\",\"ZoubinGhahramani\"],\"radii\":[0.1,0.1,0.1,0.1,0.1,0.7000000000000001,0.2,0.2,0.1,0.1,0.2,0.1,0.1,0.30000000000000004,0.2,0.1,0.4,0.1,0.1,0.1,0.1,0.1,0.1,0.1,0.1,0.1,0.6000000000000001,0.1,0.1,0.1,0.1,0.30000000000000004,0.1,0.2,0.2,0.1,0.1,0.1,0.1,0.1,0.1,0.1,0.1,0.1,0.1,0.2,0.1,0.2,0.1,0.2,0.1,0.1,0.1,0.1,0.1,0.1,0.1,0.1,0.2,0.1,0.30000000000000004,0.1,0.1,0.1,0.1,0.1,0.1,0.30000000000000004,0.2,0.2,0.1,0.1,0.30000000000000004,0.1,0.4,0.2,0.1,0.2,0.1,0.1,0.1,0.1,0.2,0.2,0.30000000000000004,0.2,0.1,0.1,0.1,0.30000000000000004,0.1,0.1,0.2,0.1,0.1,0.1,0.30000000000000004,0.1,0.4,0.1,0.5,0.1,0.30000000000000004,0.2,1.1,0.2,0.1,0.4,0.1,0.1,0.1,0.1,0.1,0.1,0.1,0.8,0.1,0.1,0.1,0.1,0.1,0.1,0.30000000000000004,0.2,0.1,0.2,0.2,0.1,0.1,0.2,0.1,0.2,0.30000000000000004,0.2,0.1,0.1,0.4,0.5,0.1,0.1,0.2,0.1,0.6000000000000001,0.1,0.1,0.2,0.1,0.1,0.1,0.2,0.1,0.1,0.1,0.1,0.1,0.2,0.9,0.1,0.1,0.1,0.30000000000000004,0.1,0.2,0.1,0.1,0.1,0.8,0.30000000000000004,0.2,0.1,0.1,0.1,0.1,0.1,0.1,0.2,0.1,0.30000000000000004,0.1,0.2,0.30000000000000004,0.1,0.2,0.1,0.1,0.1,0.1,0.1,0.1,0.1,0.1,0.1,0.1,0.1,0.1,0.2,0.1,0.1,0.1,0.1,0.1,0.1,0.1,0.1,0.1,0.1,0.2,0.1,0.1,0.1,0.1,0.1,0.1,0.2,0.1,0.1,0.1,0.1,0.1,0.1,0.1,0.1,0.1,0.1,0.1,0.1,0.1,0.1,0.1,0.1,0.4,0.1,0.1,0.30000000000000004,0.30000000000000004,0.2,0.1,0.1,0.1,0.2,0.1,0.1,0.7000000000000001,0.1,0.2,0.1,0.1,0.2,0.30000000000000004,0.1,0.1,0.1,0.2,0.1,0.1,0.1,0.1,0.2,0.9,0.30000000000000004,0.2,0.1,0.1,0.1,0.6000000000000001,0.1,0.4,0.1,0.2,0.1,0.1,0.1,0.2,0.1,0.1,0.1,0.1,0.1,0.2,0.4,0.1,0.1,0.1,0.1,0.1,0.1,0.1,0.1,0.1,0.1,0.1,0.2,0.1,0.2,0.1,0.1,0.1,0.2,0.1,0.1,0.1,0.1,0.1,0.1,0.1,0.1,0.1,0.1,0.1,0.1,0.1,0.2,0.1,0.1,0.30000000000000004,0.1,0.2,0.1,0.9,0.1,0.2,0.1,0.1,0.2,0.1,0.1,0.1,0.1,0.2,0.1,0.1,0.1,0.2,0.1,0.1,0.1,0.30000000000000004,0.1,0.1,0.1,0.1,0.1,0.1,0.1,0.2,0.1,0.1,0.1,0.1,0.1,0.30000000000000004,0.2,0.1,0.1,0.1,0.1,0.1,0.30000000000000004,0.1,0.1,0.1,0.1,0.1,0.2,0.2,0.2,0.2,0.1,0.2,0.1,0.2,2.4000000000000004,0.1,0.2,0.2,0.1,0.1,0.1,0.1,0.1,0.1,0.1,0.1,0.7000000000000001,0.30000000000000004,0.1,0.1,0.1,1.0,0.2,0.7000000000000001,0.1,0.1,0.4,0.2,0.1,0.1,0.1,0.2,0.1,0.1,0.5,0.1,0.1,0.1,0.1,0.1,0.1,0.1,0.2,0.1,0.2,0.1,0.2,0.1,0.1,0.1,0.1,0.1,0.1,0.1,0.2,0.1,0.1,0.1,0.1,0.1,0.4,0.1,0.1,0.1,0.1,0.1,0.2,0.1,0.1,0.1,0.1,0.1,0.2,0.1,0.2,0.1,0.2,0.1,0.1,0.1,0.2,0.1,0.1,0.1,0.2,0.4,0.1,0.1,0.1,0.5,0.1,0.1,0.1,0.2,0.1,0.1,0.4,0.2,0.30000000000000004,0.1,0.1,0.2,0.1,0.1,0.1,0.5,0.1,0.30000000000000004,0.1,0.1,0.1,0.1,0.30000000000000004,0.30000000000000004,0.1,0.1,0.1,0.1,0.1,0.2,0.1,0.1,0.8,0.1,0.1,0.1,0.4,0.30000000000000004,0.2,0.1,0.1,0.1,0.1,0.7000000000000001,0.1,0.1,0.2,0.2,0.1,0.4,0.1,0.7000000000000001,0.2,0.5,0.2,0.1,0.1,0.1,0.1,0.1,0.1,0.1,0.1,0.1,0.2,0.1,0.1,0.1,0.30000000000000004,0.30000000000000004,0.5,0.9,0.1,0.30000000000000004,0.1,0.1,0.1,0.1,0.1,0.1,0.30000000000000004,0.1,0.1,0.1,0.2,0.1,0.1,0.1,0.30000000000000004,0.1,0.4,0.1,0.2,0.1,0.1,0.1,0.1,0.2,0.1,0.1,0.1,0.1,0.1,0.1,0.1,0.2,0.1,0.1,0.1,0.1,0.1,0.2,0.1,0.30000000000000004,0.1,0.1,0.1,0.2,0.1,0.1,0.1,0.1,0.1,0.1,0.1,0.1,0.1,0.1,0.1,0.1,0.1,0.1,0.1,0.2,0.1,0.1,0.1,0.1,0.1,0.2,0.1,0.1,0.1,0.1,0.1,0.1,0.1,0.1,0.1,0.1,0.1,0.1,0.1,0.1,0.1,0.30000000000000004,0.1,0.1,0.1,0.1,0.1,0.1,0.1,0.1,0.1,0.5,0.2,0.1,0.2,0.1,0.1,0.1,0.1,0.1,0.2,0.1,0.1,0.1,0.2,0.1,0.1,0.1,0.1,0.1,0.2,0.2,0.30000000000000004,0.1,0.1,0.2,0.1,0.1,0.1,0.1,0.1,0.2,0.1,0.1,0.9,0.1,0.1,0.1,0.1,0.4,0.1,0.1,0.1,0.1,0.4,0.1,0.1,0.2,0.1,0.2,0.1,0.1,0.1,0.1,0.30000000000000004,0.1,0.1,0.1,1.1,0.1,0.1,0.1,0.2,0.1,0.1,0.1,0.1,0.1,0.1,0.1,0.1,0.2,0.1,0.1,0.1,0.1,0.1,0.4,0.1,0.1,0.1,0.1,0.1,0.2,0.1,0.5,0.1,0.1,0.1,0.1,0.1,0.1,0.1,0.2,0.1,0.1,0.1,0.1,0.1,0.1,0.1,0.1,0.1,0.1,0.1,0.2,0.1,0.1,0.1,0.1,0.1,0.1,0.1,0.1,0.1,0.1,0.1,0.1,0.1,0.1,0.1,0.2,0.1,0.1,0.2,0.2,0.1,0.1,0.30000000000000004,0.6000000000000001,0.1,0.1,0.1,0.1,0.1,0.1,0.2,0.1,0.1,0.1,0.2,0.4,0.1,1.6,0.1,0.1,0.6000000000000001,0.30000000000000004,0.1,0.30000000000000004,0.1,0.30000000000000004,0.1,0.1,0.1,0.1,0.1,0.8,0.1,0.2,0.1,0.2,0.2,0.1,0.6000000000000001,0.1,0.1,0.1,0.1,0.1,0.1,0.1,0.1,0.1,0.1,0.1,0.1,0.30000000000000004,0.1,0.2,0.1,0.1,0.1,0.30000000000000004,0.1,0.1,0.4,0.1,0.4,0.1,0.4,0.30000000000000004,0.1,0.1,0.1,0.1,0.1,0.1,0.2,0.1,0.1,0.1,0.1,0.2,0.1,0.1,0.2,0.1,0.1,0.1,0.2,0.1,0.1,0.4,0.1,0.2,0.1,0.1,0.7000000000000001,0.1,0.1,0.1,0.1,0.1,0.1,0.2,0.4,0.1,0.30000000000000004,0.1,0.2,0.2,0.1,0.1,0.2,0.1,0.2,0.30000000000000004,0.1,0.1,0.1,0.1,0.1,0.1,0.1,0.1,0.2,0.1,0.2,0.2,0.1,0.1,0.1,0.2,0.2,0.1,0.1,0.1,0.1,0.1,0.1,0.1,0.1,0.1,0.1,0.2,0.1,0.30000000000000004,0.1,0.1,0.1,0.1,0.1,0.1,0.2,0.1,0.1,0.1,0.1,0.1,0.1,0.1,0.2,0.1,0.1,0.2,0.1,0.1,0.2,0.30000000000000004,0.1,0.1,0.4,0.1,0.1,0.4,0.1,0.1,0.1,0.1,0.1,0.1,0.1,0.1,0.5,0.1,0.1,0.1,0.1,0.2,0.2,0.1,0.2,0.1,0.1,0.1,0.1,0.1,0.1,0.2,0.6000000000000001,0.2,0.2,0.1,0.1,0.1,0.1,0.2,0.2,0.1,0.1,0.1,0.1,0.1,0.1,0.1,0.1,0.1,0.2,0.1,0.1,0.1,0.2,0.30000000000000004,0.1,0.1,0.1,0.1,0.1,0.1,0.1,0.1,0.1,0.1,0.1,0.1,0.1,0.2,0.2,0.2,0.2,0.1,0.1,0.1,0.1,0.30000000000000004,0.1,0.1,0.1,0.1,0.1,0.1,0.1,0.1,0.1,0.30000000000000004,0.1,0.2,0.1,0.1,0.1,0.1,0.6000000000000001,0.1,0.1,0.1,0.1,0.1,0.1,0.1,0.2,0.1,0.1,0.1,0.1,0.1,0.1,0.1,0.2,0.1,0.1,0.1,0.1,0.1,0.1,0.2,0.1,0.2,0.1,0.1,0.1,0.1,0.1,0.1,0.1,0.4,1.0,0.2,0.1,0.1,0.1,0.1,0.1,0.1,0.1,0.1,0.1,0.1,0.2,0.2,0.1,0.1,0.1,0.6000000000000001,0.1,0.1,0.1,0.2,0.30000000000000004,0.5,0.1,0.1,0.1,0.1,0.1,0.1,0.2,0.1,0.1,0.1,0.1,0.1,0.1,0.1,0.1,0.1,0.2,0.1,0.1,0.30000000000000004,0.1,0.1,0.1,0.1,0.1,0.1,0.30000000000000004,0.2,0.1,0.1,0.1,0.1,0.1,0.1,0.1,0.1,0.1,0.1,0.1,0.1,0.2,0.1,0.1,0.30000000000000004,0.1,0.1,0.6000000000000001,0.30000000000000004,0.30000000000000004,0.2,0.1,0.4,0.1,0.1,0.1,0.1,0.30000000000000004,0.1,0.1,0.1,0.1,0.1,0.2,0.9,0.1,0.1,0.2,0.1,0.8,0.30000000000000004,0.1,0.1,0.6000000000000001,0.1,0.1,0.1,0.1,0.1,0.30000000000000004,0.2,0.1,0.1,0.1,0.1,0.1,0.1,0.1,0.4,0.1,0.2,0.6000000000000001,0.4,0.1,0.1,0.2,0.2,0.1,0.2,0.30000000000000004,0.6000000000000001,0.1,0.7000000000000001,0.1,0.2,0.2,0.1,0.1,0.1,0.2,0.30000000000000004,0.2,0.1,0.1,0.30000000000000004,0.1,0.30000000000000004,0.2,0.1,0.1,0.1,0.4,0.2,0.1,0.2,0.1,0.1,0.1,0.1,0.1,0.1,0.1,0.1,0.1,0.4,0.1,0.2,0.1,0.4,0.4,0.1,0.1,0.1,0.1,0.2,0.2,0.1,0.2,0.1,0.1,0.1,0.1,0.1,0.1,0.5,0.1,0.1,0.1,0.30000000000000004,0.1,0.1,0.1,0.2,0.1,0.1,0.1,0.1,0.1,0.1,0.30000000000000004,0.1,0.1,0.30000000000000004,0.1,0.1,0.2,0.1,0.1,0.1,0.1,0.1,0.4,0.1,0.1,0.1,0.1,0.1,0.1,0.1,0.1,0.1,0.1,0.1,0.1,0.1,0.1,0.1,0.1,0.1,0.5,0.1,0.1,0.2,0.2,0.1,0.1,0.1,0.1,0.1,0.2,0.1,0.1,0.1,0.1,0.1,0.1,0.1,0.1,0.1,0.1,0.1,0.1,0.2,0.1,0.4,0.8,0.2,0.1,0.1,0.1,0.2,0.1,0.1,0.1,0.1,0.1,0.1,0.1,0.1,0.2,0.1,0.2,0.1,0.1,0.1,0.1,0.1,0.1,0.1,0.4,0.4,0.1,0.2,0.1,0.1,0.1,0.1,0.1,0.1,0.1,0.1,0.1,0.1,0.1,0.1,0.1,0.1,0.30000000000000004,0.1,0.1,0.1,0.1,0.1,0.1,0.2,0.1,0.1,0.30000000000000004,0.30000000000000004,0.1,0.1,0.1,0.30000000000000004,0.30000000000000004,0.30000000000000004,0.30000000000000004,0.1,0.1,0.1,0.1,0.2,0.30000000000000004,0.1,0.1,0.1,0.1,0.1,0.30000000000000004,0.1,0.1,0.1,0.30000000000000004,0.30000000000000004,0.2,0.1,0.1,0.1,0.2,0.1,0.1,0.1,0.1,0.1,0.1,0.1,0.1,0.1,0.1,0.1,0.1,0.1,0.1,0.1,0.1,0.1,0.1,0.1,0.1,0.1,0.5,0.1,0.1,0.1,0.1,0.2,0.1,0.1,0.1,0.1,0.1,0.1,0.1,0.1,0.1,0.1,0.1,0.1,0.1,0.1,0.1,0.1,0.1,0.1,0.2,0.1,0.1,0.1,0.2,0.4,0.1,0.30000000000000004,0.1,0.2,0.1,0.1,0.4,0.7000000000000001,0.30000000000000004,0.1,0.1,0.1,0.1,0.1,0.1,0.1,0.1,0.1,0.30000000000000004,0.1,0.1,0.1,0.1,0.1,0.30000000000000004,0.1,0.2,0.1,0.1,0.2,0.1,0.1,0.1,0.1,0.4,0.2,0.1,0.30000000000000004,0.1,0.1,0.1,0.1,0.30000000000000004,0.2,0.1,0.1,0.1,0.1,0.1,0.1,0.1,0.1,0.1,0.1,0.1,0.1,0.1,0.1,0.1,0.1,0.1,0.1,0.1,0.1,0.1,0.1,0.1,0.2,0.1,0.1,0.1,0.1,0.30000000000000004,0.1,0.30000000000000004,0.1,0.1,0.1,0.1,0.1,0.1,0.1,0.1,0.2,0.1,0.1,0.1,0.1,0.30000000000000004,0.1,0.1,0.1,0.2,0.1,0.1,0.1,0.1,0.1,0.1,0.1,0.1,0.1,0.2,0.2,0.1,0.1,0.1,0.1,0.1,0.2,0.1,0.1,1.8,0.1,0.30000000000000004,0.30000000000000004,0.1,0.1,0.1,0.30000000000000004,0.2,0.1,0.2,0.1,0.1,0.1,0.1,0.1,2.1,0.1,0.1,0.1,0.1,0.1,0.2,0.5,0.1,0.1,0.1,0.2,0.1,0.30000000000000004,0.1,0.2,0.1,0.2,0.1,0.1,0.1,0.2,0.1,0.1,0.1,0.2,0.6000000000000001,0.1,0.2,0.1,0.1,0.1,0.1,0.1,0.1,0.1,0.2,0.1,0.1,0.2,0.1,0.1,0.1,0.1,0.1,0.1,0.1,0.1,0.1,0.1,0.1,0.1,0.1,0.1,1.0,0.1,0.1,0.1,0.1,0.1,0.1,0.2,0.1,0.1,0.2,0.1,0.1,0.1,0.1,0.1,0.1,0.4,0.1,0.2,0.1,0.1,0.1,1.0,0.2,0.1,0.1,0.2,0.1,0.1,0.5,0.1,0.2,0.1,0.30000000000000004,0.5,0.2,0.1,0.1,0.1,0.1,0.1,0.1,0.1,0.1,0.1,0.1,0.4,0.1,0.1,0.1,0.1,0.1,0.2,0.2,0.2,0.1,0.1,0.1,0.2,0.2,0.1,0.1,0.30000000000000004,0.1,0.1,0.1,0.1,0.2,0.1,0.2,0.1,0.1,0.1,0.2,0.4,0.1,0.1,0.2,0.1,0.2,0.1,0.2,0.1,0.30000000000000004,0.1,0.1,0.1,0.1,0.2,0.1,0.1,0.1,0.1,0.1,0.1,0.1,0.1,0.1,0.1,0.1,0.1,0.1,0.1,0.1,0.1,0.1,0.7000000000000001,0.1,0.1,0.30000000000000004,0.1,0.1,0.1,0.1,0.1,0.8,0.4,0.1,0.1,0.2,0.1,0.2,0.5,0.1,0.1,0.1,0.1,0.1,0.30000000000000004,0.1,0.2,0.2,0.1,0.1,0.1,0.1,0.1,0.1,0.30000000000000004,0.5,0.1,0.1,0.2,0.1,0.6000000000000001,0.1,0.1,0.1,0.1,0.1,0.2,0.6000000000000001,0.1,0.1,1.6,0.1,0.1,0.1,0.1,0.1,0.1,0.2,0.1,0.1,0.1,0.1,0.1,0.8,0.2,0.1,0.2,0.2,0.1,0.1,0.1,0.1,0.1,0.1,0.1,0.1,0.7000000000000001,0.1,0.1,0.1,0.1,0.1,0.1,0.1,0.1,0.1,0.1,0.1,0.1,0.2,0.1,0.1,0.1,0.1,0.1,0.1,0.30000000000000004,0.1,0.1,0.1,0.1,0.1,0.1,0.1,0.1,0.1,0.1,0.1,0.1,0.1,0.1,0.1,0.1,0.30000000000000004,0.1,0.1,0.1,0.1,0.1,0.1,0.1,0.1,0.2,0.1,0.1,0.1,0.1,0.2,0.1,0.1,0.1,0.1,0.1,0.1,0.1,0.1,0.1,0.30000000000000004,0.1,0.2,0.1,0.30000000000000004,0.30000000000000004,0.1,0.6000000000000001,0.1,0.1,0.1,0.1,0.1,0.2,0.1,0.2,0.1,0.1,0.1,0.1,0.1,0.1,0.1,0.2,0.1,0.1,0.1,0.1,0.1,0.1,0.1,0.2,0.30000000000000004,0.1,0.4,0.1,0.1,0.1,0.1,0.1,0.2,0.1,0.2,0.1,0.1,0.1,0.1,0.1,0.1,0.1,0.1,0.1,0.1,0.1,0.1,0.30000000000000004,0.1,0.2,0.1,0.9,0.30000000000000004,0.5,1.0,0.2,0.1,0.1,0.1,0.2,0.1,0.30000000000000004,0.1,0.1,0.2,0.2,0.2,0.1,0.1,0.1,0.4,0.1,0.1,0.1,0.1,0.2,0.1,0.1,0.1,0.30000000000000004,0.1,0.1,0.1,0.2,0.1,0.1,0.2,0.2,0.1,0.1,0.1,0.2,0.30000000000000004,0.2,0.6000000000000001,0.1,0.1,0.1,0.1,0.1,0.30000000000000004,0.1,0.4,0.1,0.1,0.2,0.1,0.2,0.1,0.1,0.1,0.2,0.1,0.1,0.1,0.4,0.2,0.1,0.1,0.30000000000000004,0.1,0.1,0.1,0.1,0.1,0.1,0.30000000000000004,0.2,0.2,0.1,0.1,0.2,0.2,0.2,0.1,0.1,0.1,0.1,0.1,0.1,0.1,0.2,0.1,0.1,0.1,0.1,0.1,0.1,0.1,0.1,0.1,0.1,0.2,0.1,0.1,0.1,0.1,0.1,0.1,0.30000000000000004,0.1,0.1,0.1,0.1,0.1,0.1,0.1,0.1,0.1,0.1,0.1,0.1,0.30000000000000004,0.1,0.1,0.30000000000000004,0.1,0.1,0.1,0.1,0.30000000000000004,0.2,0.30000000000000004,0.2,0.6000000000000001,1.0,0.1,0.1,0.1,0.1,0.1,0.1,0.1,0.1,0.1,0.1,0.2,0.1,0.1,0.1,0.1,0.2,0.30000000000000004,0.1,0.1,0.6000000000000001,0.1,0.1,0.1,0.30000000000000004,0.1,0.1,0.1,0.1,0.1,0.1,0.1,0.2,0.1,0.1,0.1,0.2,0.2,0.1,0.1,0.1,0.1,0.1,0.30000000000000004,0.30000000000000004,0.2,0.1,0.1,0.1,0.1,0.1,0.2,0.6000000000000001,0.7000000000000001,0.1,0.1,0.1,0.2,0.1,0.1,0.1,0.1,0.1,0.30000000000000004,0.2,0.2,0.1,0.30000000000000004,0.2,0.1,0.1,0.1,0.1,0.30000000000000004,0.1,0.1,0.1,0.1,0.1,0.2,0.1,0.1,0.1,0.1,0.1,0.1,0.1,0.2,0.1,0.1,0.2,0.2,0.1,0.30000000000000004,0.30000000000000004,0.5,0.1,0.1,0.1,0.1,0.1,0.2,0.1,0.1,0.1,0.1,0.4,0.1,0.6000000000000001,0.2,0.1,0.1,0.1,0.8,0.1,0.1,0.30000000000000004,0.1,0.1,0.1,0.5,0.1,0.1,0.1,0.2,0.1,0.1,0.1,0.1,0.1,0.1,0.1,0.1,0.1,0.1,0.1,1.1,0.1,0.2,0.30000000000000004,0.1,0.1,0.1,0.1,0.1,0.1,0.1,0.1,0.1,0.1,0.1,0.1,0.1,0.1,0.1,0.1,0.1,0.1,0.1,0.2,0.1,0.2,0.1,0.30000000000000004,0.1,0.2,0.1,0.1,0.1,0.30000000000000004,0.5,0.2,0.1,3.1,0.30000000000000004,0.1,0.1,0.2,0.2,0.1,0.1,0.1,0.1,0.1,0.30000000000000004,0.1,0.1,0.1,0.1,0.30000000000000004,0.1,0.2,0.4,0.1,0.2,0.1,0.1,0.30000000000000004,0.1,0.1,0.30000000000000004,0.1,0.1,0.1,0.1,0.30000000000000004,0.1,0.1,0.1,0.1,0.1,0.1,0.1,0.30000000000000004,0.1,0.1,0.1,0.30000000000000004,0.1,0.1,0.1,1.0,0.1,0.1,0.1,0.2,0.2,0.30000000000000004,0.1,0.1,0.1,0.1,0.1,0.1,0.4,0.1,0.6000000000000001,0.1,0.1,0.1,0.1,0.2,0.1,0.30000000000000004,0.1,0.2,0.1,0.1,0.1,0.1,0.1,0.1,0.2,0.30000000000000004,0.4,0.1,0.1,0.1,0.1,0.1,0.1,0.2,0.1,0.1,0.1,0.1,0.1,0.1,0.1,0.1,0.1,0.1,0.2,0.1,0.2,0.2,0.1,0.2,0.30000000000000004,0.1,0.1,0.2,0.1,0.1,0.1,0.1,0.1,0.2,0.1,0.1,0.2,0.1,0.1,0.2,0.1,0.1,0.4,0.2,0.1,0.30000000000000004,0.4,0.1,0.1,0.1,1.3,0.1,0.1,0.1,0.2,0.1,0.1,0.1,0.1,0.1,0.1,0.1,0.1,0.30000000000000004,0.1,0.1,0.1,0.1,0.1,0.1,0.1,0.1,0.1,0.1,0.1,0.1,0.1,0.1,0.1,0.1,0.2,0.1,0.2,0.1,0.1,0.30000000000000004,0.1,0.1,0.1,0.4,0.1,0.1,0.1,0.2,0.1,0.1,0.1,0.5,0.1,0.1,0.1,0.2,0.1,0.8,0.1,0.30000000000000004,0.4,0.1,0.1,0.1,0.1,0.1,0.1,0.1,0.1,0.1,0.1,0.1,0.2,0.5,0.1,0.1,0.1,0.2,0.1,0.1,0.1,0.1,0.1,0.2,0.1,0.1,1.1,0.1,0.1,0.5,0.30000000000000004,0.1,0.1,0.1,0.1,0.1,0.2,0.1,0.1,0.1,0.1,0.1,0.1,0.30000000000000004,0.30000000000000004,0.1,0.2,0.1,0.1,0.2,0.2,0.2,0.2,0.8,0.1,0.2,0.1,0.1,0.2,1.4000000000000001,0.1,0.1,0.1,0.1,0.1,0.1,0.1,0.1,0.1,0.6000000000000001,0.1,0.1,0.1,0.1,0.1,0.1,0.1,0.6000000000000001,0.1,0.2,0.1,0.1,1.1],\"x\":[-6.254462840719722,-5.042824932040615,-15.738051473646362,-2.235457991335142,8.750166552649853,4.17193612074427,2.6135349451164664,-2.7711139053034834,7.65067893781881,-4.879758161258029,0.5117304574199839,1.0531468090574732,-5.558238695169411,4.838211940135479,-11.97384930823821,13.294686959322265,-12.384925733209782,-10.999203945645352,6.070595775415168,4.007797420583781,7.314859432870473,2.9619941856017595,14.92123065734274,-3.5294727710212435,-7.514282840581186,-1.1808322476438513,0.16035533147724793,-6.826619380295945,10.382223699701914,1.0206640125306183,10.228555002637735,6.070723296594928,-2.94296209441145,4.856715420765085,2.7921819892242907,11.23968300428511,0.6004419186371978,12.763495240196171,-5.947582967969884,-0.7897249864971928,-8.106696225603573,-9.689704809142915,8.483090132291093,-9.967260005494898,-3.018061703956077,-12.107895710967473,-0.5931551559245832,4.308389287367967,-12.391354327919641,6.024504904280867,6.1029995504646,7.7463461507236335,-8.961999449886548,4.74230277569172,9.747913034937843,1.4658424282373226,0.5626461898541355,0.7577818731663607,-16.16356765089244,-10.19200882424303,11.639399655314138,-2.87151234239681,2.8013622470555744,7.08223370931349,-9.003145334347579,4.5823542472096275,0.22350336222465636,7.807480592211954,1.7657172038416649,-9.578734033626011,-4.2909801521150275,-4.583568516321065,9.77433039136498,1.7710243876555385,14.916999308369137,-15.492977284591166,6.9625718634006235,-12.834302382176308,5.972043741294121,10.913260064675015,10.84612664814268,4.444876399314185,9.545842644521581,-8.299671175865836,-12.387304753635574,4.7271851300823835,7.736300131980618,6.649805995063654,-6.739738089295979,12.759686840351787,1.2533602036678193,-2.3754547654126115,7.593844879980758,-9.925118492498319,-9.630677267222206,2.573222914038015,15.390017028710393,-11.661522550927938,10.986386910025864,0.18225214537596715,2.1352518321867375,-2.308152385787457,9.536418967859149,5.503970746731714,0.08519218201365009,4.264853495900044,-7.1770036940580955,10.468540881907325,-4.36371819244213,2.1579522672850624,-7.590029282761854,-10.050135583215717,-14.449976899881554,4.520358289066353,-4.02008590759182,5.905008745387656,-8.473016890607882,-6.994215226778874,-7.255625622831194,0.8036659929820754,-3.1788203990817396,2.1562054013439287,-11.949285565929708,-13.454929583418515,11.130263403748065,-2.3350930572810165,-12.834608028675651,13.03470239287982,-8.979540029171103,1.941553655677447,-8.734223850056969,-1.0587242103287788,-17.21702410953406,-1.5296667342644736,-10.483566793196637,4.398139304610901,4.922798080796182,4.216920984563521,-0.03785989642399917,-12.200345374915154,-12.494699307180476,5.231466797550616,-13.992656368840745,-4.790381406474975,-13.132474634421005,5.5312490323576515,-6.923635261353213,5.187757822738415,-2.035794866366259,-3.871789127741255,2.9513792952756397,-4.938019558158763,10.771206367139648,8.418276853949566,-8.165275418180292,0.14643382983792932,-11.850284641449448,-3.7794315090789987,-3.765237575973195,10.801309439484644,-3.0162598339149858,-3.9413981101360878,-6.922250274853795,-8.429299531138192,4.294682812324199,-7.443450698497374,-11.799184595709244,-0.8891192179214474,-13.524759341439173,-4.715280245157622,-7.184832378036252,-7.048773716253164,-9.92609291530979,-4.836265031133712,10.803477253056405,-1.1123308612328464,10.453086867583803,3.973346134730936,7.931459128056495,-8.594261052113634,6.089873705466349,-7.630076832364119,-17.051720227472696,-8.933670580227435,-10.454828076606198,0.772044425323668,-12.9940401716019,9.847500588587907,-3.2174874906280655,-3.9407464093519944,-0.8187756618105333,-6.532673889243448,7.1872750896541575,-9.635734485477629,12.457103732165372,7.645372180121855,9.923956258225319,4.785037324548847,9.739566750783423,-10.071977100272223,-2.038447915893571,-2.96478311284022,5.5888636980182245,-4.363320736468537,-9.7270079560776,-5.782361491404567,-3.8746695512021483,-2.225773767199238,0.2973254055547827,12.003130743130027,6.215999497797754,1.6500778482422642,1.6207542475557932,4.524082486925075,0.9824088093537746,10.853711845444742,7.396368762893995,5.525646093972006,11.363673996632167,5.741668406919873,-3.3387293540315204,7.302992824466174,6.963806843155429,2.947029767125965,5.992661728409102,-9.533397772641315,3.579290573124418,2.7476057798394677,10.514419523354979,-0.1870055695478567,4.1558236304378795,-2.0639411430912555,-4.6756637784794215,-4.887440434288977,4.304399255270272,4.541146330447878,7.567949513904393,8.20767618033554,-3.7279072247895666,-11.125320732685152,-2.7586357847977956,-4.170577657836881,-17.385728360937218,12.020209327163922,3.152815087987319,-7.660336090247231,8.490829382219822,2.047590197736051,-0.8691254354783723,8.785939108509394,-0.5934974579257114,10.327452116238744,-2.422741406205555,11.997761546168471,-1.7781742564446652,11.872476273169285,-6.230479990016874,0.8402745403761617,12.006599119307896,4.699351913000929,12.102168921571279,-8.139537638899407,2.3726100961397436,0.22881940814194945,-14.071315225184403,1.2815702766210548,15.229160255844198,-7.232151545191141,-6.965030059079945,0.0026585360953850024,7.367754431985052,1.3662730311456168,-11.224357666052006,13.331853015183956,10.82259772849114,1.7878584626045249,5.593711748492572,-10.535548938010146,-15.25855239412029,3.664067049499473,13.190034722281121,2.1238287258966744,13.060967099348051,-7.239711974959506,-13.57872845986605,5.191116964110042,-8.669430383911376,-6.243039690003189,3.69812361078508,4.202630231274384,-0.7543249402351263,-3.723580284668513,15.23641904680478,-3.441828600894972,6.651596977825093,10.303127548470307,5.541191156973733,-11.904937126665219,0.8276108656575638,7.707432530563099,-1.4885611250656146,-9.240289243682595,-4.853444764863351,12.727114082100398,5.158369466446856,-7.419430830743349,-6.920317255513261,10.302140657620924,3.6133795133013935,-9.650139189091679,5.738837218261437,4.274251569455021,-3.024423449380979,0.39176230509385307,-16.07614976889402,3.34677352507687,13.168505613532806,1.2779058040411988,16.056370687005746,5.560648869375296,-12.505208888318082,4.34756696992562,8.055180773563883,-16.184544863717463,-3.8686298603901057,7.659403471054734,1.7229631186917707,3.249326535697176,4.305668895085189,1.7803719950096468,-5.376418099563794,-12.902408617990995,-15.571786932348415,11.515179264205749,-0.4182564567457279,-8.056272710454484,-12.090251922260514,-6.246256823281956,12.488887541826287,-3.433611879496182,0.9694517486286794,5.569092314024601,11.268562697657929,11.400263763661467,5.694130084438737,-7.071553109660118,-10.513201416243401,13.603320491080387,-9.238297284106325,0.31832387975610654,10.750059365491941,-6.6861482473451215,-9.410977959890866,1.0703483011408335,1.6872722625937628,-5.704879608263035,-12.965793339909423,-17.135423015243536,-9.881663385810285,0.5014461327337355,13.550977232621833,7.194630042275773,-1.7960335754376315,9.28676688966888,3.9934580653644636,10.525774236776055,5.490474461770777,13.39885538056529,4.266570283846061,-8.315927285536269,-12.757710732044865,-17.557661422405644,-3.8264856100817415,-0.4629350766316893,-16.461180056262496,10.49796019367555,4.881216747628226,0.7029422425241215,13.0888225951293,4.486680903030478,-13.049891976904185,2.800005490112637,11.289867171040603,-11.81718482008587,10.526357266734406,-9.846675998738212,4.237696764099736,8.245765867732565,4.709230619999077,-11.925593271325901,4.7014641246183615,2.052985238638472,12.829610684813874,7.356774220816199,3.2678006665603285,-5.510078988613613,5.795236502932281,-7.039897873701051,-12.686661881567856,1.3325932917129608,12.856572585733677,-1.8019390980588301,14.902960010121852,10.71722580684938,-7.492504218320834,-10.800904714934578,4.8005370587273095,10.895888316640162,-5.80791314016754,7.155154740686398,7.292756426582624,-7.198078039999629,0.15683948409090345,-11.909879362070729,9.998514863401056,-12.89624788094961,4.0343090767771725,-4.944944259339598,5.423057471707707,-9.961699767731407,-3.452009579942256,12.873905069460506,-11.000604745474577,7.02102156585749,-3.914119116101883,-6.910416080777003,0.9037890378138242,-0.5230332834839813,5.364102879250147,-7.53007594443113,11.37704959538551,-6.950814330691445,-9.221741689089763,-0.8385000262541233,-3.0795114889123214,-3.5047726909007717,5.337863525565269,4.133407919312746,9.71164670335914,-4.946157541033395,-4.705901399824979,4.497492117286481,-5.550567831227598,7.677971322812242,1.5903072079724945,3.8637700933365866,4.520289448052521,-2.645650513454199,-0.17060765076738088,7.193023655661938,1.859504437492671,9.16119628203753,4.93962172866503,9.689408485368494,12.842198246440065,-7.84244571414256,3.932495275615617,-7.344315120043032,-7.9344075307254425,11.333988518902142,-4.714998107581811,-13.485214679066898,9.665476882006237,5.479487682843283,-11.949488954290459,4.851026731290624,0.025439146197818157,7.764022509212246,-5.083618926143107,11.56466277816371,-7.504015264015959,3.389221809667678,5.203626877460462,-7.08947380232982,-13.475286048056924,1.7936653824011495,9.376926422003292,5.244839934883248,-1.6769051213407822,2.793772668307712,-11.769504380094924,-2.1015780873517023,3.5875542267619656,-3.1995319899865184,3.164538066407435,1.6765944100385717,-11.26834880787918,-3.9262204258252136,7.307702349867255,4.720808055383412,11.29050445089856,-1.5222978397366735,0.8990638987668201,-0.9033245390773238,10.518799538366338,-4.411263327917572,-3.9198248646216998,-9.491682997476902,-0.9089401858298697,-6.38699599365721,15.824307301442621,3.08822495737932,10.673000804202342,-12.69970453564721,4.116995202861128,-4.992174567049303,10.53244069727427,1.1870492972754008,-14.528265078535318,2.6574025645145762,4.134532619662893,9.41302571791437,-5.62269408967439,3.897202287757013,10.942163186799492,-7.838659533862266,10.980931731645844,7.820340824212635,5.637301460995162,-2.319716545893775,-7.370594186995901,5.131968214113617,8.338645138898405,-2.4198484849205215,7.577721963005108,-1.9099319636716305,-13.027128106992784,16.108150340380888,4.724206456539521,1.7395977406289937,15.146605220960362,6.972056176110982,-9.77765975478032,-0.48011777103259584,-16.48643894978525,-6.561200207625789,12.473831983651642,6.519229668873457,5.627753816064447,-10.481235744897067,-0.6138015811904437,9.150067974883179,10.376294745904882,4.144594976422327,-15.411694846452244,-12.518260183590513,-6.662359183626724,-2.041637034878424,-8.263425878950619,-1.6370141170418306,9.93822809360067,9.927936258463113,12.45195375941767,5.50026394580812,4.943354358271242,1.1176117999766224,7.6258234497063615,-4.3637634214856895,8.661111275148329,5.588159323331202,9.92742288163033,-3.3901005277668044,1.2575987747395292,1.947527038819149,4.682036827866032,7.687565843684441,12.354560529076783,2.6345969831955345,-17.134491834707415,-8.464650511555801,-12.746187352071274,11.017954597796077,5.137418729492347,12.89965929875674,5.695497885536407,2.3751365737047,-2.8628255585256692,9.993319860552202,2.4549509705000707,7.383519969090335,-1.3585719241075005,5.369082487620506,0.603717927274555,1.2649848730615463,-2.3587809027405457,0.8148243624827096,10.00695720655583,13.643328162314601,-1.6993781039477167,-4.281230883882889,6.310607997191563,-3.906692011209345,-11.754433431241276,-0.3253328187264528,-7.103722770013341,-10.183643134830609,1.270376395551546,-9.359572839641746,-4.389662018180159,-5.015785745136465,-6.091627337316939,-10.176378226192444,-12.3553772092502,-12.343986689606618,-3.1027193455242617,-12.372940465021557,11.26925382760573,-5.614196898778953,-16.252309107098924,-5.148039216530961,5.61641944096162,-8.548552901217997,0.9706509914845118,1.3851384274243606,5.772390219485991,-10.506509095374502,15.015155418180134,11.181186830888752,-8.58470465093582,-11.836683088224897,-1.4265154545163736,-9.674455090663528,-1.5698625165206626,4.320537327345118,-4.907215089858259,-13.821369170622978,1.8304953940952864,8.974539217024283,-13.710405555761584,-9.945057648437023,7.6072455667661085,-12.931766249314698,12.941772023757412,2.6962936704432705,-2.7530028282125416,-0.6361631219857274,-9.444051355766735,-7.0377300788593224,-8.376404663475041,4.001848070436717,6.141546508311515,-12.369666692900323,5.445105931733145,7.818709870687338,10.121311963989191,-11.24639687073087,2.4324802018892075,-0.7364351595307593,-7.70307043664603,-13.677339074265156,-5.022294615912953,11.555268963861305,0.9468186469823846,-7.906263514987381,1.6709554838506904,5.429477553181701,10.779547259327204,-3.662415398284272,-3.792253348267809,-13.108361385147967,3.180002562812426,-4.9060342782794475,9.966955661733698,13.24748772798425,3.9824545272795437,4.469191177561369,-3.9408301778239547,4.799971840246404,-5.154114651186098,2.0298358367556393,1.539626636329155,-9.962060728536176,8.503987589132793,13.873048304556669,5.823823832083569,-17.026375404717417,-5.009800285756334,-7.0780920647903525,9.287569333198517,-2.0826084677802696,7.824257002668308,-6.667221009141947,10.136687293336431,13.32850939096535,9.660636352250869,-10.10686286447332,-5.9609014356047485,-2.5236374397640695,-9.258624227529884,-11.473070034606684,7.416250398774989,-6.232642706564237,-3.5085064441563496,-7.299325944931431,-5.71318924432139,-5.551071068926714,1.1939075230851621,0.7222783009073104,12.388807638959879,-7.359303696447911,-11.807329283391566,7.268750143865509,11.38379544620603,-5.856103626503224,6.025712506115433,-13.47937892577118,-13.529870347688588,-15.547025385455667,-10.947299572676608,-11.691337823278394,9.238341788612948,0.01284843189440623,-13.642737674955699,-5.106103903757693,-14.603661198261632,-9.027455785214427,-4.799607642138406,-8.771498074024537,-0.8749128782010852,-2.214023519404382,-6.349063038833544,10.001242148308354,0.3456138858092986,-10.751986472589497,13.049939184101282,-3.721225818464173,1.6905685312441898,-4.832959594875814,-6.171027893971231,-12.742391718944075,13.342013908892346,-6.877736358229767,-3.4652538466620735,-3.91745354422745,3.8096045026779404,12.754415879209514,-2.248106627740607,4.451019108324964,-3.861068798914069,-11.680297225789033,3.6712166433214386,1.774007251161523,12.44026660766943,6.103663434141131,12.146675750055586,-15.809046535199691,0.673731194440968,0.9702486972486929,4.05237549094182,15.212862435246793,15.900537642090933,8.052950175926755,3.6381881830829945,-3.6457846475241094,-14.438529417895229,12.805403569204817,1.5338029989404778,-1.276906586018262,8.72107763889535,-1.4758834061681803,1.2616038817459103,-5.090409179024225,4.144978939090825,-1.5210963105724724,16.123458432198667,-0.8859628930800758,-4.689871882018495,0.1609783670834178,5.750417656932457,11.941771918538807,15.302299217745757,-3.8802335225946747,13.075520420381595,2.3700262131825123,-1.2957632207955607,8.612200016080116,2.6801548929766597,-4.247012570205303,-12.116918961163226,8.941368702674128,7.356140142632838,-13.942476592521784,4.416018228046423,0.6734696474525974,-3.2620020272836268,-14.001938465252456,-5.497018554372178,-0.8802316026568829,-9.123035389722167,-9.124410081680427,5.56669381009883,-5.858617776738385,12.973230132923423,-7.374683676085428,12.418688747496647,1.2680172095984057,-4.4257664366500755,7.920669093157063,-12.55830865846728,7.708616810142993,4.477432214323068,1.267580422139499,-3.504499382902373,5.351450782289813,3.1826698540487617,8.077341895484148,-12.999566002258842,5.536414851318662,4.337772471333679,10.547759818015498,1.4198035616613975,15.30696286210387,-2.6290745297115152,-8.095076088934062,-1.816108845531347,-10.06784645666037,-0.372447212357192,-7.5068098616798755,13.323887368624096,1.3762075126395128,-3.9985167260561805,-9.200965776199917,1.4294865346770917,-3.1040975222374647,12.309658538167925,1.4914479163111483,-7.529374141036036,-9.897273187536815,0.8494948416095311,0.8100209359564855,-3.444640178870944,-6.0262530947762,-8.11824623377519,6.968980767119502,4.91019146034211,12.559906908450484,5.764131390132296,-5.871955403608793,7.719761304798296,5.9145614375892555,4.148955396573765,-0.3367378047364367,-9.931054386005393,-9.432920777667219,-7.628742086522734,8.110130597560325,7.726690240832271,3.793666846155958,-12.499587658247375,4.268037098655286,0.1820162756732339,6.0525656062976685,-1.3054669359375657,-8.832801446493653,7.158903441114711,5.396106442466583,6.023631242784762,-8.92829626226599,-9.75275531783419,-4.973544827025559,-7.244569300229073,7.362527727336812,2.8370584783980535,-6.01605034972916,7.211986266032186,-8.735332599517259,-1.2974762703467666,2.4885748093930418,3.84268238803318,0.7958880181901047,-1.0359339643897383,-4.274917338497558,-1.0260176938965473,-1.2237740671898323,-13.623382654355462,5.572193379754631,-8.225163029707836,-7.621047601572655,-0.8436248357450198,0.9804917222605921,8.757240446992395,8.792822749406838,12.841859215733415,1.663772201523811,0.8063178721461608,12.580654149744001,1.854568805830782,8.3198378541924,0.44670437075821273,13.32589008905262,-7.258493991915468,-8.044157600407088,-2.570774229168499,-2.4857905982483235,7.821014231194148,-12.269371647665077,-7.346570601338758,-13.027742861200133,5.375517450250782,9.53688583188877,-7.530171125469101,-4.111358148304923,-2.6609691646771703,-4.702251239845312,1.5320072013290504,-5.645287067222657,11.169438681287119,7.65445835388678,5.300260791493886,4.829460907909724,1.7652476523635783,-0.9013648714236816,4.38981618122863,11.98617495684903,-14.161002052409328,1.718348710383112,12.801836998218118,5.692479022276832,12.12893479815711,3.062898059370402,-11.47757104944862,1.1169257775844113,-0.9266224416930829,4.905066060370522,-10.360016601480503,1.6051367324510961,10.216320349755389,-1.6421629434023,-3.4320951177130308,12.761264709172064,6.003138596744344,5.652792382314155,-13.724882244426292,5.920739210048987,7.932226456895346,-1.171992185330114,-1.0083238813555315,-5.57825605175849,12.682453713788554,-4.891234492347637,7.278582193782293,-17.24932688873006,1.867363182027903,-15.769585753010618,2.1320841603085547,5.541482493573565,-9.814507875544033,-4.5221441997655605,-9.62327260103399,-0.8612588928491154,-10.41737156240565,-9.570436250893977,4.3774717769262,-2.8788615084125513,1.755680551221336,11.391010411960709,-1.195450991199434,0.8544104217916112,12.298521125168117,-11.582784486258074,1.1615098893810332,-4.454267823285939,1.724020958611004,-16.74045875887283,-11.504198094798802,-9.905457927961981,-0.46235655400833975,-7.637497304122115,-1.1842661671892685,7.744780343696868,-4.520588913968139,-11.015391314510152,9.888555251507652,3.995438307027253,-4.811945145233451,-6.8460985636422835,-3.672016251397919,-1.9620131857608183,-13.241331553193357,-2.569376219653376,-12.041369484239048,-16.200933885146203,6.084639750623351,-1.543920358372787,3.5676121901946227,13.047673520978782,13.697601241493064,0.8301478145095743,0.8787554095699077,-3.5959438079858876,-7.239464643510353,-9.467836966001123,-5.444677508193602,2.190057395316489,-7.592463131096511,-3.9068910538744337,13.212894607295377,6.645471708568777,-11.856294493000014,0.8636809425988812,-4.1643634110080425,7.520357996604617,7.262190197726975,4.064892852555816,-5.010596012259103,-4.22771399528223,-10.736368643352954,-3.064703217144022,9.522752673838584,1.0728237329081498,-10.26428558602831,2.0065343209803315,1.342337470882161,-7.755189666666028,1.129721981046266,9.40091383792404,8.784015342903254,13.349525552297344,10.349949485598138,-1.2273793005821836,-9.516796406475889,-7.822701519936688,11.110812307996769,0.7142642201218277,-8.42174345109716,-12.211910063962598,-0.5007639134747828,13.045680891378277,4.829380866065972,13.20243284725688,1.366171582950835,12.192499003174712,-6.101557081549918,-7.537113244517616,-12.957980284770978,1.0584870117353904,15.443362717229252,-17.532330493996906,2.760317908186626,4.196613356082081,5.938459638032006,1.0697820481080031,-10.493428924728972,-11.336717535733316,-1.046581933959441,-3.4660273292016295,-15.457951143359706,-9.06114978011438,-0.007631892772888775,3.8684147603019596,-5.095305921275626,0.5435426844353998,-1.00346366127314,-4.8028242355149455,15.991566810216845,7.291165544349601,-7.280380999227998,7.338003332940322,7.339377977751811,0.45373993776499927,3.76176872826284,-4.986023109534586,10.34366745934497,6.291696544285239,2.273368890947059,9.133893451801942,-11.319259492303724,7.556910777463684,-3.876141379127229,9.653283726214735,-7.698917740718227,0.6813993639469521,-12.774201485438988,6.2330412683633964,-6.154986487391239,3.089295233041382,13.794316390823447,-9.72478373332462,-3.394811234043721,-11.609051877894423,6.456915534103852,5.436543046939997,-5.507178860110196,7.141854127007823,9.096223332213226,2.9751815178238394,-12.77110876394895,-1.4780605176525015,11.106853992183469,9.133190100088827,-3.530133882819558,-5.07017864901849,-12.739839948548555,-0.8969466820327215,-8.05429555847631,7.776549001466278,1.253902331190767,-0.732334055486296,12.801916358432589,-5.66238214702541,7.816750081914457,0.8101538947140228,-8.466091289537774,7.141514551712459,-9.226824767824528,0.14828614829396553,3.9673000814306385,11.7507239449587,15.279892707720826,5.517528267855399,-2.7072927049399778,-8.631478834501495,0.6611279340441909,5.871272400709112,9.03577636404814,-3.776726050859382,7.865046516549079,12.479683364767364,-0.8272192030764186,4.36084843943168,0.3934159056875386,-7.572184828224594,5.081021826375804,-7.773711546397759,-1.9955343561145416,1.7819718649898038,11.512427350674958,8.291349339968779,3.4121341119781636,4.726789771870521,-6.008960194281391,-7.752054947176023,15.098173650969224,-13.592740952162178,-1.862764312832017,5.792140048651875,1.8354704739934797,-11.499599183198663,-6.441015391699347,4.535315418060706,-11.927973901728858,-10.939238224263914,4.474915783695248,10.688535303013715,0.9157836336991786,-2.222768630090375,13.966510216410983,-9.169174496721409,-13.539654383144567,-12.89634792403986,3.325889910225771,4.750500344258277,-12.36836071118833,-10.743564157460447,-14.60424666270517,-11.720597705072187,-7.893176863524742,0.8032315473465668,11.232628349492774,0.43456691647433493,14.788565259563633,-9.228819999259338,7.910604562063777,4.609501325381673,8.584345548515119,-10.405914180717875,1.3461889026379525,1.2646205262854526,-2.813619125922908,-12.585121365139525,9.629267192996128,-9.636660236143825,-4.1993397628518165,-8.409501868489395,4.598975921615579,12.616471433571256,15.908136128440313,15.351259941915275,4.37152546187691,0.7510816983773586,-14.201255064118603,-12.548583111834834,6.079783236210749,-4.077127148610192,-16.80613059177492,-3.3033097251595738,-1.6619062661816317,-6.1120491646953,-5.910048300946146,8.170040625252371,11.295510580025619,-7.86178509028724,-4.391282724444647,10.6733841766278,6.135011037578517,3.9207685407755393,-0.8466850985352162,-6.005928833392669,-12.995388311525213,12.325098115285822,-14.287807114514024,9.174617444524813,8.661496138711257,11.166378902495085,-7.7576310904727075,8.48602010886957,10.1309117701469,13.650274023007862,5.713013197234871,-3.6298409318422844,-4.02302932659227,-5.407927157622364,-11.459687538335992,8.395808377364597,16.048383772396882,4.253708664641287,4.401362573698004,-4.423722601202887,6.9754213889327135,4.185418919808547,11.397888880078455,-5.405242632812412,-12.768316779379601,-7.070610446402869,-11.750691915468362,-3.9425341925706086,6.4063034390823885,-4.190036070543397,-4.059400414373539,4.727130032874252,-9.495240042105918,6.251051130099555,4.7269351493593845,8.761838156691955,1.72462836861368,4.300399105517096,-9.966104162231876,-8.982417346928134,10.819713044781745,3.020651275741381,4.174683899503062,7.71793684641806,-8.347344493403112,-4.124316699234404,11.113462677802309,-3.1016142711619215,13.447016246425157,9.478155895923365,-3.7320641923044042,-4.061525353353939,-9.991722531123317,8.01540091531261,10.338452908360775,10.532362564651827,-3.5683124619646094,-6.113716935430016,-4.5765965117277645,4.452884819768859,-6.71294568599938,-12.697306542856104,-9.302811220020073,-0.5376720359976859,3.627499063634219,-12.976498478263215,4.448057972657487,-0.6113669075969298,-8.619479040382826,-4.640904987053961,4.258351863714478,-15.856049895307882,14.960705603075196,-2.769581402702157,4.49140949064658,11.72022326789578,10.128049954367752,0.5786504248427031,3.7595037403605427,5.548605442544677,1.3476919369039695,-0.9952546234950841,5.238713551810399,9.512220984377533,8.069611525551597,7.2158672482115245,11.947161524549278,5.726895902489856,5.250997447526525,-3.656325614958127,-9.05851277384622,-7.607473672238527,-12.939138984577482,-6.722892277361173,-2.579284375514931,11.138617471284054,5.6107872438789475,6.172808480203616,13.380462051779928,5.324233170711261,-7.545861925587194,-10.411144790589876,-5.214951210699491,8.32609947229835,6.487850906647555,-11.045146601741783,-8.12235246234712,-5.049340266266439,-5.5761790061737715,13.217691430529714,3.5430278507523094,0.7102765290428065,-17.256842464096717,-3.8547778296168573,-2.315436807492117,13.092032365687668,-6.485144990995419,-6.442343338792124,-15.56496173641967,-12.321081248589849,-2.087516428550896,4.6355295389966145,9.886336680878824,-6.600669543533104,-8.30133300270056,-2.7667419009202443,-4.076899513435384,-2.9695836449661113,5.774406056755098,4.199466984269274,-11.224714829225226,4.575960876561312,8.06672188854506,7.097718812451233,7.343665484497589,11.89963156342198,-2.658703736154554,-8.241882879358268,-1.1283920114075696,4.334179393387577,1.5980857290570059,4.400141393162327,2.9332741206761392,-3.934553135196657,4.589008374317317,4.19041294261222,5.3082142353051855,8.221140074454423,7.622029126826954,-3.4328328346383774,12.096790025416928,-12.432789761993549,-9.161201834405125,-0.7671563003157004,-8.57901986852546,-5.809467184182986,3.3018345913670863,7.361432016222885,7.001252867871317,-11.859486799756802,-4.70180304731837,2.117856630412637,-4.273589598444017,5.541454724949447,-12.657206267344135,13.705714334409905,8.09261768984979,9.642937954745681,-6.241663583988366,3.8511014723977643,-4.443488230376281,2.3965665702036243,2.846693725623878,-17.127920645556586,-3.5877432708799315,10.723984248701932,-3.6247332187651824,-2.271166137715661,-2.9971949319009505,-4.389918629302603,-3.9218734232171375,-9.340449114013245,1.460042549673805,-13.274846288393366,-6.9538375246542214,-4.041361110848354,-6.754233599850754,5.759467079398184,7.3943921832726645,-9.552067552405301,-9.552451662206268,1.5460594535452212,8.804159267107622,-6.271844686295527,-1.1656665086530908,10.860984950596833,1.7572364970305412,5.307721968218283,3.7997591171132634,-5.007909188858508,5.857082001368077,-6.739274697318621,5.3565462729100215,-1.7885048874519023,2.041724641544126,0.6323950012309109,-3.971001138871911,8.634412716904935,-5.099632372038418,5.319343102020136,12.28168383902854,8.015614715741224,5.466043171519538,-1.616245663909337,3.4570973119716775,11.3549462012657,-3.8346862879674464,1.210427651533389,7.688648745240523,1.689803442515611,4.73043681866293,11.929157366774923,-8.098415300949013,-12.319703465858545,11.906246233941713,2.9624297370186463,-9.211860582385395,11.904849440181183,4.137426652053944,-12.71909951400175,-2.311952510519301,-0.3241043457296137,10.332943957995766,7.327254187149161,-0.8408819613445653,11.296843765288767,7.863334122967075,4.363400305462008,-7.57060636638384,11.57219562418844,8.721870182116641,-2.8567238371297186,-5.943846746427726,-5.5336173034984695,7.6115911505709635,10.351082402962893,10.370698378331108,5.2847327348193405,-4.974301173509657,-7.642609966254537,-14.935498318478002,-13.697930564428813,-6.270674817713935,11.57664443004882,-5.033854976007088,-17.408655785597862,1.3507951391201858,1.2604786407396624,14.821951525550302,-12.224320713811725,-2.2825261853880945,4.7521234563491745,9.660498952678731,5.966574238903572,15.413088420679378,12.86055920179835,-5.707847888585718,10.588716864227083,-3.9139031514880367,7.634253753609076,-3.3925017426252544,-13.971609412087698,5.537392779151137,8.677341593074953,-0.4641930491908993,-5.011335414377824,-5.576422340837273,-9.270047600359414,4.3848037736528,11.850725683497114,-5.785638770700692,5.269168226231718,-1.286702455117723,7.156236659755251,-1.9793772192958203,9.912805455500141,3.7978636963375423,-2.799443703938849,-15.994074156617508,-5.527953030975324,2.2529407534897774,8.746419434431225,-12.403723174367029,-9.897220787926134,5.569990582398072,0.8341801403663923,10.998759683701469,-4.755061348566196,10.37843520006656,1.4672943813018648,7.488358144741445,-8.301717618791146,-7.544503929801902,3.9165019716477665,-7.170556392756596,1.361386927091249,10.25067955100424,-3.727327841649203,-2.3758617041561987,-17.24646383713452,9.301309772695864,7.540606129563989,8.543951471497785,4.000521008276102,4.450549798854856,-3.6989267039860025,7.237594733111112,11.936796602176214,-5.405915042758415,-4.130626384541491,11.183299268470085,5.520189293410592,1.2182266654981304,4.886134592214793,0.9995070343338783,1.726809032112498,1.4930982230819374,0.9050036451434607,-12.12868009867236,0.7714087838465672,-8.19524176210272,11.60164129411828,-12.33001326699244,16.174323231944147,0.7630638546171266,1.7652442526537173,12.424551779907429,0.6493578397581099,-12.941755383276675,0.8562782719656454,11.758346329443347,2.040455015907492,4.5422868532039296,14.663356753852925,-3.952660458705014,11.472559698809253,-8.545164457701517,-1.2542584710905063,0.347399293643006,0.08212077533718211,6.512416276202238,8.479245603294482,-13.96702367507179,-0.03595287637717714,4.250187407545359,1.9502082884820575,7.580300979133597,0.7816163971183584,-3.1881889945594484,8.534751647917583,-12.767837121806163,4.189593975718257,4.041140517884009,7.656439686126428,15.498987565970735,11.127682867083132,-12.785954492525477,9.904021165602922,-5.5230747487579945,-7.5889197941587305,4.836683202320943,6.537568589482791,-10.7647075042656,4.220599432904557,-0.9794774408245053,11.809958119217695,6.1578576254514905,-1.9873502581431453,-3.5918576486935234,-9.615366946891813,6.726713973464057,-7.982495702165458,-3.1579327966349933,-3.58209734783038,11.449471677861299,-12.716630932820191,5.292747006179257,10.075762637163596,2.1832984551158336,13.727923401655758,1.9473930146935097,10.940011370131666,7.119168870610802,1.4683193863500283,12.367469717283992,-0.9697440351385781,11.117238410893053,1.2949259725932047,2.1971380661619855,-3.650555940141042,-9.669375211060915,-1.9363158508547973,-9.55727128683405,-12.169506635739568,6.962339035184211,8.406643145436394,4.336913018444604,-6.645234967075639,-4.3031777767619035,9.62582250113706,-0.7369647540825939,-10.851006562199332,-9.833233780786694,2.299183901860815,12.439109419883865,-5.672365165590761,-8.043361943120686,2.3720220623062995,9.014746991005877,1.4089498399916358,0.43200964861165286,-4.063334925093458,12.077273834976948,-6.880916064299729,-2.74485524001984,4.2944358681769215,11.91119039427888,1.1561763403347853,-0.8381699530315755,-8.891240184511435,3.4470351770045,-0.9945204357518626,-9.687679330927265,11.792980135856807,3.06001482696895,0.6903731458588362,-2.910941212379813,2.1153106803956243,0.511940244575168,-12.828134753032902,2.523080613201245,-5.4985881088468425,-8.331515147282662,-3.64110685225452,5.3099940577875655,-7.508591469526727,0.809391629793711,4.472692711049402,1.796377373976728,4.039680118771089,12.644341700596858,8.198604858857419,1.18415888764635,11.848706021314722,2.109853352432677,-7.023366090110852,-3.114505319311703,9.221411659022953,-14.276769744555175,10.919103132725256,4.090922110778767,7.219816969158253,4.243503790446886,-12.830484127766173,-11.656564217974386,-7.596897480672875,-3.0072705685453225,7.591536289994011,7.1526541001613415,-4.5976804062614605,-2.853265120226965,-7.259512223600176,6.009957423461316,10.315406163488372,-2.721397354051238,7.553856912668592,-8.846798305815527,-15.855996043939518,4.257140689487352,-3.7550089166426353,-7.831883453212021,-12.848458721777696,2.301507382217192,8.79298924987705,-6.341860453605078,4.6141881111197325,-0.5707048151778203,4.216685272305746,1.2425313636583308,-9.291675994115101,-11.64620605672607,1.5085482244539752,0.006763954491613283,12.3540551263957,-2.153237429472966,-2.9710806054052648,13.290085748171585,2.519773193178584,-9.646935549304121,10.870987580651956,3.89324160480811,-5.644399977820651,2.271507149071077,5.525650780636578,-9.955493735436281,7.465904949800622,3.447257441811261,7.327614244780584,6.9619922380643935,-7.123869252919167,12.496427396088738,-11.073772839359366,-9.924151638989116,15.300473212778076,-6.984217738127306,6.991380013062358,4.069313864743893,-8.022521665355756,-14.700838262222444,15.937404208211207,15.510883589363207,6.773500233498214,9.276737356883915,1.4940668125291547,12.934302275803734,3.961006051878015,5.319774795631881,-2.3307832289774955,1.880059392306226,12.445546626675828,-8.035171249409006,-5.956708070020307,-13.435006434922483,-0.0941340299863656,4.284377527578449,-5.19649079273364,10.375643704974232,12.848922769660119,6.451562916416282,-17.047549132362555,-1.7658777394878369,10.95816574199794,-1.2741493081109427,16.111971653862547,4.614159354108192,1.7832676613218064,8.700315651817226,-3.6707387783134897,15.982208385558287,9.34593288512658,-9.015831345772273,11.419273347989675,2.1912325307153986,-1.375955819771622,-17.10290709135113,7.6647415479198955,5.484746682493184,4.449461418772021,6.080243179211909,-4.142844694713862,-10.651331242087348,9.393277024276259,8.200189809301914,-2.5947343029729693,1.2855206108771768,7.723514387423176,-1.5116696312067777,2.1806632795824563,6.394724548571916,-12.909981958271372,-3.2717277512097116,4.739935228538372,9.779019545163738,-8.69292830791316,14.05529942997095,9.249341019620154,0.7062212314616257,7.337405475631219,-4.962741803457738,-9.73670476847679,-9.312992716178242,-1.3561996469560045,-0.9504991114038742,-3.9978848951851047,7.148706332489744,5.923190883926327,-8.595302097978559,11.573870035818416,1.390149795217023,-1.8127292341956023,12.758719231584147,-10.465887279459723,2.0991735312206994,-8.719356243293406,-12.75328750182158,-9.691059356219014,10.151781312779246,-15.619906459132062,-2.9270478817860863,13.34697026717236,-4.773791592392253,-11.802444282485197,5.529041784280458,7.138724152496321,-9.766135971617132,7.416818727400254,13.30634791494448,-9.541939504737199,-7.630180561502528,13.124694293423396,4.2218868568269325,14.918445527958243,5.0592509882720265,-2.257779053158621,-3.23266288958957,-5.731474691083541,-2.2276484599439876,-9.680713478032187,-3.0396821670293264,-2.290598601093738,-4.384316773544314,-13.512220652728239,10.4693648815444,-3.5378678855332524,-12.869978455735147,-6.567780211465611,4.499073362376723,-10.250445919166511,-5.043309363837131,-7.8922823675868115,-12.49981592198431,6.111782717330611,2.201310481507555,-10.608586027740602,7.549463123376982,-11.562767852846529,-4.552511819970875,-6.038157188065305,0.8076998871864608,5.027703734040466,-8.479449398036564,-5.289136407743092,7.880875278088013,3.0080996065350014,-9.172976331535542,-15.94889886931896,-4.589414464352854,9.424471049105717,-11.356424493478164,-12.113761521978045,5.791193756650399,3.866175186414694,-11.803440485882415,12.841166893725179,-0.9759233329134857,10.244909745266272,5.521560834959379,-0.5408948140533044,-12.299071514897356,7.663852145455908,-0.6439265166471447,2.3092053483468034,-1.8505937463265043,11.050429979786212,-7.818483596652815,12.814778191497588,8.2402700613699,10.961890595116913,9.659270144511218,-11.222385304392205,3.993866697214865,9.888520390341625,-3.8809970784672903,12.478422383585238,-3.9208123881886627,7.2839490615367835,3.7921960449114263,1.3091724429408136,-4.295186809691184,-12.517170473044903,6.5343071682066345,-5.443090772053663,14.531468460540472,10.862379324582735,-9.2143104506391,-5.093014822185281,-12.412745028603638,-11.926043812111542,12.50323510555853,8.101572538615057,-5.609326623371545,1.75457877177973,-14.542870383134334,10.08398407746522,-7.8762393104651,3.6338013393158066,1.2580062728934016,-10.767546230056327,-9.170338885984167,2.1956098322465643,0.7057949590442023,5.71051976725925,-12.793917032966236,-12.280448844219107,0.08517212773572497,12.342687761756281,-12.400086419452805,5.895640491977404,3.3200095052875827,-12.70927347679157,6.657326867748587,1.6649064398629025,4.7210661790405055,-5.223422968701735,4.862252577832785,12.316442999765373,-10.743105743625978,-13.105677600964073,3.0082132584771135,-10.008257949113595,-1.9887688457469817,-1.9332465706579063,-5.838350741142578,6.43396782521496,4.284455666765794,-0.9362482869766314,-9.921995454401186,4.330580373734986,14.280961176229708,14.95730931461935,2.410520706173837,-2.9488618257514174,-11.770488315630999,7.223530280373296,1.9627348437502854,1.5443524523355117,1.3174351143406082,5.556588806271125,5.509077137142316,4.787854592472869,1.5264139663647158,2.8048440706033713,8.55126345175154,8.788392063245379,-16.042883970150523,-1.4258529455654383,-15.844761994049907,-1.7184180272210408,2.4195811136312564,-10.830418393802182,9.869103598575299,3.8680800590306808,2.4614876423993093,2.8371680076194794,-9.397603696878532,7.770514243061766,5.922527286166638,-10.118043000443025,1.4871969059367551,10.100787118349109,1.7226782958583737,-10.48082312127652,-7.474400366723679,4.421265789660884,4.446050102829863,-1.6065510498955735,0.3078872986866275,-16.89355418515805,-12.334398788935575,12.301864062377462,14.955568069986375,-4.164682550891,4.226966950138913,0.5482884516694554,-3.839084832958069,-4.231048545352239,-9.272586989540699,-4.510136894602308,-1.287186584420212,4.638676322086694,-4.963732286850717,15.296962227696415,-0.43163767919348306,-5.372054565982091,5.250143190610705,7.7949385526950525,-0.9998686503739329,5.506374655281424,10.176661643107776,12.358852764118295,-1.1633309637349265,9.718432099931636,-6.188595214957423,-8.03117787108951,6.047157474918849,2.1011859924282574,-5.030457598923974,12.778691253954456,-7.375709512074647,6.250295370749322,-6.256891536886114,7.686440336138283,-5.293638058146672,9.243300353811364,6.2250606417397965,-3.134814938900733,-4.5682494613049975,4.514662636067374,4.450498208956114,0.0538392434570135,10.863285696932982,-6.615187847905065,1.6683841922788911,0.9243016680382925,-9.97490344987929,-3.491296460681244,-1.4090848542705576,7.045243850554412,-3.3806832327777756,13.821968700598882,-3.915848539640655,-10.29449713680028,0.6213588328019757,-5.958766405867718,-9.809077923717,1.636839883030772,7.6146036795382726,2.4538759161106136,10.900087818886519,-3.02824001284102,-9.923776071937963,-3.973286355215433,-10.583661772566987,7.615977779900388,4.558816137227096,4.511838924217208,7.747634273536447,-12.048643370143003,-11.795243411045156,-9.267513613595368,-4.111222646057003,-9.262292192467928,2.5630032630104864,5.643065787581808,-7.195666359899365,-12.741206149697438,13.382658184168982,15.2080126039846,-5.80292475480093,-3.2521265517081086,0.311727806868316,-4.411148239070554,-3.9891127984086237,-11.884697669430757,-12.74121387014764,9.190186242203287,-3.601164926578763,-12.743709775239315,-11.810956356791955,-9.359910541215578,12.58556282674189,-15.715762086709294,15.447368807582082,-0.9090740519084783,3.9627087882536025,5.525896296590652,0.4131989320019625,11.246893057912631,-3.0112920955802682,-8.835187286566622,-15.52427103505563,10.003086127011944,-11.455900107182318,13.397238843126631,3.607199187155509,0.8668908445248541,4.531187801008647,-9.706275307155245,4.068134218972209,-2.907338500147451,-9.086867747122145,-13.542471079776682,4.4881609895464,-0.8819863811339744,1.599748401352133,-4.914362244153029,-2.8791154100765843,5.588736988216637,3.9934347094335343,-6.271683548636232,-2.1183398396141184,4.1356798392146885,-8.99796668229841,-4.36057449097725,-9.23609681092359,-11.857562632124033,0.314862972978679,-10.222673078715768,7.759009112810221,-12.983996429925249,7.833424791880344,-12.255918500064917,4.342665243727867,5.647769540222031,9.972102175065904,15.360882731876085,-12.259528591302319,-7.925928711250849,9.392583941219854,7.5583796447008,5.8071990859803115,-12.264569618019094,5.260002659626304,8.796201914928574,-6.370942254210391,-2.912638158480608,10.073103497610349,-12.627194087842248,4.256861406924301,1.7905833796739767,10.659008125674834,-5.76936922474199,-3.082774984043424,4.97462064383297,-6.473226560544749,-1.1684676060874009,-4.368626833854722,-2.204794916347847,12.75147809269245,5.014622088969256,-4.9794470319254485,11.499917832346883,11.576609843522132,-13.577106546372027,1.261447414494882,-7.717587829193117,5.341513204719478,-7.737884679095705,7.957077511721735,2.6368910740455425,3.6598378156155693,1.0661034989147984,4.170733681367553,5.808397363154063,4.9843808986717,-12.772095435583726,0.19594854116224664,2.3108888648526817,13.00470075986771,-0.01054525795149933,-7.798725473309184,0.14759563001727333,13.549310425520517,1.515061777766491,16.355370034211276,1.822343400372478,2.359137194833363,-0.8447962810783614,5.986711044699844,-12.711133101126498,-6.880909179648087,-1.8247929088976826,-11.425824151075643,11.330162288234064,-4.039708627945001,-0.5804214041223539,-5.119359647623181,-7.448382159918654,-8.083219988040543,-6.275871267457434,-7.123836438285556,2.0688359873659268,-9.725625916173321,7.406436077602359,5.9358397614527325,-8.970517248494795,-3.2134039137900285,5.234748472146139,-0.2976094898032155,7.397497627696288,-4.770352515623454,10.146108743631167,-2.381279880512742,-2.36134908519955,-2.3994415120739925,1.662849545583048,12.764914161863617,-6.904879321437167,13.257503864624814,-3.802241178150822,-2.3931390010716025,4.671662846197267,-2.3399298354678018,11.989976442034449,-2.570495975382665,-2.5721638069874264,-3.0192353532819336,-3.27839409960655,4.457441710660524,-9.623258165447949,-2.455949973939992,15.404026873769661,-5.571656513488461,1.7685731868380699,-2.3558305042869483,1.748784731555671,-4.335855809101922,3.5875763114914023,5.476336376118487,0.44492973320688456,3.5261846339678877,6.168434917362906,5.652858818283499,-14.62966658017419,11.242529796731928,3.3024825456324245,-3.171629785675125,1.5605526496310227,0.4052897964501817,5.563389211979788,7.011081246496784,-7.79153270071541,4.156447265981731,-10.569407688764233,-7.7328416818135715,11.293516875725281,4.945753011618803,-12.381526587577618,-6.376817724583842,-15.499341482099961,11.638303007924044,10.505575414175048,-12.08366846137973,9.319946108375566,-3.9155020537470597,6.639130021851934,-6.004598960118308,-13.17623876739588,6.495992039388932,-10.062301099083049,13.82366126809626,-9.244381517184625,11.022456497116064,10.559196749815344,4.477964801031239,9.567874203767369,-7.638734114238952,-1.9760859594781024,7.860337071788963,-5.647988279137583,11.297863314505578,-12.065508864589296,-6.233470118332885,0.4406728926687984,3.4437798744120602,-12.298675664813599,-0.6505744238803618,-10.475073464265384,8.205934744730218,4.724585557015646,-4.971456324195968,-7.347949724348694,13.443336538761214,14.248996014305886,-4.882770778178783,4.1564603061378165,-5.748797504441778,4.130924147285035,10.961736092167966,-6.578399069275082,10.09835345572467,-3.9666949406539214,4.986109750675944,7.244303852081069,-0.8597453944550977,-7.733260732918506,10.663278345337634,5.541543264223755,-7.2985435365996505,15.88692539880488,4.253424643415292,9.356878189827572,5.800882874384204,2.9855730844952837,11.222498315540314,-4.516695297791184,12.62363021620143,12.663511736138602,-0.30294076876043435,5.665166905597458,15.207932697497565,-1.7400846995522696,11.780340902333881,0.19956873904370057,-8.707581812857452,-2.807817340232579,-9.894760961569123,2.411717151300463,11.293517485093526,-3.2501859134221656,-9.042718344854844,0.07920652794187387,11.483409342535682,-4.114330535312187,0.7561577824178782,-0.6180262989152397,11.646126771358327,0.14882972641942846,-2.2798300437610695,0.8802567792401649,-6.299510187685168,-2.309163828265729,-2.3146880406147767,0.5227906697598583,-4.42637001430187,4.609938447438075,6.597695053754809,-2.5067781886720204,5.312007406045927,11.879092130835428,0.013730598717844362,-5.1250101902486245,12.913969793725707,-7.267940490224073,-5.74709893273378,3.4092712481098357,0.861144074949038,4.896719389109375,4.839772006244593,3.4485789212045765,-8.123602714413448,-12.443303461295605,-6.520734902940168,-5.1374278800060535,14.672593098051074,5.609765397100393,4.414051057096715,10.675437089943358,10.276874854342479,8.588708612355422,7.745513609520354,7.755767091298686,4.458448215952131,-11.362137854054733,1.7262855155325962,-7.190570737852078,5.366634478211657,-12.203773196115444,-13.624656685985308,2.5384521510182485,-4.300615843449394,-4.356508974135668,-9.819658836966163,-9.978782118517337,1.4774137038921777,-9.843581613250876,2.002842882114633,13.253989160158342,5.522039992788163,-8.096699545459932,-9.867892776612804,12.54847517659004,-11.828348126554447,-6.401904983886232,11.998110746659654,0.7001373567098653,-9.447813143959038,1.5189802082683026,-11.556177888782422,-4.521040977631625,1.0393942639304687,-10.028080251678832,-6.924927165888259,-4.331146011990992,-4.981195184343763,0.0465598655387374,4.2549217036235705,-16.58591576716364,-6.954470976998809,-7.0339448635084905,3.628493283068934,-17.26777010702065,-10.595077589235038,-1.9811540183525906,-12.421096599499462,5.333423161093121,12.150675604456465,-3.805659160663863,-7.56799594268196,0.9631249439279419,4.36534257305867,12.355635517086926,11.670788982256054,0.47682213784421684,5.30366739580596,8.054253199111397,7.8286249203762575,-17.22919552259559,-15.527911744106428,-6.816098643647084,5.18189478414837,-4.380437319979982,-15.954650011703707,-10.560041697949304,7.743839134128476,-1.2551560716359311,7.394725908037829,10.566635726429892,12.12410080375932,-9.555434224055949,-12.964056153885512,15.085641412015379,-9.929151138862514,-3.572374652643683,6.055207960037438,13.125787392672292,-10.017738792736086,1.9568377100257455,4.544199485315053,10.887660719848196,6.103681081038894,4.672735148177457,-1.7816625422002161,-4.962286273274625,15.954587582169612,6.592242353769427,-9.867757879136752,6.404703916592479,16.34269243545668,9.34464470588869,9.601075652332062,9.370014325683387,-2.2849955911907878,-0.7322080959587458,7.054598069870254,2.926819571477251,0.7188926345848187,4.9465100475110875,8.580462744330443,-9.723296383217294,2.1538510210992916,9.172415360256053,-12.246213763616819,-7.145507786187053,8.260193806688317,8.527466862874046,0.7004406929418496,-4.919084352718021,12.070263711899253,10.266416867835865,9.4996882350067,12.413110416087587,-5.682308986435417,2.763556723967475,11.048384922056995,8.760223586948952,5.6717838558163995,0.08197644644526919,-7.973656403044672,-4.454595018580098,-5.450164204934145,-3.3510167534622046,7.1940629479711795,10.822982021552745,-12.316873873489325,-6.5489201400342925,-8.587319032479106,16.071425878886423,4.286064312947885,12.319940099299783,10.840169223307932,3.801361865756591,-10.50632052674789,-10.818965404806196,-4.72578086011643,-2.236762743625492,-4.926118691925863,4.282992536658976,-9.182271728052145,1.2539802742308124,3.729459844765523],\"y\":[-4.534783290393816,5.638322783504929,-0.33985599828290536,-11.161030162941401,-3.492715363558633,-16.770797462003944,-11.113649021739118,-5.682460259465684,-7.401205590600356,-4.428105644015746,16.574633165280623,-0.6742970221156334,7.102669659110002,5.769481820270307,-13.815388130116625,-5.945934472986247,-7.074341504461851,-15.818950389146002,2.5911597693301673,5.584269829526694,-13.157149661845152,9.577198833583575,-8.0344034886694,-9.558869735785755,-6.301106493940528,-18.351086807015808,-10.42311310658714,8.529560244787959,-11.576814613561128,-0.3698743826536763,-7.205853734321786,16.802663564452807,-18.276429662154413,-14.633582684485704,1.0521920743287316,-13.287987111732708,8.50527707528826,-8.183957911028338,6.341908855940088,-0.7766754673755987,-16.944695227611298,9.153310880722636,-1.203202992885761,9.780065717182056,13.797860348172136,-13.492685849091163,4.280237495296393,5.451812049806601,1.9539604319236503,-13.9038110460253,2.545250050656736,13.24123607233495,6.1801074371203315,-8.533883581283218,-8.155247173044259,-3.1356966745459145,9.234206905457881,9.261375028926281,-1.1499312462934168,-15.831481552226625,-0.44656450126973896,-5.710694409273404,-4.42793108880425,9.863853000845515,-4.5087257382812505,-1.85466867334339,-1.4060498525572716,16.655065557803464,14.984327792327722,-3.440831056985879,12.81393927516308,10.842846888955117,-1.6625530061693454,16.837060363609602,6.452883854783785,-1.259561326870081,-7.1664116685879025,-5.078334076177946,16.80538600875959,-13.193924587066535,11.091769755203465,12.022509303137698,-1.7408187266547093,-16.63809075602411,-12.851661500889367,-14.825406366753615,13.251572552565705,-6.874392643283104,-7.686623593278434,7.4598840248551275,5.804813954765279,-13.941838127901544,-12.844018041657211,9.677418728752533,7.6035177243781265,8.867566755973204,7.0167779783986886,-2.269761114877148,0.009596500412304181,-3.450827257302555,-7.807800864669053,5.558327290442517,-0.4766080509733448,-14.035555517140299,-9.161058110285335,5.469695986423539,-3.7206328925358774,-0.10247485367078238,-8.964748142900259,8.52689368236725,-17.180061570091098,10.860125329236299,-1.0053278162142776,2.103757902589486,-9.460701702629475,6.44652339129535,1.4618267906300377,4.398228339176281,8.74890235002341,-14.626471906205309,-18.260843507149303,-1.4386052331651424,-13.871229485587643,0.3271924882558728,-11.045320138113857,-0.7947178918707349,-5.370056242981604,-6.92518508190717,-4.774944896628803,16.346142623983823,8.298420552759035,15.453734222572912,0.07301289903489525,1.8077385992334027,-15.619158922865735,11.976675626718515,-14.749676280637884,-16.212473576551314,16.609680812876807,7.089475461215589,-13.032717949439002,-0.6477786980517608,-11.755188617967091,11.103616396103535,0.10733209412147712,-14.641167112288258,4.967162647412503,-3.3739770682462917,11.468567735604692,3.035968579627686,9.598236475505555,-15.20991925798036,-13.669581496654406,-3.7730845295424187,-2.383994062572063,0.38248108500648387,-7.987173247964493,8.450722143541805,13.094042947399403,-10.286660941034645,1.0580136856488453,12.832921462674138,-15.653099226656902,10.809430372165954,0.6094001422355998,-0.2827358618434183,-8.062369757984358,8.591747590316857,-12.075327359306831,2.7095460551294415,10.693599822756124,-6.0016660898336776,9.679373300181751,12.761180280005004,11.094805498956234,15.386619871702353,11.348505608407168,6.655098307418877,-3.2959271026992116,-16.694065329035826,16.840779013765683,7.659677238669081,-0.2001381182005753,-16.747343702532774,1.9190168752308023,-14.493085877239283,-4.666555289317765,3.28922165793145,-9.50291494218745,-0.41234803784144747,-0.6735946574577296,-8.10425325940991,2.027029828570268,7.640625611467346,-5.165889058063581,-12.945110514845185,10.004490618738387,-4.526108307293942,-6.736568148097134,10.745498954033883,9.914023140707336,7.305580251477204,1.2462126087297076,11.343468992738186,-2.5548149994151825,-14.608997404088068,3.0711126767504995,9.421909800674626,16.694059321729803,10.556360617691338,-1.3522815276093472,-3.676772280918476,7.638777212243109,-1.8472815339909499,16.70060081605322,-9.041015127284886,9.766184512698272,-8.718240111532918,-12.076456718878095,-9.165582148068824,-18.184962466897378,-7.801562740228311,3.4989692257901464,9.521489755172523,-1.5689862928566427,7.592986970704114,10.514504550281499,3.1946710520250905,-11.711730560172798,-1.215698549935679,-16.510020298110994,-17.231906127205903,9.662490556157916,1.9445740173280175,-15.870968566868875,0.09335325292530834,-5.7768138861730005,4.574863292493554,11.24754167230479,-15.208134140948344,-10.491492674144226,-5.356042336264118,0.4208854712038146,3.9198530289842908,-6.66195395660035,1.935896848946654,-3.885260174641454,16.6533418811526,8.617718905529388,2.323554156865036,-0.8673350170005112,-11.19353771873137,13.159989341922248,3.9305262283192905,11.216555155661881,4.0028946187488925,-3.9685756497985207,-14.390946127375782,0.2855439632207155,-14.856947149947196,3.895482263495664,-15.937698764351307,16.824057700454773,-14.922675481009573,-11.679045538238332,17.440040161892863,7.551525558283945,7.392075502429327,-3.3665359971347724,-18.067656894906417,-7.881682672563635,6.490235810447671,-15.101935193549322,10.402100759302439,11.102258601630217,-2.296218684187967,-8.92717022416048,1.8690704894985966,-1.2299260665775376,-16.71067365055784,-8.389941417972643,8.307290765159557,-10.317977386412508,-6.0345467000617,-4.216362691501774,-6.082122442867335,2.696150024301575,-11.803989565204288,4.71748441577518,11.696374777771934,-0.9441188847737539,-4.472663581731656,7.41864832881131,-4.747268151009538,2.1377868869451904,-11.109668321618464,-1.8667733376184807,-13.995138653401293,16.68831868984433,9.93787322339393,6.72456530420157,5.8774096596419465,-9.32525844332591,-8.236899751126183,-14.35307359545207,-10.37480143155841,4.047743536204995,11.135468892278437,10.746138724752536,2.376567099908925,-8.273087633924934,-15.926252986549748,-18.265632519796775,16.68161146510762,-0.8704601351515188,3.9943263000719815,9.941823964384868,2.021391638392402,5.602453431960436,2.847900418721749,-13.509184040524019,-10.10434279860677,-7.254500143708183,-1.1361012103694734,9.744285138821459,-12.95849413675008,-3.6905857132375517,-10.81177400701248,-14.001972763018628,4.5834132390267195,-4.778807184593238,-5.152299755688973,-0.18798841806964542,-6.51976620663541,-4.976193049758148,-7.837781268058808,-13.575729554675574,-2.158324515810931,10.659804520213246,13.616269906713566,6.831196619342809,-9.416930560000727,-13.253287461111972,10.007383035606457,-13.29681762863141,11.594745040974825,-15.60276242721568,-5.190762577059992,-2.966578813201838,16.684704145274036,-0.025350273946756516,-14.05461930520682,-15.038860928800695,-4.182848820274342,7.47494953501707,6.715467135488026,-4.535810123706352,-0.08605096681127003,-15.997111028214702,-2.421885525195289,-3.5794502517495324,1.9926582162950792,-12.647086476629486,-0.5681309837613813,1.4523064795643796,0.12614710156893646,-14.091365589139377,9.750776882363335,5.5287239554077185,-5.416548496259639,0.9691592753695922,0.6637574493103685,-9.542317838885397,-3.429433079655418,-1.2480350745748918,4.085434216239792,2.5632162701986476,-2.378570936724626,-10.349925612833385,2.1898852485911626,-4.510741800331907,9.242774529757218,-11.139929779597766,-8.033922555457032,-0.0008670943664799035,10.050708641026292,0.3483223972347632,-1.5355136512421184,-17.867593602769617,-2.250004717656035,-17.802187601213546,-4.238071077318612,-3.657097683410308,16.62935663205003,-10.702553802426399,9.330907056007117,0.48318875622881163,11.783019565414682,1.0299148405768703,15.74652409257384,-9.814158875217734,2.181365996963917,-8.00717537512598,11.135960135502643,-10.269632010867527,-15.84424013390395,-0.22293253820581804,-10.643377860718278,-8.358699867253858,13.06209117952007,3.5865996456952076,11.304213465763883,-1.500132477346364,-10.427962224191651,-3.8558874788932926,-4.358855856949107,-7.205914873003245,-3.2863348955314162,-9.056186813565342,-15.960865930334332,-9.605179612901967,10.146624519981803,-15.761109627830663,0.4293569192190211,-0.14075833454270303,-6.856467743880725,-14.464046807275594,0.83203496670384,-9.541031683811648,-10.206467029118066,-12.05986138310123,4.9072530639708205,-16.768700296943983,12.433224252036643,13.78984774987586,13.512831795048433,-4.729360470035751,-1.3152426295687851,-8.018046840001663,2.428135079109084,-4.434191000199954,-15.211024217475357,7.164294973006061,-12.97759465763584,-3.7656045564126033,-3.437690178949822,12.11364454242891,-5.257482974846812,9.193821582977263,4.227039466715724,17.897293347748107,-0.8505529164181953,5.6272269256734555,11.44201940110454,-9.789335453046196,-17.068707274123188,-14.534135453211789,-0.05884259869266722,-8.052425874480646,-10.826995872223424,-3.3622165762026732,0.2370343199471219,7.067886615854234,6.162907144374112,-2.2578885284957266,5.761918165956634,-4.929356078810404,11.045578914615946,-5.217798651413915,4.0443907228689895,-17.035652161905322,-10.591966932595943,4.683625761606272,-2.9686117273784656,-4.409553378390796,4.582293144969792,8.334696667562138,-0.6250564133960522,-18.260347263666496,1.0732478686183027,-6.546202966637948,9.37088235095012,-9.973039099184678,-7.035735936574529,9.96546755881983,4.682683773573858,-15.053254052950166,-14.623776398366909,1.463470683494735,-17.83311016635763,-11.141727482483654,-2.6833402207089376,-4.669074292588788,8.6386918012307,-0.22832955764996138,-1.8538550698355791,8.51521985821929,-16.12748579897307,-0.5732054871687288,-7.804306526265512,6.116673153680107,9.891482849655372,-6.464500577358529,-5.168025078831619,-16.532569812485583,5.2802177598195446,0.3617354814517709,16.059543431925842,3.0225728767933324,-11.455904200235963,-16.67714908726404,0.014614152115708448,0.0862221744660685,-9.711480199791868,-13.20712701260811,-5.74492814119343,-10.861717287912438,10.000806180009581,2.7532946158337945,-11.248890678243672,0.03805390969808444,16.810710392520694,-1.2784899716027633,13.295417498187938,-7.6324344159118445,2.298767938875995,5.592788604662066,5.491423394367445,-17.84047168963742,4.600161276559657,7.644626887986147,-6.021872433759016,-2.4570831202067556,-0.9645485419680616,-1.3567270646372225,-15.059912559000672,10.289078037470684,-2.22878600942765,-0.919627433492465,1.8840780733815983,-1.3580356203753896,-0.7678510150894604,11.155545524927968,5.791209623348103,-0.3356714015143091,-12.20504135300782,-15.006645153244397,2.570268627949995,2.1913709726527477,1.9622680424184555,10.02566618286533,8.77155663530346,10.31650495660234,-0.2525483038835984,16.824871939292304,7.978972166541458,-5.792371945749067,12.278092215893775,12.08172681393601,-9.403290192666304,3.3745061225887265,-9.573416905372303,-11.248733157629447,10.574779437665104,-2.4020203819646486,-1.0379923374815037,-4.179472723212548,9.006890405851099,-0.024222711365795197,1.9815579428752383,-5.969395184455463,9.614957830666318,-6.0540422449913995,-9.7712739134005,16.811252495888503,-2.4835563935362317,-18.282830892219646,10.763129746806145,-2.4882696642152307,3.4059328865736918,-2.5915657791688287,-8.745682830389324,-1.9251530514567659,5.815537428691359,-18.316289086719042,-6.980696995283684,-11.559436815865675,-5.1720429256671565,10.15559912931517,-1.7306207988096198,16.786784692376227,10.781237216616587,1.0940151750164904,5.756650702310877,-5.933357741814459,-15.836464618446177,1.9013790330944844,8.886540340186619,13.916337125590932,-3.4485758022119364,-17.837300669239443,-15.840424355475523,2.1512486705022122,0.48528220707117037,10.76208807433909,2.0587676629229645,-13.277717168237622,-5.775187210648794,-1.161897540611739,-15.341989770309281,-9.378360369950265,1.4661479125626273,1.6609601495648343,17.37439136008135,16.809093283980502,8.456794769036145,-8.211993504484006,-11.106717989213946,-5.218827391663861,2.4166023559535903,-15.708365232140746,-16.068272725812527,1.8118102665282279,5.41175132438635,-3.2342614268478975,-0.41967332575595223,8.915802894082532,12.110061575494372,-0.2701802438835509,10.731639555378491,11.141215530370078,-4.902423299691344,-7.54538578278254,-11.019015021014946,-10.497919319724785,-6.728621430283378,-3.079467910480193,-6.610589047590561,-6.595327697299139,5.255288248504609,-8.510507924479802,-7.115270164752776,-14.088476226346925,16.65388885185786,12.629247759383345,0.7474231759288826,-8.681350109308314,0.6082074423246769,-6.394233889635552,-0.1634119387204502,-15.333741216746317,-4.126734806259991,-11.09427462327253,-8.164247392792635,4.688452725058776,-16.29023313543869,11.08469380496392,-14.509645634141824,-2.003720806971215,-0.7504776877516693,-10.834739140409575,-15.129214505150795,6.905188223771223,-8.331450384113424,6.374629498839133,4.246090049745424,9.628820704995526,-6.593869500517132,-14.39694199708697,-11.144605458831078,-11.386094929421846,1.6544319018401028,-7.033675961544045,9.309425614020876,-1.0052691104198448,-0.43190694428803317,-3.402543613050155,10.952602380130122,11.15573184864887,2.641034022259475,-12.908525504954447,8.61100140616464,-7.134625603197583,9.19340554350674,7.017004653680155,-2.260756108112054,6.451901657041751,-16.63432289282798,-3.4607849433774884,1.1608118265081593,3.214450625510136,-11.618680328779279,14.174479149645355,11.241642693275768,-0.09393679464594663,-0.6289503430305277,16.73070309703856,-14.645718838111135,-14.858936402266686,7.530919285240646,7.450324238006989,3.639729165695372,-6.537597094258842,-4.755697200089555,-13.076119510505634,0.23983374239202457,-12.06860778075758,-6.643021747455093,1.8860406006683168,0.8910296610672392,7.867278595640975,-1.28065310703778,-0.3191765323240369,9.882332124971196,-0.9418763565748917,-4.478228054140814,10.360884100161917,6.216397669648843,-0.6965946443141636,10.915552302744608,-12.183592618186626,10.852803127737067,16.678231592252203,-15.452268755460715,-6.43328174843527,-5.626610844155596,-11.348271147515602,-14.882247817246292,-5.416908283858005,-5.978692617652071,-10.513864228597715,-6.878599711355155,-14.347417003105628,9.618258321879898,-8.09155689174744,-8.182855538927116,-11.151731787039282,-10.068680734421482,-5.469590001792591,1.1786425235381148,-7.438042700430844,14.942467026638873,10.41183207008453,-9.034302703523702,8.479382740469411,-1.2658791438851993,2.0423396168577863,-4.574093945506722,-1.5577057454344398,7.4983139659620175,5.940982723127866,9.835489547645883,-10.443283264761781,-5.660788890178418,-1.1900707133729425,10.192300014960647,7.0873649108008605,12.849362499664124,-6.963827115146106,-15.806929100503648,5.772006639386161,15.360412279164338,-16.666872289283447,-17.364434030725437,5.410020569705048,-2.8989280551258156,2.8534136474381313,-10.423708808212334,6.335213397231961,3.9549137242915933,7.243074142561496,-9.526142275251232,2.1986505447416973,16.824271215237694,0.38817461112098134,-6.935887245250903,9.874003927029095,-1.711333149810655,-7.657876962975962,11.071978613566861,-7.545230586032543,-0.46926914260307273,-14.886068253234049,-10.911053596994806,-9.464309932225165,-11.750712573536982,9.05935037852215,-0.6749900947781677,-3.7255070575130094,9.323384327629038,-0.038495198773997756,-8.192140547524842,-4.197618817774571,0.03927436129418973,10.4204738317227,5.927790555124556,11.01522815804273,-7.236963432203785,-12.64967261212777,-12.920723094975386,0.24372103072102927,5.832020777366627,-14.465156060692308,-2.5527163379623414,-5.294289534939457,10.197057328156271,-4.682020993720085,-14.547392226396093,-1.4051303938925712,-0.08108003779337669,6.8635829780141915,7.251560582427879,-4.54136993470945,-15.140548086483571,-12.564343891721094,-2.3467014976238234,-1.0933926988333935,-10.302342466435205,-6.0215387073447895,-11.350612823687232,12.579821352361385,5.971835624464341,16.72949343461248,10.760679651261032,10.487155070599023,4.815299017901305,-17.198902261234352,-16.00090893708727,16.685623038727822,-14.607670842183863,-9.607460299585128,-16.845322970098994,-2.2538063431628514,3.587889999661455,4.611158757850363,-5.234343963957256,-12.969247033703121,6.567909427775511,-12.912839636788458,-16.190324614267922,6.084557863010261,5.722156454787027,2.2808084815137923,2.351168191492056,-5.816801620764347,-7.220639763042718,-12.877655315739075,-16.911308407973436,0.8908489702483562,-14.650100102922163,-14.87398074938472,-13.50597532221525,-0.32992310184590357,2.122713639840256,2.367735074114818,-14.170749352070848,-13.627687395494464,-14.95722735161255,-13.31691555427243,4.9292985804897125,-6.036492487304961,1.980942083988252,-5.037665639448781,14.573018345227329,1.4319679757899002,2.8699935391074005,0.41043667500329567,-4.866495391294959,-9.865007443480808,16.441913621709183,0.9223851084241885,-4.785077736696679,-4.743851278109021,-4.465119915986431,0.3409221826557235,16.81149030636216,-5.617874678086321,-5.659641111650677,1.5285281364435415,-4.1728134073148455,2.3148548633623522,2.320846574275317,-8.088391769303843,17.250331004380374,16.695074807875756,-4.153978560298465,-11.327305411688387,-7.038265567555975,-10.712886397729191,-10.486213937323987,11.304985701365485,11.194002172464712,-18.293666902492273,-4.8384711579844355,-12.910803682304945,-12.979251087088828,-0.04006443848819613,5.593125405983851,-7.314028240631185,-6.804218242087197,-17.23485765582108,-1.9218950194892717,-18.29254923610661,2.7893916145910342,-0.08712786384722385,-8.522632854956708,7.545652835350068,-12.961989168820129,-9.113608806253513,-9.872809937672294,-11.360859554371418,-0.5923020801322382,1.343047960080573,-1.5927485596054833,-1.201146056195986,4.620042055082716,7.503058713807437,0.17938078427911708,-4.063926531774513,9.774713490575913,0.5647039615009982,16.741061509211512,-18.42955863393844,-9.917028592530093,-1.9587882211389744,15.289663956165146,-7.15061260954541,-16.054116706810586,-9.571764162994228,-8.24153450176424,16.804601194206,-13.98976911669543,-0.2818950919380714,-13.832256119887195,9.925536555366312,-18.431670193461667,-18.307108212270634,-8.578977203875066,11.026203050186432,-3.1765219946600842,-13.26157213495975,0.16763263231654127,9.28337530829733,-1.067919676255155,8.174535475228085,-4.035880086894042,9.33791894301805,-5.021561977519202,-3.341601736292025,12.449327347242361,-1.8376105454426188,7.634659642025809,-5.480000165027881,10.678258650090923,17.178869412147897,-12.025882617140958,12.720379854567838,16.715942920093003,-5.585599698202648,-10.393116163520965,16.024728993784702,-9.628857420496793,-2.259109927412374,-1.2233015131636082,-2.332184897338821,2.292100979110872,4.907402548935628,-4.9744330296682495,-18.350663709516958,-12.888731248484449,-9.598643970047217,-15.525255158245642,8.74941648683889,-1.3875771445218048,-14.850776275365305,-6.8306785309825475,-18.093643873946938,-16.269676162298413,0.8955831479592918,11.346196230329651,-13.663192787971832,-1.122138907343755,-9.0509289390331,11.720415246969102,10.462891795861104,-6.466586928484541,9.583344852530004,9.382198959576398,16.747006902675306,-2.2007096863416375,11.37905737475631,9.244122575654524,-15.758773418382297,9.65437166126905,-12.002016750018491,9.70085881950826,2.3823378526023924,0.3132306578654031,-14.028895268482477,16.748344193820785,-1.6789731144731448,-6.159002358743557,3.664218990536056,6.640338365749294,5.319744204550994,-5.369400566436097,-15.941084310773205,9.277118484202354,-6.844239540588126,-4.057351572112552,-1.9617637800179455,10.579525420763204,6.389488178401682,-12.089730961225985,-0.713901253262757,8.181851059038557,2.3196222473400687,-6.965764588418737,9.559144818954472,0.8462589970087916,8.967737171804465,-12.367856512994285,-11.004879316094346,-14.734025980262537,2.6981174043225713,-10.927194694681557,2.1492797764972202,-6.832026854494324,-9.872901936700135,-8.486662564713209,6.550108976175754,10.393592749060703,6.295195635658459,-5.686063092482656,-4.822941070487754,-4.0315485590012825,6.874478945776518,0.2898807511986235,1.055865333136974,11.687709189016944,-1.174670293595959,-4.513279232419348,-1.7408706206272695,-14.95592390437651,-0.8772600696854258,-14.472610869643411,-7.058735119677959,-0.5614269249968276,-1.3441528558961648,-7.176282627684876,-15.408816425996882,-1.9269000924523263,-18.734431526957913,-2.208113043358185,5.746436948734766,13.096516104697939,-16.636223434902902,-7.908856556602576,-1.1249708019078373,-10.656693903971526,4.285328803548032,15.131641608618168,12.060477716115818,-8.13805715530584,-3.3238009128776036,-6.8498222597137355,0.7564707205886433,-12.99408135471326,9.45940929013469,6.875211669853267,-6.417956418288906,-14.743653585184138,-5.829464619704704,-4.194682202292432,9.494100626665434,9.900362622928547,9.38280684428465,-3.3213507480549125,-18.189933077009044,0.9542729161288626,16.77668220949478,-0.05620051667208166,-8.634772919918762,2.3717546635261035,-5.4643824883467875,9.852946786412554,1.699179201210931,1.6273735343737812,11.273055815988672,-0.682414955960329,13.629412128115485,-4.551938943728479,-5.99872444737836,-4.690847140880716,-2.199584620837701,9.974888951675322,-2.1244361025708045,-0.709976053358318,-3.908671314748735,-0.049609760427160976,9.942507153578438,1.0417887702304176,-15.410893320800954,2.1863311937759002,-0.5433997535965517,-3.585327291854812,1.284438426927366,-0.3425991038641021,0.16482231955182788,-13.999673439426687,-5.201330899493486,-16.25658026795014,-10.87693065836833,0.19693093932026587,0.07021277226854347,8.434549790080787,10.005731277350154,8.285299557868358,-2.8529144543854703,-10.058252411878573,-1.7636576784592282,7.603083682305893,-9.679084002577003,-11.824415358239555,2.0924186200876265,4.581785336421901,-12.380149332409468,-1.3611694430404833,-10.451860994515597,-17.846381139726546,1.5501392123349065,-15.082470568103302,7.737474711766269,-12.04667492747073,-12.419635750491377,0.12187471409764396,-1.1910503425627934,2.3350135500625737,-11.627594624473694,-15.16821785565206,-13.968978771573376,1.9160762259804902,12.054368048404275,4.187573630790172,-1.9520558734384232,9.89788434481107,9.332234250268234,-16.844857865672857,-12.073020142224928,-5.175486503123859,-10.664546008481395,-16.453821085019833,-7.105944370430681,-0.35803523431953604,-1.0741841137709451,-2.343184067165682,-15.019636241445081,-6.962793580591641,-0.3874069209229151,-10.662279224389476,9.325119737689311,3.742932362774261,16.642104172333685,2.063487562026955,-0.5730883640256648,-15.600532281543437,6.697144474792421,5.911758823917828,-4.970633503611083,-6.551499379397156,-0.07881432454975441,-0.8291323312631634,12.973253823029417,10.898285588652017,-14.426360259130488,-4.079720712419182,5.940730829713804,7.118698129989525,0.9978061315191,-14.589196089255317,-1.1872679629927736,-12.33165950124741,-13.738771863289614,-5.1271641160875765,-1.1638544179175128,8.154346188732355,-0.7592138232510246,-4.725426980721148,-8.159813177291781,9.902023570402193,-11.158606335563434,-4.398355668318088,-8.981412426863113,-6.452021667291394,-14.967806538338998,5.096656725968991,16.71679710670356,-7.581735631746099,-12.352638931987997,0.37498277237717365,-0.8985101252040104,8.063573165358562,12.297852915316033,-4.1883290455711615,-17.05230302452641,-1.7017838485085657,3.4978064652893908,10.159954233928682,-9.273810735929889,-5.793666825594028,-9.453446005703201,5.454596399396059,-14.812816708656195,-3.6536996234752253,5.5726997837099015,11.766866068481765,11.962843907674992,-8.990763938426566,13.104522408286222,-0.8622679682905577,-12.005942575766746,-14.653297424428422,-5.904791678926493,11.801146991259987,7.553546835013967,-0.16447154152872973,-2.1651363081921846,2.9203329477168825,9.672802433084527,5.731334637852407,2.476169349156715,2.420246681085716,5.7312454398303245,-5.9211816113833216,7.814476839209804,-15.776619157534238,9.778976294962424,6.168668326742034,-4.263259884336774,9.889881431186238,2.14134060176278,16.679183422860984,-4.5990633867612996,-5.142765276759968,-11.000927541197669,-6.890211739373877,-5.52375844301918,8.288517701799284,12.923893725189636,0.49429120573515634,1.782199120586086,3.472080755571346,-5.426148843788159,-5.071277727364444,13.240901562085986,-14.677533513297535,12.948354782744804,-10.052956184544037,-15.877934427166155,-6.719144492903042,2.641492275596453,-2.352404353687268,4.998584462521576,-4.854887409785215,12.020248935090104,4.164390489943697,2.3319676286693576,9.574994690796222,-10.03419808136552,-0.9227315707284199,-8.15047419941094,-5.049326778929576,-9.94914127149911,-4.259960563512889,12.616032264391283,9.66469291875858,-10.379256213040598,1.228886087288837,-11.343797466804808,-18.431945182367112,2.435578784739444,-6.780226134021861,-0.9247406304939052,4.366722579215311,-2.067882362160123,6.331419569037045,-7.212131236307022,-9.659561949396867,-4.413574695247822,-4.6266426779258545,-4.858958738328654,-4.9117814114170795,-18.286655286009456,-11.040185915445653,-9.336246795761287,-1.3430833978636911,-5.52208247836971,-6.186486735519404,-17.228342476819186,-15.612723665465273,9.901590828545592,-1.3095210265562662,-2.2345426049439214,-1.1178785679878436,-15.949595537753495,5.646536207894106,8.672787257649254,-5.679131550082246,1.2407420435470278,1.294687140674981,0.14433096285960956,12.899059087295209,5.433544001678951,-6.297299804172769,-4.427110078627799,-7.748508990802958,-6.660049875825944,-12.893814672684371,12.7584023631528,-4.889560866151674,8.84153584773031,9.018419638328934,-5.307451354946913,-10.480737350411095,0.49226293037695046,7.482098775729694,-8.74426434837689,-16.285623559505026,0.48241467124547016,2.0867509389140384,3.50269766263975,1.7371625150338028,9.783038955612316,10.14209112292868,-5.24341437955248,-16.858604166877846,1.4915924559611977,-14.167976097010376,-9.377103740297315,11.960454649740356,9.535327042282487,9.569586612376613,-14.948790832047745,5.985488986596913,-13.46496865573052,-1.2760974897722226,-7.583835535855264,-14.36675039155684,11.486127931613154,1.5110324640460844,6.243974333503912,12.499661291365708,2.471422451597453,8.929320780614075,3.950629192443901,1.9663743819362318,-5.9688629613691,-14.06343258006863,2.7268557578675354,8.324177164670663,-5.71236867518742,16.808556127712105,-12.373408439007228,9.315578731403752,9.808805450679612,-6.78212651997535,-5.593704409499929,-7.322856121092254,-5.111042006848004,9.131710321270678,3.3110832129633536,-0.09575493998717324,-14.534297770861691,-6.465294588366448,-5.668179207487953,-15.527050434748976,-18.25470011624178,-6.659672380300774,10.950794465429578,-0.577218903550701,4.797087307837607,0.0901327097167316,4.890912860559539,9.654450187884578,8.56416352373257,-9.158839765260154,-7.677417249152113,-0.6073461737328799,10.465441273582258,-9.325014956940654,-3.4778618355691506,-11.804860508921319,-18.34944075899655,-9.050727967882978,14.708928310824128,-6.369113350355007,16.349037846476268,-8.984218544993883,-9.083153802940252,-6.982917462919532,-9.549093510954705,-18.28414849278769,16.78359957314961,7.661959539527121,9.968926356498047,10.996261867178077,5.671722523124589,-0.8648897994794605,-5.60498999879219,-7.283162341134491,2.9902174229310257,11.653349822744547,11.248835089806466,7.723264760479788,12.991489218569896,-0.32715693149766806,-12.942442564284514,-11.648002465349801,-14.66690931105059,3.971237213650917,-8.36030640289325,-12.729157727942301,-2.0515250927791793,9.57940263873426,3.77392575758432,0.2508947460780367,-16.619652652489528,-12.369071659120728,10.392304733946917,5.991300968708203,-11.174082062868209,3.4711370554162655,-18.44870086446836,-11.162530548448716,-3.3481828395056317,16.63616930714461,7.602704066722375,-1.4933175295176337,-5.967026785456438,-5.5193482686440225,-8.133635368514216,-3.2097296509658437,-5.792756938500877,0.03907134783200762,11.167742655328873,16.812271532778116,15.11647143891887,-6.3909062153369,-1.1468633168099829,-0.17971532003540072,-2.104661302469438,-4.13592047103792,15.251188025020399,-0.7883738335228044,-11.348442377745128,5.801344062419331,8.161836280115569,-13.132122658490646,-13.531214223841936,-4.723697659535779,10.330958685433677,-13.46816291021619,6.9581722129200125,-9.761683650431964,-2.6038456214809904,-14.128557212355382,8.618720812368144,-12.971418618049954,-5.521872228109656,-0.46613383188531277,-8.913247756133872,-4.105679001946364,-2.569556720165028,5.300566571012568,-2.444381157464673,2.7131593544508203,5.701062149414066,-4.330303758321049,-8.37962905362091,-4.47685247934964,-0.2330569651910438,2.0906777273872725,10.014223725251059,4.218521490412009,-7.188259633189994,-5.513182360532182,-1.1975831912832096,-8.628416342900993,-3.3161783404538565,12.04733965898533,1.2653046684551372,-14.074498002339478,-8.83277822488263,17.766464134647965,11.290891279390546,-9.51842772102021,11.09209841683459,8.840574238683425,-5.6488582996135746,11.1729211168471,-17.228609690632435,11.347088074008877,-16.78425872605945,6.784549984869949,-11.127364787460056,3.0532155554622156,-18.31440581495361,0.12325296212155559,-1.8549288608082755,-12.870974580019231,-3.8810221742550395,4.521763193283919,12.025809742423363,13.202523251752906,1.9369125619646765,-1.9224727317339776,-8.668591143217679,-5.409323205266099,9.784849174501005,-0.13315893972356999,16.753542479986383,5.775946626682244,-11.119460296462869,-1.0678320404866635,7.314042538342708,-0.8604202046586598,-13.446780911092395,-14.684027467914552,-16.94034821145459,-4.251789879214699,2.2816274785513118,5.206510861043243,-14.667770427548101,-11.360862322888329,7.6713911223191165,8.63361988172764,-0.7614265434781092,-4.184372903123262,-0.3779713919858349,-11.272916525446423,16.82938651609206,8.778875395955916,-5.7030058044995915,10.064023220413457,2.7041527637888114,-2.588828553062319,-1.695872341217316,-9.131153053259812,-2.2689329576852804,-3.8810966786767818,-0.4639409739862575,-1.2475389309549003,0.32496544456020104,-11.288048418103806,16.682744472530914,-14.465152593502893,-18.254772739319336,11.666388351510989,-5.81574329162607,11.684954722576903,6.547406727138501,9.897418980327135,6.764579213071016,-11.017514755777698,-5.7675984393098,4.127493687972198,-4.921942425629248,-5.945599799404115,-9.86784396624634,-7.723711251908158,-0.2958097164861842,2.459217648343522,-6.64123355710436,-0.38448172663194957,16.7991450690201,-0.5461832803212309,-14.356585158307007,11.152456819144225,1.8872794085617532,-5.698374185755143,-9.768414848069737,13.62592914892271,-6.488906513611275,0.8850189344092194,-6.330790038043794,3.402694546201952,8.71597331942187,9.36289924287817,-10.562408547400908,-10.552964244045086,-7.365878357869194,-11.303930219342007,7.790835518894529,-0.46263971883023697,-11.012793150349896,1.958728557166058,8.156697997231456,13.692502333367328,2.2468951963002595,-2.394720071691896,2.394315243601476,-7.506480839793153,-7.174105411229798,-7.072151746376761,11.881170502263275,-16.104017636596602,-17.847030668019762,-6.781297499048208,0.8701088585752186,9.683707369341647,9.523067062680092,16.821316842805,10.446647042169882,12.819591751680314,-7.742498238204508,9.804393096954497,11.895966655028753,2.0268548585712383,-10.699966001088342,9.8641264190088,-2.1263594480037926,4.06012330098795,10.679696681189016,-10.088388473122208,0.23134313995745787,-11.247994878166642,-4.675634659472129,-4.978456910161467,-9.796781584729196,-0.4179780132235838,-13.513188314388877,0.2144861751123635,-5.496226116879579,2.136680819872813,7.25414917753833,14.796159573672337,-10.77826037581569,-0.762012607407012,8.789043247515227,-8.633558844374859,2.2902200038111538,13.40242394164722,-8.548424526900904,11.361791283755478,-4.227837457497412,12.051725205099645,-11.32053838153713,-1.3884345004181455,7.308697913625869,10.946649474028654,15.97980120259071,-4.314230201645051,9.647324664180298,-6.620125126371359,10.73588288145079,-0.6907479479849024,-0.7885720910393204,-4.207832347129285,0.8796295288775999,4.371863485294048,1.314595003802262,-5.115106853488715,-0.9084354463884003,8.793310691334929,1.0562270475611977,-5.72413640879495,4.34577232662934,14.071645400918833,-5.814548987818852,11.7593154763523,2.487621707207174,-0.13297038362176727,-5.388515723044457,-7.585884971779659,8.362403534788491,-1.2565294557605415,-16.016096986371704,10.623340258801571,-12.320809945610943,-5.375580952722585,-4.659584660368998,-0.4600008931620565,-10.891415496020059,-9.986119810130457,2.2880813834135365,5.366061355765913,-4.189955295299587,10.481303053390311,7.643733771997006,4.727597771558144,9.257562099463582,-5.492621316200558,0.38251648468357585,-18.272351645214048,-5.8805925061759545,16.83086504014933,9.346601082116862,-9.08272054669455,11.293425133897893,0.027903475690164672,8.57000783593879,-0.2365174945793288,9.874596392916438,-13.080205262487018,11.225238987165552,9.717548004763218,3.5102769422855635,11.628478121620759,0.4009715936964222,2.7353999138993697,9.675792166703847,7.5979456801032565,0.7903912144843901,0.44276965082322767,2.260130940449989,-7.770053755757322,-0.9918498753983322,5.9623165242699185,6.777531145258489,-1.224346691917429,7.821934830143969,-11.37127871377991,-7.913696998560308,5.057503620381932,5.2761485311291185,-14.044409828947133,7.9441079083046855,-5.071905853121525,-7.83338635327238,-8.128020173555981,-12.123148833865047,-18.060395391789864,-6.195919303903797,-15.506837218651055,11.092425856696455,-8.138111812981276,-3.58091078074678,-0.2324945264527429,9.972236089829355,-10.647365419870487,1.348873053557383,5.436996123120106,-14.93017459341337,4.583003129686512,-1.0903963907913365,13.306125724872528,5.776117285570834,-0.531510293370723,-4.429685879324393,4.148958723232638,16.831826284636215,0.7090210324803821,-0.12839745532058847,16.668064476998023,-0.6674480909021148,12.022085960399735,6.5874791794022345,12.798297197898423,2.005185457515147,8.677543040057818,10.297253367354083,10.916818331516687,9.596479692594064,16.678584831901897,6.697051786909548,8.131263747759036,-3.575573308909341,0.34923215926514695,8.081782056814463,-17.871008692389207,-1.5563639921702157,11.171542472922276,9.173596070644678,0.017507317336416563,-14.711248437948795,1.4770735175282723,-15.145725969264996,11.878581327222479,2.159135600121843,-18.39396984431257,-0.5405374060062768,-17.94272506938042,16.571438623931467,0.30273384666081504,-6.64955392750787,-4.252428229668072,-2.179434210399633,-12.558435464579478,10.218229328452852,8.515305658934889,8.067792162208068,6.213323091370808,-5.802667285415464,9.389263227604747,3.4203505101548832,-0.8204749050353691,-18.277801449520634,-10.532303829928862,5.367224788757442,1.0487526194606922,-13.974059403492038,2.4403989653247717,-14.794196846271939,-7.571221160130766,-10.468245877936706,9.070942263472553,-12.096619103259538,8.896318718809143,11.734271442860246,-7.987595732054134,-6.062660286011976,-15.514372022518902,-18.22919786509804,-4.6617731703380905,-18.33732753503554,2.329033938008607,-18.27523990477,-11.114467360014606,-9.638854752127319,-12.087040401202461,-11.642520919227477,-2.211035138635176,-5.318748357907737,-7.020437429894536,-1.6885428529845878,2.0051750672726585,-4.898252009916308,-4.35284726286254,-6.842393126827815,-9.026466827881334,8.264790823146276,-15.551850251634173,-1.0915294229926438,-14.275463796777744,7.210012362732745,-17.859860843685954,7.827454289077073,-14.445352889378963,-4.429479626892469,-15.418553599445758,-7.249780651791924,3.528141507906058,2.7604718818469363,0.4215479197471732,-3.781466323097083,-0.4498436557809716,1.2509176172828056,-10.62135377154415,6.360528128490431,5.047917144619215,-6.774818002786696,-8.202461615225996,-0.458613110497852,-4.096480698275959,-0.6646978663491913,-2.3342505326924283,-12.937129504197777,9.824811322181409,12.458357482256567,-4.640464540082902,-2.4027012313900378,9.735968164637534,-16.894721445587017,10.185081047973755,4.582733208310287,-4.20157442099207,6.567457274172069,-15.323294789945708,-7.228853304578556,4.209478100595649,2.9970807696745703,8.228550751076904,8.57363976369775,3.6024456201914106,10.404425228693144,-11.333925258554334,11.16176665627707,-6.975429108419473,0.8116876294760108,-8.64618672259868,9.393677366215279,11.241964145824191,3.7771921927298022,15.366676954043243,-5.25920897657758,-13.920590063060786,-5.184049298584858,9.964692827951302,0.11800550659336347,7.575406742926768,-1.1898126412959935,3.5258959337084734,-16.840537140474417,-10.458831263143551,1.9204118244000539,1.9253234970990032,8.402164212754021,-1.2013777347054584,-10.900362346293436,-8.80236107443811,-13.644729590444893,-12.596668950727219,-9.157451860957165,-14.841683007821437,-7.055668352559948,6.383273424206406,-10.66862096300424,-6.128663746729179,-6.776987677235951,4.70561493730574,5.704795837976372,-8.778356204281296,5.7174774424463335,-7.91769626080589,-1.5169276241822385,-4.5846905157707525,-11.274990524442341,-14.411006883943061,-17.197014001786787,-17.079849863807745,-14.67674196948928,16.777403998972137,11.802786100053957,-4.703782145456156,2.268250450159844,-1.2935319045492821,8.809630901105887,-8.166355433378737,9.096709330436846,7.316033791473492,6.996489770791591,-5.324360862903771,7.962746160949909,7.053992939844588,15.850441334895672,-0.23795273691717767,-1.5936573764887605,16.768600141010875,-11.387785081638574,9.250535427279127,-3.8601882528948672,2.3202214123628644,-1.1832574593855125,1.6766432384034904,-1.2607955807897142,2.010723655585652,8.687795698142432,9.72549044460394,10.705659675129255,4.839316172057929,9.794095208656861,3.3011117731631066,8.636518117656195,16.65643892765587,-1.166196474386821,10.541499070110438,-11.370400588237203,10.194226066376737,-11.394838949332486,-1.678272504177851,-0.3672312187846712,11.98620686222435,0.3128526376119508,-17.42212874305035,16.69530607544749,-0.9496591193965366,-7.166999848500294,8.586010788808709,-8.139332975539242,-4.856019305164461,-16.145864289997377,-1.9212613054863836,12.887023133295838,-8.837202319178571,8.36512665176358,10.422125988909867,0.8579262396223221,-14.875593423821304,-5.547890446258564,7.260829049505736,5.069646857604801,10.138976933305493,-14.267034766315522,-12.788354793399439,0.7940521555377116,-14.028382464020574,-7.140801153554508,8.608047390827057,-18.349176123315488,7.113473439340969,-5.41966020266238,-7.923841824241346,-13.889181235066294,16.786719624440288,5.6320027282290965,-8.099026153775549,-17.2306260968257,-1.3771391314503199,-11.871653978006194,-7.371870020473988,-14.60245096403847,-1.6842146407504472,-13.417657301648324,-6.714715510793662,7.229742415700509,12.106319479139666,12.023375837948487,-4.508691744507323,-9.049097459525948,-11.085058977850846,-9.244750313436894,-14.521136693474165,10.536407316760668,13.812841258580182,6.79008485204901,-8.62854767538437,13.815970233028244,10.318597953125325,10.93724903492791,-1.9994047702581963,8.490318537133353,-4.727563329877563,11.726362418551254,-8.29547552456688,-12.947611534351777,8.621566184975887,-0.010274686120159053,9.332524970461977,9.674556018927426,8.851116673269795,10.282825689886149,16.671566604496757,16.830210091933676,-15.179924782190184,-12.939908637920722,-7.671489017213233,-8.068089421867153,2.65571022435775,-1.9077065643314974,2.643819501919395,8.851518339059792,0.18246881255096986,11.252416903949582,-5.9888046266575845,9.769361949070124,7.519421161599056,8.862846674297229,-5.728795746473042,16.679681059775984,-8.976651326885895,12.966553174162627,2.3678618545779444,-5.894587024966963,-0.5945671690823742,13.668454572151537,-5.714332644668465,-8.047639897367558,8.775371382168283,-5.569774502195806,-1.2582371946184783,7.436702406905218,-0.5723212907329529,1.0693271839296923,-0.6807569008858585,7.576903303336416,10.836323056549968,7.471868091386526,-4.831761587825028,-6.734364757288376,10.755669171677928,-14.814846254680507,-5.635197003574154,-7.461261886691267,1.3061518133429444,2.2988642775696393,-13.494194419241472,5.743831056963089,-4.588087331980181,-0.6036977132428878,-12.068077682675124,5.585050202690537,1.6486701184905899,8.949048039834645,12.027228201682243,7.22703748977799,-1.8735915551286033,11.349528456159522,-17.85388536682133,2.7133144181959126,-16.465139467404235,-4.671650309147976,12.182256788600098,-3.498777097051738,-10.382575123930001,-1.665603540924763,-2.0297353717929085,11.0344638528921,-4.61922977940492,-12.782643322216133,-12.731507555743672,5.482197715329043,-0.7735015189374378,8.501434326128052,7.015668896570311,-13.110573931487252,-5.834325313570775,8.284433888651835,-7.648048850007945,-9.236443309208179,-7.262341444942809,-3.173427464925613,2.316195198225268,-8.188742761581755,-5.345617587448191,-11.758251854956994,-6.2261188585084,0.30654846352140863,-1.168844173748098,-6.469203307572605,-2.5371014362353637,-18.25383538248039,-9.744385122075277,-10.906568607250117,1.1937305749963152,-0.7624669519413129,10.396254329566842,7.627503419579826,16.876790660583982,5.286391241128964,0.07178110144624116,0.11167967745371093,-12.04831403892905,5.780799034622596,-17.02709545337474,-0.7621900384708715,-12.203991376625202,9.958449093408339,-11.058568621728169,-10.428625855540805,-2.572210848211723,11.64594909501802,0.11531839748155225,-14.710705280942125,-5.822514025407432,-10.330620198545017,-9.115555878467433,-7.048994698460891,-18.067566845646756,-17.08511631962508,-10.136046731976071,-3.6045926761636835,-0.1238493846913336,-4.541684579818431,-2.304992379658287,9.35017159473651,-4.667035178711458,5.999920759554566,-5.957828097452764,-5.032905085705167,-12.5356852896818,-14.861989722329755,-6.57064335103028,-5.383278339836705,4.348810666879991,-14.804734686900986,11.367705989868552,-16.959961064284172,-4.788508360624112,-3.9526523715953976,10.001493289363204,2.3816473364050585,-1.1355967064922983,6.463682198439556,6.105077783027401,-6.886150290079805,16.81312155935693,-1.1685821391762101,9.76458268337734,5.397565111408212,3.468565718284008,-18.334256656934684,-18.334121456919426,-18.334794413818713,-2.247916456097855,-8.157855011911343,-6.762311302695309,-5.7761540078481435,-18.056178313918025,-18.33199630227981,-1.6730587602676898,-18.334124403980542,3.9506850497390777,-18.29030609279696,-18.29263987537814,-5.3099833468197835,13.46514673454383,-10.04946665173457,12.395912424874416,-18.278294550397174,7.0050867948638675,-5.7464409478361,14.893381360354795,-18.31749102593613,-3.202391079972517,11.117860778709424,4.355591134371907,6.096561536067447,10.063304999600724,16.813271796823962,6.658915871687684,-12.884378884027107,-0.9569260061500349,-13.298007865031577,3.9170983170036417,-5.617015478365732,7.077427027924748,7.445075701275241,-0.11552866443899829,0.5175672141452252,-12.382414883942998,-16.485649070728474,1.8502280478535635,1.9371856478344556,-11.149556997659051,-8.21308183511458,-7.078087542448099,-11.661317072890753,-1.2677605588137393,-0.34089940574509187,-0.08549210373622221,-10.547838104166336,8.361562303328292,8.616805109687538,16.761574489575196,6.335692519358381,0.7302760974249431,16.777141347365266,10.152967949692158,9.35971424279336,2.701648464915361,11.314093231241614,-0.08952709339371234,2.3378950405919716,-6.800416033185348,-5.942216897952458,-17.717668491267464,-3.3331130502593833,0.015551968932833471,-11.166741483747195,-10.51239805933898,-11.887949569964343,-1.739482299806132,10.4575328434855,-7.253998459657266,-4.615315857099131,-1.692857029701454,4.568413765455787,-17.846045715805623,2.384326834863194,-0.2312711826984114,9.730657426041367,8.88160342388866,-6.274605494318378,-16.781220524734,9.939457673664942,11.709834874859908,-10.87476488243388,3.390672283718817,3.590610874345888,-0.3546167209937857,4.656698117370136,-1.1725101311744797,8.630290023155426,11.505759387590581,11.12283055841969,16.799332288340207,-6.181790966882548,5.989743368281467,11.78862129967581,-2.0020693632848037,0.13514673560823334,-10.869154948841599,-12.038521386126314,11.194747195242135,-5.575189405356261,-5.550411130588757,-17.711736416508195,-13.706245631238124,7.522762925444965,1.8611655277385366,0.20239802893156258,-3.3364707066379546,-4.005280092275701,-10.425572068183579,-16.06537913107434,16.818890156134827,-11.14962725472568,-5.729614141531524,-4.469561391790387,-14.961407982275317,-12.396887523900165,12.242891674044653,-14.544338626269079,-4.937218512170942,-4.261875547623393,16.668317054682873,-11.125076351472035,16.71523969859296,-14.818619140414329,-11.093437209193311,5.470236626626311,16.71515326816043,-5.087586557150623,-4.967478436615758,16.744373898147483,-10.845852231963601,16.806510438453785,11.493586602585056,17.133845755936154,-8.812013540911487,-9.794313645986673,-10.520612008093883,-8.409254336104533,-10.60636341880973,6.771747440757023,-9.667129089321392,-9.865658604557984,10.28978661139826,-16.821187845170996,-6.960570451056911,-16.07088184445962,9.961890849845545,6.366895776174238,16.811396361669832,1.8104997337413729,-0.047962506026438735,-0.1420809636839534,-3.7239537231687354,-1.048943667723671,-1.0477534973491378,-17.851991404146265,-14.942527705881952,14.474275748134412,11.50527645730022,16.812997485941942,0.5572060857741223,-0.17680843669790436,-4.881542268580348,-9.627747359365724,-17.89381714360643,2.2878875078635517,-2.4394157442994557,6.948958039341448,-14.802337230413176,18.191871075437867,-8.381108498530601,-0.214882170021809,1.8861110659944123,9.452678944255506,-5.212411753154246,-2.3166025677626347,-4.462589818395172,3.9500661408213182,-14.689967124425255,2.4052688514522482,9.820748266795434,1.0755697297565565,5.446991789965262,-3.9218885877689487,10.037798479245211,12.40923427906038,-17.830430203570536,15.138596030878373,-4.931563687943342,1.190973085779584,-0.7077557105382634,8.51324780493592,4.181770878626657,4.616305261181846,0.17060561248376915,1.6732643001441425,-5.924374492183556,1.05416957805633,-13.83705703544305,10.263121175938611,-4.8902625239104,-5.7002446880844335,-10.02279818490532,-1.2934323974638755,-7.913832725165467,-4.135144801306945,-10.737069051611304,-6.12386952754547,16.622690024136883,9.990259868890762,0.07828319653193663,-6.886184721280615,8.536779848634469,-6.1278457510390725,10.614814891227441,-1.2246671068569155,8.406516071090229,9.950920512106876,-0.0254100572933641,3.344675842226851,-4.319255697347556,-4.907852164873119,9.088992680160999,5.557328753351394,7.722263188883091,9.843840988129358,-2.217239049523748,-9.017239525709762,9.958217992778833,10.78852547921406,10.236404117146,-4.958479207910251,-9.198216468889322,-9.031483736343272,-14.427632185066823,6.293384910616683,-14.683989970018315,5.843318471731474,-1.215953309604598,-16.007583279086532,-15.079646676227425,-4.587001172758917,-6.152148376950816,-6.82616040196571,-5.882608980774016,-11.120489310971365,-0.7939316522144337,-5.366720427700411,-5.149558587054471,1.4865526459446878,-9.396106665148146,-7.006922178045923,11.975441890068263,-1.5309885362270377,-0.09290704860542162,-5.072522914714126,-16.54508115732029,-1.420106536059885,-7.057067949758013,1.4210658587776368,-5.544809674316626,-1.7289660665734023,-0.06717968285527934,-0.49094206520428274,0.3923931841812539,6.72333791430978,-5.025260866674089,11.209378785133408,11.040319307423166,-14.019299386810763,-9.161135391798416,-16.43819095421018,11.102736649077269,9.317963162150065,11.924544036127049,1.9111595061385596,11.410998638221782,-12.983892543494964,3.364352335579995,-6.652628419163048,6.928704616465644,0.25591737679547344,-4.214475683260691,-8.991305277119245,-9.497542055501448,1.884583315788632,1.6596300405389453,9.625863213305173,2.730431655803214,-3.2514104376851845,5.328437849819435,-16.540763827894118,16.755844963659175,-17.591960970544097]}},\"id\":\"8f0ce933-e94f-4db9-acb5-2a8ca3595640\",\"type\":\"ColumnDataSource\"},{\"attributes\":{\"formatter\":{\"id\":\"4efdf9f2-6319-481d-ba4d-e0d03f9d059e\",\"type\":\"BasicTickFormatter\"},\"plot\":{\"id\":\"ff7d1c68-ba86-4cbe-9110-f5276b64d0bf\",\"subtype\":\"Figure\",\"type\":\"Plot\"},\"ticker\":{\"id\":\"e812f45c-a50c-48e3-a434-7d0a7d816771\",\"type\":\"BasicTicker\"}},\"id\":\"4e4ed15a-e996-4ae9-9f23-70ae02cc53e3\",\"type\":\"LinearAxis\"},{\"attributes\":{\"plot\":{\"id\":\"ff7d1c68-ba86-4cbe-9110-f5276b64d0bf\",\"subtype\":\"Figure\",\"type\":\"Plot\"}},\"id\":\"54aba3de-b5ba-4614-9454-676be8eb65f2\",\"type\":\"PanTool\"},{\"attributes\":{\"plot\":{\"id\":\"ff7d1c68-ba86-4cbe-9110-f5276b64d0bf\",\"subtype\":\"Figure\",\"type\":\"Plot\"}},\"id\":\"6cf65f6a-4513-4025-aa1c-3e9e9bf19849\",\"type\":\"WheelZoomTool\"},{\"attributes\":{\"plot\":null,\"text\":null},\"id\":\"be76a844-555b-4791-bd03-c55c9ae38880\",\"type\":\"Title\"},{\"attributes\":{\"callback\":null},\"id\":\"e8955376-46fc-4da4-b76e-b7c78ee14543\",\"type\":\"DataRange1d\"},{\"attributes\":{\"callback\":null,\"plot\":{\"id\":\"ff7d1c68-ba86-4cbe-9110-f5276b64d0bf\",\"subtype\":\"Figure\",\"type\":\"Plot\"},\"tooltips\":[[\"index\",\"$index\"],[\"author\",\"@author_names\"],[\"(x,y)\",\"($x, $y)\"],[\"radius\",\"@radii\"]]},\"id\":\"96c1b6cd-5925-4731-b77b-8d927aefe1fb\",\"type\":\"HoverTool\"},{\"attributes\":{\"plot\":{\"id\":\"ff7d1c68-ba86-4cbe-9110-f5276b64d0bf\",\"subtype\":\"Figure\",\"type\":\"Plot\"}},\"id\":\"405143b7-165b-4e3d-9f6f-79f56e1f92bf\",\"type\":\"SaveTool\"},{\"attributes\":{\"callback\":null,\"overlay\":{\"id\":\"3d7f68a7-f575-4ef5-bcc8-54611dc30a2f\",\"type\":\"PolyAnnotation\"},\"plot\":{\"id\":\"ff7d1c68-ba86-4cbe-9110-f5276b64d0bf\",\"subtype\":\"Figure\",\"type\":\"Plot\"}},\"id\":\"5de9f7d8-b95a-44d2-9282-65da4728fe96\",\"type\":\"LassoSelectTool\"},{\"attributes\":{},\"id\":\"847c7f23-bf3c-4cd8-8e5f-4c2e69c9f4e1\",\"type\":\"ToolEvents\"},{\"attributes\":{\"fill_alpha\":{\"value\":0.5},\"fill_color\":{\"value\":\"lightgrey\"},\"level\":\"overlay\",\"line_alpha\":{\"value\":1.0},\"line_color\":{\"value\":\"black\"},\"line_dash\":[4,4],\"line_width\":{\"value\":2},\"plot\":null,\"xs_units\":\"screen\",\"ys_units\":\"screen\"},\"id\":\"3d7f68a7-f575-4ef5-bcc8-54611dc30a2f\",\"type\":\"PolyAnnotation\"},{\"attributes\":{\"formatter\":{\"id\":\"c3261884-a921-4115-b337-d075e3b83928\",\"type\":\"BasicTickFormatter\"},\"plot\":{\"id\":\"ff7d1c68-ba86-4cbe-9110-f5276b64d0bf\",\"subtype\":\"Figure\",\"type\":\"Plot\"},\"ticker\":{\"id\":\"da0bfd85-58f9-4344-8bc8-df59127dd895\",\"type\":\"BasicTicker\"}},\"id\":\"8ebb10c7-c53b-4a2b-9d42-f2c171773d26\",\"type\":\"LinearAxis\"},{\"attributes\":{\"bottom_units\":\"screen\",\"fill_alpha\":{\"value\":0.5},\"fill_color\":{\"value\":\"lightgrey\"},\"left_units\":\"screen\",\"level\":\"overlay\",\"line_alpha\":{\"value\":1.0},\"line_color\":{\"value\":\"black\"},\"line_dash\":[4,4],\"line_width\":{\"value\":2},\"plot\":null,\"render_mode\":\"css\",\"right_units\":\"screen\",\"top_units\":\"screen\"},\"id\":\"2d25b1ac-ff90-4bd4-805e-9cc34dc90d51\",\"type\":\"BoxAnnotation\"},{\"attributes\":{},\"id\":\"c3261884-a921-4115-b337-d075e3b83928\",\"type\":\"BasicTickFormatter\"},{\"attributes\":{},\"id\":\"e812f45c-a50c-48e3-a434-7d0a7d816771\",\"type\":\"BasicTicker\"},{\"attributes\":{\"fill_alpha\":{\"value\":0.6},\"fill_color\":{\"value\":\"#1f77b4\"},\"line_color\":{\"value\":null},\"radius\":{\"field\":\"radii\",\"units\":\"data\"},\"x\":{\"field\":\"x\"},\"y\":{\"field\":\"y\"}},\"id\":\"818ce0fa-09fe-4b52-a584-ffca855e6bb0\",\"type\":\"Circle\"},{\"attributes\":{\"plot\":{\"id\":\"ff7d1c68-ba86-4cbe-9110-f5276b64d0bf\",\"subtype\":\"Figure\",\"type\":\"Plot\"}},\"id\":\"93f61012-39e6-4c61-84e3-b0a0e87f3f9f\",\"type\":\"ResetTool\"},{\"attributes\":{\"overlay\":{\"id\":\"2d25b1ac-ff90-4bd4-805e-9cc34dc90d51\",\"type\":\"BoxAnnotation\"},\"plot\":{\"id\":\"ff7d1c68-ba86-4cbe-9110-f5276b64d0bf\",\"subtype\":\"Figure\",\"type\":\"Plot\"}},\"id\":\"04792e1d-b673-41c0-bb26-6a3715c0fc62\",\"type\":\"BoxZoomTool\"},{\"attributes\":{\"plot\":{\"id\":\"ff7d1c68-ba86-4cbe-9110-f5276b64d0bf\",\"subtype\":\"Figure\",\"type\":\"Plot\"},\"ticker\":{\"id\":\"da0bfd85-58f9-4344-8bc8-df59127dd895\",\"type\":\"BasicTicker\"}},\"id\":\"f6d13c55-5cc7-4892-97bc-34d5e07e9a9f\",\"type\":\"Grid\"},{\"attributes\":{},\"id\":\"da0bfd85-58f9-4344-8bc8-df59127dd895\",\"type\":\"BasicTicker\"},{\"attributes\":{},\"id\":\"4efdf9f2-6319-481d-ba4d-e0d03f9d059e\",\"type\":\"BasicTickFormatter\"},{\"attributes\":{\"data_source\":{\"id\":\"8f0ce933-e94f-4db9-acb5-2a8ca3595640\",\"type\":\"ColumnDataSource\"},\"glyph\":{\"id\":\"818ce0fa-09fe-4b52-a584-ffca855e6bb0\",\"type\":\"Circle\"},\"hover_glyph\":null,\"nonselection_glyph\":{\"id\":\"3548c0d5-3823-48b4-80b5-a63601ae29c5\",\"type\":\"Circle\"},\"selection_glyph\":null},\"id\":\"38778319-885d-4fb9-9a91-1d9308d6653f\",\"type\":\"GlyphRenderer\"},{\"attributes\":{\"dimension\":1,\"plot\":{\"id\":\"ff7d1c68-ba86-4cbe-9110-f5276b64d0bf\",\"subtype\":\"Figure\",\"type\":\"Plot\"},\"ticker\":{\"id\":\"e812f45c-a50c-48e3-a434-7d0a7d816771\",\"type\":\"BasicTicker\"}},\"id\":\"b1b50eef-6017-4da7-b623-a91b3ceb045a\",\"type\":\"Grid\"},{\"attributes\":{\"plot\":{\"id\":\"ff7d1c68-ba86-4cbe-9110-f5276b64d0bf\",\"subtype\":\"Figure\",\"type\":\"Plot\"}},\"id\":\"8ef0ca4e-211a-4eb0-a4a1-00b166cd067b\",\"type\":\"CrosshairTool\"}],\"root_ids\":[\"ff7d1c68-ba86-4cbe-9110-f5276b64d0bf\"]},\"title\":\"Bokeh Application\",\"version\":\"0.12.3\"}};\n",
       "            var render_items = [{\"docid\":\"b2190c34-8ad1-43da-9eb1-11b2fce0b831\",\"elementid\":\"41a36679-8972-49ee-bd32-fa43091441c3\",\"modelid\":\"ff7d1c68-ba86-4cbe-9110-f5276b64d0bf\"}];\n",
       "            \n",
       "            Bokeh.embed.embed_items(docs_json, render_items);\n",
       "        });\n",
       "      },\n",
       "      function(Bokeh) {\n",
       "      }\n",
       "    ];\n",
       "  \n",
       "    function run_inline_js() {\n",
       "      \n",
       "      if ((window.Bokeh !== undefined) || (force === \"1\")) {\n",
       "        for (var i = 0; i < inline_js.length; i++) {\n",
       "          inline_js[i](window.Bokeh);\n",
       "        }if (force === \"1\") {\n",
       "          display_loaded();\n",
       "        }} else if (Date.now() < window._bokeh_timeout) {\n",
       "        setTimeout(run_inline_js, 100);\n",
       "      } else if (!window._bokeh_failed_load) {\n",
       "        console.log(\"Bokeh: BokehJS failed to load within specified timeout.\");\n",
       "        window._bokeh_failed_load = true;\n",
       "      } else if (!force) {\n",
       "        var cell = $(\"#41a36679-8972-49ee-bd32-fa43091441c3\").parents('.cell').data().cell;\n",
       "        cell.output_area.append_execute_result(NB_LOAD_WARNING)\n",
       "      }\n",
       "  \n",
       "    }\n",
       "  \n",
       "    if (window._bokeh_is_loading === 0) {\n",
       "      console.log(\"Bokeh: BokehJS loaded, going straight to plotting\");\n",
       "      run_inline_js();\n",
       "    } else {\n",
       "      load_libs(js_urls, function() {\n",
       "        console.log(\"Bokeh: BokehJS plotting callback run at\", now());\n",
       "        run_inline_js();\n",
       "      });\n",
       "    }\n",
       "  }(this));\n",
       "</script>"
      ]
     },
     "metadata": {},
     "output_type": "display_data"
    }
   ],
   "source": [
    "x = tsne.embedding_[:, 0]\n",
    "y = tsne.embedding_[:, 1]\n",
    "author_names = list(model.id2author.values())\n",
    "\n",
    "# Radius of each point corresponds to the number of documents attributed to that author.\n",
    "scale = 0.1\n",
    "radii = [len(author2doc[a]) * scale for a in author_names]\n",
    "\n",
    "source = ColumnDataSource(\n",
    "        data=dict(\n",
    "            x=x,\n",
    "            y=y,\n",
    "            author_names=author_names,\n",
    "            radii=radii,\n",
    "        )\n",
    "    )\n",
    "\n",
    "hover = HoverTool(\n",
    "        tooltips=[\n",
    "        (\"index\", \"$index\"),\n",
    "        (\"author\", \"@author_names\"),\n",
    "        (\"(x,y)\", \"($x, $y)\"),\n",
    "        (\"radius\", \"@radii\"),\n",
    "        ]\n",
    "    )\n",
    "\n",
    "p = figure(tools=[hover, 'crosshair,pan,wheel_zoom,box_zoom,reset,save,lasso_select'])\n",
    "p.scatter('x', 'y', radius='radii', source=source, fill_alpha=0.6, line_color=None)\n",
    "show(p)"
   ]
  }
 ],
 "metadata": {
  "kernelspec": {
   "display_name": "Python 3",
   "language": "python",
   "name": "python3"
  },
  "language_info": {
   "codemirror_mode": {
    "name": "ipython",
    "version": 3
   },
   "file_extension": ".py",
   "mimetype": "text/x-python",
   "name": "python",
   "nbconvert_exporter": "python",
   "pygments_lexer": "ipython3",
   "version": "3.5.2"
  }
 },
 "nbformat": 4,
 "nbformat_minor": 1
}
