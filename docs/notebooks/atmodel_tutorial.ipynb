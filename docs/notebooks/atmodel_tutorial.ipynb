{
 "cells": [
  {
   "cell_type": "markdown",
   "metadata": {},
   "source": [
    "# The author-topic model: LDA with metadata\n",
    "\n",
    "**TODO:** StackExchange example probably won't be included, as I'm not having good results with it and cannot make the tag prediction to work at all. If it is not included, fix this section, and do similarity queries with authors.\n",
    "\n",
    "In this tutorial, you will learn how to use the author-topic model in Gensim. First, we will apply it to a corpus consisting of scientific papers, to get insight about the authors of the papers. After that, we will apply the model on StackExchange posts with tags, and implement a simple automatic tagging system.\n",
    "\n",
    "The author-topic model is in extension of Latent Dirichlet Allocation (LDA). Each document is associated with a set of authors, and the topic distributions for each of these authors are learned. Each author is also associated with multiple documents. To learn about the theoretical side of the author-topic model, see [Rosen-Zvi and co-authors](https://mimno.infosci.cornell.edu/info6150/readings/398.pdf), for example.\n",
    "\n",
    "Naturally, familiarity with topic modelling, LDA and Gensim is assumed in this tutorial. If you are not familiar with either LDA, or its Gensim implementation, consider some of these resources:\n",
    "* Gentle introduction to the LDA model: http://blog.echen.me/2011/08/22/introduction-to-latent-dirichlet-allocation/\n",
    "* Gensim's LDA API documentation: https://radimrehurek.com/gensim/models/ldamodel.html\n",
    "* Topic modelling in Gensim: http://radimrehurek.com/topic_modeling_tutorial/2%20-%20Topic%20Modeling.html\n",
    "* Pre-processing and training LDA: https://github.com/RaRe-Technologies/gensim/blob/develop/docs/notebooks/lda_training_tips.ipynb\n",
    "\n",
    "> NOTE:\n",
    ">\n",
    "> To run this tutorial on your own, install Gensim, SpaCy, Scikit-Learn, and Bokeh.\n",
    "\n",
    "**FIXME:** technical details can be found at TODO \n",
    "\n",
    "In part 1 of this tutorial, we will illustrate basic usage of the model, and explore the resulting representation. How to load and pre-process the dataset used is also covered.\n",
    "\n",
    "In part 2, we will develop a simple automatic tagging system, and some more of the model's functionality will be shown.\n",
    "\n",
    "## Part 1: analyzing scientific papers\n",
    "\n",
    "The data used in part 1 consists of scientific papers about machine learning, from the Neural Information Processing Systems conference (NIPS). It is the same dataset used in the [Pre-processing and training LDA](https://github.com/RaRe-Technologies/gensim/blob/develop/docs/notebooks/lda_training_tips.ipynb) tutorial, mentioned earlier.\n",
    "\n",
    "As in the LDA tutorial, we will be performing qualitative analysis of the model, and at times this will require an understanding of the subject matter of the data. If you try running this tutorial on your own, consider applying it on a dataset with subject matter that you are familiar with. For example, try one of the [StackExchange datadump datasets](https://archive.org/details/stackexchange).\n",
    "\n",
    "You can download the data from Sam Roweis' website (http://www.cs.nyu.edu/~roweis/data.html).\n",
    "\n",
    "In the following sections we will load the data, pre-process it, train the model, and explore the results using some of the implementation's functionality. Feel free to skip the loading and pre-processing for now, if you are familiar with the process.\n",
    "\n",
    "### Loading the data\n",
    "\n",
    "In the cell below, we crawl the folders and files in the dataset, and read the files into memory."
   ]
  },
  {
   "cell_type": "code",
   "execution_count": 1,
   "metadata": {
    "collapsed": true
   },
   "outputs": [],
   "source": [
    "import os, re\n",
    "\n",
    "# Folder containing all NIPS papers.\n",
    "data_dir = '../../../../data/nipstxt/'  # Set this path to the data on your machine.\n",
    "\n",
    "# Folders containin individual NIPS papers.\n",
    "yrs = ['00', '01', '02', '03', '04', '05', '06', '07', '08', '09', '10', '11', '12']\n",
    "dirs = ['nips' + yr for yr in yrs]\n",
    "\n",
    "# Get all document texts and their corresponding IDs.\n",
    "docs = []\n",
    "doc_ids = []\n",
    "for yr_dir in dirs:\n",
    "    files = os.listdir(data_dir + yr_dir)  # List of filenames.\n",
    "    for filen in files:\n",
    "        # Get document ID.\n",
    "        (idx1, idx2) = re.search('[0-9]+', filen).span()  # Matches the indexes of the start end end of the ID.\n",
    "        doc_ids.append(yr_dir[4:] + '_' + str(int(filen[idx1:idx2])))\n",
    "        \n",
    "        # Read document text.\n",
    "        # Note: ignoring characters that cause encoding errors.\n",
    "        with open(data_dir + yr_dir + '/' + filen, errors='ignore', encoding='utf-8') as fid:\n",
    "            txt = fid.read()\n",
    "            \n",
    "        # Replace any whitespace (newline, tabs, etc.) by a single space.\n",
    "        txt = re.sub('\\s', ' ', txt)\n",
    "        \n",
    "        docs.append(txt)"
   ]
  },
  {
   "cell_type": "markdown",
   "metadata": {},
   "source": [
    "Construct a mapping from author names to document IDs."
   ]
  },
  {
   "cell_type": "code",
   "execution_count": 2,
   "metadata": {
    "collapsed": true
   },
   "outputs": [],
   "source": [
    "filenames = [data_dir + 'idx/a' + yr + '.txt' for yr in yrs]  # Using the years defined in previous cell.\n",
    "\n",
    "# Get all author names and their corresponding document IDs.\n",
    "author2doc = dict()\n",
    "i = 0\n",
    "for yr in yrs:\n",
    "    # The files \"a00.txt\" and so on contain the author-document mappings.\n",
    "    filename = data_dir + 'idx/a' + yr + '.txt'\n",
    "    for line in open(filename, errors='ignore', encoding='utf-8'):\n",
    "        # Each line corresponds to one author.\n",
    "        contents = re.split(',', line)\n",
    "        author_name = (contents[1] + contents[0]).strip()\n",
    "        # Remove any whitespace to reduce redundant author names.\n",
    "        author_name = re.sub('\\s', '', author_name)\n",
    "        # Get document IDs for author.\n",
    "        ids = [c.strip() for c in contents[2:]]\n",
    "        if not author2doc.get(author_name):\n",
    "            # This is a new author.\n",
    "            author2doc[author_name] = []\n",
    "            i += 1\n",
    "        \n",
    "        # Add document IDs to author.\n",
    "        author2doc[author_name].extend([yr + '_' + id for id in ids])\n",
    "\n",
    "# Use an integer ID in author2doc, instead of the IDs provided in the NIPS dataset.\n",
    "# Mapping from ID of document in NIPS datast, to an integer ID.\n",
    "doc_id_dict = dict(zip(doc_ids, range(len(doc_ids))))\n",
    "# Replace NIPS IDs by integer IDs.\n",
    "for a, a_doc_ids in author2doc.items():\n",
    "    for i, doc_id in enumerate(a_doc_ids):\n",
    "        author2doc[a][i] = doc_id_dict[doc_id]"
   ]
  },
  {
   "cell_type": "markdown",
   "metadata": {},
   "source": [
    "### Pre-processing text\n",
    "\n",
    "The text will be pre-processed using the following steps:\n",
    "* Tokenize text.\n",
    "* Replace all whitespace by single spaces.\n",
    "* Remove all punctuation and numbers.\n",
    "* Remove stopwords.\n",
    "* Lemmatize words.\n",
    "* Add multi-word named entities.\n",
    "* Add frequent bigrams.\n",
    "* Remove frequent and rare words.\n",
    "\n",
    "Part 2 will use the same pre-processing, for the most part, so we shall explain it here.\n",
    "\n",
    "A lot of the heavy lifting will be done by the great package, Spacy. Spacy markets itself as \"industrial-strength natural language processing\", is fast, enables multiprocessing, and is easy to use. First, let's import it and load the NLP pipline in english."
   ]
  },
  {
   "cell_type": "code",
   "execution_count": 3,
   "metadata": {
    "collapsed": true
   },
   "outputs": [],
   "source": [
    "import spacy\n",
    "nlp = spacy.load('en')"
   ]
  },
  {
   "cell_type": "markdown",
   "metadata": {},
   "source": [
    "In the code below, Spacy takes care of tokenization, removing non-alphabetic characters, removal of stopwords, lemmatization and named entity recognition.\n",
    "\n",
    "Note that we only keep named entities that consist of more than one word, as single word named entities are already there.\n",
    "\n",
    "**TODO:** use custom pipeline. Using the entire SpaCy pipeline is very expensive; for example, I'm probably doing POS tagging below, but not using it for anything."
   ]
  },
  {
   "cell_type": "code",
   "execution_count": 4,
   "metadata": {
    "collapsed": false
   },
   "outputs": [
    {
     "name": "stdout",
     "output_type": "stream",
     "text": [
      "CPU times: user 9min 8s, sys: 464 ms, total: 9min 9s\n",
      "Wall time: 3min 3s\n"
     ]
    }
   ],
   "source": [
    "%%time\n",
    "processed_docs = []    \n",
    "for doc in nlp.pipe(docs, n_threads=4, batch_size=100):\n",
    "    # Process document using Spacy NLP pipeline.\n",
    "    \n",
    "    ents = doc.ents  # Named entities.\n",
    "\n",
    "    # Keep only words (no numbers, no punctuation).\n",
    "    # Lemmatize tokens, remove punctuation and remove stopwords.\n",
    "    doc = [token.lemma_ for token in doc if token.is_alpha and not token.is_stop]\n",
    "\n",
    "    # Remove common words from a stopword list.\n",
    "    #doc = [token for token in doc if token not in STOPWORDS]\n",
    "\n",
    "    # Add named entities, but only if they are a compound of more than word.\n",
    "    doc.extend([str(entity) for entity in ents if len(entity) > 1])\n",
    "    \n",
    "    processed_docs.append(doc)"
   ]
  },
  {
   "cell_type": "code",
   "execution_count": 5,
   "metadata": {
    "collapsed": true
   },
   "outputs": [],
   "source": [
    "docs = processed_docs\n",
    "del processed_docs"
   ]
  },
  {
   "cell_type": "markdown",
   "metadata": {},
   "source": [
    "Below, we use a Gensim model to add bigrams. Note that this achieves the same goal as named entity recognition, that is, finding adjacent words that have some particular significance."
   ]
  },
  {
   "cell_type": "code",
   "execution_count": 6,
   "metadata": {
    "collapsed": false,
    "scrolled": true
   },
   "outputs": [
    {
     "name": "stderr",
     "output_type": "stream",
     "text": [
      "/home/olavur/Dropbox/my_folder/workstuff/DTU/thesis/code/gensim/gensim/models/phrases.py:248: UserWarning: For a faster implementation, use the gensim.models.phrases.Phraser class\n",
      "  warnings.warn(\"For a faster implementation, use the gensim.models.phrases.Phraser class\")\n"
     ]
    }
   ],
   "source": [
    "# Compute bigrams.\n",
    "from gensim.models import Phrases\n",
    "# Add bigrams and trigrams to docs (only ones that appear 20 times or more).\n",
    "bigram = Phrases(docs, min_count=20)\n",
    "for idx in range(len(docs)):\n",
    "    for token in bigram[docs[idx]]:\n",
    "        if '_' in token:\n",
    "            # Token is a bigram, add to document.\n",
    "            docs[idx].append(token)"
   ]
  },
  {
   "cell_type": "markdown",
   "metadata": {},
   "source": [
    "Now we are ready to construct a dictionary, as our vocabulary is finalized. We then remove common words (occurring $> 50\\%$ of the time), and rare words (occur $< 20$ times in total)."
   ]
  },
  {
   "cell_type": "code",
   "execution_count": 7,
   "metadata": {
    "collapsed": true
   },
   "outputs": [],
   "source": [
    "# Create a dictionary representation of the documents, and filter out frequent and rare words.\n",
    "\n",
    "from gensim.corpora import Dictionary\n",
    "dictionary = Dictionary(docs)\n",
    "\n",
    "# Remove rare and common tokens.\n",
    "# Filter out words that occur too frequently or too rarely.\n",
    "max_freq = 0.5\n",
    "min_wordcount = 20\n",
    "dictionary.filter_extremes(no_below=min_wordcount, no_above=max_freq)\n",
    "\n",
    "_ = dictionary[0]  # This sort of \"initializes\" dictionary.id2token."
   ]
  },
  {
   "cell_type": "markdown",
   "metadata": {},
   "source": [
    "We produce the vectorized representation of the documents, to supply the author-topic model with, by computing the bag-of-words."
   ]
  },
  {
   "cell_type": "code",
   "execution_count": 8,
   "metadata": {
    "collapsed": true
   },
   "outputs": [],
   "source": [
    "# Vectorize data.\n",
    "\n",
    "# Bag-of-words representation of the documents.\n",
    "corpus = [dictionary.doc2bow(doc) for doc in docs]"
   ]
  },
  {
   "cell_type": "markdown",
   "metadata": {},
   "source": [
    "Let's inspect the dimensionality of our data."
   ]
  },
  {
   "cell_type": "code",
   "execution_count": 9,
   "metadata": {
    "collapsed": false
   },
   "outputs": [
    {
     "name": "stdout",
     "output_type": "stream",
     "text": [
      "Number of authors: 2479\n",
      "Number of unique tokens: 6996\n",
      "Number of documents: 1740\n"
     ]
    }
   ],
   "source": [
    "print('Number of authors: %d' % len(author2doc))\n",
    "print('Number of unique tokens: %d' % len(dictionary))\n",
    "print('Number of documents: %d' % len(corpus))"
   ]
  },
  {
   "cell_type": "markdown",
   "metadata": {},
   "source": [
    "### Train and use model\n",
    "\n",
    "We train the author-topic model on the data prepared in the previous sections. \n",
    "\n",
    "The interface to the author-topic model is very similar to that of LDA in Gensim. In addition to a corpus, ID to word mapping (`id2word`) and number of topics (`num_topics`), the author-topic model requires either an author to document ID mapping (`author2doc`), or the reverse (`doc2author`).\n",
    "\n",
    "Below, we have also (this can be skipped for now):\n",
    "* Increased the number of `passes` over the dataset (to improve the convergence of the optimization problem).\n",
    "* Decreased the number of `iterations` over each document (related to the above).\n",
    "* Specified the mini-batch size (`chunksize`) (primarily to speed up training).\n",
    "* Turned off bound evaluation (`eval_every`) (as it takes a long time to compute).\n",
    "* Turned on automatic learning of the `alpha` and `eta` priors (to improve the convergence of the optimization problem).\n",
    "* Set the random state (`random_state`) of the random number generator (to make these experiments reproducible).\n",
    "\n",
    "We load the model, and train it."
   ]
  },
  {
   "cell_type": "code",
   "execution_count": 10,
   "metadata": {
    "collapsed": false
   },
   "outputs": [
    {
     "name": "stdout",
     "output_type": "stream",
     "text": [
      "CPU times: user 3.75 s, sys: 224 ms, total: 3.98 s\n",
      "Wall time: 3.78 s\n"
     ]
    }
   ],
   "source": [
    "from gensim.models import AuthorTopicModel\n",
    "%time model = AuthorTopicModel(corpus=corpus, num_topics=10, id2word=dictionary.id2token, \\\n",
    "                author2doc=author2doc, chunksize=2000, passes=1, eval_every=0, \\\n",
    "                iterations=1, random_state=1)"
   ]
  },
  {
   "cell_type": "markdown",
   "metadata": {},
   "source": [
    "If you believe your model hasn't converged, you can continue training using `model.update()`. If you have additional documents and/or authors call `model.update(corpus, author2doc)`.\n",
    "\n",
    "Before we explore the model, let's try to improve upon it. To do this, we will train several models with different random initializations, by giving different seeds for the random number generator (`random_state`). We evaluate the topic coherence of the model using the [top_topics](https://radimrehurek.com/gensim/models/ldamodel.html#gensim.models.ldamodel.LdaModel.top_topics) method, and pick the model with the highest topic coherence.\n",
    "\n"
   ]
  },
  {
   "cell_type": "code",
   "execution_count": 12,
   "metadata": {
    "collapsed": false
   },
   "outputs": [
    {
     "name": "stdout",
     "output_type": "stream",
     "text": [
      "CPU times: user 11min 57s, sys: 2min 16s, total: 14min 13s\n",
      "Wall time: 11min 38s\n"
     ]
    }
   ],
   "source": [
    "%%time\n",
    "model_list = []\n",
    "for i in range(5):\n",
    "    model = AuthorTopicModel(corpus=corpus, num_topics=10, id2word=dictionary.id2token, \\\n",
    "                    author2doc=author2doc, chunksize=2000, passes=100, gamma_threshold=1e-10, \\\n",
    "                    eval_every=0, iterations=1, random_state=i)\n",
    "    top_topics = model.top_topics(corpus)\n",
    "    tc = sum([t[1] for t in top_topics])\n",
    "    model_list.append((model, tc))"
   ]
  },
  {
   "cell_type": "markdown",
   "metadata": {},
   "source": [
    "Choose the model with the highest topic coherence."
   ]
  },
  {
   "cell_type": "code",
   "execution_count": 15,
   "metadata": {
    "collapsed": false
   },
   "outputs": [
    {
     "name": "stdout",
     "output_type": "stream",
     "text": [
      "Topic coherence: -1.803e+03\n"
     ]
    }
   ],
   "source": [
    "model, tc = max(model_list, key=lambda x: x[1])\n",
    "print('Topic coherence: %.3e' %tc)"
   ]
  },
  {
   "cell_type": "markdown",
   "metadata": {},
   "source": [
    "We save the model, to avoid having to train it again, and also show how to load it again."
   ]
  },
  {
   "cell_type": "code",
   "execution_count": 16,
   "metadata": {
    "collapsed": false
   },
   "outputs": [],
   "source": [
    "# Save model.\n",
    "model.save('/tmp/model.atmodel')"
   ]
  },
  {
   "cell_type": "code",
   "execution_count": 17,
   "metadata": {
    "collapsed": false
   },
   "outputs": [],
   "source": [
    "# Load model.\n",
    "model = AuthorTopicModel.load('/tmp/model.atmodel')"
   ]
  },
  {
   "cell_type": "markdown",
   "metadata": {},
   "source": [
    "### Explore author-topic representation\n",
    "\n",
    "Now that we have trained a model, we can start exploring the authors and the topics. First, let's simply print the most important words in the topics."
   ]
  },
  {
   "cell_type": "code",
   "execution_count": 18,
   "metadata": {
    "collapsed": false
   },
   "outputs": [
    {
     "data": {
      "text/plain": [
       "[(0,\n",
       "  '0.029*\"image\" + 0.006*\"constraint\" + 0.006*\"component\" + 0.006*\"region\" + 0.006*\"matrix\" + 0.006*\"pixel\" + 0.006*\"solution\" + 0.005*\"surface\" + 0.005*\"object\" + 0.005*\"source\"'),\n",
       " (1,\n",
       "  '0.008*\"optimal\" + 0.007*\"action\" + 0.007*\"q\" + 0.007*\"approximation\" + 0.006*\"policy\" + 0.005*\"gaussian\" + 0.005*\"w\" + 0.005*\"noise\" + 0.005*\"generalization\" + 0.004*\"convergence\"'),\n",
       " (2,\n",
       "  '0.014*\"visual\" + 0.012*\"field\" + 0.010*\"object\" + 0.009*\"image\" + 0.008*\"map\" + 0.008*\"layer\" + 0.008*\"eye\" + 0.008*\"direction\" + 0.008*\"activity\" + 0.008*\"cell\"'),\n",
       " (3,\n",
       "  '0.022*\"control\" + 0.010*\"dynamic\" + 0.009*\"analog\" + 0.008*\"circuit\" + 0.008*\"trajectory\" + 0.007*\"neuron\" + 0.007*\"chip\" + 0.007*\"controller\" + 0.006*\"motor\" + 0.005*\"gate\"'),\n",
       " (4,\n",
       "  '0.013*\"neuron\" + 0.009*\"f\" + 0.008*\"p\" + 0.008*\"memory\" + 0.007*\"let\" + 0.007*\"w\" + 0.007*\"bound\" + 0.007*\"capacity\" + 0.006*\"theorem\" + 0.006*\"threshold\"'),\n",
       " (5,\n",
       "  '0.021*\"neuron\" + 0.021*\"cell\" + 0.010*\"spike\" + 0.010*\"response\" + 0.010*\"signal\" + 0.008*\"frequency\" + 0.008*\"synapse\" + 0.008*\"synaptic\" + 0.007*\"stimulus\" + 0.006*\"voltage\"'),\n",
       " (6,\n",
       "  '0.013*\"speech\" + 0.010*\"word\" + 0.010*\"recognition\" + 0.009*\"classifier\" + 0.008*\"class\" + 0.008*\"mixture\" + 0.007*\"likelihood\" + 0.006*\"classification\" + 0.006*\"sequence\" + 0.006*\"density\"'),\n",
       " (7,\n",
       "  '0.011*\"layer\" + 0.006*\"face\" + 0.006*\"node\" + 0.006*\"classification\" + 0.006*\"architecture\" + 0.005*\"hidden\" + 0.005*\"table\" + 0.005*\"training_set\" + 0.004*\"memory\" + 0.004*\"image\"'),\n",
       " (8,\n",
       "  '0.010*\"class\" + 0.008*\"distance\" + 0.007*\"recognition\" + 0.007*\"tree\" + 0.007*\"character\" + 0.007*\"kernel\" + 0.005*\"classification\" + 0.005*\"p\" + 0.004*\"machine\" + 0.004*\"y\"'),\n",
       " (9,\n",
       "  '0.010*\"representation\" + 0.010*\"rule\" + 0.009*\"net\" + 0.007*\"hidden\" + 0.006*\"hidden_unit\" + 0.005*\"sequence\" + 0.005*\"activation\" + 0.005*\"connectionist\" + 0.004*\"architecture\" + 0.004*\"object\"')]"
      ]
     },
     "execution_count": 18,
     "metadata": {},
     "output_type": "execute_result"
    }
   ],
   "source": [
    "model.show_topics(num_topics=10)"
   ]
  },
  {
   "cell_type": "markdown",
   "metadata": {},
   "source": [
    "These topics are by no means perfect. They have problems such as *chained topics*, *intruded words*, *random topics*, and *unbalanced topics* (see [Mimno and co-authors 2011](https://people.cs.umass.edu/~wallach/publications/mimno11optimizing.pdf)). They will do for the purposes of this tutorial, however.\n",
    "\n",
    "**FIXME:** re-write the interpretation of the topics below, if necessary.\n",
    "\n",
    "Below, we use the `model[name]` syntax to retrieve the topic distribution for some authors. Comparing the authors' topics with the topics above, we observe that the model has correctly identified that Yann LeCun and Geoffrey E. Hinton both have something to do with neural networks (topic 5), speech recognition (topic 1 and 5) and statistical machine learning (topic 9). We also observe that Yann LeCun has been particularly occupied with image processing, and perhaps that Geoffrey E. Hinton has worked with visual perception in neuroscience (this is less clear).\n",
    "\n",
    "Similarly, Terrence J. Sejnowski and James M. Bower are both neuroscientist, first and foremost, and their topic distributions seem to reflect that.\n",
    "\n",
    "**TODO:** try to make it less cumbersome to compare author-topics below and topics above."
   ]
  },
  {
   "cell_type": "code",
   "execution_count": 19,
   "metadata": {
    "collapsed": false
   },
   "outputs": [
    {
     "name": "stdout",
     "output_type": "stream",
     "text": [
      "\n",
      "YannLeCun\n",
      "Docs: [143, 406, 370, 495, 456, 449, 595, 616, 760, 752, 1532]\n",
      "Topics:\n",
      "[(8, 0.99976156441010589)]\n",
      "\n",
      "GeoffreyE.Hinton\n",
      "Docs: [56, 143, 284, 230, 197, 462, 463, 430, 688, 784, 826, 848, 869, 1387, 1684, 1728]\n",
      "Topics:\n",
      "[(1, 0.16022855953677534),\n",
      " (2, 0.18085978419244769),\n",
      " (8, 0.18989122578835921),\n",
      " (9, 0.46894303639673746)]\n",
      "\n",
      "TerrenceJ.Sejnowski\n",
      "Docs: [513, 530, 539, 468, 611, 581, 600, 594, 703, 711, 849, 981, 944, 865, 850, 883, 881, 1221, 1137, 1224, 1146, 1282, 1248, 1179, 1424, 1359, 1528, 1484, 1571, 1727, 1732]\n",
      "Topics:\n",
      "[(2, 0.99992562868881996)]\n",
      "\n",
      "JamesM.Bower\n",
      "Docs: [17, 48, 58, 131, 101, 126, 127, 281, 208, 225]\n",
      "Topics:\n",
      "[(5, 0.99980243307117478)]\n"
     ]
    }
   ],
   "source": [
    "from pprint import pprint\n",
    "\n",
    "name = 'YannLeCun'\n",
    "print('\\n%s' % name)\n",
    "print('Docs:', author2doc[name])\n",
    "print('Topics:')\n",
    "pprint(model[name])\n",
    "\n",
    "name = 'GeoffreyE.Hinton'\n",
    "print('\\n%s' % name)\n",
    "print('Docs:', author2doc[name])\n",
    "print('Topics:')\n",
    "pprint(model[name])\n",
    "\n",
    "name = 'TerrenceJ.Sejnowski'\n",
    "print('\\n%s' % name)\n",
    "print('Docs:', author2doc[name])\n",
    "print('Topics:')\n",
    "pprint(model[name])\n",
    "\n",
    "name = 'JamesM.Bower'\n",
    "print('\\n%s' % name)\n",
    "print('Docs:', author2doc[name])\n",
    "print('Topics:')\n",
    "pprint(model[name])"
   ]
  },
  {
   "cell_type": "markdown",
   "metadata": {},
   "source": [
    "We can construct the `doc2author` dictionary ourselves."
   ]
  },
  {
   "cell_type": "code",
   "execution_count": 20,
   "metadata": {
    "collapsed": false
   },
   "outputs": [],
   "source": [
    "from gensim.models import atmodel\n",
    "doc2author = atmodel.construct_doc2author(author2doc=author2doc, corpus=corpus)"
   ]
  },
  {
   "cell_type": "markdown",
   "metadata": {},
   "source": [
    "We can also compute the per-word bound, which is a measure of the model's predictive performance (you could also say that it is the reconstruction error)."
   ]
  },
  {
   "cell_type": "code",
   "execution_count": 21,
   "metadata": {
    "collapsed": false
   },
   "outputs": [
    {
     "name": "stdout",
     "output_type": "stream",
     "text": [
      "-7.75230922299\n"
     ]
    }
   ],
   "source": [
    "# Compute the per-word bound.\n",
    "# Number of words in corpus.\n",
    "corpus_words = sum(cnt for document in corpus for _, cnt in document)\n",
    "\n",
    "# Compute bound and divide by number of words.\n",
    "perwordbound = model.bound(corpus, author2doc=author2doc, doc2author=doc2author) / corpus_words\n",
    "print(perwordbound)"
   ]
  },
  {
   "cell_type": "markdown",
   "metadata": {},
   "source": [
    "We can evaluate the quality of the topics by computing the topic coherence, as in the LDA class. Use this to e.g. find out which of the topics are poor quality, or as a metric for model selection."
   ]
  },
  {
   "cell_type": "code",
   "execution_count": 22,
   "metadata": {
    "collapsed": false
   },
   "outputs": [
    {
     "name": "stdout",
     "output_type": "stream",
     "text": [
      "CPU times: user 15.8 s, sys: 12 ms, total: 15.8 s\n",
      "Wall time: 15.8 s\n"
     ]
    }
   ],
   "source": [
    "%time top_topics = model.top_topics(corpus)"
   ]
  },
  {
   "cell_type": "markdown",
   "metadata": {},
   "source": [
    "#### Plotting the authors\n",
    "\n",
    "Now we're going to produce the kind of pacific archipelago looking plot below. The goal of this plot is to give you a way to explore the author-topic representation in an intuitive manner.\n",
    "\n",
    "We take all the author-topic distributions (stored in `model.state.gamma`) and embed them in a 2D space. To do this, we reduce the dimensionality of this data using t-SNE. \n",
    "\n",
    "t-SNE is a method that attempts to reduce the dimensionality of a dataset, while maintaining the distances between the points. That means that if two authors are close together in the plot below, then their topic distributions are similar.\n",
    "\n",
    "In the cell below, we transform the author-topic representation into the t-SNE space. You can increase the `smallest_author` value if you do not want to view all the authors with few documents."
   ]
  },
  {
   "cell_type": "code",
   "execution_count": 26,
   "metadata": {
    "collapsed": false
   },
   "outputs": [],
   "source": [
    "%%time\n",
    "from sklearn.manifold import TSNE\n",
    "tsne = TSNE(n_components=2, random_state=0)\n",
    "smallest_author = 0  # Ignore authors with documents less than this.\n",
    "authors = [model.author2id[a] for a in model.author2id.keys() if len(author2doc[a]) > smallest_author]\n",
    "_ = tsne.fit_transform(model.state.gamma[authors, :])  # Result stored in tsne.embedding_"
   ]
  },
  {
   "cell_type": "markdown",
   "metadata": {},
   "source": [
    "We are now ready to make the plot.\n",
    "\n",
    "If you are unable to view or interact with the plot below, it is available [here]() (**TODO:** make a page for the plot, and include the link), or view the entire notebook [here]() (**TODO:** make nvbiewer page for the notebook or something).\n",
    "\n",
    "Note that if you run this notebook yourself, you will see a different graph. The random initialization of the model will be different, and the result will thus be different to some degree. You may find an entirely different representation of the data, or it may show the same interpretation slightly differently."
   ]
  },
  {
   "cell_type": "code",
   "execution_count": 27,
   "metadata": {
    "collapsed": false,
    "scrolled": true
   },
   "outputs": [
    {
     "data": {
      "text/html": [
       "\n",
       "    <div class=\"bk-root\">\n",
       "        <a href=\"http://bokeh.pydata.org\" target=\"_blank\" class=\"bk-logo bk-logo-small bk-logo-notebook\"></a>\n",
       "        <span id=\"7678b991-d847-4f9b-8db4-2b9c003d91ee\">Loading BokehJS ...</span>\n",
       "    </div>"
      ]
     },
     "metadata": {},
     "output_type": "display_data"
    },
    {
     "data": {
      "application/javascript": [
       "\n",
       "(function(global) {\n",
       "  function now() {\n",
       "    return new Date();\n",
       "  }\n",
       "\n",
       "  var force = \"1\";\n",
       "\n",
       "  if (typeof (window._bokeh_onload_callbacks) === \"undefined\" || force !== \"\") {\n",
       "    window._bokeh_onload_callbacks = [];\n",
       "    window._bokeh_is_loading = undefined;\n",
       "  }\n",
       "\n",
       "\n",
       "  \n",
       "  if (typeof (window._bokeh_timeout) === \"undefined\" || force !== \"\") {\n",
       "    window._bokeh_timeout = Date.now() + 5000;\n",
       "    window._bokeh_failed_load = false;\n",
       "  }\n",
       "\n",
       "  var NB_LOAD_WARNING = {'data': {'text/html':\n",
       "     \"<div style='background-color: #fdd'>\\n\"+\n",
       "     \"<p>\\n\"+\n",
       "     \"BokehJS does not appear to have successfully loaded. If loading BokehJS from CDN, this \\n\"+\n",
       "     \"may be due to a slow or bad network connection. Possible fixes:\\n\"+\n",
       "     \"</p>\\n\"+\n",
       "     \"<ul>\\n\"+\n",
       "     \"<li>re-rerun `output_notebook()` to attempt to load from CDN again, or</li>\\n\"+\n",
       "     \"<li>use INLINE resources instead, as so:</li>\\n\"+\n",
       "     \"</ul>\\n\"+\n",
       "     \"<code>\\n\"+\n",
       "     \"from bokeh.resources import INLINE\\n\"+\n",
       "     \"output_notebook(resources=INLINE)\\n\"+\n",
       "     \"</code>\\n\"+\n",
       "     \"</div>\"}};\n",
       "\n",
       "  function display_loaded() {\n",
       "    if (window.Bokeh !== undefined) {\n",
       "      Bokeh.$(\"#7678b991-d847-4f9b-8db4-2b9c003d91ee\").text(\"BokehJS successfully loaded.\");\n",
       "    } else if (Date.now() < window._bokeh_timeout) {\n",
       "      setTimeout(display_loaded, 100)\n",
       "    }\n",
       "  }\n",
       "\n",
       "  function run_callbacks() {\n",
       "    window._bokeh_onload_callbacks.forEach(function(callback) { callback() });\n",
       "    delete window._bokeh_onload_callbacks\n",
       "    console.info(\"Bokeh: all callbacks have finished\");\n",
       "  }\n",
       "\n",
       "  function load_libs(js_urls, callback) {\n",
       "    window._bokeh_onload_callbacks.push(callback);\n",
       "    if (window._bokeh_is_loading > 0) {\n",
       "      console.log(\"Bokeh: BokehJS is being loaded, scheduling callback at\", now());\n",
       "      return null;\n",
       "    }\n",
       "    if (js_urls == null || js_urls.length === 0) {\n",
       "      run_callbacks();\n",
       "      return null;\n",
       "    }\n",
       "    console.log(\"Bokeh: BokehJS not loaded, scheduling load and callback at\", now());\n",
       "    window._bokeh_is_loading = js_urls.length;\n",
       "    for (var i = 0; i < js_urls.length; i++) {\n",
       "      var url = js_urls[i];\n",
       "      var s = document.createElement('script');\n",
       "      s.src = url;\n",
       "      s.async = false;\n",
       "      s.onreadystatechange = s.onload = function() {\n",
       "        window._bokeh_is_loading--;\n",
       "        if (window._bokeh_is_loading === 0) {\n",
       "          console.log(\"Bokeh: all BokehJS libraries loaded\");\n",
       "          run_callbacks()\n",
       "        }\n",
       "      };\n",
       "      s.onerror = function() {\n",
       "        console.warn(\"failed to load library \" + url);\n",
       "      };\n",
       "      console.log(\"Bokeh: injecting script tag for BokehJS library: \", url);\n",
       "      document.getElementsByTagName(\"head\")[0].appendChild(s);\n",
       "    }\n",
       "  };var element = document.getElementById(\"7678b991-d847-4f9b-8db4-2b9c003d91ee\");\n",
       "  if (element == null) {\n",
       "    console.log(\"Bokeh: ERROR: autoload.js configured with elementid '7678b991-d847-4f9b-8db4-2b9c003d91ee' but no matching script tag was found. \")\n",
       "    return false;\n",
       "  }\n",
       "\n",
       "  var js_urls = ['https://cdn.pydata.org/bokeh/release/bokeh-0.12.3.min.js', 'https://cdn.pydata.org/bokeh/release/bokeh-widgets-0.12.3.min.js'];\n",
       "\n",
       "  var inline_js = [\n",
       "    function(Bokeh) {\n",
       "      Bokeh.set_log_level(\"info\");\n",
       "    },\n",
       "    \n",
       "    function(Bokeh) {\n",
       "      \n",
       "      Bokeh.$(\"#7678b991-d847-4f9b-8db4-2b9c003d91ee\").text(\"BokehJS is loading...\");\n",
       "    },\n",
       "    function(Bokeh) {\n",
       "      console.log(\"Bokeh: injecting CSS: https://cdn.pydata.org/bokeh/release/bokeh-0.12.3.min.css\");\n",
       "      Bokeh.embed.inject_css(\"https://cdn.pydata.org/bokeh/release/bokeh-0.12.3.min.css\");\n",
       "      console.log(\"Bokeh: injecting CSS: https://cdn.pydata.org/bokeh/release/bokeh-widgets-0.12.3.min.css\");\n",
       "      Bokeh.embed.inject_css(\"https://cdn.pydata.org/bokeh/release/bokeh-widgets-0.12.3.min.css\");\n",
       "    }\n",
       "  ];\n",
       "\n",
       "  function run_inline_js() {\n",
       "    \n",
       "    if ((window.Bokeh !== undefined) || (force === \"1\")) {\n",
       "      for (var i = 0; i < inline_js.length; i++) {\n",
       "        inline_js[i](window.Bokeh);\n",
       "      }if (force === \"1\") {\n",
       "        display_loaded();\n",
       "      }} else if (Date.now() < window._bokeh_timeout) {\n",
       "      setTimeout(run_inline_js, 100);\n",
       "    } else if (!window._bokeh_failed_load) {\n",
       "      console.log(\"Bokeh: BokehJS failed to load within specified timeout.\");\n",
       "      window._bokeh_failed_load = true;\n",
       "    } else if (!force) {\n",
       "      var cell = $(\"#7678b991-d847-4f9b-8db4-2b9c003d91ee\").parents('.cell').data().cell;\n",
       "      cell.output_area.append_execute_result(NB_LOAD_WARNING)\n",
       "    }\n",
       "\n",
       "  }\n",
       "\n",
       "  if (window._bokeh_is_loading === 0) {\n",
       "    console.log(\"Bokeh: BokehJS loaded, going straight to plotting\");\n",
       "    run_inline_js();\n",
       "  } else {\n",
       "    load_libs(js_urls, function() {\n",
       "      console.log(\"Bokeh: BokehJS plotting callback run at\", now());\n",
       "      run_inline_js();\n",
       "    });\n",
       "  }\n",
       "}(this));"
      ]
     },
     "metadata": {},
     "output_type": "display_data"
    }
   ],
   "source": [
    "# Tell Bokeh to display plots inside the notebook.\n",
    "from bokeh.io import output_notebook\n",
    "output_notebook()"
   ]
  },
  {
   "cell_type": "code",
   "execution_count": 28,
   "metadata": {
    "collapsed": false
   },
   "outputs": [
    {
     "data": {
      "text/html": [
       "\n",
       "\n",
       "    <div class=\"bk-root\">\n",
       "        <div class=\"plotdiv\" id=\"f4e9b36f-7110-4eaf-be8a-ccdeb6514f03\"></div>\n",
       "    </div>\n",
       "<script type=\"text/javascript\">\n",
       "  \n",
       "  (function(global) {\n",
       "    function now() {\n",
       "      return new Date();\n",
       "    }\n",
       "  \n",
       "    var force = \"\";\n",
       "  \n",
       "    if (typeof (window._bokeh_onload_callbacks) === \"undefined\" || force !== \"\") {\n",
       "      window._bokeh_onload_callbacks = [];\n",
       "      window._bokeh_is_loading = undefined;\n",
       "    }\n",
       "  \n",
       "  \n",
       "    \n",
       "    if (typeof (window._bokeh_timeout) === \"undefined\" || force !== \"\") {\n",
       "      window._bokeh_timeout = Date.now() + 0;\n",
       "      window._bokeh_failed_load = false;\n",
       "    }\n",
       "  \n",
       "    var NB_LOAD_WARNING = {'data': {'text/html':\n",
       "       \"<div style='background-color: #fdd'>\\n\"+\n",
       "       \"<p>\\n\"+\n",
       "       \"BokehJS does not appear to have successfully loaded. If loading BokehJS from CDN, this \\n\"+\n",
       "       \"may be due to a slow or bad network connection. Possible fixes:\\n\"+\n",
       "       \"</p>\\n\"+\n",
       "       \"<ul>\\n\"+\n",
       "       \"<li>re-rerun `output_notebook()` to attempt to load from CDN again, or</li>\\n\"+\n",
       "       \"<li>use INLINE resources instead, as so:</li>\\n\"+\n",
       "       \"</ul>\\n\"+\n",
       "       \"<code>\\n\"+\n",
       "       \"from bokeh.resources import INLINE\\n\"+\n",
       "       \"output_notebook(resources=INLINE)\\n\"+\n",
       "       \"</code>\\n\"+\n",
       "       \"</div>\"}};\n",
       "  \n",
       "    function display_loaded() {\n",
       "      if (window.Bokeh !== undefined) {\n",
       "        Bokeh.$(\"#f4e9b36f-7110-4eaf-be8a-ccdeb6514f03\").text(\"BokehJS successfully loaded.\");\n",
       "      } else if (Date.now() < window._bokeh_timeout) {\n",
       "        setTimeout(display_loaded, 100)\n",
       "      }\n",
       "    }\n",
       "  \n",
       "    function run_callbacks() {\n",
       "      window._bokeh_onload_callbacks.forEach(function(callback) { callback() });\n",
       "      delete window._bokeh_onload_callbacks\n",
       "      console.info(\"Bokeh: all callbacks have finished\");\n",
       "    }\n",
       "  \n",
       "    function load_libs(js_urls, callback) {\n",
       "      window._bokeh_onload_callbacks.push(callback);\n",
       "      if (window._bokeh_is_loading > 0) {\n",
       "        console.log(\"Bokeh: BokehJS is being loaded, scheduling callback at\", now());\n",
       "        return null;\n",
       "      }\n",
       "      if (js_urls == null || js_urls.length === 0) {\n",
       "        run_callbacks();\n",
       "        return null;\n",
       "      }\n",
       "      console.log(\"Bokeh: BokehJS not loaded, scheduling load and callback at\", now());\n",
       "      window._bokeh_is_loading = js_urls.length;\n",
       "      for (var i = 0; i < js_urls.length; i++) {\n",
       "        var url = js_urls[i];\n",
       "        var s = document.createElement('script');\n",
       "        s.src = url;\n",
       "        s.async = false;\n",
       "        s.onreadystatechange = s.onload = function() {\n",
       "          window._bokeh_is_loading--;\n",
       "          if (window._bokeh_is_loading === 0) {\n",
       "            console.log(\"Bokeh: all BokehJS libraries loaded\");\n",
       "            run_callbacks()\n",
       "          }\n",
       "        };\n",
       "        s.onerror = function() {\n",
       "          console.warn(\"failed to load library \" + url);\n",
       "        };\n",
       "        console.log(\"Bokeh: injecting script tag for BokehJS library: \", url);\n",
       "        document.getElementsByTagName(\"head\")[0].appendChild(s);\n",
       "      }\n",
       "    };var element = document.getElementById(\"f4e9b36f-7110-4eaf-be8a-ccdeb6514f03\");\n",
       "    if (element == null) {\n",
       "      console.log(\"Bokeh: ERROR: autoload.js configured with elementid 'f4e9b36f-7110-4eaf-be8a-ccdeb6514f03' but no matching script tag was found. \")\n",
       "      return false;\n",
       "    }\n",
       "  \n",
       "    var js_urls = [];\n",
       "  \n",
       "    var inline_js = [\n",
       "      function(Bokeh) {\n",
       "        Bokeh.$(function() {\n",
       "            var docs_json = {\"73d04b60-46a2-4117-8405-5c5d4604f58f\":{\"roots\":{\"references\":[{\"attributes\":{\"plot\":{\"id\":\"6b3836e2-3a63-4728-94a3-d353bea3b71b\",\"subtype\":\"Figure\",\"type\":\"Plot\"}},\"id\":\"5e6f3c7e-abb4-470d-a829-a6d5e9f26e01\",\"type\":\"PanTool\"},{\"attributes\":{\"callback\":null,\"column_names\":[\"y\",\"author_names\",\"x\",\"author_sizes\",\"radii\"],\"data\":{\"author_names\":[\"EricPostma\",\"BartlettW.Mel\",\"A.D.Back\",\"ScottDavies\",\"BjomLambrigsten\",\"D.S.Touretzky\",\"DanCornford\",\"LeonardG.C.Hamey\",\"HerbertWiklicky\",\"JetteRandlov\",\"O.Farotimi\",\"ZhaopingLi\",\"BhusanGupta\",\"AnandRangarajan\",\"HervdBourlard\",\"RobertB.Allen\",\"JimHawkins\",\"HongC.Leung\",\"PeterM.Williams\",\"G.J.Gordon\",\"RaymondL.Watrous\",\"DianeLitman\",\"MarinaMeila\",\"BimalMathur\",\"A.N.Michel\",\"RalphNeuneier\",\"RemiMunos\",\"BrianBox\",\"GerhardPaass\",\"ThomasR.Hancock\",\"J.C.Houk\",\"AlfonsoRenart\",\"R.D.Griffin\",\"JohnK.Douglass\",\"B.Boser\",\"JasonSroka\",\"VirginiaR.de-Sa\",\"AndreStechert\",\"LawrenceK.Saul\",\"HarryWechsler\",\"B.Linares-Barranco\",\"JohnK.Williams\",\"AndrewS.Noetzel\",\"ThomasR.Shultz\",\"R.ChristopherdeCharms\",\"NandaKambhatla\",\"JamesD.Keeler\",\"S.A.Solla\",\"ValentinoBraitenberg\",\"TimHoriuchi\",\"ErikD.Lumer\",\"CesareFurlanello\",\"RahulSarpeshkar\",\"EveMarder\",\"C.K.Sin\",\"DanielL.James\",\"G.N.Borisyuk\",\"HermanFerra\",\"RobertJacobs\",\"PaulHasler\",\"Shun-ichiAmari\",\"H.S.Baird\",\"PaulW.Goldberg\",\"J.Hajto\",\"S.Sundararajan\",\"PierreBaldi\",\"KennethM.Buckland\",\"AtamP.Dhawan\",\"PeterBartlett\",\"RobertCunningham\",\"FedericoGirosi\",\"JustinA.Boyan\",\"KojiKotani\",\"AliceChiang\",\"JakobBohr\",\"FrankMoss\",\"M.Leroux\",\"H.Drucker\",\"ChristopherK.I.Williams\",\"KwokFaiHui\",\"A.Horst\",\"JohnHaggerty\",\"C.Kenyon\",\"RobertWilliamson\",\"SimonDennis\",\"DavidDeMers\",\"MarkMathieson\",\"JamesHendler\",\"RaymondJ.Mooney\",\"A.Kramer\",\"ReimarHofmann\",\"HayitK.Greenspan\",\"AnthonyJ.Bell\",\"JimMann\",\"PeterFoltz\",\"ErichWhitney\",\"SusumuTachi\",\"ZoranObradovic\",\"EduardoSontag\",\"JoseC.Principe\",\"ClaudeNadeau\",\"MarkGerules\",\"Shih-ChiiLiu\",\"H.Weissman\",\"GintamsV.Reklaitis\",\"AlanLapedes\",\"ChristopherDonham\",\"A.Rangarajan\",\"PedroA.d.F.R.Hojen-Sorensen\",\"A.Dembo\",\"LawrenceDavis\",\"D.J.Kershaw\",\"A.G.U.Perera\",\"WesleyE.Snyder\",\"HiroakiSaito\",\"GerhardRigoll\",\"C.T.Abdallah\",\"KristRoginski\",\"AlexanderJ.Smola\",\"KazumiSaito\",\"JacquesJ.Vidal\",\"EdwardSchwartz\",\"N.S.Skantzos\",\"ChristofKoch\",\"J.Larsen\",\"ReidR.Harrison\",\"W.ThomasMiller\",\"YuedongWang\",\"A.Grunewald\",\"R.Janow\",\"NickLittlestone\",\"JyrldKivinen\",\"TongZhang\",\"NicholasCamevale\",\"AndreasM.Bartels\",\"FredRieke\",\"DaphnaWeinshall\",\"YoramBaram\",\"DavidPrice\",\"HeinrichH.Bfilthoff\",\"Y.Cboe\",\"J.L.Huertas\",\"WilliamFaller\",\"JordanB.Pollack\",\"BartlettMel\",\"JamesGlynn\",\"LauranceT.Maloney\",\"AndrewR.Barron\",\"YosefRinott\",\"KurtFleischer\",\"W.Zhang\",\"R.E.Ritzmann\",\"GaryM.Kuhn\",\"MarkWhite\",\"MichaelBrownlow\",\"ChuanyiJi\",\"LB.Shuvalova\",\"D.Chen\",\"RainerMalaka\",\"E.Alpaydin\",\"AlbertoSangiovanni-Vincentelli\",\"ChristopherAssad\",\"MichaelFinke\",\"RichardGranger\",\"M.M.Hochberg\",\"J.A.Marshall\",\"AdamJ.Nucci\",\"MichaelC.Crair\",\"SandraPanizza\",\"SiegfriedBos\",\"JohnBridle\",\"JeanneTownsend\",\"D.Brandeis\",\"SeanD.Murphy\",\"J.D.Cowen\",\"HolmSchwarze\",\"RichardGolden\",\"CliffordLau\",\"D.Johnson\",\"J.VanderSpiegel\",\"MasahikoHamno\",\"IrfanEssa\",\"KennethD.Miller\",\"JanetWiles\",\"DavidL.Bisset\",\"PavelLaskov\",\"D.B.Schwartz\",\"TheaB.Ghiselli-Crippa\",\"GillianMarshall\",\"KarlGustarson\",\"A.P.Dunmur\",\"MichaelM.Merzenich\",\"BarryFlower\",\"K.Y.MichaelWong\",\"RichardK.Belew\",\"DavidH.Wolpert\",\"Dit-YanYeung\",\"ChristianPiepenbrock\",\"PatriceSimard\",\"LawrenceD.Jackel\",\"D.L.Standley\",\"NicholasJ.Redding\",\"RonaldCole\",\"G.Zavaliagkos\",\"Chuan-LinWu\",\"M.Hasselmo\",\"H.G.Zimmermann\",\"DavidWolpert\",\"Shih-ChengYen\",\"MatthewJ.Beal\",\"RichardZemel\",\"V.Tresp\",\"C.Neukirchen\",\"AlexanderSinger\",\"ClayD.Spence\",\"B.P.Yuhas\",\"SuthepMadarasmi\",\"MichaelA.Glover\",\"JimKeeler\",\"JohnC.Platt\",\"KarvelK.Thomber\",\"AsaBen-Hut\",\"StephenJudd\",\"DanaRon\",\"YvesChauvin\",\"JakeRyan\",\"JosephG.Malpeli\",\"EsterLevin\",\"GeraldineLegendre\",\"Wei-TsihLee\",\"R.A.Pearson\",\"PaulW.Munro\",\"JoseA.B.Fortes\",\"S.A.Seinenov\",\"EricBoussard\",\"J.C.Hager\",\"DanielRuderman\",\"Y.LeCun\",\"GerardDreyfus\",\"WilliamBaxter\",\"MichaelZibulevsky\",\"MichaelJordan\",\"SimonCarlile\",\"S.J.Hanson\",\"DavidWarland\",\"StevenR.Skinner\",\"BruceGraham\",\"NirmalaRamanujam\",\"RoderickMurray-Smith\",\"DouglasL.Reilly\",\"AndreasZiehe\",\"LloydWatts\",\"T.D.Albright\",\"AdrianTrapletti\",\"T.P.Allen\",\"MaryTabasko\",\"PeterDayan\",\"S.P.M.Choi\",\"ChangfengWang\",\"ShivakumarVaithyanathan\",\"H.Wagner\",\"JacquesGautrals\",\"KenneyNg\",\"PaolaCampadelli\",\"R.W.Penney\",\"JoshI.Gold\",\"JamesR.Mann\",\"BrooksBisofberger\",\"MosfeqRashid\",\"JohnCavazos\",\"WilliamE.Skaggs\",\"J.J.Gelfand\",\"MarshallFlax\",\"BrianD.McVey\",\"BernardDoyon\",\"DavidServan-Schreiber\",\"DemetriPsaltis\",\"YannLeCun\",\"FrankEeckman\",\"JamesGlass\",\"ThomasK.Landauer\",\"RobertC.Williamson\",\"CharlesENeugebauer\",\"TimothyHoriuchi\",\"ThorsteinnS.Rognvaldsson\",\"P.JonathonPhillips\",\"AnnaCorderoy\",\"DavidJ.Crisp\",\"J.B.Hampshire\",\"LesE.Atlas\",\"RalphEtienne-Cummings\",\"GeorgDorffner\",\"BernardoHuberman\",\"R.H.Koch\",\"ReinerLenz\",\"BemdFritzke\",\"DavidJ.C.MacKay\",\"YaserAbu-Mostafa\",\"AmnonShashua\",\"R.Kempter\",\"KevinLang\",\"TakashiOnoda\",\"RichardA.Andersen\",\"AlokeGuha\",\"AmyMcGovern\",\"R.Etienne-Cummings\",\"FrankWilczek\",\"JosephC.Hager\",\"BradleyTonkes\",\"AjayGupta\",\"HongLeung\",\"PatrickAgin\",\"K.Rose\",\"ChongGu\",\"RonaldRosenfeld\",\"JosephDao\",\"MichaelRecce\",\"L.Wu\",\"KazukiJoe\",\"YiLi\",\"Chiang-JungPu\",\"JohnAllman\",\"YakWeiss\",\"I.M.Elfadel\",\"PaulUtgoff\",\"HiroshiIshii\",\"KathrynLaskey\",\"TrentE.Lange\",\"MiguelA.Carreira-Perpinan\",\"GeraldTesauro\",\"DanielPotter\",\"TomasoA.Poggio\",\"EricJohnson\",\"HisashiSuzuki\",\"G.J.Kacmarcik\",\"KatalinM.Gothard\",\"ZiliLiu\",\"J.C.Jackson\",\"GraceWahba\",\"PeterD.Lawrence\",\"FxnstR.Dow\",\"KennethA.Norman\",\"G.L.Heileman\",\"D.W.Opitz\",\"MatthewBrand\",\"LeonBottou\",\"YojiUno\",\"BabakHassibi\",\"DavidStork\",\"PeterBollmann-Sdorra\",\"LarryYaeger\",\"AllenM.Peterson\",\"LidrorTroyansky\",\"TerrenceL.Fine\",\"EmanuelTodorov\",\"Te-WonLee\",\"G.J.Goodhill\",\"DonBone\",\"L.D.Jackel\",\"B.W.Mel\",\"P.W.Munro\",\"PaatRusmevichiemong\",\"MichaelLemmon\",\"H.Langenbacher\",\"LfionPersonnaz\",\"ErnestWan\",\"PeterT.Szymanski\",\"Alexandervon-zur-Muhlen\",\"K.Asanovic\",\"RobertB.Pinter\",\"VolneiPedroni\",\"DeLiangL.Wang\",\"DeLiangWang\",\"YannickPouliot\",\"JawadA.Salehi\",\"GeoffreyHinton\",\"C.LeeGiles\",\"TimothyChiu\",\"R.Miikkulainen\",\"EdwardStern\",\"KurtHomik\",\"L.K.Saul\",\"S.C.Ahalt\",\"WilliamBialek\",\"BabackMoghaddam\",\"P.Auer\",\"DonnieHenderson\",\"JohnA.Hertz\",\"MahesanNiranjan\",\"A.Pouget\",\"AlexPentland\",\"WeiminLiu\",\"PhilipJ.Holmes\",\"SeiMiyake\",\"JamesR.Williamson\",\"VictorHu\",\"JagmeetS.Kanwal\",\"MichaelL.Chuang\",\"BrandynWebb\",\"HosseinL.Najafi\",\"RegisCardin\",\"TerenceD.Sanger\",\"PadhraicSmyth\",\"FrankH.Eeckman\",\"K.Homik\",\"PatricK.Stanton\",\"EricI.Knudsen\",\"PaulR.Cooper\",\"R.P.N.Rao\",\"ByronDom\",\"Y.C.Pati\",\"KanBoonyanit\",\"JohnHertz\",\"A.Zador\",\"EricBaum\",\"PeterMarbach\",\"M.J.Denham\",\"JohnF.Kolen\",\"SeppHochreiter\",\"A.L.Yuille\",\"ReinholdMann\",\"PaulStolorz\",\"DavidScheeff\",\"RichardFozzard\",\"KennethKreutz-Delgado\",\"GeorgeZavaliagkos\",\"Kai-YeungSiu\",\"EberhardE.Fetz\",\"FriedrichT.Sommex\",\"LindaKukolich\",\"A.Linden\",\"L.A.Akers\",\"PaulMueller\",\"J.Moody\",\"M.V.Solodov\",\"K.Yamada\",\"ChienPingLu\",\"H.Attias\",\"DavidRogers\",\"TheoGeisel\",\"J.Walter\",\"AlanBlair\",\"MarkusSchenkel\",\"AndrewLippman\",\"JeffreyL.Elman\",\"JoeEisenberg\",\"ThomasRagg\",\"ChristianDarken\",\"TrevorHastie\",\"J.G.Taylor\",\"MichaelT.Gately\",\"T.Yamashita\",\"A.Pentland\",\"L.C.Parra\",\"EHergert\",\"ElieBienenstock\",\"Z.Ghahramani\",\"CarreitSahar-Pikielny\",\"NoboruMurata\",\"G.Jackson\",\"TomasoPoggio\",\"MichiroNegishi\",\"DavidB.Parker\",\"GaryM.Scott\",\"CarlosMejia\",\"DavidG.Ward\",\"AchimStahlberger\",\"NebojsaJojic\",\"RobertoPieraccini\",\"DavidL.Trotman\",\"Jean-BernardTheeten\",\"HansPeterGraf\",\"T.G.Dietterich\",\"DavidB.Grimes\",\"FranklinR.Arethor\",\"RichardLyon\",\"DaphneBavelier\",\"GilletteElvgren\",\"DavidL.Waltz\",\"S.P.Singh\",\"OlivierCoenen\",\"ThomasJ.Anastasio\",\"CandaceKamm\",\"DavidJ.Foster\",\"J.Barhen\",\"L.Pessoa\",\"H.Bourlard\",\"Masa-akiSato\",\"JianfengFeng\",\"DouglasKerns\",\"AlyssaApsel\",\"ShengMa\",\"KevinR.Farrell\",\"M.R.Walker\",\"T.Shibata\",\"HagaiAttias\",\"SenSong\",\"DemetrPsaltis\",\"R.Chu\",\"JohnE.W.Mayhew\",\"ChrisMesterharm\",\"J.Deppisch\",\"JosephW.Goodman\",\"FernandaBotelho\",\"KarlGustafson\",\"J.AnthonyMovshon\",\"NigelM.Allinson\",\"YongLiu\",\"SteliosM.Smimakis\",\"PatrickGallinari\",\"JeffreyTeeters\",\"EdgarA.Brown\",\"AkayshaC.Tang\",\"JuergenFritsch\",\"HansP.Graf\",\"KevinA.Archie\",\"HarrisonMonFookLeong\",\"SehoOh\",\"J.Alspector\",\"DavidSomers\",\"MarilynWalker\",\"H.N.Mhaskar\",\"HendricusG.Loos\",\"ManoelFernandoTenorio\",\"GaleMartin\",\"ClintS.Cole\",\"AnthonyZador\",\"E.Zohary\",\"TamarFlash\",\"DonR.Hush\",\"RuthErlanson\",\"Jean-FranqoisIsabelle\",\"J.C.Platt\",\"BrendanJ.Frey\",\"H.Nakahara\",\"CharlesElbaurn\",\"ConradC.Galland\",\"JeremyS.de-Bonet\",\"OferZeitouni\",\"EdwardW.Kairiss\",\"J.Kramer\",\"OdeliaSchwartz\",\"StefanHeil\",\"HuiTong\",\"A.Shustorovich\",\"RaphaelFeraud\",\"HillelPratt\",\"Mark.RSydorenko\",\"Jen-LunYuan\",\"Ki-ChulKim\",\"NaohiroFukumura\",\"DanielB.Schwartz\",\"L.RichardCarley\",\"DmitriB.Chklovskii\",\"JamesPittman\",\"ThomasHolmann\",\"ChristopherBowman\",\"TonyJebara\",\"D.S.C.So\",\"J.L.Elman\",\"AndreasHerz\",\"MosheSipper\",\"B.V.K.VijayaKumar\",\"RichardSchwartz\",\"ThomasG.Dietterich\",\"JamesS.Schwaber\",\"KahKaySung\",\"ErichJ.Smythe\",\"LyleJ.Borg-Graham\",\"AlexRobel\",\"JohnO'Keefe\",\"RandallR.Spangler\",\"DaweiW.Dong\",\"AnthonyBloesch\",\"JimSchimert\",\"JordanPollack\",\"NicolN.Schraudolph\",\"ColinCampbell\",\"JaakkoHollmen\",\"DanHammerstrom\",\"JohnWawrzynek\",\"HeinzSchuster\",\"ManuelF.Fernandez\",\"MarioBlaum\",\"ThomasC.Ferree\",\"VolodyaVovk\",\"RussellH.Lambert\",\"H.R.Doyle\",\"RonaldJ.Williams\",\"StevenJ.Nowlan\",\"MichaelJ.Pazzani\",\"S.R.Waterhouse\",\"DavidBrady\",\"AndrewR.Webb\",\"Antalvan-den-Bosch\",\"RonaldKlein\",\"JianWu\",\"EstherLevin\",\"AndrewMoore\",\"DavidVandenBout\",\"RobertMoll\",\"E.D.Sontag\",\"DavidMarsan\",\"FranklinJ.Rudolph\",\"R.R.de-Ruyter-van-Steveninck\",\"FransM.Coetzee\",\"WilliamR.Softky\",\"ManceHarmon\",\"PeterE.Latham\",\"BarbaraKlein\",\"GregoryECooper\",\"RobertFarber\",\"JohnBain\",\"BennyLautmp\",\"RobertB.Darling\",\"YurikoOshima-Takane\",\"AsrielU.Levin\",\"JohnG.Harris\",\"RenatoDe-Mori\",\"ToshiyukiTanaka\",\"KevinE.Martin\",\"RobertE.Druzinsky\",\"SylvieRenaud-LeMasson\",\"HinrichSchfitze\",\"LeemonBaird\",\"DeanA.Pomerleau\",\"P.S.Krishnaprasad\",\"R.E.Jenkins\",\"ErnestFokoue\",\"ChristophE.Schreiner\",\"AnthonyKuh\",\"ChristopherWilliams\",\"C.Cones\",\"JonathanD.Cohen\",\"JeromeFreidman\",\"C.L.Giles\",\"AlanD.Marts\",\"AlexChemjavsky\",\"DavidGoodine\",\"JohnMoody\",\"H.Ferni\",\"LesAtlas\",\"HeinrichH.Btilthoff\",\"TonyPlate\",\"RichardM.Golden\",\"JohnW.Fisher\",\"AlexanderT.Ihler\",\"JoeTebelskis\",\"GertCauwenberghs\",\"RiittaHari\",\"GregoryR.Galperin\",\"AnthonyLaVigna\",\"Sang-YungShin\",\"TonyRobinson\",\"A.E.Friedman\",\"S.A.Macy\",\"GianlucaBontempi\",\"R.H.Crites\",\"JehoshuaBruck\",\"YairWeiss\",\"VolkerHansen\",\"RichardJ.Coggins\",\"DanielM.Wolpert\",\"JohnJ.Hopfield\",\"J.Baxter\",\"HenriAtlan\",\"W.ScottStornetta\",\"StevenS.Watkins\",\"CarlosBrody\",\"RonaldA.Sumida\",\"J.F.Shepanski\",\"H.T.Blair\",\"AndreElisseeff\",\"KlausPrank\",\"A.Afghan\",\"WesleySnyder\",\"FredWolf\",\"MichalMorciniec\",\"ThomasK.Miller\",\"YannisTsividis\",\"RonaldSverdlove\",\"MarkHoller\",\"ChristopherL.Scofield\",\"RobertAllen\",\"HirofumiMatsui\",\"RobertL.Tokar\",\"RalphPenner\",\"DavidMcAllester\",\"J.S.Denker\",\"MottenPedersen\",\"AnyaC.Hurlbert\",\"MichaelP.Stryker\",\"MikeSchuster\",\"PaulEkman\",\"M.Gilloux\",\"P.Baldi\",\"J.A.F.Leite\",\"WolframMenzel\",\"AyhanDemiriz\",\"ElizabethC.Behrman\",\"F.B.Rodriguez\",\"JacquesVidal\",\"H.MartinReekie\",\"EliotMoss\",\"S.Lawrence\",\"IsabelleGuyon\",\"AndrewBlake\",\"GirishN.Patel\",\"TarigSamad\",\"G.Dreyfus\",\"BalazsKegl\",\"ClaudioGentile\",\"E.Littmann\",\"PaulNachtigall\",\"BenoitHuet\",\"EnnioMingolla\",\"MosheKaro\",\"H.Bolouri\",\"C.J.C.H.Watkins\",\"HansHenrikThodberg\",\"YuanshengXiong\",\"AmirDembo\",\"ChrisJ.C.Burges\",\"GaryCook\",\"ArthurB.Markman\",\"GeraldSommer\",\"R.Lee\",\"AndrewM.Finch\",\"JamesC.Houk\",\"AvnerPriel\",\"EricA.Wan\",\"P.A.Chou\",\"A.Kowalczyk\",\"S.Pickard\",\"MartinSereno\",\"PieroCosi\",\"SugunaPappu\",\"YoichiHayashi\",\"F.Fallside\",\"DavidMontana\",\"AndrewG.Barto\",\"H.Scheich\",\"TatsutoMurayama\",\"G.Rigoll\",\"AntoninaStarita\",\"A.Rao\",\"TimothyS.Wilkinson\",\"JackL.Meador\",\"JimBergen\",\"MichaelMozer\",\"B.J.Frey\",\"JohnGrace\",\"JeffreyC.Lagarias\",\"NaonoriUeda\",\"JamesE.Steck\",\"RonMeir\",\"BrianS.Blais\",\"FrancesS.Chance\",\"DidierHerschkowitz\",\"MarkW.Goudreau\",\"MarkusLappe\",\"GregoryE.Gonye\",\"JeffMellstrom\",\"PhilipM.Long\",\"Y.Singer\",\"FrankWerblin\",\"C.W.H.Mace\",\"MikeHochberg\",\"M.A.Jabri\",\"MichaelE.Levemon\",\"PatrickHaffner\",\"GideonEInbar\",\"RobertH.Dodier\",\"MichaelWennan\",\"JohnH.Holland\",\"JacobEnglebrecht\",\"ChristopherConnolly\",\"S.K.Riis\",\"MichaelP.Weisend\",\"LiuKe\",\"RichCaruana\",\"W.Bialek\",\"JeffreyP.Sutton\",\"J.L.Wyatt\",\"JamesBower\",\"JosePrincipe\",\"RichardLehrer\",\"A.F.Murray\",\"PaulMineiro\",\"GarethJames\",\"NaftaliTishby\",\"B.Ravindran\",\"MiriamSchulte\",\"PaulBourgine\",\"RuthJ.Williams\",\"DanielSchwartz\",\"MathiasQuoy\",\"LawrenceSaul\",\"DavidJ.Burr\",\"SusanCiarroccaLee\",\"AndrewY.Ng\",\"Bernd-PeterParis\",\"M.Svensen\",\"JohnP.Miller\",\"RadekGrzeszczuk\",\"LucyE.Hadden\",\"MichaelFleisher\",\"AllenM.Waxman\",\"NoboruMumta\",\"P.Koiran\",\"RanEl-Yaniv\",\"MatthewA.Wilson\",\"LarsSchwabe\",\"LasseHolmstrom\",\"EricGranger\",\"Ronald.Rivest\",\"W.Maass\",\"JosephO.Ruanaidh\",\"Y.Mansour\",\"NormanYarvin\",\"JohnPearson\",\"S.Yu\",\"JohnP.Donoghue\",\"RebeccaRichards-Kortum\",\"ScottMakeig\",\"N.Barkai\",\"HalMcCartor\",\"JakubWejchert\",\"J.Zhao\",\"MostefaGolea\",\"ChristopherJ.Matheus\",\"TomHeskes\",\"DietrichWettschereck\",\"DanielS.Clouse\",\"AdAertsen\",\"NarendraAhuja\",\"Z.Chi\",\"ShujiYoshizawa\",\"ChristopherAtkeson\",\"GeorgeLeeZimmerman\",\"ChristophBregler\",\"PhilipH.Goodman\",\"Hung-LiTseng\",\"EliShamir\",\"CarlaBrodley\",\"RuthRosenholtz\",\"Yee-ChunLee\",\"Bertde-Vries\",\"KenjiDoya\",\"CedricDeffayet\",\"EduardSackinger\",\"JamesM.Goodwin\",\"DouglasBaumgardt\",\"A.J.Holmes\",\"MichaelI.Miller\",\"PaulA.Viola\",\"RobertFrye\",\"LanceC.Walton\",\"S.SidneyFels\",\"EricB.Baum\",\"WalterMetznet\",\"N.N.Schraudolph\",\"RalphLinsker\",\"FerdinandPeper\",\"JudeW.Shavlik\",\"BruceMacDonald\",\"TomM.Mitchell\",\"D.P.Helmbold\",\"ThomasShultz\",\"M.Dale\",\"KurtHornik\",\"A.Cichocki\",\"JeffreyEMonaco\",\"SaeedHadjifaradji\",\"L.Y.Pratt\",\"ElliotSinger\",\"GaryLynch\",\"DavidG.Grier\",\"PeterJ.Edwards\",\"MichaelI.Jordan\",\"RobertE.Schapire\",\"ClausBenkert\",\"NathanIntrator\",\"TommiJaakkola\",\"R.Hofmann\",\"LanceR.Williams\",\"WilliamSkaggs\",\"AlanYuille\",\"RezaShadmehr\",\"JudeShavlik\",\"DaweiDong\",\"AliceM.Chiang\",\"DanielJ.Rosen\",\"VicenteIragui\",\"KevinP.Murphy\",\"ReinhardBlasig\",\"J.Schneider\",\"AliH.Sayed\",\"A.Gersho\",\"EWeber\",\"ArnaudDoucet\",\"L.Xu\",\"PeterJ.Angeline\",\"E.Mjolsness\",\"AlexanderRoitershtein\",\"J.Bruck\",\"H.C.Rae\",\"TerrenceJ.Sejnowski\",\"S.Yasui\",\"WilliamW.Lytton\",\"C.E.Rasmussen\",\"DmitryRinberg\",\"LuciaM.Vaina\",\"M.K.Warmuth\",\"SamyBengio\",\"LeifH.Finkel\",\"RonPapka\",\"G.M.Kuhn\",\"MohammadA.Al-Ansari\",\"J.Beck\",\"RichardG.M.Morris\",\"Ju-SeogJang\",\"AlanStocker\",\"GregMartin\",\"O.J.M.Coenen\",\"VerenaHebler\",\"DonaldMathis\",\"HenrikFredholm\",\"F.H.Schuling\",\"SandeepGulati\",\"A.C.C.Coolen\",\"DavidFeld\",\"ThomasBriegel\",\"MaryB.Oftaway\",\"RonaldA.Cole\",\"AlvaroA.Cmz-Cabrara\",\"D.Saad\",\"RonaldG.Benson\",\"A.Moopenn\",\"BrunoCaprile\",\"DarkoStefanovic\",\"JohnE.Moody\",\"EmanualV.Todorov\",\"LehelCsato\",\"MarthaFarah\",\"Tzi-DarChiueh\",\"V.A.Chulaevsky\",\"SebastianRisau-Gusman\",\"AndrewD.Brown\",\"HarryBurke\",\"A.G.Barto\",\"EmanuelaBricolo\",\"W.Porod\",\"DonMontgomery\",\"EricSchnell\",\"K.Mueller\",\"DirkTimmerman\",\"ChrisDiorio\",\"JimChristian\",\"K.Y.Siu\",\"DavidAndre\",\"JackD.Cowan\",\"JurgenSchmidhuber\",\"BenA.Marcotte\",\"GrigorisKarakoulas\",\"JohnKolen\",\"MatthiasSeeger\",\"MatthiasScholz\",\"RonaldL.Calabrese\",\"NuriaOliver\",\"S.Baluja\",\"JanPuzicha\",\"S.K.Khanna\",\"E.W.Jacobs\",\"DietrichLehmann\",\"LeonN.Cooper\",\"PierreBaraduc\",\"MichaelChuang\",\"ToruOhira\",\"AnyaHurlbert\",\"MazinRahim\",\"CraigT.Jin\",\"A.U.Levin\",\"BarbaraWold\",\"A.Sangiovanni-Vincentelli\",\"DaveGillespie\",\"SharadSinghal\",\"R.M.Borisyuk\",\"ThoreGraepel\",\"D.D.Coon\",\"ThomasH.Brown\",\"AlanH.Kramer\",\"A.MiguelSanMartin\",\"C.C.Atkeson\",\"T.Rebotier\",\"ChristopherJ.Metz\",\"GeneA.Tagliarini\",\"IanT.Nabney\",\"J.Bernasconi\",\"AlexP.Pentland\",\"SubutaiAhmad\",\"MichaelDuff\",\"RodericGinpen\",\"DavidS.Touretzky\",\"AndrewD.J.Cross\",\"HenrikBohr\",\"RandallC.O'Reilly\",\"MichaelLittman\",\"AthanassiosSiapas\",\"H.SebastianSeung\",\"B.A.Pearlmutter\",\"CharlesF.Stevens\",\"T.Duong\",\"MarkZlochin\",\"TerrenceSejnowski\",\"PaulRhodes\",\"CarlosD.Brody\",\"R.Neuneier\",\"EytanDomany\",\"GiacomoM.Bisio\",\"JonathanA.Marshall\",\"TzioDarChiueh\",\"M.J.Rose\",\"ShinIshii\",\"SantoshS.Venkatesh\",\"P.Sollich\",\"StephanieSeneft\",\"Martinede-Gerlache\",\"R.R.Snapp\",\"AhChungTsoi\",\"AndreasG.Andreou\",\"RichardSutton\",\"JosephCollard\",\"DanRoth\",\"JoelRatsaby\",\"JosefP.Rauschecker\",\"RandallD.Beer\",\"M.I.Jordan\",\"KevinCummings\",\"I.Santoso\",\"Fu-ShengTsung\",\"KaganTumer\",\"N.Murata\",\"NevinL.Zhang\",\"JamesT.Buchanan\",\"FerdinandoA.Mussa-Ivaldi\",\"DavidKirk\",\"SergeyIoffe\",\"GregoryJ.Wolff\",\"SylvieThiria\",\"ThomasAnastasio\",\"ChristianW.Eurich\",\"CyrilLatimer\",\"MartinJ.Wainwright\",\"GiancarloFerrari-Trecate\",\"N.H.Wulff\",\"J.StephenJudd\",\"GerardinaHernandez\",\"A.B.Bonds\",\"XiuwenLiu\",\"DavidHaussler\",\"MichaelD.Revow\",\"MargaretSereno\",\"MichaelCohen\",\"J.PNadal\",\"DonaldT.Freeman\",\"SowmyaRamachandran\",\"RonaldM.Harris-Warrick\",\"VijaykumarGullapalli\",\"GarrisonW.Cottrell\",\"EnricoBocchieri\",\"T.Kanade\",\"A.Senior\",\"PaulSajda\",\"MartinJ.McKeown\",\"ArchismartRudra\",\"R.Erlanson\",\"DavidB.Rosen\",\"ArthurFlexer\",\"T.Nakai\",\"JoshuaTenenbaum\",\"MariusUsher\",\"C.M.Bishop\",\"GavinSmith\",\"AdamPrtigel-Bennett\",\"RicardoVigario\",\"G.Indiveri\",\"NorbertoM.Grzywacz\",\"Andrfivan-Schaik\",\"BrookeAnderson\",\"ChristophSchaefers\",\"GwendalLeMasson\",\"BillG.Home\",\"VladimirN.Vapnik\",\"DedreGentner\",\"JurgenHollatz\",\"N.E.Berthier\",\"PatriceY.Simard\",\"HelmutSchwegler\",\"HaimSompolinski\",\"MichailZak\",\"K.VenkateshPrasad\",\"ColinHumphties\",\"H.Wang\",\"KenjiMatsumoto\",\"JanBen\",\"DavidShahian\",\"K.I.Diamantaras\",\"A.Juels\",\"LauraMartignon\",\"AudreyL.Guzik\",\"NicholasJ.Adams\",\"TerrenceFine\",\"JohnKassebaum\",\"DavidTouretzky\",\"M.A.Mahowald\",\"AlexSmola\",\"M.W.Pealersen\",\"RaoulTawel\",\"BrianRasnow\",\"VolkerSteinhage\",\"BruceDow\",\"L.C.Dixon\",\"RodneyJ.Douglas\",\"UdoFanst\",\"H.Yang\",\"RogerShepard\",\"RobertCrites\",\"JamesB.Burr\",\"LindaKaufman\",\"SvenKoenig\",\"IdanSegev\",\"VijayR.Konda\",\"TheresaLong\",\"S.Churcher\",\"B.Yuhas\",\"DongXiang\",\"GeraldFahner\",\"A.Meyer-Baese\",\"AkioTanaka\",\"EricA.Hansen\",\"WillardMiranker\",\"BrunoCessac\",\"TimothyX.Brown\",\"L.F.Abbott\",\"FlorisTakens\",\"KennethZeger\",\"MagnusStensmo\",\"B.V.Roy\",\"D.T.Lawrence\",\"MichaelSeibert\",\"CazhaowS.Qazaz\",\"SuguruArimoto\",\"IraG.Smotroff\",\"P.S.Bradley\",\"KnutMoller\",\"SatinderSingh\",\"HaimSompolinsky\",\"CarverMead\",\"MartinI.Sereno\",\"MakotoHirayama\",\"HerbertRoitblat\",\"RodneyDouglas\",\"YoavFreund\",\"N.Kamnanithi\",\"MartinMaechler\",\"K.Pawelzik\",\"D.Kontoravdis\",\"IgorGrebert\",\"JavierR.Movellan\",\"D.S.Tang\",\"DaviGeiger\",\"MichaelMurray\",\"DanielL.Ruderman\",\"AdamKrzyzak\",\"W.Ross\",\"A.During\",\"MartinS.Glassman\",\"BernhardScholkopf\",\"C.F.Beckmann\",\"CtuistophNeukirchen\",\"UlrichBodenhausen\",\"HiroyukiNakahara\",\"MauroBirattari\",\"M.M.Hayhoe\",\"A.H.L.West\",\"S.Makeig\",\"LyndonJ.Brown\",\"WilfriedBrauer\",\"EdwardK.Blum\",\"LanceM.Optican\",\"PaulViola\",\"ColinG.Windsor\",\"BernhardE.Boser\",\"MarcusHeld\",\"S.Pappu\",\"M.Schenkel\",\"DonghuiCai\",\"T.Maxwell\",\"ClaireLegleye\",\"ThomasDietterich\",\"GideonDror\",\"C.I.Thorbergsson\",\"JeffBilmes\",\"JamesK.Peterson\",\"DavidA.Kessler\",\"UpinderS.Bhalla\",\"JonathanL.Shapiro\",\"E.E.Fetz\",\"JosephPolifroni\",\"FangyuGao\",\"EricChang\",\"J.T.Buckingham\",\"R.AndrewMcCallum\",\"JohnEHoude\",\"LinaL.E.Massone\",\"MichiakiTaniguchi\",\"YeshwantK.Muthusamy\",\"YehudaSalu\",\"NigelDuffy\",\"TheodoreJ.Perkins\",\"ScottRickard\",\"DavidG.Stork\",\"N.Toomarian\",\"FedericoFaggin\",\"BarakPearlmutter\",\"AmnonYariv\",\"AdamN.Mamelak\",\"MichaelRossen\",\"DanielM.Kammen\",\"DanielKersten\",\"R.S.Peterson\",\"DavidBarber\",\"JohnL.Wyatt\",\"A.Blake\",\"Y.Zhao\",\"RobertA.Jacobs\",\"AndresRodriguez\",\"JillP.Mesirov\",\"TadashiShibata\",\"GaryBradshaw\",\"F.D.Garber\",\"W.FritzKruger\",\"KalanitGrillSpector\",\"RoopakShah\",\"EMoss\",\"C.A.Mead\",\"C.A.Micchelli\",\"S.Amari\",\"RalfHerbrich\",\"G.Brightwell\",\"LanceWu\",\"AlexanderJourjine\",\"Ye.I.Kovalenko\",\"IngoSchiegl\",\"RalphM.Siegel\",\"H.Schwarze\",\"C.K.I.Williams\",\"OjvindBernander\",\"D.MacKay\",\"HarrisDmcker\",\"MarkFanty\",\"DavidHelmbold\",\"KevinR.Wheeler\",\"ShinichiSakata\",\"D.Lippe\",\"B.Lemarie\",\"StephanieForrest\",\"RodolfoMilito\",\"StefanoMonti\",\"DavidE.VandenBout\",\"DavidHorn\",\"JeremyH.Holleman\",\"DimitriBertsekas\",\"NelloCristianini\",\"E.Majani\",\"Jong-HoonOh\",\"J.Makhoul\",\"C.Stevens\",\"BraceRosen\",\"Guo-ZhengSun\",\"EricI.Chang\",\"T.Flash\",\"MarwanA.Jabri\",\"LionelTarassenko\",\"AnthonyJayakumar\",\"MartinStetter\",\"MarcellaA.McClure\",\"PatLangdon\",\"Yiu-faiWong\",\"MartinHammer\",\"XuboB.Song\",\"JaneenAnderson\",\"CharlesSchley\",\"StephanPareigis\",\"MikeE.U.Smith\",\"RonenBasri\",\"JackGelfand\",\"JanVanderSpiegel\",\"TimothyW.Cacciatore\",\"MelanieMitchell\",\"MarkusSvensen\",\"MarioP.Vecchi\",\"G.Z.Sun\",\"JessicaD.Bayliss\",\"StephenGrossberg\",\"EimeiOyama\",\"EricCourchesne\",\"ShigeruTanaka\",\"LlewMason\",\"SheilaKannappan\",\"E.Domany\",\"JimDonnett\",\"PetriKoistinen\",\"J.A.Farrell\",\"G.W.Flake\",\"VicenteHonrubia\",\"H.Pan\",\"StevenA.Harp\",\"PaulSmolensky\",\"YvesGrandvalet\",\"BrunoA.Olshausen\",\"RichardCoggins\",\"SherrylTomboulian\",\"A.J.Robinson\",\"GuyJ.Brown\",\"EgonC.Pasztor\",\"HansUlrichBauer\",\"AndreLongtin\",\"MichaelHumphreys\",\"R.C.Williamson\",\"JimAustin\",\"L.K.Hansen\",\"P.R.Montague\",\"K.Y.Goldberg\",\"R.D.Puff\",\"J.N.Tsitsiklis\",\"GlennMarion\",\"E.Niebur\",\"JakobBernasconi\",\"RonaldL.Rivest\",\"AxelCleeremans\",\"MarcLoinaz\",\"MichaelR.Berthold\",\"LouiseOsterholtz\",\"B.G.Home\",\"DanaH.Ballard\",\"B.Flower\",\"KongKritayakirana\",\"LeiXu\",\"JohnB.Hampshire\",\"GaryW.Flake\",\"ManfredOpper\",\"ShiroIkeda\",\"JofioF.G.de-Freitas\",\"K.Doya\",\"IsaacMeilijson\",\"YingZhao\",\"Y.Abu-Mostafa\",\"PierreBand\",\"KevinJ.Moon\",\"C.L.Winter\",\"S.Rehfuss\",\"P.A.Viola\",\"SethuVijayahunar\",\"MichaelTunnon\",\"BernhardSchottky\",\"HidemitsuOgawa\",\"C.J.Wellekens\",\"RichardEhman\",\"BhaskarDasGupta\",\"YochaiKonig\",\"HillelJ.Chiel\",\"KlausR.Pawelzik\",\"BojanPetek\",\"MaheshVaranasi\",\"ThomasKailath\",\"ToniaG.Morris\",\"ThomasClare\",\"MarkE.Nelson\",\"AndrewW.Moore\",\"ThomasA.Busey\",\"CharlesFefferman\",\"SmartGeman\",\"JuergenSchmidhuber\",\"EricVatikiotis-Bateson\",\"M.Dikaiakos\",\"ManeeshSahani\",\"EytanRuppin\",\"EdwardW.Page\",\"DavidHandelman\",\"DarrenMutz\",\"R.Caruana\",\"TonyJ.Prescott\",\"MauriceMilgram\",\"DavidTerman\",\"M.Mahowald\",\"RistoMiikkulainen\",\"UrsA.Muller\",\"MarianS.Bartlett\",\"A.Ferguson\",\"HananDavidowitz\",\"DoinaPrecup\",\"MitsuoKawato\",\"S.Boes\",\"SamuelP.M.Choi\",\"GeoffreyE.Hinton\",\"JoaoF.G.de-Freitas\",\"AvrimBlum\",\"HarveyKasdan\",\"BarbaraRosario\",\"K.JarrodMillman\",\"JamesM.Coughlan\",\"MishaMahowald\",\"YuzuruSato\",\"DavidA.Robinson\",\"E.Erwin\",\"JunZhang\",\"JohnMakhoul\",\"ManuelSamuelides\",\"O.Miller\",\"SamT.Roweis\",\"VirginiaL.Stonick\",\"SayanMukherjee\",\"A.HarryKlopf\",\"JohnLoch\",\"A.A.Handzel\",\"NikosLogothetis\",\"M.W.Craven\",\"BerndFritzke\",\"MatthiasBurger\",\"Hui-H.Hsu\",\"WulframGerstner\",\"P.Dayan\",\"DaleSchuurmans\",\"A.D.Rexlish\",\"CorinnaCortes\",\"MaxGarzon\",\"PaulS.Haynes\",\"GregoryM.Saunders\",\"AjayN.Jain\",\"Y.Bengio\",\"JenniferLund\",\"P.Kaye\",\"CatherineE.Myers\",\"RamaChellappa\",\"P.Campbell\",\"MartinRiedmiller\",\"Hwang-SooLee\",\"SreerupaDas\",\"GennadyS.Cymbalyuk\",\"KlausSchulten\",\"ClaytonMcMillan\",\"S.M.Rueget\",\"HynekHermansky\",\"JamesA.Ritcey\",\"M.Deweese\",\"TalGrossman\",\"A.Sergejew\",\"KiyoshiHonda\",\"NelsonMorgan\",\"WilliamT.Freeman\",\"DeirdreWheeler\",\"Yu-MingChiang\",\"JohnKennedy\",\"MichaelKearns\",\"D.D.Lee\",\"JeromeConnor\",\"MoiseH.Goldstein\",\"Rudolphvan-der-Merwe\",\"Il-SongHan\",\"MichaelE.Hasselmo\",\"H.P.Graf\",\"EdwardReitman\",\"GeneBoe\",\"DavidMarson\",\"JanetMetcalfe\",\"JosefSkrzypek\",\"TimothyK.Horiuchi\",\"MartinLades\",\"NobuoSuematsu\",\"KenHsu\",\"BradleyC.Love\",\"StevenNowlan\",\"VwaniRoychowdhury\",\"ShumeetBaluja\",\"MartinStemmler\",\"G.Hinton\",\"HilaryTunley\",\"KhalidChoukri\",\"JamesGoodwin\",\"RonaldParr\",\"KlausPawelzik\",\"JamesM.Bower\",\"HalinaAbramowicz\",\"ToddS.Braver\",\"AlanJ.Harget\",\"M.Revow\",\"MarkSaffman\",\"DemetriTerzopoulos\",\"H.Tolle\",\"BehnaamAazhang\",\"GriffBilbro\",\"ShimonEdelman\",\"YoramSinger\",\"OlivierBernier\",\"MarkOllila\",\"AlanH.Barr\",\"S.E.Hihi\",\"SebastianThmn\",\"RenatoVicente\",\"DavidA.Cohn\",\"StefanD.Wilke\",\"AndreasStafylopatis\",\"FrancescoVivarelli\",\"FernandoJ.Pineda\",\"DavidJ.Miller\",\"LucasParra\",\"YishayMansour\",\"LeonPersonnaz\",\"AliA.Minai\",\"OdedMaron\",\"AntonioTuriel\",\"KevinJ.Lang\",\"DavidTam\",\"Robde-Ruyter-van-Steveninck\",\"AndreasStolcke\",\"KlausObermayer\",\"JeffreyR.LaFranchise\",\"H.A.Rowley\",\"JonTombs\",\"S.SathiyaKeerthi\",\"BradleyW.Dickinson\",\"HowardHenry\",\"S.M.Omohundro\",\"ErnstNiebur\",\"JohnS.Denker\",\"SteveRenals\",\"ChristianeLinster\",\"AlexWaibel\",\"DiegoSona\",\"SongLi\",\"DavidBlackman\",\"JosephSirosh\",\"MarkSitton\",\"ReimarHolmann\",\"LorienY.Pratt\",\"JasonWeston\",\"DaleK.Lee\",\"HoracioFranco\",\"D.H.Ballard\",\"G.T.Kenyon\",\"NirLevy\",\"G.Towell\",\"TanPhan\",\"HidekiNoda\",\"A.Hartstein\",\"C.Koch\",\"JamesA.Reggia\",\"Ch.Tietz\",\"JonathanBaxter\",\"D.Henderson\",\"MatthewM.Williamson\",\"StephenPickard\",\"ThomasKepler\",\"SumioWatanabe\",\"EladSchneidman\",\"JochenBraun\",\"AoZee\",\"KoSakai\",\"Jyh-MingKuo\",\"PhilippeO.Pouliquen\",\"LaurensR.Leerink\",\"M.Kearns\",\"AlanMurray\",\"RichardH.Lathrop\",\"MitsuoKomura\",\"LiqingZhang\",\"StephenJ.Hanson\",\"GustavoDeco\",\"RichardWolniewicz\",\"SatinderP.Singh\",\"UryNaftaly\",\"MichaelS.Gray\",\"MarleneBehrmann\",\"E.Pasero\",\"JohannesFeulner\",\"PaulBeckman\",\"OlivierChapelle\",\"ScottE.Fahlman\",\"EricD.Young\",\"NicholasD.Socci\",\"MichielNoordewier\",\"DavidZipser\",\"JeremyFrank\",\"EdmundT.Rolls\",\"RichardS.Sutton\",\"JonathanQ.Li\",\"AntonSchwartz\",\"DavidNix\",\"N.Morgan\",\"GeoffreyJ.Goodhill\",\"AlbertoBertoni\",\"HideoKosaka\",\"EdwinR.Hancock\",\"AlexanderLinden\",\"SatoruShiono\",\"JoshuaAlspector\",\"AlanEMurray\",\"M.Jabri\",\"AmirF.Atiya\",\"JaredLeinbach\",\"A.M.Annaswamy\",\"OliverB.Downs\",\"JoachimBuhmann\",\"JamesP.Callan\",\"AndreasWeigend\",\"TaiSingLee\",\"ParthaNiyogi\",\"PhilKohn\",\"S.G.Lisberger\",\"RobertTibshitani\",\"RailKompe\",\"DidierKeymeulen\",\"JamesBeck\",\"WilhamBialek\",\"ChrisM.Bishop\",\"S.Gold\",\"S.C.Kremer\",\"ChanthalChatterjee\",\"GermanMato\",\"TrevorDarrell\",\"PatrickMoore\",\"R.T.Edwards\",\"LaurentItti\",\"RodneyM.Goodman\",\"StellaX.Yu\",\"SiWu\",\"M.H.Goldstein\",\"JensKohlmorgen\",\"RichardC.Wilson\",\"MatthewSaffell\",\"AnnaMorpurgo\",\"ZehraCataltepe\",\"StephenJoseHanson\",\"YaserS.Abu-Mostafa\",\"MarwanJabd\",\"M.AnthonyLewis\",\"StevenJ.Bradtke\",\"ShanParfitt\",\"D.Hammerstrom\",\"MirtaB.Gordon\",\"DavidA.Nix\",\"PeterN.Prokopowicz\",\"KimmoKiviluoto\",\"S.Liu\",\"BernardVictorri\",\"MattiHamalainen\",\"PietroPerona\",\"CarverA.Mead\",\"JamesL.McClelland\",\"W.Bair\",\"MishaPavel\",\"J.W.Howse\",\"GfintherPalm\",\"Chien-PingLu\",\"R.M.Peterson\",\"H.A.K.Mastebroek\",\"GeorgBrabant\",\"J.Kivinen\",\"VolkerRoth\",\"StephenP.DeWeerth\",\"FerdinandoMussa-lvaldi\",\"MichaelSchmitt\",\"MarcelloPelillo\",\"W.ZevRymer\",\"C.Nohl\",\"M.Kadirkamanathan\",\"TommiS.Jaakkola\",\"JohnPlatt\",\"A.K.Krishnamurthy\",\"JohnBaras\",\"VaskenBohossian\",\"WilliamB.Levy\",\"SebastianThrun\",\"MikeWynne-Jones\",\"YoshuaBengio\",\"RonKeesing\",\"MichaelHasselmo\",\"RodneyCotterill\",\"YvesBurnod\",\"R.Sitaramen\",\"PhillipAlvelda\",\"TroelsKjaer\",\"ZacharyMainen\",\"DavidE.Rumelhart\",\"EricMjolsness\",\"J.L.vanHemmen\",\"ChristianLebiere\",\"GiovanniFlammia\",\"J.Tani\",\"R.S.Sutton\",\"MassimoSivilotti\",\"G.BjornChristianson\",\"J.J.Hopfield\",\"HiroakiGomi\",\"AdamJ.Grove\",\"NadaE.Matic\",\"JesperVedelsby\",\"B.DasGupta\",\"H.U.Bauer\",\"G.L.Martin\",\"PhilippHiffiiger\",\"MartineNaillon\",\"Jean-FranqoisVibert\",\"SatoshiYamaria\",\"CarlaJ.Shatz\",\"EilonVaadia\",\"ShamKakade\",\"AdamKowalczyk\",\"MalikMagdon-Ismail\",\"ChristopherJ.C.Burges\",\"OliverMihatsch\",\"NoamSlonim\",\"V.P.Roychowdhury\",\"R.M.Westervelt\",\"M.Isard\",\"MaryE.T.Boyle\",\"J.Lazzaro\",\"SimonJ.Thorpe\",\"RobertSchapire\",\"AndersKrogh\",\"K.J.Cherkauer\",\"OliverLandolt\",\"DanielH.Lange\",\"GeoffreyTowell\",\"W.N.Street\",\"N.Fukumura\",\"TrevorMundel\",\"ShaulHochstein\",\"PanayiotaPoirazi\",\"J.A.Coelho\",\"X.Wang\",\"Th.Sudbrak\",\"XavierGiannakopoulos\",\"UriRokni\",\"HeikoNeumann\",\"V.Sundareswaran\",\"RyojiSuzuki\",\"ToshiteruHomma\",\"YasuharuKioke\",\"AlexT.Nelson\",\"AndreasS.Weigend\",\"K.Obermayer\",\"SherifBotros\",\"M.Herbster\",\"TonWeijters\",\"RainerGoebel\",\"RobertSnapp\",\"HermanVerrelst\",\"DavidB.Kirk\",\"JosephSill\",\"TomBrashers-Krug\",\"JosefZihl\",\"C.Darken\",\"MichaelMckenna\",\"JamesJ.Knierim\",\"ItayGat\",\"StuartMackie\",\"ChulanKwon\",\"RichardS.Zemel\",\"KechenZhang\",\"DanielNissman\",\"AlirezaKhotanzad\",\"DanaZ.Anderson\",\"J.C.Pearson\",\"JohnS.Bridle\",\"JeffG.Schneider\",\"BrendaJ.Claiborne\",\"RichardC.Windecker\",\"JohnW.Miller\",\"T.Petsehe\",\"MichaelO.Duff\",\"EyalYair\",\"ZoeF.Butler\",\"JoosVandewalle\",\"PeterKazlas\",\"YoshiroMiyata\",\"HuguesBersini\",\"R.DouglasMartin\",\"JohnKruschke\",\"JayAlexander\",\"SuzannaBecker\",\"WilliamFinnoff\",\"JashojibanBanik\",\"StefanKnerr\",\"JamesR.Cavanaugh\",\"W.E.Blanz\",\"MarkA.Rubin\",\"Ming-TakLeung\",\"FouadBadran\",\"DiegoGiuliani\",\"ChdstofKoch\",\"AlisterHamilton\",\"O.I.Tsioutsias\",\"KennethMarko\",\"HermannHild\",\"EricS.Reifsnider\",\"T.Downs\",\"MassoudOmidvar\",\"NathanH.Brown\",\"JavierMovellan\",\"ZoubinGhahramani\",\"RogerCheng\",\"KazuhikoYokosawa\",\"TimSmithers\",\"JinLuo\",\"A.Jagota\",\"D.Geiger\",\"T.Jung\",\"ScottFahlman\",\"MarissaWesterfield\",\"AnthonyBell\",\"RitaVenturini\",\"H.L.Ferra\",\"PaulDean\",\"HyoungsooYoon\",\"TomOhira\",\"R.J.Wang\",\"MattMelton\",\"FernandoLozano\",\"DanielD.Lee\",\"JohnS.Pezaris\",\"JackL.Gallant\",\"TomilsLozano-Perez\",\"FriedrichLeisch\",\"G.J.Zelinsky\",\"JoachimUtans\",\"F.Gingras\",\"MarkGluck\",\"H.S.Seung\",\"RyoheiNakano\",\"Benjaminvan-Roy\",\"JoachimM.Buhmann\",\"W.HarmonRay\",\"AthanasiosG.Tsirukis\",\"J.D.Cowan\",\"T.Darrell\",\"A.NellBurgess\",\"StefanManke\",\"Ying-WungLee\",\"StephenPiche\",\"RichardP.Lippmann\",\"RyotaroKamimura\",\"J.Szymanski\",\"IlSongHan\",\"EalanA.Henis\",\"M.Pavel\",\"W.Hubbard\",\"ManfredK.Warmuth\",\"DavidWillshaw\",\"ChristopherM.Bishop\",\"SamRoweis\",\"P.Anandan\",\"ThomasG.Edwards\",\"BarnbangParmanto\",\"DougReeves\",\"RonnyMeir\",\"M.S.Bartlett\",\"Y.C.Lee\",\"S.Hadjffaradji\",\"YechezkelYeshurun\",\"PaulMunro\",\"GianlucaDonato\",\"StephenG.Lisberger\",\"WilliamY.Huang\",\"EduardoD.Sontag\",\"EtienneBarnard\",\"S.L.McCabe\",\"MarkPlutowski\",\"JacobErel\",\"JohnC.Pearson\",\"JohnY.Cheung\",\"XinWang\",\"ToddSoukup\",\"NicolSchraudolph\",\"P.Ekman\",\"FriedrichLeiseh\",\"VitalyMaiorov\",\"J.Shawe-Taylor\",\"XuboSong\",\"MarianStewartBartlett\",\"CharlesStein\",\"NikzadToomarian\",\"PeterL.Bartlett\",\"VladimirVapnik\",\"D.Shemngton\",\"BarryJ.Richmond\",\"ShigemTanaka\",\"GeoffreyFox\",\"W.Gerstner\",\"Meng-JangLin\",\"ArmandoManduca\",\"C.J.Heckman\",\"MartinRoscheisen\",\"M.Niranjan\",\"IanParberry\",\"KukjinKang\",\"DouglasR.Martin\",\"AkiraHayashi\",\"RichardT.J.Bostock\",\"ShaiFine\",\"ErkkiOja\",\"VanH.Vu\",\"V.Kadirkamanathan\",\"YasuhiroWada\",\"IdoKanter\",\"B.Parmanto\",\"HalbertWhite\",\"A.W.Moore\",\"AndrzejCichocki\",\"SvilenTzonev\",\"SatoshiYamada\",\"MonikaWoszczyna\",\"KwabenaA.Boahen\",\"LynneKiorpes\",\"YvesMoteau\",\"AnsgarH.L.West\",\"HarrisDrucker\",\"StephenLane\",\"CharlesW.Anderson\",\"PingZhou\",\"ShimonUllman\",\"TobiDelbruck\",\"T.Furukawa\",\"GeoffreyGoodhill\",\"StephaneCanu\",\"KristinBennett\",\"ThomasBrown\",\"ManoelF.Tenorio\",\"A.Jayakumar\",\"MichioNakashima\",\"MarwanJabri\",\"TadahiroOhmi\",\"G.T.Buracas\",\"LouisCeci\",\"EricSaund\",\"R.Dodier\",\"A.B.Kirillov\",\"RolfEckmiller\",\"HolgerSchoner\",\"JohnHershey\",\"MichelKerszberg\",\"JoshuaB.Tenenbaum\",\"DavidRumelhart\",\"Hsing-HenChen\",\"RaymondJ.W.Wang\",\"B.Kingsbury\",\"K.Fukumizu\",\"PeterF.Rowat\",\"PeterRappelsberger\",\"VeikkoJousmaki\",\"HowardH.Yang\",\"L.Personnaz\",\"Ting-ChuenPong\",\"C.B.Miller\",\"WolfgangMaass\",\"Ken-ichiIso\",\"AndrewGee\",\"J.Hertz\",\"WilliamW.Streilein\",\"ClaudineMasson\",\"DavidCohn\",\"DavidForsyth\",\"GezaGyorgyi\",\"SteveMims\",\"AbirZahalka\",\"JustinianRosca\",\"K.Boahen\",\"ToddTroyer\",\"C.M.Marcus\",\"YuzoHirai\",\"GalChechik\",\"TimHunkapiller\",\"L.Bottou\",\"M.Wattenberg\",\"I.Pal\",\"J.B.Tenenbaum\",\"AlexandrePouget\",\"EmadN.Eskandar\",\"SteveGyger\",\"A.Krogh\",\"NikhilBhushan\",\"DaphneKoller\",\"NestorParga\",\"EeroP.Simoncelli\",\"GaryG.Blasdel\",\"Klaus-R.Muller\",\"MichaelKocheisen\",\"R.D.Beer\",\"YoshioTakane\",\"SmartRussell\",\"MatsOsterberg\",\"AmirAtiya\",\"FabioSolari\",\"AldraWatanabe\",\"T.Lin\",\"HarryPrintz\",\"DonaldJ.Baxter\",\"P.Tino\",\"BruceL.McNaughton\",\"ViktorGruev\",\"YoshihiroMori\",\"GeorgSchnitger\",\"SylvieRyckebusch\",\"HiroshiAndo\",\"S.R.H.Joseph\",\"NicholasR.Howe\",\"RichardLadnet\",\"SteffenPetersen\",\"GenevieveB.Orr\",\"P.Stone\",\"JohnPerry\",\"CsabaSzepesvfixi\",\"P.ReadMontague\",\"FabrizioGabbiani\",\"HelenePaugam-Moisy\",\"SebastianMika\",\"MichaelJ.Berry\",\"B.Scholkopf\",\"PeterAdorjan\",\"FernandoJ.Nunez\",\"PaoloFrasconi\",\"EdmondoTrentin\",\"OttoSchmidbauer\",\"JohnG.Milton\",\"JohnD.Uhley\",\"I.Jouny\",\"S.Wiseman\",\"TonyA.Plate\",\"AlexJ.Smola\",\"BarakA.Pearlmutter\",\"CurtisPadgett\",\"PoHsiangChu\",\"P.N.Sabes\",\"RonaldH.Silverman\",\"RichardKempter\",\"EtanJ.Markus\",\"TakahiroWatanabe\",\"KaganTurner\",\"D.J.Willshaw\",\"MarkusMeister\",\"PaulChristy\",\"AlexanderMoopenn\",\"HumbertSuarez\",\"SorenBrunak\",\"AndrewH.Gee\",\"JamesWaskiewicz\",\"DavidChapman\",\"F.Botelho\",\"JoseAmbros-Ingerson\",\"PrahladGupta\",\"R.Kaihara\",\"BenS.Wittner\",\"E.Ersu\",\"IrisGinzburg\",\"R.A.Grupen\",\"R.Tibshirani\",\"O.L.Mangasarian\",\"UsamaFayyad\",\"HolgerSchwenk\",\"MichaelGasser\",\"S.Sahar\",\"Andrevan-Schaik\",\"QingnanLi\",\"HorstBischof\",\"R.E.Howard\",\"NaomiTakahashi\",\"PenttiKanerva\",\"TorstenZeppenfeld\",\"JorgKindermann\",\"JeanneC.Milostan\",\"H.H.Chen\",\"V.I.Kryukov\",\"MarkRing\",\"A.Drees\",\"H.Ozaki\",\"SachaB.Nelson\",\"T.Mitchell\",\"M.Finke\",\"NunoVasconcelos\",\"YoshiyukiKabashima\",\"ScottMarkel\",\"AlanL.Yuille\",\"GadiPinkas\",\"HangLi\",\"ToshiakiOkamoto\",\"BrendaClaiborne\",\"BillHorne\",\"J.AllanHobson\",\"WilliamW.Cohen\",\"GeoffreyOrsak\",\"MasazumiKatayama\",\"YasuhamKoike\",\"S.Haghighi\",\"AlexanderDimitrov\",\"T.Kailath\",\"M.Konishi\",\"JosephB.Keller\",\"RalphWolf\",\"AlanF.Murray\",\"AmitManwani\",\"SanjayBiswas\",\"TerenceSanger\",\"VanHenkle\",\"PedroGuedesde-Oliveira\",\"PeterN.Steinmetz\",\"Yee-WhyeTeh\",\"StephanLuna\",\"J.LeovanHemmen\",\"MinoruAsogawa\",\"PeterTifio\",\"MalcolmSlaney\",\"L.S.Smith\",\"TakeoYamashita\",\"C.L.Fry\",\"AlanD.Blair\",\"A.J.Bell\",\"YoramGdalyahu\",\"S.Thrun\",\"MaximilianRiesenhuber\",\"RafaelMalach\",\"P.Leong\",\"JitendraMalik\",\"FernandoPineda\",\"Y.Matsuoka\",\"LeonidKruglyak\",\"MitchellGilMaltenfort\",\"EyalCohen\",\"SteveCttien\",\"RichardJ.Mammone\",\"R.S.Hubbard\",\"HilbertJ.Kappen\",\"KamilA.Grajski\",\"VolkerTresp\",\"RichardO.Duda\",\"ThomasPetsche\",\"TomN.Todd\",\"KeChen\",\"XiaohuiXie\",\"V.I.Makarenko\",\"ChristopherG.Atkeson\",\"RobertJ.Marks\",\"JohnN.Tsitsiklis\",\"TomJ.Richardson\",\"AlanBarr\",\"WeeSunLee\",\"YeshwantMuthusamy\",\"MauriceLee\",\"A.vanSchaik\",\"SebastianB.Thrun\",\"MichaelJ.Carter\",\"JamesHutchinson\",\"JohnE.Hogden\",\"OferMatan\",\"GarrisonCottrell\",\"Y.Xie\",\"MichaelG.Paulin\",\"T.Sabisch.\",\"BahramNabet\",\"Tzu-puHsieh\",\"DeanBrettle\",\"PeterSollich\",\"R.Gourley\",\"KennethY.Tsai\",\"RalfWessel\",\"PekkaOrponen\",\"PeterSykacek\",\"MarcH.Cohen\",\"MasayukiMiyamoto\",\"DavidW.Jacobs\",\"RobertJ.Adler\",\"TobiasMann\",\"AapoHyvarinen\",\"AlessandroSperduti\",\"XavierBoyen\",\"HowardKaushansky\",\"F.R.Waugh\",\"EugeneSantos\",\"W.H.Zaagman\",\"JacobBarhen\",\"PaulM.Chau\",\"T.Delbruck\",\"VwaniP.Roychowdhury\",\"StevenE.Golowich\",\"MarcusHennecke\",\"HarelShouval\",\"ShawnR.Lockery\",\"CarlE.Rasmussen\",\"JustinBoyan\",\"StephenHanson\",\"ToddK.Leen\",\"SaraSolla\",\"C.D.Spence\",\"M.Meila\",\"LuckyVidmar\",\"ChristopherJ.Merz\",\"MatthewN.Dailey\",\"ArthurMcNair\",\"TakaoWatanabe\",\"CraigR.Nohl\",\"SteveWaterhouse\",\"H.Ritter\",\"ScrenHalkjaer\",\"P.K.Ko\",\"StephenA.Fisher\",\"TomasLozano-Perez\",\"RicardoA.MarquesPereira\",\"EvanSteeg\",\"A.Marcantonio\",\"T.Jaakkola\",\"AkitoSakurai\",\"EinarSorheim\",\"E.Fragniere\",\"A.C.Tsoi\",\"R.Schwartz\",\"ToshioInui\",\"M.Cekic\",\"MarkKvale\",\"S.Finch\",\"BradleyA.Minch\",\"JaapC.Schouten\",\"D.Yeung\",\"StephenChurcher\",\"SheldonGilbert\",\"NicholasS.Flann\",\"StevenBradtke\",\"CharlesM.Higgins\",\"BillG.Horne\",\"MarkDerthick\",\"JoumanaGhosn\",\"RaviK.Sharma\",\"RichardRohwer\",\"T.J.Sejnowski\",\"VladimirCherkassky\",\"MohamedEl-Sharkawi\",\"ChristofSchofl\",\"JaneBromley\",\"HansGeorgZimmermann\",\"VijaySamalam\",\"BruceE.Rosen\",\"W.R.Softky\",\"R.TimothyEdwards\",\"ParryHusbands\",\"MichaelC.Mozer\",\"MenasheDornay\",\"PatrikHoyer\",\"TiloSloboda\",\"Jenq-NengHwang\",\"AllenI.Selverston\",\"D.Ormoneit\",\"TrevorJ.Darrell\",\"E.Vittoz\",\"MicahS.Siegel\",\"LucasC.Parra\",\"NeilLawrence\",\"XiruZhang\",\"EmmanuelGuigon\",\"JohnShawe-Taylor\",\"NirFriedman\",\"BenNorth\",\"SayandevMukherjee\",\"W.Owen\",\"DanielWillett\",\"MichaelE.Tipping\",\"AnenGersho\",\"DorothyA.Mighell\",\"C.W.Thrasher\",\"TimA.Hely\",\"CristophBregler\",\"MichaelBurl\",\"MagnusRattray\",\"GunnarRatsch\",\"JonathanBachrach\",\"W.Miller\",\"HemantS.Kudrimoti\",\"RichCamana\",\"SilvioP.Sabatini\",\"WilliamE.Vinje\",\"LarsKaiHansen\",\"J.W.Shavlik\",\"V.Vapnik\",\"EricCosatto\",\"SantoshVenkatesh\",\"Chan-doLee\",\"MichaelIsard\",\"JoydeepGhosh\",\"Hi.Chiel\",\"GeneGindi\",\"JohnLazzaro\",\"KaroJim\",\"DavidH.Ackley\",\"S.Schaal\",\"T.Morimoto\",\"DavidLowe\",\"ThiloT.Frieg\",\"SatoshiSuzuki\",\"EdwinLewis\",\"L.Q.Zhang\",\"ThomasP.Vogl\",\"JayDiamond\",\"YanFang\",\"B.A.Golomb\",\"LaurensLeerink\",\"DirkOrmoneit\",\"TamilsLinder\",\"DarrellLaham\",\"D.Sherrington\",\"MasashiSugiyama\",\"JuanK.Lin\",\"Mohammed-AbdelGhani\",\"DonaldB.Malkoff\",\"TadHogg\",\"A.Orlitsky\",\"JeanRaysz\",\"JoelBert\",\"YuHe\",\"Soo-YoungLee\",\"J.Sirosh\",\"Klaus-RobertMilllet\",\"StefanSchaal\",\"JamesA.Pittman\",\"StephenCox\",\"MichaelHormel\",\"RichardLippmann\",\"LizhongWu\",\"VictorAbrash\",\"RadfordM.Neal\",\"P.L.Bartlett\",\"WyethBair\",\"DeanPomerleau\",\"T.Geisel\",\"EricFragniere\",\"BrianV.Bonnlander\",\"ChristopheK.I.Williams\",\"LynetteHirschman\",\"HerveBourlard\",\"R.Zecchina\",\"RembrandtBakker\",\"JamesKeeler\",\"DanielKammen\",\"GaleL.Martin\",\"AvijitSaha\",\"HavaT.Siegelmann\",\"ShellyGoggin\",\"DominikHornel\",\"F.Ohl\",\"AntonGunzinger\",\"A.R.Bulsara\",\"ZhiyongYang\",\"XiwuLin\",\"ScottKirkpatrick\",\"MarioMarchand\",\"CharlesM.Marcus\",\"JuliaBorger\",\"MichaelP.Perrone\",\"SheriL.Gish\",\"ClaySpence\",\"MichaelPhillips\",\"PaulRodriguez\",\"G.Cauwenberghs\",\"ChuckWooters\",\"AndrewHsu\",\"Wee-KhengLeow\",\"AnthonyM.Zador\",\"VictorZue\",\"V.Bohossian\",\"JosefZeitlhofer\",\"I.Guyon\",\"M.Veloso\",\"KristinaJohnson\",\"DougJohnson\",\"T.Xu\",\"AnthonyJ.R.Heading\",\"CharlesL.Isbell\",\"MarcusFrean\",\"ShlomoZilberstein\",\"JoshuaChover\",\"AndreJ.Noest\",\"YuansongLiao\",\"Klaus-RobertMuller\",\"T.Hastie\",\"BrianSallans\",\"R.K.Alley\",\"S.N.Laughton\",\"BernardoA.Huberman\",\"T.Serrano-Gotarredona\",\"AnthonyV.W.Smith\",\"JamesA.Simmons\",\"DeirdreW.Wheeler\",\"T.Ohmi\",\"RonL.Rivest\",\"Guo-ZhenSun\",\"Y.Konig\",\"RodneyGoodman\",\"W.E.Sullivan\",\"MichaelG.Dyer\",\"M.Garzon\",\"RolfD.Henkel\",\"VictorW.Zue\",\"A.P.Thakoor\",\"BertramE.Shi\",\"OleWinther\",\"HasanS.Uyar\",\"Tzyy-PingJung\",\"Jung-WookCho\",\"AndrewBack\",\"WilliamP.Lincoln\",\"ToddLeen\",\"SrinageshSatyanarayana\",\"W.R.Gardner\",\"AlexanderGrunewald\",\"G.G.Blasdel\",\"EricVittoz\",\"BillBaird\",\"RajeshP.N.Rao\",\"DimitrisMargaritis\",\"JohnDenker\",\"ArlindoL.Oliveira\",\"AssafJ.Zeevi\",\"R.Meir\",\"JOrgBmske\",\"K.Schulten\",\"MichaelS.Lewicki\",\"MartinJ.Johnson\",\"AapoHyvarrinen\",\"LeemonC.Baird\",\"MarvinLuttges\",\"A.Sato\",\"Ming-HsuanYang\",\"CorM.van-den-Bleek\",\"MichelCrepon\",\"CatherineStevens\",\"M.Blatt\",\"FrancisQuek\",\"RobertC.Eaton\",\"StevenGold\",\"MarkA.Gluck\",\"D.M.Titterington\",\"DavidSaad\",\"SophieDeneve\",\"StephenOmohundro\",\"ZeevOlami\",\"C.E.Schreiner\",\"ChristopheAndrieu\",\"NiallMcLoughlin\",\"NeilBurgess\",\"RebeccaCastafio\",\"SaraA.Solla\",\"Jean-PierreNadal\",\"J.JeffreyMahoney\",\"NicholasRoy\",\"StephenM.Omohundro\",\"DanielL.Alkon\",\"MichaelL.Littman\",\"KariTorkkola\",\"ThomasHofmann\",\"RajeshRao\",\"LeonS.Sterling\",\"PaoloGaudiano\",\"Wan-PingChiang\",\"KunihikoIizuka\",\"CharlesRosenberg\",\"KurtR.Smith\",\"WimWiegerinck\",\"Marc-OlivierCoppens\",\"J.Wawrzynek\",\"M.Marchand\",\"UweHelmke\"],\"author_sizes\":[1,7,1,1,1,1,1,1,1,1,1,6,1,4,1,2,1,1,1,1,1,1,3,2,1,6,2,1,2,1,2,1,1,1,2,1,4,1,3,1,1,1,1,1,2,2,2,2,1,1,1,1,1,3,1,1,1,1,1,3,7,1,1,1,1,7,1,1,6,1,2,1,1,1,1,1,1,1,10,1,1,1,1,2,1,3,1,1,1,1,1,2,3,1,1,1,1,1,1,4,1,1,3,1,1,3,1,2,1,2,1,1,1,2,1,2,1,1,4,1,2,1,1,24,2,1,1,1,1,1,1,1,1,1,1,2,5,2,1,1,1,1,1,3,1,1,1,1,1,2,1,1,1,1,2,4,1,2,1,1,1,1,2,1,1,1,1,1,1,1,1,1,1,1,3,1,1,1,1,1,1,1,2,6,1,1,1,2,1,1,1,3,2,2,1,2,1,2,8,1,1,1,2,1,1,1,1,2,1,1,2,2,1,1,5,1,1,1,2,9,1,1,2,1,6,1,1,1,1,2,1,6,1,1,1,1,2,2,2,1,1,2,2,1,1,1,1,1,1,1,2,3,1,1,1,1,16,1,2,1,1,1,1,1,1,1,1,1,2,1,1,1,1,1,1,3,2,11,5,2,1,4,1,3,1,1,1,2,1,3,3,3,1,1,1,2,5,5,2,1,1,2,1,2,1,1,1,1,1,1,2,1,1,1,2,1,1,1,1,1,1,1,1,1,1,1,1,2,1,8,1,1,1,1,1,1,2,1,2,1,1,1,1,1,1,3,2,4,1,1,1,1,1,3,1,3,1,1,4,1,1,1,2,1,1,1,1,1,1,1,1,3,1,1,1,6,9,1,1,1,1,2,1,4,1,1,1,3,4,2,5,1,1,1,1,1,1,1,1,1,2,5,7,1,1,1,1,1,1,1,1,1,3,2,1,1,1,1,3,2,1,1,1,1,2,1,4,1,1,1,1,1,2,1,1,1,1,1,3,2,1,1,1,3,1,1,1,2,4,1,1,1,1,1,1,1,1,1,2,1,4,1,1,1,1,1,1,1,2,1,1,3,1,1,1,1,1,1,1,1,1,2,1,1,1,1,2,1,1,1,1,2,1,1,1,4,1,1,1,3,2,1,2,1,1,1,1,2,1,1,1,1,2,1,2,2,1,1,2,1,1,1,1,1,1,1,1,1,1,2,1,1,1,4,1,1,2,3,1,1,1,1,1,1,1,1,1,1,1,1,1,1,1,2,1,1,1,3,1,1,1,1,1,2,3,1,1,1,1,1,1,1,1,1,1,2,4,1,1,1,2,2,1,1,1,1,1,1,1,6,1,3,1,1,1,2,1,2,2,3,1,2,1,1,1,1,1,1,1,2,1,2,1,1,1,1,1,6,3,1,1,1,1,1,1,4,1,1,1,2,3,1,1,2,1,2,2,1,1,6,1,2,1,1,2,1,1,4,6,1,1,1,1,2,3,1,1,1,3,2,1,1,3,2,1,1,1,1,1,1,1,1,1,1,1,1,1,1,1,1,1,1,2,2,1,1,1,2,3,1,1,1,1,1,1,1,1,1,1,1,1,1,2,2,1,2,1,3,1,1,1,1,2,1,1,1,1,1,1,1,1,1,2,1,1,1,1,1,1,1,2,1,3,1,1,1,1,1,2,1,9,1,1,1,1,1,1,1,1,2,1,1,1,2,1,4,1,1,1,1,1,1,1,1,1,1,1,1,1,1,2,1,1,1,1,1,1,1,1,1,1,1,2,1,1,2,1,2,2,1,10,1,1,1,1,1,1,3,2,1,3,1,1,2,1,1,1,2,1,1,1,3,1,1,1,1,1,1,1,1,2,1,1,1,2,1,1,1,1,2,1,3,2,1,1,1,1,2,1,1,2,1,1,1,1,1,2,2,5,1,3,1,1,1,1,5,1,1,1,3,1,2,3,1,2,1,1,1,1,1,2,2,1,1,1,1,1,1,1,21,1,1,5,6,1,1,1,2,4,1,1,1,1,1,1,1,1,1,1,1,2,1,1,1,1,1,1,31,1,1,1,1,1,2,3,3,1,1,1,1,1,2,1,1,1,1,1,1,1,1,7,1,3,1,2,1,2,1,1,1,1,8,2,1,1,1,1,1,1,1,4,1,1,1,1,1,1,1,1,1,1,6,5,1,1,1,1,1,1,1,2,2,1,1,1,3,1,1,1,1,2,2,1,1,1,1,1,1,3,1,2,1,1,1,1,1,1,2,1,1,8,1,1,5,2,1,1,1,1,7,1,1,1,1,1,1,2,1,1,1,1,1,1,1,3,1,1,1,1,3,6,1,1,2,1,1,2,5,1,1,1,1,1,1,1,1,1,1,3,1,1,1,1,1,1,1,1,1,1,1,4,3,1,3,1,1,1,1,2,6,1,1,1,3,1,1,1,1,1,1,1,2,1,1,1,1,1,1,2,1,1,1,1,3,1,1,1,4,1,1,1,1,1,1,1,1,1,1,1,1,1,1,1,1,1,1,3,1,2,1,1,1,1,2,1,2,1,1,1,1,1,1,1,1,1,1,1,1,1,1,2,1,1,3,4,1,1,2,1,1,2,1,1,1,1,2,10,3,3,1,3,1,2,2,1,1,1,1,1,5,2,3,1,4,2,1,1,1,9,1,1,1,2,1,1,1,2,1,1,1,1,2,1,2,3,1,1,1,1,1,1,1,1,1,1,1,1,1,1,1,1,2,1,1,1,1,1,1,1,1,1,1,7,1,1,3,1,2,1,2,2,1,8,1,1,1,2,1,1,1,1,1,1,1,1,1,2,1,2,2,1,1,1,1,1,1,1,2,2,1,1,2,1,1,1,2,1,1,1,1,1,7,1,1,3,1,3,1,2,1,4,2,1,3,3,2,1,1,1,1,1,1,1,1,2,1,1,1,2,1,1,1,1,2,1,2,1,1,1,3,1,1,1,2,1,1,1,1,1,5,1,2,2,1,6,1,1,1,2,1,1,1,1,1,1,1,1,1,1,1,1,1,1,1,1,1,4,1,1,3,1,2,7,1,1,2,6,3,1,1,1,1,1,3,1,1,3,1,1,1,1,1,2,1,1,1,3,1,1,4,8,1,1,1,1,4,1,1,11,1,1,1,1,1,1,1,1,3,1,1,1,1,3,10,1,1,16,3,1,2,1,1,2,1,1,1,1,1,2,1,1,1,1,1,1,1,1,1,2,1,1,1,3,2,1,1,2,1,1,1,4,2,1,1,1,1,1,1,1,3,1,1,1,1,1,1,1,3,1,1,5,5,1,1,1,5,1,2,1,1,1,1,2,1,1,1,1,2,1,1,2,1,1,2,2,6,2,2,1,1,1,4,2,10,2,1,1,1,1,1,1,1,4,3,8,1,1,2,1,1,1,3,1,1,2,4,1,2,3,1,1,2,1,1,1,1,1,8,1,1,1,1,1,1,1,2,6,2,2,11,1,1,1,1,1,1,2,2,2,3,1,1,2,1,1,1,1,3,2,1,3,4,1,1,1,3,1,2,1,1,3,1,1,1,1,1,1,1,1,3,1,6,1,2,1,1,1,1,2,1,1,1,1,1,1,1,5,1,1,1,4,3,1,1,5,1,1,4,2,1,2,1,1,1,1,1,1,1,1,1,1,1,1,1,1,3,2,2,1,1,1,3,1,1,2,6,1,1,1,1,2,1,1,1,2,3,1,1,1,1,1,1,1,1,1,1,2,1,1,1,4,1,1,1,1,1,1,1,1,1,1,5,1,1,1,1,1,1,1,2,1,1,1,1,6,1,14,3,1,1,1,1,1,1,1,2,9,2,1,1,1,2,2,1,1,1,1,1,1,1,1,1,1,1,1,1,1,2,1,3,2,3,2,1,2,3,1,1,2,1,2,5,1,1,1,3,1,1,1,1,1,1,1,1,1,1,1,1,2,1,1,2,2,3,1,1,1,1,1,1,2,4,2,1,1,1,1,2,1,1,10,1,1,1,1,1,3,1,2,1,2,1,2,1,1,1,1,1,1,1,1,1,5,2,1,1,1,1,1,1,1,1,3,3,1,1,2,1,1,1,1,3,11,1,1,1,3,1,1,2,1,1,2,1,1,1,1,1,1,1,1,5,1,1,1,1,1,3,1,3,2,3,3,6,1,1,2,1,1,1,1,1,9,2,1,1,1,1,3,4,1,7,3,1,1,1,1,3,1,5,1,1,1,1,1,2,1,1,1,3,1,2,1,1,1,1,1,1,2,1,1,1,1,2,2,4,1,1,1,1,1,1,1,1,1,1,2,1,1,2,1,1,4,1,2,1,2,1,2,1,1,1,1,1,1,1,1,1,1,1,1,1,2,1,1,1,1,1,1,3,1,2,3,1,1,1,1,1,1,1,1,1,2,4,3,4,1,1,1,1,1,1,4,1,1,1,8,1,1,1,1,2,4,1,1,1,1,1,1,2,2,1,2,1,1,1,1,1,8,1,1,2,1,3,2,2,1,2,1,1,1,1,1,2,1,1,1,1,1,1,2,1,2,1,2,1,1,1,1,1,4,1,1,1,1,1,2,3,1,1,2,1,3,1,2,1,1,1,1,2,4,3,1,1,1,1,1,1,2,1,1,1,1,1,1,2,1,1,1,1,1,1,1,2,1,2,1,1,2,1,2,1,1,1,1,1,3,1,1,1,1,1,2,2,2,1,1,1,1,1,3,2,1,1,1,1,1,1,1,2,1,1,1,1,1,2,3,1,1,1,3,3,1,2,2,1,1,1,1,2,1,2,1,1,1,1,1,1,2,1,2,1,1,1,1,1,1,1,1,1,1,1,1,1,13,1,3,1,1,1,1,7,3,4,1,1,1,1,1,1,2,1,1,1,1,3,1,1,1,1,1,1,8,1,1,1,1,2,1,1,1,1,1,3,3,1,1,1,1,1,1,1,1,1,1,1,1,2,2,1,1,10,2,1,1,1,1,2,1,1,1,1,4,1,1,1,1,1,1,1,1,1,1,1,2,1,1,1,1,1,2,1,1,1,1,1,1,2,4,1,1,1,3,11,1,1,1,1,2,1,1,1,2,1,18,1,2,1,1,2,1,1,1,1,1,1,1,1,7,2,1,1,1,1,3,1,1,1,1,1,1,1,4,2,1,1,1,1,1,3,3,3,1,2,1,1,1,1,2,4,1,2,1,1,1,1,1,1,1,1,1,1,1,1,1,2,1,2,1,2,1,1,1,1,1,1,1,3,1,1,3,1,1,1,3,1,2,1,1,4,2,1,1,1,1,1,3,1,1,1,1,2,2,2,1,1,1,1,1,1,1,1,2,1,1,1,2,1,2,1,1,2,1,1,2,2,1,1,5,1,1,1,1,1,3,1,1,1,1,1,4,1,1,1,1,1,1,1,1,1,1,1,1,1,3,1,2,1,1,1,2,1,4,1,2,1,1,1,1,2,1,1,1,1,6,3,1,2,1,1,1,1,3,6,1,1,1,1,1,1,1,1,1,1,1,1,4,1,1,9,2,3,1,1,1,1,2,1,3,2,1,1,3,1,1,1,4,1,1,1,1,1,1,1,1,1,2,1,1],\"radii\":[0.1,0.7000000000000001,0.1,0.1,0.1,0.1,0.1,0.1,0.1,0.1,0.1,0.6000000000000001,0.1,0.4,0.1,0.2,0.1,0.1,0.1,0.1,0.1,0.1,0.30000000000000004,0.2,0.1,0.6000000000000001,0.2,0.1,0.2,0.1,0.2,0.1,0.1,0.1,0.2,0.1,0.4,0.1,0.30000000000000004,0.1,0.1,0.1,0.1,0.1,0.2,0.2,0.2,0.2,0.1,0.1,0.1,0.1,0.1,0.30000000000000004,0.1,0.1,0.1,0.1,0.1,0.30000000000000004,0.7000000000000001,0.1,0.1,0.1,0.1,0.7000000000000001,0.1,0.1,0.6000000000000001,0.1,0.2,0.1,0.1,0.1,0.1,0.1,0.1,0.1,1.0,0.1,0.1,0.1,0.1,0.2,0.1,0.30000000000000004,0.1,0.1,0.1,0.1,0.1,0.2,0.30000000000000004,0.1,0.1,0.1,0.1,0.1,0.1,0.4,0.1,0.1,0.30000000000000004,0.1,0.1,0.30000000000000004,0.1,0.2,0.1,0.2,0.1,0.1,0.1,0.2,0.1,0.2,0.1,0.1,0.4,0.1,0.2,0.1,0.1,2.4000000000000004,0.2,0.1,0.1,0.1,0.1,0.1,0.1,0.1,0.1,0.1,0.1,0.2,0.5,0.2,0.1,0.1,0.1,0.1,0.1,0.30000000000000004,0.1,0.1,0.1,0.1,0.1,0.2,0.1,0.1,0.1,0.1,0.2,0.4,0.1,0.2,0.1,0.1,0.1,0.1,0.2,0.1,0.1,0.1,0.1,0.1,0.1,0.1,0.1,0.1,0.1,0.1,0.30000000000000004,0.1,0.1,0.1,0.1,0.1,0.1,0.1,0.2,0.6000000000000001,0.1,0.1,0.1,0.2,0.1,0.1,0.1,0.30000000000000004,0.2,0.2,0.1,0.2,0.1,0.2,0.8,0.1,0.1,0.1,0.2,0.1,0.1,0.1,0.1,0.2,0.1,0.1,0.2,0.2,0.1,0.1,0.5,0.1,0.1,0.1,0.2,0.9,0.1,0.1,0.2,0.1,0.6000000000000001,0.1,0.1,0.1,0.1,0.2,0.1,0.6000000000000001,0.1,0.1,0.1,0.1,0.2,0.2,0.2,0.1,0.1,0.2,0.2,0.1,0.1,0.1,0.1,0.1,0.1,0.1,0.2,0.30000000000000004,0.1,0.1,0.1,0.1,1.6,0.1,0.2,0.1,0.1,0.1,0.1,0.1,0.1,0.1,0.1,0.1,0.2,0.1,0.1,0.1,0.1,0.1,0.1,0.30000000000000004,0.2,1.1,0.5,0.2,0.1,0.4,0.1,0.30000000000000004,0.1,0.1,0.1,0.2,0.1,0.30000000000000004,0.30000000000000004,0.30000000000000004,0.1,0.1,0.1,0.2,0.5,0.5,0.2,0.1,0.1,0.2,0.1,0.2,0.1,0.1,0.1,0.1,0.1,0.1,0.2,0.1,0.1,0.1,0.2,0.1,0.1,0.1,0.1,0.1,0.1,0.1,0.1,0.1,0.1,0.1,0.1,0.2,0.1,0.8,0.1,0.1,0.1,0.1,0.1,0.1,0.2,0.1,0.2,0.1,0.1,0.1,0.1,0.1,0.1,0.30000000000000004,0.2,0.4,0.1,0.1,0.1,0.1,0.1,0.30000000000000004,0.1,0.30000000000000004,0.1,0.1,0.4,0.1,0.1,0.1,0.2,0.1,0.1,0.1,0.1,0.1,0.1,0.1,0.1,0.30000000000000004,0.1,0.1,0.1,0.6000000000000001,0.9,0.1,0.1,0.1,0.1,0.2,0.1,0.4,0.1,0.1,0.1,0.30000000000000004,0.4,0.2,0.5,0.1,0.1,0.1,0.1,0.1,0.1,0.1,0.1,0.1,0.2,0.5,0.7000000000000001,0.1,0.1,0.1,0.1,0.1,0.1,0.1,0.1,0.1,0.30000000000000004,0.2,0.1,0.1,0.1,0.1,0.30000000000000004,0.2,0.1,0.1,0.1,0.1,0.2,0.1,0.4,0.1,0.1,0.1,0.1,0.1,0.2,0.1,0.1,0.1,0.1,0.1,0.30000000000000004,0.2,0.1,0.1,0.1,0.30000000000000004,0.1,0.1,0.1,0.2,0.4,0.1,0.1,0.1,0.1,0.1,0.1,0.1,0.1,0.1,0.2,0.1,0.4,0.1,0.1,0.1,0.1,0.1,0.1,0.1,0.2,0.1,0.1,0.30000000000000004,0.1,0.1,0.1,0.1,0.1,0.1,0.1,0.1,0.1,0.2,0.1,0.1,0.1,0.1,0.2,0.1,0.1,0.1,0.1,0.2,0.1,0.1,0.1,0.4,0.1,0.1,0.1,0.30000000000000004,0.2,0.1,0.2,0.1,0.1,0.1,0.1,0.2,0.1,0.1,0.1,0.1,0.2,0.1,0.2,0.2,0.1,0.1,0.2,0.1,0.1,0.1,0.1,0.1,0.1,0.1,0.1,0.1,0.1,0.2,0.1,0.1,0.1,0.4,0.1,0.1,0.2,0.30000000000000004,0.1,0.1,0.1,0.1,0.1,0.1,0.1,0.1,0.1,0.1,0.1,0.1,0.1,0.1,0.1,0.2,0.1,0.1,0.1,0.30000000000000004,0.1,0.1,0.1,0.1,0.1,0.2,0.30000000000000004,0.1,0.1,0.1,0.1,0.1,0.1,0.1,0.1,0.1,0.1,0.2,0.4,0.1,0.1,0.1,0.2,0.2,0.1,0.1,0.1,0.1,0.1,0.1,0.1,0.6000000000000001,0.1,0.30000000000000004,0.1,0.1,0.1,0.2,0.1,0.2,0.2,0.30000000000000004,0.1,0.2,0.1,0.1,0.1,0.1,0.1,0.1,0.1,0.2,0.1,0.2,0.1,0.1,0.1,0.1,0.1,0.6000000000000001,0.30000000000000004,0.1,0.1,0.1,0.1,0.1,0.1,0.4,0.1,0.1,0.1,0.2,0.30000000000000004,0.1,0.1,0.2,0.1,0.2,0.2,0.1,0.1,0.6000000000000001,0.1,0.2,0.1,0.1,0.2,0.1,0.1,0.4,0.6000000000000001,0.1,0.1,0.1,0.1,0.2,0.30000000000000004,0.1,0.1,0.1,0.30000000000000004,0.2,0.1,0.1,0.30000000000000004,0.2,0.1,0.1,0.1,0.1,0.1,0.1,0.1,0.1,0.1,0.1,0.1,0.1,0.1,0.1,0.1,0.1,0.1,0.1,0.2,0.2,0.1,0.1,0.1,0.2,0.30000000000000004,0.1,0.1,0.1,0.1,0.1,0.1,0.1,0.1,0.1,0.1,0.1,0.1,0.1,0.2,0.2,0.1,0.2,0.1,0.30000000000000004,0.1,0.1,0.1,0.1,0.2,0.1,0.1,0.1,0.1,0.1,0.1,0.1,0.1,0.1,0.2,0.1,0.1,0.1,0.1,0.1,0.1,0.1,0.2,0.1,0.30000000000000004,0.1,0.1,0.1,0.1,0.1,0.2,0.1,0.9,0.1,0.1,0.1,0.1,0.1,0.1,0.1,0.1,0.2,0.1,0.1,0.1,0.2,0.1,0.4,0.1,0.1,0.1,0.1,0.1,0.1,0.1,0.1,0.1,0.1,0.1,0.1,0.1,0.1,0.2,0.1,0.1,0.1,0.1,0.1,0.1,0.1,0.1,0.1,0.1,0.1,0.2,0.1,0.1,0.2,0.1,0.2,0.2,0.1,1.0,0.1,0.1,0.1,0.1,0.1,0.1,0.30000000000000004,0.2,0.1,0.30000000000000004,0.1,0.1,0.2,0.1,0.1,0.1,0.2,0.1,0.1,0.1,0.30000000000000004,0.1,0.1,0.1,0.1,0.1,0.1,0.1,0.1,0.2,0.1,0.1,0.1,0.2,0.1,0.1,0.1,0.1,0.2,0.1,0.30000000000000004,0.2,0.1,0.1,0.1,0.1,0.2,0.1,0.1,0.2,0.1,0.1,0.1,0.1,0.1,0.2,0.2,0.5,0.1,0.30000000000000004,0.1,0.1,0.1,0.1,0.5,0.1,0.1,0.1,0.30000000000000004,0.1,0.2,0.30000000000000004,0.1,0.2,0.1,0.1,0.1,0.1,0.1,0.2,0.2,0.1,0.1,0.1,0.1,0.1,0.1,0.1,2.1,0.1,0.1,0.5,0.6000000000000001,0.1,0.1,0.1,0.2,0.4,0.1,0.1,0.1,0.1,0.1,0.1,0.1,0.1,0.1,0.1,0.1,0.2,0.1,0.1,0.1,0.1,0.1,0.1,3.1,0.1,0.1,0.1,0.1,0.1,0.2,0.30000000000000004,0.30000000000000004,0.1,0.1,0.1,0.1,0.1,0.2,0.1,0.1,0.1,0.1,0.1,0.1,0.1,0.1,0.7000000000000001,0.1,0.30000000000000004,0.1,0.2,0.1,0.2,0.1,0.1,0.1,0.1,0.8,0.2,0.1,0.1,0.1,0.1,0.1,0.1,0.1,0.4,0.1,0.1,0.1,0.1,0.1,0.1,0.1,0.1,0.1,0.1,0.6000000000000001,0.5,0.1,0.1,0.1,0.1,0.1,0.1,0.1,0.2,0.2,0.1,0.1,0.1,0.30000000000000004,0.1,0.1,0.1,0.1,0.2,0.2,0.1,0.1,0.1,0.1,0.1,0.1,0.30000000000000004,0.1,0.2,0.1,0.1,0.1,0.1,0.1,0.1,0.2,0.1,0.1,0.8,0.1,0.1,0.5,0.2,0.1,0.1,0.1,0.1,0.7000000000000001,0.1,0.1,0.1,0.1,0.1,0.1,0.2,0.1,0.1,0.1,0.1,0.1,0.1,0.1,0.30000000000000004,0.1,0.1,0.1,0.1,0.30000000000000004,0.6000000000000001,0.1,0.1,0.2,0.1,0.1,0.2,0.5,0.1,0.1,0.1,0.1,0.1,0.1,0.1,0.1,0.1,0.1,0.30000000000000004,0.1,0.1,0.1,0.1,0.1,0.1,0.1,0.1,0.1,0.1,0.1,0.4,0.30000000000000004,0.1,0.30000000000000004,0.1,0.1,0.1,0.1,0.2,0.6000000000000001,0.1,0.1,0.1,0.30000000000000004,0.1,0.1,0.1,0.1,0.1,0.1,0.1,0.2,0.1,0.1,0.1,0.1,0.1,0.1,0.2,0.1,0.1,0.1,0.1,0.30000000000000004,0.1,0.1,0.1,0.4,0.1,0.1,0.1,0.1,0.1,0.1,0.1,0.1,0.1,0.1,0.1,0.1,0.1,0.1,0.1,0.1,0.1,0.1,0.30000000000000004,0.1,0.2,0.1,0.1,0.1,0.1,0.2,0.1,0.2,0.1,0.1,0.1,0.1,0.1,0.1,0.1,0.1,0.1,0.1,0.1,0.1,0.1,0.1,0.2,0.1,0.1,0.30000000000000004,0.4,0.1,0.1,0.2,0.1,0.1,0.2,0.1,0.1,0.1,0.1,0.2,1.0,0.30000000000000004,0.30000000000000004,0.1,0.30000000000000004,0.1,0.2,0.2,0.1,0.1,0.1,0.1,0.1,0.5,0.2,0.30000000000000004,0.1,0.4,0.2,0.1,0.1,0.1,0.9,0.1,0.1,0.1,0.2,0.1,0.1,0.1,0.2,0.1,0.1,0.1,0.1,0.2,0.1,0.2,0.30000000000000004,0.1,0.1,0.1,0.1,0.1,0.1,0.1,0.1,0.1,0.1,0.1,0.1,0.1,0.1,0.1,0.1,0.2,0.1,0.1,0.1,0.1,0.1,0.1,0.1,0.1,0.1,0.1,0.7000000000000001,0.1,0.1,0.30000000000000004,0.1,0.2,0.1,0.2,0.2,0.1,0.8,0.1,0.1,0.1,0.2,0.1,0.1,0.1,0.1,0.1,0.1,0.1,0.1,0.1,0.2,0.1,0.2,0.2,0.1,0.1,0.1,0.1,0.1,0.1,0.1,0.2,0.2,0.1,0.1,0.2,0.1,0.1,0.1,0.2,0.1,0.1,0.1,0.1,0.1,0.7000000000000001,0.1,0.1,0.30000000000000004,0.1,0.30000000000000004,0.1,0.2,0.1,0.4,0.2,0.1,0.30000000000000004,0.30000000000000004,0.2,0.1,0.1,0.1,0.1,0.1,0.1,0.1,0.1,0.2,0.1,0.1,0.1,0.2,0.1,0.1,0.1,0.1,0.2,0.1,0.2,0.1,0.1,0.1,0.30000000000000004,0.1,0.1,0.1,0.2,0.1,0.1,0.1,0.1,0.1,0.5,0.1,0.2,0.2,0.1,0.6000000000000001,0.1,0.1,0.1,0.2,0.1,0.1,0.1,0.1,0.1,0.1,0.1,0.1,0.1,0.1,0.1,0.1,0.1,0.1,0.1,0.1,0.1,0.4,0.1,0.1,0.30000000000000004,0.1,0.2,0.7000000000000001,0.1,0.1,0.2,0.6000000000000001,0.30000000000000004,0.1,0.1,0.1,0.1,0.1,0.30000000000000004,0.1,0.1,0.30000000000000004,0.1,0.1,0.1,0.1,0.1,0.2,0.1,0.1,0.1,0.30000000000000004,0.1,0.1,0.4,0.8,0.1,0.1,0.1,0.1,0.4,0.1,0.1,1.1,0.1,0.1,0.1,0.1,0.1,0.1,0.1,0.1,0.30000000000000004,0.1,0.1,0.1,0.1,0.30000000000000004,1.0,0.1,0.1,1.6,0.30000000000000004,0.1,0.2,0.1,0.1,0.2,0.1,0.1,0.1,0.1,0.1,0.2,0.1,0.1,0.1,0.1,0.1,0.1,0.1,0.1,0.1,0.2,0.1,0.1,0.1,0.30000000000000004,0.2,0.1,0.1,0.2,0.1,0.1,0.1,0.4,0.2,0.1,0.1,0.1,0.1,0.1,0.1,0.1,0.30000000000000004,0.1,0.1,0.1,0.1,0.1,0.1,0.1,0.30000000000000004,0.1,0.1,0.5,0.5,0.1,0.1,0.1,0.5,0.1,0.2,0.1,0.1,0.1,0.1,0.2,0.1,0.1,0.1,0.1,0.2,0.1,0.1,0.2,0.1,0.1,0.2,0.2,0.6000000000000001,0.2,0.2,0.1,0.1,0.1,0.4,0.2,1.0,0.2,0.1,0.1,0.1,0.1,0.1,0.1,0.1,0.4,0.30000000000000004,0.8,0.1,0.1,0.2,0.1,0.1,0.1,0.30000000000000004,0.1,0.1,0.2,0.4,0.1,0.2,0.30000000000000004,0.1,0.1,0.2,0.1,0.1,0.1,0.1,0.1,0.8,0.1,0.1,0.1,0.1,0.1,0.1,0.1,0.2,0.6000000000000001,0.2,0.2,1.1,0.1,0.1,0.1,0.1,0.1,0.1,0.2,0.2,0.2,0.30000000000000004,0.1,0.1,0.2,0.1,0.1,0.1,0.1,0.30000000000000004,0.2,0.1,0.30000000000000004,0.4,0.1,0.1,0.1,0.30000000000000004,0.1,0.2,0.1,0.1,0.30000000000000004,0.1,0.1,0.1,0.1,0.1,0.1,0.1,0.1,0.30000000000000004,0.1,0.6000000000000001,0.1,0.2,0.1,0.1,0.1,0.1,0.2,0.1,0.1,0.1,0.1,0.1,0.1,0.1,0.5,0.1,0.1,0.1,0.4,0.30000000000000004,0.1,0.1,0.5,0.1,0.1,0.4,0.2,0.1,0.2,0.1,0.1,0.1,0.1,0.1,0.1,0.1,0.1,0.1,0.1,0.1,0.1,0.1,0.1,0.30000000000000004,0.2,0.2,0.1,0.1,0.1,0.30000000000000004,0.1,0.1,0.2,0.6000000000000001,0.1,0.1,0.1,0.1,0.2,0.1,0.1,0.1,0.2,0.30000000000000004,0.1,0.1,0.1,0.1,0.1,0.1,0.1,0.1,0.1,0.1,0.2,0.1,0.1,0.1,0.4,0.1,0.1,0.1,0.1,0.1,0.1,0.1,0.1,0.1,0.1,0.5,0.1,0.1,0.1,0.1,0.1,0.1,0.1,0.2,0.1,0.1,0.1,0.1,0.6000000000000001,0.1,1.4000000000000001,0.30000000000000004,0.1,0.1,0.1,0.1,0.1,0.1,0.1,0.2,0.9,0.2,0.1,0.1,0.1,0.2,0.2,0.1,0.1,0.1,0.1,0.1,0.1,0.1,0.1,0.1,0.1,0.1,0.1,0.1,0.1,0.2,0.1,0.30000000000000004,0.2,0.30000000000000004,0.2,0.1,0.2,0.30000000000000004,0.1,0.1,0.2,0.1,0.2,0.5,0.1,0.1,0.1,0.30000000000000004,0.1,0.1,0.1,0.1,0.1,0.1,0.1,0.1,0.1,0.1,0.1,0.1,0.2,0.1,0.1,0.2,0.2,0.30000000000000004,0.1,0.1,0.1,0.1,0.1,0.1,0.2,0.4,0.2,0.1,0.1,0.1,0.1,0.2,0.1,0.1,1.0,0.1,0.1,0.1,0.1,0.1,0.30000000000000004,0.1,0.2,0.1,0.2,0.1,0.2,0.1,0.1,0.1,0.1,0.1,0.1,0.1,0.1,0.1,0.5,0.2,0.1,0.1,0.1,0.1,0.1,0.1,0.1,0.1,0.30000000000000004,0.30000000000000004,0.1,0.1,0.2,0.1,0.1,0.1,0.1,0.30000000000000004,1.1,0.1,0.1,0.1,0.30000000000000004,0.1,0.1,0.2,0.1,0.1,0.2,0.1,0.1,0.1,0.1,0.1,0.1,0.1,0.1,0.5,0.1,0.1,0.1,0.1,0.1,0.30000000000000004,0.1,0.30000000000000004,0.2,0.30000000000000004,0.30000000000000004,0.6000000000000001,0.1,0.1,0.2,0.1,0.1,0.1,0.1,0.1,0.9,0.2,0.1,0.1,0.1,0.1,0.30000000000000004,0.4,0.1,0.7000000000000001,0.30000000000000004,0.1,0.1,0.1,0.1,0.30000000000000004,0.1,0.5,0.1,0.1,0.1,0.1,0.1,0.2,0.1,0.1,0.1,0.30000000000000004,0.1,0.2,0.1,0.1,0.1,0.1,0.1,0.1,0.2,0.1,0.1,0.1,0.1,0.2,0.2,0.4,0.1,0.1,0.1,0.1,0.1,0.1,0.1,0.1,0.1,0.1,0.2,0.1,0.1,0.2,0.1,0.1,0.4,0.1,0.2,0.1,0.2,0.1,0.2,0.1,0.1,0.1,0.1,0.1,0.1,0.1,0.1,0.1,0.1,0.1,0.1,0.1,0.2,0.1,0.1,0.1,0.1,0.1,0.1,0.30000000000000004,0.1,0.2,0.30000000000000004,0.1,0.1,0.1,0.1,0.1,0.1,0.1,0.1,0.1,0.2,0.4,0.30000000000000004,0.4,0.1,0.1,0.1,0.1,0.1,0.1,0.4,0.1,0.1,0.1,0.8,0.1,0.1,0.1,0.1,0.2,0.4,0.1,0.1,0.1,0.1,0.1,0.1,0.2,0.2,0.1,0.2,0.1,0.1,0.1,0.1,0.1,0.8,0.1,0.1,0.2,0.1,0.30000000000000004,0.2,0.2,0.1,0.2,0.1,0.1,0.1,0.1,0.1,0.2,0.1,0.1,0.1,0.1,0.1,0.1,0.2,0.1,0.2,0.1,0.2,0.1,0.1,0.1,0.1,0.1,0.4,0.1,0.1,0.1,0.1,0.1,0.2,0.30000000000000004,0.1,0.1,0.2,0.1,0.30000000000000004,0.1,0.2,0.1,0.1,0.1,0.1,0.2,0.4,0.30000000000000004,0.1,0.1,0.1,0.1,0.1,0.1,0.2,0.1,0.1,0.1,0.1,0.1,0.1,0.2,0.1,0.1,0.1,0.1,0.1,0.1,0.1,0.2,0.1,0.2,0.1,0.1,0.2,0.1,0.2,0.1,0.1,0.1,0.1,0.1,0.30000000000000004,0.1,0.1,0.1,0.1,0.1,0.2,0.2,0.2,0.1,0.1,0.1,0.1,0.1,0.30000000000000004,0.2,0.1,0.1,0.1,0.1,0.1,0.1,0.1,0.2,0.1,0.1,0.1,0.1,0.1,0.2,0.30000000000000004,0.1,0.1,0.1,0.30000000000000004,0.30000000000000004,0.1,0.2,0.2,0.1,0.1,0.1,0.1,0.2,0.1,0.2,0.1,0.1,0.1,0.1,0.1,0.1,0.2,0.1,0.2,0.1,0.1,0.1,0.1,0.1,0.1,0.1,0.1,0.1,0.1,0.1,0.1,0.1,1.3,0.1,0.30000000000000004,0.1,0.1,0.1,0.1,0.7000000000000001,0.30000000000000004,0.4,0.1,0.1,0.1,0.1,0.1,0.1,0.2,0.1,0.1,0.1,0.1,0.30000000000000004,0.1,0.1,0.1,0.1,0.1,0.1,0.8,0.1,0.1,0.1,0.1,0.2,0.1,0.1,0.1,0.1,0.1,0.30000000000000004,0.30000000000000004,0.1,0.1,0.1,0.1,0.1,0.1,0.1,0.1,0.1,0.1,0.1,0.1,0.2,0.2,0.1,0.1,1.0,0.2,0.1,0.1,0.1,0.1,0.2,0.1,0.1,0.1,0.1,0.4,0.1,0.1,0.1,0.1,0.1,0.1,0.1,0.1,0.1,0.1,0.1,0.2,0.1,0.1,0.1,0.1,0.1,0.2,0.1,0.1,0.1,0.1,0.1,0.1,0.2,0.4,0.1,0.1,0.1,0.30000000000000004,1.1,0.1,0.1,0.1,0.1,0.2,0.1,0.1,0.1,0.2,0.1,1.8,0.1,0.2,0.1,0.1,0.2,0.1,0.1,0.1,0.1,0.1,0.1,0.1,0.1,0.7000000000000001,0.2,0.1,0.1,0.1,0.1,0.30000000000000004,0.1,0.1,0.1,0.1,0.1,0.1,0.1,0.4,0.2,0.1,0.1,0.1,0.1,0.1,0.30000000000000004,0.30000000000000004,0.30000000000000004,0.1,0.2,0.1,0.1,0.1,0.1,0.2,0.4,0.1,0.2,0.1,0.1,0.1,0.1,0.1,0.1,0.1,0.1,0.1,0.1,0.1,0.1,0.1,0.2,0.1,0.2,0.1,0.2,0.1,0.1,0.1,0.1,0.1,0.1,0.1,0.30000000000000004,0.1,0.1,0.30000000000000004,0.1,0.1,0.1,0.30000000000000004,0.1,0.2,0.1,0.1,0.4,0.2,0.1,0.1,0.1,0.1,0.1,0.30000000000000004,0.1,0.1,0.1,0.1,0.2,0.2,0.2,0.1,0.1,0.1,0.1,0.1,0.1,0.1,0.1,0.2,0.1,0.1,0.1,0.2,0.1,0.2,0.1,0.1,0.2,0.1,0.1,0.2,0.2,0.1,0.1,0.5,0.1,0.1,0.1,0.1,0.1,0.30000000000000004,0.1,0.1,0.1,0.1,0.1,0.4,0.1,0.1,0.1,0.1,0.1,0.1,0.1,0.1,0.1,0.1,0.1,0.1,0.1,0.30000000000000004,0.1,0.2,0.1,0.1,0.1,0.2,0.1,0.4,0.1,0.2,0.1,0.1,0.1,0.1,0.2,0.1,0.1,0.1,0.1,0.6000000000000001,0.30000000000000004,0.1,0.2,0.1,0.1,0.1,0.1,0.30000000000000004,0.6000000000000001,0.1,0.1,0.1,0.1,0.1,0.1,0.1,0.1,0.1,0.1,0.1,0.1,0.4,0.1,0.1,0.9,0.2,0.30000000000000004,0.1,0.1,0.1,0.1,0.2,0.1,0.30000000000000004,0.2,0.1,0.1,0.30000000000000004,0.1,0.1,0.1,0.4,0.1,0.1,0.1,0.1,0.1,0.1,0.1,0.1,0.1,0.2,0.1,0.1],\"x\":[1.7406925311409616,16.925481472113155,10.124121119054461,14.676609999913758,3.3310486428764543,0.4056995377238618,-2.1906041594462597,5.69226402234946,-16.20974206330355,15.523135868805749,5.013081045361221,16.89516752080294,-7.949619102508112,-4.391882538699717,-12.39330210048302,-9.201290271393862,0.7255728521740509,-11.551110411598168,-8.153332976412651,7.763617667222111,-3.0400070374901835,8.897474221033411,-5.67296894076499,-3.0228174857304144,-15.212602624666442,4.6100150826171,9.820908096931504,5.330063648520019,-7.270011875969992,-14.000255443282056,-10.257351152222109,-1.3407746866844175,-1.0750214964458082,-1.7686684966035646,-3.870636033422888,5.422879488014713,7.820591326281971,6.290205030843365,11.94440636554732,2.3842034345236645,5.12051032912521,16.161807287842358,-5.721973772051633,-4.232768109199796,14.97607460053708,-8.751133254194189,-16.6937961472614,11.948445298233972,-6.4266861721882895,-7.381284372754039,3.6116420929425077,-11.216920089847253,-3.46472305750976,16.13744202336376,5.8171815928866355,-6.854275337942671,-6.555663842878087,-15.66117009341433,-1.7376333631506236,14.664766851128794,6.378984461162633,-0.889731386508218,13.271836565309226,8.160122668021048,9.889859977784335,-16.680240564862125,12.99349327187153,10.173574255222809,-6.180842204265108,-2.830476746294365,2.572739108176956,5.161225948752496,7.196772651982733,-4.0157385462812245,2.0958396626181957,-1.9953505648961947,-10.937403854093839,5.198983741694906,4.2310045722823215,-0.2509617939097432,-5.073461629634196,-0.12129942167130384,-15.036013670188623,3.3884466162679088,-0.7886985798979441,1.411871094618376,-8.104411054472932,-3.0510834463563454,-3.0772560732606578,6.3125907527852645,-10.250075852204745,11.240869045976153,13.051003169924929,-4.076462445993252,-1.3026368326302966,5.094552406774946,-2.56603484239029,-15.99673341427132,-16.10204430970171,6.347888029166278,12.302299647417403,3.554190319121666,16.537012203568057,6.369583640358752,0.1610498451363348,7.17950117655474,7.828950870341229,-4.55660542674698,-6.019925469635954,-13.974837131604309,6.138471553287889,-11.478379937189711,-10.3347176567185,11.882586983951304,1.076549071919662,-7.735040677593301,0.9105958128040633,-11.563917143691928,-5.005310927883235,8.672684108077224,-5.883992661419706,6.171716383512428,-13.108167167962009,16.974351652649293,5.174924253907293,12.156485696098121,-2.12797837028621,6.535502959659091,2.469390823092186,4.932391323565532,6.402899006689944,7.710529202050917,3.236715921735895,-7.648446315791505,0.9428456593038607,13.843569082010083,4.154514627778911,-3.921273833302504,5.659980168293709,-2.3381471703979373,-2.4043823659629173,4.974420270517796,-0.014748102930653515,-6.154955406266857,-0.28632048016675876,5.241927828320889,6.623622344665385,7.192313441812021,-12.22545940120656,11.465077867217191,6.1304277247301275,-6.67939742311407,-3.196040030924896,9.178320374237455,-3.748682070923625,-17.47800908921793,-14.302050360677631,-3.9366491271911115,-8.594666827449078,-1.8808714998579132,3.4978073388766227,-2.116409306378039,-9.099050016930999,13.085411389245582,-11.471366312832034,-0.3536490954570969,-15.555401416155732,-12.340391252535778,-13.570996748036379,10.683182921476229,-10.982259486538027,-4.326084911234763,-5.581693240142163,-2.0377306733145493,-16.98012963161253,15.395236769536993,-1.30611304442233,-0.20359060432007176,4.335607594983578,1.3303000105251204,2.81239914039103,2.7781210068084294,1.1082613021933918,-6.408284328132416,-8.815741077669665,4.43807655778356,-4.216758317662642,2.354944408909205,4.272900958618766,2.442413566120176,15.479414174974346,3.4941663436891166,-3.215275835273682,-17.921833424388502,-4.645582824034166,7.021451353623611,13.333347571799036,1.1696896932460494,-6.800299711479975,-3.6782944878261192,-4.447872272515496,12.084602638851457,-8.913047008697314,-11.686353723526814,-1.8924523098672628,-0.45280441043449066,5.863682577919582,-7.539383351145709,1.8786425288028412,10.77675196162473,2.695912816322581,-8.376745576094581,-10.98134490366075,13.780152362473238,1.1318331318533985,-12.245027316718058,9.543724979530557,-2.2232395832900975,5.265877530422782,0.8078962132383196,10.701475987533374,-1.7927402766082887,-15.283819371820874,5.337898051714473,-5.19788836868572,3.899419502283099,-6.168331090519782,-8.882502023931936,-2.4430382962082704,-10.102277878024063,3.0644195254211937,7.923437080183483,1.7203582178609909,-14.224351956510306,-0.10090894453742802,1.227892097211279,-2.032491067393784,-3.7070157215006265,-11.082386438942457,-10.405430624760138,-4.167582850358916,-5.650072317994382,12.876414902608136,3.706848267847701,-8.330426050160138,0.49211883019953234,-15.798171595444831,9.344185739689348,4.596252815561971,-13.428223941296169,9.614767478199814,15.890952757994969,-0.34098524670675745,8.675444657950292,2.4895373993790253,-2.1136113350848618,3.7598288050229165,5.173473549981802,15.450825726103966,-10.519589568713926,-2.11445599916538,-0.017364727145718305,-10.537721772362477,-13.536665197123442,-13.137487477176803,-2.2995062448313566,-9.869670447418132,-4.725699273255253,5.293749859580074,0.5233095036615344,-5.255886326766366,-6.763946720728514,1.2400342680354781,-2.445023754233576,-12.866451692987573,-4.5553963621712015,-17.00662982183069,-6.909913636324389,-10.263785945790948,-11.305733320260694,-1.602141434664197,-17.792468141674284,-4.305638821743224,12.649747138181198,4.846106359415152,-0.04597739254918161,-1.886359126610329,-5.050958300885513,10.919256611364302,-14.749809008230045,13.646242928391203,-8.478393783283288,8.084469263220905,-13.006672029429339,10.006848909698324,7.222206378719968,6.9580909874826835,1.3552705155400582,1.2327165267806859,-2.086475835343509,1.8494211974939827,4.677169679120892,-9.324080272890063,-4.35340012915248,13.061210211017965,1.3567992371686262,1.8256449248881705,-0.3949831793913676,-1.5353438373741688,-5.672731772121278,-11.288642628835335,-6.905312907807105,6.619100745507342,6.5301286663823515,-15.29054135405186,7.980800489977312,0.010112721753042304,10.9925701064993,6.364184358143469,5.2070517761142305,11.282095496991966,10.684939781986335,2.9159419319326547,0.5858842857982139,0.517744915056679,6.854268126250725,8.047770274469508,-5.4629502643217895,-7.809374541376728,-5.970683874305399,-0.9225620046582909,11.569520777273853,1.1703468504311736,-1.3353736205444706,-6.34789523108419,-6.255286066709344,2.290223318197583,3.541893008139888,7.518848510457389,13.393918476634736,0.21843372654066728,-3.9814829839019605,1.4010605532760814,5.598009778930796,-8.023683003323631,-5.0466430661326225,-3.701347924176039,6.399593029318153,2.663878346332066,5.826599696163769,4.590805531353994,6.13777581858255,-13.443222250093095,12.377144659830583,-1.3446829041727868,1.024985319293237,-9.345754144013407,-10.885599686231766,-4.266093612004894,3.2034064369813837,9.813475555560562,-13.557803088842208,10.331039076423934,-9.384579105771039,-8.419407277672644,-10.880300253983746,12.289821613303921,-5.710249820400683,4.637602051265722,7.4026325146047505,-9.971284634490534,16.050747112626894,1.1989242929483643,-6.928807137237086,-16.935031167105976,-8.756362707755999,7.9070785019879395,7.929741790936012,-2.357126512720049,-5.701975270447238,8.710595225845502,15.370875732671406,8.633335121598233,16.392842309813247,0.2580371744868156,-12.548548655603422,5.302893215245655,13.62619479182631,12.059370491826517,2.405469339596094,1.3370936149613328,-2.4402390791892343,-1.6032468915427376,-2.2254361747156475,10.815453853729329,8.524616945763148,12.123170647076702,4.86623067704946,-9.594997397820062,3.0002826777143894,-6.764379199405672,0.8654989238058809,-5.710391310995735,14.40282467736308,-4.738165437789097,12.502693883656718,-5.350673606267249,-0.8937389104485748,-2.273678351514821,-10.446311033230616,-12.518239895892933,6.254631802142773,-18.01813228449701,14.28406882124495,1.9176419670798133,2.983910083736807,-0.2987192743176272,-4.919047710219447,-5.1340399396716725,2.479107294183396,6.811833993839243,2.423212584065053,0.48063402686704476,0.5482509559839914,1.9545190576504086,-12.296843937693392,-8.109578123842514,15.14075270226464,-15.661036523660401,-11.683497039900269,2.025782741336503,5.011195576566883,-0.8248214802941836,10.983042101930124,8.960938527990821,5.410455193275327,0.10821477615024287,-0.4621643067236907,7.9023549889666596,-10.21622959304825,11.324629966333756,1.449562633070827,4.710280799920001,-5.091598983813382,-4.317412177338694,-0.1113705412906372,-8.585325848771701,15.489602745802138,-6.200096303137669,-8.760309721150342,-4.604425951025544,7.40439259124227,-10.093424417801854,2.518134380590243,5.778385059333664,-0.8892781314081604,10.407515185704593,-4.854918714729679,8.104699719761063,-3.9181644067176675,3.9652742470227076,-4.4922581099356185,-1.595543763411744,4.108402415355372,2.698087889575775,0.16749158762536565,6.2936849793498455,6.042464257295799,-8.875295585978762,4.53359427128426,2.1641660529499895,-5.362122099748741,6.14109465754005,1.1467546048163972,0.6007109876173403,4.629534171875821,0.0969040537878876,-3.423297537024326,3.761179986586813,15.337388602461287,-1.4093248867546453,15.349618891620047,-10.110747132769852,-2.947536471175677,-0.345552769845595,-0.6729241680691963,-8.422765645798403,12.880229120397471,-10.992428777316515,4.602439487342083,-6.296428620837425,3.316249687786947,-10.028310564865881,4.888229883484572,7.094701394514644,5.437385389850493,13.278469142014403,6.103300022050665,5.823468100782738,-0.280169666886444,7.338958904184575,-8.547342531728953,3.227753471918774,-6.854890545441609,-0.24283122071898466,-5.863742065527388,1.00456413627566,-7.109026092173965,-2.5103495936549987,3.3563493772689914,0.25546341488398494,-9.920845105453076,14.265882549428953,5.571155090212539,-3.909653529931247,15.744790288354153,3.076573486479564,-13.108669641109582,9.134130684370733,-1.3538107738636085,8.818696046378907,-14.843685898597357,-16.816657834777274,4.338515015428735,1.5725459208175978,-10.168781767438908,-8.038890150793733,0.17689226785027454,-3.6182933812770712,-16.990724499938555,4.053528822266681,5.935014433954764,2.478290728256136,5.853363818892235,-8.96187946977053,-13.403145265698997,5.23273776613803,1.8995276658037805,-15.211969576077134,-2.0435849947001437,-3.6454287146343365,-0.2530927096878117,3.2289091343622114,13.048056040213742,2.9888993833332815,4.49313425116229,-6.571828997565918,11.685814692404994,10.423685573626592,5.328062304687255,-2.410330617338309,-3.5704920097314967,15.423781013316214,15.792560147167036,1.5304766665191287,-1.0940384527377618,-3.4341857707427863,-8.719793246240028,10.052177526782424,-8.512474070884872,-14.998641357537734,-12.72855940309606,10.90866227032766,-10.316919404589816,7.364588824663185,-9.445710094248145,12.290696434927323,11.016461406098806,16.12980086824884,-12.753786681620058,-0.019611382340088343,0.7992579811566897,12.716284556728274,-1.504804828034385,6.626532787031811,-5.342065775907997,16.02464089735127,5.871051795822847,8.545780335354943,3.076426268099833,-5.02030707396586,-2.0289410018611056,-2.465545849422444,4.3040348122853915,7.426293038707204,14.829801083639946,0.4505750809080025,9.805791877522294,14.4925804302584,-7.092826406566492,5.025085691779789,-8.479454650223678,-9.001368367448533,4.351687436793944,1.9406842104894595,6.807042685143128,-2.874750628941346,-8.88169209198754,-3.102766638239405,4.952179038753834,-0.022962001404037424,-17.162022682955552,-8.42069587392004,-15.493854953422536,-8.142828723025461,5.329163557728393,-0.004570866631823952,13.18524111013723,9.466306914438597,8.026652718000085,-9.114951831384651,6.725754068771695,-0.6912987584283198,2.0905800173656206,-9.384923188520538,-0.8714007526470929,6.515730856445939,1.0500932445304583,-8.2316793357706,15.439452213999838,0.15358331622100074,-8.834468570999835,-8.805585169532218,-5.846477147559257,16.23077296485597,7.830684059253909,-12.526751265420414,-12.211726208068685,9.927620366208156,15.893748814381015,-16.723191182120047,2.344186238489712,5.14741685857763,11.989826500541755,8.328754001611093,-2.3773230373559384,-8.091092154871744,11.845246212597331,0.7334510155053826,7.907585272140076,-15.840434130234266,5.562997614400035,-2.160163197618319,9.363452638120863,-6.725062509337015,9.57944256931304,9.756440165442294,-8.690390975951173,-7.177234147022585,-2.7103881916630983,15.461275619836478,7.5833379907695475,4.522096699262552,-10.082729227287453,1.146034315421792,-2.033363228563396,6.44941153548437,15.726931565194572,-8.256071206131248,7.671879472305845,4.662137091264178,-8.978096526404252,2.1817837990149225,12.7975298830316,9.51213192555884,-1.9490892035656655,-4.948620800897703,3.2935013872560654,9.837648843696345,-3.1623932145568894,-2.134781388720627,3.4030886474229542,-14.175691999518811,-5.5787379559737715,4.851428379217682,0.8464546294911419,-6.6072625297259915,14.227374551756498,6.798964564173481,-9.925848741751812,-4.718490821778057,-5.990006821054293,-1.7083810964880293,-10.370177128684375,-9.470600618758464,-2.3017587354700337,-4.602548139538296,4.262421521766975,-4.320781069645802,3.075857184851209,11.275604910370289,-10.584885636880136,-8.321364253823049,-0.2945373961353278,-11.093592778180883,-5.152259822805995,4.107876774173131,0.29582945991539344,5.4079731091645,0.47153974484426975,15.517991172011737,5.108348511616915,-10.110693976095463,-4.6074239094608,10.105665348409643,-2.1080023287185012,8.221318671964072,15.40863532956782,3.523001597646273,-13.581886955464187,6.5336402489854315,-13.403939799862059,6.5277371011267284,-4.598984153530655,-0.8122852055563955,2.5738458638406345,-6.406132900245369,0.1243677371776639,15.855957490233797,10.961694168965431,-15.003192365675645,-15.28341846971343,-4.066176799000068,-10.276416238782723,-2.9203652760398056,4.242264823205979,4.859481361640056,7.779165507112483,14.415657682801536,-13.31164361462259,10.863397744036298,-17.004252936123684,-16.946605481481875,2.604979199865589,0.593912737316595,-2.4207677787044077,0.1898089301471847,6.093061095279537,-5.677130960090178,-0.06814149145676675,4.325937929943848,-13.182803922499021,-14.530873539786198,-10.955704956945604,6.134834471948381,6.540125292211805,3.704017810806609,-10.376616889554459,11.022567280890483,-5.721299670975567,7.754770445454042,9.363765316930449,-14.30707016841044,8.620465429979806,0.6573006392263024,-17.227180199473484,-1.9824380571166809,-0.051027586260929264,9.3414698486465,-15.985644274843953,0.08837416411380296,-9.522527587437269,4.101135374054062,5.1766451039952806,-8.488395604610632,0.1823022065176783,15.586602810021237,10.479926597029776,-8.671996943965748,9.834684688106474,-9.316125327988974,-6.224719207605904,9.045598056237717,6.723482744905895,4.383563706952455,7.881138437162956,11.038896873156363,4.744651525741475,-3.8717516044470166,-2.3696645637837594,4.935605002396259,-0.18070633615551926,-5.509437432717117,0.6632104466116931,-8.312959020484344,10.713452411961983,-3.110849752596441,-5.9792317260761,-7.964077430630007,6.997239798006391,-6.884135798215438,13.134145763707886,3.2975873606234902,12.414115314960547,11.136075427313223,-8.166285969621248,-12.876079627922849,-5.724788358549286,-8.745328991394356,5.210689971827555,7.452132781959755,9.851597000883372,8.759512867204124,12.976275529627005,-0.6203283131112667,2.266578481201421,-16.875303354229718,-0.9838199528664393,9.702971682181953,-15.988461880854835,6.3113887694712005,16.50089942862393,-0.05147563306333822,-10.676770573493442,9.270552825942284,5.725916045864605,-10.263665080135125,-2.1857702529303284,6.85634124793433,2.289733218909588,-8.681452828390565,-4.8339716218310045,13.856494152427766,9.32925620506108,0.2641879193648846,11.759422839447446,-2.4084759915962275,0.912856264330239,-15.603248349702438,-16.484033115269042,5.80323468525328,-6.9216086615687615,-8.606229077300327,1.1871876748886532,-5.585200577547213,3.452478177916049,3.01399632063644,-9.663298102934325,4.056225392392886,2.553925993976372,2.468872931879786,9.180838353708843,-5.8477761327540545,9.568683461185493,0.5875396083288144,3.786900439305391,-12.76933142364632,-16.098047104798674,-6.892501381338277,10.08128582041681,-3.77620953046835,12.694760101343812,-8.761797261349399,7.877698449008728,-5.154840315123758,4.196585438239571,1.1805616735744706,-8.660419919646841,-8.818460451110132,-16.777290440542377,-2.284754826558338,15.137253193318916,-15.494493586551599,-15.789866674834776,-4.653316291821383,-5.185772269085325,15.581823174661777,10.121925148670778,-0.7550605427937301,3.67922451488646,-0.1597320716708547,2.804716318287672,0.3213674572415171,7.242521046711793,5.926732095128697,-9.59606956436032,13.085385023645001,9.536185374241953,-15.966809212867428,4.044703013277987,-1.3970727755687997,-5.992105523530489,-6.464997122317592,6.019551959697526,9.35485143072423,10.676157574931043,-2.2292257538443443,2.657323170470984,-6.98382865667417,2.9629083476050613,3.560310120161333,4.654026650191439,-4.6105481515020275,-3.609731332472212,16.308579356039367,-5.835205821906312,13.133508126919352,10.815539202102338,6.711514634329731,2.055084097321118,11.797387397298595,-8.501904249361626,3.4194341105431105,-0.8397996825007872,-1.639535148209225,-15.48317444913098,10.875578459229882,3.7782496343483323,0.06295661005147203,-5.417121681014288,15.360708455177976,-2.1471181001270496,-0.024711094214909822,15.436629953416615,-4.170076579311145,3.5437225022281447,10.47768408103252,3.3222886810809173,14.515766880757605,4.432214718746188,-2.8689318947321993,-2.3854290571364407,11.817332758268948,4.3134007468780196,-0.48400275306930735,-5.675156323117554,-1.3888869696095638,2.1728367271755236,-1.4437488584628917,1.7073893186520617,-17.179920075324016,-0.22309808826002728,7.054886639067049,-2.323963199793283,-8.481951917257568,0.6785664664091011,7.777935177672292,11.589907636324916,-4.071587570009848,4.627892477217593,0.49793342875276053,5.404320551865497,-3.273151063741013,10.092898095928046,-1.7097079024457587,-4.399823965907568,-6.5627520935075925,12.377914395688009,-2.9726372304594775,9.36251982431854,-6.6337722001498,-2.053095010932788,-15.199076325487917,-5.856704385794557,0.9221173064299596,8.953862677203222,8.405746512154598,-8.883375389256514,-1.9761506444186665,4.032014833127452,12.957858997404037,-15.729825502423415,-6.27655833548848,7.339039123490425,5.091272280165549,5.586618095176172,14.975757016915134,-2.0514240631169605,-13.258101755272579,8.973246220981126,6.481364925220637,4.42090501919408,-9.443142390032373,-2.1533652221712543,-5.28432622344936,6.676307515047714,-4.193548610016128,-4.0264936614355324,10.663776357760499,11.838364442794854,-7.957580326933462,12.85201739296611,11.266996526819616,6.742471298408425,6.261552497494316,6.894990024333363,8.469322863907811,-6.563749763382004,-4.876373076286737,1.0614585126367801,13.756293725515308,6.311898439591806,2.8473531357092763,8.823493757553273,-8.621272417648836,1.9025628920468247,-12.913189058117363,15.457183841150377,11.643501306258718,10.969261217938403,-6.214206220747098,15.819026057808216,11.035962107742462,-6.42903579684958,-5.495084425161303,2.167048237793961,-3.983600995308042,5.154718983415839,-1.3571532451200654,2.371083309120375,-1.9746091186751293,-7.05833888480297,-4.008012370824967,15.68318051996798,11.923468318040713,15.99942040938005,15.890316419262039,15.46245937827793,3.2120301071494075,-6.024705219395593,-0.15987923672695128,-16.02615013864364,8.140675336977663,13.007674476778949,-16.700262355903046,15.922665639389795,0.6493289571334745,-0.5470860177687368,-10.361491027980572,7.684531562983571,16.702207361435292,15.621520747899051,2.026549290774578,6.655259908422457,-3.8071934525873696,0.03733809291665765,-10.278918083838315,6.2495034942493835,1.0853549990924147,3.078403191777701,-4.856247237639415,9.478690724753745,8.754404207787958,13.176026114037025,14.774079804951741,-3.5704914002005967,0.5590968247825011,11.267422284640901,-11.165327529892112,2.990431624614534,13.23190042225341,-9.127196305186924,4.7478081143488,3.745689917193322,9.318314855031353,-2.062165360233638,11.54947687656657,-0.0064333389785348844,16.030004828716066,10.999873130355619,-5.686578518616073,-5.809557676764158,0.5014529116254668,-8.71600900684859,-13.583147131904445,11.06470048323258,2.7067979311827632,16.120140638402948,10.367955146806702,7.894209986114942,-11.333487740926211,3.830097295728673,-7.34549159374284,2.5728223798422727,-3.392326273722153,6.589762041970034,-13.308440500190981,9.420325987396449,5.245174663078152,7.3334500443335795,-1.706660289305708,14.283185753244403,9.062254972269441,6.531847131213565,-11.877558854040412,-2.6124844860617076,-3.536074276717955,0.6667710192780191,16.56974411274419,-8.380205302501386,4.316731560647214,-8.744383484832344,-15.692328595180696,-5.124780099868267,-2.900345120993599,7.770624307949231,-4.511921113512209,-6.205660085028362,-9.506692089669823,0.2582379889570917,5.702873778614491,-1.905792959130201,-3.450027274459028,-2.373655019241709,-9.84133467187091,1.729950704161241,-11.515873937845653,10.860373544286592,4.116679180797208,8.37342834983942,10.858051282437188,2.1476929083947347,-13.991850712812294,9.93945553859656,-3.2962068653742995,7.277973030952186,-4.075414771340015,8.791066965689717,-3.001564201108058,-2.2268540688467793,5.117048863394628,-10.410716943491597,0.489514511967146,14.510052400146192,-6.815612126244171,13.984611821307961,-1.4986643654080052,15.579170469811507,6.188725393345917,6.2591107920607145,14.984375089857656,11.342790476419717,15.477247397936328,-2.9540336942252394,8.011477623971993,5.966609627044954,6.763763530315575,-0.23460481627554167,-13.398884753069954,5.078263740523663,6.3271949358707,-0.9326999082236095,-12.909073065502863,7.900726412268446,16.492525426738876,1.1954906798630205,6.535619104731202,14.838466039291685,15.493517580707842,4.166310312391956,-1.1496651227579595,11.9500705150452,-1.4045877761088479,-5.839007733423157,6.4232116337159555,16.29969578250601,4.215268547505946,-17.95319658025322,14.229800473579868,2.5485368344790094,-5.290844419156876,-4.620246088348489,14.728564273978813,15.670747983464002,7.0220439254044384,6.527737431781359,-8.576275231533842,-12.866229989469439,0.6170113790595553,-6.886210815527315,-10.056430696402616,2.326133057833893,6.190721852514283,2.8559038733559556,3.6622893667600054,-0.3635611394084845,-13.620518939128617,-0.4018131908764441,-6.600251643221445,-13.19505833083814,-9.263008942771677,5.264868839110575,12.853328482309069,6.797681283975305,-2.3280696681720436,16.01290306677882,0.15773602205635304,-9.61900365945511,7.8015714212207685,-15.487685726505253,-5.673058628643619,2.963876102725302,5.373649585567269,5.30286365494789,14.932049641044008,-0.5802576222533722,6.363580736998977,-3.158438331540558,-1.16745237793471,6.505506326095652,-6.9812895284322325,-0.9775625871340973,3.3174342086848423,1.973993140001084,9.894787913794318,-13.264938332394019,7.426038854540601,-11.809476204302031,-0.4246045789833847,0.7292940458894993,6.997821536670778,6.76020206813253,-4.0966056088069935,16.081555408410924,-3.331648978548326,-0.00906811052572234,5.3947816568918165,-11.047378393935855,6.507940393189694,4.2771544925713565,-0.005391633340722115,-2.081486713742203,-6.192528215488288,-0.3540206781273348,-8.062957562892684,16.12653815214135,-4.268452252056718,-5.46022806563641,11.905893347700081,12.966925684254011,3.2140345778625927,-8.150932860537525,4.361574620516377,-4.451822918583215,9.673996963548387,-11.69818251474103,-6.082154848141595,12.970137375595762,3.6511892724296127,6.766287434718617,0.6340601473735649,8.421878794090372,7.7033540096999475,-6.747961551892124,0.9346712545260347,-2.114472699797206,14.119301123309599,-15.012100463759728,13.819459139707133,-3.92923779785887,-14.634296659297362,8.497837143879703,-2.121908390026999,-6.56641558781368,-2.6288748402886055,2.2544553045765148,14.880295478339091,7.406674937728956,14.487918379878824,13.014154677491966,6.301564836089888,-8.419593112727677,4.725456909510851,10.278809173660282,9.85487607430226,9.183401873255791,-11.166353679337016,4.3061185762960195,-0.5169948533903657,-8.97820998853605,6.808469454400091,-15.724951879570149,-0.03632301413197826,1.2085680926191558,-5.7683320108433485,-13.255789838789054,14.927206824755395,-11.695387430274168,13.34616290687051,4.984549326062679,-5.272230058572108,-7.755122576896012,11.116409761988297,7.53629143642562,-10.07951892728222,-9.206720048136498,-2.606040032977023,-12.331201964944245,-4.290326144757257,-7.792771342144253,-8.573646211027073,8.421810414861845,-9.194238042211317,-1.3365376687212651,10.474270251607676,4.306853019552507,2.0110343962060315,1.1264903420516108,-0.9467354187937337,-4.930498926599009,4.335478474290728,-2.0395182929648716,-16.919045468774353,-3.2856083506002456,-3.017102031063779,11.204324353099151,-2.402701966464418,-3.7877254940874194,-6.7456166305046255,-4.955692432915138,-1.4516525719125006,7.548861489262644,-3.622683434305599,3.4230198594323396,-15.198574103899945,-16.895403988172067,-0.7743710826682214,-10.688402867114918,3.3803935121138315,-6.601810198056947,4.733584220974089,2.4397779982383487,1.2095146808638784,-5.812027994481903,-6.97599217220964,-3.312445326382358,1.8362307845282353,-12.7301862257442,-10.27869310320383,-0.6029311182399111,-13.414385057445235,3.894362861362442,8.670927425164553,-2.5992955288650563,-2.0658510453192522,-0.42301153520214607,15.44366256374388,14.254706790372927,-0.2219543554521983,2.4721866780468513,-15.967772539712461,-2.0845399106320883,7.913438277202806,3.9824512567692416,1.032444248750408,3.642922953489599,7.357440140086842,2.8427344022915664,6.117556465705301,14.59694551479296,5.158093899808545,3.4107206022319665,6.243336864212072,7.4653432319899,7.982212899807098,10.299536976673359,-15.70526718898472,-8.600858347989051,-13.70090784128297,9.407928948854181,1.0124341873175995,-6.0520323391621895,-2.117454340312838,3.7513230254435905,7.9415515704265935,-13.575806479386724,11.976616056195148,8.384958285554534,-10.172778736333496,1.005992546294093,-6.031172730086427,8.637051667537628,-10.285132260807682,-6.584316211998043,-12.349761146175563,9.860154979489561,12.070157569560466,-2.9884487302331975,7.41943770297807,16.683758134009047,4.480609276091246,2.4503219137075347,-15.055637700076915,-0.8288426180617335,0.18688368913632297,-5.60453190424086,-12.982465273718294,-9.291067887701407,-16.522783887402667,-12.916792060214835,1.1819246097830913,6.5116827845372915,9.939110261495571,14.73439753800898,4.9993618272513265,1.2227349463455646,7.268847061854931,2.690806212257265,1.916789679288447,-1.5644320495158777,0.49314108672971,-2.2400101656742586,15.517823981784304,-7.2623205631522225,15.453691519433557,13.220185595641963,-6.6261892483815,11.851440543385499,-15.91244092164061,-10.754316107789416,8.882718248463904,8.137446489946345,2.5008129236664445,-2.6384493738834056,9.925855331331137,-0.42295077964589084,-10.9307864298575,-1.8608346329960856,-10.309100115388691,-12.945637336903264,6.591284289786719,10.605339280708863,5.3348538727682095,6.21789548875575,13.269154429134407,15.468244690989955,11.140148537424123,-2.1260503315814243,-4.444528994665806,4.52860965375105,5.390343398209607,1.7623957234605856,15.88223234218373,15.485859331572327,15.429971661366078,0.5168272566970118,-13.953955304417669,-6.998574606332923,4.507458584342717,3.3576413326878964,-5.754278790966319,-5.380608774164795,-2.507033404106108,0.5676816328844416,-1.5155570472387114,9.992107767081462,3.5763714044690316,6.326171433542844,6.9643515933285345,-5.865346286011938,-13.073459270482166,-6.178645581928642,-3.1012759431101795,14.725710275910146,-11.433054542339832,-13.168444900342422,-0.7571956704956495,7.569174596577129,9.874914245973057,7.742678578206223,-7.4257881892522635,1.0966566503453112,-3.3654882384767357,-0.7240597832168892,3.8666543490622933,6.443381329270714,6.27118822102304,5.761454975587028,-9.33838446610759,9.963430798051379,3.4817743632316467,11.56909495388062,-2.2545605993288658,1.2939749421746947,4.399529202050908,-6.416628150445434,-1.715594810682751,15.971959895057557,-4.739937752905724,-7.068201033022723,15.706005921110973,-8.932243907749802,-4.528450890815373,-5.307597320725424,-6.002622379758507,7.810188752572203,12.979900246580236,-4.4385663373326905,0.4660951850791197,-8.752526719188106,5.027203221059877,6.2096333887090465,-12.117116170915747,16.898968663125398,-8.988967577417235,-5.174793228767385,10.834999310824582,5.216171936990344,-5.721885818459951,-0.7971639362592232,-5.822509458769507,9.949545325316949,1.858551158792035,2.552598017663981,-6.972402748430823,4.5952866451261505,-1.2322660644371508,3.1580287165012395,-7.578150581608682,16.098548996214067,-14.354829859613448,6.4916185489627845,-9.131263549975108,-12.778032265215788,14.711532614388346,-6.869816276730909,-10.312310054625543,3.464187668393301,3.4239636606474124,5.8245624307186326,-12.940162947226412,-0.10314841878008695,-2.2866905623951785,-9.990450807663112,15.395377793554925,-1.3441569651520124,-9.42184611560616,-15.720234372847361,4.644844972503301,3.83730381211708,5.206971945728537,11.27506271007878,-6.243396085576319,13.790247951788306,-3.8161861411029334,0.9449697687469012,-5.062448328063342,-9.63197056434525,11.365412989481083,-5.710089282661886,6.143970150712157,15.567822406755127,7.614803097715705,0.8969979399725194,-1.7341067520018159,2.787264809915883,-5.48197549964426,5.070197398522523,0.46718852252307846,-8.71600901740835,-2.2476925470011473,-0.7441792030961472,12.367915451733557,6.500160013451374,6.198703844583646,-15.695187370781172,-12.911528450817034,15.082097898297935,2.2457090930400643,2.0556646603449025,-5.081181215327543,5.2403069902786354,4.627224759189321,-8.55926183261222,-12.840677068260284,-17.512260873008092,11.348531404309885,0.41101875448063513,-2.146248480639183,1.7425372482576267,7.201225974868924,-6.002593815646245,10.863351496863867,-17.73556638427658,4.274652816568316,5.71600591045108,5.0732648036942924,9.651653178779364,4.493914188949687,1.1739502816215983,1.3096224230794073,6.169732640969617,-4.803057610675781,0.5270609521923797,-6.7168180692969415,-15.533381925479269,0.2579834611812028,-8.012706569428182,-3.99182719560948,5.818043165178376,11.63436335223882,12.894483935732007,3.2104951841670544,0.15904402352987898,4.602199054046415,-1.290821034013605,6.380705215999041,7.166464919437507,15.465701790932703,10.21102348624854,-7.258839991144574,-15.773378697287972,-13.566699783322582,6.931490129677965,-8.815509839876444,11.44807138329446,-9.656755274214357,-6.223757133673415,5.239197613556363,2.5385326206754475,-14.985307139337412,5.226202619589031,-0.7739097692717337,12.948235566939548,8.276663403001535,10.437967818069474,7.959864035591183,0.5425113886805654,12.305735124962023,1.9538109953552285,-4.287309679090424,5.936313565989939,-12.167694956533683,-0.5763360603772673,1.9922076218123603,14.767575333158078,-10.423597735610956,-4.6572770104240755,-6.07477219282254,-1.454478202633081,-2.2647571635528174,1.1063435624721767,-4.648074464015811,-1.1098291165736192,0.11428244679049343,7.822363859153372,0.5550770764957812,-2.9649301570969677,-12.222000943896079,6.871480826276181,-4.60282246665452,15.9980859463296,-13.551204448763967,6.791081325532156,5.936631840744383,2.4807251512150885,4.925546575303943,-0.2883919811517302,15.45830120211594,-2.597424445077939,-1.652834327151226,8.966305080695815,-10.502413226429066,-0.8428428658510054,9.084200814360225,11.339510928962241,-3.8525174296163356,-2.7535089870622795,8.718486907848268,-4.3632572595592904,-5.641901198005443,-0.12361432607400456,11.168559601329584,1.3294515985474809,-15.562686275029868,-0.8252448503952253,-5.9576387800405115,-1.4952947746734953,-5.623332019568502,10.780304012073044,4.8695659371606075,16.512949511997142,-3.6834586375711376,-16.515613969913158,-15.007659539693506,-8.78269916920814,6.360798517162039,5.180592563165521,15.569304072417664,-5.069324072262463,8.420681999203204,7.692290953149834,-5.081987153631818,-12.928148066976533,4.317513489439138,-0.18654106384870306,-7.1567468442301685,0.936843162360572,-8.230856434095502,2.0976305446896664,-4.204132815340816,0.06125733759435077,2.7948383074247354,-5.735779861814645,-8.027880367735415,-0.013947847104124361,-6.378618881467723,-16.12800822696359,5.887508351769885,-12.158716978599035,-3.443915660278533,7.241031765238409,-0.7416501944474031,-1.7361600951577691,11.19178346256556,-1.6933537127118314,8.15615784603073,4.849354756438666,10.866469922341873,3.427333232076486,-8.58255001257619,5.319136746931387,-2.7757270225189257,2.1657102244909043,-0.18812751964984992,-0.7834403011365035,-0.3275596026976656,11.272857033366892,10.035352488828435,-16.57373142065594,10.850488835038176,-5.718376460780462,15.484764366201098,5.535081342864579,-16.816952267511816,-6.883274767968351,9.56478200090547,-4.225767633242571,13.965766640922956,-0.030115361634351023,-3.921610333654592,7.294166068003479,3.6129268543719677,1.4161498247562803,-6.433538611651393,-5.674065669964645,6.398028754528675,-3.204586659194548,0.04614312219975694,-4.396725049560898,-16.153194729863376,0.01227962720396779,-14.060009065122513,2.034930906804385,11.047417453776008,13.296580884522498,0.4130057728315678,0.06083572340865371,-3.775014289367852,-9.387601139387943,7.787396519646237,-7.8861048572346135,16.333004681401526,1.1863125858787082,4.215521251557041,8.779966965408862,2.102313369566339,2.475251742229624,5.965172829761125,8.766463980308043,-9.660279879871172,1.3519051256674566,0.6165664391508806,-0.4805156119856405,3.1463821843328423,3.6603206707935745,-2.725674569202028,13.997991288178516,-3.5256055142898117,-15.139746539405673,3.5862970458661145,-3.4557855532755175,0.03035764629329674,-0.7551620566550802,-5.821238582651615,-6.267868014787087,-7.238377759995616,10.191714121055162,13.920868125969935,-6.10640607268663,9.420446690500446,3.1183204441576233,15.493527268094205,8.508256864365782,-4.366727245464083,8.564685928361715,5.170715226652812,-2.259290953290609,6.7232223397643835,6.453093650134441,-4.5502915623001154,-2.73337359884066,3.055807384323172,15.442465156701687,-7.766159613663053,5.724939255966488,-0.23574229309575334,3.461911502112862,8.670603272581156,6.227574463559691,2.574046480961636,-11.195412579810235,16.208707474336183,12.447747756669791,-0.8466119453592488,6.551283450037548,-9.74231298871048,-1.4374427757894805,14.185449604282228,10.073525317826657,-6.138941452476905,-6.869142887579048,4.267141952521478,-6.678186612692025,1.1494537641742217,-3.5588118374555107,2.687475187722728,-14.08192010546096,11.12328790867505,0.13903683750463736,-4.725031773542245,-4.381127229128029,-14.683562801663218,-5.096172619955063,3.597139051243442,-4.286580826716935,-10.631091546609479,-12.626687845476535,-8.588996721094688,6.018647264767809,10.097806525364474,1.6813808423166643,-9.195179053773469,-0.444018045852557,6.175277284482566,8.841541139643814,-2.237914536910977,-8.703762542836873,2.9043796838473868,-3.5219256731699167,14.223406544887354,11.349708817930962,7.206269659382271,-5.433320100682001,4.134212210965137,0.11753813102331252,-15.783967009271977,-10.092886656004353,8.253249726999245,5.083466902235603,-0.7948969911217094,4.105073588677592,-5.708378697302897,-5.3538257781574545,-13.513262309605588,8.145988328134305,-3.6932123900954523,-0.010193229450432625,-9.701703693478995,7.246000778827986,-15.843688926915732,5.4380634089681505,0.47314603704930036,-0.9409599656572156,0.4547587719708544,3.0426164428452283,5.60394901300591,7.173322905208203,1.1983633496414314,7.064627715338686,3.5205007605564904,-14.978239664846377,-1.9866714850176557,-0.2332254782133036,-1.5178401147499045,-7.366326778893556,-6.741119564123906,9.364538082830697,-0.47072580791217733,-8.584363623727455,-1.927338781172006,12.900459718403285,9.933593576431127,-15.282260049736463,-4.294292579079038,1.8096473223999878,1.1831200873688321,-9.205679503849298,-16.922874679668563,-15.528525385771738,-5.343544051652112,-0.7630730805142371,-12.412387037742624,-5.6246087572454435,-17.945299596714236,-4.9818337382194136,-13.54645803573807,-5.841011088417406,1.123470401477094,10.696559935002556,-2.112211909165663,3.864147877009038,1.0592345056649706,-8.821807885118188,2.840618996392446,8.229127908662877,-8.24965427686318,8.017421979087267,4.473721043692589,15.645308688592284,11.134818526571424,6.411702648315086,3.351458308643097,-16.53238249520261,-9.369902234659417,6.372772867545675,11.67560942699615,9.78375481707432,14.90223229539547,13.092480390322148,9.577586324935632,-6.027805060293439,-10.101212650922152,1.0305626224662523,12.177919327607961,-10.510816570035358,8.54532978832825,14.425316097056315,3.4795914146195117,1.136980888300879,16.28263696059765,3.9572762210433674,2.1165377622589046,11.870088654629884,0.08955927077919308,-14.799222024874508,4.552527607747815,5.378597298187346,-7.8664661707844745,-2.944504441920017,5.968938759715149,-5.038132333721508,6.462111183744516,6.721220414327136,-0.3603700853534101,0.5193527093572667,-2.7958507899713116,15.274206779388376,-6.548371922024277,-0.08893730614633698,-2.5306784364013386,-0.3919454238968883,11.35450049904692,-6.718075965008344,-5.908577689906017,-4.643311923390132,-8.48436202910904,4.501766616334869,-13.616094198188822,-8.51117639008901,7.788135458413887,-2.508612048763861,12.050415209014549,-13.524254445046143,-2.105610434099579,0.48113188577774035,-7.396240076516566,-11.11905848133785,8.491042459380386,14.861370266441307,8.941920682510878,11.511354723443544,7.237396282692955,11.21968120574599,-13.443607821119015,0.6218743904129667,10.399676082282971,-2.123954470274085,11.392407178547394,-4.635091569502796,-8.218175288200948,-10.261848978549066,-6.8193187682522405,-12.337105936276187,6.1295111941401155,4.112414347588153,-5.290389277972058,14.56734902568062,3.582371906855066,-5.875616256514982,1.5208015022436179,16.341061211341312,11.465053946649563,7.290574759277749,-1.2731629008100958,2.29596242963164,-9.942281520608383,5.025385742889604,1.8851509146473369,-6.397922878615138,-0.7488020328463624,16.08115770686894,10.363088258808824,-16.699869746797575,-6.000288548750794,-0.0309586943396618,3.6027081474045404,-7.124325399542075,7.7349467425336025,3.5832245780304874,-0.01611345625949525,-9.340402453475134,5.441147460132509,-5.830978789984094,11.963347729390993,-1.4849284397502893,-1.8971152424199182,9.758615037697234,1.9488657998577927,2.1483367004521856,5.875586250608465,5.165447690277697,-8.830392706573654,15.455780044114872,10.189478526234,-2.2152834533880283,-17.014243207324363,-3.919319214678778,11.60304445479458,5.009336172521023,16.13802183865161,1.7661059077212038,-6.758544111624393,-11.295804909752128,-11.456162523171354,-8.4657424201683,7.452329751814749,8.212150709191075,7.356529922246685,-6.005258435129951,-5.450886082831926,2.832449312915092,4.150151938064638,-8.538513449580886,13.428046857392838,-5.683035551819814,-2.35767893276655,-6.084142619642169,12.957600511325717,4.548075424564969,-1.8623161780294522,11.687464255360162,1.0094399225462976,-9.411692325175855,0.5509132444781648,-12.295094857235078,9.613700561412358,1.9218076481103714,1.5296735893075926,-14.093428049163387,13.2257115999018,-3.3033132395911715,7.060985603478852,-15.268298854439394,-6.459875068111789,-13.790347124411278,0.18609372660142487,4.770913318436251,15.817140480767623,8.493950691507502,-5.456343797556332,-3.1854749872824204,6.995187708726653,-0.2790210382339727,-15.483936748320414,11.61522083570172,-9.694348435572326,-5.0338291300356826,3.0842803186610515,6.271091929980739,15.831045234108759,-6.404351003852213,-3.1980488917419905,1.17483953391256,-5.388360481692295,11.3370178553109,-5.0399408810065625,0.013710489294898057,9.991740188556093,9.148054555791187,-5.0897027429658594,11.859117812121607,-15.132333181673438,-2.3407594399504967,-4.556544288980675,6.520643175868501,-2.3298398366257884,-7.917061629514125,9.98776694428085,-5.34936151385239,-1.3871955022616065,9.863832001073666,-5.885875582179971,6.4072100269476735,4.780913385374326,2.381056205230526,-16.75716286973254,-4.003688335401516,-10.361317941996836,5.676832596371766,-10.206282022365496,14.026791594290925,-15.083278231878758,3.1431588222491627,-0.5279166756772656,3.6233807606256794,1.1157163300232116,5.724631778483806,-5.960440974212468,13.382397216173358,6.6557510793065635,-5.671161260896047,11.36670274645693,14.916272614262237,6.968234417038248,2.237823269846991,15.871154957275039,-2.8837613064147147,-3.9999654605875197,1.9077801525261873,2.7702749073355664,-5.8046350099364235,2.5970668539340154,-2.389027881703166,-5.170684777941919,-2.954186132013713,-12.109898220818971,-8.86532402689208,0.5168032124030278,6.201784456910426,-9.848156923911075,-0.3780772971552521,15.551064677836564,0.042279161176072874,-6.459552910206347,11.380235591056435,-14.912373886128178,4.339970806863837,-1.9471879863022579,14.318949218875979,-6.567200325134035,4.992894271365754,-16.25960648313541,6.364887908038599,-14.171677974187416,0.4377301500299057,6.0993989417326135,9.381858872004885,0.019677811444218783,-10.26057818451387,15.881469297623903,-14.900024865899649,0.17959440303208027,-10.777581708181081,5.888738870741925,7.689042370669813,2.4307334401790994,-3.299098544650728,0.5006130451313631,-9.395499084759052,7.769530327380936,8.008598962171998,4.149718446449528,-4.508707246488187,-7.912253115184292,-1.829413393268602,-6.947762328759806,-7.410832051938962,-6.038086811876936,-9.460164167721826,5.60062262383716,8.451259561672142,6.825709651329736,1.4003117103018892,-5.018643879969848,12.276265401090109,1.160948555204298,-9.56021141234086,-4.633500384151976,-1.453089719861948,-13.028333994609865,3.266372897508194,0.2984498584910209,-1.5392115987996038,6.436802521982807,-1.824766405431743,-1.9189098826268605,14.351243995131691,12.083026357397234,16.27878899835162,-2.618688566207004,5.864882274292235,15.164537624353633,-5.703724038863756,-3.7270668300564433,9.04749041614178,5.2229474177077035,2.2958994304592997,1.0239011585005933,-11.10833788279385,1.650583902861249,-10.683816542250117,3.917176704883376,7.311597770516276,6.243926274375144,-1.9750804089890233,5.75755344863232,-0.031857214313680646,3.0894175699276247,3.0427026581182752,7.912079538771493,-16.989634083705077,4.520419729885631,-0.06759717290891352,6.516626152952854,-11.680364986454483,-2.1936983357900073,-0.043704468188996454,-9.986234020112176,-9.340019354160741,0.7311980878251889,1.1837423659616944,5.174982919012109,7.327342269420344,-9.84045473312009,-3.833669747316628,15.851314671440713,12.266873321733067,7.201618279410827,-2.4946827201734716,3.603928314905688,11.359839081318492,16.335022160650812,3.605502798112014,3.0209773974319156,9.355266729921793,-5.525109874721575,1.0758385151819818,8.599381293033364,-8.372624740399633,12.878610712574327,12.073602074264649,-3.188631889714222,0.09621382439926235,-6.7932730042570055,-1.6397296632032858,3.174455335345068,0.9647109259499984,6.617168163241598,11.823160908140109,-10.66369785488182,11.063818729560762,-0.05624027066352045,14.300282507300222,9.506612305501354,9.559316443764653,3.9146803310022533,-3.865629419955661,-6.294067421180126,15.460353355910257,8.342149820052178,11.24991290013634,-7.612067902057258,-9.942526867037724,-5.663236830281217,8.483179233706766,3.6187507266384826,2.972625265208705,-4.148217960138375,11.241508888379531,8.473069050040083,15.71583920343437,-5.119887297754616,-6.728760393347202,5.330600853046171,-2.395177957498092,-4.692897508187035,-6.022146868524444,-0.34509863212846864,7.299931917782765,7.5300318122758725,-5.777902437150442,6.404980998903018,-16.91722770867906,-3.1427875693831386,8.001648278240653,9.63675897186607,-5.426150155640632,-4.5448878692419,16.378327429904555,11.036320513428684,-6.354993466714259,8.792201646672494,6.433655830924878,0.9776347443260945,6.731884371546818,-1.5095350572386823,-0.09672077953360066,-2.1503080421130063,11.832560469490007,4.9682728913722665,0.007538250775042383,4.242536383932029,2.2522905905439807,3.963585502594073,3.6888503890338837,-1.4264966772106165,-15.529972743643949,8.474782900183575,1.8400563551563507,-9.129162011456362,6.394553368976429,-4.837778818362593,3.9725034742454186,-1.4886178654316606,9.342099760207832,13.06920181903275,-3.02962575048935,-2.396057898744734,9.54192129721677,7.3906036857452975,6.8712762471642375,-11.076755477842623,-8.223265410284606,-7.817943190248841,11.57085595076675,-10.218685115181875,15.350106979638255,-13.455853640738873,16.176783948878686,7.764637425948624,-8.557409093763589,-0.5399914721009828,4.940763106118008,2.3518577196029358,0.7025035442886692,-7.2947060371102035,-15.546828423255878,1.0983105515895317,1.6950021126568122,-7.047452082398775,-3.92695952662602,4.152045610027219,-16.098393989197167,-0.35577882969351576,-3.322349176151527,-13.312482018446225,1.8195945711943617,-2.248855737254248,1.421833189476078,6.886077699372125,-12.91051481846002,-16.82538906213605,-5.307750212044761,-5.588484651483235,4.895039979381942,6.040849612836599,-4.674688382828525,-11.298120041725756,-15.33021996198057,-1.0926569238485724,-10.108527646198793,4.380495523592804,1.493474947204699,15.958067268474197,-11.287458511935581,-15.4703005560644,7.924850782730732,-5.587379024758092,5.181763350929129,-0.5066939806255444,4.151366220544424,-10.538042193910309,6.022171180576898,1.3624381190798283,6.050520335999995,-0.34311413696088194,-1.939350859401009,-16.32823976281306,4.674996079657402,-8.265112431288062,4.801939100775848,15.550634265346543,0.05500739211780078,-12.979764677940564,-4.884893220580824,4.8931794587003905,-4.486276672749098,2.274151104215062,-3.0933033061694895,7.0058974264598906,4.4240140721283465,3.9890997491526776,-11.704403781459808,5.554830072898145,-5.810204623195688,-5.428475587902783,-14.03769825592711,1.8300039228010534,-11.600428443236943,-6.041681977193437,-0.35543740358237547,7.293609889102186,-10.221361324766068,0.006517087303685901,-4.538796022595366,4.348762923157634,-3.2694395135243783,-10.609196316500547,-10.199285248635896,-1.021177772423451,0.24771618297220338,-10.629660509167891,-0.4377635846377947,16.858257782237597,13.312290832576148,3.5384631494960983,-4.404662519236983,3.531650624810271,8.54247156780796,5.874138863882382,4.187741034109546,1.1370558327637443,0.5520589320621532,1.0175983851398243,0.49540415947476446,13.210954102779157,-0.048675516165184105,5.3940664384868695,3.7710179953746614,1.2296694233260428,2.3076336072086483,-3.00209099173586,7.357210737514227,11.896484723342404,1.2615276064016934,-4.228211300137058,-1.5542544637324505,15.59532777859396,4.29386411094055,2.4343417979006214,0.3813655836859005,-2.5247635928464756,-0.5275212270683749,8.49367275235865,-2.5211110589608077,2.4649587179113497,6.780525415994657,15.490248920084055,11.665703749333622,-3.09060077268406,14.454598113876637,1.2772299511421046,11.865507088608664,11.340765878676688,-7.983702673565988,1.6478982777946736,0.7124609958782783,-9.67666204453518,-2.3408001637166205,4.042921764411121,-9.39837337534611,-1.9638168595487377,-5.660032981549993,14.584911766062323,1.192509060930234,-9.260697436274492,-14.796286706444397,-15.141409869979089],\"y\":[-5.671931937719508,5.605206782844667,-3.0221564440206823,-5.760782512962454,-15.93400180635534,0.04417985401122591,-9.902355128690317,-7.053459791656729,-4.312831471885981,-5.516436949595441,-12.477782319978662,7.978991325972711,-4.804604117147918,14.617453827477593,5.519490196365058,-5.930174946386246,-6.018961072266778,7.481867779919399,8.056249461668061,-19.72120212276084,-5.965587590346318,-3.139097595292027,14.632693366923482,-2.7289677735599964,-6.248663951416706,-20.551741499358194,-12.27821172309552,-14.721691160664431,8.901187315690258,-1.926603994563274,-7.333006937139014,15.432168443500904,-9.456698393494616,16.968475061147867,13.702496327883638,6.206326394338747,-6.455520809959973,9.136577868615992,6.964449737252978,-2.144669437093811,-16.70869883015388,0.6838598051585608,1.909813990026332,-6.764230208368773,10.307120843302178,10.118598451898698,2.6135568152480277,-0.33940499199421953,-2.271617163980503,-1.5356715895755755,2.2322086040232234,6.73288981911493,16.496979166596667,9.102304647373943,-16.527758150576485,5.7855546501199795,-2.388518338115642,-0.8138601096329501,-6.390048737783136,9.129558086317594,-20.670732616921526,-11.331356275883318,3.322157096161726,-14.72203633619711,6.236077412098437,2.820049081071347,1.6984619987459282,-9.61523495629479,14.835224760001868,-10.21492424367741,6.096670523736007,-4.894715665322222,-16.241334015946805,-12.80336728581103,-12.322553480651887,16.910249055544455,6.445796183393386,12.818879132353455,-20.526892083616648,17.858665121667798,-1.8915034097831676,17.042550129415428,-1.1537499455191573,12.463148774780741,-2.9777645680190674,4.538609458004182,8.181932216611292,-5.5831986416135155,-5.618137567323893,-16.44006097862198,5.072073422873949,-7.6489831983682945,9.688421306475453,-12.818194596118495,-5.399308881331478,-15.448400660280608,-17.82241393852503,-1.5808935606176537,0.33949262851766593,-6.956460269625802,4.207296085082785,-13.326080077217714,8.667142465612187,9.658907890423476,-14.387981816715065,-7.85200914532718,-14.482453664789139,-6.920473209298603,2.6170890403309652,-0.5013522507219481,-7.9727935889821016,7.6315460999589915,-5.547525267320687,-9.54205940637533,-7.8698369659130405,10.53087597753645,-14.990643619511044,7.100885229286836,14.371679533136032,6.026803242493846,-15.658053635783265,-14.061341459121666,-1.6699150930748174,7.779376940154634,-4.759337669599857,13.302727952864954,-15.021268262332134,4.024691401217115,1.4573084120513147,-16.59118916118662,-0.1360044294873494,8.45511117097414,12.679795322157238,-1.067091040838188,16.99982653587854,11.814140054874294,-1.2860355214161252,12.289417960483052,6.415206151631449,-0.5345298230693196,4.270454359243707,-16.76262114937173,17.261594933471567,-8.716394672836694,0.4309851129799429,-14.991137990591731,3.032323313111473,6.845526192294901,-4.573560364985969,-14.700114901697198,-0.37454878171969586,-0.250790809095133,-6.205356693658708,3.1214488473818447,-18.600752943837712,2.909001812209148,-1.6965603152796618,-6.873918531642003,-0.5142189812886102,4.046544549820891,10.16835292527543,-11.8683681689496,7.073492915948885,11.321413219515899,7.632975091188004,1.6204975695641202,-3.1191105562277177,-1.289113641342841,-2.3433821127107874,3.090180261981215,6.539617656376548,1.5088109173632283,-1.9149859756178789,15.679396631735871,1.2440425522975658,2.5459972216860653,-17.953060458683503,16.80346650463248,-14.751621016069373,13.36427008605249,-16.356081596435285,-8.00829349774958,2.731806639158631,-8.959980147163808,2.4422802767013816,13.561458277135415,-18.62064022132445,0.9245737960785431,-13.961118824765105,-5.732902413690701,1.9061439079874047,2.0911506140895386,-15.674537356691966,2.9683550006855,-5.575198746986636,-20.667033585837636,3.070229790982155,2.4296236147519235,14.897042284369826,-18.612546979518314,-18.719854043275422,3.7137236550896247,10.137502530730858,6.810173546876679,-11.571515239051495,13.28145163407419,6.252494476309582,6.767234889609156,16.19110036184699,6.577123250713613,0.7433519332114067,10.326295576108818,8.688818725382296,11.801802150833012,4.535818806177903,5.7538565004569495,-9.176977836201184,-15.254619668141354,13.802443708429829,4.572141153270946,-9.112141103145923,-18.00735648531589,0.9931681481623564,1.2842234259793541,-8.929722215617845,-8.247344753497341,2.8838746454785835,9.952115260808243,-6.011957664484175,6.268515407209449,-8.671508486980283,-6.414623728810532,-3.7862140283030254,-1.8117293892443038,16.781109652637195,-10.934854539518918,1.2427591113855558,13.638944480611064,6.198754820171996,2.740028875110755,1.6586190673936996,-6.019988580075413,10.527739983340776,-13.484732258658626,-0.6753153803621625,-11.933239596084745,-0.9157863622085465,-1.9365909185106391,4.6401723875514165,-2.789606807918907,-8.164445498878814,9.304042195455981,0.37478867345110156,5.256168691509566,7.240562022212233,-5.8364482654439325,0.10086320817821606,-4.943931031007812,-5.305610885385961,5.259808535597116,17.045423445808233,13.555492308545215,7.968597197523323,-2.401585574637002,-3.0253090055877663,-0.648871140328819,-5.553843912845075,1.048077747974801,14.08058248826427,-5.895208079338034,1.373764369198378,0.5745076608188693,-9.85159332374192,-15.546807557827568,-4.652129970283003,-7.3484810392771625,1.3860429588685257,14.891649222648844,-8.505278139773962,8.13619321582697,-5.498268266416268,1.0781956354191604,-18.704515626876905,9.760966233614367,4.363901131370779,8.80321810006294,0.8888641555408682,14.371383785830547,-3.734474852983138,1.205408538668003,10.129394226535881,9.122050509567151,0.6027452685657663,-2.061985225562668,-9.222795904468779,-7.2383965329890705,-20.58346854785383,4.560424598149089,4.542724269340123,17.051318132446468,-5.597099887052426,13.24594988757753,0.28556547083863754,-14.834311565040538,1.0807569180386407,13.565256128130576,-6.817888752102295,-10.61804420424003,-5.441915053500997,-17.162399641755577,8.175573426579396,-4.333844198615461,4.867565776316146,4.04410514332265,0.8362514506672013,-14.520610572440013,12.931972076032965,-4.162071951901962,9.45736668374613,12.234923995660296,13.711446519988437,-9.336364199875543,6.069693758096364,-16.487194166844418,-5.902620423940687,-16.30887431393469,4.592489730290531,-8.219142097739123,8.256485168427846,-9.63384166208567,-5.25621384564216,-9.384778959308703,-6.95754135500278,6.711242041378388,-0.7780338129198813,1.0692811162969607,0.8479743376440557,11.84275525384486,5.979505329072142,1.7621659118813675,13.934899239740611,2.224571564391885,-15.502624492793863,-8.003849054115193,8.210661874817406,14.36044938177706,-17.079350290164182,-20.578019923667703,-6.280629566102669,11.04470956062832,9.372231582905297,-14.096630561232274,-2.513069942692284,-0.49171994550570514,14.515635695739999,-1.2467196503094724,2.4110290985143434,5.734773399403812,13.971303858794682,-1.9081023532559094,-3.7261520291962587,-0.2917302016752651,-12.411524782834935,-3.7259758690553473,-0.79178553333764,5.7478544076779725,4.343171953492356,-1.650836122284079,-15.454587594119337,-16.686484181796494,-5.522122687791473,9.155742190964459,14.870680830656761,-4.316393241711725,0.983478775042312,-9.499142318135323,-6.34712187103789,-14.517708448369863,4.405295529758499,1.56323235420246,5.2094912064296395,0.05449123605455821,-1.6806762121936125,8.867373251263595,-10.684124479860932,-3.2972468903460164,10.941053379133043,0.5408239943419373,6.911133016396574,0.9383982099695904,4.588029606135792,17.110596750257606,16.453518586824423,-11.284508630039861,-8.138408923793028,-16.6857620841444,10.326268149531161,-16.66458855554406,6.093860294208941,8.283364393316305,5.662833220252826,4.39397047957674,9.549621990373156,11.124410005986723,-18.19804563714858,12.523243144672897,1.8264604500365025,-6.114662105053869,-0.4817479663241551,5.0861560915614845,1.7099417915957023,-13.936822296092584,3.0083958397258033,11.819047001122057,-5.600540067182823,-10.599576261699214,13.440949005881931,-7.823432788094842,-8.324883455311657,4.984582105195914,-12.204054179990257,5.266986647083224,-5.85754891132933,-5.780969387477195,4.433374809719131,5.672897421934769,-15.159105921223004,10.228576406562516,-0.9469247683390655,7.1881330585732535,-3.8540723034025492,-12.497858346646893,17.753713232691304,-4.177605715405224,0.7437932498444647,11.20353921110112,-8.006050207711409,15.122240916637764,-6.398362786554855,2.2798565275221887,-9.530350846786677,-5.616678225097947,9.510084191229629,12.402099526494807,-6.881170729973057,17.586506608729557,-0.5248587116983854,-4.920552093300688,14.83420482972556,2.452463993279611,-18.36908483822355,-15.904542011102025,15.852320573711248,6.1876326950341465,6.2308893195756685,-5.393743012851762,6.6374567798925925,-2.7463452991061517,6.6024165328592845,-17.759202214051236,-1.4397812005458521,-6.140210185748914,16.363168786552276,-15.288373292999614,-12.67606241254599,-14.42522713191968,9.116217976319376,12.572264562707774,8.40274073850457,-13.502705709601218,-10.19095958014886,-14.588350388963832,-0.3839332913353904,-7.079867187633229,14.478449379417016,9.439697530989719,12.244178010502127,-6.463940374895113,-10.976332524165741,1.6314719568108977,14.451416732943727,9.57394435066433,9.476000817221554,1.4498119141756338,-17.762445515246057,1.3779329039106718,10.373405859128386,2.0921541394004692,1.253075965319896,-15.152959923604229,0.45677266937502414,6.547376636703348,6.7697639862455,-12.409370254236327,-16.04116932720165,-20.191061581094157,12.471626839883546,6.542725722567148,-16.538171391478617,-1.5493724372464674,-7.938129917041006,-0.6356489578945447,11.349998866658517,-17.384405212609447,-11.595399897418142,3.227143891885783,-10.40516579038149,8.862286727322314,0.5810731761336566,8.903689541033033,16.918244994725733,-3.88804574444953,11.473644503980825,6.513844166232831,-17.53725523828667,9.50909589508824,3.9283410074440326,-3.54001229839766,-12.047228639103071,14.468555144134866,-3.2109762341992028,-4.099433948012815,0.8241138001272669,-9.924825549788334,8.867545744168236,-5.433957819115589,-0.10550140976963142,16.817134852756837,-0.7047525045590275,1.1335400273001712,-14.551420835338153,4.72160854612876,7.160893660112743,-20.61430612290744,2.3974403606382433,-2.830380886873158,-4.623665883932653,4.490871084463292,-6.105959945215115,15.666258210409868,16.435869844771204,1.7153104678066382,9.486096160270195,3.0258852371193963,9.680407212933867,-8.886035550812029,-0.576861555634049,13.483832019038104,-4.644631426485249,-15.020732693671569,0.6440528757114885,-18.723055487424112,9.88362625206603,10.498930909360228,8.847383297631335,8.821875185478248,-15.273057370072616,8.554777300549139,-1.5333407014786686,2.497563885563366,-2.1300572656943673,-4.22982636915595,-3.7199818698223908,9.322549529033534,-19.897063132831153,-4.183284326746615,4.232494592645671,11.167638142879365,9.107913851426321,8.587491451651236,13.292203444696025,-6.2029379510642535,10.335884860032401,-5.441498125590433,4.03510277971503,-8.18235766432454,-2.819916162368204,10.994028037603275,5.717766375664049,-2.5431730202229543,-16.87581016731896,11.832802153810515,-17.076407258533735,-8.312130432442776,-16.90251066601694,-0.11734673747296838,-14.240633723657956,-3.548034178170374,1.9058594711222103,10.14633620884605,7.054380955424814,9.865679564603337,-4.615777770821489,6.805005673743163,-5.76083476512471,5.747515388704724,-10.197536393120268,8.44703108940872,15.612068232434993,-7.709711337202269,-9.545248959470472,1.1846625616956261,-0.7724706198484177,-3.129747519099468,-0.6212992805533357,-10.254063582961189,1.196651413273269,2.9273931174871115,2.5554159744295646,5.613877508326445,5.977760954317707,-7.304091226193823,-3.145481499117121,-12.300796374245637,-2.7001932673783866,-5.129551943041956,5.308791921791208,4.515980383677808,10.44462860317195,-4.487473448395856,1.5609493502563814,-1.2567864424459094,-1.4403971415112353,-6.051330508268162,0.4097812209976929,-5.803829004169986,1.6846488308374472,5.821045137313443,3.5467400053477487,9.35814172381714,2.706619442021625,8.476767665508207,12.887445290915762,10.086973049679612,9.80071601804994,-6.343723595340269,8.85318605643158,10.393485500811275,-7.701286167754509,-6.128207122524798,-0.7702262100654408,-7.982980934615817,0.5662889913823449,-1.656720349815382,-12.202369280113391,6.120235079666896,6.039736229021352,9.570092252870092,-14.225481714039066,-10.476683319242934,-4.491834046170337,2.828192013530409,-15.948076080976422,9.476139877802824,2.593262683461846,-14.483961591779476,5.803508661781908,1.2253780436109964,-15.228991556885497,-19.73588081174422,4.594419969199708,-3.6402504813782395,0.11878699468480061,13.490507912405707,8.300493519821009,-1.499618065254984,-4.022410251317272,-15.949290327067272,-12.13268942889705,-6.1207536715865185,-14.696755022695019,2.0378218848380913,-3.6989333273292995,-1.669048101639496,-12.420044664960548,-10.967519044706409,1.2456636136659252,3.4188561335362913,-12.237898692561549,-3.8986028741688368,-4.090988423404044,-15.509234027252681,10.67496196094028,9.529846709510046,-3.2347059483589673,-15.31166240923497,-3.835997543203613,13.29201254673716,13.980433859939154,-6.656803759052825,-9.075776424557377,1.755143501734829,10.391066386852126,-10.529532308333563,6.279901957526952,-17.979266651956557,7.377267289815143,-5.782670335907448,12.180295560294192,-11.929932976436758,2.1430117765120458,-13.78242439828924,-3.8949972378537607,-7.569496620384175,-3.243725182250339,-14.797126752830875,5.104012985967358,9.7954556226888,-9.271969673460594,-2.356779866868523,2.6508882314620426,-0.00823009990567248,-7.335439283852423,-3.7819689322175436,-7.251494992489204,1.7364591245165075,-17.52353378286645,-12.134035261803113,1.4585060999325756,6.691259097690698,-1.2107524466067308,-5.308888544143763,13.817251261348463,7.122606062161886,-7.035881676744511,-6.657941802342748,-16.563252570467057,0.5848224257628214,8.973284796293527,-4.108581979313671,6.691531782890597,1.3167376591137867,1.8513579374014297,-12.622549845419584,0.25648268423202364,17.061610414351712,-7.873189889470232,-7.545362024592191,-11.755980950138703,8.864674137160582,-20.542744913895568,-5.624788874497878,-1.4050232979532482,8.728852420642815,10.503728610012548,4.750651843013288,-9.066484075724059,-5.411568801580335,-9.78712676365854,-8.354179833068622,7.9888340796119275,-1.4487379792260582,-2.7588954562577217,9.322849944743961,-11.85881572334937,3.1010303781366044,0.8111816182098629,13.519769203545314,5.132976278188349,-3.417452813607593,0.5319658702953033,-4.400995119221745,7.361739909979838,12.13408676068822,8.094937265235275,16.89127501561316,2.258103149382152,-4.094122501336333,4.779454546517071,-9.31779358278495,9.39199710751358,-0.7849249661380729,0.7106966534790979,9.00865099261496,-8.110916332781798,-1.6952629483591093,1.8294583742999573,-7.998724127859432,1.614012630752465,-15.42230611339637,-8.0166487825338,15.951328644912335,3.4503847015393148,-16.44523766327633,-0.4182249444543725,-5.544814928166202,-6.163022874916451,-15.682539737983776,7.607794010915234,6.929117309645332,10.241163245050215,3.045676311041039,-10.55639973380945,2.0010847714962288,3.3888957664810833,-3.4612402490211434,-4.768879472680476,7.980354630005807,9.622021306028028,-9.184816427129054,-19.866101365156144,-2.9327692304656736,4.471034433067337,10.705332363154614,-17.821999917014267,1.0148837859667506,0.8139534752428831,2.151817862895802,3.172004295234959,-6.225774973125192,5.902729280479759,8.71276651228943,15.581074943477372,6.069478561936788,-2.3452858244381485,8.981871047960329,-7.674917633519542,-11.841574975996439,2.0168596648352533,-16.814474211223725,4.747730510945799,-17.210935417580806,11.75755254525258,-2.1354601304845624,0.2787757132631349,-0.2399435385751718,-15.088803271208295,-13.414502184363194,-5.295440448568643,-0.06652461702163048,8.89934833099641,10.328097594355262,10.129974250730145,-7.116950404581081,1.5887046388025856,-7.669155446685381,-12.924736771124774,-4.550798977044972,5.379351128448758,-2.219388957848816,4.000411986491769,-2.1249183052269585,-17.146518846514002,2.6696917887377114,-5.94424338921188,-1.8000137022028604,8.571712987148288,-4.64005237579449,-14.38293763069442,1.6586245959188037,13.702931019190487,1.87210226275128,4.8883856487919655,-14.90773325417781,5.181893723498673,-1.2196465455347032,-14.13298836654765,2.4732890264109693,4.690113232958515,3.155363726559996,17.058240290440775,-2.669237144481855,5.057261389255669,-1.0204528320460835,-5.55417892971848,-8.228130026146758,0.8798636109272223,4.407744711078643,-5.104342759494355,-10.898429104720423,8.759183728820025,3.933964165102016,-14.580153756270477,8.838945198648082,-8.391523366582383,9.716383130607957,11.310202834287704,-9.191237312166072,-3.116646518146688,-20.507961087568976,6.418093384821774,-1.9746544120079572,8.183516357854906,-20.628712190817602,6.715525491386211,-9.1312957373496,1.1867011900453996,5.905525674172982,-14.366429620350578,-9.116376373143815,2.305631187442407,-16.60942686025823,1.8896482218042583,0.8073493305364146,-0.12708339167161944,-5.977099977643399,1.9242886055333457,4.001523736164139,4.788425789370878,-3.8738917195923546,5.309911884782546,7.040298566304748,-9.984538797238121,-6.9815060589783755,-17.991897342214987,-5.207918708601229,3.1687775076836195,0.09903541046002443,12.422958050729804,-3.514434657062206,-3.9251514917370804,17.01553416406566,0.4732558140677589,0.1557734947165654,12.456790171698321,2.142006084350922,-9.601860860537844,-13.129507967158386,1.9136511174496647,-15.003360125095075,1.3923201334797262,-17.94989285711507,-9.66490367803063,-14.03475655338216,1.672504757668105,-2.189130848900595,-3.7988082463317743,-12.349906817525643,13.884999394750063,-15.463838666573745,3.194266912774082,17.600283909251473,-20.51937155599143,-15.262870893767284,10.372261010864666,-11.79657630448406,-19.71153318429035,13.436266538933555,-18.686448868023042,5.121074610584307,-5.880043942292919,-19.855880122727598,-7.586333872642878,3.495624574268446,0.1570661863907338,-18.762909858653348,-2.381414996175336,3.8560362324175244,2.9005582606910174,-2.702311680508268,-14.431885396288429,0.7981507164900169,-6.103040451658504,-1.9642839593231838,14.48285014694111,3.99911447869263,-3.409382595513084,-1.5974013865414252,-11.683300485375511,-16.612816365380322,3.1894467987183375,4.497314678980619,-9.0956374284188,-16.95747145532204,12.798062082699962,-10.273699355607397,-2.6015104764760215,-11.515205477236023,-6.635284406014877,6.011751189725651,-7.3447554075028245,8.097021727081176,-3.119847670108601,12.082249553145354,-1.8224228407054017,11.914296854284444,-0.2089381805143369,-12.771018804143788,2.5432160832647557,-9.529659916188152,10.476079289001447,10.555084991737488,-4.441300149247579,-1.9536984071120205,-0.2710493208297013,-16.12325359340165,5.782845108551769,-2.3801711966115158,14.298497227123134,18.53419795362776,11.851269299559215,-0.26226470277062164,-7.888312316222902,1.1180917772377534,2.4855449046443048,10.798284543606574,-5.967778216423144,-4.277843426784206,-0.2166954014718283,-8.292066064885192,-8.605465695253057,1.4716362099900118,1.8255898131822426,-8.985924773520471,-6.2041391675677025,-12.343896821307048,2.2223537545316083,-5.009073649549374,14.716329223051812,0.16554664303710742,-14.962338130374505,1.958351485346849,-18.666106350372864,1.5833805298741304,12.608988327966703,9.24363142217372,9.213328588417285,-5.113629217901502,-9.304047576675238,2.890362011420051,1.848775527696394,-0.6568365981419401,-14.718922078515611,2.089221608587146,2.832241575189699,1.3507415765817101,-7.710269688560813,-5.243358734345894,6.146096145724015,-6.66433090760567,8.414395372162012,-5.521058509839779,-7.4827265009971855,-8.317400697412141,12.195422466455426,0.5458897628085834,-7.566306889060958,-20.593540572852284,-14.191181473207202,-12.934795399491172,-17.168527863079348,-1.823722004919698,4.014300718459096,3.062780561656693,10.80255997566415,-1.0095368217929572,-14.670175378800996,-9.662950336130445,8.718996886894253,-12.952949497092819,11.334460047018576,2.3649215933970025,9.600878073487824,6.548684324424324,3.177531521426176,-14.61870793857876,3.6258964216727008,15.482584122975428,9.199914958191457,-8.804411255223226,13.593540036404821,14.707109239610036,0.30607812176599974,10.259357342485318,-2.392840282561048,11.187950075502176,-5.7837118188321766,9.11368828929936,-12.418302270971836,-6.164111928326349,8.148367659679698,-8.276520772255148,6.022456037284593,3.785686692603922,0.769414903648592,3.064516899588393,-5.849041696910057,-2.796204791473825,14.000110942552226,-15.942053203925152,-5.167765006753057,11.401504484156225,4.347082194353865,4.035015205973252,0.3856179133824834,-10.550761462370888,16.470482754573524,14.670161770837426,8.63235458440631,-0.41090074603008514,-9.709538162368819,-1.3286442647726713,-4.377151201801704,14.41739693541438,-7.08023494889725,0.5963398867467293,0.14757446509160946,14.846440485608587,2.21452131520792,16.62095291625378,-14.104233421797533,-1.9108326067446264,0.7601173957582246,0.6659513335922382,-0.9940512341209347,8.537901511400873,7.455793452802309,-9.177243234331138,-7.7448591657758765,4.512681948602502,13.85586843758532,8.181797941990725,0.39423597357794,-3.7448567477586634,-6.4012651262549065,-16.396355378018924,13.822084157104362,4.415491280012256,-14.389793442096948,-12.174155792550595,12.861713329162168,2.6087793587125505,-12.096580816188336,11.187333434202746,1.0884585412642922,3.8170377341185158,-3.8385911471060434,1.5823773731074644,-14.025676883548167,4.114051549378057,-5.653845250817847,13.672351854899762,1.6678331401682234,2.8990906130101046,-14.766819320583247,-14.107904216380906,3.726945826362437,-17.729912584096265,-6.501673949305485,2.2467669621530515,-20.59132186528637,-17.889748193529137,-4.881579325632164,-6.273586277685205,8.723184353070659,-12.010577429648206,2.5451220037692446,-2.3201589785003285,1.6258858667464076,-8.493196221130077,2.301267129870865,4.987707355274768,6.63152969414241,-12.015966814413224,9.2717222819628,-1.1711716134288823,-20.534198585010504,2.717139835947107,12.166256269733083,0.8949419378950727,-16.326147160070335,-3.6986869733697274,10.858912454842967,-0.0006180212282630329,-8.12637688055777,3.8791719209779827,-0.6733050907451947,-6.800696431461629,-6.310708155378968,7.859041489396779,2.474906282696739,4.744905352366867,-14.033604368168765,0.5950382974626235,12.45295329132576,0.8607264946256081,-2.4087373245726074,8.60598524877982,14.88617519162511,-1.6516241478102962,7.025782875490621,-9.153924098613652,3.3095416787784573,5.349313528397801,-0.3034100559779911,1.2372310890808542,11.830186765911602,-4.38389734140176,2.0613693084790925,-6.251191555491155,-1.8813612428718252,5.8048512820123195,-13.962555460414329,12.585562061596436,-2.686210175281779,-8.145278345750885,9.704256695756607,-2.4621329235065876,-9.505370789218542,5.84069949864286,5.856775113171583,-9.66317685257049,-9.365335489274484,-3.8635627295650146,-12.248301305442364,-4.025252615082189,-12.912271626553503,0.457178052443252,16.944183217882813,-7.6243920042546796,3.532768291974601,-8.135608495638044,-18.795911773988607,-4.577379707359601,9.813288865468397,1.834305680312429,1.199641672382369,8.608043140976616,-7.319358405436316,12.244654720068239,-9.59916664999733,-11.790256438456487,14.848562405706657,-17.76822590144396,-4.226994108415634,-5.4335866025088695,-18.61448027985814,3.5622321560145846,-9.588422721753082,10.69160729918391,-1.9698129074717148,2.551844124737919,-20.537829243216112,-18.780624330819773,-8.661204866432913,6.784768760426071,-12.931798801734656,3.1052298014596924,-10.71709275978006,-16.336951938866953,-5.7997713235535775,-1.7227981591561297,-16.43677256520799,1.973761823549311,-11.228851499803618,12.162979794303734,11.70532988337689,-4.109111893685712,3.9033122940999383,13.69663819892215,-1.2441439592443897,5.764069084136435,-11.778754001930396,-2.3789244355028902,-10.467657281242488,1.1561074685933086,2.9850680066338486,-20.06287305097587,11.213387700336142,3.7059467297968376,4.143421925984615,10.398754526450848,12.482928164470628,-9.5931534069322,4.574579409870593,-12.020778805463664,6.59257392709253,-8.064488372442682,-17.825365713764217,5.918115130247039,-12.221800923750891,4.506005520676194,18.266867810445884,17.64341948241903,14.688526056792563,-5.744397975735594,-2.3992497001635664,6.8010329873038655,12.531903548584996,-13.824342575422746,-8.163925114954464,10.531791927304901,-8.198582106106686,-6.817334612060751,-5.994745611218233,-5.4054577604534275,-10.535392382402772,5.64941600671397,0.11147705331338385,-5.126060068356236,-0.5199619427271414,-1.3127108422126976,-0.4255866217752899,-17.95632700395935,-12.423239006582406,-13.302053423627518,-1.9123899683464507,-9.83730261154769,17.806417785581115,-17.115444877285235,-8.076773942890398,-9.825394227828545,0.9605242296559034,-6.3870495393857505,-2.7500116646073147,-7.794507151303712,-17.833198933230086,1.3700240666380987,12.082144102990993,14.345407520204256,-3.7022665987770638,2.3995894210047957,-1.1547329241489266,13.099962755356515,-6.349412057096974,0.8286364976834216,16.631941559310565,1.470023109546765,-9.43890930419475,-9.108493747707314,6.728432691860119,-1.6819560914669769,18.670732592215817,-14.536446896788455,10.4118842557333,9.761899946836305,-1.7776929858476378,-3.9640552118261336,-7.584682023972584,-3.269150210983265,-2.509996459967095,-10.851428891471397,4.490206971089225,0.8843620143155284,-15.104475649810206,16.928135318006355,1.6724104919685432,3.5531627949113513,0.19677473734829562,-5.60293746951815,-3.1199541935371817,-5.691549787779255,-14.504369733049872,9.101267792753033,-7.791016781848178,-10.963105249429422,-7.006447668910305,-12.802487482326837,-14.152594947139802,-0.8572306901736773,-8.13953348491446,10.271729983550427,-20.658626245921656,8.14091226590235,4.068545595048381,-12.409724872628512,4.5081137784900704,10.278903322193873,-6.519674493874145,-1.8607661989425381,-10.608170272883996,-12.692542700113421,-6.3266665986277655,-1.7480727327609358,8.035593199995239,-0.3514731778946344,6.825197899518262,2.195714550914464,7.0176195181731185,-10.812158241324218,-17.25493657942739,-1.6668172390638543,-7.511407196299881,1.2587509329256774,5.604447760259647,-2.8686285546212744,-0.42176757786495395,0.7240835091316317,-14.33195245706246,8.437085622838884,-20.567513656800024,8.585990977929036,-3.3271865076465876,-5.255538377853776,-0.0683756681855551,-15.905152396423627,-6.778572580785478,0.2427215810358805,3.835235390594819,-6.168089823833974,-9.829363113892596,8.83285227249504,-3.6468206602725166,1.6215620969412132,13.083687304890512,14.881590811956727,-15.909440250274145,0.7042283157116557,-3.849274235658634,-10.234128038522435,-12.133060610761385,17.013607197122596,-5.414921420233431,-14.192573335618304,-4.049302979982587,3.0984238699092246,-9.137972764812597,6.802689215020213,-3.1072576658509687,5.251378049444763,5.9873978083129265,3.6182522600150433,5.089273036345652,16.895923036735955,2.301379835034163,2.1023405740097605,1.3558700365262266,-12.363763396035582,9.329835389953494,-4.593380952930041,4.948674692069059,6.541242873657435,-10.26775363366222,6.595658310176203,3.0045264530060605,-5.11790439887907,-8.273346855154143,0.8040577046497512,14.584755839767215,-6.702689409343163,-10.262124193148427,-13.99481856122508,10.620900599119263,-5.550064776578065,-5.4364902050204895,0.08490453658793341,-0.4393060002201587,-17.33722006312733,-13.468743173010703,-9.641674348125289,-8.395874966377637,6.419039149684891,-10.653496462650493,-12.051666237177063,2.481953450285116,-1.5291980851695643,-10.764841296594154,9.187457299354783,-15.719615467426799,-8.448270605491878,-6.278926448118378,2.8738074287284627,-6.243513604362354,1.1004552566260204,8.199568817680618,-3.660765038428363,15.49329367582583,-6.774477095058558,-1.6066229829368408,-1.6419287389678423,10.509764154023635,4.56679134368512,-6.430603462121233,18.096562306648064,-10.922813088627455,-20.66752158123929,12.079830079974737,-7.985581827884127,0.1930105028660497,3.759291882159523,-13.455572177835384,12.90209769801714,-15.376437787447191,-14.037643290123208,-14.196768684062437,1.3994065333805283,-0.443918490998529,9.341665235594245,0.40146575548492025,-4.006385300733592,-4.884083912388514,-4.637978606745765,-7.7093552341632705,6.341601462616836,-15.474313860806044,-5.733107445089167,12.564907965553695,14.025387491201739,1.440824810272794,10.073801131026464,-13.702945910969037,-20.62219666474503,6.963080873569214,7.994370851872006,2.4802581851089123,1.9100825996079027,-4.0676475555585485,10.908420518975879,-2.174665631672041,-17.844491076763394,-17.846250853058322,-2.8434849049289412,5.868901523803552,0.8196539436681717,14.827566215752457,-8.8641998589285,-2.7769578305692266,3.8044998850825813,6.1532188736969164,-5.048750273110533,-1.476492530868289,-20.578976344747456,2.3680060686046507,-6.761186194801025,-0.3024761486153148,-14.384586569685895,7.251352849614031,6.266598438923073,13.376273869018686,6.437727739017335,-1.583774637156432,8.808354395964143,-10.999407521001809,6.679506585985587,9.98423803439524,15.068198526159094,9.106565104688132,4.722637895053836,-16.575520246915005,-8.326874467304975,-14.95795426437783,5.403876089402661,-18.12033197089863,11.370943481052443,12.186987171412088,18.18171519082354,14.412846937176964,9.719205918960022,13.628523968161488,9.549486440052664,10.485797907246809,2.1835799049853124,-14.394164076524905,1.5459490414184422,0.018059077665262505,8.5736016795507,-5.923104515140103,10.803609686809718,0.5272403675491123,10.25935733925221,-0.6881618524534079,16.88571514671098,12.738786750681163,-8.270990594096517,-16.05534754691581,-0.9768643895979827,-2.0044365498091117,9.675047062432263,1.0268340701194123,-3.8700132065065,14.40038611106091,13.895352940315735,4.607067545261523,-2.169528179695,-4.731500563252432,2.946830849735367,13.67015670218062,0.5413017244307652,-9.690464109688856,-1.8550730851492008,-7.064661857884632,-3.4474850401399366,-4.255804011754584,2.5847800682166104,-13.744908240310163,11.229671653681637,2.262520116018057,-8.257555088816908,4.536283677272369,2.4230113935107838,-6.996741956468929,-20.633623503434936,-2.876558110799858,0.03778309064992231,0.03114442806431688,-4.835890873936301,-5.7744570000603686,-2.3042110418139434,13.766791374025086,-7.572103936485076,13.515566314645586,3.075742604895825,-9.218386658369745,-5.724128829455929,-8.254566004377148,15.151880011454015,-20.582189041010594,6.892559349221671,-4.37965324026849,6.593600532689877,10.450381065017494,4.610470007643492,-2.358006617409224,-16.264928892007177,-9.509465402495481,1.9421244115441223,-0.9481184617980724,-12.953971680977979,-8.068862977521029,-12.575509094286854,1.0335390125235417,-4.321670551239774,-17.82072422644583,3.152329090673971,7.86370416982651,-9.613324484090196,0.5258634907974645,0.24220840922207887,4.29426552541771,-3.834274393380864,-0.023157540908359423,6.5087505525756235,5.798599963460375,-5.424844332418718,-3.861795067928272,10.83165139733157,5.087170883391767,-6.711975985824291,-12.927192353444372,6.315039549445217,-10.917464492776535,4.532218572847911,-3.69064945098742,18.62300099601487,0.8753876781817543,-6.533508689641583,0.09212498301315178,0.9613084431204183,5.803251980909125,-1.9002977677547763,-7.458529795471771,1.0942305127506784,-2.3833949570808723,2.9402370082456506,-4.005430003104816,5.248721941215614,10.051696504167948,-1.562384615144392,-5.542276164348717,-5.913267182716998,-6.488158937534211,2.37227767829614,9.169698164376488,-6.697326489795634,4.237699614848008,13.665549754291856,-13.043106395521422,-10.39567785587707,-1.5335863129247351,0.23353643995213683,-8.322137624567043,16.576613555486986,-9.43021497061789,-15.474730059766758,-0.9890517345484121,-6.5831314573734065,0.8763839939339789,13.77955608039062,-1.6238780479707546,3.7968540948653424,10.549963116302854,8.697892073912422,-0.9213092419270911,0.5644420151732231,-8.255448874456157,-1.2356509983306532,9.702372625509854,1.9842745731785576,1.5524678363191502,12.4306364877239,-1.6242133834107715,3.030517997880895,-17.228231229818444,-1.6388040543700346,-20.54492367036672,8.738503461616894,14.776273930611334,1.657013413121025,-0.3824876683934193,-12.33488306307256,-0.17680346966210217,-17.69970646436315,-7.922002747299137,-1.857033157162088,-0.1328438372883635,-0.35265347707301725,-8.909621620346927,-0.8792721579825423,-7.538521262216329,5.805730981545263,-17.03341169645001,-19.98087860778367,17.469570103873092,-5.835171222118903,13.623142890115082,-3.07951672523036,8.36707407417922,10.277067424685708,-4.107967016935497,11.651735717435598,-0.6322892434436406,14.076647693773305,16.880582045426152,-10.210540821533389,16.72113464790961,-17.874718413291497,13.54881322475534,13.527610800202519,1.6169414026266171,3.6604077519710976,6.605675935950526,14.671098441035978,-5.290879023869995,11.989564639261015,0.6207174337594007,-14.550346911762574,-8.594484977245687,-0.2924833673114825,11.9377578581798,12.971907166596258,13.728137161416445,-20.043019435710217,8.787522983142715,13.602099662333874,-0.6969135551851783,-8.335201135780768,9.257647830455692,-16.95187909224464,15.133961918480686,1.6111015354113625,-0.7353491406571565,-17.71499500875839,-6.571320175999844,-3.8568190717123225,1.4105619868087047,3.1603413441409645,13.559371710165834,0.3697140176641569,-17.06832130961793,-3.8652462235704244,-1.6579652715435615,7.707135080893183,-1.8074446076767212,2.4810693818852485,5.0798363716856905,2.680646418393611,-5.862324077110627,1.589459251115545,6.493430186602012,-3.059448486577153,-5.219934088695194,4.653135646089544,-0.612895397936318,1.6437788290266704,-12.973632471680471,-10.709449590092552,1.468903366160553,10.455172824743036,-18.72679861035845,-1.1533177882139825,0.16742385487704817,3.3197791500796807,-11.175222208706101,-4.822581727752969,-2.2435429777174756,0.6973924313139541,10.428621900895164,-12.304857762259134,11.72419182274218,-14.217294765277291,8.336704872216467,-12.954275400113326,-5.562274259100718,1.224670966285943,-18.485706731775863,-3.1303072974168686,-4.710549949563439,-5.946674180168552,5.61995848507563,3.6760370029435783,-7.406834536056462,-5.49847117143071,0.38889986891625367,-4.393602075345454,-5.173289303071626,6.428424425013769,13.199953449843633,7.87248637774542,-3.220999857389689,-13.94977488416035,-12.330681300621075,6.547807926395435,9.039499907767599,13.434790068495316,-6.9820990629041315,-7.3430701538747485,9.488535011262185,16.488278008560375,3.439134299890979,2.6312990539381578,-14.547587363853193,7.9747341918170855,-20.53930053023033,-17.511636959953606,-8.018820170764224,-1.3700472169902915,4.064914992123034,-6.59458641956215,-9.278183151108776,12.108160739451291,-5.630626203054506,1.546090561615608,7.368028687445717,-3.7707241498871134,-10.760498675494114,0.12066868831675866,1.9085980407806709,-6.721005949226406,4.698344492450268,-15.5475601875516,3.7718577790697654,4.643336174269914,0.2577587228715569,1.7844559568043639,11.764874086075878,5.041767405166398,-0.7099724852939349,-9.48738731987198,-6.092983864975247,-7.734143907327012,-0.4291174184477555,6.87863689403565,-20.042062755340414,12.694497165485787,-15.024454010616171,-14.359289065641583,4.407479514450205,15.851825840343675,9.842570984844839,10.026196870003414,-4.898275174892078,-13.710115572150645,9.548114538181487,-8.354629189835364,-2.381318557795832,-14.751939320387368,-0.8221253354576894,-9.49262154062884,-5.556788376252836,-20.71836418934012,-0.889789515192742,-20.08241758671346,6.14077020027608,-8.717635760005278,16.46667751402817,-9.023036612443528,-15.403878780557884,-20.122050725022863,-10.979373959575835,-8.145248009514898,11.82329410578322,-3.1435658577548584,-5.791984638198941,-10.643213236344803,14.254155197275042,10.470274001261782,-17.56700836919799,-2.712671231973978,13.693156655575985,10.267805576140326,-1.5316247502317482,10.696332560483599,2.558693698711806,-6.348914042397104,-7.13452041163862,8.70528708311765,-10.961233941066082,6.002605467483711,0.5721094745238409,-4.984600866166941,-1.6303362984045857,-0.0691716251526895,-4.50760100950522,-17.517410430894877,1.1121176887959872,14.359748977476412,-2.40202044476284,-1.904722931326542,1.9790676800190068,-9.3438146473501,17.04475132018259,-8.20865896639128,-10.958471530551957,-1.2695747530789054,8.621247841454618,5.4090262045787,-15.275551653551622,0.6988158018991456,-8.475775233292786,-4.940744048829438,-4.06774032438136,5.727358519240197,-1.655263878212298,0.016218990881679513,9.381716110130327,9.665234089885299,-0.21040889148354464,-3.3096371865478207,0.07628600230450916,1.9486290305166958,-8.070574416630572,2.9334704098564486,-1.084690929352158,-7.795922200562047,13.230992233238675,1.8455001124499897,-3.2635492314508405,3.4364766972616216,9.686559252824818,-9.921052716876785,-1.1458096877063733,-10.911827775123184,4.352675433017354,13.329620890742483,12.616519511613783,-1.2217155580099874,6.7164994738032355,12.164695267240518,-0.002982176618138382,8.926323022986606,-14.295378256249474,-16.907315501235487,-7.299518194765696,-16.353056265759797,0.5148303156509859,-5.7624482716172745,-7.321355503531483,-0.04425056486376514,-2.3976159726281017,-17.687539240867427,-10.659230741501286,12.170180201953293,13.628801743881862,14.898861606557075,-6.009233689432417,-14.779436638705983,-4.434514446190339,-15.113027171501052,-0.09554717761282092,-0.48538303363412977,4.778244748171598,-10.743806729668112,6.985606404109897,-2.4794706221285407,-9.783463935666296,-5.86211293239864,-14.120214034009123,8.402609725329068,3.8965752477312727,3.0645255899047354,-2.885425637169239,13.575671554520175,-20.049440109209733,-9.676389654674685,-2.4863869930689084,-6.218011716540128,-4.526739096319534,-11.769014415075565,13.631353287842717,-7.677892425422124,-15.265836550053427,-7.476925771322719,12.135660209839308,5.634597694015422,10.43626704503641,-7.740401732182546,-1.8686098759699037,-0.8093984999561714,0.17325546178362897,-1.907287127186065,13.81760625564449,-1.7776282255639952,-14.699305351151363,-19.999230493573943,12.679082794143802,3.9892251254605195,2.15659670949832,12.908903326650883,-3.8756623975203257,-0.4738205233859725,-5.081222416741195,0.2511769488168215,-9.269302403781113,0.4554558138541532,2.719640517442533,-17.729166429823835,-10.777936179677742,1.1400620432200492,-15.88634201523983,-10.998147041301008,1.6238071349724617,-4.6612065412728025,12.438007109744216,-17.26572835421261,13.409144500557739,-3.779314901499294,12.975629216417195,-9.34463198245687,-10.152417839068933,-12.340081659661484,-20.62735305026889,-4.739690461463902,4.926224627892658,-4.914260892025566,1.774764079116815,17.03269873038742,1.2679765350950059,13.729378926922665,13.551874848268936,13.080857372178306,9.100752938500817,-3.795009635107682,-12.127565672501266,7.1175306171580734,7.750169261418621,-0.5923179184927961,-12.847731164029256,-1.64270541891966,2.2616388177202675,-8.498029652174063,14.52257730404386,5.649481478580397,-6.752181812797971,-0.6548643973361418,1.3256162738710875,1.954855885917864,11.714705751729918,1.2514766250178946,3.0752487702273825,-8.317768635445937,12.996594057868343,13.510851498077033,-10.87399750933172,-3.4054617775921687,16.938450372900547,5.710620448803088,5.620073913026023,16.253817534722067,8.868478521273651,-6.60630074083738,11.332521488684444,-6.356007567104861,-16.00490672772079,-3.518376835256011,-18.171628659100687,-0.1160930792684172,-17.66693570574543,8.97881523045049,0.2947811517055801,-1.3793564444776976,14.550942182723045,-6.274153882504153,2.0649749876357686,17.129239515170493,-6.263324813562378,-9.556572619384514,-5.560067984438628,1.0022099469890984,-1.8849742145938215,-15.632863058660318,1.4773724173328446,5.623438764626328,-6.308340222872344,14.608665286373853,-8.223745535585477,-9.405165927803655,-1.835536078198906,13.59667335727212,-3.7657809777900564,3.9132428101804533,12.382331367202756,-0.3940352213004781,-3.77229545327403,-0.7454068517237511,-7.394768379808963,3.911930380450462,-11.011217482885304,-0.030598818589587906,3.9220746579922126,3.393589321602099,6.424323177399792,-3.314462490141182,-15.729375528394776,9.578636420690113,-12.433706545955017,1.4554944848832654,0.5992876332442189,0.7750258534083303,1.8812615910880328,10.851104459648079,-7.6094891533726745,12.571197564525729,-3.289636547737078,3.8940460094205496,-5.000581118355185,-10.94237101617873,17.537277799733598,11.96836101466614,-3.7965017057952983,12.455951210500077,12.195566664117491,-5.945835986539784,11.245884074011675,10.612733430969218,-16.262776528321165,1.4482435803223972,1.2059846513698937,0.7491627781228025,13.780245939877577,10.801284606155278,0.6817040875935526,2.0400818827911493,-12.613639931424528,4.331498714355371,-17.325394580254404,-16.45974951260603,-1.008156547100726,-1.4559314603465296,-0.018013316659309494,9.18159684663964,6.54926176940576,1.668395740411179,2.1054643730155256,0.6360451408341766,10.19802126476184,11.239294579395736,1.2891849121013506,-13.38380014526203,13.191947814285639,11.365578065622248,-2.3775049868935345,-20.641517586750286,-4.9732289062949135,-20.589742029245468,-2.712838418011752,-14.489693454328584,10.613024017540825,-2.850842543883045,12.816317844630984,-4.015770087639679,-5.243664656058615,-2.9137720456452922,-14.411754825801433,8.91833710876044,5.814451436589099,-6.639791493975147,-12.475900566085986,-0.07805649608720165,-12.09762683115531,-2.6647248381308457,-14.460889965575738,-16.527082669123033,-20.528001257442618,-7.3946622348163356,-0.9940839216710946,17.04641597853633,-17.351414059127862,8.628056032485603,-3.233225575036403,-3.1520535204519735,11.216895118082011,6.004055870802504,-1.9247733514647207,6.20109634054149,14.753122153596093,4.641876608506153,-6.963444919790172,-2.650849592634129,-7.5050054241241835,13.837007278672854,-4.700115764142081,-15.928222735910431,17.80348323404536,6.277397791215864,9.492432267226544,-2.089356336261017,0.7994498548628018,11.402125347634456,6.930729830881544,0.23740561512582023,4.313217537914954,-19.95078983321441,1.4175563369778619,1.0691807297376383,-13.074604732830714,0.6729201005393136,7.017057042105575,0.9395061680879647,-7.752340489968639,8.415375165226086,8.489913827499851,8.089310121410609,-1.5875369099029668,8.517333578920855,-16.447175501020066,0.8042181869394169,10.984584750160478,-9.652199271381685,-8.793890906155392,-12.816067296476852,0.7302444359536815,1.0936912043511675,-7.705957718993442,17.831092356873704,-8.288003130801332,6.854605619010087,-11.364672939345478,13.61807755597724,-1.6222055717298578,2.3982105242831664,18.43636037917176,-12.216450780556793,-5.042729664337892,-16.168497165973022,-5.5147520515928585,12.303433887062518,1.4555795103129217,-9.30037249743463,-7.069371071027703,-17.180905286526674,8.948304465601108,-9.485242354379322,-2.25105193572341,0.1575991664863483,8.232786241088666,-2.8153858196641735,-1.6722761511506534,-11.26335740715174,9.09039634830391,-3.249701358426903,1.9957232284821629,10.093388828642219,9.438232096622567,-14.368293518809145,-9.238083125337551,-17.984908329075402,-1.837187149094992,-7.660265738805734,4.012336015677999,13.478163737687838,7.273875796689599,-8.382935911884614,18.054537372329197,11.442915239163604,-8.428417416838293,3.793479862471605,-11.370886463798103,0.13826070894741674,14.930496127609818,-4.783340372196402,4.911367570292357,3.4451067552476875,-0.960810184196065,9.477620554000648,7.98280099101751,1.1876783669738438,-9.166060293021447,9.676619593305915,1.6530512170706437,-9.47600119063225,-1.3816770239196088,1.9747433409927875,14.423161182809329,-12.149392541222904,-14.631550926440033,1.286021444136364,-5.699334106499895,2.8250927074049224,1.6552152844129004,-20.492030631412064,-7.1640067873902975,14.675480168969484,12.07168753004205,0.8608834783796155,-6.249260626278498,4.941134299551814,-1.7034405563458703,-0.9882175190304542,-7.255452493658949,8.842313142167777,3.0974974348542967,-12.416380889607245,1.1237217170027993,-16.111765954399964,-9.508575209788768,8.958527832921563,-3.582502359745783,17.552721092197892,-9.873965072173883,13.42538636390475,7.464354342303832,17.257309668478413,-8.424817740269367,-10.27484728013203,5.323045965782829,12.450381423629654,-5.4345093627931345,-0.9982739925909608,2.2473170169238843,4.508088550646841,-4.6153082938309415,-8.023566817470243,-4.095618526656583,-16.597298336083355,-17.98235237794612,-1.7128759601988552,3.1505469640804686,9.241830670438436,4.323391126066214,3.160488327721278,-19.025169043040304,11.921058646734549,6.808479407937764,2.428631179495984,10.547071618469106,-9.183108296910834,9.397831661784487,-4.066536769691043,-2.454507843194462,9.061240669100819,-6.523777267115497,-0.6791842600172439,17.24452273322606,7.136159480625789,7.408941007344189,-7.679460265892916,10.458016326500251,-5.439679942181302,-12.222589050502663,8.803990203185903,-1.9009332196701612,14.381187544417129,-6.428711316503549,-5.484165194746958,-11.488290819851875,-5.600354714976506,-6.224468583468976,-3.805403472096206,11.905425136862782,-1.3750746374355682,3.578274319473441,-3.3553556717742876,0.41827362486256314,-18.173550596720116,-1.6480175713631982,9.581324808144066,-7.552069596299388,-4.263647733242862,8.155634469635466,-5.562630678465601,18.59272706092613,9.456475083197816,-13.37445158928187,8.796132956310291,9.284965885039906,8.178087273776443,-5.06149587550782,4.90481316924488,14.614605615628195,-4.687278266761545,-11.380993551331642,-13.812607921534951,6.127873955953557,4.995928485205441,4.543932284798219,10.690718409633899,-17.773383489728253,11.716592910121156,-1.6561815896328405,-8.62817459152761,8.351539195191327,8.99253092448691,-5.34016391729048,0.8965817794481487,-3.9243722234576843,-4.036146703369973,-16.73767953299559,-18.63302622642398,16.032496261146665,-6.287730484861121,-16.09485670224287,-8.735035711320316,-14.574637877468376,6.395035972784773,-7.0723356464525615,0.919316315253542,-8.198663827015029,-6.628729981508686,0.5563098429562735,7.373008484546767,-15.658673884528303,17.973548157507473,-20.0663321019722,7.126794507316805,0.5358258860383286,-18.626470765618507,-10.917518469684754,-5.9212873629190845,2.458696212896431,-7.435997212310857,-11.32138221689543,13.026091672053177,1.7938825346105547,17.2026945401253,8.073551217889898,9.020656130412455,7.785926445897974,14.039878039829347,10.174028544915165,5.889767583471044,-14.12852282240763,-6.616473487501744,2.66576979635612,6.342438558963865,-10.433082740803751,-0.45031087981225226,2.9622064849933682,17.313853868120187,11.630137272934643,-7.704465170068643,-12.094959722537002,-12.40983734796682,-6.624774058800744,2.313768540622924,13.393318638596059,16.6079633151949,14.702866094299061,2.513277447595228,1.768833196128262,-20.54107901220841,0.8919284736755941,5.955801382887692,16.91011639169041,14.60170231272605,4.947468558717695,-10.747187581435933,0.9690441593215848,-1.9376396896298569,-4.8822289782357915,-0.2980674420962472,-5.54717728035352,1.8693462189494443,5.027949746579747,13.407348713383792,2.7899753577742956,4.492226398451298,6.0075588683811825,-0.31940906502675354,-4.742128582642066,13.752552548203091,-9.894296459340344,-2.7557702583599535,-1.4560816053959926,5.935543162563276,2.978763406943382,-12.242588394078926,-5.630504138337462,-0.1820087099185194,-4.252987998497347]}},\"id\":\"45ae35dd-7899-45ff-9b49-196dea708dab\",\"type\":\"ColumnDataSource\"},{\"attributes\":{\"callback\":null,\"plot\":{\"id\":\"6b3836e2-3a63-4728-94a3-d353bea3b71b\",\"subtype\":\"Figure\",\"type\":\"Plot\"},\"tooltips\":[[\"author\",\"@author_names\"],[\"size\",\"@author_sizes\"]]},\"id\":\"a768c529-743d-4743-b7f8-7a0f4490c01d\",\"type\":\"HoverTool\"},{\"attributes\":{\"callback\":null},\"id\":\"00c28daa-8228-465c-9cf0-39791a77ea4c\",\"type\":\"DataRange1d\"},{\"attributes\":{\"plot\":{\"id\":\"6b3836e2-3a63-4728-94a3-d353bea3b71b\",\"subtype\":\"Figure\",\"type\":\"Plot\"},\"ticker\":{\"id\":\"3b394fd2-6951-43b8-bab6-c81692326c08\",\"type\":\"BasicTicker\"}},\"id\":\"09c034a5-3e12-489e-bcd7-da369245e784\",\"type\":\"Grid\"},{\"attributes\":{\"data_source\":{\"id\":\"45ae35dd-7899-45ff-9b49-196dea708dab\",\"type\":\"ColumnDataSource\"},\"glyph\":{\"id\":\"dd84b54f-e3f3-4e30-a1b2-a65a8f181c7d\",\"type\":\"Circle\"},\"hover_glyph\":null,\"nonselection_glyph\":{\"id\":\"c8a00e9b-777d-4b6a-b437-e7896e10e98b\",\"type\":\"Circle\"},\"selection_glyph\":null},\"id\":\"0e12bfcd-0651-4f47-b83a-170fe7173d45\",\"type\":\"GlyphRenderer\"},{\"attributes\":{},\"id\":\"3b394fd2-6951-43b8-bab6-c81692326c08\",\"type\":\"BasicTicker\"},{\"attributes\":{},\"id\":\"72996b8a-1cd4-46d0-90fb-7ea1c08c8bd8\",\"type\":\"ToolEvents\"},{\"attributes\":{\"formatter\":{\"id\":\"425e89e7-f377-45bd-8cd6-2db3b9954a21\",\"type\":\"BasicTickFormatter\"},\"plot\":{\"id\":\"6b3836e2-3a63-4728-94a3-d353bea3b71b\",\"subtype\":\"Figure\",\"type\":\"Plot\"},\"ticker\":{\"id\":\"3b394fd2-6951-43b8-bab6-c81692326c08\",\"type\":\"BasicTicker\"}},\"id\":\"062ea1f0-4c3b-42d4-b34a-1f8273b7577c\",\"type\":\"LinearAxis\"},{\"attributes\":{\"callback\":null,\"overlay\":{\"id\":\"659ee6e6-e125-44ab-a3f1-04e3dd4dc0a5\",\"type\":\"PolyAnnotation\"},\"plot\":{\"id\":\"6b3836e2-3a63-4728-94a3-d353bea3b71b\",\"subtype\":\"Figure\",\"type\":\"Plot\"}},\"id\":\"a96c4f22-7396-4576-ab69-d640fd8c1dc3\",\"type\":\"LassoSelectTool\"},{\"attributes\":{\"overlay\":{\"id\":\"9bf6d021-2de0-490a-b7c9-c4b363c57e45\",\"type\":\"BoxAnnotation\"},\"plot\":{\"id\":\"6b3836e2-3a63-4728-94a3-d353bea3b71b\",\"subtype\":\"Figure\",\"type\":\"Plot\"}},\"id\":\"4ff79413-73b9-4767-93a2-cd3afead3842\",\"type\":\"BoxZoomTool\"},{\"attributes\":{\"plot\":null,\"text\":null},\"id\":\"eeff09d1-9902-46d2-9a59-d4bb38057010\",\"type\":\"Title\"},{\"attributes\":{\"fill_alpha\":{\"value\":0.5},\"fill_color\":{\"value\":\"lightgrey\"},\"level\":\"overlay\",\"line_alpha\":{\"value\":1.0},\"line_color\":{\"value\":\"black\"},\"line_dash\":[4,4],\"line_width\":{\"value\":2},\"plot\":null,\"xs_units\":\"screen\",\"ys_units\":\"screen\"},\"id\":\"659ee6e6-e125-44ab-a3f1-04e3dd4dc0a5\",\"type\":\"PolyAnnotation\"},{\"attributes\":{},\"id\":\"e66880d3-e6ef-452f-ad58-6446d54dc381\",\"type\":\"BasicTickFormatter\"},{\"attributes\":{\"dimension\":1,\"plot\":{\"id\":\"6b3836e2-3a63-4728-94a3-d353bea3b71b\",\"subtype\":\"Figure\",\"type\":\"Plot\"},\"ticker\":{\"id\":\"edab9a0c-561b-49ed-b3c4-1dc10a01c207\",\"type\":\"BasicTicker\"}},\"id\":\"42cf4f9c-cdfa-4a7f-bd6c-cd3a76b2e031\",\"type\":\"Grid\"},{\"attributes\":{\"formatter\":{\"id\":\"e66880d3-e6ef-452f-ad58-6446d54dc381\",\"type\":\"BasicTickFormatter\"},\"plot\":{\"id\":\"6b3836e2-3a63-4728-94a3-d353bea3b71b\",\"subtype\":\"Figure\",\"type\":\"Plot\"},\"ticker\":{\"id\":\"edab9a0c-561b-49ed-b3c4-1dc10a01c207\",\"type\":\"BasicTicker\"}},\"id\":\"19167d7c-4763-4288-a9e0-58b2047f9809\",\"type\":\"LinearAxis\"},{\"attributes\":{\"callback\":null},\"id\":\"ec4efa48-6e23-4940-a4f1-f2c85198fb2e\",\"type\":\"DataRange1d\"},{\"attributes\":{\"plot\":{\"id\":\"6b3836e2-3a63-4728-94a3-d353bea3b71b\",\"subtype\":\"Figure\",\"type\":\"Plot\"}},\"id\":\"74e664fd-ba3b-4803-9a27-8ebcf489925c\",\"type\":\"SaveTool\"},{\"attributes\":{\"plot\":{\"id\":\"6b3836e2-3a63-4728-94a3-d353bea3b71b\",\"subtype\":\"Figure\",\"type\":\"Plot\"}},\"id\":\"bdd3ef27-bcf1-49af-a2c9-ef254c786188\",\"type\":\"CrosshairTool\"},{\"attributes\":{\"fill_alpha\":{\"value\":0.6},\"fill_color\":{\"value\":\"#1f77b4\"},\"line_color\":{\"value\":null},\"radius\":{\"field\":\"radii\",\"units\":\"data\"},\"x\":{\"field\":\"x\"},\"y\":{\"field\":\"y\"}},\"id\":\"dd84b54f-e3f3-4e30-a1b2-a65a8f181c7d\",\"type\":\"Circle\"},{\"attributes\":{\"bottom_units\":\"screen\",\"fill_alpha\":{\"value\":0.5},\"fill_color\":{\"value\":\"lightgrey\"},\"left_units\":\"screen\",\"level\":\"overlay\",\"line_alpha\":{\"value\":1.0},\"line_color\":{\"value\":\"black\"},\"line_dash\":[4,4],\"line_width\":{\"value\":2},\"plot\":null,\"render_mode\":\"css\",\"right_units\":\"screen\",\"top_units\":\"screen\"},\"id\":\"9bf6d021-2de0-490a-b7c9-c4b363c57e45\",\"type\":\"BoxAnnotation\"},{\"attributes\":{},\"id\":\"425e89e7-f377-45bd-8cd6-2db3b9954a21\",\"type\":\"BasicTickFormatter\"},{\"attributes\":{\"fill_alpha\":{\"value\":0.1},\"fill_color\":{\"value\":\"#1f77b4\"},\"line_alpha\":{\"value\":0.1},\"line_color\":{\"value\":\"#1f77b4\"},\"radius\":{\"field\":\"radii\",\"units\":\"data\"},\"x\":{\"field\":\"x\"},\"y\":{\"field\":\"y\"}},\"id\":\"c8a00e9b-777d-4b6a-b437-e7896e10e98b\",\"type\":\"Circle\"},{\"attributes\":{\"plot\":{\"id\":\"6b3836e2-3a63-4728-94a3-d353bea3b71b\",\"subtype\":\"Figure\",\"type\":\"Plot\"}},\"id\":\"c2b30f93-de8d-44a2-b9d1-01ab7b3acdbd\",\"type\":\"WheelZoomTool\"},{\"attributes\":{\"plot\":{\"id\":\"6b3836e2-3a63-4728-94a3-d353bea3b71b\",\"subtype\":\"Figure\",\"type\":\"Plot\"}},\"id\":\"a41ca96f-f2f8-4dc1-bc64-3a38588921ea\",\"type\":\"ResetTool\"},{\"attributes\":{},\"id\":\"edab9a0c-561b-49ed-b3c4-1dc10a01c207\",\"type\":\"BasicTicker\"},{\"attributes\":{\"active_drag\":\"auto\",\"active_scroll\":\"auto\",\"active_tap\":\"auto\",\"tools\":[{\"id\":\"a768c529-743d-4743-b7f8-7a0f4490c01d\",\"type\":\"HoverTool\"},{\"id\":\"bdd3ef27-bcf1-49af-a2c9-ef254c786188\",\"type\":\"CrosshairTool\"},{\"id\":\"5e6f3c7e-abb4-470d-a829-a6d5e9f26e01\",\"type\":\"PanTool\"},{\"id\":\"c2b30f93-de8d-44a2-b9d1-01ab7b3acdbd\",\"type\":\"WheelZoomTool\"},{\"id\":\"4ff79413-73b9-4767-93a2-cd3afead3842\",\"type\":\"BoxZoomTool\"},{\"id\":\"a41ca96f-f2f8-4dc1-bc64-3a38588921ea\",\"type\":\"ResetTool\"},{\"id\":\"74e664fd-ba3b-4803-9a27-8ebcf489925c\",\"type\":\"SaveTool\"},{\"id\":\"a96c4f22-7396-4576-ab69-d640fd8c1dc3\",\"type\":\"LassoSelectTool\"}]},\"id\":\"76347033-464e-4960-ae5e-0929a4980603\",\"type\":\"Toolbar\"},{\"attributes\":{\"below\":[{\"id\":\"062ea1f0-4c3b-42d4-b34a-1f8273b7577c\",\"type\":\"LinearAxis\"}],\"left\":[{\"id\":\"19167d7c-4763-4288-a9e0-58b2047f9809\",\"type\":\"LinearAxis\"}],\"renderers\":[{\"id\":\"062ea1f0-4c3b-42d4-b34a-1f8273b7577c\",\"type\":\"LinearAxis\"},{\"id\":\"09c034a5-3e12-489e-bcd7-da369245e784\",\"type\":\"Grid\"},{\"id\":\"19167d7c-4763-4288-a9e0-58b2047f9809\",\"type\":\"LinearAxis\"},{\"id\":\"42cf4f9c-cdfa-4a7f-bd6c-cd3a76b2e031\",\"type\":\"Grid\"},{\"id\":\"9bf6d021-2de0-490a-b7c9-c4b363c57e45\",\"type\":\"BoxAnnotation\"},{\"id\":\"659ee6e6-e125-44ab-a3f1-04e3dd4dc0a5\",\"type\":\"PolyAnnotation\"},{\"id\":\"0e12bfcd-0651-4f47-b83a-170fe7173d45\",\"type\":\"GlyphRenderer\"}],\"title\":{\"id\":\"eeff09d1-9902-46d2-9a59-d4bb38057010\",\"type\":\"Title\"},\"tool_events\":{\"id\":\"72996b8a-1cd4-46d0-90fb-7ea1c08c8bd8\",\"type\":\"ToolEvents\"},\"toolbar\":{\"id\":\"76347033-464e-4960-ae5e-0929a4980603\",\"type\":\"Toolbar\"},\"x_range\":{\"id\":\"ec4efa48-6e23-4940-a4f1-f2c85198fb2e\",\"type\":\"DataRange1d\"},\"y_range\":{\"id\":\"00c28daa-8228-465c-9cf0-39791a77ea4c\",\"type\":\"DataRange1d\"}},\"id\":\"6b3836e2-3a63-4728-94a3-d353bea3b71b\",\"subtype\":\"Figure\",\"type\":\"Plot\"}],\"root_ids\":[\"6b3836e2-3a63-4728-94a3-d353bea3b71b\"]},\"title\":\"Bokeh Application\",\"version\":\"0.12.3\"}};\n",
       "            var render_items = [{\"docid\":\"73d04b60-46a2-4117-8405-5c5d4604f58f\",\"elementid\":\"f4e9b36f-7110-4eaf-be8a-ccdeb6514f03\",\"modelid\":\"6b3836e2-3a63-4728-94a3-d353bea3b71b\"}];\n",
       "            \n",
       "            Bokeh.embed.embed_items(docs_json, render_items);\n",
       "        });\n",
       "      },\n",
       "      function(Bokeh) {\n",
       "      }\n",
       "    ];\n",
       "  \n",
       "    function run_inline_js() {\n",
       "      \n",
       "      if ((window.Bokeh !== undefined) || (force === \"1\")) {\n",
       "        for (var i = 0; i < inline_js.length; i++) {\n",
       "          inline_js[i](window.Bokeh);\n",
       "        }if (force === \"1\") {\n",
       "          display_loaded();\n",
       "        }} else if (Date.now() < window._bokeh_timeout) {\n",
       "        setTimeout(run_inline_js, 100);\n",
       "      } else if (!window._bokeh_failed_load) {\n",
       "        console.log(\"Bokeh: BokehJS failed to load within specified timeout.\");\n",
       "        window._bokeh_failed_load = true;\n",
       "      } else if (!force) {\n",
       "        var cell = $(\"#f4e9b36f-7110-4eaf-be8a-ccdeb6514f03\").parents('.cell').data().cell;\n",
       "        cell.output_area.append_execute_result(NB_LOAD_WARNING)\n",
       "      }\n",
       "  \n",
       "    }\n",
       "  \n",
       "    if (window._bokeh_is_loading === 0) {\n",
       "      console.log(\"Bokeh: BokehJS loaded, going straight to plotting\");\n",
       "      run_inline_js();\n",
       "    } else {\n",
       "      load_libs(js_urls, function() {\n",
       "        console.log(\"Bokeh: BokehJS plotting callback run at\", now());\n",
       "        run_inline_js();\n",
       "      });\n",
       "    }\n",
       "  }(this));\n",
       "</script>"
      ]
     },
     "metadata": {},
     "output_type": "display_data"
    }
   ],
   "source": [
    "from bokeh.models import HoverTool\n",
    "from bokeh.plotting import figure, show, ColumnDataSource\n",
    "\n",
    "x = tsne.embedding_[:, 0]\n",
    "y = tsne.embedding_[:, 1]\n",
    "author_names = [model.id2author[a] for a in authors]\n",
    "\n",
    "# Radius of each point corresponds to the number of documents attributed to that author.\n",
    "scale = 0.1\n",
    "author_sizes = [len(author2doc[a]) for a in author_names]\n",
    "radii = [size * scale for size in author_sizes]\n",
    "\n",
    "source = ColumnDataSource(\n",
    "        data=dict(\n",
    "            x=x,\n",
    "            y=y,\n",
    "            author_names=author_names,\n",
    "            author_sizes=author_sizes,\n",
    "            radii=radii,\n",
    "        )\n",
    "    )\n",
    "\n",
    "# Add author names and sizes to mouse-over info.\n",
    "hover = HoverTool(\n",
    "        tooltips=[\n",
    "        (\"author\", \"@author_names\"),\n",
    "        (\"size\", \"@author_sizes\"),\n",
    "        ]\n",
    "    )\n",
    "\n",
    "p = figure(tools=[hover, 'crosshair,pan,wheel_zoom,box_zoom,reset,save,lasso_select'])\n",
    "p.scatter('x', 'y', radius='radii', source=source, fill_alpha=0.6, line_color=None)\n",
    "show(p)"
   ]
  },
  {
   "cell_type": "markdown",
   "metadata": {
    "collapsed": true
   },
   "source": [
    "The circles in the plot above are individual authors, and their sizes represent the number of documents attributed to the corresponding author. Hovering your mouse over the circles will tell you the name of the authors and their sizes.\n",
    "\n",
    "**FIXME:** give interpretation of clusters in plot.\n",
    "\n",
    "Clusters of large authors tend to reflect some overlap in interest. \n",
    "\n",
    "### Advanced topics\n",
    "\n",
    "This section describes some of the more advanced use cases of the model.\n",
    "\n",
    "**FIXME:** if there aren't other \"advanced topics\", remove that headline.\n",
    "\n",
    "#### Serialized corpora\n",
    "\n",
    "The `AuthorTopicModel` class accepts serialized corpora, that is, corpora that are stored on the hard-drive rather than in memory. This is usually done when the corpus is too big to fit in memory. There are, however, some caveats to this functionality, which we will discuss here. As these caveats make this functionality less than ideal, it may be improved in the future.\n",
    "\n",
    "In the following, an explanation, followed by an example and a summarization will be given.\n",
    "\n",
    "If the corpus is serialized, the user must specify `serialized=True`. Any input corpus can then be any type of iterable or generator.\n",
    "\n",
    "The model will then take the input corpus and serialize it in the `MmCorpus` format, which is [supported in Gensim](https://radimrehurek.com/gensim/corpora/mmcorpus.html).\n",
    "\n",
    "The user must specify the path where the model should serialize all input documents, for example `serialization_path='/tmp/model_serializer.mm'`. To avoid accidentally overwriting some important data, the model will raise an error if there already exists a file at `serialization_path`; in this case, either choose another path, or delete the old file.\n",
    "\n",
    "When you want to train on new data, and call `model.update(corpus, author2doc)`, all the old data and the new data have to be re-serialized. This can of course be quite computationally demanding, so it is recommended that you do this *only* when necessary; that is, wait until you have as much new data as possible to update, rather than updating the model for every new document."
   ]
  },
  {
   "cell_type": "code",
   "execution_count": null,
   "metadata": {
    "collapsed": false
   },
   "outputs": [],
   "source": [
    "%time model_ser = AuthorTopicModel(corpus=corpus, num_topics=10, id2word=dictionary.id2token, \\\n",
    "                               author2doc=author2doc, random_state=1, serialized=True, \\\n",
    "                               serialization_path='/tmp/model_serialization.mm')"
   ]
  },
  {
   "cell_type": "code",
   "execution_count": null,
   "metadata": {
    "collapsed": false
   },
   "outputs": [],
   "source": [
    "# Delete the file, once you're done using it.\n",
    "import os\n",
    "os.remove('/tmp/model_serialization.mm')"
   ]
  },
  {
   "cell_type": "markdown",
   "metadata": {},
   "source": [
    "In summary, when using serialized corpora:\n",
    "* Set `serialized=True`.\n",
    "* Set `serialization_path` to a path that doesn't already contain a file.\n",
    "* Wait until you have lots of data before you call `model.update(corpus, author2doc)`.\n",
    "* When done, delete the file at `serialization_path` if it's not needed anymore."
   ]
  }
 ],
 "metadata": {
  "kernelspec": {
   "display_name": "Python 3",
   "language": "python",
   "name": "python3"
  },
  "language_info": {
   "codemirror_mode": {
    "name": "ipython",
    "version": 3
   },
   "file_extension": ".py",
   "mimetype": "text/x-python",
   "name": "python",
   "nbconvert_exporter": "python",
   "pygments_lexer": "ipython3",
   "version": "3.5.2"
  }
 },
 "nbformat": 4,
 "nbformat_minor": 1
}
