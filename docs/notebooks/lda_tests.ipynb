{
 "cells": [
  {
   "cell_type": "code",
   "execution_count": 1,
   "metadata": {
    "collapsed": false
   },
   "outputs": [],
   "source": [
    "import logging\n",
    "import os\n",
    "from imp import reload\n",
    "\n",
    "import numpy as np\n",
    "from nltk.tokenize import RegexpTokenizer\n",
    "from nltk.stem.wordnet import WordNetLemmatizer\n",
    "from gensim.models import Phrases\n",
    "from gensim.corpora import Dictionary\n",
    "from gensim.models import LdaModel\n",
    "from gensim.models import ldamodel\n",
    "from gensim.models import LdaModelOld\n",
    "from gensim.models import ldamodelold\n",
    "\n",
    "from bokeh.io import output_notebook\n",
    "from bokeh.layouts import layout\n",
    "from bokeh.models import Title, Legend, Div\n",
    "from bokeh.plotting import figure, show"
   ]
  },
  {
   "cell_type": "code",
   "execution_count": 2,
   "metadata": {
    "collapsed": false
   },
   "outputs": [
    {
     "data": {
      "text/html": [
       "\n",
       "    <div class=\"bk-root\">\n",
       "        <a href=\"http://bokeh.pydata.org\" target=\"_blank\" class=\"bk-logo bk-logo-small bk-logo-notebook\"></a>\n",
       "        <span id=\"59f5d451-f549-4434-be1e-dc6ce7563cd0\">Loading BokehJS ...</span>\n",
       "    </div>"
      ]
     },
     "metadata": {},
     "output_type": "display_data"
    },
    {
     "data": {
      "application/javascript": [
       "\n",
       "(function(global) {\n",
       "  function now() {\n",
       "    return new Date();\n",
       "  }\n",
       "\n",
       "  var force = \"1\";\n",
       "\n",
       "  if (typeof (window._bokeh_onload_callbacks) === \"undefined\" || force !== \"\") {\n",
       "    window._bokeh_onload_callbacks = [];\n",
       "    window._bokeh_is_loading = undefined;\n",
       "  }\n",
       "\n",
       "\n",
       "  \n",
       "  if (typeof (window._bokeh_timeout) === \"undefined\" || force !== \"\") {\n",
       "    window._bokeh_timeout = Date.now() + 5000;\n",
       "    window._bokeh_failed_load = false;\n",
       "  }\n",
       "\n",
       "  var NB_LOAD_WARNING = {'data': {'text/html':\n",
       "     \"<div style='background-color: #fdd'>\\n\"+\n",
       "     \"<p>\\n\"+\n",
       "     \"BokehJS does not appear to have successfully loaded. If loading BokehJS from CDN, this \\n\"+\n",
       "     \"may be due to a slow or bad network connection. Possible fixes:\\n\"+\n",
       "     \"</p>\\n\"+\n",
       "     \"<ul>\\n\"+\n",
       "     \"<li>re-rerun `output_notebook()` to attempt to load from CDN again, or</li>\\n\"+\n",
       "     \"<li>use INLINE resources instead, as so:</li>\\n\"+\n",
       "     \"</ul>\\n\"+\n",
       "     \"<code>\\n\"+\n",
       "     \"from bokeh.resources import INLINE\\n\"+\n",
       "     \"output_notebook(resources=INLINE)\\n\"+\n",
       "     \"</code>\\n\"+\n",
       "     \"</div>\"}};\n",
       "\n",
       "  function display_loaded() {\n",
       "    if (window.Bokeh !== undefined) {\n",
       "      Bokeh.$(\"#59f5d451-f549-4434-be1e-dc6ce7563cd0\").text(\"BokehJS successfully loaded.\");\n",
       "    } else if (Date.now() < window._bokeh_timeout) {\n",
       "      setTimeout(display_loaded, 100)\n",
       "    }\n",
       "  }\n",
       "\n",
       "  function run_callbacks() {\n",
       "    window._bokeh_onload_callbacks.forEach(function(callback) { callback() });\n",
       "    delete window._bokeh_onload_callbacks\n",
       "    console.info(\"Bokeh: all callbacks have finished\");\n",
       "  }\n",
       "\n",
       "  function load_libs(js_urls, callback) {\n",
       "    window._bokeh_onload_callbacks.push(callback);\n",
       "    if (window._bokeh_is_loading > 0) {\n",
       "      console.log(\"Bokeh: BokehJS is being loaded, scheduling callback at\", now());\n",
       "      return null;\n",
       "    }\n",
       "    if (js_urls == null || js_urls.length === 0) {\n",
       "      run_callbacks();\n",
       "      return null;\n",
       "    }\n",
       "    console.log(\"Bokeh: BokehJS not loaded, scheduling load and callback at\", now());\n",
       "    window._bokeh_is_loading = js_urls.length;\n",
       "    for (var i = 0; i < js_urls.length; i++) {\n",
       "      var url = js_urls[i];\n",
       "      var s = document.createElement('script');\n",
       "      s.src = url;\n",
       "      s.async = false;\n",
       "      s.onreadystatechange = s.onload = function() {\n",
       "        window._bokeh_is_loading--;\n",
       "        if (window._bokeh_is_loading === 0) {\n",
       "          console.log(\"Bokeh: all BokehJS libraries loaded\");\n",
       "          run_callbacks()\n",
       "        }\n",
       "      };\n",
       "      s.onerror = function() {\n",
       "        console.warn(\"failed to load library \" + url);\n",
       "      };\n",
       "      console.log(\"Bokeh: injecting script tag for BokehJS library: \", url);\n",
       "      document.getElementsByTagName(\"head\")[0].appendChild(s);\n",
       "    }\n",
       "  };var element = document.getElementById(\"59f5d451-f549-4434-be1e-dc6ce7563cd0\");\n",
       "  if (element == null) {\n",
       "    console.log(\"Bokeh: ERROR: autoload.js configured with elementid '59f5d451-f549-4434-be1e-dc6ce7563cd0' but no matching script tag was found. \")\n",
       "    return false;\n",
       "  }\n",
       "\n",
       "  var js_urls = ['https://cdn.pydata.org/bokeh/release/bokeh-0.12.3.min.js', 'https://cdn.pydata.org/bokeh/release/bokeh-widgets-0.12.3.min.js'];\n",
       "\n",
       "  var inline_js = [\n",
       "    function(Bokeh) {\n",
       "      Bokeh.set_log_level(\"info\");\n",
       "    },\n",
       "    \n",
       "    function(Bokeh) {\n",
       "      \n",
       "      Bokeh.$(\"#59f5d451-f549-4434-be1e-dc6ce7563cd0\").text(\"BokehJS is loading...\");\n",
       "    },\n",
       "    function(Bokeh) {\n",
       "      console.log(\"Bokeh: injecting CSS: https://cdn.pydata.org/bokeh/release/bokeh-0.12.3.min.css\");\n",
       "      Bokeh.embed.inject_css(\"https://cdn.pydata.org/bokeh/release/bokeh-0.12.3.min.css\");\n",
       "      console.log(\"Bokeh: injecting CSS: https://cdn.pydata.org/bokeh/release/bokeh-widgets-0.12.3.min.css\");\n",
       "      Bokeh.embed.inject_css(\"https://cdn.pydata.org/bokeh/release/bokeh-widgets-0.12.3.min.css\");\n",
       "    }\n",
       "  ];\n",
       "\n",
       "  function run_inline_js() {\n",
       "    \n",
       "    if ((window.Bokeh !== undefined) || (force === \"1\")) {\n",
       "      for (var i = 0; i < inline_js.length; i++) {\n",
       "        inline_js[i](window.Bokeh);\n",
       "      }if (force === \"1\") {\n",
       "        display_loaded();\n",
       "      }} else if (Date.now() < window._bokeh_timeout) {\n",
       "      setTimeout(run_inline_js, 100);\n",
       "    } else if (!window._bokeh_failed_load) {\n",
       "      console.log(\"Bokeh: BokehJS failed to load within specified timeout.\");\n",
       "      window._bokeh_failed_load = true;\n",
       "    } else if (!force) {\n",
       "      var cell = $(\"#59f5d451-f549-4434-be1e-dc6ce7563cd0\").parents('.cell').data().cell;\n",
       "      cell.output_area.append_execute_result(NB_LOAD_WARNING)\n",
       "    }\n",
       "\n",
       "  }\n",
       "\n",
       "  if (window._bokeh_is_loading === 0) {\n",
       "    console.log(\"Bokeh: BokehJS loaded, going straight to plotting\");\n",
       "    run_inline_js();\n",
       "  } else {\n",
       "    load_libs(js_urls, function() {\n",
       "      console.log(\"Bokeh: BokehJS plotting callback run at\", now());\n",
       "      run_inline_js();\n",
       "    });\n",
       "  }\n",
       "}(this));"
      ]
     },
     "metadata": {},
     "output_type": "display_data"
    }
   ],
   "source": [
    "output_notebook()"
   ]
  },
  {
   "cell_type": "code",
   "execution_count": 3,
   "metadata": {
    "collapsed": false
   },
   "outputs": [],
   "source": [
    "# Configure logging.\n",
    "\n",
    "log_dir = '../../../log_files/log.log'\n",
    "\n",
    "logger = logging.getLogger()\n",
    "fhandler = logging.FileHandler(filename=log_dir, mode='a')\n",
    "formatter = logging.Formatter('%(asctime)s - %(name)s - %(levelname)s - %(message)s')\n",
    "fhandler.setFormatter(formatter)\n",
    "logger.addHandler(fhandler)\n",
    "logger.setLevel(logging.DEBUG)"
   ]
  },
  {
   "cell_type": "code",
   "execution_count": 4,
   "metadata": {
    "collapsed": false
   },
   "outputs": [],
   "source": [
    "# Read data.\n",
    "\n",
    "# Folder containing all NIPS papers.\n",
    "data_dir = '../../../data/nipstxt/'\n",
    "\n",
    "# Folders containin individual NIPS papers.\n",
    "#yrs = ['00', '01', '02', '03', '04', '05', '06', '07', '08', '09', '10', '11', '12']\n",
    "yrs = ['00']\n",
    "dirs = ['nips' + yr for yr in yrs]\n",
    "\n",
    "# Read all texts into a list.\n",
    "docs = []\n",
    "for yr_dir in dirs:\n",
    "    files = os.listdir(data_dir + yr_dir)\n",
    "    for filen in files:\n",
    "        # Note: ignoring characters that cause encoding errors.\n",
    "        with open(data_dir + yr_dir + '/' + filen, errors='ignore') as fid:\n",
    "            txt = fid.read()\n",
    "        docs.append(txt)"
   ]
  },
  {
   "cell_type": "code",
   "execution_count": 5,
   "metadata": {
    "collapsed": true
   },
   "outputs": [],
   "source": [
    "# Tokenize the documents.\n",
    "\n",
    "\n",
    "# Split the documents into tokens.\n",
    "tokenizer = RegexpTokenizer(r'\\w+')\n",
    "for idx in range(len(docs)):\n",
    "    docs[idx] = docs[idx].lower()  # Convert to lowercase.\n",
    "    docs[idx] = tokenizer.tokenize(docs[idx])  # Split into words.\n",
    "\n",
    "# Remove numbers, but not words that contain numbers.\n",
    "docs = [[token for token in doc if not token.isnumeric()] for doc in docs]\n",
    "\n",
    "# Remove words that are only one character.\n",
    "docs = [[token for token in doc if len(token) > 1] for doc in docs]"
   ]
  },
  {
   "cell_type": "code",
   "execution_count": 6,
   "metadata": {
    "collapsed": true
   },
   "outputs": [],
   "source": [
    "# Lemmatize the documents.\n",
    "\n",
    "# Lemmatize all words in documents.\n",
    "lemmatizer = WordNetLemmatizer()\n",
    "docs = [[lemmatizer.lemmatize(token) for token in doc] for doc in docs]"
   ]
  },
  {
   "cell_type": "code",
   "execution_count": 7,
   "metadata": {
    "collapsed": false
   },
   "outputs": [
    {
     "name": "stderr",
     "output_type": "stream",
     "text": [
      "/home/olavur/RaRe/lda_fix/gensim/gensim/models/phrases.py:248: UserWarning: For a faster implementation, use the gensim.models.phrases.Phraser class\n",
      "  warnings.warn(\"For a faster implementation, use the gensim.models.phrases.Phraser class\")\n"
     ]
    }
   ],
   "source": [
    "# Compute bigrams.\n",
    "\n",
    "# Add bigrams and trigrams to docs (only ones that appear 20 times or more).\n",
    "bigram = Phrases(docs, min_count=20)\n",
    "for idx in range(len(docs)):\n",
    "    for token in bigram[docs[idx]]:\n",
    "        if '_' in token:\n",
    "            # Token is a bigram, add to document.\n",
    "            docs[idx].append(token)"
   ]
  },
  {
   "cell_type": "code",
   "execution_count": 8,
   "metadata": {
    "collapsed": true
   },
   "outputs": [],
   "source": [
    "# Remove rare and common tokens.\n",
    "\n",
    "# Create a dictionary representation of the documents.\n",
    "dictionary = Dictionary(docs)\n",
    "\n",
    "# Filter out words that occur less than 20 documents, or more than 50% of the documents.\n",
    "dictionary.filter_extremes(no_below=20, no_above=0.5)"
   ]
  },
  {
   "cell_type": "code",
   "execution_count": 9,
   "metadata": {
    "collapsed": true
   },
   "outputs": [],
   "source": [
    "# Vectorize data.\n",
    "\n",
    "# Bag-of-words representation of the documents.\n",
    "corpus = [dictionary.doc2bow(doc) for doc in docs]"
   ]
  },
  {
   "cell_type": "code",
   "execution_count": 10,
   "metadata": {
    "collapsed": false
   },
   "outputs": [
    {
     "name": "stdout",
     "output_type": "stream",
     "text": [
      "Number of unique tokens: 681\n",
      "Number of documents: 90\n"
     ]
    }
   ],
   "source": [
    "print('Number of unique tokens: %d' % len(dictionary))\n",
    "print('Number of documents: %d' % len(corpus))"
   ]
  },
  {
   "cell_type": "code",
   "execution_count": null,
   "metadata": {
    "collapsed": true
   },
   "outputs": [],
   "source": [
    "reload(ldamodelold)\n",
    "LdaModelOld = ldamodelold.LdaModelOld"
   ]
  },
  {
   "cell_type": "code",
   "execution_count": null,
   "metadata": {
    "collapsed": false
   },
   "outputs": [],
   "source": [
    "# Train LDA model.\n",
    "\n",
    "# Set training parameters.\n",
    "num_topics = 10\n",
    "chunksize = 1\n",
    "passes = 10\n",
    "iterations = 1\n",
    "eval_every = 100\n",
    "update_every=1\n",
    "\n",
    "# Make a index to word dictionary.\n",
    "temp = dictionary[0]  # This is only to \"load\" the dictionary.\n",
    "id2word = dictionary.id2token\n",
    "\n",
    "%time model = LdaModelOld(corpus=corpus, id2word=id2word, chunksize=chunksize, \\\n",
    "                       alpha='symmetric', eta='symmetric', \\\n",
    "                       iterations=iterations, num_topics=num_topics, \\\n",
    "                       passes=passes, eval_every=eval_every, random_state=0)"
   ]
  },
  {
   "cell_type": "code",
   "execution_count": 14,
   "metadata": {
    "collapsed": false
   },
   "outputs": [],
   "source": [
    "reload(ldamodel)\n",
    "LdaModel = ldamodel.LdaModel"
   ]
  },
  {
   "cell_type": "code",
   "execution_count": 15,
   "metadata": {
    "collapsed": false
   },
   "outputs": [
    {
     "name": "stdout",
     "output_type": "stream",
     "text": [
      "-6.9379088891\n",
      "-6.92155478444\n",
      "-6.90435565647\n",
      "-6.89286126587\n",
      "-6.88981479734\n",
      "-6.89648824302\n",
      "-6.85361481472\n",
      "-6.82566448766\n",
      "-6.81444976494\n",
      "-6.7921686612\n",
      "CPU times: user 12.6 s, sys: 92 ms, total: 12.7 s\n",
      "Wall time: 12.7 s\n"
     ]
    }
   ],
   "source": [
    "# Train LDA model.\n",
    "\n",
    "# Set training parameters.\n",
    "num_topics = 10\n",
    "chunksize = 1\n",
    "passes = 10\n",
    "iterations = 1\n",
    "eval_every = 100\n",
    "update_every=1\n",
    "\n",
    "# Make a index to word dictionary.\n",
    "temp = dictionary[0]  # This is only to \"load\" the dictionary.\n",
    "id2word = dictionary.id2token\n",
    "\n",
    "%time model = LdaModel(corpus=corpus, id2word=id2word, chunksize=chunksize, \\\n",
    "                       alpha='symmetric', eta='asymmetric', \\\n",
    "                       iterations=iterations, num_topics=num_topics, \\\n",
    "                       passes=passes, eval_every=eval_every, update_every=update_every, random_state=0)"
   ]
  },
  {
   "cell_type": "markdown",
   "metadata": {},
   "source": [
    "## Data\n",
    "\n",
    "### chunksize=100"
   ]
  },
  {
   "cell_type": "code",
   "execution_count": 203,
   "metadata": {
    "collapsed": true
   },
   "outputs": [],
   "source": [
    "lda_new_sym = [-7.20780852768, -6.48027491729, -6.39355881137, -6.35073216324, -6.32447008592, -6.30691083434, -6.29370869898, -6.28376425986, -6.27617922491, -6.27016617593]\n",
    "\n",
    "lda_new_auto = [-7.21197266652, -6.40968603967, -6.29680956267, -6.24068462426, -6.2089305, -6.18930375001, -6.17680866761, -6.16854461189, -6.16271270432, -6.15845521829]"
   ]
  },
  {
   "cell_type": "code",
   "execution_count": 204,
   "metadata": {
    "collapsed": true
   },
   "outputs": [],
   "source": [
    "lda_old_sym = [-7.25247867382, -6.49981081176, -6.41634676867, -6.37629961919, -6.35376327852, -6.3387396089, -6.32790036692, -6.31953285676, -6.31267610035, -6.30721028608]\n",
    "\n",
    "lda_old_auto = [-7.25507185865, -6.53067814813, -6.47428823682, -6.48390241381, -6.52770945854, -6.58897195146, -6.65807185302, -6.72785922104, -6.79348132306, -6.85222778345]"
   ]
  },
  {
   "cell_type": "code",
   "execution_count": 211,
   "metadata": {
    "collapsed": false
   },
   "outputs": [
    {
     "data": {
      "text/html": [
       "\n",
       "\n",
       "    <div class=\"bk-root\">\n",
       "        <div class=\"plotdiv\" id=\"8e3617e7-f2a2-4f67-8013-f9c4e99806d7\"></div>\n",
       "    </div>\n",
       "<script type=\"text/javascript\">\n",
       "  \n",
       "  (function(global) {\n",
       "    function now() {\n",
       "      return new Date();\n",
       "    }\n",
       "  \n",
       "    var force = \"\";\n",
       "  \n",
       "    if (typeof (window._bokeh_onload_callbacks) === \"undefined\" || force !== \"\") {\n",
       "      window._bokeh_onload_callbacks = [];\n",
       "      window._bokeh_is_loading = undefined;\n",
       "    }\n",
       "  \n",
       "  \n",
       "    \n",
       "    if (typeof (window._bokeh_timeout) === \"undefined\" || force !== \"\") {\n",
       "      window._bokeh_timeout = Date.now() + 0;\n",
       "      window._bokeh_failed_load = false;\n",
       "    }\n",
       "  \n",
       "    var NB_LOAD_WARNING = {'data': {'text/html':\n",
       "       \"<div style='background-color: #fdd'>\\n\"+\n",
       "       \"<p>\\n\"+\n",
       "       \"BokehJS does not appear to have successfully loaded. If loading BokehJS from CDN, this \\n\"+\n",
       "       \"may be due to a slow or bad network connection. Possible fixes:\\n\"+\n",
       "       \"</p>\\n\"+\n",
       "       \"<ul>\\n\"+\n",
       "       \"<li>re-rerun `output_notebook()` to attempt to load from CDN again, or</li>\\n\"+\n",
       "       \"<li>use INLINE resources instead, as so:</li>\\n\"+\n",
       "       \"</ul>\\n\"+\n",
       "       \"<code>\\n\"+\n",
       "       \"from bokeh.resources import INLINE\\n\"+\n",
       "       \"output_notebook(resources=INLINE)\\n\"+\n",
       "       \"</code>\\n\"+\n",
       "       \"</div>\"}};\n",
       "  \n",
       "    function display_loaded() {\n",
       "      if (window.Bokeh !== undefined) {\n",
       "        Bokeh.$(\"#8e3617e7-f2a2-4f67-8013-f9c4e99806d7\").text(\"BokehJS successfully loaded.\");\n",
       "      } else if (Date.now() < window._bokeh_timeout) {\n",
       "        setTimeout(display_loaded, 100)\n",
       "      }\n",
       "    }\n",
       "  \n",
       "    function run_callbacks() {\n",
       "      window._bokeh_onload_callbacks.forEach(function(callback) { callback() });\n",
       "      delete window._bokeh_onload_callbacks\n",
       "      console.info(\"Bokeh: all callbacks have finished\");\n",
       "    }\n",
       "  \n",
       "    function load_libs(js_urls, callback) {\n",
       "      window._bokeh_onload_callbacks.push(callback);\n",
       "      if (window._bokeh_is_loading > 0) {\n",
       "        console.log(\"Bokeh: BokehJS is being loaded, scheduling callback at\", now());\n",
       "        return null;\n",
       "      }\n",
       "      if (js_urls == null || js_urls.length === 0) {\n",
       "        run_callbacks();\n",
       "        return null;\n",
       "      }\n",
       "      console.log(\"Bokeh: BokehJS not loaded, scheduling load and callback at\", now());\n",
       "      window._bokeh_is_loading = js_urls.length;\n",
       "      for (var i = 0; i < js_urls.length; i++) {\n",
       "        var url = js_urls[i];\n",
       "        var s = document.createElement('script');\n",
       "        s.src = url;\n",
       "        s.async = false;\n",
       "        s.onreadystatechange = s.onload = function() {\n",
       "          window._bokeh_is_loading--;\n",
       "          if (window._bokeh_is_loading === 0) {\n",
       "            console.log(\"Bokeh: all BokehJS libraries loaded\");\n",
       "            run_callbacks()\n",
       "          }\n",
       "        };\n",
       "        s.onerror = function() {\n",
       "          console.warn(\"failed to load library \" + url);\n",
       "        };\n",
       "        console.log(\"Bokeh: injecting script tag for BokehJS library: \", url);\n",
       "        document.getElementsByTagName(\"head\")[0].appendChild(s);\n",
       "      }\n",
       "    };var element = document.getElementById(\"8e3617e7-f2a2-4f67-8013-f9c4e99806d7\");\n",
       "    if (element == null) {\n",
       "      console.log(\"Bokeh: ERROR: autoload.js configured with elementid '8e3617e7-f2a2-4f67-8013-f9c4e99806d7' but no matching script tag was found. \")\n",
       "      return false;\n",
       "    }\n",
       "  \n",
       "    var js_urls = [];\n",
       "  \n",
       "    var inline_js = [\n",
       "      function(Bokeh) {\n",
       "        Bokeh.$(function() {\n",
       "            var docs_json = {\"39a83ac1-764c-44b1-bf27-915847aa88f3\":{\"roots\":{\"references\":[{\"attributes\":{\"fill_alpha\":{\"value\":0.1},\"fill_color\":{\"value\":\"#1f77b4\"},\"line_alpha\":{\"value\":0.1},\"line_color\":{\"value\":\"#1f77b4\"},\"x\":{\"field\":\"x\"},\"y\":{\"field\":\"y\"}},\"id\":\"0a0d7a19-40f6-47bd-b71c-ca781b2a0da0\",\"type\":\"Circle\"},{\"attributes\":{\"fill_color\":{\"value\":\"red\"},\"line_color\":{\"value\":\"red\"},\"x\":{\"field\":\"x\"},\"y\":{\"field\":\"y\"}},\"id\":\"b1989792-b23c-4b6d-8caa-ffda8c178876\",\"type\":\"Circle\"},{\"attributes\":{\"label\":{\"value\":\"auto before\"},\"renderers\":[{\"id\":\"3d50466d-ab53-4def-9af8-e82997bd8260\",\"type\":\"GlyphRenderer\"}]},\"id\":\"f707e47d-92a3-4bf3-a98f-fb0e817efee1\",\"type\":\"LegendItem\"},{\"attributes\":{},\"id\":\"e6149eb4-57f1-4e25-ab47-0761cd54d9f1\",\"type\":\"BasicTickFormatter\"},{\"attributes\":{\"data_source\":{\"id\":\"d27a046a-1eb5-4137-8f7b-8da3cb53430c\",\"type\":\"ColumnDataSource\"},\"glyph\":{\"id\":\"6237c837-d858-4e36-a19b-d6559fcb1729\",\"type\":\"Circle\"},\"hover_glyph\":null,\"nonselection_glyph\":{\"id\":\"45216ecd-ba2e-49d4-b131-9afd7c53c470\",\"type\":\"Circle\"},\"selection_glyph\":null},\"id\":\"c1f2c94f-ec4f-4e2a-a650-bc456a7061ff\",\"type\":\"GlyphRenderer\"},{\"attributes\":{\"plot\":{\"id\":\"e2a2562b-517d-48aa-a188-3fe634605015\",\"subtype\":\"Figure\",\"type\":\"Plot\"}},\"id\":\"8c260d13-a651-46ab-ad15-27f21d75a6a9\",\"type\":\"PanTool\"},{\"attributes\":{\"fill_alpha\":{\"value\":0.1},\"fill_color\":{\"value\":\"#1f77b4\"},\"line_alpha\":{\"value\":0.1},\"line_color\":{\"value\":\"#1f77b4\"},\"x\":{\"field\":\"x\"},\"y\":{\"field\":\"y\"}},\"id\":\"45216ecd-ba2e-49d4-b131-9afd7c53c470\",\"type\":\"Circle\"},{\"attributes\":{\"callback\":null,\"column_names\":[\"x\",\"y\"],\"data\":{\"x\":[0,1,2,3,4,5,6,7,8,9],\"y\":[-7.25507185865,-6.53067814813,-6.47428823682,-6.48390241381,-6.52770945854,-6.58897195146,-6.65807185302,-6.72785922104,-6.79348132306,-6.85222778345]}},\"id\":\"d27a046a-1eb5-4137-8f7b-8da3cb53430c\",\"type\":\"ColumnDataSource\"},{\"attributes\":{\"axis_label\":\"Per word bound\",\"formatter\":{\"id\":\"e6149eb4-57f1-4e25-ab47-0761cd54d9f1\",\"type\":\"BasicTickFormatter\"},\"plot\":{\"id\":\"e2a2562b-517d-48aa-a188-3fe634605015\",\"subtype\":\"Figure\",\"type\":\"Plot\"},\"ticker\":{\"id\":\"da0eb873-3dc6-4d5b-8424-ed8f5af3c07b\",\"type\":\"BasicTicker\"}},\"id\":\"bdda29b2-611a-443f-88e4-313ac84928c2\",\"type\":\"LinearAxis\"},{\"attributes\":{\"callback\":null,\"column_names\":[\"x\",\"y\"],\"data\":{\"x\":[0,1,2,3,4,5,6,7,8,9],\"y\":[-7.25247867382,-6.49981081176,-6.41634676867,-6.37629961919,-6.35376327852,-6.3387396089,-6.32790036692,-6.31953285676,-6.31267610035,-6.30721028608]}},\"id\":\"0917a61a-a1b0-4d3f-9835-fa56250ba36d\",\"type\":\"ColumnDataSource\"},{\"attributes\":{\"line_color\":{\"value\":\"red\"},\"x\":{\"field\":\"x\"},\"y\":{\"field\":\"y\"}},\"id\":\"9e5c8bc1-a204-4520-9073-e74793d488d3\",\"type\":\"Line\"},{\"attributes\":{},\"id\":\"da0eb873-3dc6-4d5b-8424-ed8f5af3c07b\",\"type\":\"BasicTicker\"},{\"attributes\":{\"line_alpha\":{\"value\":0.1},\"line_color\":{\"value\":\"#1f77b4\"},\"x\":{\"field\":\"x\"},\"y\":{\"field\":\"y\"}},\"id\":\"00aaa5bd-86bd-45ef-987f-463b45918060\",\"type\":\"Line\"},{\"attributes\":{\"data_source\":{\"id\":\"e2060eba-3cee-422f-a9d5-5c0aae5584b6\",\"type\":\"ColumnDataSource\"},\"glyph\":{\"id\":\"63dcc9df-539c-483e-b5de-1be0d167d514\",\"type\":\"Circle\"},\"hover_glyph\":null,\"nonselection_glyph\":{\"id\":\"0a0d7a19-40f6-47bd-b71c-ca781b2a0da0\",\"type\":\"Circle\"},\"selection_glyph\":null},\"id\":\"0d0c5e3e-adaf-48e1-bd3d-48392d26b9c9\",\"type\":\"GlyphRenderer\"},{\"attributes\":{\"data_source\":{\"id\":\"3b7f3ff6-cc3b-47be-b02e-52dc0e33094a\",\"type\":\"ColumnDataSource\"},\"glyph\":{\"id\":\"b1989792-b23c-4b6d-8caa-ffda8c178876\",\"type\":\"Circle\"},\"hover_glyph\":null,\"nonselection_glyph\":{\"id\":\"3608df8b-f1f0-4f2d-a1f6-2407bf9ec707\",\"type\":\"Circle\"},\"selection_glyph\":null},\"id\":\"3775932a-939c-41f2-a264-e33db4b967db\",\"type\":\"GlyphRenderer\"},{\"attributes\":{\"label\":{\"value\":\"sym before\"},\"renderers\":[{\"id\":\"4623288a-8985-4c5e-85cd-81ca64a3a74d\",\"type\":\"GlyphRenderer\"}]},\"id\":\"7b10a0e4-b765-4f45-8929-118177279351\",\"type\":\"LegendItem\"},{\"attributes\":{\"plot\":{\"id\":\"e2a2562b-517d-48aa-a188-3fe634605015\",\"subtype\":\"Figure\",\"type\":\"Plot\"},\"ticker\":{\"id\":\"6c1bd0c7-a57c-4489-b71f-db6a1230e162\",\"type\":\"BasicTicker\"}},\"id\":\"78fa50aa-5f00-4f78-ac54-817e8c7dd2f6\",\"type\":\"Grid\"},{\"attributes\":{\"line_alpha\":{\"value\":0.1},\"line_color\":{\"value\":\"#1f77b4\"},\"x\":{\"field\":\"x\"},\"y\":{\"field\":\"y\"}},\"id\":\"6116dfdf-8ce1-4f7f-aa4e-244a6a72f918\",\"type\":\"Line\"},{\"attributes\":{\"plot\":{\"id\":\"e2a2562b-517d-48aa-a188-3fe634605015\",\"subtype\":\"Figure\",\"type\":\"Plot\"}},\"id\":\"feded070-2748-4a2c-921a-8f3d81f02c82\",\"type\":\"HelpTool\"},{\"attributes\":{\"plot\":{\"id\":\"e2a2562b-517d-48aa-a188-3fe634605015\",\"subtype\":\"Figure\",\"type\":\"Plot\"}},\"id\":\"c458d85e-250d-4ecc-b033-0174cbcb2b4a\",\"type\":\"SaveTool\"},{\"attributes\":{\"callback\":null,\"column_names\":[\"x\",\"y\"],\"data\":{\"x\":[0,1,2,3,4,5,6,7,8,9],\"y\":[-7.21197266652,-6.40968603967,-6.29680956267,-6.24068462426,-6.2089305,-6.18930375001,-6.17680866761,-6.16854461189,-6.16271270432,-6.15845521829]}},\"id\":\"69a7983a-6280-4e47-9001-699e909065a0\",\"type\":\"ColumnDataSource\"},{\"attributes\":{\"data_source\":{\"id\":\"b1a78bcd-7848-41a5-98db-8bb093d44dcc\",\"type\":\"ColumnDataSource\"},\"glyph\":{\"id\":\"7558f291-20f1-4eda-80de-068990276835\",\"type\":\"Line\"},\"hover_glyph\":null,\"nonselection_glyph\":{\"id\":\"d30f9445-61dc-4737-b3e8-e79a5720606a\",\"type\":\"Line\"},\"selection_glyph\":null},\"id\":\"3d50466d-ab53-4def-9af8-e82997bd8260\",\"type\":\"GlyphRenderer\"},{\"attributes\":{\"plot\":null,\"text\":\"Variational lower bound\"},\"id\":\"3c80043d-4daa-4259-b101-91fb8f9e5498\",\"type\":\"Title\"},{\"attributes\":{\"fill_alpha\":{\"value\":0.1},\"fill_color\":{\"value\":\"#1f77b4\"},\"line_alpha\":{\"value\":0.1},\"line_color\":{\"value\":\"#1f77b4\"},\"x\":{\"field\":\"x\"},\"y\":{\"field\":\"y\"}},\"id\":\"3608df8b-f1f0-4f2d-a1f6-2407bf9ec707\",\"type\":\"Circle\"},{\"attributes\":{\"callback\":null,\"column_names\":[\"x\",\"y\"],\"data\":{\"x\":[0,1,2,3,4,5,6,7,8,9],\"y\":[-7.20780852768,-6.48027491729,-6.39355881137,-6.35073216324,-6.32447008592,-6.30691083434,-6.29370869898,-6.28376425986,-6.27617922491,-6.27016617593]}},\"id\":\"1d35276f-9645-4b93-8b96-32a81dc83988\",\"type\":\"ColumnDataSource\"},{\"attributes\":{\"callback\":null},\"id\":\"bdf2a905-7ec5-4ef4-95ed-417a801865d4\",\"type\":\"DataRange1d\"},{\"attributes\":{\"data_source\":{\"id\":\"69a7983a-6280-4e47-9001-699e909065a0\",\"type\":\"ColumnDataSource\"},\"glyph\":{\"id\":\"9000f016-0a65-4b89-98d9-3d54d42e1735\",\"type\":\"Circle\"},\"hover_glyph\":null,\"nonselection_glyph\":{\"id\":\"8440adba-e9c8-4d86-8570-9f2f45342b45\",\"type\":\"Circle\"},\"selection_glyph\":null},\"id\":\"333460db-72a3-4d65-86d4-e9ade8dd7f03\",\"type\":\"GlyphRenderer\"},{\"attributes\":{\"data_source\":{\"id\":\"0917a61a-a1b0-4d3f-9835-fa56250ba36d\",\"type\":\"ColumnDataSource\"},\"glyph\":{\"id\":\"9e5c8bc1-a204-4520-9073-e74793d488d3\",\"type\":\"Line\"},\"hover_glyph\":null,\"nonselection_glyph\":{\"id\":\"8ebba2fc-cf98-432f-9b4e-e6bc2ad847fd\",\"type\":\"Line\"},\"selection_glyph\":null},\"id\":\"4623288a-8985-4c5e-85cd-81ca64a3a74d\",\"type\":\"GlyphRenderer\"},{\"attributes\":{\"fill_alpha\":{\"value\":0.1},\"fill_color\":{\"value\":\"#1f77b4\"},\"line_alpha\":{\"value\":0.1},\"line_color\":{\"value\":\"#1f77b4\"},\"x\":{\"field\":\"x\"},\"y\":{\"field\":\"y\"}},\"id\":\"8440adba-e9c8-4d86-8570-9f2f45342b45\",\"type\":\"Circle\"},{\"attributes\":{\"label\":{\"value\":\"auto after\"},\"renderers\":[{\"id\":\"e954ea07-f778-4b92-b7c2-06970aacbfa0\",\"type\":\"GlyphRenderer\"}]},\"id\":\"228acb89-3dac-48fb-af80-6d2fbe3a3b2c\",\"type\":\"LegendItem\"},{\"attributes\":{\"callback\":null},\"id\":\"ca0fc5fc-83ce-4781-a3ae-a466b32ccaac\",\"type\":\"DataRange1d\"},{\"attributes\":{\"callback\":null,\"column_names\":[\"x\",\"y\"],\"data\":{\"x\":[0,1,2,3,4,5,6,7,8,9],\"y\":[-7.25507185865,-6.53067814813,-6.47428823682,-6.48390241381,-6.52770945854,-6.58897195146,-6.65807185302,-6.72785922104,-6.79348132306,-6.85222778345]}},\"id\":\"b1a78bcd-7848-41a5-98db-8bb093d44dcc\",\"type\":\"ColumnDataSource\"},{\"attributes\":{\"line_color\":{\"value\":\"blue\"},\"x\":{\"field\":\"x\"},\"y\":{\"field\":\"y\"}},\"id\":\"7558f291-20f1-4eda-80de-068990276835\",\"type\":\"Line\"},{\"attributes\":{\"x\":{\"field\":\"x\"},\"y\":{\"field\":\"y\"}},\"id\":\"09a11437-c804-4c0a-92d2-0ab81d8c88fe\",\"type\":\"Line\"},{\"attributes\":{\"callback\":null,\"column_names\":[\"x\",\"y\"],\"data\":{\"x\":[0,1,2,3,4,5,6,7,8,9],\"y\":[-7.21197266652,-6.40968603967,-6.29680956267,-6.24068462426,-6.2089305,-6.18930375001,-6.17680866761,-6.16854461189,-6.16271270432,-6.15845521829]}},\"id\":\"fa6beff7-0f07-4087-a63f-4722cb6ede42\",\"type\":\"ColumnDataSource\"},{\"attributes\":{\"callback\":null,\"column_names\":[\"x\",\"y\"],\"data\":{\"x\":[0,1,2,3,4,5,6,7,8,9],\"y\":[-7.25247867382,-6.49981081176,-6.41634676867,-6.37629961919,-6.35376327852,-6.3387396089,-6.32790036692,-6.31953285676,-6.31267610035,-6.30721028608]}},\"id\":\"3b7f3ff6-cc3b-47be-b02e-52dc0e33094a\",\"type\":\"ColumnDataSource\"},{\"attributes\":{\"bottom_units\":\"screen\",\"fill_alpha\":{\"value\":0.5},\"fill_color\":{\"value\":\"lightgrey\"},\"left_units\":\"screen\",\"level\":\"overlay\",\"line_alpha\":{\"value\":1.0},\"line_color\":{\"value\":\"black\"},\"line_dash\":[4,4],\"line_width\":{\"value\":2},\"plot\":null,\"render_mode\":\"css\",\"right_units\":\"screen\",\"top_units\":\"screen\"},\"id\":\"64e3a308-0068-4676-ad99-9752ef85de52\",\"type\":\"BoxAnnotation\"},{\"attributes\":{\"fill_color\":{\"value\":\"blue\"},\"line_color\":{\"value\":\"blue\"},\"x\":{\"field\":\"x\"},\"y\":{\"field\":\"y\"}},\"id\":\"6237c837-d858-4e36-a19b-d6559fcb1729\",\"type\":\"Circle\"},{\"attributes\":{\"fill_color\":{\"value\":\"black\"},\"x\":{\"field\":\"x\"},\"y\":{\"field\":\"y\"}},\"id\":\"9000f016-0a65-4b89-98d9-3d54d42e1735\",\"type\":\"Circle\"},{\"attributes\":{\"plot\":{\"id\":\"e2a2562b-517d-48aa-a188-3fe634605015\",\"subtype\":\"Figure\",\"type\":\"Plot\"}},\"id\":\"d7b120de-5afd-4759-87bc-eb6625cfe670\",\"type\":\"WheelZoomTool\"},{\"attributes\":{},\"id\":\"f1fbd884-3e8e-4f5f-b926-5c00b011a183\",\"type\":\"BasicTickFormatter\"},{\"attributes\":{\"line_alpha\":{\"value\":0.1},\"line_color\":{\"value\":\"#1f77b4\"},\"x\":{\"field\":\"x\"},\"y\":{\"field\":\"y\"}},\"id\":\"d30f9445-61dc-4737-b3e8-e79a5720606a\",\"type\":\"Line\"},{\"attributes\":{\"data_source\":{\"id\":\"fa6beff7-0f07-4087-a63f-4722cb6ede42\",\"type\":\"ColumnDataSource\"},\"glyph\":{\"id\":\"09a11437-c804-4c0a-92d2-0ab81d8c88fe\",\"type\":\"Line\"},\"hover_glyph\":null,\"nonselection_glyph\":{\"id\":\"00aaa5bd-86bd-45ef-987f-463b45918060\",\"type\":\"Line\"},\"selection_glyph\":null},\"id\":\"e954ea07-f778-4b92-b7c2-06970aacbfa0\",\"type\":\"GlyphRenderer\"},{\"attributes\":{\"dimension\":1,\"plot\":{\"id\":\"e2a2562b-517d-48aa-a188-3fe634605015\",\"subtype\":\"Figure\",\"type\":\"Plot\"},\"ticker\":{\"id\":\"da0eb873-3dc6-4d5b-8424-ed8f5af3c07b\",\"type\":\"BasicTicker\"}},\"id\":\"c9004ac7-86eb-42ee-821f-9c421c2bcbeb\",\"type\":\"Grid\"},{\"attributes\":{\"data_source\":{\"id\":\"1d35276f-9645-4b93-8b96-32a81dc83988\",\"type\":\"ColumnDataSource\"},\"glyph\":{\"id\":\"630ed03f-4696-4e9a-89d7-88438e344ae8\",\"type\":\"Line\"},\"hover_glyph\":null,\"nonselection_glyph\":{\"id\":\"6116dfdf-8ce1-4f7f-aa4e-244a6a72f918\",\"type\":\"Line\"},\"selection_glyph\":null},\"id\":\"632e2379-b14c-48e0-b2ab-5dee387f34e5\",\"type\":\"GlyphRenderer\"},{\"attributes\":{\"active_drag\":\"auto\",\"active_scroll\":\"auto\",\"active_tap\":\"auto\",\"tools\":[{\"id\":\"8c260d13-a651-46ab-ad15-27f21d75a6a9\",\"type\":\"PanTool\"},{\"id\":\"d7b120de-5afd-4759-87bc-eb6625cfe670\",\"type\":\"WheelZoomTool\"},{\"id\":\"c019433b-1ed9-438a-9ad0-a45c36316fd2\",\"type\":\"BoxZoomTool\"},{\"id\":\"c458d85e-250d-4ecc-b033-0174cbcb2b4a\",\"type\":\"SaveTool\"},{\"id\":\"a2fa0b4d-56b4-40fd-9aea-6025bcaa9e3d\",\"type\":\"ResetTool\"},{\"id\":\"feded070-2748-4a2c-921a-8f3d81f02c82\",\"type\":\"HelpTool\"}]},\"id\":\"07568746-e4a9-4fbb-b14d-0d112088b5c1\",\"type\":\"Toolbar\"},{\"attributes\":{\"fill_color\":{\"value\":\"green\"},\"line_color\":{\"value\":\"green\"},\"x\":{\"field\":\"x\"},\"y\":{\"field\":\"y\"}},\"id\":\"63dcc9df-539c-483e-b5de-1be0d167d514\",\"type\":\"Circle\"},{\"attributes\":{\"items\":[{\"id\":\"7b10a0e4-b765-4f45-8929-118177279351\",\"type\":\"LegendItem\"},{\"id\":\"f707e47d-92a3-4bf3-a98f-fb0e817efee1\",\"type\":\"LegendItem\"},{\"id\":\"f70ed71e-d60d-40dc-8e2c-f8cb7b70508c\",\"type\":\"LegendItem\"},{\"id\":\"228acb89-3dac-48fb-af80-6d2fbe3a3b2c\",\"type\":\"LegendItem\"}],\"location\":[-150.0,-200.0],\"plot\":{\"id\":\"e2a2562b-517d-48aa-a188-3fe634605015\",\"subtype\":\"Figure\",\"type\":\"Plot\"}},\"id\":\"df1b5c94-0957-4d42-8915-28791b8c7551\",\"type\":\"Legend\"},{\"attributes\":{\"callback\":null,\"column_names\":[\"x\",\"y\"],\"data\":{\"x\":[0,1,2,3,4,5,6,7,8,9],\"y\":[-7.20780852768,-6.48027491729,-6.39355881137,-6.35073216324,-6.32447008592,-6.30691083434,-6.29370869898,-6.28376425986,-6.27617922491,-6.27016617593]}},\"id\":\"e2060eba-3cee-422f-a9d5-5c0aae5584b6\",\"type\":\"ColumnDataSource\"},{\"attributes\":{\"plot\":{\"id\":\"e2a2562b-517d-48aa-a188-3fe634605015\",\"subtype\":\"Figure\",\"type\":\"Plot\"}},\"id\":\"a2fa0b4d-56b4-40fd-9aea-6025bcaa9e3d\",\"type\":\"ResetTool\"},{\"attributes\":{\"below\":[{\"id\":\"b751ff22-d5aa-4556-9b48-8942e8fda75f\",\"type\":\"LinearAxis\"}],\"left\":[{\"id\":\"bdda29b2-611a-443f-88e4-313ac84928c2\",\"type\":\"LinearAxis\"}],\"plot_height\":400,\"renderers\":[{\"id\":\"b751ff22-d5aa-4556-9b48-8942e8fda75f\",\"type\":\"LinearAxis\"},{\"id\":\"78fa50aa-5f00-4f78-ac54-817e8c7dd2f6\",\"type\":\"Grid\"},{\"id\":\"bdda29b2-611a-443f-88e4-313ac84928c2\",\"type\":\"LinearAxis\"},{\"id\":\"c9004ac7-86eb-42ee-821f-9c421c2bcbeb\",\"type\":\"Grid\"},{\"id\":\"64e3a308-0068-4676-ad99-9752ef85de52\",\"type\":\"BoxAnnotation\"},{\"id\":\"4623288a-8985-4c5e-85cd-81ca64a3a74d\",\"type\":\"GlyphRenderer\"},{\"id\":\"3775932a-939c-41f2-a264-e33db4b967db\",\"type\":\"GlyphRenderer\"},{\"id\":\"3d50466d-ab53-4def-9af8-e82997bd8260\",\"type\":\"GlyphRenderer\"},{\"id\":\"c1f2c94f-ec4f-4e2a-a650-bc456a7061ff\",\"type\":\"GlyphRenderer\"},{\"id\":\"632e2379-b14c-48e0-b2ab-5dee387f34e5\",\"type\":\"GlyphRenderer\"},{\"id\":\"0d0c5e3e-adaf-48e1-bd3d-48392d26b9c9\",\"type\":\"GlyphRenderer\"},{\"id\":\"e954ea07-f778-4b92-b7c2-06970aacbfa0\",\"type\":\"GlyphRenderer\"},{\"id\":\"333460db-72a3-4d65-86d4-e9ade8dd7f03\",\"type\":\"GlyphRenderer\"},{\"id\":\"df1b5c94-0957-4d42-8915-28791b8c7551\",\"type\":\"Legend\"}],\"right\":[{\"id\":\"df1b5c94-0957-4d42-8915-28791b8c7551\",\"type\":\"Legend\"}],\"title\":{\"id\":\"3c80043d-4daa-4259-b101-91fb8f9e5498\",\"type\":\"Title\"},\"tool_events\":{\"id\":\"cd38df34-5086-48ce-8407-94c153499f04\",\"type\":\"ToolEvents\"},\"toolbar\":{\"id\":\"07568746-e4a9-4fbb-b14d-0d112088b5c1\",\"type\":\"Toolbar\"},\"toolbar_location\":null,\"x_range\":{\"id\":\"bdf2a905-7ec5-4ef4-95ed-417a801865d4\",\"type\":\"DataRange1d\"},\"y_range\":{\"id\":\"ca0fc5fc-83ce-4781-a3ae-a466b32ccaac\",\"type\":\"DataRange1d\"}},\"id\":\"e2a2562b-517d-48aa-a188-3fe634605015\",\"subtype\":\"Figure\",\"type\":\"Plot\"},{\"attributes\":{},\"id\":\"cd38df34-5086-48ce-8407-94c153499f04\",\"type\":\"ToolEvents\"},{\"attributes\":{\"overlay\":{\"id\":\"64e3a308-0068-4676-ad99-9752ef85de52\",\"type\":\"BoxAnnotation\"},\"plot\":{\"id\":\"e2a2562b-517d-48aa-a188-3fe634605015\",\"subtype\":\"Figure\",\"type\":\"Plot\"}},\"id\":\"c019433b-1ed9-438a-9ad0-a45c36316fd2\",\"type\":\"BoxZoomTool\"},{\"attributes\":{\"label\":{\"value\":\"sym after\"},\"renderers\":[{\"id\":\"632e2379-b14c-48e0-b2ab-5dee387f34e5\",\"type\":\"GlyphRenderer\"}]},\"id\":\"f70ed71e-d60d-40dc-8e2c-f8cb7b70508c\",\"type\":\"LegendItem\"},{\"attributes\":{\"axis_label\":\"Iterations\",\"formatter\":{\"id\":\"f1fbd884-3e8e-4f5f-b926-5c00b011a183\",\"type\":\"BasicTickFormatter\"},\"plot\":{\"id\":\"e2a2562b-517d-48aa-a188-3fe634605015\",\"subtype\":\"Figure\",\"type\":\"Plot\"},\"ticker\":{\"id\":\"6c1bd0c7-a57c-4489-b71f-db6a1230e162\",\"type\":\"BasicTicker\"}},\"id\":\"b751ff22-d5aa-4556-9b48-8942e8fda75f\",\"type\":\"LinearAxis\"},{\"attributes\":{\"line_color\":{\"value\":\"green\"},\"x\":{\"field\":\"x\"},\"y\":{\"field\":\"y\"}},\"id\":\"630ed03f-4696-4e9a-89d7-88438e344ae8\",\"type\":\"Line\"},{\"attributes\":{},\"id\":\"6c1bd0c7-a57c-4489-b71f-db6a1230e162\",\"type\":\"BasicTicker\"},{\"attributes\":{\"line_alpha\":{\"value\":0.1},\"line_color\":{\"value\":\"#1f77b4\"},\"x\":{\"field\":\"x\"},\"y\":{\"field\":\"y\"}},\"id\":\"8ebba2fc-cf98-432f-9b4e-e6bc2ad847fd\",\"type\":\"Line\"}],\"root_ids\":[\"e2a2562b-517d-48aa-a188-3fe634605015\"]},\"title\":\"Bokeh Application\",\"version\":\"0.12.3\"}};\n",
       "            var render_items = [{\"docid\":\"39a83ac1-764c-44b1-bf27-915847aa88f3\",\"elementid\":\"8e3617e7-f2a2-4f67-8013-f9c4e99806d7\",\"modelid\":\"e2a2562b-517d-48aa-a188-3fe634605015\"}];\n",
       "            \n",
       "            Bokeh.embed.embed_items(docs_json, render_items);\n",
       "        });\n",
       "      },\n",
       "      function(Bokeh) {\n",
       "      }\n",
       "    ];\n",
       "  \n",
       "    function run_inline_js() {\n",
       "      \n",
       "      if ((window.Bokeh !== undefined) || (force === \"1\")) {\n",
       "        for (var i = 0; i < inline_js.length; i++) {\n",
       "          inline_js[i](window.Bokeh);\n",
       "        }if (force === \"1\") {\n",
       "          display_loaded();\n",
       "        }} else if (Date.now() < window._bokeh_timeout) {\n",
       "        setTimeout(run_inline_js, 100);\n",
       "      } else if (!window._bokeh_failed_load) {\n",
       "        console.log(\"Bokeh: BokehJS failed to load within specified timeout.\");\n",
       "        window._bokeh_failed_load = true;\n",
       "      } else if (!force) {\n",
       "        var cell = $(\"#8e3617e7-f2a2-4f67-8013-f9c4e99806d7\").parents('.cell').data().cell;\n",
       "        cell.output_area.append_execute_result(NB_LOAD_WARNING)\n",
       "      }\n",
       "  \n",
       "    }\n",
       "  \n",
       "    if (window._bokeh_is_loading === 0) {\n",
       "      console.log(\"Bokeh: BokehJS loaded, going straight to plotting\");\n",
       "      run_inline_js();\n",
       "    } else {\n",
       "      load_libs(js_urls, function() {\n",
       "        console.log(\"Bokeh: BokehJS plotting callback run at\", now());\n",
       "        run_inline_js();\n",
       "      });\n",
       "    }\n",
       "  }(this));\n",
       "</script>"
      ]
     },
     "metadata": {},
     "output_type": "display_data"
    }
   ],
   "source": [
    "iterations = range(10)\n",
    "\n",
    "p1 = figure(title='Variational lower bound', x_axis_label='Iterations', y_axis_label='Per word bound')\n",
    "s1 = p1.line(iterations, lda_old_sym, color='red')\n",
    "p1.circle(iterations, lda_old_sym, color='red')\n",
    "s2 = p1.line(iterations, lda_old_auto, color='blue')\n",
    "p1.circle(iterations, lda_old_auto, color='blue')\n",
    "s3 = p1.line(iterations, lda_new_sym, color='green')\n",
    "p1.circle(iterations, lda_new_sym, color='green')\n",
    "s4 = p1.line(iterations, lda_new_auto, color='black')\n",
    "p1.circle(iterations, lda_new_auto, color='black')\n",
    "legend = Legend(items=[\n",
    "        ('sym before', [s1]),\n",
    "        ('auto before', [s2]),\n",
    "        ('sym after', [s3]),\n",
    "        ('auto after', [s4]),\n",
    "    ], location=(-150.0, -200.0))\n",
    "p1.add_layout(legend, 'right')\n",
    "p1.plot_height=400\n",
    "p1.plot_width=600\n",
    "p1.toolbar_location = None\n",
    "\n",
    "show(p1)"
   ]
  },
  {
   "cell_type": "markdown",
   "metadata": {},
   "source": [
    "### chunksize=1"
   ]
  },
  {
   "cell_type": "code",
   "execution_count": 201,
   "metadata": {
    "collapsed": true
   },
   "outputs": [],
   "source": [
    "lda_new_sym1 = [-6.80134796317, -6.75097531201, -6.73886070304, -6.72962711303, -6.72267638585, -6.71606341239, -6.70971257012, -6.70394757735, -6.69955095496, -6.69904909566]\n",
    "\n",
    "lda_new_auto1 = [-6.79151637522, -6.69692823872, -6.6743960144, -6.66393359524, -6.6590651321, -6.65639088794, -6.65541702115, -6.65517477998, -6.65463825675, -6.65438399488]"
   ]
  },
  {
   "cell_type": "code",
   "execution_count": 202,
   "metadata": {
    "collapsed": true
   },
   "outputs": [],
   "source": [
    "lda_old_sym1 = [-6.90661157714, -6.85064402263, -6.83076125336, -6.82225105487, -6.8195549754, -6.81626842372, -6.81311867382, -6.80953109107, -6.80673987741, -6.80428929604]\n",
    "\n",
    "lda_old_auto1 = [-6.88633178128, -6.81238227988, -6.79358619197, -6.78386386551, -6.77778353483, -6.77287024956, -6.76896059942, -6.76567813313, -6.7632620623, -6.76098877617]"
   ]
  },
  {
   "cell_type": "code",
   "execution_count": null,
   "metadata": {
    "collapsed": true
   },
   "outputs": [],
   "source": []
  }
 ],
 "metadata": {
  "kernelspec": {
   "display_name": "Python 3",
   "language": "python",
   "name": "python3"
  },
  "language_info": {
   "codemirror_mode": {
    "name": "ipython",
    "version": 3
   },
   "file_extension": ".py",
   "mimetype": "text/x-python",
   "name": "python",
   "nbconvert_exporter": "python",
   "pygments_lexer": "ipython3",
   "version": "3.5.2"
  }
 },
 "nbformat": 4,
 "nbformat_minor": 0
}
