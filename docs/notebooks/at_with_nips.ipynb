{
 "cells": [
  {
   "cell_type": "code",
   "execution_count": 1,
   "metadata": {
    "collapsed": false
   },
   "outputs": [
    {
     "data": {
      "application/javascript": [
       "// Run for table of contents.\n",
       "$.getScript('https://kmahelona.github.io/ipython_notebook_goodies/ipython_notebook_toc.js')\n",
       "\n",
       "// https://github.com/kmahelona/ipython_notebook_goodies"
      ],
      "text/plain": [
       "<IPython.core.display.Javascript object>"
      ]
     },
     "metadata": {},
     "output_type": "display_data"
    }
   ],
   "source": [
    "%%javascript\n",
    "// Run for table of contents.\n",
    "$.getScript('https://kmahelona.github.io/ipython_notebook_goodies/ipython_notebook_toc.js')\n",
    "\n",
    "// https://github.com/kmahelona/ipython_notebook_goodies"
   ]
  },
  {
   "cell_type": "markdown",
   "metadata": {},
   "source": [
    "# Tests with NIPS data\n",
    "\n",
    "<h2 id=\"tocheading\">Table of Contents</h2>\n",
    "<div id=\"toc\"></div>\n"
   ]
  },
  {
   "cell_type": "code",
   "execution_count": 4,
   "metadata": {
    "collapsed": false
   },
   "outputs": [],
   "source": [
    "import numpy as np\n",
    "import matplotlib\n",
    "import matplotlib.pyplot as plt\n",
    "from nltk.tokenize import RegexpTokenizer\n",
    "from nltk.stem.wordnet import WordNetLemmatizer\n",
    "import gensim\n",
    "from gensim.models import Phrases\n",
    "from gensim.corpora import Dictionary\n",
    "from gensim.models import LdaModel\n",
    "from imp import reload\n",
    "from pprint import pprint\n",
    "\n",
    "import logging\n",
    "\n",
    "from gensim.models import AtVb\n",
    "from gensim.models import atvb\n",
    "from gensim.models import OnlineAtVb\n",
    "from gensim.models import onlineatvb\n",
    "from gensim.models import MinibatchAtVb\n",
    "from gensim.models import minibatchatvb\n",
    "\n",
    "from time import time\n",
    "\n",
    "%matplotlib inline"
   ]
  },
  {
   "cell_type": "code",
   "execution_count": 5,
   "metadata": {
    "collapsed": true
   },
   "outputs": [],
   "source": [
    "from gensim.models import onlineatvb2\n",
    "OnlineAtVb2 = onlineatvb2.OnlineAtVb2"
   ]
  },
  {
   "cell_type": "code",
   "execution_count": 6,
   "metadata": {
    "collapsed": false
   },
   "outputs": [],
   "source": [
    "# Configure logging.\n",
    "\n",
    "log_dir = '../../../log_files/log.log'  # On my own machine.\n",
    "#log_dir = '../../../../log_files/log.log'  # On Hetzner\n",
    "\n",
    "logger = logging.getLogger()\n",
    "fhandler = logging.FileHandler(filename=log_dir, mode='a')\n",
    "formatter = logging.Formatter('%(asctime)s - %(name)s - %(levelname)s - %(message)s')\n",
    "fhandler.setFormatter(formatter)\n",
    "logger.addHandler(fhandler)\n",
    "logger.setLevel(logging.DEBUG)"
   ]
  },
  {
   "cell_type": "markdown",
   "metadata": {},
   "source": [
    "## Load and prepare data structure"
   ]
  },
  {
   "cell_type": "code",
   "execution_count": 221,
   "metadata": {
    "collapsed": false
   },
   "outputs": [],
   "source": [
    "import os\n",
    "import re\n",
    "\n",
    "# Folder containing all NIPS papers.\n",
    "data_dir = '../../../../data/nipstxt/'  # On my own machine.\n",
    "#data_dir = '../../../nipstxt/'  # On Hetzner.\n",
    "\n",
    "# Folders containin individual NIPS papers.\n",
    "#yrs = ['00', '01', '02', '03', '04', '05', '06', '07', '08', '09', '10', '11', '12']\n",
    "yrs = ['00', '01', '02']\n",
    "dirs = ['nips' + yr for yr in yrs]\n",
    "\n",
    "# Get all document texts and their corresponding IDs.\n",
    "docs = []\n",
    "doc_ids = []\n",
    "for yr_dir in dirs:\n",
    "    files = os.listdir(data_dir + yr_dir)  # List of filenames.\n",
    "    for filen in files:\n",
    "        # Get document ID.\n",
    "        (idx1, idx2) = re.search('[0-9]+', filen).span()  # Matches the indexes of the start end end of the ID.\n",
    "        doc_ids.append(yr_dir[4:] + '_' + str(int(filen[idx1:idx2])))\n",
    "        \n",
    "        # Read document text.\n",
    "        # Note: ignoring characters that cause encoding errors.\n",
    "        with open(data_dir + yr_dir + '/' + filen, errors='ignore', encoding='utf-8') as fid:\n",
    "            txt = fid.read()\n",
    "        docs.append(txt)"
   ]
  },
  {
   "cell_type": "code",
   "execution_count": 222,
   "metadata": {
    "collapsed": false
   },
   "outputs": [],
   "source": [
    "filenames = [data_dir + 'idx/a' + yr + '.txt' for yr in yrs]  # Using the years defined in previous cell.\n",
    "\n",
    "# Get all author names and their corresponding document IDs.\n",
    "author2id = dict()\n",
    "author2doc = dict()\n",
    "i = 0\n",
    "for yr in yrs:\n",
    "    filename = data_dir + 'idx/a' + yr + '.txt'\n",
    "    for line in open(filename, errors='ignore', encoding='utf-8'):\n",
    "        contents = re.split(',', line)\n",
    "        author_name = (contents[1] + contents[0]).strip()\n",
    "        ids = [c.strip() for c in contents[2:]]\n",
    "        if not author2id.get(author_name):\n",
    "            author2id[author_name] = i\n",
    "            author2doc[i] = []\n",
    "            i += 1\n",
    "        \n",
    "        author_id = author2id[author_name]\n",
    "        author2doc[author_id].extend([yr + '_' + id for id in ids])\n",
    "        "
   ]
  },
  {
   "cell_type": "code",
   "execution_count": 223,
   "metadata": {
    "collapsed": false
   },
   "outputs": [],
   "source": [
    "# Make a mapping from author ID to author name.\n",
    "id2author = dict(zip(author2id.values(), author2id.keys()))"
   ]
  },
  {
   "cell_type": "code",
   "execution_count": 224,
   "metadata": {
    "collapsed": false
   },
   "outputs": [],
   "source": [
    "# Use an integer ID in author2doc, instead of the IDs provided in the NIPS dataset.\n",
    "\n",
    "# Mapping from ID of document in NIPS datast, to an integer ID.\n",
    "doc_id_dict = dict(zip(doc_ids, range(len(doc_ids))))\n",
    "\n",
    "for a, a_doc_ids in author2doc.items():\n",
    "    for i, doc_id in enumerate(a_doc_ids):\n",
    "        author2doc[a][i] = doc_id_dict[doc_id]"
   ]
  },
  {
   "cell_type": "code",
   "execution_count": 225,
   "metadata": {
    "collapsed": false
   },
   "outputs": [],
   "source": [
    "# Make a mapping from document IDs to author IDs.\n",
    "# Same as in the atvb code.\n",
    "doc2author = {}\n",
    "for d, _ in enumerate(docs):\n",
    "    author_ids = []\n",
    "    for a, a_doc_ids in author2doc.items():\n",
    "        if d in a_doc_ids:\n",
    "            author_ids.append(a)\n",
    "    doc2author[d] = author_ids"
   ]
  },
  {
   "cell_type": "markdown",
   "metadata": {},
   "source": [
    "## Pre-process and vectorize data"
   ]
  },
  {
   "cell_type": "code",
   "execution_count": 226,
   "metadata": {
    "collapsed": false
   },
   "outputs": [],
   "source": [
    "# Tokenize the documents.\n",
    "\n",
    "# Split the documents into tokens.\n",
    "tokenizer = RegexpTokenizer(r'\\w+')\n",
    "for idx in range(len(docs)):\n",
    "    docs[idx] = docs[idx].lower()  # Convert to lowercase.\n",
    "    docs[idx] = tokenizer.tokenize(docs[idx])  # Split into words.\n",
    "\n",
    "# Remove numbers, but not words that contain numbers.\n",
    "docs = [[token for token in doc if not token.isnumeric()] for doc in docs]\n",
    "\n",
    "# Remove words that are only one character.\n",
    "docs = [[token for token in doc if len(token) > 1] for doc in docs]"
   ]
  },
  {
   "cell_type": "code",
   "execution_count": 227,
   "metadata": {
    "collapsed": true
   },
   "outputs": [],
   "source": [
    "# Lemmatize the documents.\n",
    "\n",
    "# Lemmatize all words in documents.\n",
    "lemmatizer = WordNetLemmatizer()\n",
    "docs = [[lemmatizer.lemmatize(token) for token in doc] for doc in docs]"
   ]
  },
  {
   "cell_type": "code",
   "execution_count": 228,
   "metadata": {
    "collapsed": true
   },
   "outputs": [],
   "source": [
    "# Compute bigrams.\n",
    "\n",
    "# Add bigrams and trigrams to docs (only ones that appear 20 times or more).\n",
    "bigram = Phrases(docs, min_count=20)\n",
    "for idx in range(len(docs)):\n",
    "    for token in bigram[docs[idx]]:\n",
    "        if '_' in token:\n",
    "            # Token is a bigram, add to document.\n",
    "            docs[idx].append(token)"
   ]
  },
  {
   "cell_type": "code",
   "execution_count": 229,
   "metadata": {
    "collapsed": true
   },
   "outputs": [],
   "source": [
    "# Create a dictionary representation of the documents.\n",
    "dictionary = Dictionary(docs)"
   ]
  },
  {
   "cell_type": "code",
   "execution_count": 230,
   "metadata": {
    "collapsed": false
   },
   "outputs": [
    {
     "data": {
      "image/png": "[encoded data removed]",
      "text/plain": [
       "<matplotlib.figure.Figure at 0x7efc9d2f3f98>"
      ]
     },
     "metadata": {},
     "output_type": "display_data"
    }
   ],
   "source": [
    "# Frequency distribution of words.\n",
    "\n",
    "one_doc = []\n",
    "for doc in docs:\n",
    "    one_doc.extend(doc)\n",
    "\n",
    "bow = dictionary.doc2bow(one_doc)\n",
    "word_freq = [cnt for _, cnt in bow]\n",
    "\n",
    "plt.plot(sorted(word_freq))\n",
    "plt.xlabel('Words')\n",
    "plt.ylabel('#Occurences')\n",
    "plt.title('Frequency distribution of words.\\nPower-law behaviour.')\n",
    "plt.show()"
   ]
  },
  {
   "cell_type": "code",
   "execution_count": 231,
   "metadata": {
    "collapsed": true
   },
   "outputs": [],
   "source": [
    "# Remove rare and common tokens.\n",
    "\n",
    "# Filter out words that occur too frequently or too rarely.\n",
    "max_freq = 0.5\n",
    "min_wordcount = 20\n",
    "dictionary.filter_extremes(no_below=min_wordcount, no_above=max_freq)\n",
    "\n",
    "dict0 = dictionary[0]  # This sort of \"initializes\" dictionary.id2token."
   ]
  },
  {
   "cell_type": "code",
   "execution_count": 232,
   "metadata": {
    "collapsed": true
   },
   "outputs": [],
   "source": [
    "# Vectorize data.\n",
    "\n",
    "# Bag-of-words representation of the documents.\n",
    "corpus = [dictionary.doc2bow(doc) for doc in docs]"
   ]
  },
  {
   "cell_type": "code",
   "execution_count": 233,
   "metadata": {
    "collapsed": false
   },
   "outputs": [
    {
     "name": "stdout",
     "output_type": "stream",
     "text": [
      "Number of authors: 536\n",
      "Number of unique tokens: 2245\n",
      "Number of documents: 286\n"
     ]
    }
   ],
   "source": [
    "print('Number of authors: %d' % len(author2doc))\n",
    "print('Number of unique tokens: %d' % len(dictionary))\n",
    "print('Number of documents: %d' % len(corpus))"
   ]
  },
  {
   "cell_type": "markdown",
   "metadata": {},
   "source": [
    "### Disjoint set stuff"
   ]
  },
  {
   "cell_type": "code",
   "execution_count": 20,
   "metadata": {
    "collapsed": false
   },
   "outputs": [],
   "source": [
    "def find_disjoint_sets(d):\n",
    "    while True:\n",
    "        for tuple_, set1 in d.items():\n",
    "            try:\n",
    "                match = next(k for k, set2 in d.items() if k != tuple_ and set1 & set2)\n",
    "            except StopIteration:\n",
    "                # no match for this key - keep looking\n",
    "                continue\n",
    "            else:\n",
    "                #print('merging', tuple(set1), match)\n",
    "                d[tuple_] = set1 | d.pop(match)\n",
    "                break\n",
    "        else:\n",
    "            # no match for any key - we are done!\n",
    "            break\n",
    "\n",
    "    output = sorted(tuple(s) for s in d.values())\n",
    "    \n",
    "    return output"
   ]
  },
  {
   "cell_type": "code",
   "execution_count": 21,
   "metadata": {
    "collapsed": false,
    "scrolled": false
   },
   "outputs": [
    {
     "name": "stdout",
     "output_type": "stream",
     "text": [
      "[(0,), (1,), (2,), (3,), (4,), (6,), (7,), (8,), (9,), (10,), (11,), (12,), (13,), (14,), (15,), (16, 63, 39), (18,), (19, 59), (20,), (21,), (22,), (23,), (24, 53), (25, 84), (26,), (27,), (28,), (29,), (30,), (32,), (33,), (34,), (35,), (36,), (37,), (38,), (40,), (41,), (42,), (43,), (44,), (45,), (46,), (47,), (48, 17, 58, 5), (49,), (50,), (51,), (52,), (54,), (55,), (56,), (57,), (60,), (61,), (62,), (64,), (65,), (66,), (67,), (68,), (69,), (70,), (71,), (72,), (73, 31), (74,), (75,), (76,), (77,), (78,), (79,), (80,), (81,), (82,), (83,), (85,), (86,), (87,), (88,), (89,)]\n",
      "81\n",
      "0.0870358943939209\n"
     ]
    }
   ],
   "source": [
    "start = time()\n",
    "\n",
    "thing = {a: set(_list) for a, _list in author2doc.items()}\n",
    "disjoint_authors = find_disjoint_sets(thing)\n",
    "print(disjoint_authors)\n",
    "print(len(disjoint_authors))\n",
    "\n",
    "print(time() - start)"
   ]
  },
  {
   "cell_type": "markdown",
   "metadata": {},
   "source": [
    "## Online AT VB 2"
   ]
  },
  {
   "cell_type": "code",
   "execution_count": 122,
   "metadata": {
    "collapsed": true
   },
   "outputs": [],
   "source": [
    "reload(onlineatvb2)\n",
    "OnlineAtVb2 = onlineatvb2.OnlineAtVb2"
   ]
  },
  {
   "cell_type": "code",
   "execution_count": 123,
   "metadata": {
    "collapsed": false
   },
   "outputs": [
    {
     "ename": "KeyboardInterrupt",
     "evalue": "",
     "output_type": "error",
     "traceback": [
      "\u001b[0;31m---------------------------------------------------------------------------\u001b[0m",
      "\u001b[0;31mKeyboardInterrupt\u001b[0m                         Traceback (most recent call last)",
      "\u001b[0;32m<ipython-input-123-a4c6687f8569>\u001b[0m in \u001b[0;36m<module>\u001b[0;34m()\u001b[0m\n\u001b[0;32m----> 1\u001b[0;31m \u001b[0mget_ipython\u001b[0m\u001b[0;34m(\u001b[0m\u001b[0;34m)\u001b[0m\u001b[0;34m.\u001b[0m\u001b[0mmagic\u001b[0m\u001b[0;34m(\u001b[0m\u001b[0;34m'time model_online2 = OnlineAtVb2(corpus=corpus, grouped_corpus=disjoint_authors, num_topics=10, id2word=dictionary.id2token, id2author=id2author,                    author2doc=author2doc, doc2author=doc2author, threshold=1e-19,                    iterations=10, passes=3, alpha=None, eta=None, decay=0.5, offset=1.0,                    eval_every=1, random_state=1, var_lambda=None)'\u001b[0m\u001b[0;34m)\u001b[0m\u001b[0;34m\u001b[0m\u001b[0m\n\u001b[0m",
      "\u001b[0;32m/home/olavur/.virtualenvs/thesis/lib/python3.5/site-packages/IPython/core/interactiveshell.py\u001b[0m in \u001b[0;36mmagic\u001b[0;34m(self, arg_s)\u001b[0m\n\u001b[1;32m   2156\u001b[0m         \u001b[0mmagic_name\u001b[0m\u001b[0;34m,\u001b[0m \u001b[0m_\u001b[0m\u001b[0;34m,\u001b[0m \u001b[0mmagic_arg_s\u001b[0m \u001b[0;34m=\u001b[0m \u001b[0marg_s\u001b[0m\u001b[0;34m.\u001b[0m\u001b[0mpartition\u001b[0m\u001b[0;34m(\u001b[0m\u001b[0;34m' '\u001b[0m\u001b[0;34m)\u001b[0m\u001b[0;34m\u001b[0m\u001b[0m\n\u001b[1;32m   2157\u001b[0m         \u001b[0mmagic_name\u001b[0m \u001b[0;34m=\u001b[0m \u001b[0mmagic_name\u001b[0m\u001b[0;34m.\u001b[0m\u001b[0mlstrip\u001b[0m\u001b[0;34m(\u001b[0m\u001b[0mprefilter\u001b[0m\u001b[0;34m.\u001b[0m\u001b[0mESC_MAGIC\u001b[0m\u001b[0;34m)\u001b[0m\u001b[0;34m\u001b[0m\u001b[0m\n\u001b[0;32m-> 2158\u001b[0;31m         \u001b[0;32mreturn\u001b[0m \u001b[0mself\u001b[0m\u001b[0;34m.\u001b[0m\u001b[0mrun_line_magic\u001b[0m\u001b[0;34m(\u001b[0m\u001b[0mmagic_name\u001b[0m\u001b[0;34m,\u001b[0m \u001b[0mmagic_arg_s\u001b[0m\u001b[0;34m)\u001b[0m\u001b[0;34m\u001b[0m\u001b[0m\n\u001b[0m\u001b[1;32m   2159\u001b[0m \u001b[0;34m\u001b[0m\u001b[0m\n\u001b[1;32m   2160\u001b[0m     \u001b[0;31m#-------------------------------------------------------------------------\u001b[0m\u001b[0;34m\u001b[0m\u001b[0;34m\u001b[0m\u001b[0m\n",
      "\u001b[0;32m/home/olavur/.virtualenvs/thesis/lib/python3.5/site-packages/IPython/core/interactiveshell.py\u001b[0m in \u001b[0;36mrun_line_magic\u001b[0;34m(self, magic_name, line)\u001b[0m\n\u001b[1;32m   2077\u001b[0m                 \u001b[0mkwargs\u001b[0m\u001b[0;34m[\u001b[0m\u001b[0;34m'local_ns'\u001b[0m\u001b[0;34m]\u001b[0m \u001b[0;34m=\u001b[0m \u001b[0msys\u001b[0m\u001b[0;34m.\u001b[0m\u001b[0m_getframe\u001b[0m\u001b[0;34m(\u001b[0m\u001b[0mstack_depth\u001b[0m\u001b[0;34m)\u001b[0m\u001b[0;34m.\u001b[0m\u001b[0mf_locals\u001b[0m\u001b[0;34m\u001b[0m\u001b[0m\n\u001b[1;32m   2078\u001b[0m             \u001b[0;32mwith\u001b[0m \u001b[0mself\u001b[0m\u001b[0;34m.\u001b[0m\u001b[0mbuiltin_trap\u001b[0m\u001b[0;34m:\u001b[0m\u001b[0;34m\u001b[0m\u001b[0m\n\u001b[0;32m-> 2079\u001b[0;31m                 \u001b[0mresult\u001b[0m \u001b[0;34m=\u001b[0m \u001b[0mfn\u001b[0m\u001b[0;34m(\u001b[0m\u001b[0;34m*\u001b[0m\u001b[0margs\u001b[0m\u001b[0;34m,\u001b[0m\u001b[0;34m**\u001b[0m\u001b[0mkwargs\u001b[0m\u001b[0;34m)\u001b[0m\u001b[0;34m\u001b[0m\u001b[0m\n\u001b[0m\u001b[1;32m   2080\u001b[0m             \u001b[0;32mreturn\u001b[0m \u001b[0mresult\u001b[0m\u001b[0;34m\u001b[0m\u001b[0m\n\u001b[1;32m   2081\u001b[0m \u001b[0;34m\u001b[0m\u001b[0m\n",
      "\u001b[0;32m<decorator-gen-59>\u001b[0m in \u001b[0;36mtime\u001b[0;34m(self, line, cell, local_ns)\u001b[0m\n",
      "\u001b[0;32m/home/olavur/.virtualenvs/thesis/lib/python3.5/site-packages/IPython/core/magic.py\u001b[0m in \u001b[0;36m<lambda>\u001b[0;34m(f, *a, **k)\u001b[0m\n\u001b[1;32m    186\u001b[0m     \u001b[0;31m# but it's overkill for just that one bit of state.\u001b[0m\u001b[0;34m\u001b[0m\u001b[0;34m\u001b[0m\u001b[0m\n\u001b[1;32m    187\u001b[0m     \u001b[0;32mdef\u001b[0m \u001b[0mmagic_deco\u001b[0m\u001b[0;34m(\u001b[0m\u001b[0marg\u001b[0m\u001b[0;34m)\u001b[0m\u001b[0;34m:\u001b[0m\u001b[0;34m\u001b[0m\u001b[0m\n\u001b[0;32m--> 188\u001b[0;31m         \u001b[0mcall\u001b[0m \u001b[0;34m=\u001b[0m \u001b[0;32mlambda\u001b[0m \u001b[0mf\u001b[0m\u001b[0;34m,\u001b[0m \u001b[0;34m*\u001b[0m\u001b[0ma\u001b[0m\u001b[0;34m,\u001b[0m \u001b[0;34m**\u001b[0m\u001b[0mk\u001b[0m\u001b[0;34m:\u001b[0m \u001b[0mf\u001b[0m\u001b[0;34m(\u001b[0m\u001b[0;34m*\u001b[0m\u001b[0ma\u001b[0m\u001b[0;34m,\u001b[0m \u001b[0;34m**\u001b[0m\u001b[0mk\u001b[0m\u001b[0;34m)\u001b[0m\u001b[0;34m\u001b[0m\u001b[0m\n\u001b[0m\u001b[1;32m    189\u001b[0m \u001b[0;34m\u001b[0m\u001b[0m\n\u001b[1;32m    190\u001b[0m         \u001b[0;32mif\u001b[0m \u001b[0mcallable\u001b[0m\u001b[0;34m(\u001b[0m\u001b[0marg\u001b[0m\u001b[0;34m)\u001b[0m\u001b[0;34m:\u001b[0m\u001b[0;34m\u001b[0m\u001b[0m\n",
      "\u001b[0;32m/home/olavur/.virtualenvs/thesis/lib/python3.5/site-packages/IPython/core/magics/execution.py\u001b[0m in \u001b[0;36mtime\u001b[0;34m(self, line, cell, local_ns)\u001b[0m\n\u001b[1;32m   1178\u001b[0m         \u001b[0;32melse\u001b[0m\u001b[0;34m:\u001b[0m\u001b[0;34m\u001b[0m\u001b[0m\n\u001b[1;32m   1179\u001b[0m             \u001b[0mst\u001b[0m \u001b[0;34m=\u001b[0m \u001b[0mclock2\u001b[0m\u001b[0;34m(\u001b[0m\u001b[0;34m)\u001b[0m\u001b[0;34m\u001b[0m\u001b[0m\n\u001b[0;32m-> 1180\u001b[0;31m             \u001b[0mexec\u001b[0m\u001b[0;34m(\u001b[0m\u001b[0mcode\u001b[0m\u001b[0;34m,\u001b[0m \u001b[0mglob\u001b[0m\u001b[0;34m,\u001b[0m \u001b[0mlocal_ns\u001b[0m\u001b[0;34m)\u001b[0m\u001b[0;34m\u001b[0m\u001b[0m\n\u001b[0m\u001b[1;32m   1181\u001b[0m             \u001b[0mend\u001b[0m \u001b[0;34m=\u001b[0m \u001b[0mclock2\u001b[0m\u001b[0;34m(\u001b[0m\u001b[0;34m)\u001b[0m\u001b[0;34m\u001b[0m\u001b[0m\n\u001b[1;32m   1182\u001b[0m             \u001b[0mout\u001b[0m \u001b[0;34m=\u001b[0m \u001b[0;32mNone\u001b[0m\u001b[0;34m\u001b[0m\u001b[0m\n",
      "\u001b[0;32m<timed exec>\u001b[0m in \u001b[0;36m<module>\u001b[0;34m()\u001b[0m\n",
      "\u001b[0;32m/home/olavur/Dropbox/my_folder/workstuff/DTU/thesis/code/gensim/gensim/models/onlineatvb2.py\u001b[0m in \u001b[0;36m__init__\u001b[0;34m(self, corpus, grouped_corpus, num_topics, id2word, id2author, author2doc, doc2author, threshold, minimum_probability, iterations, passes, alpha, eta, decay, offset, eval_every, random_state, var_lambda)\u001b[0m\n\u001b[1;32m    140\u001b[0m \u001b[0;34m\u001b[0m\u001b[0m\n\u001b[1;32m    141\u001b[0m         \u001b[0;32mif\u001b[0m \u001b[0mcorpus\u001b[0m \u001b[0;32mis\u001b[0m \u001b[0;32mnot\u001b[0m \u001b[0;32mNone\u001b[0m\u001b[0;34m:\u001b[0m\u001b[0;34m\u001b[0m\u001b[0m\n\u001b[0;32m--> 142\u001b[0;31m             \u001b[0mself\u001b[0m\u001b[0;34m.\u001b[0m\u001b[0minference\u001b[0m\u001b[0;34m(\u001b[0m\u001b[0mcorpus\u001b[0m\u001b[0;34m,\u001b[0m \u001b[0mvar_lambda\u001b[0m\u001b[0;34m=\u001b[0m\u001b[0mvar_lambda\u001b[0m\u001b[0;34m)\u001b[0m\u001b[0;34m\u001b[0m\u001b[0m\n\u001b[0m\u001b[1;32m    143\u001b[0m \u001b[0;34m\u001b[0m\u001b[0m\n\u001b[1;32m    144\u001b[0m     \u001b[0;32mdef\u001b[0m \u001b[0mrho\u001b[0m\u001b[0;34m(\u001b[0m\u001b[0mself\u001b[0m\u001b[0;34m,\u001b[0m \u001b[0mt\u001b[0m\u001b[0;34m)\u001b[0m\u001b[0;34m:\u001b[0m\u001b[0;34m\u001b[0m\u001b[0m\n",
      "\u001b[0;32m/home/olavur/Dropbox/my_folder/workstuff/DTU/thesis/code/gensim/gensim/models/onlineatvb2.py\u001b[0m in \u001b[0;36minference\u001b[0;34m(self, corpus, var_lambda)\u001b[0m\n\u001b[1;32m    303\u001b[0m                                 \u001b[0mcts\u001b[0m \u001b[0;34m=\u001b[0m \u001b[0mnumpy\u001b[0m\u001b[0;34m.\u001b[0m\u001b[0marray\u001b[0m\u001b[0;34m(\u001b[0m\u001b[0;34m[\u001b[0m\u001b[0mcnt\u001b[0m \u001b[0;32mfor\u001b[0m \u001b[0m_\u001b[0m\u001b[0;34m,\u001b[0m \u001b[0mcnt\u001b[0m \u001b[0;32min\u001b[0m \u001b[0mdoc\u001b[0m\u001b[0;34m]\u001b[0m\u001b[0;34m)\u001b[0m  \u001b[0;31m# Word counts.\u001b[0m\u001b[0;34m\u001b[0m\u001b[0m\n\u001b[1;32m    304\u001b[0m                                 \u001b[0;32mfor\u001b[0m \u001b[0mvi\u001b[0m\u001b[0;34m,\u001b[0m \u001b[0mv\u001b[0m \u001b[0;32min\u001b[0m \u001b[0menumerate\u001b[0m\u001b[0;34m(\u001b[0m\u001b[0mids\u001b[0m\u001b[0;34m)\u001b[0m\u001b[0;34m:\u001b[0m\u001b[0;34m\u001b[0m\u001b[0m\n\u001b[0;32m--> 305\u001b[0;31m                                     \u001b[0mvar_gamma\u001b[0m\u001b[0;34m[\u001b[0m\u001b[0ma\u001b[0m\u001b[0;34m,\u001b[0m \u001b[0mk\u001b[0m\u001b[0;34m]\u001b[0m \u001b[0;34m+=\u001b[0m \u001b[0mcts\u001b[0m\u001b[0;34m[\u001b[0m\u001b[0mvi\u001b[0m\u001b[0;34m]\u001b[0m \u001b[0;34m*\u001b[0m \u001b[0mvar_mu\u001b[0m\u001b[0;34m[\u001b[0m\u001b[0;34m(\u001b[0m\u001b[0md\u001b[0m\u001b[0;34m,\u001b[0m \u001b[0mv\u001b[0m\u001b[0;34m,\u001b[0m \u001b[0ma\u001b[0m\u001b[0;34m)\u001b[0m\u001b[0;34m]\u001b[0m \u001b[0;34m*\u001b[0m \u001b[0mvar_phi\u001b[0m\u001b[0;34m[\u001b[0m\u001b[0;34m(\u001b[0m\u001b[0md\u001b[0m\u001b[0;34m,\u001b[0m \u001b[0mv\u001b[0m\u001b[0;34m,\u001b[0m \u001b[0mk\u001b[0m\u001b[0;34m)\u001b[0m\u001b[0;34m]\u001b[0m\u001b[0;34m\u001b[0m\u001b[0m\n\u001b[0m\u001b[1;32m    306\u001b[0m \u001b[0;34m\u001b[0m\u001b[0m\n\u001b[1;32m    307\u001b[0m                     \u001b[0;31m# Update Elogtheta, since gamma has been updated.\u001b[0m\u001b[0;34m\u001b[0m\u001b[0;34m\u001b[0m\u001b[0m\n",
      "\u001b[0;31mKeyboardInterrupt\u001b[0m: "
     ]
    }
   ],
   "source": [
    "%time model_online2 = OnlineAtVb2(corpus=corpus, grouped_corpus=disjoint_authors, num_topics=10, id2word=dictionary.id2token, id2author=id2author, \\\n",
    "                   author2doc=author2doc, doc2author=doc2author, threshold=1e-19, \\\n",
    "                   iterations=10, passes=3, alpha=None, eta=None, decay=0.5, offset=1.0, \\\n",
    "                   eval_every=1, random_state=1, var_lambda=None)\n"
   ]
  },
  {
   "cell_type": "code",
   "execution_count": null,
   "metadata": {
    "collapsed": true
   },
   "outputs": [],
   "source": [
    "model_online.show_topics()"
   ]
  },
  {
   "cell_type": "markdown",
   "metadata": {},
   "source": [
    "## Online AT VB"
   ]
  },
  {
   "cell_type": "code",
   "execution_count": 38,
   "metadata": {
    "collapsed": false
   },
   "outputs": [
    {
     "name": "stdout",
     "output_type": "stream",
     "text": [
      "CPU times: user 13.6 s, sys: 16 ms, total: 13.6 s\n",
      "Wall time: 13.6 s\n"
     ]
    }
   ],
   "source": [
    "%time lda = LdaModel(corpus=corpus, num_topics=10, id2word=dictionary.id2token, passes=10, \\\n",
    "               iterations=100, alpha='auto', eta='symmetric', random_state=1)\n",
    "var_lambda = lda.state.get_lambda()"
   ]
  },
  {
   "cell_type": "code",
   "execution_count": 234,
   "metadata": {
    "collapsed": true
   },
   "outputs": [],
   "source": [
    "reload(onlineatvb)\n",
    "OnlineAtVb = onlineatvb.OnlineAtVb"
   ]
  },
  {
   "cell_type": "code",
   "execution_count": 237,
   "metadata": {
    "collapsed": false
   },
   "outputs": [
    {
     "name": "stdout",
     "output_type": "stream",
     "text": [
      "CPU times: user 26min 26s, sys: 340 ms, total: 26min 26s\n",
      "Wall time: 26min 26s\n"
     ]
    }
   ],
   "source": [
    "%time model_online = OnlineAtVb(corpus=corpus, num_topics=10, id2word=dictionary.id2token, id2author=id2author, \\\n",
    "                   author2doc=author2doc, doc2author=doc2author, threshold=1e-10, \\\n",
    "                   iterations=10, passes=10, alpha=None, eta=None, decay=0.5, offset=1.0, \\\n",
    "                   eval_every=1, random_state=1, var_lambda=None)"
   ]
  },
  {
   "cell_type": "code",
   "execution_count": 30,
   "metadata": {
    "collapsed": true
   },
   "outputs": [],
   "source": [
    "reload(minibatchatvb)\n",
    "MinibatchAtVb = minibatchatvb.MinibatchAtVb"
   ]
  },
  {
   "cell_type": "code",
   "execution_count": 31,
   "metadata": {
    "collapsed": false
   },
   "outputs": [
    {
     "name": "stdout",
     "output_type": "stream",
     "text": [
      "CPU times: user 2min 1s, sys: 24 ms, total: 2min 1s\n",
      "Wall time: 2min 1s\n"
     ]
    }
   ],
   "source": [
    "%time model_online = MinibatchAtVb(corpus=corpus, num_topics=10, id2word=dictionary.id2token, id2author=id2author, \\\n",
    "                   author2doc=author2doc, doc2author=doc2author, threshold=1e-10, \\\n",
    "                   iterations=10, passes=3, alpha=None, eta=None, decay=0.5, offset=1.0, \\\n",
    "                   eval_every=1, random_state=1, var_lambda=None, chunksize=1)"
   ]
  },
  {
   "cell_type": "code",
   "execution_count": 238,
   "metadata": {
    "collapsed": false,
    "scrolled": false
   },
   "outputs": [
    {
     "data": {
      "text/plain": [
       "[(0,\n",
       "  '0.109*processor + 0.061*cm + 0.057*link + 0.047*update + 0.046*list + 0.038*temperature + 0.031*grid + 0.026*machine + 0.023*serial + 0.022*matched'),\n",
       " (1,\n",
       "  '0.065*chain + 0.054*velocity + 0.036*motion + 0.032*noise + 0.022*detection + 0.020*filter + 0.014*resolution + 0.014*gaussian + 0.013*real_time + 0.012*reconstruction'),\n",
       " (2,\n",
       "  '0.018*map + 0.012*region + 0.011*field + 0.011*cluster + 0.011*human + 0.010*receptive + 0.010*receptive_field + 0.008*orientation + 0.008*environment + 0.008*domain'),\n",
       " (3,\n",
       "  '0.046*memory + 0.031*string + 0.025*symbol + 0.021*capacity + 0.021*associative + 0.020*associative_memory + 0.020*sequence + 0.018*letter + 0.017*tolerance + 0.016*production'),\n",
       " (4,\n",
       "  '0.020*chip + 0.014*voltage + 0.014*circuit + 0.013*synapse + 0.013*transistor + 0.012*pulse + 0.012*analog + 0.010*action + 0.010*tree + 0.009*current'),\n",
       " (5,\n",
       "  '0.026*classifier + 0.014*speech + 0.013*hidden + 0.011*recognition + 0.011*frame + 0.011*node + 0.010*hidden_unit + 0.009*propagation + 0.008*speaker + 0.008*back_propagation'),\n",
       " (6,\n",
       "  '0.025*cell + 0.023*fiber + 0.019*firing + 0.017*spike + 0.016*cortex + 0.016*axon + 0.016*eye + 0.016*cortical + 0.012*stimulus + 0.012*dendritic'),\n",
       " (7,\n",
       "  '0.004*vector + 0.003*eigenvalue + 0.003*attractor + 0.003*matrix + 0.003*energy + 0.003*np + 0.003*graph + 0.003*optimization + 0.003*fixed_point + 0.003*polynomial'),\n",
       " (8,\n",
       "  '0.110*image + 0.089*object + 0.043*pixel + 0.034*visual + 0.029*contour + 0.029*vision + 0.022*segmentation + 0.018*poggio + 0.018*rotation + 0.017*spectral'),\n",
       " (9,\n",
       "  '0.076*motor + 0.066*controller + 0.052*charge + 0.050*sensor + 0.043*gain + 0.042*control + 0.034*movement + 0.034*body + 0.028*transfer_function + 0.027*loop')]"
      ]
     },
     "execution_count": 238,
     "metadata": {},
     "output_type": "execute_result"
    }
   ],
   "source": [
    "model_online.show_topics()"
   ]
  },
  {
   "cell_type": "code",
   "execution_count": 122,
   "metadata": {
    "collapsed": false
   },
   "outputs": [
    {
     "name": "stdout",
     "output_type": "stream",
     "text": [
      "\n",
      "Yaser S.Abu-Mostafa\n",
      "Docs: [21]\n",
      "[(0, 0.43981727821822292),\n",
      " (1, 0.028347213089721844),\n",
      " (3, 0.096034791617892343),\n",
      " (5, 0.11974213992896583),\n",
      " (6, 0.04818530676877044),\n",
      " (7, 0.052015356949023761),\n",
      " (8, 0.19358105735922765),\n",
      " (9, 0.012210592598702002)]\n",
      "\n",
      "Geoffrey E. Hinton\n",
      "Docs: [276, 235, 270]\n",
      "[(0, 0.23709584775467316),\n",
      " (1, 0.036278840277891584),\n",
      " (2, 0.060881928460912567),\n",
      " (3, 0.040860020890840953),\n",
      " (4, 0.22120874865101597),\n",
      " (5, 0.17881352536707981),\n",
      " (6, 0.011552682298532534),\n",
      " (7, 0.17862704317305195),\n",
      " (8, 0.034587306660400441)]\n",
      "\n",
      "Michael I. Jordan\n",
      "Docs: [205]\n",
      "[(0, 0.2657244791505019),\n",
      " (1, 0.042233864299392278),\n",
      " (2, 0.056208047768936259),\n",
      " (3, 0.020408371858599395),\n",
      " (4, 0.075285256015344873),\n",
      " (5, 0.44939042793717449),\n",
      " (7, 0.064270462578477641),\n",
      " (8, 0.014524432524677481),\n",
      " (9, 0.011664709291004252)]\n",
      "\n",
      "James M. Bower\n",
      "Docs: [188, 251, 244]\n",
      "[(0, 0.35369888348382267),\n",
      " (1, 0.097782509316364244),\n",
      " (2, 0.11873783156273017),\n",
      " (3, 0.02244484445927224),\n",
      " (5, 0.11510615687752906),\n",
      " (6, 0.01642214092725941),\n",
      " (7, 0.056016631498195003),\n",
      " (9, 0.21370723667506888)]\n"
     ]
    }
   ],
   "source": [
    "name = 'Yaser S.Abu-Mostafa'\n",
    "print('\\n%s' % name)\n",
    "print('Docs:', author2doc[author2id[name]])\n",
    "pprint(model_online.get_author_topics(author2id[name]))\n",
    "\n",
    "name = 'Geoffrey E. Hinton'\n",
    "print('\\n%s' % name)\n",
    "print('Docs:', author2doc[author2id[name]])\n",
    "pprint(model_online.get_author_topics(author2id[name]))\n",
    "\n",
    "name = 'Michael I. Jordan'\n",
    "print('\\n%s' % name)\n",
    "print('Docs:', author2doc[author2id[name]])\n",
    "pprint(model_online.get_author_topics(author2id[name]))\n",
    "\n",
    "name = 'James M. Bower'\n",
    "print('\\n%s' % name)\n",
    "print('Docs:', author2doc[author2id[name]])\n",
    "pprint(model_online.get_author_topics(author2id[name]))"
   ]
  },
  {
   "cell_type": "markdown",
   "metadata": {},
   "source": [
    "### Test on a small dataset"
   ]
  },
  {
   "cell_type": "code",
   "execution_count": 36,
   "metadata": {
    "collapsed": false
   },
   "outputs": [],
   "source": [
    "n_docs = 10\n",
    "\n",
    "from copy import deepcopy\n",
    "\n",
    "small_doc2author = deepcopy(dict(list(doc2author.items())[:n_docs]))\n",
    "small_doc2author = dict(small_doc2author)\n",
    "\n",
    "small_corpus = corpus[:n_docs]"
   ]
  },
  {
   "cell_type": "code",
   "execution_count": 37,
   "metadata": {
    "collapsed": false
   },
   "outputs": [],
   "source": [
    "authors_ids = set()\n",
    "for d, a_doc_ids in small_doc2author.items():\n",
    "    for a in a_doc_ids:\n",
    "        authors_ids.add(a)\n",
    "\n",
    "authors_ids = list(authors_ids)\n",
    "author_id_dict = dict(zip(authors_ids, range(len(authors_ids))))"
   ]
  },
  {
   "cell_type": "code",
   "execution_count": 38,
   "metadata": {
    "collapsed": false
   },
   "outputs": [],
   "source": [
    "for d, a_ids in small_doc2author.items():\n",
    "    for i, a in enumerate(a_ids):\n",
    "        small_doc2author[d][i] = author_id_dict[a]"
   ]
  },
  {
   "cell_type": "code",
   "execution_count": 39,
   "metadata": {
    "collapsed": false
   },
   "outputs": [],
   "source": [
    "# Make a mapping from author IDs to document IDs.\n",
    "small_author2doc = {}\n",
    "for a in range(len(author_id_dict)):\n",
    "    small_author2doc[a] = []\n",
    "    for d, a_ids in small_doc2author.items():\n",
    "        if a in a_ids:\n",
    "            small_author2doc[a].append(d)"
   ]
  },
  {
   "cell_type": "code",
   "execution_count": 40,
   "metadata": {
    "collapsed": false
   },
   "outputs": [],
   "source": [
    "\n",
    "author_id_dict_rev = dict(zip(range(len(authors_ids)), authors_ids))\n",
    "\n",
    "small_id2author = {}\n",
    "for a, a_id in author_id_dict_rev.items():\n",
    "    small_id2author[a] = id2author[a_id]"
   ]
  },
  {
   "cell_type": "code",
   "execution_count": 41,
   "metadata": {
    "collapsed": false
   },
   "outputs": [
    {
     "name": "stdout",
     "output_type": "stream",
     "text": [
      "phi is 10 x 681 x 10 (68100 elements)\n",
      "mu is 10 x 681 x 22 (149820 elements)\n"
     ]
    }
   ],
   "source": [
    "print('phi is %d x %d x %d (%d elements)' %(len(small_corpus), len(dictionary.id2token), 10,\n",
    "                                            len(small_corpus) * len(dictionary.id2token) * 10))\n",
    "print('mu is %d x %d x %d (%d elements)' %(len(small_corpus), len(dictionary.id2token), len(small_author2doc),\n",
    "                                            len(small_corpus) * len(dictionary.id2token) * len(small_author2doc)))"
   ]
  },
  {
   "cell_type": "code",
   "execution_count": 42,
   "metadata": {
    "collapsed": false
   },
   "outputs": [],
   "source": [
    "reload(onlineatvb)\n",
    "OnlineAtVb = onlineatvb.OnlineAtVb"
   ]
  },
  {
   "cell_type": "code",
   "execution_count": 43,
   "metadata": {
    "collapsed": false
   },
   "outputs": [
    {
     "name": "stdout",
     "output_type": "stream",
     "text": [
      "CPU times: user 16.5 s, sys: 4 ms, total: 16.5 s\n",
      "Wall time: 16.5 s\n"
     ]
    }
   ],
   "source": [
    "%time model = OnlineAtVb(corpus=small_corpus, num_topics=10, id2word=dictionary.id2token, id2author=small_id2author, \\\n",
    "                   author2doc=small_author2doc, doc2author=small_doc2author, threshold=1e-3, \\\n",
    "                   iterations=10, passes=5, alpha=None, eta=None, decay=0.5, offset=1.0, \\\n",
    "                   eval_every=1, random_state=1, var_lambda=None)"
   ]
  },
  {
   "cell_type": "code",
   "execution_count": 133,
   "metadata": {
    "collapsed": false
   },
   "outputs": [
    {
     "name": "stdout",
     "output_type": "stream",
     "text": [
      "\n",
      "Amir F.Atiya\n",
      "Docs: [5]\n",
      "[(0, 0.26236663424329809),\n",
      " (1, 0.055837758145413023),\n",
      " (2, 0.32385947243135804),\n",
      " (4, 0.031231118362347546),\n",
      " (5, 0.049702348068489471),\n",
      " (6, 0.063277167602715914),\n",
      " (7, 0.11515798924424819),\n",
      " (9, 0.098115022122885684)]\n",
      "\n",
      "FrankWilczek\n",
      "Docs: [1]\n",
      "[(0, 0.21018310687516228),\n",
      " (1, 0.39886126379385306),\n",
      " (2, 0.18071281961456737),\n",
      " (3, 0.052218386110533886),\n",
      " (5, 0.039636353968810233),\n",
      " (8, 0.032375816267307712),\n",
      " (9, 0.073725725628590477)]\n"
     ]
    }
   ],
   "source": [
    "name = 'Amir F.Atiya'\n",
    "print('\\n%s' % name)\n",
    "print('Docs:', model.author2doc[model.author2id[name]])\n",
    "pprint(model.get_author_topics(model.author2id[name]))\n",
    "\n",
    "name = 'FrankWilczek'\n",
    "print('\\n%s' % name)\n",
    "print('Docs:', model.author2doc[model.author2id[name]])\n",
    "pprint(model.get_author_topics(model.author2id[name]))\n"
   ]
  },
  {
   "cell_type": "markdown",
   "metadata": {},
   "source": [
    "## \"Offline\" AT VB"
   ]
  },
  {
   "cell_type": "code",
   "execution_count": 356,
   "metadata": {
    "collapsed": false
   },
   "outputs": [
    {
     "name": "stdout",
     "output_type": "stream",
     "text": [
      "phi is 286 x 2245 x 10 (6420700 elements)\n",
      "mu is 286 x 2245 x 578 (371116460 elements)\n"
     ]
    }
   ],
   "source": [
    "print('phi is %d x %d x %d (%d elements)' %(len(corpus), len(dictionary.id2token), 10,\n",
    "                                            len(corpus) * len(dictionary.id2token) * 10))\n",
    "print('mu is %d x %d x %d (%d elements)' %(len(corpus), len(dictionary.id2token), len(author2doc),\n",
    "                                            len(corpus) * len(dictionary.id2token) * len(author2doc)))"
   ]
  },
  {
   "cell_type": "code",
   "execution_count": 238,
   "metadata": {
    "collapsed": false
   },
   "outputs": [
    {
     "name": "stdout",
     "output_type": "stream",
     "text": [
      "CPU times: user 7.81 s, sys: 0 ns, total: 7.81 s\n",
      "Wall time: 7.81 s\n"
     ]
    }
   ],
   "source": [
    "%time lda = LdaModel(corpus=corpus, num_topics=10, id2word=dictionary.id2token, passes=10, \\\n",
    "               iterations=100, alpha='auto', eta='symmetric', random_state=1)\n",
    "var_lambda = lda.state.get_lambda()"
   ]
  },
  {
   "cell_type": "code",
   "execution_count": 98,
   "metadata": {
    "collapsed": false
   },
   "outputs": [],
   "source": [
    "reload(atvb)\n",
    "AtVb = atvb.AtVb"
   ]
  },
  {
   "cell_type": "code",
   "execution_count": 99,
   "metadata": {
    "collapsed": false
   },
   "outputs": [
    {
     "name": "stdout",
     "output_type": "stream",
     "text": [
      "CPU times: user 39.4 s, sys: 16 ms, total: 39.4 s\n",
      "Wall time: 39.4 s\n"
     ]
    }
   ],
   "source": [
    "%time model_offline = AtVb(corpus=corpus, num_topics=10, id2word=dictionary.id2token, id2author=id2author, \\\n",
    "                   author2doc=author2doc, doc2author=doc2author, threshold=1e-12, \\\n",
    "                   iterations=3, alpha='symmetric', eta='symmetric', var_lambda=None, \\\n",
    "                   eval_every=1, random_state=1)"
   ]
  },
  {
   "cell_type": "code",
   "execution_count": 143,
   "metadata": {
    "collapsed": false
   },
   "outputs": [
    {
     "data": {
      "text/plain": [
       "[(0,\n",
       "  '0.017*cell + 0.008*activity + 0.008*training + 0.007*matrix + 0.007*field + 0.007*representation + 0.006*hopfield + 0.006*probability + 0.006*stimulus + 0.006*current'),\n",
       " (1,\n",
       "  '0.015*cell + 0.009*matrix + 0.007*probability + 0.007*hopfield + 0.007*training + 0.006*activity + 0.006*feature + 0.006*stimulus + 0.006*hidden + 0.005*representation'),\n",
       " (2,\n",
       "  '0.015*cell + 0.008*matrix + 0.008*training + 0.007*representation + 0.006*image + 0.006*field + 0.006*dynamic + 0.006*probability + 0.006*activity + 0.006*sequence'),\n",
       " (3,\n",
       "  '0.013*cell + 0.009*training + 0.007*activity + 0.006*hidden + 0.006*node + 0.005*matrix + 0.005*probability + 0.005*hopfield + 0.005*representation + 0.005*sequence'),\n",
       " (4,\n",
       "  '0.016*cell + 0.007*activity + 0.007*training + 0.007*matrix + 0.007*representation + 0.006*hidden + 0.006*feature + 0.006*synaptic + 0.006*rate + 0.005*field'),\n",
       " (5,\n",
       "  '0.015*cell + 0.008*training + 0.006*matrix + 0.006*sequence + 0.006*field + 0.006*bit + 0.006*stimulus + 0.006*hopfield + 0.006*noise + 0.005*firing'),\n",
       " (6,\n",
       "  '0.018*cell + 0.008*representation + 0.008*matrix + 0.006*hopfield + 0.006*hidden + 0.005*rate + 0.005*firing + 0.005*training + 0.005*capacity + 0.005*node'),\n",
       " (7,\n",
       "  '0.014*cell + 0.007*activity + 0.007*matrix + 0.007*field + 0.007*training + 0.007*node + 0.006*hopfield + 0.006*representation + 0.006*rate + 0.005*synaptic'),\n",
       " (8,\n",
       "  '0.013*cell + 0.008*activity + 0.007*hidden + 0.007*training + 0.007*matrix + 0.006*feature + 0.006*capacity + 0.006*hopfield + 0.006*synaptic + 0.005*rate'),\n",
       " (9,\n",
       "  '0.014*cell + 0.009*matrix + 0.008*representation + 0.007*image + 0.007*activity + 0.007*hidden + 0.006*stimulus + 0.006*training + 0.006*hopfield + 0.006*firing')]"
      ]
     },
     "execution_count": 143,
     "metadata": {},
     "output_type": "execute_result"
    }
   ],
   "source": [
    "model_offline.show_topics()"
   ]
  },
  {
   "cell_type": "code",
   "execution_count": 142,
   "metadata": {
    "collapsed": false
   },
   "outputs": [
    {
     "data": {
      "text/plain": [
       "[(0,\n",
       "  '0.015*dynamic + 0.014*delay + 0.012*frequency + 0.011*phase + 0.010*noise + 0.008*temporal + 0.007*filter + 0.007*oscillation + 0.007*target + 0.007*controller'),\n",
       " (1,\n",
       "  '0.017*memory + 0.017*vector + 0.015*matrix + 0.013*hopfield + 0.011*probability + 0.008*capacity + 0.008*let + 0.008*fig + 0.007*code + 0.007*distribution'),\n",
       " (2,\n",
       "  '0.035*cell + 0.018*response + 0.012*region + 0.012*stimulus + 0.011*cortex + 0.009*fig + 0.009*sensory + 0.009*motor + 0.009*control + 0.009*velocity'),\n",
       " (3,\n",
       "  '0.041*image + 0.038*field + 0.023*visual + 0.016*map + 0.015*receptive + 0.014*receptive_field + 0.014*motion + 0.012*eye + 0.011*direction + 0.008*vision'),\n",
       " (4,\n",
       "  '0.030*hidden + 0.017*hidden_unit + 0.016*activation + 0.012*propagation + 0.010*processor + 0.009*back_propagation + 0.008*gradient + 0.007*hidden_layer + 0.007*bit + 0.006*internal'),\n",
       " (5,\n",
       "  '0.018*vector + 0.016*sequence + 0.016*object + 0.014*memory + 0.009*adaptive + 0.009*matrix + 0.008*recurrent + 0.008*action + 0.008*self + 0.008*view'),\n",
       " (6,\n",
       "  '0.025*classifier + 0.024*recognition + 0.023*speech + 0.014*classification + 0.013*trained + 0.011*class + 0.010*test + 0.010*noise + 0.010*hidden + 0.009*word'),\n",
       " (7,\n",
       "  '0.033*node + 0.008*position + 0.007*connectionist + 0.005*neural_net + 0.005*tree + 0.005*character + 0.004*move + 0.004*generalization + 0.004*search + 0.004*human'),\n",
       " (8,\n",
       "  '0.036*circuit + 0.024*analog + 0.024*chip + 0.020*voltage + 0.020*current + 0.014*synapse + 0.010*transistor + 0.010*vlsi + 0.009*device + 0.009*implementation'),\n",
       " (9,\n",
       "  '0.030*cell + 0.021*firing + 0.019*synaptic + 0.017*activity + 0.016*potential + 0.010*synapsis + 0.010*spike + 0.009*stimulus + 0.009*memory + 0.009*membrane')]"
      ]
     },
     "execution_count": 142,
     "metadata": {},
     "output_type": "execute_result"
    }
   ],
   "source": [
    "model.show_topics()"
   ]
  },
  {
   "cell_type": "code",
   "execution_count": 119,
   "metadata": {
    "collapsed": false
   },
   "outputs": [
    {
     "name": "stdout",
     "output_type": "stream",
     "text": [
      "\n",
      "Yaser S.Abu-Mostafa\n",
      "Docs: [21]\n",
      "[(0, 0.13509546636836239),\n",
      " (1, 0.44987514305413251),\n",
      " (3, 0.015628876899866424),\n",
      " (4, 0.17133899219205551),\n",
      " (5, 0.12622125049769653),\n",
      " (7, 0.038299020391926251),\n",
      " (8, 0.060545623938452663)]\n",
      "\n",
      "Geoffrey E. Hinton\n",
      "Docs: [276, 235, 270]\n",
      "[(0, 0.051128741737399293),\n",
      " (2, 0.031947903095827117),\n",
      " (3, 0.12717064775550488),\n",
      " (4, 0.14970319940657217),\n",
      " (5, 0.22650616321963829),\n",
      " (6, 0.27680468289365207),\n",
      " (7, 0.13302071076542252)]\n",
      "\n",
      "Michael I. Jordan\n",
      "Docs: [205]\n",
      "[(0, 0.62535055104859583),\n",
      " (4, 0.087850011456332838),\n",
      " (5, 0.18252069201813775),\n",
      " (7, 0.094925833198552231)]\n",
      "\n",
      "James M. Bower\n",
      "Docs: [188, 251, 244]\n",
      "[(0, 0.066667129031022732),\n",
      " (1, 0.01033213561317742),\n",
      " (2, 0.60401298021861427),\n",
      " (3, 0.073436683842966574),\n",
      " (4, 0.024716090603344801),\n",
      " (8, 0.023197011324340159),\n",
      " (9, 0.19741318615356793)]\n"
     ]
    }
   ],
   "source": [
    "name = 'Yaser S.Abu-Mostafa'\n",
    "print('\\n%s' % name)\n",
    "print('Docs:', author2doc[author2id[name]])\n",
    "pprint(model.get_author_topics(author2id[name]))\n",
    "\n",
    "name = 'Geoffrey E. Hinton'\n",
    "print('\\n%s' % name)\n",
    "print('Docs:', author2doc[author2id[name]])\n",
    "pprint(model.get_author_topics(author2id[name]))\n",
    "\n",
    "name = 'Michael I. Jordan'\n",
    "print('\\n%s' % name)\n",
    "print('Docs:', author2doc[author2id[name]])\n",
    "pprint(model.get_author_topics(author2id[name]))\n",
    "\n",
    "name = 'James M. Bower'\n",
    "print('\\n%s' % name)\n",
    "print('Docs:', author2doc[author2id[name]])\n",
    "pprint(model.get_author_topics(author2id[name]))"
   ]
  },
  {
   "cell_type": "code",
   "execution_count": 31,
   "metadata": {
    "collapsed": false
   },
   "outputs": [
    {
     "data": {
      "text/plain": [
       "[(0,\n",
       "  '0.019*cell + 0.008*matrix + 0.008*representation + 0.008*training + 0.007*activity + 0.007*node + 0.006*dynamic + 0.006*field + 0.006*probability + 0.005*hopfield'),\n",
       " (1,\n",
       "  '0.016*cell + 0.007*matrix + 0.007*capacity + 0.006*feature + 0.006*activity + 0.006*node + 0.006*field + 0.006*dynamic + 0.006*training + 0.006*stimulus'),\n",
       " (2,\n",
       "  '0.012*cell + 0.010*training + 0.008*matrix + 0.007*stimulus + 0.007*hopfield + 0.006*image + 0.006*noise + 0.006*representation + 0.006*hidden + 0.006*convergence'),\n",
       " (3,\n",
       "  '0.011*cell + 0.008*hopfield + 0.007*activity + 0.007*rate + 0.006*matrix + 0.006*hidden + 0.006*field + 0.006*training + 0.005*node + 0.005*representation'),\n",
       " (4,\n",
       "  '0.012*cell + 0.008*activity + 0.007*matrix + 0.007*training + 0.006*field + 0.006*code + 0.006*representation + 0.006*firing + 0.006*current + 0.005*synaptic'),\n",
       " (5,\n",
       "  '0.014*cell + 0.008*hidden + 0.007*sequence + 0.007*training + 0.006*field + 0.006*noise + 0.006*node + 0.006*dynamic + 0.006*hopfield + 0.006*representation'),\n",
       " (6,\n",
       "  '0.025*cell + 0.011*matrix + 0.009*training + 0.006*activity + 0.006*probability + 0.006*hopfield + 0.006*synaptic + 0.005*node + 0.005*stimulus + 0.005*representation'),\n",
       " (7,\n",
       "  '0.016*cell + 0.008*training + 0.007*activity + 0.007*representation + 0.007*matrix + 0.007*hidden + 0.007*noise + 0.006*hopfield + 0.006*probability + 0.006*firing'),\n",
       " (8,\n",
       "  '0.012*cell + 0.008*image + 0.007*training + 0.006*feature + 0.006*hopfield + 0.006*representation + 0.006*probability + 0.006*firing + 0.006*activity + 0.005*synaptic'),\n",
       " (9,\n",
       "  '0.012*cell + 0.008*matrix + 0.008*activity + 0.007*representation + 0.007*training + 0.006*image + 0.006*capacity + 0.006*rate + 0.006*hopfield + 0.006*node')]"
      ]
     },
     "execution_count": 31,
     "metadata": {},
     "output_type": "execute_result"
    }
   ],
   "source": [
    "model.show_topics()"
   ]
  },
  {
   "cell_type": "code",
   "execution_count": 118,
   "metadata": {
    "collapsed": false
   },
   "outputs": [
    {
     "name": "stdout",
     "output_type": "stream",
     "text": [
      "\n",
      "Yaser S.Abu-Mostafa\n",
      "Docs: [21]\n",
      "[(0, 0.090225715808980797),\n",
      " (1, 0.014047723409152875),\n",
      " (3, 0.38971799227229242),\n",
      " (4, 0.30695125800680684),\n",
      " (5, 0.11680215128570454),\n",
      " (7, 0.012641840087616362),\n",
      " (8, 0.069095036605336377)]\n",
      "\n",
      "Geoffrey E. Hinton\n",
      "Docs: [276, 235, 270]\n",
      "[(0, 0.17326190127690461),\n",
      " (2, 0.062709625689712375),\n",
      " (3, 0.023215349136065065),\n",
      " (4, 0.096803072840719678),\n",
      " (5, 0.1267901905748583),\n",
      " (6, 0.47635551675437715),\n",
      " (7, 0.025581291656655011),\n",
      " (9, 0.013530262666658776)]\n",
      "\n",
      "Michael I. Jordan\n",
      "Docs: [205]\n",
      "[(0, 0.22189029162114421),\n",
      " (2, 0.033072831647105602),\n",
      " (4, 0.051509519512663651),\n",
      " (5, 0.63361728214218349),\n",
      " (7, 0.045992411979857574),\n",
      " (9, 0.012757930948596466)]\n",
      "\n",
      "James M. Bower\n",
      "Docs: [188, 251, 244]\n",
      "[(1, 0.29194178492747924),\n",
      " (2, 0.47740737076112999),\n",
      " (3, 0.023636461735819542),\n",
      " (4, 0.010413505064807139),\n",
      " (7, 0.018554608959817139),\n",
      " (9, 0.17063597622983562)]\n"
     ]
    }
   ],
   "source": [
    "name = 'Yaser S.Abu-Mostafa'\n",
    "print('\\n%s' % name)\n",
    "print('Docs:', author2doc[author2id[name]])\n",
    "pprint(model.get_author_topics(author2id[name]))\n",
    "\n",
    "name = 'Geoffrey E. Hinton'\n",
    "print('\\n%s' % name)\n",
    "print('Docs:', author2doc[author2id[name]])\n",
    "pprint(model.get_author_topics(author2id[name]))\n",
    "\n",
    "name = 'Michael I. Jordan'\n",
    "print('\\n%s' % name)\n",
    "print('Docs:', author2doc[author2id[name]])\n",
    "pprint(model.get_author_topics(author2id[name]))\n",
    "\n",
    "name = 'James M. Bower'\n",
    "print('\\n%s' % name)\n",
    "print('Docs:', author2doc[author2id[name]])\n",
    "pprint(model.get_author_topics(author2id[name]))"
   ]
  },
  {
   "cell_type": "markdown",
   "metadata": {},
   "source": [
    "### Test on small corpus"
   ]
  },
  {
   "cell_type": "code",
   "execution_count": 30,
   "metadata": {
    "collapsed": true
   },
   "outputs": [],
   "source": [
    "lda = LdaModel(corpus=small_corpus, num_topics=10, id2word=dictionary.id2token, passes=10)\n",
    "var_lambda = lda.state.get_lambda()"
   ]
  },
  {
   "cell_type": "code",
   "execution_count": 44,
   "metadata": {
    "collapsed": false
   },
   "outputs": [],
   "source": [
    "reload(atvb)\n",
    "AtVb = atvb.AtVb"
   ]
  },
  {
   "cell_type": "code",
   "execution_count": 45,
   "metadata": {
    "collapsed": false
   },
   "outputs": [
    {
     "name": "stdout",
     "output_type": "stream",
     "text": [
      "CPU times: user 8.61 s, sys: 4 ms, total: 8.61 s\n",
      "Wall time: 8.62 s\n"
     ]
    }
   ],
   "source": [
    "%time model = AtVb(corpus=small_corpus, num_topics=10, id2word=dictionary.id2token, id2author=small_id2author, \\\n",
    "                   author2doc=small_author2doc, doc2author=small_doc2author, threshold=1e-12, \\\n",
    "                   iterations=5, alpha='symmetric', eta='symmetric', \\\n",
    "                   eval_every=1, random_state=1, var_lambda=None)"
   ]
  },
  {
   "cell_type": "code",
   "execution_count": 34,
   "metadata": {
    "collapsed": false
   },
   "outputs": [
    {
     "data": {
      "text/plain": [
       "[(0,\n",
       "  '0.071*group + 0.039*matrix + 0.032*feedback + 0.027*whose + 0.018*obtain + 0.016*scheme + 0.015*constraint + 0.015*expression + 0.014*unique + 0.013*computational'),\n",
       " (1,\n",
       "  '0.041*map + 0.040*field + 0.034*location + 0.033*brain + 0.030*node + 0.021*requires + 0.020*propagation + 0.016*back_propagation + 0.016*distribution + 0.014*mechanism'),\n",
       " (2,\n",
       "  '0.084*processor + 0.075*edge + 0.052*activation + 0.034*update + 0.021*column + 0.020*run + 0.019*implementation + 0.018*control + 0.018*operation + 0.017*content'),\n",
       " (3,\n",
       "  '0.046*image + 0.038*gradient + 0.027*flow + 0.025*field + 0.024*analog + 0.023*circuit + 0.022*constraint + 0.018*square + 0.017*vision + 0.017*technique'),\n",
       " (4,\n",
       "  '0.023*dynamic + 0.021*phase + 0.018*cell + 0.018*variable + 0.017*with_respect + 0.017*respect + 0.016*path + 0.015*noise + 0.014*energy + 0.011*limit'),\n",
       " (5,\n",
       "  '0.080*processor + 0.061*activation + 0.040*edge + 0.040*update + 0.021*store + 0.020*operation + 0.018*required + 0.018*address + 0.017*stored + 0.016*machine'),\n",
       " (6,\n",
       "  '0.038*map + 0.037*brain + 0.033*stimulus + 0.024*functional + 0.021*noise + 0.020*associative_memory + 0.020*recall + 0.017*series + 0.015*scale + 0.015*associated'),\n",
       " (7,\n",
       "  '0.049*potential + 0.044*cell + 0.035*connectivity + 0.026*synaptic + 0.025*artificial + 0.023*architecture + 0.015*temporal + 0.014*brain + 0.014*computational + 0.013*action'),\n",
       " (8,\n",
       "  '0.075*image + 0.032*log + 0.024*dimensional + 0.018*mapping + 0.017*matrix + 0.016*center + 0.015*node + 0.014*recall + 0.013*back + 0.013*th'),\n",
       " (9,\n",
       "  '0.058*scheme + 0.048*capacity + 0.047*probability + 0.040*representation + 0.030*stored + 0.028*binary + 0.025*represented + 0.023*code + 0.022*relationship + 0.021*bound')]"
      ]
     },
     "execution_count": 34,
     "metadata": {},
     "output_type": "execute_result"
    }
   ],
   "source": [
    "model.show_topics()"
   ]
  },
  {
   "cell_type": "code",
   "execution_count": 35,
   "metadata": {
    "collapsed": false
   },
   "outputs": [
    {
     "data": {
      "text/plain": [
       "[(0, 0.55485121572041607),\n",
       " (4, 0.17897884328936686),\n",
       " (6, 0.14414251935372879),\n",
       " (8, 0.11957893769069983)]"
      ]
     },
     "execution_count": 35,
     "metadata": {},
     "output_type": "execute_result"
    }
   ],
   "source": [
    "model.get_author_topics(0)"
   ]
  },
  {
   "cell_type": "markdown",
   "metadata": {
    "collapsed": true
   },
   "source": [
    "## LDA"
   ]
  },
  {
   "cell_type": "code",
   "execution_count": 239,
   "metadata": {
    "collapsed": true
   },
   "outputs": [],
   "source": [
    "reload(gensim.models.ldamodel)\n",
    "LdaModel = gensim.models.ldamodel.LdaModel"
   ]
  },
  {
   "cell_type": "code",
   "execution_count": 243,
   "metadata": {
    "collapsed": false
   },
   "outputs": [],
   "source": [
    "lda = LdaModel(corpus=corpus, num_topics=10, id2word=dictionary.id2token, passes=10,\n",
    "               iterations=10, alpha='auto', eta='symmetric')"
   ]
  },
  {
   "cell_type": "code",
   "execution_count": 244,
   "metadata": {
    "collapsed": false
   },
   "outputs": [
    {
     "data": {
      "text/plain": [
       "[(0,\n",
       "  '0.025*hidden + 0.015*hidden_unit + 0.012*propagation + 0.009*back_propagation + 0.009*vector + 0.007*gradient + 0.006*constraint + 0.006*speech + 0.005*hidden_layer + 0.005*internal'),\n",
       " (1,\n",
       "  '0.019*field + 0.009*visual + 0.009*receptive_field + 0.009*receptive + 0.006*image + 0.006*position + 0.005*center + 0.005*activation + 0.005*joint + 0.005*role'),\n",
       " (2,\n",
       "  '0.022*classifier + 0.018*node + 0.012*recognition + 0.010*classification + 0.009*image + 0.009*class + 0.007*decision + 0.007*frame + 0.006*vector + 0.006*trained'),\n",
       " (3,\n",
       "  '0.009*hopfield + 0.009*energy + 0.008*vector + 0.006*matrix + 0.006*optimization + 0.006*probability + 0.006*let + 0.006*minimum + 0.005*equilibrium + 0.005*distribution'),\n",
       " (4,\n",
       "  '0.031*memory + 0.013*object + 0.012*vector + 0.011*associative + 0.009*capacity + 0.009*matrix + 0.008*associative_memory + 0.007*delay + 0.007*image + 0.006*stored'),\n",
       " (5,\n",
       "  '0.013*pulse + 0.007*noise + 0.007*response + 0.005*temporal + 0.005*potential + 0.005*fig + 0.005*cell + 0.004*current + 0.004*adaptive + 0.004*firing'),\n",
       " (6,\n",
       "  '0.029*cell + 0.010*response + 0.009*stimulus + 0.009*activity + 0.009*firing + 0.008*cortex + 0.007*synaptic + 0.007*spike + 0.007*frequency + 0.006*map'),\n",
       " (7,\n",
       "  '0.022*circuit + 0.016*chip + 0.013*analog + 0.011*voltage + 0.011*current + 0.009*synapse + 0.009*processor + 0.007*transistor + 0.007*synaptic + 0.006*vlsi'),\n",
       " (8,\n",
       "  '0.009*action + 0.006*element + 0.006*environment + 0.006*sequence + 0.005*vector + 0.005*fig + 0.004*control + 0.004*forward + 0.004*language + 0.004*controller'),\n",
       " (9,\n",
       "  '0.012*hidden + 0.010*speech + 0.007*recognition + 0.007*generalization + 0.006*trained + 0.005*vector + 0.005*hidden_layer + 0.005*test + 0.005*node + 0.005*training_set')]"
      ]
     },
     "execution_count": 244,
     "metadata": {},
     "output_type": "execute_result"
    }
   ],
   "source": [
    "lda.show_topics()"
   ]
  },
  {
   "cell_type": "code",
   "execution_count": 59,
   "metadata": {
    "collapsed": false
   },
   "outputs": [
    {
     "data": {
      "text/plain": [
       "[(0, 0.14679045510589872),\n",
       " (2, 0.024722847345847499),\n",
       " (3, 0.036692535207794273),\n",
       " (4, 0.10874558108160597),\n",
       " (6, 0.29675634369596471),\n",
       " (9, 0.38555538612902118)]"
      ]
     },
     "execution_count": 59,
     "metadata": {},
     "output_type": "execute_result"
    }
   ],
   "source": [
    "lda[corpus[0]]"
   ]
  }
 ],
 "metadata": {
  "kernelspec": {
   "display_name": "Python 3",
   "language": "python",
   "name": "python3"
  },
  "language_info": {
   "codemirror_mode": {
    "name": "ipython",
    "version": 3
   },
   "file_extension": ".py",
   "mimetype": "text/x-python",
   "name": "python",
   "nbconvert_exporter": "python",
   "pygments_lexer": "ipython3",
   "version": "3.5.2"
  }
 },
 "nbformat": 4,
 "nbformat_minor": 1
}
