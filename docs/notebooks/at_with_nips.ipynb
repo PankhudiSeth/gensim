{
 "cells": [
  {
   "cell_type": "code",
   "execution_count": 1,
   "metadata": {
    "collapsed": false
   },
   "outputs": [
    {
     "data": {
      "application/javascript": [
       "// Run for table of contents.\n",
       "$.getScript('https://kmahelona.github.io/ipython_notebook_goodies/ipython_notebook_toc.js')\n",
       "\n",
       "// https://github.com/kmahelona/ipython_notebook_goodies"
      ],
      "text/plain": [
       "<IPython.core.display.Javascript object>"
      ]
     },
     "metadata": {},
     "output_type": "display_data"
    }
   ],
   "source": [
    "%%javascript\n",
    "// Run for table of contents.\n",
    "$.getScript('https://kmahelona.github.io/ipython_notebook_goodies/ipython_notebook_toc.js')\n",
    "\n",
    "// https://github.com/kmahelona/ipython_notebook_goodies"
   ]
  },
  {
   "cell_type": "markdown",
   "metadata": {},
   "source": [
    "# Tests with NIPS data\n",
    "\n",
    "<h2 id=\"tocheading\">Table of Contents</h2>\n",
    "<div id=\"toc\"></div>\n"
   ]
  },
  {
   "cell_type": "code",
   "execution_count": 2,
   "metadata": {
    "collapsed": false
   },
   "outputs": [],
   "source": [
    "import numpy as np\n",
    "import matplotlib\n",
    "import matplotlib.pyplot as plt\n",
    "from nltk.tokenize import RegexpTokenizer\n",
    "from nltk.stem.wordnet import WordNetLemmatizer\n",
    "import gensim\n",
    "from gensim.models import Phrases\n",
    "from gensim.corpora import Dictionary\n",
    "from gensim.models import LdaModel\n",
    "from imp import reload\n",
    "from pprint import pprint\n",
    "\n",
    "import logging\n",
    "\n",
    "from gensim.models import AtVb\n",
    "from gensim.models import atvb\n",
    "from gensim.models import OnlineAtVb\n",
    "from gensim.models import onlineatvb\n",
    "\n",
    "%matplotlib inline"
   ]
  },
  {
   "cell_type": "code",
   "execution_count": 4,
   "metadata": {
    "collapsed": false
   },
   "outputs": [],
   "source": [
    "# Configure logging.\n",
    "\n",
    "#log_dir = '../../../log_files/log.log'  # On my own machine.\n",
    "log_dir = '../../../../log_files/log.log'  # On Hetzner\n",
    "\n",
    "logger = logging.getLogger()\n",
    "fhandler = logging.FileHandler(filename=log_dir, mode='a')\n",
    "formatter = logging.Formatter('%(asctime)s - %(name)s - %(levelname)s - %(message)s')\n",
    "fhandler.setFormatter(formatter)\n",
    "logger.addHandler(fhandler)\n",
    "logger.setLevel(logging.DEBUG)"
   ]
  },
  {
   "cell_type": "markdown",
   "metadata": {},
   "source": [
    "## Load and prepare data structure"
   ]
  },
  {
   "cell_type": "code",
   "execution_count": 93,
   "metadata": {
    "collapsed": false
   },
   "outputs": [],
   "source": [
    "import os\n",
    "import re\n",
    "\n",
    "# Folder containing all NIPS papers.\n",
    "#data_dir = '../../../../data/nipstxt/'  # On my own machine.\n",
    "data_dir = '../../../nipstxt/'  # On Hetzner.\n",
    "\n",
    "# Folders containin individual NIPS papers.\n",
    "yrs = ['00', '01', '02', '03', '04', '05', '06', '07', '08', '09', '10', '11', '12']\n",
    "#yrs = ['00']\n",
    "dirs = ['nips' + yr for yr in yrs]\n",
    "\n",
    "# Get all document texts and their corresponding IDs.\n",
    "docs = []\n",
    "doc_ids = []\n",
    "for yr_dir in dirs:\n",
    "    files = os.listdir(data_dir + yr_dir)  # List of filenames.\n",
    "    for filen in files:\n",
    "        # Get document ID.\n",
    "        (idx1, idx2) = re.search('[0-9]+', filen).span()  # Matches the indexes of the start end end of the ID.\n",
    "        doc_ids.append(yr_dir[4:] + '_' + str(int(filen[idx1:idx2])))\n",
    "        \n",
    "        # Read document text.\n",
    "        # Note: ignoring characters that cause encoding errors.\n",
    "        with open(data_dir + yr_dir + '/' + filen, errors='ignore', encoding='utf-8') as fid:\n",
    "            txt = fid.read()\n",
    "        docs.append(txt)"
   ]
  },
  {
   "cell_type": "code",
   "execution_count": 94,
   "metadata": {
    "collapsed": false
   },
   "outputs": [],
   "source": [
    "filenames = [data_dir + 'idx/a' + yr + '.txt' for yr in yrs]  # Using the years defined in previous cell.\n",
    "\n",
    "# Get all author names and their corresponding document IDs.\n",
    "authors_names = []\n",
    "author2doc = {}\n",
    "author_id = 0\n",
    "for yr in yrs:\n",
    "    filename = data_dir + 'idx/a' + yr + '.txt'\n",
    "    for line in open(filename, errors='ignore', encoding='utf-8'):\n",
    "        contents = re.split(',', line)\n",
    "        author_name = (contents[1] + contents[0]).strip()\n",
    "        ids = [c.strip() for c in contents[2:]]\n",
    "        authors_names.append(author_name)\n",
    "        author2doc[author_id] = [yr + '_' + id for id in ids]\n",
    "        author_id += 1"
   ]
  },
  {
   "cell_type": "code",
   "execution_count": 95,
   "metadata": {
    "collapsed": true
   },
   "outputs": [],
   "source": [
    "# Make a mapping from author ID to author name.\n",
    "id2author = dict(zip(range(len(authors_names)), authors_names))\n",
    "\n",
    "# Also the reverse mapping.\n",
    "author2id = dict(zip(authors_names, range(len(authors_names))))"
   ]
  },
  {
   "cell_type": "code",
   "execution_count": 96,
   "metadata": {
    "collapsed": false
   },
   "outputs": [],
   "source": [
    "# Use an integer ID in author2doc, instead of the IDs provided in the NIPS dataset.\n",
    "\n",
    "# Mapping from ID of document in NIPS datast, to an integer ID.\n",
    "doc_id_dict = dict(zip(doc_ids, range(len(doc_ids))))\n",
    "\n",
    "for a, a_doc_ids in author2doc.items():\n",
    "    for i, doc_id in enumerate(a_doc_ids):\n",
    "        author2doc[a][i] = doc_id_dict[doc_id]"
   ]
  },
  {
   "cell_type": "code",
   "execution_count": 97,
   "metadata": {
    "collapsed": false
   },
   "outputs": [],
   "source": [
    "# Make a mapping from document IDs to author IDs.\n",
    "# Same as in the atvb code.\n",
    "doc2author = {}\n",
    "for d, _ in enumerate(docs):\n",
    "    author_ids = []\n",
    "    for a, a_doc_ids in author2doc.items():\n",
    "        if d in a_doc_ids:\n",
    "            author_ids.append(a)\n",
    "    doc2author[d] = author_ids"
   ]
  },
  {
   "cell_type": "markdown",
   "metadata": {},
   "source": [
    "## Pre-process and vectorize data"
   ]
  },
  {
   "cell_type": "code",
   "execution_count": 98,
   "metadata": {
    "collapsed": false
   },
   "outputs": [],
   "source": [
    "# Tokenize the documents.\n",
    "\n",
    "# Split the documents into tokens.\n",
    "tokenizer = RegexpTokenizer(r'\\w+')\n",
    "for idx in range(len(docs)):\n",
    "    docs[idx] = docs[idx].lower()  # Convert to lowercase.\n",
    "    docs[idx] = tokenizer.tokenize(docs[idx])  # Split into words.\n",
    "\n",
    "# Remove numbers, but not words that contain numbers.\n",
    "docs = [[token for token in doc if not token.isnumeric()] for doc in docs]\n",
    "\n",
    "# Remove words that are only one character.\n",
    "docs = [[token for token in doc if len(token) > 1] for doc in docs]"
   ]
  },
  {
   "cell_type": "code",
   "execution_count": 99,
   "metadata": {
    "collapsed": true
   },
   "outputs": [],
   "source": [
    "# Lemmatize the documents.\n",
    "\n",
    "# Lemmatize all words in documents.\n",
    "lemmatizer = WordNetLemmatizer()\n",
    "docs = [[lemmatizer.lemmatize(token) for token in doc] for doc in docs]"
   ]
  },
  {
   "cell_type": "code",
   "execution_count": 100,
   "metadata": {
    "collapsed": true
   },
   "outputs": [],
   "source": [
    "# Compute bigrams.\n",
    "\n",
    "# Add bigrams and trigrams to docs (only ones that appear 20 times or more).\n",
    "bigram = Phrases(docs, min_count=20)\n",
    "for idx in range(len(docs)):\n",
    "    for token in bigram[docs[idx]]:\n",
    "        if '_' in token:\n",
    "            # Token is a bigram, add to document.\n",
    "            docs[idx].append(token)"
   ]
  },
  {
   "cell_type": "code",
   "execution_count": 101,
   "metadata": {
    "collapsed": true
   },
   "outputs": [],
   "source": [
    "# Create a dictionary representation of the documents.\n",
    "dictionary = Dictionary(docs)"
   ]
  },
  {
   "cell_type": "code",
   "execution_count": 102,
   "metadata": {
    "collapsed": false
   },
   "outputs": [
    {
     "data": {
      "image/png": "[encoded data removed]",
      "text/plain": [
       "<matplotlib.figure.Figure at 0x7fe84a9cf0b8>"
      ]
     },
     "metadata": {},
     "output_type": "display_data"
    }
   ],
   "source": [
    "# Frequency distribution of words.\n",
    "\n",
    "one_doc = []\n",
    "for doc in docs:\n",
    "    one_doc.extend(doc)\n",
    "\n",
    "bow = dictionary.doc2bow(one_doc)\n",
    "word_freq = [cnt for _, cnt in bow]\n",
    "\n",
    "plt.plot(sorted(word_freq))\n",
    "plt.xlabel('Words')\n",
    "plt.ylabel('#Occurences')\n",
    "plt.title('Frequency distribution of words.\\nPower-law behaviour.')\n",
    "plt.show()"
   ]
  },
  {
   "cell_type": "code",
   "execution_count": 103,
   "metadata": {
    "collapsed": true
   },
   "outputs": [],
   "source": [
    "# Remove rare and common tokens.\n",
    "\n",
    "# Filter out words that occur too frequently or too rarely.\n",
    "max_freq = 0.5\n",
    "min_wordcount = 20\n",
    "dictionary.filter_extremes(no_below=min_wordcount, no_above=max_freq)\n",
    "\n",
    "dict0 = dictionary[0]  # This sort of \"initializes\" dictionary.id2token."
   ]
  },
  {
   "cell_type": "code",
   "execution_count": 104,
   "metadata": {
    "collapsed": true
   },
   "outputs": [],
   "source": [
    "# Vectorize data.\n",
    "\n",
    "# Bag-of-words representation of the documents.\n",
    "corpus = [dictionary.doc2bow(doc) for doc in docs]"
   ]
  },
  {
   "cell_type": "code",
   "execution_count": 105,
   "metadata": {
    "collapsed": false
   },
   "outputs": [
    {
     "name": "stdout",
     "output_type": "stream",
     "text": [
      "Number of authors: 3467\n",
      "Number of unique tokens: 8640\n",
      "Number of documents: 1740\n"
     ]
    }
   ],
   "source": [
    "print('Number of authors: %d' % len(author2doc))\n",
    "print('Number of unique tokens: %d' % len(dictionary))\n",
    "print('Number of documents: %d' % len(corpus))"
   ]
  },
  {
   "cell_type": "markdown",
   "metadata": {},
   "source": [
    "## Online AT VB"
   ]
  },
  {
   "cell_type": "code",
   "execution_count": 53,
   "metadata": {
    "collapsed": false
   },
   "outputs": [
    {
     "name": "stdout",
     "output_type": "stream",
     "text": [
      "CPU times: user 8min 11s, sys: 88 ms, total: 8min 11s\n",
      "Wall time: 8min 12s\n"
     ]
    }
   ],
   "source": [
    "%time model = OnlineAtVb(corpus=corpus, num_topics=10, id2word=dictionary.id2token, id2author=id2author, \\\n",
    "                   author2doc=author2doc, doc2author=doc2author, threshold=1e-3, \\\n",
    "                   iterations=10, passes=10, alpha=None, eta=None, decay=0.5, offset=64.0, \\\n",
    "                   eval_every=1, random_state=1)"
   ]
  },
  {
   "cell_type": "code",
   "execution_count": 54,
   "metadata": {
    "collapsed": false
   },
   "outputs": [
    {
     "data": {
      "text/plain": [
       "[(0,\n",
       "  '0.098*object + 0.029*frequency + 0.022*tree + 0.016*structured + 0.015*intrinsic + 0.013*impulse + 0.012*time_step + 0.012*induced + 0.010*bar + 0.009*experiment'),\n",
       " (1,\n",
       "  '0.047*potential + 0.042*synapsis + 0.037*firing_rate + 0.037*cerebral + 0.034*hebbian + 0.034*synapse + 0.034*hebb + 0.029*ii + 0.026*dt + 0.024*expression'),\n",
       " (2,\n",
       "  '0.041*environment + 0.039*visual + 0.039*reconstruction + 0.035*orientation + 0.029*spatial + 0.028*action + 0.016*image + 0.016*receptive + 0.016*filter + 0.016*receptive_field'),\n",
       " (3,\n",
       "  '0.078*class + 0.078*competitive + 0.026*block + 0.026*competition + 0.024*field + 0.024*winner + 0.021*square + 0.019*operation + 0.019*column + 0.017*ideal'),\n",
       " (4,\n",
       "  '0.042*propagation + 0.036*machine + 0.034*update + 0.034*back_propagation + 0.031*hidden + 0.027*hidden_unit + 0.025*bp + 0.025*classifier + 0.024*test_set + 0.022*variance'),\n",
       " (5,\n",
       "  '0.044*implementation + 0.030*dimension + 0.028*polynomial + 0.019*measure + 0.017*find + 0.017*recurrent + 0.015*forward + 0.015*stanford + 0.013*sum + 0.013*per'),\n",
       " (6,\n",
       "  '0.089*processor + 0.051*cm + 0.035*code + 0.022*communication + 0.018*generator + 0.018*asynchronous + 0.014*connected + 0.014*transfer + 0.014*reduction + 0.012*compute'),\n",
       " (7,\n",
       "  '0.073*node + 0.035*perceptron + 0.035*likelihood + 0.024*robot + 0.022*perceptton + 0.020*accuracy + 0.016*fast + 0.015*testing + 0.015*speech + 0.015*multi'),\n",
       " (8,\n",
       "  '0.050*power + 0.030*uniform + 0.021*capacitor + 0.020*transistor + 0.018*curve + 0.018*maximum + 0.014*next + 0.014*formed + 0.011*every + 0.011*implement'),\n",
       " (9,\n",
       "  '0.137*cell + 0.059*modulation + 0.052*fiber + 0.037*cortex + 0.033*plasticity + 0.033*consequently + 0.033*chemical + 0.030*visual_cortex + 0.026*action_potential + 0.026*neurosci')]"
      ]
     },
     "execution_count": 54,
     "metadata": {},
     "output_type": "execute_result"
    }
   ],
   "source": [
    "model.show_topics()"
   ]
  },
  {
   "cell_type": "code",
   "execution_count": 52,
   "metadata": {
    "collapsed": false
   },
   "outputs": [
    {
     "name": "stdout",
     "output_type": "stream",
     "text": [
      "\n",
      "Yaser S.Abu-Mostafa\n",
      "Docs: [21]\n",
      "[(0, 0.21583496794863521),\n",
      " (1, 0.097266339574133789),\n",
      " (2, 0.046104075223616918),\n",
      " (3, 0.082806188712471071),\n",
      " (4, 0.038965292793156206),\n",
      " (5, 0.087321487508770779),\n",
      " (6, 0.27427875618494268),\n",
      " (8, 0.11559328603434335),\n",
      " (9, 0.033930683980366742)]\n",
      "\n",
      "Geoffrey E. Hinton\n",
      "Docs: [276, 235, 270]\n",
      "[(0, 0.21478874086777811),\n",
      " (2, 0.045025956135116882),\n",
      " (3, 0.018058748789869943),\n",
      " (4, 0.035433940765978195),\n",
      " (5, 0.017238697764781256),\n",
      " (6, 0.55389866230226381),\n",
      " (7, 0.052574483064497073),\n",
      " (8, 0.059424559853111729)]\n",
      "\n",
      "Michael I. Jordan\n",
      "Docs: [205]\n",
      "[(0, 0.28200285471582809),\n",
      " (1, 0.019207440913240986),\n",
      " (2, 0.036697731732562668),\n",
      " (3, 0.028229183886206974),\n",
      " (4, 0.047970907798814945),\n",
      " (5, 0.049451568961465901),\n",
      " (6, 0.41516092316824699),\n",
      " (7, 0.040312982014292426),\n",
      " (8, 0.079229887840147561)]\n",
      "\n",
      "James M. Bower\n",
      "Docs: [188, 251, 244]\n",
      "[(0, 0.26698792921714365),\n",
      " (1, 0.15878442632165649),\n",
      " (2, 0.060474251888253387),\n",
      " (3, 0.010249883539547755),\n",
      " (6, 0.40223568615538446),\n",
      " (8, 0.052211994055734137),\n",
      " (9, 0.033610105811001288)]\n"
     ]
    }
   ],
   "source": [
    "name = 'Yaser S.Abu-Mostafa'\n",
    "print('\\n%s' % name)\n",
    "print('Docs:', author2doc[author2id[name]])\n",
    "pprint(model.get_author_topics(author2id[name]))\n",
    "\n",
    "name = 'Geoffrey E. Hinton'\n",
    "print('\\n%s' % name)\n",
    "print('Docs:', author2doc[author2id[name]])\n",
    "pprint(model.get_author_topics(author2id[name]))\n",
    "\n",
    "name = 'Michael I. Jordan'\n",
    "print('\\n%s' % name)\n",
    "print('Docs:', author2doc[author2id[name]])\n",
    "pprint(model.get_author_topics(author2id[name]))\n",
    "\n",
    "name = 'James M. Bower'\n",
    "print('\\n%s' % name)\n",
    "print('Docs:', author2doc[author2id[name]])\n",
    "pprint(model.get_author_topics(author2id[name]))"
   ]
  },
  {
   "cell_type": "markdown",
   "metadata": {},
   "source": [
    "### Test on a small dataset"
   ]
  },
  {
   "cell_type": "code",
   "execution_count": 18,
   "metadata": {
    "collapsed": false
   },
   "outputs": [],
   "source": [
    "n_docs = 10\n",
    "\n",
    "from copy import deepcopy\n",
    "\n",
    "small_doc2author = deepcopy(dict(list(doc2author.items())[:n_docs]))\n",
    "small_doc2author = dict(small_doc2author)\n",
    "\n",
    "small_corpus = corpus[:n_docs]"
   ]
  },
  {
   "cell_type": "code",
   "execution_count": 19,
   "metadata": {
    "collapsed": false
   },
   "outputs": [],
   "source": [
    "authors_ids = set()\n",
    "for d, a_doc_ids in small_doc2author.items():\n",
    "    for a in a_doc_ids:\n",
    "        authors_ids.add(a)\n",
    "\n",
    "authors_ids = list(authors_ids)\n",
    "author_id_dict = dict(zip(authors_ids, range(len(authors_ids))))"
   ]
  },
  {
   "cell_type": "code",
   "execution_count": 20,
   "metadata": {
    "collapsed": false
   },
   "outputs": [],
   "source": [
    "for d, a_ids in small_doc2author.items():\n",
    "    for i, a in enumerate(a_ids):\n",
    "        small_doc2author[d][i] = author_id_dict[a]"
   ]
  },
  {
   "cell_type": "code",
   "execution_count": 21,
   "metadata": {
    "collapsed": false
   },
   "outputs": [],
   "source": [
    "# Make a mapping from author IDs to document IDs.\n",
    "small_author2doc = {}\n",
    "for a in range(len(author_id_dict)):\n",
    "    small_author2doc[a] = []\n",
    "    for d, a_ids in small_doc2author.items():\n",
    "        if a in a_ids:\n",
    "            small_author2doc[a].append(d)"
   ]
  },
  {
   "cell_type": "code",
   "execution_count": 22,
   "metadata": {
    "collapsed": false
   },
   "outputs": [],
   "source": [
    "\n",
    "author_id_dict_rev = dict(zip(range(len(authors_ids)), authors_ids))\n",
    "\n",
    "small_id2author = {}\n",
    "for a, a_id in author_id_dict_rev.items():\n",
    "    small_id2author[a] = id2author[a_id]"
   ]
  },
  {
   "cell_type": "code",
   "execution_count": 23,
   "metadata": {
    "collapsed": false
   },
   "outputs": [
    {
     "name": "stdout",
     "output_type": "stream",
     "text": [
      "phi is 10 x 681 x 10 (68100 elements)\n",
      "mu is 10 x 681 x 21 (143010 elements)\n"
     ]
    }
   ],
   "source": [
    "print('phi is %d x %d x %d (%d elements)' %(len(small_corpus), len(dictionary.id2token), 10,\n",
    "                                            len(small_corpus) * len(dictionary.id2token) * 10))\n",
    "print('mu is %d x %d x %d (%d elements)' %(len(small_corpus), len(dictionary.id2token), len(small_author2doc),\n",
    "                                            len(small_corpus) * len(dictionary.id2token) * len(small_author2doc)))"
   ]
  },
  {
   "cell_type": "code",
   "execution_count": 24,
   "metadata": {
    "collapsed": false
   },
   "outputs": [],
   "source": [
    "reload(onlineatvb)\n",
    "OnlineAtVb = onlineatvb.OnlineAtVb"
   ]
  },
  {
   "cell_type": "code",
   "execution_count": 25,
   "metadata": {
    "collapsed": false
   },
   "outputs": [
    {
     "name": "stdout",
     "output_type": "stream",
     "text": [
      "CPU times: user 7.46 s, sys: 0 ns, total: 7.46 s\n",
      "Wall time: 7.48 s\n"
     ]
    }
   ],
   "source": [
    "%time model = OnlineAtVb(corpus=small_corpus, num_topics=10, id2word=dictionary.id2token, id2author=small_id2author, \\\n",
    "                   author2doc=small_author2doc, doc2author=small_doc2author, threshold=1e-3, \\\n",
    "                   iterations=10, passes=10, alpha=None, eta=None, decay=0.5, offset=64.0, \\\n",
    "                   eval_every=1, random_state=1)"
   ]
  },
  {
   "cell_type": "code",
   "execution_count": 133,
   "metadata": {
    "collapsed": false
   },
   "outputs": [
    {
     "name": "stdout",
     "output_type": "stream",
     "text": [
      "\n",
      "Amir F.Atiya\n",
      "Docs: [5]\n",
      "[(0, 0.26236663424329809),\n",
      " (1, 0.055837758145413023),\n",
      " (2, 0.32385947243135804),\n",
      " (4, 0.031231118362347546),\n",
      " (5, 0.049702348068489471),\n",
      " (6, 0.063277167602715914),\n",
      " (7, 0.11515798924424819),\n",
      " (9, 0.098115022122885684)]\n",
      "\n",
      "FrankWilczek\n",
      "Docs: [1]\n",
      "[(0, 0.21018310687516228),\n",
      " (1, 0.39886126379385306),\n",
      " (2, 0.18071281961456737),\n",
      " (3, 0.052218386110533886),\n",
      " (5, 0.039636353968810233),\n",
      " (8, 0.032375816267307712),\n",
      " (9, 0.073725725628590477)]\n"
     ]
    }
   ],
   "source": [
    "name = 'Amir F.Atiya'\n",
    "print('\\n%s' % name)\n",
    "print('Docs:', model.author2doc[model.author2id[name]])\n",
    "pprint(model.get_author_topics(model.author2id[name]))\n",
    "\n",
    "name = 'FrankWilczek'\n",
    "print('\\n%s' % name)\n",
    "print('Docs:', model.author2doc[model.author2id[name]])\n",
    "pprint(model.get_author_topics(model.author2id[name]))\n"
   ]
  },
  {
   "cell_type": "markdown",
   "metadata": {},
   "source": [
    "## \"Offline\" AT VB"
   ]
  },
  {
   "cell_type": "code",
   "execution_count": 106,
   "metadata": {
    "collapsed": false
   },
   "outputs": [
    {
     "name": "stdout",
     "output_type": "stream",
     "text": [
      "phi is 1740 x 8640 x 10 (150336000 elements)\n",
      "mu is 1740 x 8640 x 3467 (52121491200 elements)\n"
     ]
    }
   ],
   "source": [
    "print('phi is %d x %d x %d (%d elements)' %(len(corpus), len(dictionary.id2token), 10,\n",
    "                                            len(corpus) * len(dictionary.id2token) * 10))\n",
    "print('mu is %d x %d x %d (%d elements)' %(len(corpus), len(dictionary.id2token), len(author2doc),\n",
    "                                            len(corpus) * len(dictionary.id2token) * len(author2doc)))"
   ]
  },
  {
   "cell_type": "code",
   "execution_count": 113,
   "metadata": {
    "collapsed": false
   },
   "outputs": [],
   "source": [
    "reload(atvb)\n",
    "AtVb = atvb.AtVb"
   ]
  },
  {
   "cell_type": "code",
   "execution_count": 114,
   "metadata": {
    "collapsed": false
   },
   "outputs": [
    {
     "name": "stderr",
     "output_type": "stream",
     "text": [
      "/home/olavur/author_topic_models/gensim/gensim/models/atvb.py:395: RuntimeWarning: divide by zero encountered in log\n",
      "  bound_d += cts[vi] * numpy.log(bound_v)\n",
      "/home/olavur/author_topic_models/gensim/gensim/models/atvb.py:268: RuntimeWarning: invalid value encountered in true_divide\n",
      "  var_phi[d, v, :] = var_phi[d, v, :] / var_phi[d, v, :].sum()\n",
      "/home/olavur/author_topic_models/gensim/gensim/models/atvb.py:58: RuntimeWarning: invalid value encountered in greater\n",
      "  if (rho * dprior + prior > 0).all():\n"
     ]
    },
    {
     "ename": "KeyboardInterrupt",
     "evalue": "",
     "output_type": "error",
     "traceback": [
      "\u001b[0;31m---------------------------------------------------------------------------\u001b[0m",
      "\u001b[0;31mKeyboardInterrupt\u001b[0m                         Traceback (most recent call last)",
      "\u001b[0;32m<ipython-input-114-24395d5c4f66>\u001b[0m in \u001b[0;36m<module>\u001b[0;34m()\u001b[0m\n\u001b[0;32m----> 1\u001b[0;31m \u001b[0mget_ipython\u001b[0m\u001b[0;34m(\u001b[0m\u001b[0;34m)\u001b[0m\u001b[0;34m.\u001b[0m\u001b[0mmagic\u001b[0m\u001b[0;34m(\u001b[0m\u001b[0;34m\"time model = AtVb(corpus=corpus, num_topics=10, id2word=dictionary.id2token, id2author=id2author,                    author2doc=author2doc, doc2author=doc2author, threshold=1e-12,                    iterations=40, alpha='auto', eta='auto',                    eval_every=1, random_state=1)\"\u001b[0m\u001b[0;34m)\u001b[0m\u001b[0;34m\u001b[0m\u001b[0m\n\u001b[0m",
      "\u001b[0;32m/home/olavur/.vew/author-topic/local/lib/python3.4/site-packages/IPython/core/interactiveshell.py\u001b[0m in \u001b[0;36mmagic\u001b[0;34m(self, arg_s)\u001b[0m\n\u001b[1;32m   2156\u001b[0m         \u001b[0mmagic_name\u001b[0m\u001b[0;34m,\u001b[0m \u001b[0m_\u001b[0m\u001b[0;34m,\u001b[0m \u001b[0mmagic_arg_s\u001b[0m \u001b[0;34m=\u001b[0m \u001b[0marg_s\u001b[0m\u001b[0;34m.\u001b[0m\u001b[0mpartition\u001b[0m\u001b[0;34m(\u001b[0m\u001b[0;34m' '\u001b[0m\u001b[0;34m)\u001b[0m\u001b[0;34m\u001b[0m\u001b[0m\n\u001b[1;32m   2157\u001b[0m         \u001b[0mmagic_name\u001b[0m \u001b[0;34m=\u001b[0m \u001b[0mmagic_name\u001b[0m\u001b[0;34m.\u001b[0m\u001b[0mlstrip\u001b[0m\u001b[0;34m(\u001b[0m\u001b[0mprefilter\u001b[0m\u001b[0;34m.\u001b[0m\u001b[0mESC_MAGIC\u001b[0m\u001b[0;34m)\u001b[0m\u001b[0;34m\u001b[0m\u001b[0m\n\u001b[0;32m-> 2158\u001b[0;31m         \u001b[0;32mreturn\u001b[0m \u001b[0mself\u001b[0m\u001b[0;34m.\u001b[0m\u001b[0mrun_line_magic\u001b[0m\u001b[0;34m(\u001b[0m\u001b[0mmagic_name\u001b[0m\u001b[0;34m,\u001b[0m \u001b[0mmagic_arg_s\u001b[0m\u001b[0;34m)\u001b[0m\u001b[0;34m\u001b[0m\u001b[0m\n\u001b[0m\u001b[1;32m   2159\u001b[0m \u001b[0;34m\u001b[0m\u001b[0m\n\u001b[1;32m   2160\u001b[0m     \u001b[0;31m#-------------------------------------------------------------------------\u001b[0m\u001b[0;34m\u001b[0m\u001b[0;34m\u001b[0m\u001b[0m\n",
      "\u001b[0;32m/home/olavur/.vew/author-topic/local/lib/python3.4/site-packages/IPython/core/interactiveshell.py\u001b[0m in \u001b[0;36mrun_line_magic\u001b[0;34m(self, magic_name, line)\u001b[0m\n\u001b[1;32m   2077\u001b[0m                 \u001b[0mkwargs\u001b[0m\u001b[0;34m[\u001b[0m\u001b[0;34m'local_ns'\u001b[0m\u001b[0;34m]\u001b[0m \u001b[0;34m=\u001b[0m \u001b[0msys\u001b[0m\u001b[0;34m.\u001b[0m\u001b[0m_getframe\u001b[0m\u001b[0;34m(\u001b[0m\u001b[0mstack_depth\u001b[0m\u001b[0;34m)\u001b[0m\u001b[0;34m.\u001b[0m\u001b[0mf_locals\u001b[0m\u001b[0;34m\u001b[0m\u001b[0m\n\u001b[1;32m   2078\u001b[0m             \u001b[0;32mwith\u001b[0m \u001b[0mself\u001b[0m\u001b[0;34m.\u001b[0m\u001b[0mbuiltin_trap\u001b[0m\u001b[0;34m:\u001b[0m\u001b[0;34m\u001b[0m\u001b[0m\n\u001b[0;32m-> 2079\u001b[0;31m                 \u001b[0mresult\u001b[0m \u001b[0;34m=\u001b[0m \u001b[0mfn\u001b[0m\u001b[0;34m(\u001b[0m\u001b[0;34m*\u001b[0m\u001b[0margs\u001b[0m\u001b[0;34m,\u001b[0m\u001b[0;34m**\u001b[0m\u001b[0mkwargs\u001b[0m\u001b[0;34m)\u001b[0m\u001b[0;34m\u001b[0m\u001b[0m\n\u001b[0m\u001b[1;32m   2080\u001b[0m             \u001b[0;32mreturn\u001b[0m \u001b[0mresult\u001b[0m\u001b[0;34m\u001b[0m\u001b[0m\n\u001b[1;32m   2081\u001b[0m \u001b[0;34m\u001b[0m\u001b[0m\n",
      "\u001b[0;32m<decorator-gen-59>\u001b[0m in \u001b[0;36mtime\u001b[0;34m(self, line, cell, local_ns)\u001b[0m\n",
      "\u001b[0;32m/home/olavur/.vew/author-topic/local/lib/python3.4/site-packages/IPython/core/magic.py\u001b[0m in \u001b[0;36m<lambda>\u001b[0;34m(f, *a, **k)\u001b[0m\n\u001b[1;32m    186\u001b[0m     \u001b[0;31m# but it's overkill for just that one bit of state.\u001b[0m\u001b[0;34m\u001b[0m\u001b[0;34m\u001b[0m\u001b[0m\n\u001b[1;32m    187\u001b[0m     \u001b[0;32mdef\u001b[0m \u001b[0mmagic_deco\u001b[0m\u001b[0;34m(\u001b[0m\u001b[0marg\u001b[0m\u001b[0;34m)\u001b[0m\u001b[0;34m:\u001b[0m\u001b[0;34m\u001b[0m\u001b[0m\n\u001b[0;32m--> 188\u001b[0;31m         \u001b[0mcall\u001b[0m \u001b[0;34m=\u001b[0m \u001b[0;32mlambda\u001b[0m \u001b[0mf\u001b[0m\u001b[0;34m,\u001b[0m \u001b[0;34m*\u001b[0m\u001b[0ma\u001b[0m\u001b[0;34m,\u001b[0m \u001b[0;34m**\u001b[0m\u001b[0mk\u001b[0m\u001b[0;34m:\u001b[0m \u001b[0mf\u001b[0m\u001b[0;34m(\u001b[0m\u001b[0;34m*\u001b[0m\u001b[0ma\u001b[0m\u001b[0;34m,\u001b[0m \u001b[0;34m**\u001b[0m\u001b[0mk\u001b[0m\u001b[0;34m)\u001b[0m\u001b[0;34m\u001b[0m\u001b[0m\n\u001b[0m\u001b[1;32m    189\u001b[0m \u001b[0;34m\u001b[0m\u001b[0m\n\u001b[1;32m    190\u001b[0m         \u001b[0;32mif\u001b[0m \u001b[0mcallable\u001b[0m\u001b[0;34m(\u001b[0m\u001b[0marg\u001b[0m\u001b[0;34m)\u001b[0m\u001b[0;34m:\u001b[0m\u001b[0;34m\u001b[0m\u001b[0m\n",
      "\u001b[0;32m/home/olavur/.vew/author-topic/local/lib/python3.4/site-packages/IPython/core/magics/execution.py\u001b[0m in \u001b[0;36mtime\u001b[0;34m(self, line, cell, local_ns)\u001b[0m\n\u001b[1;32m   1178\u001b[0m         \u001b[0;32melse\u001b[0m\u001b[0;34m:\u001b[0m\u001b[0;34m\u001b[0m\u001b[0m\n\u001b[1;32m   1179\u001b[0m             \u001b[0mst\u001b[0m \u001b[0;34m=\u001b[0m \u001b[0mclock2\u001b[0m\u001b[0;34m(\u001b[0m\u001b[0;34m)\u001b[0m\u001b[0;34m\u001b[0m\u001b[0m\n\u001b[0;32m-> 1180\u001b[0;31m             \u001b[0mexec\u001b[0m\u001b[0;34m(\u001b[0m\u001b[0mcode\u001b[0m\u001b[0;34m,\u001b[0m \u001b[0mglob\u001b[0m\u001b[0;34m,\u001b[0m \u001b[0mlocal_ns\u001b[0m\u001b[0;34m)\u001b[0m\u001b[0;34m\u001b[0m\u001b[0m\n\u001b[0m\u001b[1;32m   1181\u001b[0m             \u001b[0mend\u001b[0m \u001b[0;34m=\u001b[0m \u001b[0mclock2\u001b[0m\u001b[0;34m(\u001b[0m\u001b[0;34m)\u001b[0m\u001b[0;34m\u001b[0m\u001b[0m\n\u001b[1;32m   1182\u001b[0m             \u001b[0mout\u001b[0m \u001b[0;34m=\u001b[0m \u001b[0;32mNone\u001b[0m\u001b[0;34m\u001b[0m\u001b[0m\n",
      "\u001b[0;32m<timed exec>\u001b[0m in \u001b[0;36m<module>\u001b[0;34m()\u001b[0m\n",
      "\u001b[0;32m/home/olavur/author_topic_models/gensim/gensim/models/atvb.py\u001b[0m in \u001b[0;36m__init__\u001b[0;34m(self, corpus, num_topics, id2word, id2author, author2doc, doc2author, threshold, iterations, alpha, eta, minimum_probability, eval_every, random_state, var_lambda)\u001b[0m\n\u001b[1;32m    162\u001b[0m \u001b[0;34m\u001b[0m\u001b[0m\n\u001b[1;32m    163\u001b[0m         \u001b[0;32mif\u001b[0m \u001b[0mcorpus\u001b[0m \u001b[0;32mis\u001b[0m \u001b[0;32mnot\u001b[0m \u001b[0;32mNone\u001b[0m\u001b[0;34m:\u001b[0m\u001b[0;34m\u001b[0m\u001b[0m\n\u001b[0;32m--> 164\u001b[0;31m             \u001b[0mself\u001b[0m\u001b[0;34m.\u001b[0m\u001b[0minference\u001b[0m\u001b[0;34m(\u001b[0m\u001b[0mcorpus\u001b[0m\u001b[0;34m,\u001b[0m \u001b[0mauthor2doc\u001b[0m\u001b[0;34m,\u001b[0m \u001b[0mdoc2author\u001b[0m\u001b[0;34m,\u001b[0m \u001b[0mvar_lambda\u001b[0m\u001b[0;34m)\u001b[0m\u001b[0;34m\u001b[0m\u001b[0m\n\u001b[0m\u001b[1;32m    165\u001b[0m \u001b[0;34m\u001b[0m\u001b[0m\n\u001b[1;32m    166\u001b[0m     \u001b[0;32mdef\u001b[0m \u001b[0mupdate_alpha\u001b[0m\u001b[0;34m(\u001b[0m\u001b[0mself\u001b[0m\u001b[0;34m,\u001b[0m \u001b[0mvar_gamma\u001b[0m\u001b[0;34m,\u001b[0m \u001b[0mrho\u001b[0m\u001b[0;34m)\u001b[0m\u001b[0;34m:\u001b[0m\u001b[0;34m\u001b[0m\u001b[0m\n",
      "\u001b[0;32m/home/olavur/author_topic_models/gensim/gensim/models/atvb.py\u001b[0m in \u001b[0;36minference\u001b[0;34m(self, corpus, author2doc, doc2author, var_lambda)\u001b[0m\n\u001b[1;32m    330\u001b[0m                         \u001b[0mdoc\u001b[0m \u001b[0;34m=\u001b[0m \u001b[0mcorpus\u001b[0m\u001b[0;34m[\u001b[0m\u001b[0md\u001b[0m\u001b[0;34m]\u001b[0m\u001b[0;34m\u001b[0m\u001b[0m\n\u001b[1;32m    331\u001b[0m                         \u001b[0;31m# Get the count of v in doc. If v is not in doc, return 0.\u001b[0m\u001b[0;34m\u001b[0m\u001b[0;34m\u001b[0m\u001b[0m\n\u001b[0;32m--> 332\u001b[0;31m                         \u001b[0mcnt\u001b[0m \u001b[0;34m=\u001b[0m \u001b[0mdict\u001b[0m\u001b[0;34m(\u001b[0m\u001b[0mdoc\u001b[0m\u001b[0;34m)\u001b[0m\u001b[0;34m.\u001b[0m\u001b[0mget\u001b[0m\u001b[0;34m(\u001b[0m\u001b[0mv\u001b[0m\u001b[0;34m,\u001b[0m \u001b[0;36m0\u001b[0m\u001b[0;34m)\u001b[0m\u001b[0;34m\u001b[0m\u001b[0m\n\u001b[0m\u001b[1;32m    333\u001b[0m                         \u001b[0mvar_lambda\u001b[0m\u001b[0;34m[\u001b[0m\u001b[0mk\u001b[0m\u001b[0;34m,\u001b[0m \u001b[0mv\u001b[0m\u001b[0;34m]\u001b[0m \u001b[0;34m+=\u001b[0m \u001b[0mcnt\u001b[0m \u001b[0;34m*\u001b[0m \u001b[0mvar_phi\u001b[0m\u001b[0;34m[\u001b[0m\u001b[0md\u001b[0m\u001b[0;34m,\u001b[0m \u001b[0mv\u001b[0m\u001b[0;34m,\u001b[0m \u001b[0mk\u001b[0m\u001b[0;34m]\u001b[0m\u001b[0;34m\u001b[0m\u001b[0m\n\u001b[1;32m    334\u001b[0m \u001b[0;34m\u001b[0m\u001b[0m\n",
      "\u001b[0;31mKeyboardInterrupt\u001b[0m: "
     ]
    }
   ],
   "source": [
    "%time model = AtVb(corpus=corpus, num_topics=10, id2word=dictionary.id2token, id2author=id2author, \\\n",
    "                   author2doc=author2doc, doc2author=doc2author, threshold=1e-12, \\\n",
    "                   iterations=40, alpha='auto', eta='auto', \\\n",
    "                   eval_every=1, random_state=1)"
   ]
  },
  {
   "cell_type": "code",
   "execution_count": 31,
   "metadata": {
    "collapsed": false
   },
   "outputs": [
    {
     "data": {
      "text/plain": [
       "[(0,\n",
       "  '0.019*cell + 0.008*matrix + 0.008*representation + 0.008*training + 0.007*activity + 0.007*node + 0.006*dynamic + 0.006*field + 0.006*probability + 0.005*hopfield'),\n",
       " (1,\n",
       "  '0.016*cell + 0.007*matrix + 0.007*capacity + 0.006*feature + 0.006*activity + 0.006*node + 0.006*field + 0.006*dynamic + 0.006*training + 0.006*stimulus'),\n",
       " (2,\n",
       "  '0.012*cell + 0.010*training + 0.008*matrix + 0.007*stimulus + 0.007*hopfield + 0.006*image + 0.006*noise + 0.006*representation + 0.006*hidden + 0.006*convergence'),\n",
       " (3,\n",
       "  '0.011*cell + 0.008*hopfield + 0.007*activity + 0.007*rate + 0.006*matrix + 0.006*hidden + 0.006*field + 0.006*training + 0.005*node + 0.005*representation'),\n",
       " (4,\n",
       "  '0.012*cell + 0.008*activity + 0.007*matrix + 0.007*training + 0.006*field + 0.006*code + 0.006*representation + 0.006*firing + 0.006*current + 0.005*synaptic'),\n",
       " (5,\n",
       "  '0.014*cell + 0.008*hidden + 0.007*sequence + 0.007*training + 0.006*field + 0.006*noise + 0.006*node + 0.006*dynamic + 0.006*hopfield + 0.006*representation'),\n",
       " (6,\n",
       "  '0.025*cell + 0.011*matrix + 0.009*training + 0.006*activity + 0.006*probability + 0.006*hopfield + 0.006*synaptic + 0.005*node + 0.005*stimulus + 0.005*representation'),\n",
       " (7,\n",
       "  '0.016*cell + 0.008*training + 0.007*activity + 0.007*representation + 0.007*matrix + 0.007*hidden + 0.007*noise + 0.006*hopfield + 0.006*probability + 0.006*firing'),\n",
       " (8,\n",
       "  '0.012*cell + 0.008*image + 0.007*training + 0.006*feature + 0.006*hopfield + 0.006*representation + 0.006*probability + 0.006*firing + 0.006*activity + 0.005*synaptic'),\n",
       " (9,\n",
       "  '0.012*cell + 0.008*matrix + 0.008*activity + 0.007*representation + 0.007*training + 0.006*image + 0.006*capacity + 0.006*rate + 0.006*hopfield + 0.006*node')]"
      ]
     },
     "execution_count": 31,
     "metadata": {},
     "output_type": "execute_result"
    }
   ],
   "source": [
    "model.show_topics()"
   ]
  },
  {
   "cell_type": "code",
   "execution_count": 118,
   "metadata": {
    "collapsed": false
   },
   "outputs": [
    {
     "name": "stdout",
     "output_type": "stream",
     "text": [
      "\n",
      "Yaser S.Abu-Mostafa\n",
      "Docs: [21]\n",
      "[(0, 0.090225715808980797),\n",
      " (1, 0.014047723409152875),\n",
      " (3, 0.38971799227229242),\n",
      " (4, 0.30695125800680684),\n",
      " (5, 0.11680215128570454),\n",
      " (7, 0.012641840087616362),\n",
      " (8, 0.069095036605336377)]\n",
      "\n",
      "Geoffrey E. Hinton\n",
      "Docs: [276, 235, 270]\n",
      "[(0, 0.17326190127690461),\n",
      " (2, 0.062709625689712375),\n",
      " (3, 0.023215349136065065),\n",
      " (4, 0.096803072840719678),\n",
      " (5, 0.1267901905748583),\n",
      " (6, 0.47635551675437715),\n",
      " (7, 0.025581291656655011),\n",
      " (9, 0.013530262666658776)]\n",
      "\n",
      "Michael I. Jordan\n",
      "Docs: [205]\n",
      "[(0, 0.22189029162114421),\n",
      " (2, 0.033072831647105602),\n",
      " (4, 0.051509519512663651),\n",
      " (5, 0.63361728214218349),\n",
      " (7, 0.045992411979857574),\n",
      " (9, 0.012757930948596466)]\n",
      "\n",
      "James M. Bower\n",
      "Docs: [188, 251, 244]\n",
      "[(1, 0.29194178492747924),\n",
      " (2, 0.47740737076112999),\n",
      " (3, 0.023636461735819542),\n",
      " (4, 0.010413505064807139),\n",
      " (7, 0.018554608959817139),\n",
      " (9, 0.17063597622983562)]\n"
     ]
    }
   ],
   "source": [
    "name = 'Yaser S.Abu-Mostafa'\n",
    "print('\\n%s' % name)\n",
    "print('Docs:', author2doc[author2id[name]])\n",
    "pprint(model.get_author_topics(author2id[name]))\n",
    "\n",
    "name = 'Geoffrey E. Hinton'\n",
    "print('\\n%s' % name)\n",
    "print('Docs:', author2doc[author2id[name]])\n",
    "pprint(model.get_author_topics(author2id[name]))\n",
    "\n",
    "name = 'Michael I. Jordan'\n",
    "print('\\n%s' % name)\n",
    "print('Docs:', author2doc[author2id[name]])\n",
    "pprint(model.get_author_topics(author2id[name]))\n",
    "\n",
    "name = 'James M. Bower'\n",
    "print('\\n%s' % name)\n",
    "print('Docs:', author2doc[author2id[name]])\n",
    "pprint(model.get_author_topics(author2id[name]))"
   ]
  },
  {
   "cell_type": "markdown",
   "metadata": {},
   "source": [
    "### Test on small corpus"
   ]
  },
  {
   "cell_type": "code",
   "execution_count": 77,
   "metadata": {
    "collapsed": true
   },
   "outputs": [],
   "source": [
    "lda = LdaModel(corpus=small_corpus, num_topics=10, id2word=dictionary.id2token, passes=10)\n",
    "var_lambda_init = lda.state.get_lambda()"
   ]
  },
  {
   "cell_type": "code",
   "execution_count": 90,
   "metadata": {
    "collapsed": false
   },
   "outputs": [],
   "source": [
    "reload(atvb)\n",
    "AtVb = atvb.AtVb"
   ]
  },
  {
   "cell_type": "code",
   "execution_count": 92,
   "metadata": {
    "collapsed": false
   },
   "outputs": [
    {
     "name": "stdout",
     "output_type": "stream",
     "text": [
      "CPU times: user 3.43 s, sys: 4 ms, total: 3.43 s\n",
      "Wall time: 3.44 s\n"
     ]
    }
   ],
   "source": [
    "%time model = AtVb(corpus=small_corpus, num_topics=10, id2word=dictionary.id2token, id2author=small_id2author, \\\n",
    "                   author2doc=small_author2doc, doc2author=small_doc2author, threshold=1e-12, \\\n",
    "                   iterations=10, alpha='auto', eta='auto', \\\n",
    "                   eval_every=1, random_state=1, var_lambda=var_lambda_init)"
   ]
  },
  {
   "cell_type": "code",
   "execution_count": 34,
   "metadata": {
    "collapsed": false
   },
   "outputs": [
    {
     "data": {
      "text/plain": [
       "[(0,\n",
       "  '0.071*group + 0.039*matrix + 0.032*feedback + 0.027*whose + 0.018*obtain + 0.016*scheme + 0.015*constraint + 0.015*expression + 0.014*unique + 0.013*computational'),\n",
       " (1,\n",
       "  '0.041*map + 0.040*field + 0.034*location + 0.033*brain + 0.030*node + 0.021*requires + 0.020*propagation + 0.016*back_propagation + 0.016*distribution + 0.014*mechanism'),\n",
       " (2,\n",
       "  '0.084*processor + 0.075*edge + 0.052*activation + 0.034*update + 0.021*column + 0.020*run + 0.019*implementation + 0.018*control + 0.018*operation + 0.017*content'),\n",
       " (3,\n",
       "  '0.046*image + 0.038*gradient + 0.027*flow + 0.025*field + 0.024*analog + 0.023*circuit + 0.022*constraint + 0.018*square + 0.017*vision + 0.017*technique'),\n",
       " (4,\n",
       "  '0.023*dynamic + 0.021*phase + 0.018*cell + 0.018*variable + 0.017*with_respect + 0.017*respect + 0.016*path + 0.015*noise + 0.014*energy + 0.011*limit'),\n",
       " (5,\n",
       "  '0.080*processor + 0.061*activation + 0.040*edge + 0.040*update + 0.021*store + 0.020*operation + 0.018*required + 0.018*address + 0.017*stored + 0.016*machine'),\n",
       " (6,\n",
       "  '0.038*map + 0.037*brain + 0.033*stimulus + 0.024*functional + 0.021*noise + 0.020*associative_memory + 0.020*recall + 0.017*series + 0.015*scale + 0.015*associated'),\n",
       " (7,\n",
       "  '0.049*potential + 0.044*cell + 0.035*connectivity + 0.026*synaptic + 0.025*artificial + 0.023*architecture + 0.015*temporal + 0.014*brain + 0.014*computational + 0.013*action'),\n",
       " (8,\n",
       "  '0.075*image + 0.032*log + 0.024*dimensional + 0.018*mapping + 0.017*matrix + 0.016*center + 0.015*node + 0.014*recall + 0.013*back + 0.013*th'),\n",
       " (9,\n",
       "  '0.058*scheme + 0.048*capacity + 0.047*probability + 0.040*representation + 0.030*stored + 0.028*binary + 0.025*represented + 0.023*code + 0.022*relationship + 0.021*bound')]"
      ]
     },
     "execution_count": 34,
     "metadata": {},
     "output_type": "execute_result"
    }
   ],
   "source": [
    "model.show_topics()"
   ]
  },
  {
   "cell_type": "code",
   "execution_count": 35,
   "metadata": {
    "collapsed": false
   },
   "outputs": [
    {
     "data": {
      "text/plain": [
       "[(0, 0.55485121572041607),\n",
       " (4, 0.17897884328936686),\n",
       " (6, 0.14414251935372879),\n",
       " (8, 0.11957893769069983)]"
      ]
     },
     "execution_count": 35,
     "metadata": {},
     "output_type": "execute_result"
    }
   ],
   "source": [
    "model.get_author_topics(0)"
   ]
  },
  {
   "cell_type": "markdown",
   "metadata": {
    "collapsed": true
   },
   "source": [
    "## LDA"
   ]
  },
  {
   "cell_type": "code",
   "execution_count": 158,
   "metadata": {
    "collapsed": true
   },
   "outputs": [],
   "source": [
    "reload(gensim.models.ldamodel)\n",
    "LdaModel = gensim.models.ldamodel.LdaModel"
   ]
  },
  {
   "cell_type": "code",
   "execution_count": null,
   "metadata": {
    "collapsed": true
   },
   "outputs": [],
   "source": [
    "lda = LdaModel(corpus=corpus, num_topics=10, id2word=dictionary.id2token, passes=10)"
   ]
  },
  {
   "cell_type": "code",
   "execution_count": 98,
   "metadata": {
    "collapsed": false
   },
   "outputs": [
    {
     "data": {
      "text/plain": [
       "[(0,\n",
       "  '0.025*node + 0.015*processor + 0.012*constraint + 0.012*propagation + 0.010*activation + 0.009*back_propagation + 0.009*classifier + 0.009*update + 0.007*hidden + 0.007*energy'),\n",
       " (1,\n",
       "  '0.022*image + 0.019*classifier + 0.010*classification + 0.009*noise + 0.008*region + 0.007*gaussian + 0.007*class + 0.007*node + 0.006*decision + 0.006*vector'),\n",
       " (2,\n",
       "  '0.028*hidden + 0.020*speech + 0.012*hidden_unit + 0.011*chain + 0.010*region + 0.009*hidden_layer + 0.008*human + 0.007*propagation + 0.007*orientation + 0.007*acoustic'),\n",
       " (3,\n",
       "  '0.028*memory + 0.024*vector + 0.010*capacity + 0.010*bit + 0.010*associative + 0.008*code + 0.008*associative_memory + 0.007*stored + 0.006*matrix + 0.006*threshold'),\n",
       " (4,\n",
       "  '0.023*circuit + 0.018*chip + 0.015*analog + 0.014*voltage + 0.013*current + 0.011*synapse + 0.008*pulse + 0.008*transistor + 0.007*vlsi + 0.007*synaptic'),\n",
       " (5,\n",
       "  '0.009*node + 0.008*hidden + 0.007*activation + 0.005*generalization + 0.005*hidden_unit + 0.005*connectionist + 0.004*training_set + 0.004*trained + 0.004*word + 0.004*probability'),\n",
       " (6,\n",
       "  '0.033*cell + 0.012*response + 0.011*stimulus + 0.011*firing + 0.008*synaptic + 0.008*activity + 0.008*potential + 0.007*spike + 0.006*fig + 0.006*cortex'),\n",
       " (7,\n",
       "  '0.009*energy + 0.007*gradient + 0.007*field + 0.007*hopfield + 0.006*matrix + 0.006*minimum + 0.006*convergence + 0.006*hidden + 0.005*vector + 0.004*equilibrium'),\n",
       " (8,\n",
       "  '0.019*recognition + 0.009*joint + 0.009*visual + 0.009*speech + 0.008*field + 0.007*speaker + 0.007*object + 0.007*motion + 0.005*aspect + 0.005*control'),\n",
       " (9,\n",
       "  '0.016*map + 0.010*delay + 0.010*region + 0.008*cortex + 0.008*activity + 0.008*brain + 0.008*oscillation + 0.008*distribution + 0.007*phase + 0.007*cell')]"
      ]
     },
     "execution_count": 98,
     "metadata": {},
     "output_type": "execute_result"
    }
   ],
   "source": [
    "lda.show_topics()"
   ]
  },
  {
   "cell_type": "code",
   "execution_count": 59,
   "metadata": {
    "collapsed": false
   },
   "outputs": [
    {
     "data": {
      "text/plain": [
       "[(0, 0.14679045510589872),\n",
       " (2, 0.024722847345847499),\n",
       " (3, 0.036692535207794273),\n",
       " (4, 0.10874558108160597),\n",
       " (6, 0.29675634369596471),\n",
       " (9, 0.38555538612902118)]"
      ]
     },
     "execution_count": 59,
     "metadata": {},
     "output_type": "execute_result"
    }
   ],
   "source": [
    "lda[corpus[0]]"
   ]
  }
 ],
 "metadata": {
  "kernelspec": {
   "display_name": "Python 3",
   "language": "python",
   "name": "python3"
  },
  "language_info": {
   "codemirror_mode": {
    "name": "ipython",
    "version": 3
   },
   "file_extension": ".py",
   "mimetype": "text/x-python",
   "name": "python",
   "nbconvert_exporter": "python",
   "pygments_lexer": "ipython3",
   "version": "3.4.3+"
  }
 },
 "nbformat": 4,
 "nbformat_minor": 1
}
