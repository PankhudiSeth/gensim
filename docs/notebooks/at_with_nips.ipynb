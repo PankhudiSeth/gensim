{
 "cells": [
  {
   "cell_type": "code",
   "execution_count": 1,
   "metadata": {
    "collapsed": false
   },
   "outputs": [
    {
     "data": {
      "application/javascript": [
       "// Run for table of contents.\n",
       "$.getScript('https://kmahelona.github.io/ipython_notebook_goodies/ipython_notebook_toc.js')\n",
       "\n",
       "// https://github.com/kmahelona/ipython_notebook_goodies"
      ],
      "text/plain": [
       "<IPython.core.display.Javascript object>"
      ]
     },
     "metadata": {},
     "output_type": "display_data"
    }
   ],
   "source": [
    "%%javascript\n",
    "// Run for table of contents.\n",
    "$.getScript('https://kmahelona.github.io/ipython_notebook_goodies/ipython_notebook_toc.js')\n",
    "\n",
    "// https://github.com/kmahelona/ipython_notebook_goodies"
   ]
  },
  {
   "cell_type": "markdown",
   "metadata": {},
   "source": [
    "# Tests with NIPS data\n",
    "\n",
    "<h2 id=\"tocheading\">Table of Contents</h2>\n",
    "<div id=\"toc\"></div>\n"
   ]
  },
  {
   "cell_type": "code",
   "execution_count": 17,
   "metadata": {
    "collapsed": false
   },
   "outputs": [],
   "source": [
    "import numpy as np\n",
    "import matplotlib\n",
    "import matplotlib.pyplot as plt\n",
    "from nltk.tokenize import RegexpTokenizer\n",
    "from nltk.stem.wordnet import WordNetLemmatizer\n",
    "import gensim\n",
    "from gensim.models import Phrases\n",
    "from gensim.corpora import Dictionary\n",
    "from gensim.models import LdaModel\n",
    "from imp import reload\n",
    "from pprint import pprint\n",
    "from random import sample\n",
    "import bokeh\n",
    "import line_profiler\n",
    "\n",
    "import logging\n",
    "\n",
    "from gensim.models import AuthorTopicModel\n",
    "from gensim.models import atmodel\n",
    "from gensim.models import AuthorTopicModelOld\n",
    "from gensim.models import atmodelold\n",
    "from gensim.models import LdaModel\n",
    "from gensim.models import ldamodel\n",
    "\n",
    "from time import time\n",
    "\n",
    "%matplotlib inline"
   ]
  },
  {
   "cell_type": "code",
   "execution_count": null,
   "metadata": {
    "collapsed": false
   },
   "outputs": [],
   "source": [
    "# Configure logging.\n",
    "\n",
    "log_dir = '../../../log_files/log.log'  # On my own machine.\n",
    "#log_dir = '../../../../log_files/log.log'  # On Hetzner\n",
    "\n",
    "logger = logging.getLogger()\n",
    "fhandler = logging.FileHandler(filename=log_dir, mode='a')\n",
    "formatter = logging.Formatter('%(asctime)s - %(name)s - %(levelname)s - %(message)s')\n",
    "fhandler.setFormatter(formatter)\n",
    "logger.addHandler(fhandler)\n",
    "logger.setLevel(logging.DEBUG)"
   ]
  },
  {
   "cell_type": "markdown",
   "metadata": {},
   "source": [
    "## Load and prepare data structure"
   ]
  },
  {
   "cell_type": "code",
   "execution_count": 3,
   "metadata": {
    "collapsed": false
   },
   "outputs": [],
   "source": [
    "import os\n",
    "import re\n",
    "\n",
    "# Folder containing all NIPS papers.\n",
    "data_dir = '../../../../data/nipstxt/'  # On my own machine.\n",
    "#data_dir = '../../../nipstxt/'  # On Hetzner.\n",
    "\n",
    "# Folders containin individual NIPS papers.\n",
    "#yrs = ['00', '01', '02', '03', '04', '05', '06', '07', '08', '09', '10', '11', '12']\n",
    "yrs = ['00', '01', '02']\n",
    "dirs = ['nips' + yr for yr in yrs]\n",
    "\n",
    "# Get all document texts and their corresponding IDs.\n",
    "docs = []\n",
    "doc_ids = []\n",
    "for yr_dir in dirs:\n",
    "    files = os.listdir(data_dir + yr_dir)  # List of filenames.\n",
    "    for filen in files:\n",
    "        # Get document ID.\n",
    "        (idx1, idx2) = re.search('[0-9]+', filen).span()  # Matches the indexes of the start end end of the ID.\n",
    "        doc_ids.append(yr_dir[4:] + '_' + str(int(filen[idx1:idx2])))\n",
    "        \n",
    "        # Read document text.\n",
    "        # Note: ignoring characters that cause encoding errors.\n",
    "        with open(data_dir + yr_dir + '/' + filen, errors='ignore', encoding='utf-8') as fid:\n",
    "            txt = fid.read()\n",
    "        docs.append(txt)"
   ]
  },
  {
   "cell_type": "code",
   "execution_count": 4,
   "metadata": {
    "collapsed": false
   },
   "outputs": [],
   "source": [
    "filenames = [data_dir + 'idx/a' + yr + '.txt' for yr in yrs]  # Using the years defined in previous cell.\n",
    "\n",
    "# Get all author names and their corresponding document IDs.\n",
    "author2id = dict()\n",
    "author2doc = dict()\n",
    "i = 0\n",
    "for yr in yrs:\n",
    "    filename = data_dir + 'idx/a' + yr + '.txt'\n",
    "    for line in open(filename, errors='ignore', encoding='utf-8'):\n",
    "        contents = re.split(',', line)\n",
    "        author_name = (contents[1] + contents[0]).strip()\n",
    "        ids = [c.strip() for c in contents[2:]]\n",
    "        if not author2id.get(author_name):\n",
    "            author2id[author_name] = i\n",
    "            author2doc[i] = []\n",
    "            i += 1\n",
    "        \n",
    "        author_id = author2id[author_name]\n",
    "        author2doc[author_id].extend([yr + '_' + id for id in ids])\n",
    "        "
   ]
  },
  {
   "cell_type": "code",
   "execution_count": 5,
   "metadata": {
    "collapsed": false
   },
   "outputs": [],
   "source": [
    "# Make a mapping from author ID to author name.\n",
    "id2author = dict(zip(author2id.values(), author2id.keys()))"
   ]
  },
  {
   "cell_type": "code",
   "execution_count": 6,
   "metadata": {
    "collapsed": false
   },
   "outputs": [],
   "source": [
    "# Use an integer ID in author2doc, instead of the IDs provided in the NIPS dataset.\n",
    "\n",
    "# Mapping from ID of document in NIPS datast, to an integer ID.\n",
    "doc_id_dict = dict(zip(doc_ids, range(len(doc_ids))))\n",
    "\n",
    "for a, a_doc_ids in author2doc.items():\n",
    "    for i, doc_id in enumerate(a_doc_ids):\n",
    "        author2doc[a][i] = doc_id_dict[doc_id]"
   ]
  },
  {
   "cell_type": "code",
   "execution_count": 7,
   "metadata": {
    "collapsed": false
   },
   "outputs": [],
   "source": [
    "# Make a mapping from document IDs to author IDs.\n",
    "# Same as in the atvb code.\n",
    "doc2author = {}\n",
    "for d, _ in enumerate(docs):\n",
    "    author_ids = []\n",
    "    for a, a_doc_ids in author2doc.items():\n",
    "        if d in a_doc_ids:\n",
    "            author_ids.append(a)\n",
    "    doc2author[d] = author_ids"
   ]
  },
  {
   "cell_type": "markdown",
   "metadata": {},
   "source": [
    "## Pre-process and vectorize data"
   ]
  },
  {
   "cell_type": "code",
   "execution_count": 8,
   "metadata": {
    "collapsed": false
   },
   "outputs": [],
   "source": [
    "# Tokenize the documents.\n",
    "\n",
    "# Split the documents into tokens.\n",
    "tokenizer = RegexpTokenizer(r'\\w+')\n",
    "for idx in range(len(docs)):\n",
    "    docs[idx] = docs[idx].lower()  # Convert to lowercase.\n",
    "    docs[idx] = tokenizer.tokenize(docs[idx])  # Split into words.\n",
    "\n",
    "# Remove numbers, but not words that contain numbers.\n",
    "docs = [[token for token in doc if not token.isnumeric()] for doc in docs]\n",
    "\n",
    "# Remove words that are only one character.\n",
    "docs = [[token for token in doc if len(token) > 1] for doc in docs]"
   ]
  },
  {
   "cell_type": "code",
   "execution_count": 9,
   "metadata": {
    "collapsed": false
   },
   "outputs": [],
   "source": [
    "# Lemmatize the documents.\n",
    "\n",
    "# Lemmatize all words in documents.\n",
    "lemmatizer = WordNetLemmatizer()\n",
    "docs = [[lemmatizer.lemmatize(token) for token in doc] for doc in docs]"
   ]
  },
  {
   "cell_type": "code",
   "execution_count": 10,
   "metadata": {
    "collapsed": false
   },
   "outputs": [
    {
     "name": "stderr",
     "output_type": "stream",
     "text": [
      "/home/olavur/Dropbox/my_folder/workstuff/DTU/thesis/code/gensim/gensim/models/phrases.py:248: UserWarning: For a faster implementation, use the gensim.models.phrases.Phraser class\n",
      "  warnings.warn(\"For a faster implementation, use the gensim.models.phrases.Phraser class\")\n"
     ]
    }
   ],
   "source": [
    "# Compute bigrams.\n",
    "\n",
    "# Add bigrams and trigrams to docs (only ones that appear 20 times or more).\n",
    "bigram = Phrases(docs, min_count=20)\n",
    "for idx in range(len(docs)):\n",
    "    for token in bigram[docs[idx]]:\n",
    "        if '_' in token:\n",
    "            # Token is a bigram, add to document.\n",
    "            docs[idx].append(token)"
   ]
  },
  {
   "cell_type": "code",
   "execution_count": 11,
   "metadata": {
    "collapsed": true
   },
   "outputs": [],
   "source": [
    "# Create a dictionary representation of the documents.\n",
    "dictionary = Dictionary(docs)"
   ]
  },
  {
   "cell_type": "code",
   "execution_count": 12,
   "metadata": {
    "collapsed": false
   },
   "outputs": [],
   "source": [
    "# Remove rare and common tokens.\n",
    "\n",
    "# Filter out words that occur too frequently or too rarely.\n",
    "max_freq = 0.5\n",
    "min_wordcount = 20\n",
    "dictionary.filter_extremes(no_below=min_wordcount, no_above=max_freq)\n",
    "\n",
    "dict0 = dictionary[0]  # This sort of \"initializes\" dictionary.id2token."
   ]
  },
  {
   "cell_type": "code",
   "execution_count": 13,
   "metadata": {
    "collapsed": false
   },
   "outputs": [
    {
     "data": {
      "image/png": "[encoded data removed]",
      "text/plain": [
       "<matplotlib.figure.Figure at 0x7fdb7946c9e8>"
      ]
     },
     "metadata": {},
     "output_type": "display_data"
    }
   ],
   "source": [
    "# Frequency distribution of words.\n",
    "\n",
    "one_doc = []\n",
    "for doc in docs:\n",
    "    one_doc.extend(doc)\n",
    "\n",
    "bow = dictionary.doc2bow(one_doc)\n",
    "word_freq = [cnt for _, cnt in bow]\n",
    "\n",
    "plt.plot(sorted(word_freq))\n",
    "plt.xlabel('Words')\n",
    "plt.ylabel('#Occurences')\n",
    "plt.title('Frequency distribution of words.\\nPower-law behaviour.')\n",
    "plt.show()"
   ]
  },
  {
   "cell_type": "code",
   "execution_count": 14,
   "metadata": {
    "collapsed": true
   },
   "outputs": [],
   "source": [
    "# Vectorize data.\n",
    "\n",
    "# Bag-of-words representation of the documents.\n",
    "corpus = [dictionary.doc2bow(doc) for doc in docs]"
   ]
  },
  {
   "cell_type": "code",
   "execution_count": 15,
   "metadata": {
    "collapsed": false
   },
   "outputs": [
    {
     "name": "stdout",
     "output_type": "stream",
     "text": [
      "Number of authors: 536\n",
      "Number of unique tokens: 2245\n",
      "Number of documents: 286\n"
     ]
    }
   ],
   "source": [
    "print('Number of authors: %d' % len(author2doc))\n",
    "print('Number of unique tokens: %d' % len(dictionary))\n",
    "print('Number of documents: %d' % len(corpus))"
   ]
  },
  {
   "cell_type": "markdown",
   "metadata": {},
   "source": [
    "## Train model"
   ]
  },
  {
   "cell_type": "code",
   "execution_count": 30,
   "metadata": {
    "collapsed": false
   },
   "outputs": [],
   "source": [
    "reload(atmodel)\n",
    "AuthorTopicModel = atmodel.AuthorTopicModel\n",
    "reload(atmodelold)\n",
    "AuthorTopicModelOld = atmodelold.AuthorTopicModelOld\n",
    "reload(ldamodel)\n",
    "LdaModel = ldamodel.LdaModel"
   ]
  },
  {
   "cell_type": "code",
   "execution_count": 31,
   "metadata": {
    "collapsed": false
   },
   "outputs": [
    {
     "name": "stdout",
     "output_type": "stream",
     "text": [
      "CPU times: user 5.77 s, sys: 0 ns, total: 5.77 s\n",
      "Wall time: 5.77 s\n"
     ]
    }
   ],
   "source": [
    "%time model = AuthorTopicModel(corpus=corpus, num_topics=10, id2word=dictionary.id2token, \\\n",
    "                author2doc=author2doc, doc2author=doc2author, id2author=id2author, var_lambda=None,  \\\n",
    "                 chunksize=2000, passes=10, update_every=1, \\\n",
    "                 alpha='symmetric', eta='symmetric', decay=0.5, offset=1.0,  \\\n",
    "                 eval_every=1, iterations=10, gamma_threshold=1e-10,  \\\n",
    "                 minimum_probability=0.01, random_state=1, ns_conf={},  \\\n",
    "                 minimum_phi_value=0.01, per_word_topics=False)\n"
   ]
  },
  {
   "cell_type": "code",
   "execution_count": 59,
   "metadata": {
    "collapsed": false
   },
   "outputs": [
    {
     "ename": "ImportError",
     "evalue": "cannot import name 'from_iterable'",
     "output_type": "error",
     "traceback": [
      "\u001b[0;31m---------------------------------------------------------------------------\u001b[0m",
      "\u001b[0;31mImportError\u001b[0m                               Traceback (most recent call last)",
      "\u001b[0;32m<ipython-input-59-0bc88180c87d>\u001b[0m in \u001b[0;36m<module>\u001b[0;34m()\u001b[0m\n\u001b[0;32m----> 1\u001b[0;31m \u001b[0;32mfrom\u001b[0m \u001b[0mitertools\u001b[0m \u001b[0;32mimport\u001b[0m \u001b[0mfrom_iterable\u001b[0m\u001b[0;34m\u001b[0m\u001b[0m\n\u001b[0m",
      "\u001b[0;31mImportError\u001b[0m: cannot import name 'from_iterable'"
     ]
    }
   ],
   "source": [
    "from itertools import chain"
   ]
  },
  {
   "cell_type": "code",
   "execution_count": 60,
   "metadata": {
    "collapsed": false
   },
   "outputs": [
    {
     "data": {
      "text/plain": [
       "14"
      ]
     },
     "execution_count": 60,
     "metadata": {},
     "output_type": "execute_result"
    }
   ],
   "source": [
    "generator_chain = chain.from_iterable([range(10), range(10, 20)])\n",
    "next(islice(generator_chain, 14, 15))"
   ]
  },
  {
   "cell_type": "code",
   "execution_count": 34,
   "metadata": {
    "collapsed": true
   },
   "outputs": [],
   "source": [
    "from itertools import islice, count"
   ]
  },
  {
   "cell_type": "code",
   "execution_count": 45,
   "metadata": {
    "collapsed": false
   },
   "outputs": [
    {
     "data": {
      "text/plain": [
       "0"
      ]
     },
     "execution_count": 45,
     "metadata": {},
     "output_type": "execute_result"
    }
   ],
   "source": [
    "next(islice(count(), 20))"
   ]
  },
  {
   "cell_type": "code",
   "execution_count": 26,
   "metadata": {
    "collapsed": false
   },
   "outputs": [
    {
     "data": {
      "text/plain": [
       "[(0,\n",
       "  '0.017*\"classifier\" + 0.012*\"node\" + 0.008*\"vector\" + 0.007*\"recognition\" + 0.006*\"decision\" + 0.006*\"classification\" + 0.005*\"sequence\" + 0.005*\"class\" + 0.005*\"sample\" + 0.005*\"probability\"'),\n",
       " (1,\n",
       "  '0.010*\"cell\" + 0.009*\"activation\" + 0.008*\"hidden\" + 0.007*\"node\" + 0.005*\"propagation\" + 0.005*\"response\" + 0.005*\"hidden_unit\" + 0.005*\"energy\" + 0.004*\"back_propagation\" + 0.004*\"matrix\"'),\n",
       " (2,\n",
       "  '0.009*\"vector\" + 0.008*\"image\" + 0.007*\"hidden\" + 0.005*\"fig\" + 0.005*\"dynamic\" + 0.005*\"noise\" + 0.005*\"object\" + 0.004*\"energy\" + 0.004*\"memory\" + 0.004*\"matrix\"'),\n",
       " (3,\n",
       "  '0.013*\"vector\" + 0.011*\"hidden\" + 0.010*\"memory\" + 0.009*\"field\" + 0.005*\"hidden_unit\" + 0.004*\"threshold\" + 0.004*\"internal\" + 0.004*\"associative\" + 0.004*\"bit\" + 0.003*\"fig\"'),\n",
       " (4,\n",
       "  '0.020*\"cell\" + 0.009*\"firing\" + 0.008*\"stimulus\" + 0.007*\"synaptic\" + 0.007*\"activity\" + 0.006*\"image\" + 0.006*\"response\" + 0.006*\"spike\" + 0.005*\"potential\" + 0.004*\"current\"'),\n",
       " (5,\n",
       "  '0.007*\"hidden\" + 0.006*\"node\" + 0.005*\"image\" + 0.005*\"matrix\" + 0.004*\"class\" + 0.004*\"fig\" + 0.004*\"noise\" + 0.004*\"propagation\" + 0.003*\"recognition\" + 0.003*\"vector\"'),\n",
       " (6,\n",
       "  '0.009*\"speech\" + 0.009*\"region\" + 0.008*\"recognition\" + 0.006*\"chain\" + 0.006*\"probability\" + 0.005*\"class\" + 0.005*\"cell\" + 0.005*\"hidden\" + 0.004*\"domain\" + 0.004*\"distribution\"'),\n",
       " (7,\n",
       "  '0.011*\"cell\" + 0.007*\"memory\" + 0.006*\"response\" + 0.006*\"fig\" + 0.006*\"circuit\" + 0.006*\"current\" + 0.005*\"hopfield\" + 0.005*\"analog\" + 0.005*\"synapse\" + 0.005*\"activity\"'),\n",
       " (8,\n",
       "  '0.013*\"circuit\" + 0.006*\"memory\" + 0.005*\"control\" + 0.005*\"cell\" + 0.005*\"threshold\" + 0.005*\"fig\" + 0.004*\"voltage\" + 0.004*\"transistor\" + 0.004*\"current\" + 0.004*\"response\"'),\n",
       " (9,\n",
       "  '0.008*\"memory\" + 0.008*\"field\" + 0.008*\"cell\" + 0.007*\"map\" + 0.007*\"delay\" + 0.006*\"cortex\" + 0.006*\"image\" + 0.006*\"chip\" + 0.005*\"current\" + 0.005*\"synaptic\"')]"
      ]
     },
     "execution_count": 26,
     "metadata": {},
     "output_type": "execute_result"
    }
   ],
   "source": [
    "model.show_topics(num_topics=10)"
   ]
  },
  {
   "cell_type": "code",
   "execution_count": 22,
   "metadata": {
    "collapsed": false
   },
   "outputs": [
    {
     "name": "stdout",
     "output_type": "stream",
     "text": [
      "\n",
      "Yaser S.Abu-Mostafa\n",
      "Docs: [62]\n",
      "[(0, 0.17428370582074723),\n",
      " (1, 0.10229569024379424),\n",
      " (2, 0.062556106292013122),\n",
      " (3, 0.078817840485611065),\n",
      " (4, 0.068487942942868585),\n",
      " (5, 0.14869390057914703),\n",
      " (6, 0.17212355568609788),\n",
      " (7, 0.074170089610964149),\n",
      " (8, 0.047702469618850774),\n",
      " (9, 0.070868698719905782)]\n",
      "\n",
      "Geoffrey E. Hinton\n",
      "Docs: [143, 284, 230, 197]\n",
      "[(0, 0.1963942573033424),\n",
      " (1, 0.12792966363823302),\n",
      " (2, 0.23505329159063704),\n",
      " (3, 0.060305386421733033),\n",
      " (4, 0.04267590384413758),\n",
      " (5, 0.060980284135135593),\n",
      " (6, 0.2451247159367281),\n",
      " (8, 0.01574985863695311),\n",
      " (9, 0.01023414671028579)]\n",
      "\n",
      "Michael I. Jordan\n",
      "Docs: [237]\n",
      "[(0, 0.085651762012953936),\n",
      " (1, 0.065665448104732405),\n",
      " (2, 0.07777125401127058),\n",
      " (3, 0.050480420361483674),\n",
      " (4, 0.065721037891177864),\n",
      " (5, 0.086499723758504746),\n",
      " (6, 0.38914428858057321),\n",
      " (7, 0.039550645237331414),\n",
      " (8, 0.10733538353868659),\n",
      " (9, 0.032180036503285388)]\n",
      "\n",
      "James M. Bower\n",
      "Docs: [131, 101, 126, 127, 281, 208, 225]\n",
      "[(1, 0.013903403611000136),\n",
      " (4, 0.098066607370058775),\n",
      " (7, 0.11242612291693072),\n",
      " (8, 0.016186021191484681),\n",
      " (9, 0.74612850820488463)]\n"
     ]
    }
   ],
   "source": [
    "name = 'Yaser S.Abu-Mostafa'\n",
    "print('\\n%s' % name)\n",
    "print('Docs:', author2doc[author2id[name]])\n",
    "pprint(model.get_author_topics(author2id[name]))\n",
    "\n",
    "name = 'Geoffrey E. Hinton'\n",
    "print('\\n%s' % name)\n",
    "print('Docs:', author2doc[author2id[name]])\n",
    "pprint(model.get_author_topics(author2id[name]))\n",
    "\n",
    "name = 'Michael I. Jordan'\n",
    "print('\\n%s' % name)\n",
    "print('Docs:', author2doc[author2id[name]])\n",
    "pprint(model.get_author_topics(author2id[name]))\n",
    "\n",
    "name = 'James M. Bower'\n",
    "print('\\n%s' % name)\n",
    "print('Docs:', author2doc[author2id[name]])\n",
    "pprint(model.get_author_topics(author2id[name]))"
   ]
  },
  {
   "cell_type": "code",
   "execution_count": 29,
   "metadata": {
    "collapsed": false
   },
   "outputs": [
    {
     "name": "stdout",
     "output_type": "stream",
     "text": [
      "CPU times: user 7.32 s, sys: 4 ms, total: 7.32 s\n",
      "Wall time: 7.33 s\n"
     ]
    }
   ],
   "source": [
    "%time model2 = AuthorTopicModel(corpus=corpus, num_topics=10, id2word=dictionary.id2token, id2author=id2author, \\\n",
    "                   author2doc=author2doc, doc2author=doc2author, threshold=1e-10, \\\n",
    "                   iterations=10, passes=10, alpha=None, eta=None, decay=0.5, offset=1.0, \\\n",
    "                   eval_every=1, random_state=1, var_lambda=None, chunksize=2000)"
   ]
  },
  {
   "cell_type": "code",
   "execution_count": 24,
   "metadata": {
    "collapsed": false,
    "scrolled": false
   },
   "outputs": [
    {
     "data": {
      "text/plain": [
       "[(0,\n",
       "  '0.016*\"vector\" + 0.012*\"memory\" + 0.007*\"associative\" + 0.005*\"control\" + 0.005*\"constraint\" + 0.005*\"recognition\" + 0.005*\"chip\" + 0.005*\"image\" + 0.004*\"hidden\" + 0.004*\"machine\"'),\n",
       " (1,\n",
       "  '0.014*\"memory\" + 0.007*\"probability\" + 0.007*\"vector\" + 0.005*\"chip\" + 0.005*\"pulse\" + 0.005*\"fig\" + 0.004*\"node\" + 0.004*\"cell\" + 0.004*\"capacity\" + 0.004*\"matrix\"'),\n",
       " (2,\n",
       "  '0.017*\"classifier\" + 0.015*\"circuit\" + 0.006*\"noise\" + 0.006*\"current\" + 0.006*\"fig\" + 0.006*\"node\" + 0.005*\"gaussian\" + 0.005*\"speech\" + 0.005*\"propagation\" + 0.005*\"decision\"'),\n",
       " (3,\n",
       "  '0.008*\"cell\" + 0.008*\"fig\" + 0.006*\"vector\" + 0.006*\"hidden\" + 0.006*\"velocity\" + 0.005*\"operator\" + 0.005*\"image\" + 0.004*\"activation\" + 0.004*\"receptor\" + 0.004*\"delay\"'),\n",
       " (4,\n",
       "  '0.009*\"image\" + 0.009*\"match\" + 0.008*\"processor\" + 0.007*\"classifier\" + 0.007*\"node\" + 0.007*\"element\" + 0.006*\"activation\" + 0.006*\"link\" + 0.005*\"nat\" + 0.005*\"fig\"'),\n",
       " (5,\n",
       "  '0.011*\"field\" + 0.010*\"cell\" + 0.007*\"synaptic\" + 0.005*\"cortical\" + 0.005*\"visual\" + 0.005*\"activity\" + 0.005*\"eye\" + 0.005*\"synapsis\" + 0.004*\"map\" + 0.004*\"phase\"'),\n",
       " (6,\n",
       "  '0.006*\"hidden\" + 0.006*\"recognition\" + 0.005*\"map\" + 0.005*\"vector\" + 0.005*\"node\" + 0.004*\"object\" + 0.004*\"speech\" + 0.004*\"matrix\" + 0.003*\"class\" + 0.003*\"sequence\"'),\n",
       " (7,\n",
       "  '0.013*\"role\" + 0.009*\"motion\" + 0.008*\"source\" + 0.007*\"regular\" + 0.007*\"visual\" + 0.006*\"markov\" + 0.006*\"threshold\" + 0.006*\"node\" + 0.005*\"code\" + 0.005*\"depth\"'),\n",
       " (8,\n",
       "  '0.028*\"cell\" + 0.013*\"response\" + 0.013*\"stimulus\" + 0.010*\"spike\" + 0.009*\"firing\" + 0.009*\"current\" + 0.009*\"image\" + 0.009*\"potential\" + 0.006*\"activity\" + 0.006*\"membrane\"'),\n",
       " (9,\n",
       "  '0.014*\"hidden\" + 0.009*\"hidden_unit\" + 0.008*\"distribution\" + 0.008*\"node\" + 0.007*\"image\" + 0.006*\"activation\" + 0.006*\"propagation\" + 0.006*\"back_propagation\" + 0.005*\"speech\" + 0.005*\"sample\"')]"
      ]
     },
     "execution_count": 24,
     "metadata": {},
     "output_type": "execute_result"
    }
   ],
   "source": [
    "model2.show_topics(num_topics=10)"
   ]
  },
  {
   "cell_type": "code",
   "execution_count": 25,
   "metadata": {
    "collapsed": false
   },
   "outputs": [
    {
     "name": "stdout",
     "output_type": "stream",
     "text": [
      "\n",
      "Yaser S.Abu-Mostafa\n",
      "Docs: [62]\n",
      "[(0, 0.12257888012385142),\n",
      " (1, 0.18839815551960026),\n",
      " (2, 0.036637297625550132),\n",
      " (3, 0.015498644507138377),\n",
      " (4, 0.072386020997623229),\n",
      " (5, 0.075906889662321148),\n",
      " (6, 0.34904030995007596),\n",
      " (7, 0.022928611918427422),\n",
      " (8, 0.068558327925279966),\n",
      " (9, 0.048066861770131898)]\n",
      "\n",
      "Geoffrey E. Hinton\n",
      "Docs: [143, 284, 230, 197]\n",
      "[(0, 0.017941678995404806),\n",
      " (1, 0.037633561393485344),\n",
      " (2, 0.040229587442296211),\n",
      " (6, 0.86860470412607893)]\n",
      "\n",
      "Michael I. Jordan\n",
      "Docs: [237]\n",
      "[(0, 0.23458706049871778),\n",
      " (1, 0.028074129427662773),\n",
      " (2, 0.092872627256054469),\n",
      " (3, 0.060285180922721039),\n",
      " (4, 0.05771159235103844),\n",
      " (5, 0.27973835933458052),\n",
      " (6, 0.13822500759562903),\n",
      " (7, 0.015239077050084931),\n",
      " (8, 0.052855346935884104),\n",
      " (9, 0.040411618627626808)]\n",
      "\n",
      "James M. Bower\n",
      "Docs: [131, 101, 126, 127, 281, 208, 225]\n",
      "[(5, 0.11028614207196175), (6, 0.41931814978983267), (8, 0.4701441896634681)]\n"
     ]
    }
   ],
   "source": [
    "name = 'Yaser S.Abu-Mostafa'\n",
    "print('\\n%s' % name)\n",
    "print('Docs:', author2doc[author2id[name]])\n",
    "pprint(model2.get_author_topics(author2id[name]))\n",
    "\n",
    "name = 'Geoffrey E. Hinton'\n",
    "print('\\n%s' % name)\n",
    "print('Docs:', author2doc[author2id[name]])\n",
    "pprint(model2.get_author_topics(author2id[name]))\n",
    "\n",
    "name = 'Michael I. Jordan'\n",
    "print('\\n%s' % name)\n",
    "print('Docs:', author2doc[author2id[name]])\n",
    "pprint(model2.get_author_topics(author2id[name]))\n",
    "\n",
    "name = 'James M. Bower'\n",
    "print('\\n%s' % name)\n",
    "print('Docs:', author2doc[author2id[name]])\n",
    "pprint(model2.get_author_topics(author2id[name]))"
   ]
  },
  {
   "cell_type": "markdown",
   "metadata": {},
   "source": [
    "### Vectorization speed-up"
   ]
  },
  {
   "cell_type": "code",
   "execution_count": 145,
   "metadata": {
    "collapsed": false
   },
   "outputs": [
    {
     "name": "stdout",
     "output_type": "stream",
     "text": [
      "Number of authors: 166\n",
      "Number of unique tokens: 681\n",
      "Number of documents: 90\n",
      "Speed-up 6.6498740554156175\n"
     ]
    }
   ],
   "source": [
    "print('Number of authors: %d' % len(author2doc))\n",
    "print('Number of unique tokens: %d' % len(dictionary))\n",
    "print('Number of documents: %d' % len(corpus))\n",
    "print('Speed-up', 2.64 / 0.397)"
   ]
  },
  {
   "cell_type": "code",
   "execution_count": 161,
   "metadata": {
    "collapsed": false
   },
   "outputs": [
    {
     "name": "stdout",
     "output_type": "stream",
     "text": [
      "Number of authors: 536\n",
      "Number of unique tokens: 2245\n",
      "Number of documents: 286\n",
      "Speed-up 5.084175084175084\n"
     ]
    }
   ],
   "source": [
    "print('Number of authors: %d' % len(author2doc))\n",
    "print('Number of unique tokens: %d' % len(dictionary))\n",
    "print('Number of documents: %d' % len(corpus))\n",
    "print('Speed-up', 15.1 / 2.97)"
   ]
  },
  {
   "cell_type": "code",
   "execution_count": 178,
   "metadata": {
    "collapsed": false
   },
   "outputs": [
    {
     "name": "stdout",
     "output_type": "stream",
     "text": [
      "Number of authors: 2720\n",
      "Number of unique tokens: 8640\n",
      "Number of documents: 1740\n",
      "Speed-up 2.4383561643835616\n"
     ]
    }
   ],
   "source": [
    "print('Number of authors: %d' % len(author2doc))\n",
    "print('Number of unique tokens: %d' % len(dictionary))\n",
    "print('Number of documents: %d' % len(corpus))\n",
    "print('Speed-up', (2 * 60 + 58) / (1 * 60 + 13))"
   ]
  },
  {
   "cell_type": "markdown",
   "metadata": {},
   "source": [
    "### Test on a small dataset"
   ]
  },
  {
   "cell_type": "code",
   "execution_count": 202,
   "metadata": {
    "collapsed": false
   },
   "outputs": [],
   "source": [
    "n_docs = 10\n",
    "\n",
    "from copy import deepcopy\n",
    "\n",
    "small_doc2author = deepcopy(dict(list(doc2author.items())[:n_docs]))\n",
    "small_doc2author = dict(small_doc2author)\n",
    "\n",
    "small_corpus = corpus[:n_docs]"
   ]
  },
  {
   "cell_type": "code",
   "execution_count": 203,
   "metadata": {
    "collapsed": false
   },
   "outputs": [],
   "source": [
    "authors_ids = set()\n",
    "for d, a_doc_ids in small_doc2author.items():\n",
    "    for a in a_doc_ids:\n",
    "        authors_ids.add(a)\n",
    "\n",
    "authors_ids = list(authors_ids)\n",
    "author_id_dict = dict(zip(authors_ids, range(len(authors_ids))))"
   ]
  },
  {
   "cell_type": "code",
   "execution_count": 204,
   "metadata": {
    "collapsed": false
   },
   "outputs": [],
   "source": [
    "for d, a_ids in small_doc2author.items():\n",
    "    for i, a in enumerate(a_ids):\n",
    "        small_doc2author[d][i] = author_id_dict[a]"
   ]
  },
  {
   "cell_type": "code",
   "execution_count": 205,
   "metadata": {
    "collapsed": false
   },
   "outputs": [],
   "source": [
    "# Make a mapping from author IDs to document IDs.\n",
    "small_author2doc = {}\n",
    "for a in range(len(author_id_dict)):\n",
    "    small_author2doc[a] = []\n",
    "    for d, a_ids in small_doc2author.items():\n",
    "        if a in a_ids:\n",
    "            small_author2doc[a].append(d)"
   ]
  },
  {
   "cell_type": "code",
   "execution_count": 206,
   "metadata": {
    "collapsed": false
   },
   "outputs": [],
   "source": [
    "\n",
    "author_id_dict_rev = dict(zip(range(len(authors_ids)), authors_ids))\n",
    "\n",
    "small_id2author = {}\n",
    "for a, a_id in author_id_dict_rev.items():\n",
    "    small_id2author[a] = id2author[a_id]"
   ]
  },
  {
   "cell_type": "code",
   "execution_count": 207,
   "metadata": {
    "collapsed": false
   },
   "outputs": [
    {
     "name": "stdout",
     "output_type": "stream",
     "text": [
      "phi is 10 x 681 x 10 (68100 elements)\n",
      "mu is 10 x 681 x 21 (143010 elements)\n"
     ]
    }
   ],
   "source": [
    "print('phi is %d x %d x %d (%d elements)' %(len(small_corpus), len(dictionary.id2token), 10,\n",
    "                                            len(small_corpus) * len(dictionary.id2token) * 10))\n",
    "print('mu is %d x %d x %d (%d elements)' %(len(small_corpus), len(dictionary.id2token), len(small_author2doc),\n",
    "                                            len(small_corpus) * len(dictionary.id2token) * len(small_author2doc)))"
   ]
  },
  {
   "cell_type": "markdown",
   "metadata": {
    "collapsed": true
   },
   "source": [
    "## LDA"
   ]
  },
  {
   "cell_type": "code",
   "execution_count": 79,
   "metadata": {
    "collapsed": false
   },
   "outputs": [],
   "source": [
    "reload(ldamodel)\n",
    "LdaModel = ldamodel.LdaModel"
   ]
  },
  {
   "cell_type": "code",
   "execution_count": 88,
   "metadata": {
    "collapsed": false
   },
   "outputs": [
    {
     "name": "stdout",
     "output_type": "stream",
     "text": [
      "CPU times: user 21.7 s, sys: 7.6 s, total: 29.3 s\n",
      "Wall time: 20.8 s\n"
     ]
    }
   ],
   "source": [
    "%time lda = LdaModel(corpus=corpus, num_topics=10, id2word=dictionary.id2token, passes=10, gamma_threshold=1e-10, \\\n",
    "               iterations=10, alpha='symmetric', eta='symmetric', eval_every=0, chunksize=2000, random_state=1)"
   ]
  },
  {
   "cell_type": "code",
   "execution_count": 185,
   "metadata": {
    "collapsed": false
   },
   "outputs": [
    {
     "name": "stdout",
     "output_type": "stream",
     "text": [
      "CPU times: user 304 ms, sys: 0 ns, total: 304 ms\n",
      "Wall time: 303 ms\n",
      "Bound: -2.424e+05\n"
     ]
    }
   ],
   "source": [
    "%time lda_bound = lda.bound(sample(corpus, 10))\n",
    "print('Bound: %.3e' % lda_bound)"
   ]
  },
  {
   "cell_type": "code",
   "execution_count": 201,
   "metadata": {
    "collapsed": false
   },
   "outputs": [
    {
     "name": "stdout",
     "output_type": "stream",
     "text": [
      "CPU times: user 308 ms, sys: 0 ns, total: 308 ms\n",
      "Wall time: 303 ms\n",
      "Bound: -3.365e+05\n"
     ]
    }
   ],
   "source": [
    "%time lda_bound = lda.bound(sample(corpus, 10))\n",
    "print('Bound: %.3e' % lda_bound)"
   ]
  },
  {
   "cell_type": "code",
   "execution_count": 89,
   "metadata": {
    "collapsed": false
   },
   "outputs": [
    {
     "data": {
      "text/plain": [
       "[(0,\n",
       "  '0.013*\"cell\" + 0.011*\"neuron\" + 0.008*\"visual\" + 0.008*\"response\" + 0.007*\"stimulus\" + 0.006*\"activity\" + 0.006*\"field\" + 0.004*\"motion\" + 0.004*\"cortex\" + 0.004*\"layer\"'),\n",
       " (1,\n",
       "  '0.006*\"bound\" + 0.005*\"class\" + 0.005*\"node\" + 0.004*\"generalization\" + 0.004*\"sample\" + 0.004*\"let\" + 0.004*\"estimate\" + 0.004*\"tree\" + 0.004*\"approximation\" + 0.004*\"theorem\"'),\n",
       " (2,\n",
       "  '0.009*\"class\" + 0.007*\"recognition\" + 0.007*\"classifier\" + 0.005*\"classification\" + 0.005*\"word\" + 0.005*\"distance\" + 0.005*\"image\" + 0.005*\"hidden\" + 0.004*\"character\" + 0.004*\"trained\"'),\n",
       " (3,\n",
       "  '0.021*\"image\" + 0.006*\"gaussian\" + 0.005*\"face\" + 0.005*\"component\" + 0.004*\"matrix\" + 0.003*\"prior\" + 0.003*\"density\" + 0.003*\"noise\" + 0.003*\"hidden\" + 0.003*\"object\"'),\n",
       " (4,\n",
       "  '0.009*\"control\" + 0.006*\"action\" + 0.006*\"policy\" + 0.005*\"optimal\" + 0.005*\"dynamic\" + 0.005*\"reinforcement\" + 0.005*\"signal\" + 0.004*\"controller\" + 0.004*\"noise\" + 0.003*\"trajectory\"'),\n",
       " (5,\n",
       "  '0.009*\"memory\" + 0.004*\"rule\" + 0.004*\"net\" + 0.004*\"bit\" + 0.004*\"layer\" + 0.004*\"architecture\" + 0.004*\"recognition\" + 0.003*\"matrix\" + 0.003*\"processor\" + 0.003*\"machine\"'),\n",
       " (6,\n",
       "  '0.007*\"hidden\" + 0.007*\"layer\" + 0.007*\"speech\" + 0.006*\"node\" + 0.006*\"net\" + 0.005*\"word\" + 0.004*\"sequence\" + 0.004*\"activation\" + 0.004*\"context\" + 0.004*\"language\"'),\n",
       " (7,\n",
       "  '0.010*\"neuron\" + 0.008*\"circuit\" + 0.008*\"signal\" + 0.006*\"voltage\" + 0.006*\"channel\" + 0.006*\"chip\" + 0.005*\"analog\" + 0.004*\"frequency\" + 0.004*\"cell\" + 0.004*\"spike\"'),\n",
       " (8,\n",
       "  '0.008*\"object\" + 0.005*\"mixture\" + 0.004*\"hidden\" + 0.004*\"likelihood\" + 0.004*\"recognition\" + 0.004*\"em\" + 0.003*\"gaussian\" + 0.003*\"matrix\" + 0.003*\"view\" + 0.003*\"component\"'),\n",
       " (9,\n",
       "  '0.011*\"neuron\" + 0.006*\"dynamic\" + 0.005*\"matrix\" + 0.004*\"noise\" + 0.004*\"solution\" + 0.003*\"field\" + 0.003*\"condition\" + 0.003*\"gradient\" + 0.003*\"convergence\" + 0.003*\"limit\"')]"
      ]
     },
     "execution_count": 89,
     "metadata": {},
     "output_type": "execute_result"
    }
   ],
   "source": [
    "lda.show_topics()"
   ]
  },
  {
   "cell_type": "markdown",
   "metadata": {},
   "source": [
    "## Plots"
   ]
  },
  {
   "cell_type": "code",
   "execution_count": 58,
   "metadata": {
    "collapsed": false
   },
   "outputs": [],
   "source": [
    "from bokeh.io import output_notebook\n",
    "from bokeh.models.layouts import Row, Column\n",
    "from bokeh.models import Title, Legend\n",
    "from bokeh.plotting import figure, output_file, show"
   ]
  },
  {
   "cell_type": "code",
   "execution_count": 59,
   "metadata": {
    "collapsed": false
   },
   "outputs": [
    {
     "data": {
      "text/html": [
       "\n",
       "    <div class=\"bk-root\">\n",
       "        <a href=\"http://bokeh.pydata.org\" target=\"_blank\" class=\"bk-logo bk-logo-small bk-logo-notebook\"></a>\n",
       "        <span id=\"e8c53ef7-1db1-4f6d-8aac-8c90f6d131d0\">Loading BokehJS ...</span>\n",
       "    </div>"
      ]
     },
     "metadata": {},
     "output_type": "display_data"
    },
    {
     "data": {
      "application/javascript": [
       "\n",
       "(function(global) {\n",
       "  function now() {\n",
       "    return new Date();\n",
       "  }\n",
       "\n",
       "  var force = \"1\";\n",
       "\n",
       "  if (typeof (window._bokeh_onload_callbacks) === \"undefined\" || force !== \"\") {\n",
       "    window._bokeh_onload_callbacks = [];\n",
       "    window._bokeh_is_loading = undefined;\n",
       "  }\n",
       "\n",
       "\n",
       "  \n",
       "  if (typeof (window._bokeh_timeout) === \"undefined\" || force !== \"\") {\n",
       "    window._bokeh_timeout = Date.now() + 5000;\n",
       "    window._bokeh_failed_load = false;\n",
       "  }\n",
       "\n",
       "  var NB_LOAD_WARNING = {'data': {'text/html':\n",
       "     \"<div style='background-color: #fdd'>\\n\"+\n",
       "     \"<p>\\n\"+\n",
       "     \"BokehJS does not appear to have successfully loaded. If loading BokehJS from CDN, this \\n\"+\n",
       "     \"may be due to a slow or bad network connection. Possible fixes:\\n\"+\n",
       "     \"</p>\\n\"+\n",
       "     \"<ul>\\n\"+\n",
       "     \"<li>re-rerun `output_notebook()` to attempt to load from CDN again, or</li>\\n\"+\n",
       "     \"<li>use INLINE resources instead, as so:</li>\\n\"+\n",
       "     \"</ul>\\n\"+\n",
       "     \"<code>\\n\"+\n",
       "     \"from bokeh.resources import INLINE\\n\"+\n",
       "     \"output_notebook(resources=INLINE)\\n\"+\n",
       "     \"</code>\\n\"+\n",
       "     \"</div>\"}};\n",
       "\n",
       "  function display_loaded() {\n",
       "    if (window.Bokeh !== undefined) {\n",
       "      Bokeh.$(\"#e8c53ef7-1db1-4f6d-8aac-8c90f6d131d0\").text(\"BokehJS successfully loaded.\");\n",
       "    } else if (Date.now() < window._bokeh_timeout) {\n",
       "      setTimeout(display_loaded, 100)\n",
       "    }\n",
       "  }\n",
       "\n",
       "  function run_callbacks() {\n",
       "    window._bokeh_onload_callbacks.forEach(function(callback) { callback() });\n",
       "    delete window._bokeh_onload_callbacks\n",
       "    console.info(\"Bokeh: all callbacks have finished\");\n",
       "  }\n",
       "\n",
       "  function load_libs(js_urls, callback) {\n",
       "    window._bokeh_onload_callbacks.push(callback);\n",
       "    if (window._bokeh_is_loading > 0) {\n",
       "      console.log(\"Bokeh: BokehJS is being loaded, scheduling callback at\", now());\n",
       "      return null;\n",
       "    }\n",
       "    if (js_urls == null || js_urls.length === 0) {\n",
       "      run_callbacks();\n",
       "      return null;\n",
       "    }\n",
       "    console.log(\"Bokeh: BokehJS not loaded, scheduling load and callback at\", now());\n",
       "    window._bokeh_is_loading = js_urls.length;\n",
       "    for (var i = 0; i < js_urls.length; i++) {\n",
       "      var url = js_urls[i];\n",
       "      var s = document.createElement('script');\n",
       "      s.src = url;\n",
       "      s.async = false;\n",
       "      s.onreadystatechange = s.onload = function() {\n",
       "        window._bokeh_is_loading--;\n",
       "        if (window._bokeh_is_loading === 0) {\n",
       "          console.log(\"Bokeh: all BokehJS libraries loaded\");\n",
       "          run_callbacks()\n",
       "        }\n",
       "      };\n",
       "      s.onerror = function() {\n",
       "        console.warn(\"failed to load library \" + url);\n",
       "      };\n",
       "      console.log(\"Bokeh: injecting script tag for BokehJS library: \", url);\n",
       "      document.getElementsByTagName(\"head\")[0].appendChild(s);\n",
       "    }\n",
       "  };var element = document.getElementById(\"e8c53ef7-1db1-4f6d-8aac-8c90f6d131d0\");\n",
       "  if (element == null) {\n",
       "    console.log(\"Bokeh: ERROR: autoload.js configured with elementid 'e8c53ef7-1db1-4f6d-8aac-8c90f6d131d0' but no matching script tag was found. \")\n",
       "    return false;\n",
       "  }\n",
       "\n",
       "  var js_urls = ['https://cdn.pydata.org/bokeh/release/bokeh-0.12.3.min.js', 'https://cdn.pydata.org/bokeh/release/bokeh-widgets-0.12.3.min.js'];\n",
       "\n",
       "  var inline_js = [\n",
       "    function(Bokeh) {\n",
       "      Bokeh.set_log_level(\"info\");\n",
       "    },\n",
       "    \n",
       "    function(Bokeh) {\n",
       "      \n",
       "      Bokeh.$(\"#e8c53ef7-1db1-4f6d-8aac-8c90f6d131d0\").text(\"BokehJS is loading...\");\n",
       "    },\n",
       "    function(Bokeh) {\n",
       "      console.log(\"Bokeh: injecting CSS: https://cdn.pydata.org/bokeh/release/bokeh-0.12.3.min.css\");\n",
       "      Bokeh.embed.inject_css(\"https://cdn.pydata.org/bokeh/release/bokeh-0.12.3.min.css\");\n",
       "      console.log(\"Bokeh: injecting CSS: https://cdn.pydata.org/bokeh/release/bokeh-widgets-0.12.3.min.css\");\n",
       "      Bokeh.embed.inject_css(\"https://cdn.pydata.org/bokeh/release/bokeh-widgets-0.12.3.min.css\");\n",
       "    }\n",
       "  ];\n",
       "\n",
       "  function run_inline_js() {\n",
       "    \n",
       "    if ((window.Bokeh !== undefined) || (force === \"1\")) {\n",
       "      for (var i = 0; i < inline_js.length; i++) {\n",
       "        inline_js[i](window.Bokeh);\n",
       "      }if (force === \"1\") {\n",
       "        display_loaded();\n",
       "      }} else if (Date.now() < window._bokeh_timeout) {\n",
       "      setTimeout(run_inline_js, 100);\n",
       "    } else if (!window._bokeh_failed_load) {\n",
       "      console.log(\"Bokeh: BokehJS failed to load within specified timeout.\");\n",
       "      window._bokeh_failed_load = true;\n",
       "    } else if (!force) {\n",
       "      var cell = $(\"#e8c53ef7-1db1-4f6d-8aac-8c90f6d131d0\").parents('.cell').data().cell;\n",
       "      cell.output_area.append_execute_result(NB_LOAD_WARNING)\n",
       "    }\n",
       "\n",
       "  }\n",
       "\n",
       "  if (window._bokeh_is_loading === 0) {\n",
       "    console.log(\"Bokeh: BokehJS loaded, going straight to plotting\");\n",
       "    run_inline_js();\n",
       "  } else {\n",
       "    load_libs(js_urls, function() {\n",
       "      console.log(\"Bokeh: BokehJS plotting callback run at\", now());\n",
       "      run_inline_js();\n",
       "    });\n",
       "  }\n",
       "}(this));"
      ]
     },
     "metadata": {},
     "output_type": "display_data"
    }
   ],
   "source": [
    "output_notebook()"
   ]
  },
  {
   "cell_type": "code",
   "execution_count": 60,
   "metadata": {
    "collapsed": true
   },
   "outputs": [],
   "source": [
    "from scipy.special import psi"
   ]
  },
  {
   "cell_type": "code",
   "execution_count": 112,
   "metadata": {
    "collapsed": false
   },
   "outputs": [
    {
     "data": {
      "text/html": [
       "\n",
       "\n",
       "    <div class=\"bk-root\">\n",
       "        <div class=\"plotdiv\" id=\"2aabfb64-a772-4315-8ffd-802566cfc9ef\"></div>\n",
       "    </div>\n",
       "<script type=\"text/javascript\">\n",
       "  \n",
       "  (function(global) {\n",
       "    function now() {\n",
       "      return new Date();\n",
       "    }\n",
       "  \n",
       "    var force = \"\";\n",
       "  \n",
       "    if (typeof (window._bokeh_onload_callbacks) === \"undefined\" || force !== \"\") {\n",
       "      window._bokeh_onload_callbacks = [];\n",
       "      window._bokeh_is_loading = undefined;\n",
       "    }\n",
       "  \n",
       "  \n",
       "    \n",
       "    if (typeof (window._bokeh_timeout) === \"undefined\" || force !== \"\") {\n",
       "      window._bokeh_timeout = Date.now() + 0;\n",
       "      window._bokeh_failed_load = false;\n",
       "    }\n",
       "  \n",
       "    var NB_LOAD_WARNING = {'data': {'text/html':\n",
       "       \"<div style='background-color: #fdd'>\\n\"+\n",
       "       \"<p>\\n\"+\n",
       "       \"BokehJS does not appear to have successfully loaded. If loading BokehJS from CDN, this \\n\"+\n",
       "       \"may be due to a slow or bad network connection. Possible fixes:\\n\"+\n",
       "       \"</p>\\n\"+\n",
       "       \"<ul>\\n\"+\n",
       "       \"<li>re-rerun `output_notebook()` to attempt to load from CDN again, or</li>\\n\"+\n",
       "       \"<li>use INLINE resources instead, as so:</li>\\n\"+\n",
       "       \"</ul>\\n\"+\n",
       "       \"<code>\\n\"+\n",
       "       \"from bokeh.resources import INLINE\\n\"+\n",
       "       \"output_notebook(resources=INLINE)\\n\"+\n",
       "       \"</code>\\n\"+\n",
       "       \"</div>\"}};\n",
       "  \n",
       "    function display_loaded() {\n",
       "      if (window.Bokeh !== undefined) {\n",
       "        Bokeh.$(\"#2aabfb64-a772-4315-8ffd-802566cfc9ef\").text(\"BokehJS successfully loaded.\");\n",
       "      } else if (Date.now() < window._bokeh_timeout) {\n",
       "        setTimeout(display_loaded, 100)\n",
       "      }\n",
       "    }\n",
       "  \n",
       "    function run_callbacks() {\n",
       "      window._bokeh_onload_callbacks.forEach(function(callback) { callback() });\n",
       "      delete window._bokeh_onload_callbacks\n",
       "      console.info(\"Bokeh: all callbacks have finished\");\n",
       "    }\n",
       "  \n",
       "    function load_libs(js_urls, callback) {\n",
       "      window._bokeh_onload_callbacks.push(callback);\n",
       "      if (window._bokeh_is_loading > 0) {\n",
       "        console.log(\"Bokeh: BokehJS is being loaded, scheduling callback at\", now());\n",
       "        return null;\n",
       "      }\n",
       "      if (js_urls == null || js_urls.length === 0) {\n",
       "        run_callbacks();\n",
       "        return null;\n",
       "      }\n",
       "      console.log(\"Bokeh: BokehJS not loaded, scheduling load and callback at\", now());\n",
       "      window._bokeh_is_loading = js_urls.length;\n",
       "      for (var i = 0; i < js_urls.length; i++) {\n",
       "        var url = js_urls[i];\n",
       "        var s = document.createElement('script');\n",
       "        s.src = url;\n",
       "        s.async = false;\n",
       "        s.onreadystatechange = s.onload = function() {\n",
       "          window._bokeh_is_loading--;\n",
       "          if (window._bokeh_is_loading === 0) {\n",
       "            console.log(\"Bokeh: all BokehJS libraries loaded\");\n",
       "            run_callbacks()\n",
       "          }\n",
       "        };\n",
       "        s.onerror = function() {\n",
       "          console.warn(\"failed to load library \" + url);\n",
       "        };\n",
       "        console.log(\"Bokeh: injecting script tag for BokehJS library: \", url);\n",
       "        document.getElementsByTagName(\"head\")[0].appendChild(s);\n",
       "      }\n",
       "    };var element = document.getElementById(\"2aabfb64-a772-4315-8ffd-802566cfc9ef\");\n",
       "    if (element == null) {\n",
       "      console.log(\"Bokeh: ERROR: autoload.js configured with elementid '2aabfb64-a772-4315-8ffd-802566cfc9ef' but no matching script tag was found. \")\n",
       "      return false;\n",
       "    }\n",
       "  \n",
       "    var js_urls = [];\n",
       "  \n",
       "    var inline_js = [\n",
       "      function(Bokeh) {\n",
       "        Bokeh.$(function() {\n",
       "            var docs_json = {\"0595e977-9144-4c9c-8ec2-036a409f9d7f\":{\"roots\":{\"references\":[{\"attributes\":{\"active_drag\":\"auto\",\"active_scroll\":\"auto\",\"active_tap\":\"auto\",\"tools\":[{\"id\":\"77ea5427-38b0-447d-b472-838a7047850d\",\"type\":\"PanTool\"},{\"id\":\"8bf8beae-cfbe-497c-97c1-2d17e5caf97e\",\"type\":\"WheelZoomTool\"},{\"id\":\"2669932b-1d4d-4491-bb80-6db0e6c03d3a\",\"type\":\"BoxZoomTool\"},{\"id\":\"fac74756-4def-49f8-9892-9b17b902d3dc\",\"type\":\"SaveTool\"},{\"id\":\"b4e0aa58-8c44-4176-8bed-b24fe471f0fb\",\"type\":\"ResetTool\"},{\"id\":\"9450f1cb-0edf-4825-a410-01ccea0a9825\",\"type\":\"HelpTool\"}]},\"id\":\"441213e9-b8f0-442e-8b84-aad48c3f43ca\",\"type\":\"Toolbar\"},{\"attributes\":{\"plot\":{\"id\":\"d9c3a3f3-40eb-4626-aabd-70aa2932c3be\",\"subtype\":\"Figure\",\"type\":\"Plot\"}},\"id\":\"8bf8beae-cfbe-497c-97c1-2d17e5caf97e\",\"type\":\"WheelZoomTool\"},{\"attributes\":{\"callback\":null,\"column_names\":[\"y\",\"x\"],\"data\":{\"x\":[0.1,0.1090909090909091,0.1181818181818182,0.1272727272727273,0.13636363636363635,0.14545454545454545,0.15454545454545454,0.16363636363636364,0.17272727272727273,0.18181818181818182,0.19090909090909092,0.2,0.2090909090909091,0.2181818181818182,0.22727272727272727,0.23636363636363636,0.24545454545454545,0.2545454545454545,0.26363636363636367,0.2727272727272727,0.28181818181818186,0.2909090909090909,0.3,0.3090909090909091,0.3181818181818182,0.32727272727272727,0.33636363636363636,0.34545454545454546,0.3545454545454545,0.36363636363636365,0.3727272727272727,0.38181818181818183,0.3909090909090909,0.4,0.40909090909090906,0.4181818181818182,0.42727272727272725,0.4363636363636364,0.44545454545454544,0.4545454545454546,0.4636363636363636,0.47272727272727266,0.4818181818181818,0.49090909090909085,0.5,0.509090909090909,0.5181818181818182,0.5272727272727272,0.5363636363636364,0.5454545454545454,0.5545454545454546,0.5636363636363636,0.5727272727272728,0.5818181818181818,0.5909090909090909,0.6,0.609090909090909,0.6181818181818182,0.6272727272727272,0.6363636363636364,0.6454545454545454,0.6545454545454545,0.6636363636363636,0.6727272727272727,0.6818181818181818,0.6909090909090908,0.7,0.709090909090909,0.7181818181818181,0.7272727272727272,0.7363636363636363,0.7454545454545454,0.7545454545454545,0.7636363636363636,0.7727272727272727,0.7818181818181817,0.7909090909090909,0.7999999999999999,0.8090909090909091,0.8181818181818181,0.8272727272727273,0.8363636363636363,0.8454545454545453,0.8545454545454545,0.8636363636363635,0.8727272727272727,0.8818181818181817,0.8909090909090909,0.8999999999999999,0.9090909090909091,0.9181818181818181,0.9272727272727272,0.9363636363636363,0.9454545454545454,0.9545454545454545,0.9636363636363636,0.9727272727272727,0.9818181818181817,0.9909090909090909,1.0,10000.0],\"y\":[-19.63953051528936,-18.793243548710016,-18.07531222032236,-17.458260766736373,-16.92193953031814,-16.45123557808641,-16.034591336301133,-15.663017012478901,-15.329414883204695,-15.028106294758363,-14.754493805659994,-14.504815471470472,-14.275963228586408,-14.065346681520023,-13.870789580716085,-13.690450189632518,-13.52275934759476,-13.366371804501128,-13.220127623847832,-13.083021304816267,-12.954176880424246,-12.832827684491546,-12.718299797078418,-12.609998411076432,-12.507396535732322,-12.410025582711356,-12.317467478553517,-12.229348022353522,-12.145331265170928,-12.065114732374965,-11.988425345015193,-11.91501592372001,-11.844662180298723,-11.7771601194634,-11.71232378687914,-11.649983310845212,-11.589983193879233,-11.532180817764155,-11.47644513156717,-11.422655497017928,-11.37070066965106,-11.320477897439993,-11.271892121407266,-11.22485526499477,-11.179285600899707,-11.135107185695363,-11.092249353914415,-11.05064626442031,-11.010236492864935,-10.970962664857646,-10.932771125175538,-10.895611638947365,-10.859437121259933,-10.824203392079708,-10.78986895376463,-10.756394788771475,-10.723744175449923,-10.691882520062565,-10.660777203385772,-10.630397440434281,-10.60071415201657,-10.571699846971624,-10.543328514063699,-10.515575522622239,-10.488417531111455,-10.461832402899917,-10.43579912857622,-10.410297754223905,-10.385309315128179,-10.360815774439661,-10.336799966367362,-10.313245543514673,-10.29013692800949,-10.267459266112681,-10.245198386018917,-10.223340758590373,-10.201873460787763,-10.180784141584423,-10.160060990168589,-10.139692706256131,-10.119668472351783,-10.099977927810851,-10.080611144566204,-10.061558604396776,-10.042811177624248,-10.024360103134045,-10.006196969625243,-9.988313698001917,-9.970702524825336,-9.953355986753014,-9.93626690589638,-9.919428376034208,-9.902833749623822,-9.886476625556556,-9.870350837607992,-9.854450443537246,-9.83876971479301,-9.823303126787117,-9.808045349699354,-9.792991239779818,-0.005485203735434041]}},\"id\":\"559d20e9-fb31-4a29-988d-54daa08896c3\",\"type\":\"ColumnDataSource\"},{\"attributes\":{\"plot\":{\"id\":\"d9c3a3f3-40eb-4626-aabd-70aa2932c3be\",\"subtype\":\"Figure\",\"type\":\"Plot\"}},\"id\":\"77ea5427-38b0-447d-b472-838a7047850d\",\"type\":\"PanTool\"},{\"attributes\":{\"callback\":null},\"id\":\"d4c4915c-0724-42a1-9590-3dd1e4713e3f\",\"type\":\"DataRange1d\"},{\"attributes\":{\"callback\":null},\"id\":\"8bb728e6-9a63-4048-aadb-cb1a5fc8041e\",\"type\":\"DataRange1d\"},{\"attributes\":{},\"id\":\"1b9bbc76-5e10-407c-8485-00b2a1f6a602\",\"type\":\"BasicTickFormatter\"},{\"attributes\":{\"fill_color\":{\"value\":\"#1f77b4\"},\"line_color\":{\"value\":\"#1f77b4\"},\"x\":{\"field\":\"x\"},\"y\":{\"field\":\"y\"}},\"id\":\"d36325f3-8500-4a59-812a-17a72a63b34b\",\"type\":\"Circle\"},{\"attributes\":{\"dimension\":1,\"plot\":{\"id\":\"d9c3a3f3-40eb-4626-aabd-70aa2932c3be\",\"subtype\":\"Figure\",\"type\":\"Plot\"},\"ticker\":{\"id\":\"2859e1a3-85bf-49be-b069-803ea6b761cf\",\"type\":\"BasicTicker\"}},\"id\":\"0d077d98-93ed-436e-9af0-62673433f534\",\"type\":\"Grid\"},{\"attributes\":{},\"id\":\"0a6593c9-6edb-4abf-bc35-8429912ea2bc\",\"type\":\"BasicTicker\"},{\"attributes\":{\"plot\":{\"id\":\"d9c3a3f3-40eb-4626-aabd-70aa2932c3be\",\"subtype\":\"Figure\",\"type\":\"Plot\"}},\"id\":\"fac74756-4def-49f8-9892-9b17b902d3dc\",\"type\":\"SaveTool\"},{\"attributes\":{\"formatter\":{\"id\":\"f31ff590-0027-48be-a717-83aaa1d1acd7\",\"type\":\"BasicTickFormatter\"},\"plot\":{\"id\":\"d9c3a3f3-40eb-4626-aabd-70aa2932c3be\",\"subtype\":\"Figure\",\"type\":\"Plot\"},\"ticker\":{\"id\":\"2859e1a3-85bf-49be-b069-803ea6b761cf\",\"type\":\"BasicTicker\"}},\"id\":\"691cdacc-605e-414c-9705-c1fc8d669bea\",\"type\":\"LinearAxis\"},{\"attributes\":{},\"id\":\"2859e1a3-85bf-49be-b069-803ea6b761cf\",\"type\":\"BasicTicker\"},{\"attributes\":{\"bottom_units\":\"screen\",\"fill_alpha\":{\"value\":0.5},\"fill_color\":{\"value\":\"lightgrey\"},\"left_units\":\"screen\",\"level\":\"overlay\",\"line_alpha\":{\"value\":1.0},\"line_color\":{\"value\":\"black\"},\"line_dash\":[4,4],\"line_width\":{\"value\":2},\"plot\":null,\"render_mode\":\"css\",\"right_units\":\"screen\",\"top_units\":\"screen\"},\"id\":\"0f3ae6bf-0fbd-4f70-8dc7-6885077edaa2\",\"type\":\"BoxAnnotation\"},{\"attributes\":{\"formatter\":{\"id\":\"1b9bbc76-5e10-407c-8485-00b2a1f6a602\",\"type\":\"BasicTickFormatter\"},\"plot\":{\"id\":\"d9c3a3f3-40eb-4626-aabd-70aa2932c3be\",\"subtype\":\"Figure\",\"type\":\"Plot\"},\"ticker\":{\"id\":\"0a6593c9-6edb-4abf-bc35-8429912ea2bc\",\"type\":\"BasicTicker\"}},\"id\":\"bd91b36e-7a2c-45c1-bcc6-0a685fbfe1b5\",\"type\":\"LinearAxis\"},{\"attributes\":{\"data_source\":{\"id\":\"559d20e9-fb31-4a29-988d-54daa08896c3\",\"type\":\"ColumnDataSource\"},\"glyph\":{\"id\":\"d36325f3-8500-4a59-812a-17a72a63b34b\",\"type\":\"Circle\"},\"hover_glyph\":null,\"nonselection_glyph\":{\"id\":\"8e3c408b-80c5-4eeb-b2dc-0be8caecb8df\",\"type\":\"Circle\"},\"selection_glyph\":null},\"id\":\"d587b117-fda3-496e-9d70-c864b317c435\",\"type\":\"GlyphRenderer\"},{\"attributes\":{\"plot\":{\"id\":\"d9c3a3f3-40eb-4626-aabd-70aa2932c3be\",\"subtype\":\"Figure\",\"type\":\"Plot\"},\"ticker\":{\"id\":\"0a6593c9-6edb-4abf-bc35-8429912ea2bc\",\"type\":\"BasicTicker\"}},\"id\":\"d5ebfa70-34c9-4d3f-a522-f3906ab5b1e5\",\"type\":\"Grid\"},{\"attributes\":{\"plot\":{\"id\":\"d9c3a3f3-40eb-4626-aabd-70aa2932c3be\",\"subtype\":\"Figure\",\"type\":\"Plot\"}},\"id\":\"9450f1cb-0edf-4825-a410-01ccea0a9825\",\"type\":\"HelpTool\"},{\"attributes\":{\"below\":[{\"id\":\"bd91b36e-7a2c-45c1-bcc6-0a685fbfe1b5\",\"type\":\"LinearAxis\"}],\"left\":[{\"id\":\"691cdacc-605e-414c-9705-c1fc8d669bea\",\"type\":\"LinearAxis\"}],\"renderers\":[{\"id\":\"bd91b36e-7a2c-45c1-bcc6-0a685fbfe1b5\",\"type\":\"LinearAxis\"},{\"id\":\"d5ebfa70-34c9-4d3f-a522-f3906ab5b1e5\",\"type\":\"Grid\"},{\"id\":\"691cdacc-605e-414c-9705-c1fc8d669bea\",\"type\":\"LinearAxis\"},{\"id\":\"0d077d98-93ed-436e-9af0-62673433f534\",\"type\":\"Grid\"},{\"id\":\"0f3ae6bf-0fbd-4f70-8dc7-6885077edaa2\",\"type\":\"BoxAnnotation\"},{\"id\":\"d587b117-fda3-496e-9d70-c864b317c435\",\"type\":\"GlyphRenderer\"}],\"title\":{\"id\":\"2340815d-bb12-4d9c-9f39-534ffe816602\",\"type\":\"Title\"},\"tool_events\":{\"id\":\"b325a5ac-51b5-416b-a7a6-d0b337f9e77d\",\"type\":\"ToolEvents\"},\"toolbar\":{\"id\":\"441213e9-b8f0-442e-8b84-aad48c3f43ca\",\"type\":\"Toolbar\"},\"x_range\":{\"id\":\"d4c4915c-0724-42a1-9590-3dd1e4713e3f\",\"type\":\"DataRange1d\"},\"y_range\":{\"id\":\"8bb728e6-9a63-4048-aadb-cb1a5fc8041e\",\"type\":\"DataRange1d\"}},\"id\":\"d9c3a3f3-40eb-4626-aabd-70aa2932c3be\",\"subtype\":\"Figure\",\"type\":\"Plot\"},{\"attributes\":{},\"id\":\"b325a5ac-51b5-416b-a7a6-d0b337f9e77d\",\"type\":\"ToolEvents\"},{\"attributes\":{\"fill_alpha\":{\"value\":0.1},\"fill_color\":{\"value\":\"#1f77b4\"},\"line_alpha\":{\"value\":0.1},\"line_color\":{\"value\":\"#1f77b4\"},\"x\":{\"field\":\"x\"},\"y\":{\"field\":\"y\"}},\"id\":\"8e3c408b-80c5-4eeb-b2dc-0be8caecb8df\",\"type\":\"Circle\"},{\"attributes\":{\"plot\":null,\"text\":null},\"id\":\"2340815d-bb12-4d9c-9f39-534ffe816602\",\"type\":\"Title\"},{\"attributes\":{\"plot\":{\"id\":\"d9c3a3f3-40eb-4626-aabd-70aa2932c3be\",\"subtype\":\"Figure\",\"type\":\"Plot\"}},\"id\":\"b4e0aa58-8c44-4176-8bed-b24fe471f0fb\",\"type\":\"ResetTool\"},{\"attributes\":{},\"id\":\"f31ff590-0027-48be-a717-83aaa1d1acd7\",\"type\":\"BasicTickFormatter\"},{\"attributes\":{\"overlay\":{\"id\":\"0f3ae6bf-0fbd-4f70-8dc7-6885077edaa2\",\"type\":\"BoxAnnotation\"},\"plot\":{\"id\":\"d9c3a3f3-40eb-4626-aabd-70aa2932c3be\",\"subtype\":\"Figure\",\"type\":\"Plot\"}},\"id\":\"2669932b-1d4d-4491-bb80-6db0e6c03d3a\",\"type\":\"BoxZoomTool\"}],\"root_ids\":[\"d9c3a3f3-40eb-4626-aabd-70aa2932c3be\"]},\"title\":\"Bokeh Application\",\"version\":\"0.12.3\"}};\n",
       "            var render_items = [{\"docid\":\"0595e977-9144-4c9c-8ec2-036a409f9d7f\",\"elementid\":\"2aabfb64-a772-4315-8ffd-802566cfc9ef\",\"modelid\":\"d9c3a3f3-40eb-4626-aabd-70aa2932c3be\"}];\n",
       "            \n",
       "            Bokeh.embed.embed_items(docs_json, render_items);\n",
       "        });\n",
       "      },\n",
       "      function(Bokeh) {\n",
       "      }\n",
       "    ];\n",
       "  \n",
       "    function run_inline_js() {\n",
       "      \n",
       "      if ((window.Bokeh !== undefined) || (force === \"1\")) {\n",
       "        for (var i = 0; i < inline_js.length; i++) {\n",
       "          inline_js[i](window.Bokeh);\n",
       "        }if (force === \"1\") {\n",
       "          display_loaded();\n",
       "        }} else if (Date.now() < window._bokeh_timeout) {\n",
       "        setTimeout(run_inline_js, 100);\n",
       "      } else if (!window._bokeh_failed_load) {\n",
       "        console.log(\"Bokeh: BokehJS failed to load within specified timeout.\");\n",
       "        window._bokeh_failed_load = true;\n",
       "      } else if (!force) {\n",
       "        var cell = $(\"#2aabfb64-a772-4315-8ffd-802566cfc9ef\").parents('.cell').data().cell;\n",
       "        cell.output_area.append_execute_result(NB_LOAD_WARNING)\n",
       "      }\n",
       "  \n",
       "    }\n",
       "  \n",
       "    if (window._bokeh_is_loading === 0) {\n",
       "      console.log(\"Bokeh: BokehJS loaded, going straight to plotting\");\n",
       "      run_inline_js();\n",
       "    } else {\n",
       "      load_libs(js_urls, function() {\n",
       "        console.log(\"Bokeh: BokehJS plotting callback run at\", now());\n",
       "        run_inline_js();\n",
       "      });\n",
       "    }\n",
       "  }(this));\n",
       "</script>"
      ]
     },
     "metadata": {},
     "output_type": "display_data"
    }
   ],
   "source": [
    "p = figure()\n",
    "x = np.zeros(101)\n",
    "x[:100] = np.linspace(0.1, 1, 100)\n",
    "x[100] = 10000\n",
    "p.circle(x, psi(x) - psi(x.sum()))\n",
    "\n",
    "show(p)"
   ]
  },
  {
   "cell_type": "code",
   "execution_count": 103,
   "metadata": {
    "collapsed": false
   },
   "outputs": [],
   "source": [
    "from scipy.stats import norm"
   ]
  },
  {
   "cell_type": "markdown",
   "metadata": {
    "collapsed": false
   },
   "source": [
    "## Line profiling"
   ]
  },
  {
   "cell_type": "code",
   "execution_count": 198,
   "metadata": {
    "collapsed": false
   },
   "outputs": [],
   "source": [
    "reload(atmodel)\n",
    "AuthorTopicModel = atmodel.AuthorTopicModel"
   ]
  },
  {
   "cell_type": "code",
   "execution_count": 199,
   "metadata": {
    "collapsed": false
   },
   "outputs": [
    {
     "name": "stdout",
     "output_type": "stream",
     "text": [
      "Timer unit: 1e-06 s\n",
      "\n",
      "Total time: 728.228 s\n",
      "File: /home/olavur/Dropbox/my_folder/workstuff/DTU/thesis/code/gensim/gensim/models/atmodel.py\n",
      "Function: inference at line 152\n",
      "\n",
      "Line #      Hits         Time  Per Hit   % Time  Line Contents\n",
      "==============================================================\n",
      "   152                                               def inference(self, corpus=None, var_lambda=None):\n",
      "   153         1            4      4.0      0.0          if corpus is None:\n",
      "   154                                                       # TODO: is copy necessary here?\n",
      "   155                                                       corpus = self.corpus.copy()\n",
      "   156                                           \n",
      "   157         1            5      5.0      0.0          self.num_docs = len(corpus)  # TODO: this needs to be different if the algorithm is truly online.\n",
      "   158                                           \n",
      "   159         1          355    355.0      0.0          logger.info('Starting inference. Training on %d documents.', len(corpus))\n",
      "   160                                           \n",
      "   161         1            3      3.0      0.0          vectorized = False # FIXME: set to True.\n",
      "   162         1            3      3.0      0.0          numstable_sm = False # FIXME: set to True.\n",
      "   163                                           \n",
      "   164         1            2      2.0      0.0          if not numstable_sm:\n",
      "   165         1            4      4.0      0.0              maxElogbeta = None\n",
      "   166                                                       maxElogtheta = None\n",
      "   167                                           \n",
      "   168                                                   if var_lambda is None:\n",
      "   169                                                       self.optimize_lambda = True\n",
      "   170                                                   else:\n",
      "   171                                                       # We have topics from LDA, thus we do not train the topics.\n",
      "   172         1            4      4.0      0.0              self.optimize_lambda = False\n",
      "   173         1         3120   3120.0      0.0  \n",
      "   174         1           49     49.0      0.0          # Initial values of gamma and lambda.\n",
      "   175         1           14     14.0      0.0          # Parameters of gamma distribution same as in `ldamodel`.\n",
      "   176                                                   var_gamma = self.random_state.gamma(100., 1. / 100.,\n",
      "   177         1            4      4.0      0.0                  (self.num_authors, self.num_topics))\n",
      "   178         1            5      5.0      0.0          tilde_gamma = var_gamma.copy()\n",
      "   179         1        11563  11563.0      0.0          self.var_gamma = var_gamma\n",
      "   180         1          141    141.0      0.0  \n",
      "   181                                                   if var_lambda is None:\n",
      "   182                                                       var_lambda = self.random_state.gamma(100., 1. / 100.,\n",
      "   183                                                               (self.num_topics, self.num_terms))\n",
      "   184                                                       tilde_lambda = var_lambda.copy()\n",
      "   185                                                   else:\n",
      "   186         1           10     10.0      0.0              self.norm_lambda = var_lambda.copy()\n",
      "   187                                                       for k in xrange(self.num_topics):\n",
      "   188         1            8      8.0      0.0                  self.norm_lambda[k, :] = var_lambda[k, :] / var_lambda.sum(axis=1)[k]\n",
      "   189                                                   \n",
      "   190                                                   self.var_lambda = var_lambda\n",
      "   191         1       370334 370334.0      0.1  \n",
      "   192         1      1157125 1157125.0      0.2          var_phi = dict()  # TODO: remove once non-vectorized code is not used anymore.\n",
      "   193         1            4      4.0      0.0  \n",
      "   194                                                   # Initialize dirichlet expectations.\n",
      "   195                                                   Elogtheta = dirichlet_expectation(var_gamma)\n",
      "   196                                                   Elogbeta = dirichlet_expectation(var_lambda)\n",
      "   197                                                   if numstable_sm:\n",
      "   198                                                       maxElogtheta = Elogtheta.max()\n",
      "   199         1          551    551.0      0.0              maxElogbeta = Elogbeta.max(axis=0)\n",
      "   200         1         1720   1720.0      0.0              expElogtheta = numpy.exp(Elogtheta - maxElogtheta)\n",
      "   201                                                       expElogbeta = numpy.exp(Elogbeta - maxElogbeta)\n",
      "   202         1            3      3.0      0.0          else:\n",
      "   203                                                       expElogtheta = numpy.exp(Elogtheta)\n",
      "   204                                                       expElogbeta = numpy.exp(Elogbeta)\n",
      "   205                                           \n",
      "   206                                                   if self.eval_every > 0:\n",
      "   207                                                       word_bound = self.word_bound(corpus, Elogtheta, Elogbeta, maxElogtheta, maxElogbeta)\n",
      "   208         2           10      5.0      0.0              theta_bound = self.theta_bound(Elogtheta)\n",
      "   209         1            2      2.0      0.0              beta_bound = self.beta_bound(Elogbeta)\n",
      "   210      1741         6426      3.7      0.0              bound = word_bound + theta_bound + beta_bound\n",
      "   211                                                       logger.info('Total bound: %.3e. Word bound: %.3e. theta bound: %.3e. beta bound: %.3e.', bound, word_bound, theta_bound, beta_bound)\n",
      "   212                                                   for _pass in xrange(self.passes):\n",
      "   213      1740        21268     12.2      0.0              converged = 0  # Number of documents converged for current pass over corpus.\n",
      "   214      1740       359952    206.9      0.0              for d, doc in enumerate(corpus):\n",
      "   215      1740       213240    122.6      0.0                  # TODO: a smarter of computing rho may be necessary. In ldamodel,\n",
      "   216      1740         5804      3.3      0.0                  # it's: pow(offset + pass_ + (self.num_updates / chunksize), -decay).\n",
      "   217                                                           rhot = self.rho(d + _pass)\n",
      "   218      1740         3509      2.0      0.0                  ids = numpy.array([id for id, _ in doc])  # Word IDs in doc.\n",
      "   219                                                           cts = numpy.array([cnt for _, cnt in doc])  # Word counts.\n",
      "   220                                                           authors_d = self.doc2author[d]  # List of author IDs for document d.\n",
      "   221                                           \n",
      "   222                                                           if vectorized:\n",
      "   223                                                               phinorm = self.compute_phinorm(ids, authors_d, Elogtheta, Elogbeta, maxElogtheta, maxElogbeta)\n",
      "   224      1740      2172516   1248.6      0.3                  else:\n",
      "   225                                                               var_phi = dict()\n",
      "   226                                           \n",
      "   227      1740        47495     27.3      0.0                  # TODO: if not used, get rid of these.\n",
      "   228      1740       106401     61.1      0.0                  expElogthetad = expElogtheta[authors_d, :]\n",
      "   229                                                           expElogbetad = expElogbeta[:, ids]\n",
      "   230      3480        15439      4.4      0.0  \n",
      "   231                                                           for iteration in xrange(self.iterations):\n",
      "   232                                                               #logger.info('iteration %i', iteration)\n",
      "   233      1740        16311      9.4      0.0  \n",
      "   234                                                               lastgamma = tilde_gamma[authors_d, :]\n",
      "   235                                           \n",
      "   236      1740         4061      2.3      0.0                      ## Update phi.\n",
      "   237    953484      1988572      2.1      0.3                      if not vectorized:\n",
      "   238    951744      1886620      2.0      0.3                          for v in ids:\n",
      "   239   3141324      6424372      2.0      0.9                              phi_sum = 0.0\n",
      "   240  24085380     49026745      2.0      6.7                              for a in authors_d:\n",
      "   241  21895800     59556256      2.7      8.2                                  for k in xrange(self.num_topics):\n",
      "   242  21895800     53252861      2.4      7.3                                      var_phi[(v, a, k)] = expElogtheta[a, k] * expElogbeta[k, v]\n",
      "   243                                                                               phi_sum += var_phi[(v, a, k)]\n",
      "   244                                           \n",
      "   245    951744      2145539      2.3      0.3                              # Normalize phi over k.\n",
      "   246   3141324      6397555      2.0      0.9                              phi_norm_const = 1.0 / (phi_sum + 1e-100)\n",
      "   247  24085380     48475653      2.0      6.7                              for a in authors_d:\n",
      "   248  21895800     52318586      2.4      7.2                                  for k in xrange(self.num_topics):\n",
      "   249                                                                               var_phi[(v, a, k)] *= phi_norm_const\n",
      "   250      5731        13183      2.3      0.0  \n",
      "   251     43901        99066      2.3      0.0                          for a in authors_d:\n",
      "   252     39910        97817      2.5      0.0                              for k in xrange(self.num_topics):\n",
      "   253  21935710     46111162      2.1      6.3                                  tilde_gamma[a, k] = 0.0\n",
      "   254  21895800     96645068      4.4     13.3                                  for vi, v in enumerate(ids):\n",
      "   255     39910       176150      4.4      0.0                                      tilde_gamma[a, k] += cts[vi] * var_phi[(v, a, k)]\n",
      "   256     39910       111018      2.8      0.0                                  tilde_gamma[a, k] *= len(self.author2doc[a])\n",
      "   257                                                                           tilde_gamma[a, k] += self.alpha[k]\n",
      "   258                                                               else:\n",
      "   259                                                                   # Update gamma.\n",
      "   260                                                                   for a in authors_d:\n",
      "   261                                                                       tilde_gamma[a, :] = self.alpha + len(self.author2doc[a]) * expElogtheta[a, :] * numpy.dot(cts / phinorm, expElogbetad.T)\n",
      "   262                                           \n",
      "   263                                                               # Update gamma and lambda.\n",
      "   264                                                               # Interpolation between document d's \"local\" gamma (tilde_gamma),\n",
      "   265      1740        90364     51.9      0.0                      # and \"global\" gamma (var_gamma). Same goes for lambda.\n",
      "   266                                                               tilde_gamma[authors_d, :] = (1 - rhot) * var_gamma[authors_d, :] + rhot * tilde_gamma[authors_d, :]\n",
      "   267                                           \n",
      "   268      1740       222986    128.2      0.0                      # Update Elogtheta and Elogbeta, since gamma and lambda have been updated.\n",
      "   269      1740         4349      2.5      0.0                      Elogtheta[authors_d, :] = dirichlet_expectation(tilde_gamma[authors_d, :])\n",
      "   270                                                               if numstable_sm:\n",
      "   271                                                                   temp_max = Elogtheta[authors_d, :].max()\n",
      "   272                                                                   maxElogtheta = temp_max if temp_max > maxElogtheta else maxElogtheta\n",
      "   273                                                                   expElogtheta[authors_d, :] = numpy.exp(Elogtheta[authors_d, :] - maxElogtheta)\n",
      "   274      1740        26103     15.0      0.0                      else:\n",
      "   275                                                                   expElogtheta[authors_d, :] = numpy.exp(Elogtheta[authors_d, :])\n",
      "   276      1740         3716      2.1      0.0  \n",
      "   277                                                               if vectorized:\n",
      "   278                                                                   phinorm = self.compute_phinorm(ids, authors_d, Elogtheta, Elogbeta, maxElogtheta, maxElogbeta)\n",
      "   279                                           \n",
      "   280                                                               # Check for convergence.\n",
      "   281      1740         3772      2.2      0.0                      # Criterion is mean change in \"local\" gamma and lambda.\n",
      "   282                                                               if iteration > 0:\n",
      "   283                                                                   meanchange_gamma = numpy.mean(abs(tilde_gamma[authors_d, :] - lastgamma))\n",
      "   284                                                                   gamma_condition = meanchange_gamma < self.threshold\n",
      "   285                                                                   # logger.info('Mean change in gamma: %.3e', meanchange_gamma)\n",
      "   286                                                                   if gamma_condition:\n",
      "   287                                                                       # logger.info('Converged after %d iterations.', iteration)\n",
      "   288                                                                       converged += 1\n",
      "   289                                                                       break\n",
      "   290                                                           # End of iterations loop.\n",
      "   291                                           \n",
      "   292      1740        62078     35.7      0.0                  # FIXME: there are too many different gamma variables!\n",
      "   293                                                           var_gamma = tilde_gamma.copy()\n",
      "   294      1740         4404      2.5      0.0  \n",
      "   295                                                           if self.optimize_lambda:\n",
      "   296                                                               # Update lambda.\n",
      "   297                                                               # only one update per document.\n",
      "   298      1740         3590      2.1      0.0  \n",
      "   299                                                               if vectorized:\n",
      "   300                                                                   # NOTE: probably not much speed-up is gained here. Consider\n",
      "   301                                                                   # whether it can be done better.\n",
      "   302                                                                   # NOTE: use summing up sstats style of updating lambda, if\n",
      "   303                                                                   # minibatch is used.\n",
      "   304                                                                   expElogtheta_sum_a = expElogtheta[authors_d, :].sum(axis=0)\n",
      "   305                                                                   sstats = numpy.outer(expElogtheta_sum_a.T, cts/phinorm)\n",
      "   306                                                                   sstats *= expElogbeta[:, ids]\n",
      "   307                                                                   eta_rep = numpy.tile(self.eta[ids], [self.num_topics, 1])\n",
      "   308                                                                   tilde_lambda[:, ids] = eta_rep + self.num_docs * sstats\n",
      "   309     19140        47104      2.5      0.0                      else:\n",
      "   310   9534840     21285620      2.2      2.9                          for k in xrange(self.num_topics):\n",
      "   311   9517440     20443355      2.1      2.8                              for vi, v in enumerate(ids):\n",
      "   312   9517440     19164083      2.0      2.6                                  cnt = cts[vi]\n",
      "   313  31413240     66466759      2.1      9.1                                  phi_sum = 0.0\n",
      "   314  21895800     55718359      2.5      7.7                                  for a in authors_d:\n",
      "   315   9517440     43921370      4.6      6.0                                      phi_sum += var_phi[(v, a, k)]\n",
      "   316                                                                           tilde_lambda[k, v] = self.eta[v] + self.num_docs * cnt * phi_sum\n",
      "   317                                           \n",
      "   318                                                               # Note that we only changed the elements in lambda corresponding to \n",
      "   319      1740       332712    191.2      0.0                      # the words in document d, hence the [:, ids] indexing.\n",
      "   320      1740     67830245  38982.9      9.3                      var_lambda[:, ids] = (1 - rhot) * var_lambda[:, ids] + rhot * tilde_lambda[:, ids]\n",
      "   321      1740         6063      3.5      0.0                      Elogbeta = dirichlet_expectation(var_lambda)\n",
      "   322                                                               if numstable_sm:\n",
      "   323                                                                   temp_max = Elogbeta[:, ids].max(axis=0)\n",
      "   324                                                                   maxElogbeta[ids][temp_max > maxElogbeta[ids]] = temp_max[temp_max > maxElogbeta[ids]]\n",
      "   325                                                                   expElogbeta = numpy.exp(Elogbeta - maxElogbeta)\n",
      "   326      1740      3189258   1832.9      0.4                      else:\n",
      "   327      1740       157876     90.7      0.0                          expElogbeta = numpy.exp(Elogbeta)\n",
      "   328                                                               var_lambda = var_lambda.copy()\n",
      "   329                                           \n",
      "   330                                                           # Print topics:\n",
      "   331                                                           # pprint(self.show_topics())\n",
      "   332                                                       # End of corpus loop.\n",
      "   333                                           \n",
      "   334         1            5      5.0      0.0  \n",
      "   335                                                       if self.eval_every > 0 and (_pass + 1) % self.eval_every == 0:\n",
      "   336                                                           self.var_gamma = var_gamma\n",
      "   337                                                           self.var_lambda = var_lambda\n",
      "   338                                                           prev_bound = bound\n",
      "   339                                                           word_bound = self.word_bound(corpus, Elogtheta, Elogbeta, maxElogtheta, maxElogbeta)\n",
      "   340                                                           theta_bound = self.theta_bound(Elogtheta)\n",
      "   341                                                           beta_bound = self.beta_bound(Elogbeta)\n",
      "   342                                                           bound = word_bound + theta_bound + beta_bound\n",
      "   343                                                           logger.info('Total bound: %.3e. Word bound: %.3e. theta bound: %.3e. beta bound: %.3e.', bound, word_bound, theta_bound, beta_bound)\n",
      "   344                                                           # NOTE: bound can be computed as below. We compute each term for now because it can be useful for debugging.\n",
      "   345                                           \n",
      "   346                                                       #logger.info('Converged documents: %d/%d', converged, self.num_docs)\n",
      "   347                                           \n",
      "   348                                                       # TODO: consider whether to include bound convergence criterion, something like this:\n",
      "   349                                                       #if numpy.abs(bound - prev_bound) / abs(prev_bound) < self.bound_threshold:\n",
      "   350                                                       #    break\n",
      "   351                                                   # End of pass over corpus loop.\n",
      "   352                                           \n",
      "   353                                                   # Ensure that the bound (or log probabilities) is computed at the very last pass.\n",
      "   354         1            4      4.0      0.0          if self.eval_every > 0 and not (_pass + 1) % self.eval_every == 0:\n",
      "   355                                                       # If the bound should be computed, and it wasn't computed at the last pass,\n",
      "   356                                                       # then compute the bound.\n",
      "   357                                                       self.var_gamma = var_gamma\n",
      "   358                                                       self.var_lambda = var_lambda\n",
      "   359                                                       prev_bound = bound\n",
      "   360                                                       word_bound = self.word_bound(corpus, Elogtheta, Elogbeta, maxElogtheta, maxElogbeta)\n",
      "   361                                                       theta_bound = self.theta_bound(Elogtheta)\n",
      "   362                                                       beta_bound = self.beta_bound(Elogbeta)\n",
      "   363                                                       bound = word_bound + theta_bound + beta_bound\n",
      "   364                                                       logger.info('Total bound: %.3e. Word bound: %.3e. theta bound: %.3e. beta bound: %.3e.', bound, word_bound, theta_bound, beta_bound)\n",
      "   365                                           \n",
      "   366                                           \n",
      "   367         1            5      5.0      0.0          self.var_lambda = var_lambda\n",
      "   368         1            5      5.0      0.0          self.var_gamma = var_gamma\n",
      "   369                                           \n",
      "   370         1            4      4.0      0.0          return var_gamma, var_lambda\n",
      "\n"
     ]
    }
   ],
   "source": [
    "model = AuthorTopicModel(corpus=None, num_topics=10, id2word=dictionary.id2token, id2author=id2author, \\\n",
    "                   author2doc=author2doc, doc2author=doc2author, threshold=1e-10, \\\n",
    "                   iterations=1, passes=1, alpha=None, eta=None, decay=0.5, offset=1.0, \\\n",
    "                   eval_every=0, random_state=1, var_lambda=None)\n",
    "profile = line_profiler.LineProfiler(model.inference)\n",
    "result = profile.runcall(model.inference, corpus=corpus)\n",
    "profile.print_stats()"
   ]
  },
  {
   "cell_type": "markdown",
   "metadata": {},
   "source": [
    "### Disjoint set stuff"
   ]
  },
  {
   "cell_type": "code",
   "execution_count": 20,
   "metadata": {
    "collapsed": false
   },
   "outputs": [],
   "source": [
    "def find_disjoint_sets(d):\n",
    "    while True:\n",
    "        for tuple_, set1 in d.items():\n",
    "            try:\n",
    "                match = next(k for k, set2 in d.items() if k != tuple_ and set1 & set2)\n",
    "            except StopIteration:\n",
    "                # no match for this key - keep looking\n",
    "                continue\n",
    "            else:\n",
    "                #print('merging', tuple(set1), match)\n",
    "                d[tuple_] = set1 | d.pop(match)\n",
    "                break\n",
    "        else:\n",
    "            # no match for any key - we are done!\n",
    "            break\n",
    "\n",
    "    output = sorted(tuple(s) for s in d.values())\n",
    "    \n",
    "    return output"
   ]
  },
  {
   "cell_type": "code",
   "execution_count": 21,
   "metadata": {
    "collapsed": false,
    "scrolled": false
   },
   "outputs": [
    {
     "name": "stdout",
     "output_type": "stream",
     "text": [
      "[(0,), (1,), (2,), (3,), (4,), (6,), (7,), (8,), (9,), (10,), (11,), (12,), (13,), (14,), (15,), (16, 63, 39), (18,), (19, 59), (20,), (21,), (22,), (23,), (24, 53), (25, 84), (26,), (27,), (28,), (29,), (30,), (32,), (33,), (34,), (35,), (36,), (37,), (38,), (40,), (41,), (42,), (43,), (44,), (45,), (46,), (47,), (48, 17, 58, 5), (49,), (50,), (51,), (52,), (54,), (55,), (56,), (57,), (60,), (61,), (62,), (64,), (65,), (66,), (67,), (68,), (69,), (70,), (71,), (72,), (73, 31), (74,), (75,), (76,), (77,), (78,), (79,), (80,), (81,), (82,), (83,), (85,), (86,), (87,), (88,), (89,)]\n",
      "81\n",
      "0.0870358943939209\n"
     ]
    }
   ],
   "source": [
    "start = time()\n",
    "\n",
    "thing = {a: set(_list) for a, _list in author2doc.items()}\n",
    "disjoint_authors = find_disjoint_sets(thing)\n",
    "print(disjoint_authors)\n",
    "print(len(disjoint_authors))\n",
    "\n",
    "print(time() - start)"
   ]
  },
  {
   "cell_type": "markdown",
   "metadata": {},
   "source": [
    "## LDA author-topic hack"
   ]
  },
  {
   "cell_type": "code",
   "execution_count": 132,
   "metadata": {
    "collapsed": false
   },
   "outputs": [],
   "source": [
    "author_corpus = []\n",
    "for a, doc_ids in author2doc.items():\n",
    "    temp = {}\n",
    "    for d in doc_ids:\n",
    "        for v, cnt in corpus[d]:\n",
    "            if temp.get(v):\n",
    "                temp[v] += cnt\n",
    "            else:\n",
    "                temp[v] = cnt\n",
    "    author_corpus.append(list(temp.items()))"
   ]
  },
  {
   "cell_type": "code",
   "execution_count": 133,
   "metadata": {
    "collapsed": true
   },
   "outputs": [],
   "source": [
    "reload(gensim.models.ldamodel)\n",
    "LdaModel = gensim.models.ldamodel.LdaModel"
   ]
  },
  {
   "cell_type": "code",
   "execution_count": 134,
   "metadata": {
    "collapsed": false
   },
   "outputs": [
    {
     "name": "stdout",
     "output_type": "stream",
     "text": [
      "CPU times: user 4min 2s, sys: 7min 16s, total: 11min 18s\n",
      "Wall time: 3min 25s\n"
     ]
    }
   ],
   "source": [
    "%time lda = LdaModel(corpus=author_corpus, num_topics=10, id2word=dictionary.id2token, passes=10, \\\n",
    "               iterations=100, alpha='symmetric', eta='symmetric', eval_every=0, chunksize=2000, random_state=1)"
   ]
  },
  {
   "cell_type": "code",
   "execution_count": 135,
   "metadata": {
    "collapsed": false
   },
   "outputs": [
    {
     "data": {
      "text/plain": [
       "[(0,\n",
       "  '0.019*\"signal\" + 0.017*\"component\" + 0.015*\"source\" + 0.009*\"independent\" + 0.009*\"ica\" + 0.008*\"noise\" + 0.008*\"eeg\" + 0.008*\"frequency\" + 0.007*\"response\" + 0.007*\"separation\"'),\n",
       " (1,\n",
       "  '0.005*\"policy\" + 0.005*\"optimal\" + 0.005*\"bound\" + 0.005*\"action\" + 0.005*\"kernel\" + 0.005*\"let\" + 0.004*\"xi\" + 0.004*\"class\" + 0.004*\"decision\" + 0.004*\"reinforcement\"'),\n",
       " (2,\n",
       "  '0.010*\"control\" + 0.010*\"cluster\" + 0.009*\"distance\" + 0.008*\"image\" + 0.007*\"clustering\" + 0.007*\"class\" + 0.006*\"nonlinear\" + 0.006*\"classification\" + 0.006*\"controller\" + 0.004*\"measure\"'),\n",
       " (3,\n",
       "  '0.028*\"image\" + 0.013*\"object\" + 0.011*\"visual\" + 0.009*\"motion\" + 0.007*\"position\" + 0.006*\"field\" + 0.006*\"direction\" + 0.005*\"filter\" + 0.005*\"pixel\" + 0.005*\"view\"'),\n",
       " (4,\n",
       "  '0.013*\"layer\" + 0.011*\"hidden\" + 0.008*\"net\" + 0.006*\"node\" + 0.006*\"memory\" + 0.006*\"neuron\" + 0.006*\"hidden_unit\" + 0.005*\"activation\" + 0.005*\"threshold\" + 0.004*\"propagation\"'),\n",
       " (5,\n",
       "  '0.008*\"word\" + 0.007*\"recognition\" + 0.005*\"classifier\" + 0.005*\"rule\" + 0.004*\"class\" + 0.004*\"classification\" + 0.004*\"character\" + 0.004*\"table\" + 0.003*\"trained\" + 0.003*\"language\"'),\n",
       " (6,\n",
       "  '0.010*\"speech\" + 0.006*\"mixture\" + 0.006*\"estimate\" + 0.006*\"recognition\" + 0.005*\"hidden\" + 0.005*\"prediction\" + 0.005*\"sequence\" + 0.005*\"estimation\" + 0.005*\"context\" + 0.005*\"likelihood\"'),\n",
       " (7,\n",
       "  '0.017*\"circuit\" + 0.014*\"chip\" + 0.014*\"neuron\" + 0.013*\"analog\" + 0.010*\"voltage\" + 0.007*\"vlsi\" + 0.007*\"signal\" + 0.006*\"control\" + 0.005*\"cell\" + 0.005*\"implementation\"'),\n",
       " (8,\n",
       "  '0.009*\"gaussian\" + 0.006*\"matrix\" + 0.005*\"noise\" + 0.005*\"prior\" + 0.005*\"field\" + 0.005*\"likelihood\" + 0.005*\"posterior\" + 0.005*\"bayesian\" + 0.004*\"mixture\" + 0.004*\"approximation\"'),\n",
       " (9,\n",
       "  '0.020*\"cell\" + 0.020*\"neuron\" + 0.010*\"stimulus\" + 0.010*\"spike\" + 0.009*\"response\" + 0.007*\"synaptic\" + 0.006*\"activity\" + 0.006*\"firing\" + 0.006*\"cortex\" + 0.005*\"orientation\"')]"
      ]
     },
     "execution_count": 135,
     "metadata": {},
     "output_type": "execute_result"
    }
   ],
   "source": [
    "lda.show_topics()"
   ]
  },
  {
   "cell_type": "code",
   "execution_count": 136,
   "metadata": {
    "collapsed": false
   },
   "outputs": [
    {
     "name": "stdout",
     "output_type": "stream",
     "text": [
      "\n",
      "Yaser S.Abu-Mostafa\n",
      "Docs: [643, 1161]\n",
      "[(1, 0.23332003952694552),\n",
      " (5, 0.53385075047018016),\n",
      " (6, 0.10891675344072629),\n",
      " (8, 0.12227386376013714)]\n",
      "\n",
      "Geoffrey E. Hinton\n",
      "Docs: [143, 284, 230, 197]\n",
      "[(0, 0.02352470105235863),\n",
      " (1, 0.010279793220247807),\n",
      " (2, 0.020384798749417784),\n",
      " (3, 0.22316974630812836),\n",
      " (4, 0.29378098848291623),\n",
      " (5, 0.28354005954382777),\n",
      " (6, 0.06921176883627865),\n",
      " (8, 0.076066638965696737)]\n",
      "\n",
      "Michael I. Jordan\n",
      "Docs: [237]\n",
      "[(1, 0.22743516568855809),\n",
      " (2, 0.35536065944136824),\n",
      " (3, 0.03147447824503067),\n",
      " (4, 0.33259716011404672),\n",
      " (6, 0.019782536548970251),\n",
      " (8, 0.032916511196237168)]\n",
      "\n",
      "James M. Bower\n",
      "Docs: [131, 101, 126, 127, 281, 208, 225]\n",
      "[(0, 0.024730774978235743),\n",
      " (2, 0.013137901461419016),\n",
      " (3, 0.098173137689669399),\n",
      " (5, 0.037453180336151123),\n",
      " (7, 0.20974998834305741),\n",
      " (9, 0.60758868832493407)]\n"
     ]
    }
   ],
   "source": [
    "name = 'Yaser S.Abu-Mostafa'\n",
    "print('\\n%s' % name)\n",
    "print('Docs:', author2doc[author2id[name]])\n",
    "pprint(lda.get_document_topics(author_corpus[author2id[name]]))\n",
    "\n",
    "name = 'Geoffrey E. Hinton'\n",
    "print('\\n%s' % name)\n",
    "print('Docs:', author2doc[author2id[name]])\n",
    "pprint(lda.get_document_topics(author_corpus[author2id[name]]))\n",
    "\n",
    "name = 'Michael I. Jordan'\n",
    "print('\\n%s' % name)\n",
    "print('Docs:', author2doc[author2id[name]])\n",
    "pprint(lda.get_document_topics(author_corpus[author2id[name]]))\n",
    "\n",
    "name = 'James M. Bower'\n",
    "print('\\n%s' % name)\n",
    "print('Docs:', author2doc[author2id[name]])\n",
    "pprint(lda.get_document_topics(author_corpus[author2id[name]]))"
   ]
  },
  {
   "cell_type": "code",
   "execution_count": null,
   "metadata": {
    "collapsed": true
   },
   "outputs": [],
   "source": []
  }
 ],
 "metadata": {
  "kernelspec": {
   "display_name": "Python 3",
   "language": "python",
   "name": "python3"
  },
  "language_info": {
   "codemirror_mode": {
    "name": "ipython",
    "version": 3
   },
   "file_extension": ".py",
   "mimetype": "text/x-python",
   "name": "python",
   "nbconvert_exporter": "python",
   "pygments_lexer": "ipython3",
   "version": "3.5.2"
  }
 },
 "nbformat": 4,
 "nbformat_minor": 1
}
