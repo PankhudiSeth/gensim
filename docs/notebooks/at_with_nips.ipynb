{
 "cells": [
  {
   "cell_type": "code",
   "execution_count": 1,
   "metadata": {
    "collapsed": false
   },
   "outputs": [
    {
     "data": {
      "application/javascript": [
       "// Run for table of contents.\n",
       "$.getScript('https://kmahelona.github.io/ipython_notebook_goodies/ipython_notebook_toc.js')\n",
       "\n",
       "// https://github.com/kmahelona/ipython_notebook_goodies"
      ],
      "text/plain": [
       "<IPython.core.display.Javascript object>"
      ]
     },
     "metadata": {},
     "output_type": "display_data"
    }
   ],
   "source": [
    "%%javascript\n",
    "// Run for table of contents.\n",
    "$.getScript('https://kmahelona.github.io/ipython_notebook_goodies/ipython_notebook_toc.js')\n",
    "\n",
    "// https://github.com/kmahelona/ipython_notebook_goodies"
   ]
  },
  {
   "cell_type": "markdown",
   "metadata": {},
   "source": [
    "# Tests with NIPS data\n",
    "\n",
    "<h2 id=\"tocheading\">Table of Contents</h2>\n",
    "<div id=\"toc\"></div>\n"
   ]
  },
  {
   "cell_type": "code",
   "execution_count": 168,
   "metadata": {
    "collapsed": false
   },
   "outputs": [],
   "source": [
    "import numpy as np\n",
    "import matplotlib\n",
    "import matplotlib.pyplot as plt\n",
    "from nltk.tokenize import RegexpTokenizer\n",
    "from nltk.stem.wordnet import WordNetLemmatizer\n",
    "import gensim\n",
    "from gensim.models import Phrases\n",
    "from gensim.corpora import Dictionary, MmCorpus\n",
    "from gensim.models import LdaModel\n",
    "from imp import reload\n",
    "from pprint import pprint\n",
    "from random import sample\n",
    "import bokeh\n",
    "import os\n",
    "import line_profiler\n",
    "\n",
    "import logging\n",
    "\n",
    "from gensim.models import AuthorTopicModel\n",
    "from gensim.models import atmodel\n",
    "from gensim.models import LdaModel\n",
    "from gensim.models import ldamodel\n",
    "\n",
    "from time import time\n",
    "\n",
    "%matplotlib inline"
   ]
  },
  {
   "cell_type": "code",
   "execution_count": 3,
   "metadata": {
    "collapsed": false
   },
   "outputs": [],
   "source": [
    "# Configure logging.\n",
    "\n",
    "log_dir = '../../../log_files/log.log'  # On my own machine.\n",
    "#log_dir = '../../../../log_files/log.log'  # On Hetzner\n",
    "\n",
    "logger = logging.getLogger()\n",
    "fhandler = logging.FileHandler(filename=log_dir, mode='a')\n",
    "formatter = logging.Formatter('%(asctime)s - %(name)s - %(levelname)s - %(message)s')\n",
    "fhandler.setFormatter(formatter)\n",
    "logger.addHandler(fhandler)\n",
    "logger.setLevel(logging.DEBUG)"
   ]
  },
  {
   "cell_type": "markdown",
   "metadata": {},
   "source": [
    "## Load and prepare data structure"
   ]
  },
  {
   "cell_type": "code",
   "execution_count": 24,
   "metadata": {
    "collapsed": false
   },
   "outputs": [],
   "source": [
    "import os\n",
    "import re\n",
    "\n",
    "# Folder containing all NIPS papers.\n",
    "data_dir = '../../../../data/nipstxt/'  # On my own machine.\n",
    "#data_dir = '../../../nipstxt/'  # On Hetzner.\n",
    "\n",
    "# Folders containin individual NIPS papers.\n",
    "#yrs = ['00', '01', '02', '03', '04', '05', '06', '07', '08', '09', '10', '11', '12']\n",
    "yrs = ['00', '01', '02']\n",
    "dirs = ['nips' + yr for yr in yrs]\n",
    "\n",
    "# Get all document texts and their corresponding IDs.\n",
    "docs = []\n",
    "doc_ids = []\n",
    "for yr_dir in dirs:\n",
    "    files = os.listdir(data_dir + yr_dir)  # List of filenames.\n",
    "    for filen in files:\n",
    "        # Get document ID.\n",
    "        (idx1, idx2) = re.search('[0-9]+', filen).span()  # Matches the indexes of the start end end of the ID.\n",
    "        doc_ids.append(yr_dir[4:] + '_' + str(int(filen[idx1:idx2])))\n",
    "        \n",
    "        # Read document text.\n",
    "        # Note: ignoring characters that cause encoding errors.\n",
    "        with open(data_dir + yr_dir + '/' + filen, errors='ignore', encoding='utf-8') as fid:\n",
    "            txt = fid.read()\n",
    "        docs.append(txt)"
   ]
  },
  {
   "cell_type": "code",
   "execution_count": 25,
   "metadata": {
    "collapsed": false
   },
   "outputs": [],
   "source": [
    "filenames = [data_dir + 'idx/a' + yr + '.txt' for yr in yrs]  # Using the years defined in previous cell.\n",
    "\n",
    "# Get all author names and their corresponding document IDs.\n",
    "author2id = dict()\n",
    "author2doc = dict()\n",
    "i = 0\n",
    "for yr in yrs:\n",
    "    filename = data_dir + 'idx/a' + yr + '.txt'\n",
    "    for line in open(filename, errors='ignore', encoding='utf-8'):\n",
    "        contents = re.split(',', line)\n",
    "        author_name = (contents[1] + contents[0]).strip()\n",
    "        ids = [c.strip() for c in contents[2:]]\n",
    "        if not author2doc.get(author_name):\n",
    "            author2doc[author_name] = []\n",
    "            author2id[author_name] = i\n",
    "            i += 1\n",
    "        \n",
    "        author2doc[author_name].extend([yr + '_' + id for id in ids])\n",
    "        "
   ]
  },
  {
   "cell_type": "code",
   "execution_count": 26,
   "metadata": {
    "collapsed": true
   },
   "outputs": [],
   "source": [
    "id2author = dict(zip(author2id.values(), author2id.keys()))"
   ]
  },
  {
   "cell_type": "code",
   "execution_count": 27,
   "metadata": {
    "collapsed": false
   },
   "outputs": [],
   "source": [
    "# Use an integer ID in author2doc, instead of the IDs provided in the NIPS dataset.\n",
    "\n",
    "# Mapping from ID of document in NIPS datast, to an integer ID.\n",
    "doc_id_dict = dict(zip(doc_ids, range(len(doc_ids))))\n",
    "\n",
    "for a, a_doc_ids in author2doc.items():\n",
    "    for i, doc_id in enumerate(a_doc_ids):\n",
    "        author2doc[a][i] = doc_id_dict[doc_id]"
   ]
  },
  {
   "cell_type": "markdown",
   "metadata": {},
   "source": [
    "## Pre-process and vectorize data"
   ]
  },
  {
   "cell_type": "code",
   "execution_count": 28,
   "metadata": {
    "collapsed": false
   },
   "outputs": [],
   "source": [
    "# Tokenize the documents.\n",
    "\n",
    "# Split the documents into tokens.\n",
    "tokenizer = RegexpTokenizer(r'\\w+')\n",
    "for idx in range(len(docs)):\n",
    "    docs[idx] = docs[idx].lower()  # Convert to lowercase.\n",
    "    docs[idx] = tokenizer.tokenize(docs[idx])  # Split into words.\n",
    "\n",
    "# Remove numbers, but not words that contain numbers.\n",
    "docs = [[token for token in doc if not token.isnumeric()] for doc in docs]\n",
    "\n",
    "# Remove words that are only one character.\n",
    "docs = [[token for token in doc if len(token) > 1] for doc in docs]"
   ]
  },
  {
   "cell_type": "code",
   "execution_count": 29,
   "metadata": {
    "collapsed": false
   },
   "outputs": [],
   "source": [
    "# Lemmatize the documents.\n",
    "\n",
    "# Lemmatize all words in documents.\n",
    "lemmatizer = WordNetLemmatizer()\n",
    "docs = [[lemmatizer.lemmatize(token) for token in doc] for doc in docs]"
   ]
  },
  {
   "cell_type": "code",
   "execution_count": 30,
   "metadata": {
    "collapsed": false
   },
   "outputs": [
    {
     "name": "stderr",
     "output_type": "stream",
     "text": [
      "/home/olavur/Dropbox/my_folder/workstuff/DTU/thesis/code/gensim/gensim/models/phrases.py:248: UserWarning: For a faster implementation, use the gensim.models.phrases.Phraser class\n",
      "  warnings.warn(\"For a faster implementation, use the gensim.models.phrases.Phraser class\")\n"
     ]
    }
   ],
   "source": [
    "# Compute bigrams.\n",
    "\n",
    "# Add bigrams and trigrams to docs (only ones that appear 20 times or more).\n",
    "bigram = Phrases(docs, min_count=20)\n",
    "for idx in range(len(docs)):\n",
    "    for token in bigram[docs[idx]]:\n",
    "        if '_' in token:\n",
    "            # Token is a bigram, add to document.\n",
    "            docs[idx].append(token)"
   ]
  },
  {
   "cell_type": "code",
   "execution_count": 31,
   "metadata": {
    "collapsed": true
   },
   "outputs": [],
   "source": [
    "# Create a dictionary representation of the documents.\n",
    "dictionary = Dictionary(docs)"
   ]
  },
  {
   "cell_type": "code",
   "execution_count": 32,
   "metadata": {
    "collapsed": false
   },
   "outputs": [],
   "source": [
    "# Remove rare and common tokens.\n",
    "\n",
    "# Filter out words that occur too frequently or too rarely.\n",
    "max_freq = 0.5\n",
    "min_wordcount = 20\n",
    "dictionary.filter_extremes(no_below=min_wordcount, no_above=max_freq)\n",
    "\n",
    "dict0 = dictionary[0]  # This sort of \"initializes\" dictionary.id2token."
   ]
  },
  {
   "cell_type": "code",
   "execution_count": 33,
   "metadata": {
    "collapsed": false
   },
   "outputs": [
    {
     "data": {
      "image/png": "[encoded data removed]",
      "text/plain": [
       "<matplotlib.figure.Figure at 0x7f55010c24e0>"
      ]
     },
     "metadata": {},
     "output_type": "display_data"
    }
   ],
   "source": [
    "# Frequency distribution of words.\n",
    "\n",
    "one_doc = []\n",
    "for doc in docs:\n",
    "    one_doc.extend(doc)\n",
    "\n",
    "bow = dictionary.doc2bow(one_doc)\n",
    "word_freq = [cnt for _, cnt in bow]\n",
    "\n",
    "plt.plot(sorted(word_freq))\n",
    "plt.xlabel('Words')\n",
    "plt.ylabel('#Occurences')\n",
    "plt.title('Frequency distribution of words.\\nPower-law behaviour.')\n",
    "plt.show()"
   ]
  },
  {
   "cell_type": "code",
   "execution_count": 163,
   "metadata": {
    "collapsed": false
   },
   "outputs": [],
   "source": [
    "# Vectorize data.\n",
    "\n",
    "# Bag-of-words representation of the documents.\n",
    "corpus = [dictionary.doc2bow(doc) for doc in docs]\n",
    "\n",
    "# Serialize the corpus.\n",
    "MmCorpus.serialize('/tmp/corpus.mm', corpus)\n",
    "corpus = MmCorpus('/tmp/corpus.mm')"
   ]
  },
  {
   "cell_type": "code",
   "execution_count": 164,
   "metadata": {
    "collapsed": false
   },
   "outputs": [],
   "source": [
    "doc2author = atmodel.construct_doc2author(author2doc=author2doc, corpus=corpus)"
   ]
  },
  {
   "cell_type": "code",
   "execution_count": 165,
   "metadata": {
    "collapsed": false
   },
   "outputs": [
    {
     "name": "stdout",
     "output_type": "stream",
     "text": [
      "Number of authors: 536\n",
      "Number of unique tokens: 2245\n",
      "Number of documents: 286\n"
     ]
    }
   ],
   "source": [
    "print('Number of authors: %d' % len(author2doc))\n",
    "print('Number of unique tokens: %d' % len(dictionary))\n",
    "print('Number of documents: %d' % len(corpus))"
   ]
  },
  {
   "cell_type": "markdown",
   "metadata": {},
   "source": [
    "## Train model"
   ]
  },
  {
   "cell_type": "code",
   "execution_count": 197,
   "metadata": {
    "collapsed": false
   },
   "outputs": [],
   "source": [
    "reload(atmodel)\n",
    "AuthorTopicModel = atmodel.AuthorTopicModel\n",
    "reload(ldamodel)\n",
    "LdaModel = ldamodel.LdaModel"
   ]
  },
  {
   "cell_type": "code",
   "execution_count": 200,
   "metadata": {
    "collapsed": false
   },
   "outputs": [
    {
     "name": "stdout",
     "output_type": "stream",
     "text": [
      "-8.22783601141\n",
      "-6.95384791808\n",
      "-6.92227455516\n",
      "-6.89499090053\n",
      "-6.86991386225\n",
      "-6.8461946909\n",
      "-6.82374414163\n",
      "-6.80292182083\n",
      "-6.78419418262\n",
      "-6.76785403568\n",
      "CPU times: user 7.85 s, sys: 32 ms, total: 7.88 s\n",
      "Wall time: 7.88 s\n"
     ]
    }
   ],
   "source": [
    "%time model = AuthorTopicModel(corpus=corpus, num_topics=10, id2word=dictionary.id2token, \\\n",
    "                author2doc=author2doc, doc2author=doc2author, var_lambda=None,  \\\n",
    "                chunksize=2000, passes=10, update_every=1, \\\n",
    "                alpha='auto', eta='auto', decay=0.5, offset=1.0,  \\\n",
    "                eval_every=1, iterations=10, gamma_threshold=1e-10,  \\\n",
    "                minimum_probability=0.01, random_state=0, ns_conf={},\\\n",
    "                serialized=True, serialization_path='/tmp/model_serializer.mm', \\\n",
    "                minimum_phi_value=0.01)\n"
   ]
  },
  {
   "cell_type": "code",
   "execution_count": 187,
   "metadata": {
    "collapsed": false
   },
   "outputs": [
    {
     "name": "stdout",
     "output_type": "stream",
     "text": [
      "-8.22707493832\n",
      "-6.95390890605\n",
      "-6.92238881248\n",
      "-6.89518116711\n",
      "-6.87017561642\n",
      "-6.84650273233\n",
      "-6.82405446145\n",
      "-6.8031601438\n",
      "-6.7842610768\n",
      "-6.76764861124\n",
      "CPU times: user 8.08 s, sys: 28 ms, total: 8.11 s\n",
      "Wall time: 8.13 s\n"
     ]
    }
   ],
   "source": [
    "%time model = AuthorTopicModel(corpus=corpus, num_topics=10, id2word=dictionary.id2token, \\\n",
    "                author2doc=author2doc, doc2author=doc2author, id2author=id2author, var_lambda=None,  \\\n",
    "                chunksize=2000, passes=10, update_every=1, \\\n",
    "                alpha='auto', eta='auto', decay=0.5, offset=1.0,  \\\n",
    "                eval_every=1, iterations=10, gamma_threshold=1e-10,  \\\n",
    "                minimum_probability=0.01, random_state=0, ns_conf={},\\\n",
    "                serialized=True, serialization_path='/tmp/model_serializer.mm', \\\n",
    "                minimum_phi_value=0.01)\n"
   ]
  },
  {
   "cell_type": "code",
   "execution_count": 199,
   "metadata": {
    "collapsed": true
   },
   "outputs": [],
   "source": [
    "os.remove('/tmp/model_serializer.mm')"
   ]
  },
  {
   "cell_type": "code",
   "execution_count": 53,
   "metadata": {
    "collapsed": false
   },
   "outputs": [
    {
     "data": {
      "text/plain": [
       "-6.8552693884314806"
      ]
     },
     "execution_count": 53,
     "metadata": {},
     "output_type": "execute_result"
    }
   ],
   "source": [
    "corpus_words = sum(cnt for document in corpus for _, cnt in document)\n",
    "model.bound(corpus, author2doc=author2doc, doc2author=doc2author) / corpus_words"
   ]
  },
  {
   "cell_type": "code",
   "execution_count": 153,
   "metadata": {
    "collapsed": false
   },
   "outputs": [
    {
     "data": {
      "text/plain": [
       "[(0,\n",
       "  '0.007*\"cell\" + 0.006*\"fig\" + 0.006*\"chip\" + 0.005*\"memory\" + 0.005*\"current\" + 0.005*\"circuit\" + 0.004*\"control\" + 0.004*\"element\" + 0.004*\"node\" + 0.004*\"analog\"'),\n",
       " (1,\n",
       "  '0.007*\"cell\" + 0.006*\"circuit\" + 0.005*\"firing\" + 0.005*\"threshold\" + 0.004*\"current\" + 0.004*\"memory\" + 0.004*\"chain\" + 0.003*\"potential\" + 0.003*\"analog\" + 0.003*\"synaptic\"'),\n",
       " (2,\n",
       "  '0.009*\"map\" + 0.006*\"cell\" + 0.005*\"delay\" + 0.005*\"region\" + 0.005*\"cortex\" + 0.005*\"field\" + 0.004*\"fig\" + 0.004*\"et\" + 0.004*\"brain\" + 0.004*\"et_al\"'),\n",
       " (3,\n",
       "  '0.013*\"vector\" + 0.008*\"memory\" + 0.008*\"matrix\" + 0.007*\"hidden\" + 0.005*\"bit\" + 0.004*\"hopfield\" + 0.004*\"propagation\" + 0.004*\"recognition\" + 0.004*\"node\" + 0.004*\"machine\"'),\n",
       " (4,\n",
       "  '0.008*\"image\" + 0.005*\"vector\" + 0.005*\"energy\" + 0.004*\"probability\" + 0.004*\"activation\" + 0.004*\"recognition\" + 0.004*\"node\" + 0.003*\"constraint\" + 0.003*\"element\" + 0.003*\"direction\"'),\n",
       " (5,\n",
       "  '0.008*\"cell\" + 0.005*\"pulse\" + 0.004*\"response\" + 0.004*\"circuit\" + 0.004*\"human\" + 0.004*\"synaptic\" + 0.003*\"dynamic\" + 0.003*\"generalization\" + 0.003*\"fig\" + 0.003*\"probability\"'),\n",
       " (6,\n",
       "  '0.016*\"classifier\" + 0.009*\"node\" + 0.007*\"cell\" + 0.006*\"fig\" + 0.006*\"noise\" + 0.005*\"vector\" + 0.005*\"propagation\" + 0.005*\"gaussian\" + 0.005*\"response\" + 0.005*\"region\"'),\n",
       " (7,\n",
       "  '0.015*\"hidden\" + 0.007*\"hidden_unit\" + 0.005*\"node\" + 0.005*\"image\" + 0.005*\"speech\" + 0.004*\"field\" + 0.004*\"test\" + 0.004*\"propagation\" + 0.003*\"memory\" + 0.003*\"activation\"'),\n",
       " (8,\n",
       "  '0.018*\"cell\" + 0.007*\"response\" + 0.007*\"stimulus\" + 0.007*\"activity\" + 0.007*\"memory\" + 0.006*\"circuit\" + 0.005*\"firing\" + 0.005*\"spike\" + 0.005*\"current\" + 0.005*\"threshold\"'),\n",
       " (9,\n",
       "  '0.006*\"recognition\" + 0.006*\"vector\" + 0.006*\"node\" + 0.005*\"image\" + 0.005*\"object\" + 0.004*\"hidden\" + 0.004*\"matrix\" + 0.004*\"activity\" + 0.004*\"memory\" + 0.003*\"activation\"')]"
      ]
     },
     "execution_count": 153,
     "metadata": {},
     "output_type": "execute_result"
    }
   ],
   "source": [
    "model.show_topics(num_topics=10)"
   ]
  },
  {
   "cell_type": "code",
   "execution_count": 154,
   "metadata": {
    "collapsed": false
   },
   "outputs": [
    {
     "name": "stdout",
     "output_type": "stream",
     "text": [
      "\n",
      "Yaser S.Abu-Mostafa\n",
      "Docs: [62]\n",
      "[(0, 0.063956335844106579),\n",
      " (1, 0.053163242604314737),\n",
      " (2, 0.073141834026729913),\n",
      " (3, 0.15358065656122918),\n",
      " (4, 0.2154289685648422),\n",
      " (5, 0.086185792133343),\n",
      " (6, 0.088650562757781395),\n",
      " (7, 0.11268528663252109),\n",
      " (8, 0.024718901373058849),\n",
      " (9, 0.12848841950207313)]\n",
      "\n",
      "Geoffrey E. Hinton\n",
      "Docs: [143, 284, 230, 197]\n",
      "[(0, 0.12453909470072276),\n",
      " (1, 0.11653992080959714),\n",
      " (2, 0.072371812887613782),\n",
      " (3, 0.17649817519139802),\n",
      " (4, 0.052740141953525575),\n",
      " (5, 0.057163427236664309),\n",
      " (6, 0.057154031534308335),\n",
      " (7, 0.093765539006208445),\n",
      " (8, 0.1191013272803598),\n",
      " (9, 0.13012652939960184)]\n",
      "\n",
      "Michael I. Jordan\n",
      "Docs: [237]\n",
      "[(0, 0.15777961962694384),\n",
      " (1, 0.071385004095134874),\n",
      " (2, 0.093955849768421695),\n",
      " (3, 0.18282262156263937),\n",
      " (4, 0.043744614390617158),\n",
      " (5, 0.10643414059432785),\n",
      " (6, 0.044197010836679408),\n",
      " (7, 0.039139632462058517),\n",
      " (8, 0.096934587152057369),\n",
      " (9, 0.16360691951111986)]\n",
      "\n",
      "James M. Bower\n",
      "Docs: [131, 101, 126, 127, 281, 208, 225]\n",
      "[(0, 0.17491220279789674),\n",
      " (1, 0.18288880369257593),\n",
      " (2, 0.065008482222265865),\n",
      " (3, 0.052482897817207996),\n",
      " (4, 0.078872244490342899),\n",
      " (5, 0.13953722855507336),\n",
      " (6, 0.034160198829966917),\n",
      " (7, 0.081218060387068358),\n",
      " (8, 0.075958004456140232),\n",
      " (9, 0.11496187675146149)]\n"
     ]
    }
   ],
   "source": [
    "name = 'Yaser S.Abu-Mostafa'\n",
    "print('\\n%s' % name)\n",
    "print('Docs:', author2doc[name])\n",
    "pprint(model.get_author_topics(author2id[name]))\n",
    "\n",
    "name = 'Geoffrey E. Hinton'\n",
    "print('\\n%s' % name)\n",
    "print('Docs:', author2doc[name])\n",
    "pprint(model.get_author_topics(author2id[name]))\n",
    "\n",
    "name = 'Michael I. Jordan'\n",
    "print('\\n%s' % name)\n",
    "print('Docs:', author2doc[name])\n",
    "pprint(model.get_author_topics(author2id[name]))\n",
    "\n",
    "name = 'James M. Bower'\n",
    "print('\\n%s' % name)\n",
    "print('Docs:', author2doc[name])\n",
    "pprint(model.get_author_topics(author2id[name]))"
   ]
  },
  {
   "cell_type": "code",
   "execution_count": 177,
   "metadata": {
    "collapsed": false,
    "scrolled": true
   },
   "outputs": [
    {
     "name": "stdout",
     "output_type": "stream",
     "text": [
      "-6.75334000877\n",
      "-6.70998344096\n",
      "-6.68882122239\n",
      "-6.6720780584\n",
      "-6.65790946046\n",
      "-6.64568753857\n",
      "-6.63508575556\n",
      "-6.62586073078\n",
      "-6.6178073486\n",
      "-6.61074947975\n"
     ]
    }
   ],
   "source": [
    "model.update()"
   ]
  },
  {
   "cell_type": "code",
   "execution_count": 305,
   "metadata": {
    "collapsed": false
   },
   "outputs": [
    {
     "name": "stdout",
     "output_type": "stream",
     "text": [
      "Is this a new author? True\n",
      "Number of documents by author: 1\n",
      "-6.0190157986\n",
      "-5.93303699802\n",
      "-5.89706978832\n",
      "-5.87070002406\n",
      "-5.85024357659\n",
      "-5.83373120263\n",
      "-5.82001191111\n",
      "-5.80836592923\n",
      "-5.79831886651\n",
      "-5.78954605844\n"
     ]
    },
    {
     "data": {
      "text/plain": [
       "[(0, 0.1701733360072834),\n",
       " (1, 0.012369638562793309),\n",
       " (2, 0.022435297354046722),\n",
       " (3, 0.064683494549145251),\n",
       " (4, 0.14229529414449704),\n",
       " (5, 0.096406364483889423),\n",
       " (7, 0.037669655666072922),\n",
       " (8, 0.32989184827034412),\n",
       " (9, 0.12324347211255265)]"
      ]
     },
     "execution_count": 305,
     "metadata": {},
     "output_type": "execute_result"
    }
   ],
   "source": [
    "author_name = 'Behnaam Aazhang'\n",
    "print('Is this a new author?', author_name not in model.author2doc)\n",
    "docs = corpus[author2doc[author_name]]\n",
    "print('Number of documents by author:', len(docs))\n",
    "model[[docs, author_name]]"
   ]
  },
  {
   "cell_type": "code",
   "execution_count": 66,
   "metadata": {
    "collapsed": false
   },
   "outputs": [
    {
     "name": "stdout",
     "output_type": "stream",
     "text": [
      "-8.28158789368\n",
      "-6.93399371312\n",
      "CPU times: user 9.8 s, sys: 52 ms, total: 9.85 s\n",
      "Wall time: 9.85 s\n"
     ]
    }
   ],
   "source": [
    "%time model = AuthorTopicModel2(corpus=corpus, num_topics=10, id2word=dictionary.id2token, id2author=id2author, \\\n",
    "                   author2doc=author2doc, doc2author=doc2author, threshold=1e-10, \\\n",
    "                   iterations=10, passes=10, alpha=None, eta=None, decay=0.5, offset=1.0, \\\n",
    "                   eval_every=100, random_state=0, var_lambda=None, chunksize=2000)"
   ]
  },
  {
   "cell_type": "code",
   "execution_count": 104,
   "metadata": {
    "collapsed": false
   },
   "outputs": [
    {
     "name": "stdout",
     "output_type": "stream",
     "text": [
      "-8.28196869716\n",
      "-6.91135061575\n",
      "CPU times: user 9.83 s, sys: 4 ms, total: 9.83 s\n",
      "Wall time: 9.83 s\n"
     ]
    }
   ],
   "source": [
    "%time model = AuthorTopicModelOld(corpus=corpus, num_topics=10, id2word=dictionary.id2token, id2author=id2author, \\\n",
    "                   author2doc=author2doc, doc2author=doc2author, threshold=1e-10, \\\n",
    "                   iterations=10, passes=10, alpha=None, eta=None, decay=0.5, offset=1.0, \\\n",
    "                   eval_every=100, random_state=4, var_lambda=None, chunksize=2000)"
   ]
  },
  {
   "cell_type": "markdown",
   "metadata": {},
   "source": [
    "### Serialized corpus stuff"
   ]
  },
  {
   "cell_type": "code",
   "execution_count": 83,
   "metadata": {
    "collapsed": false
   },
   "outputs": [],
   "source": [
    "from itertools import chain\n",
    "from shutil import copyfile"
   ]
  },
  {
   "cell_type": "code",
   "execution_count": 92,
   "metadata": {
    "collapsed": false
   },
   "outputs": [],
   "source": [
    "corpus = []\n",
    "gensim.corpora.MmCorpus.serialize('/tmp/corpus.mm', corpus)\n",
    "corpus = gensim.corpora.MmCorpus('/tmp/corpus.mm')"
   ]
  },
  {
   "cell_type": "code",
   "execution_count": 94,
   "metadata": {
    "collapsed": false
   },
   "outputs": [],
   "source": [
    "corpus2 = [[(10,1)]]\n",
    "corpus_both = chain(corpus, corpus2)\n",
    "copyfile('/tmp/corpus.mm', '/tmp/corpus.mm.tmp')\n",
    "corpus.input = '/tmp/corpus.mm.tmp'\n",
    "gensim.corpora.MmCorpus.serialize('/tmp/corpus.mm', corpus_both)\n",
    "corpus = gensim.corpora.MmCorpus('/tmp/corpus.mm')"
   ]
  },
  {
   "cell_type": "code",
   "execution_count": 104,
   "metadata": {
    "collapsed": false
   },
   "outputs": [],
   "source": [
    "def init_empty_corpus(serialized, serialization_path):\n",
    "    if serialized:\n",
    "        # Tnitialize the corpus as a serialized empty list.\n",
    "        # This corpus will be extended in self.update.\n",
    "        MmCorpus.serialize(serialization_path, [])  # Serialize empty corpus.\n",
    "        corpus = MmCorpus(serialization_path)  # Store serialized corpus object in self.corpus.\n",
    "    else:\n",
    "        # All input corpora are assumed to just be lists.\n",
    "        corpus = []\n",
    "    return corpus\n",
    "\n",
    "def extend_corpus(old, new, serialized, serialization_path):\n",
    "    if serialized:\n",
    "        # Re-serialize the entire corpus while appending the new documents.\n",
    "        corpus_chain = chain(old, new)  # A generator with the old and new documents.\n",
    "        copyfile(serialization_path, serialization_path + '.tmp')  # Make a temporary copy of the file where the corpus is serialized.\n",
    "        old.input = serialization_path + '.tmp'  # Point the old corpus at this temporary file.\n",
    "        MmCorpus.serialize(serialization_path, corpus_chain)  # Re-serialize the old corpus, and extend it with the new corpus.\n",
    "        old = MmCorpus(serialization_path)  # Store the new serialized corpus object in self.corpus.\n",
    "    else:\n",
    "        # self.corpus and corpus are just lists, just extend the list.\n",
    "        # First check that corpus is actually a list.\n",
    "        assert isinstance(new, list), \"If serialized == False, all input corpora must be lists.\"\n",
    "        old.extend(new)\n",
    "    return old\n"
   ]
  },
  {
   "cell_type": "code",
   "execution_count": 105,
   "metadata": {
    "collapsed": false
   },
   "outputs": [],
   "source": [
    "serialized = True\n",
    "serialization_path = '/tmp/corpus.mm'\n",
    "corpus = init_empty_corpus(serialized, serialization_path)"
   ]
  },
  {
   "cell_type": "code",
   "execution_count": 107,
   "metadata": {
    "collapsed": false
   },
   "outputs": [],
   "source": [
    "corpus = extend_corpus(corpus, [[(0,1)]], serialized, serialization_path)"
   ]
  },
  {
   "cell_type": "code",
   "execution_count": 108,
   "metadata": {
    "collapsed": false
   },
   "outputs": [
    {
     "data": {
      "text/plain": [
       "[(0, 1.0)]"
      ]
     },
     "execution_count": 108,
     "metadata": {},
     "output_type": "execute_result"
    }
   ],
   "source": [
    "corpus[0]"
   ]
  },
  {
   "cell_type": "code",
   "execution_count": null,
   "metadata": {
    "collapsed": true
   },
   "outputs": [],
   "source": [
    "def corpus_gen(corpus):\n",
    "    for doc in corpus:\n",
    "        yield doc"
   ]
  },
  {
   "cell_type": "code",
   "execution_count": 163,
   "metadata": {
    "collapsed": false
   },
   "outputs": [],
   "source": [
    "corpus = [[(0,1), (10, 2)], [(1,10)]]\n",
    "corpus = corpus_gen(corpus)\n",
    "gensim.corpora.MmCorpus.serialize('/tmp/corpus.mm', corpus)\n",
    "corpus = gensim.corpora.MmCorpus('/tmp/corpus.mm')"
   ]
  },
  {
   "cell_type": "code",
   "execution_count": 336,
   "metadata": {
    "collapsed": false
   },
   "outputs": [],
   "source": [
    "corpus.input = '/tmp/corpus_temp.mm'"
   ]
  },
  {
   "cell_type": "markdown",
   "metadata": {},
   "source": [
    "### Vectorization speed-up"
   ]
  },
  {
   "cell_type": "code",
   "execution_count": 145,
   "metadata": {
    "collapsed": false
   },
   "outputs": [
    {
     "name": "stdout",
     "output_type": "stream",
     "text": [
      "Number of authors: 166\n",
      "Number of unique tokens: 681\n",
      "Number of documents: 90\n",
      "Speed-up 6.6498740554156175\n"
     ]
    }
   ],
   "source": [
    "print('Number of authors: %d' % len(author2doc))\n",
    "print('Number of unique tokens: %d' % len(dictionary))\n",
    "print('Number of documents: %d' % len(corpus))\n",
    "print('Speed-up', 2.64 / 0.397)"
   ]
  },
  {
   "cell_type": "code",
   "execution_count": 161,
   "metadata": {
    "collapsed": false
   },
   "outputs": [
    {
     "name": "stdout",
     "output_type": "stream",
     "text": [
      "Number of authors: 536\n",
      "Number of unique tokens: 2245\n",
      "Number of documents: 286\n",
      "Speed-up 5.084175084175084\n"
     ]
    }
   ],
   "source": [
    "print('Number of authors: %d' % len(author2doc))\n",
    "print('Number of unique tokens: %d' % len(dictionary))\n",
    "print('Number of documents: %d' % len(corpus))\n",
    "print('Speed-up', 15.1 / 2.97)"
   ]
  },
  {
   "cell_type": "code",
   "execution_count": 178,
   "metadata": {
    "collapsed": false
   },
   "outputs": [
    {
     "name": "stdout",
     "output_type": "stream",
     "text": [
      "Number of authors: 2720\n",
      "Number of unique tokens: 8640\n",
      "Number of documents: 1740\n",
      "Speed-up 2.4383561643835616\n"
     ]
    }
   ],
   "source": [
    "print('Number of authors: %d' % len(author2doc))\n",
    "print('Number of unique tokens: %d' % len(dictionary))\n",
    "print('Number of documents: %d' % len(corpus))\n",
    "print('Speed-up', (2 * 60 + 58) / (1 * 60 + 13))"
   ]
  },
  {
   "cell_type": "markdown",
   "metadata": {},
   "source": [
    "### Test on a small dataset"
   ]
  },
  {
   "cell_type": "code",
   "execution_count": 202,
   "metadata": {
    "collapsed": false
   },
   "outputs": [],
   "source": [
    "n_docs = 10\n",
    "\n",
    "from copy import deepcopy\n",
    "\n",
    "small_doc2author = deepcopy(dict(list(doc2author.items())[:n_docs]))\n",
    "small_doc2author = dict(small_doc2author)\n",
    "\n",
    "small_corpus = corpus[:n_docs]"
   ]
  },
  {
   "cell_type": "code",
   "execution_count": 203,
   "metadata": {
    "collapsed": false
   },
   "outputs": [],
   "source": [
    "authors_ids = set()\n",
    "for d, a_doc_ids in small_doc2author.items():\n",
    "    for a in a_doc_ids:\n",
    "        authors_ids.add(a)\n",
    "\n",
    "authors_ids = list(authors_ids)\n",
    "author_id_dict = dict(zip(authors_ids, range(len(authors_ids))))"
   ]
  },
  {
   "cell_type": "code",
   "execution_count": 204,
   "metadata": {
    "collapsed": false
   },
   "outputs": [],
   "source": [
    "for d, a_ids in small_doc2author.items():\n",
    "    for i, a in enumerate(a_ids):\n",
    "        small_doc2author[d][i] = author_id_dict[a]"
   ]
  },
  {
   "cell_type": "code",
   "execution_count": 205,
   "metadata": {
    "collapsed": false
   },
   "outputs": [],
   "source": [
    "# Make a mapping from author IDs to document IDs.\n",
    "small_author2doc = {}\n",
    "for a in range(len(author_id_dict)):\n",
    "    small_author2doc[a] = []\n",
    "    for d, a_ids in small_doc2author.items():\n",
    "        if a in a_ids:\n",
    "            small_author2doc[a].append(d)"
   ]
  },
  {
   "cell_type": "code",
   "execution_count": 206,
   "metadata": {
    "collapsed": false
   },
   "outputs": [],
   "source": [
    "\n",
    "author_id_dict_rev = dict(zip(range(len(authors_ids)), authors_ids))\n",
    "\n",
    "small_id2author = {}\n",
    "for a, a_id in author_id_dict_rev.items():\n",
    "    small_id2author[a] = id2author[a_id]"
   ]
  },
  {
   "cell_type": "code",
   "execution_count": 207,
   "metadata": {
    "collapsed": false
   },
   "outputs": [
    {
     "name": "stdout",
     "output_type": "stream",
     "text": [
      "phi is 10 x 681 x 10 (68100 elements)\n",
      "mu is 10 x 681 x 21 (143010 elements)\n"
     ]
    }
   ],
   "source": [
    "print('phi is %d x %d x %d (%d elements)' %(len(small_corpus), len(dictionary.id2token), 10,\n",
    "                                            len(small_corpus) * len(dictionary.id2token) * 10))\n",
    "print('mu is %d x %d x %d (%d elements)' %(len(small_corpus), len(dictionary.id2token), len(small_author2doc),\n",
    "                                            len(small_corpus) * len(dictionary.id2token) * len(small_author2doc)))"
   ]
  },
  {
   "cell_type": "markdown",
   "metadata": {
    "collapsed": true
   },
   "source": [
    "## LDA"
   ]
  },
  {
   "cell_type": "code",
   "execution_count": 183,
   "metadata": {
    "collapsed": false
   },
   "outputs": [],
   "source": [
    "reload(ldamodel)\n",
    "LdaModel = ldamodel.LdaModel"
   ]
  },
  {
   "cell_type": "code",
   "execution_count": 184,
   "metadata": {
    "collapsed": false
   },
   "outputs": [
    {
     "name": "stdout",
     "output_type": "stream",
     "text": [
      "CPU times: user 6.13 s, sys: 24 ms, total: 6.16 s\n",
      "Wall time: 6.15 s\n"
     ]
    }
   ],
   "source": [
    "%time lda = LdaModel(corpus=corpus, num_topics=10, id2word=dictionary.id2token, passes=10, gamma_threshold=1e-10, \\\n",
    "               iterations=10, alpha='symmetric', eta='symmetric', eval_every=0, chunksize=2000, random_state=1)"
   ]
  },
  {
   "cell_type": "code",
   "execution_count": 185,
   "metadata": {
    "collapsed": false
   },
   "outputs": [
    {
     "name": "stdout",
     "output_type": "stream",
     "text": [
      "CPU times: user 304 ms, sys: 0 ns, total: 304 ms\n",
      "Wall time: 303 ms\n",
      "Bound: -2.424e+05\n"
     ]
    }
   ],
   "source": [
    "%time lda_bound = lda.bound(sample(corpus, 10))\n",
    "print('Bound: %.3e' % lda_bound)"
   ]
  },
  {
   "cell_type": "code",
   "execution_count": 201,
   "metadata": {
    "collapsed": false
   },
   "outputs": [
    {
     "name": "stdout",
     "output_type": "stream",
     "text": [
      "CPU times: user 308 ms, sys: 0 ns, total: 308 ms\n",
      "Wall time: 303 ms\n",
      "Bound: -3.365e+05\n"
     ]
    }
   ],
   "source": [
    "%time lda_bound = lda.bound(sample(corpus, 10))\n",
    "print('Bound: %.3e' % lda_bound)"
   ]
  },
  {
   "cell_type": "code",
   "execution_count": 326,
   "metadata": {
    "collapsed": false
   },
   "outputs": [
    {
     "data": {
      "text/plain": [
       "[(0,\n",
       "  '0.014*\"hidden\" + 0.014*\"speech\" + 0.011*\"recognition\" + 0.007*\"hidden_unit\" + 0.006*\"propagation\" + 0.006*\"trained\" + 0.006*\"back_propagation\" + 0.006*\"test\" + 0.005*\"image\" + 0.005*\"classification\"'),\n",
       " (1,\n",
       "  '0.011*\"field\" + 0.008*\"receptive\" + 0.008*\"cell\" + 0.008*\"receptive_field\" + 0.007*\"direction\" + 0.007*\"energy\" + 0.007*\"motion\" + 0.006*\"visual\" + 0.006*\"noise\" + 0.005*\"activity\"'),\n",
       " (2,\n",
       "  '0.011*\"region\" + 0.009*\"memory\" + 0.009*\"delay\" + 0.008*\"chain\" + 0.007*\"fig\" + 0.006*\"matrix\" + 0.006*\"cell\" + 0.006*\"hopfield\" + 0.005*\"field\" + 0.005*\"stability\"'),\n",
       " (3,\n",
       "  '0.026*\"cell\" + 0.010*\"circuit\" + 0.010*\"response\" + 0.010*\"chip\" + 0.010*\"synaptic\" + 0.010*\"stimulus\" + 0.009*\"synapse\" + 0.009*\"cortex\" + 0.008*\"synapsis\" + 0.008*\"pulse\"'),\n",
       " (4,\n",
       "  '0.018*\"node\" + 0.012*\"activation\" + 0.010*\"processor\" + 0.009*\"object\" + 0.008*\"role\" + 0.006*\"connectionist\" + 0.005*\"current\" + 0.005*\"element\" + 0.005*\"machine\" + 0.005*\"update\"'),\n",
       " (5,\n",
       "  '0.017*\"vector\" + 0.012*\"hidden\" + 0.008*\"matrix\" + 0.006*\"hidden_unit\" + 0.005*\"probability\" + 0.005*\"gradient\" + 0.005*\"let\" + 0.004*\"convergence\" + 0.004*\"sequence\" + 0.004*\"propagation\"'),\n",
       " (6,\n",
       "  '0.018*\"cell\" + 0.013*\"firing\" + 0.010*\"spike\" + 0.009*\"current\" + 0.008*\"activity\" + 0.008*\"response\" + 0.008*\"frequency\" + 0.007*\"circuit\" + 0.006*\"synaptic\" + 0.006*\"potential\"'),\n",
       " (7,\n",
       "  '0.019*\"image\" + 0.009*\"map\" + 0.006*\"field\" + 0.006*\"object\" + 0.005*\"probability\" + 0.005*\"fig\" + 0.004*\"human\" + 0.004*\"visual\" + 0.004*\"strategy\" + 0.004*\"pixel\"'),\n",
       " (8,\n",
       "  '0.019*\"classifier\" + 0.019*\"memory\" + 0.009*\"bit\" + 0.008*\"node\" + 0.008*\"vector\" + 0.008*\"hidden\" + 0.006*\"neural_net\" + 0.006*\"sample\" + 0.006*\"decision\" + 0.006*\"recognition\"'),\n",
       " (9,\n",
       "  '0.015*\"constraint\" + 0.008*\"orientation\" + 0.008*\"optimization\" + 0.006*\"constrained\" + 0.006*\"visual\" + 0.005*\"differential\" + 0.005*\"map\" + 0.005*\"joint\" + 0.005*\"speaker\" + 0.004*\"noise\"')]"
      ]
     },
     "execution_count": 326,
     "metadata": {},
     "output_type": "execute_result"
    }
   ],
   "source": [
    "lda.show_topics()"
   ]
  },
  {
   "cell_type": "markdown",
   "metadata": {},
   "source": [
    "## Plots"
   ]
  },
  {
   "cell_type": "code",
   "execution_count": 89,
   "metadata": {
    "collapsed": false
   },
   "outputs": [],
   "source": [
    "from bokeh.io import output_notebook\n",
    "from bokeh.models.layouts import Row, Column\n",
    "from bokeh.models import Title, Legend\n",
    "from bokeh.plotting import figure, output_file, show"
   ]
  },
  {
   "cell_type": "code",
   "execution_count": 90,
   "metadata": {
    "collapsed": false
   },
   "outputs": [
    {
     "data": {
      "text/html": [
       "\n",
       "    <div class=\"bk-root\">\n",
       "        <a href=\"http://bokeh.pydata.org\" target=\"_blank\" class=\"bk-logo bk-logo-small bk-logo-notebook\"></a>\n",
       "        <span id=\"87c57a20-05a4-4e89-a4b4-c2627090f39d\">Loading BokehJS ...</span>\n",
       "    </div>"
      ]
     },
     "metadata": {},
     "output_type": "display_data"
    },
    {
     "data": {
      "application/javascript": [
       "\n",
       "(function(global) {\n",
       "  function now() {\n",
       "    return new Date();\n",
       "  }\n",
       "\n",
       "  var force = \"1\";\n",
       "\n",
       "  if (typeof (window._bokeh_onload_callbacks) === \"undefined\" || force !== \"\") {\n",
       "    window._bokeh_onload_callbacks = [];\n",
       "    window._bokeh_is_loading = undefined;\n",
       "  }\n",
       "\n",
       "\n",
       "  \n",
       "  if (typeof (window._bokeh_timeout) === \"undefined\" || force !== \"\") {\n",
       "    window._bokeh_timeout = Date.now() + 5000;\n",
       "    window._bokeh_failed_load = false;\n",
       "  }\n",
       "\n",
       "  var NB_LOAD_WARNING = {'data': {'text/html':\n",
       "     \"<div style='background-color: #fdd'>\\n\"+\n",
       "     \"<p>\\n\"+\n",
       "     \"BokehJS does not appear to have successfully loaded. If loading BokehJS from CDN, this \\n\"+\n",
       "     \"may be due to a slow or bad network connection. Possible fixes:\\n\"+\n",
       "     \"</p>\\n\"+\n",
       "     \"<ul>\\n\"+\n",
       "     \"<li>re-rerun `output_notebook()` to attempt to load from CDN again, or</li>\\n\"+\n",
       "     \"<li>use INLINE resources instead, as so:</li>\\n\"+\n",
       "     \"</ul>\\n\"+\n",
       "     \"<code>\\n\"+\n",
       "     \"from bokeh.resources import INLINE\\n\"+\n",
       "     \"output_notebook(resources=INLINE)\\n\"+\n",
       "     \"</code>\\n\"+\n",
       "     \"</div>\"}};\n",
       "\n",
       "  function display_loaded() {\n",
       "    if (window.Bokeh !== undefined) {\n",
       "      Bokeh.$(\"#87c57a20-05a4-4e89-a4b4-c2627090f39d\").text(\"BokehJS successfully loaded.\");\n",
       "    } else if (Date.now() < window._bokeh_timeout) {\n",
       "      setTimeout(display_loaded, 100)\n",
       "    }\n",
       "  }\n",
       "\n",
       "  function run_callbacks() {\n",
       "    window._bokeh_onload_callbacks.forEach(function(callback) { callback() });\n",
       "    delete window._bokeh_onload_callbacks\n",
       "    console.info(\"Bokeh: all callbacks have finished\");\n",
       "  }\n",
       "\n",
       "  function load_libs(js_urls, callback) {\n",
       "    window._bokeh_onload_callbacks.push(callback);\n",
       "    if (window._bokeh_is_loading > 0) {\n",
       "      console.log(\"Bokeh: BokehJS is being loaded, scheduling callback at\", now());\n",
       "      return null;\n",
       "    }\n",
       "    if (js_urls == null || js_urls.length === 0) {\n",
       "      run_callbacks();\n",
       "      return null;\n",
       "    }\n",
       "    console.log(\"Bokeh: BokehJS not loaded, scheduling load and callback at\", now());\n",
       "    window._bokeh_is_loading = js_urls.length;\n",
       "    for (var i = 0; i < js_urls.length; i++) {\n",
       "      var url = js_urls[i];\n",
       "      var s = document.createElement('script');\n",
       "      s.src = url;\n",
       "      s.async = false;\n",
       "      s.onreadystatechange = s.onload = function() {\n",
       "        window._bokeh_is_loading--;\n",
       "        if (window._bokeh_is_loading === 0) {\n",
       "          console.log(\"Bokeh: all BokehJS libraries loaded\");\n",
       "          run_callbacks()\n",
       "        }\n",
       "      };\n",
       "      s.onerror = function() {\n",
       "        console.warn(\"failed to load library \" + url);\n",
       "      };\n",
       "      console.log(\"Bokeh: injecting script tag for BokehJS library: \", url);\n",
       "      document.getElementsByTagName(\"head\")[0].appendChild(s);\n",
       "    }\n",
       "  };var element = document.getElementById(\"87c57a20-05a4-4e89-a4b4-c2627090f39d\");\n",
       "  if (element == null) {\n",
       "    console.log(\"Bokeh: ERROR: autoload.js configured with elementid '87c57a20-05a4-4e89-a4b4-c2627090f39d' but no matching script tag was found. \")\n",
       "    return false;\n",
       "  }\n",
       "\n",
       "  var js_urls = ['https://cdn.pydata.org/bokeh/release/bokeh-0.12.3.min.js', 'https://cdn.pydata.org/bokeh/release/bokeh-widgets-0.12.3.min.js'];\n",
       "\n",
       "  var inline_js = [\n",
       "    function(Bokeh) {\n",
       "      Bokeh.set_log_level(\"info\");\n",
       "    },\n",
       "    \n",
       "    function(Bokeh) {\n",
       "      \n",
       "      Bokeh.$(\"#87c57a20-05a4-4e89-a4b4-c2627090f39d\").text(\"BokehJS is loading...\");\n",
       "    },\n",
       "    function(Bokeh) {\n",
       "      console.log(\"Bokeh: injecting CSS: https://cdn.pydata.org/bokeh/release/bokeh-0.12.3.min.css\");\n",
       "      Bokeh.embed.inject_css(\"https://cdn.pydata.org/bokeh/release/bokeh-0.12.3.min.css\");\n",
       "      console.log(\"Bokeh: injecting CSS: https://cdn.pydata.org/bokeh/release/bokeh-widgets-0.12.3.min.css\");\n",
       "      Bokeh.embed.inject_css(\"https://cdn.pydata.org/bokeh/release/bokeh-widgets-0.12.3.min.css\");\n",
       "    }\n",
       "  ];\n",
       "\n",
       "  function run_inline_js() {\n",
       "    \n",
       "    if ((window.Bokeh !== undefined) || (force === \"1\")) {\n",
       "      for (var i = 0; i < inline_js.length; i++) {\n",
       "        inline_js[i](window.Bokeh);\n",
       "      }if (force === \"1\") {\n",
       "        display_loaded();\n",
       "      }} else if (Date.now() < window._bokeh_timeout) {\n",
       "      setTimeout(run_inline_js, 100);\n",
       "    } else if (!window._bokeh_failed_load) {\n",
       "      console.log(\"Bokeh: BokehJS failed to load within specified timeout.\");\n",
       "      window._bokeh_failed_load = true;\n",
       "    } else if (!force) {\n",
       "      var cell = $(\"#87c57a20-05a4-4e89-a4b4-c2627090f39d\").parents('.cell').data().cell;\n",
       "      cell.output_area.append_execute_result(NB_LOAD_WARNING)\n",
       "    }\n",
       "\n",
       "  }\n",
       "\n",
       "  if (window._bokeh_is_loading === 0) {\n",
       "    console.log(\"Bokeh: BokehJS loaded, going straight to plotting\");\n",
       "    run_inline_js();\n",
       "  } else {\n",
       "    load_libs(js_urls, function() {\n",
       "      console.log(\"Bokeh: BokehJS plotting callback run at\", now());\n",
       "      run_inline_js();\n",
       "    });\n",
       "  }\n",
       "}(this));"
      ]
     },
     "metadata": {},
     "output_type": "display_data"
    }
   ],
   "source": [
    "output_notebook()"
   ]
  },
  {
   "cell_type": "code",
   "execution_count": 101,
   "metadata": {
    "collapsed": false
   },
   "outputs": [
    {
     "name": "stdout",
     "output_type": "stream",
     "text": [
      "[-8.2268124131006175, -6.9537044366488798, -6.9219607839123887, -6.894414237250329, -6.8689542686648819, -6.8447258437974066, -6.8216878633917295, -6.8002809924812544, -6.7810529233013082, -6.7643492394144529]\n"
     ]
    }
   ],
   "source": [
    "print(model.perwordbound)"
   ]
  },
  {
   "cell_type": "code",
   "execution_count": 103,
   "metadata": {
    "collapsed": false
   },
   "outputs": [],
   "source": [
    "sym_bound = [-8.2268124131006175, -7.0028312886986592, -6.9983353496896177, -6.9920334045252472, -6.9834462646550692, -6.9724080682148131, -6.959010673469697, -6.9436014751446384, -6.9267331557797345, -6.9090211704296633]\n",
    "alpha_auto_bound = [-8.2268124131006175, -6.9932405146123067, -6.9832943275841428, -6.9727565892336711, -6.9609464524488551, -6.9476614401472379, -6.9330202055642625, -6.9173822631441642, -6.9012200919426148, -6.8849715273282976]\n",
    "eta_auto = [-8.2268124131006175, -6.9632952107352324, -6.9370024957065883, -6.9136966964250792, -6.8914783308986083, -6.8695469093457477, -6.8478606164307889, -6.8268741286187042, -6.8072291640504838, -6.7894361810128938]\n",
    "both_auto = [-8.2268124131006175, -6.9537044366488798, -6.9219607839123887, -6.894414237250329, -6.8689542686648819, -6.8447258437974066, -6.8216878633917295, -6.8002809924812544, -6.7810529233013082, -6.7643492394144529]"
   ]
  },
  {
   "cell_type": "code",
   "execution_count": 105,
   "metadata": {
    "collapsed": false
   },
   "outputs": [
    {
     "data": {
      "text/html": [
       "\n",
       "\n",
       "    <div class=\"bk-root\">\n",
       "        <div class=\"plotdiv\" id=\"5dfd6c37-441d-4433-853e-b253203c36df\"></div>\n",
       "    </div>\n",
       "<script type=\"text/javascript\">\n",
       "  \n",
       "  (function(global) {\n",
       "    function now() {\n",
       "      return new Date();\n",
       "    }\n",
       "  \n",
       "    var force = \"\";\n",
       "  \n",
       "    if (typeof (window._bokeh_onload_callbacks) === \"undefined\" || force !== \"\") {\n",
       "      window._bokeh_onload_callbacks = [];\n",
       "      window._bokeh_is_loading = undefined;\n",
       "    }\n",
       "  \n",
       "  \n",
       "    \n",
       "    if (typeof (window._bokeh_timeout) === \"undefined\" || force !== \"\") {\n",
       "      window._bokeh_timeout = Date.now() + 0;\n",
       "      window._bokeh_failed_load = false;\n",
       "    }\n",
       "  \n",
       "    var NB_LOAD_WARNING = {'data': {'text/html':\n",
       "       \"<div style='background-color: #fdd'>\\n\"+\n",
       "       \"<p>\\n\"+\n",
       "       \"BokehJS does not appear to have successfully loaded. If loading BokehJS from CDN, this \\n\"+\n",
       "       \"may be due to a slow or bad network connection. Possible fixes:\\n\"+\n",
       "       \"</p>\\n\"+\n",
       "       \"<ul>\\n\"+\n",
       "       \"<li>re-rerun `output_notebook()` to attempt to load from CDN again, or</li>\\n\"+\n",
       "       \"<li>use INLINE resources instead, as so:</li>\\n\"+\n",
       "       \"</ul>\\n\"+\n",
       "       \"<code>\\n\"+\n",
       "       \"from bokeh.resources import INLINE\\n\"+\n",
       "       \"output_notebook(resources=INLINE)\\n\"+\n",
       "       \"</code>\\n\"+\n",
       "       \"</div>\"}};\n",
       "  \n",
       "    function display_loaded() {\n",
       "      if (window.Bokeh !== undefined) {\n",
       "        Bokeh.$(\"#5dfd6c37-441d-4433-853e-b253203c36df\").text(\"BokehJS successfully loaded.\");\n",
       "      } else if (Date.now() < window._bokeh_timeout) {\n",
       "        setTimeout(display_loaded, 100)\n",
       "      }\n",
       "    }\n",
       "  \n",
       "    function run_callbacks() {\n",
       "      window._bokeh_onload_callbacks.forEach(function(callback) { callback() });\n",
       "      delete window._bokeh_onload_callbacks\n",
       "      console.info(\"Bokeh: all callbacks have finished\");\n",
       "    }\n",
       "  \n",
       "    function load_libs(js_urls, callback) {\n",
       "      window._bokeh_onload_callbacks.push(callback);\n",
       "      if (window._bokeh_is_loading > 0) {\n",
       "        console.log(\"Bokeh: BokehJS is being loaded, scheduling callback at\", now());\n",
       "        return null;\n",
       "      }\n",
       "      if (js_urls == null || js_urls.length === 0) {\n",
       "        run_callbacks();\n",
       "        return null;\n",
       "      }\n",
       "      console.log(\"Bokeh: BokehJS not loaded, scheduling load and callback at\", now());\n",
       "      window._bokeh_is_loading = js_urls.length;\n",
       "      for (var i = 0; i < js_urls.length; i++) {\n",
       "        var url = js_urls[i];\n",
       "        var s = document.createElement('script');\n",
       "        s.src = url;\n",
       "        s.async = false;\n",
       "        s.onreadystatechange = s.onload = function() {\n",
       "          window._bokeh_is_loading--;\n",
       "          if (window._bokeh_is_loading === 0) {\n",
       "            console.log(\"Bokeh: all BokehJS libraries loaded\");\n",
       "            run_callbacks()\n",
       "          }\n",
       "        };\n",
       "        s.onerror = function() {\n",
       "          console.warn(\"failed to load library \" + url);\n",
       "        };\n",
       "        console.log(\"Bokeh: injecting script tag for BokehJS library: \", url);\n",
       "        document.getElementsByTagName(\"head\")[0].appendChild(s);\n",
       "      }\n",
       "    };var element = document.getElementById(\"5dfd6c37-441d-4433-853e-b253203c36df\");\n",
       "    if (element == null) {\n",
       "      console.log(\"Bokeh: ERROR: autoload.js configured with elementid '5dfd6c37-441d-4433-853e-b253203c36df' but no matching script tag was found. \")\n",
       "      return false;\n",
       "    }\n",
       "  \n",
       "    var js_urls = [];\n",
       "  \n",
       "    var inline_js = [\n",
       "      function(Bokeh) {\n",
       "        Bokeh.$(function() {\n",
       "            var docs_json = {\"6033b3c6-cce8-4f49-9326-207b4c0249af\":{\"roots\":{\"references\":[{\"attributes\":{\"plot\":null,\"text\":\"Variational lower bound\"},\"id\":\"e59dfb0a-786b-4a2f-a01b-0885923a69e9\",\"type\":\"Title\"},{\"attributes\":{\"x\":{\"field\":\"x\"},\"y\":{\"field\":\"y\"}},\"id\":\"120c7a6a-95f0-4fec-b507-ad1f51a7c680\",\"type\":\"Line\"},{\"attributes\":{\"data_source\":{\"id\":\"420f3f98-b3ca-4110-9d77-b3a6015ec549\",\"type\":\"ColumnDataSource\"},\"glyph\":{\"id\":\"5302e99d-2981-4212-9e4b-d5135dcf7370\",\"type\":\"Circle\"},\"hover_glyph\":null,\"nonselection_glyph\":{\"id\":\"e956c16d-9294-4789-b595-602997d3b244\",\"type\":\"Circle\"},\"selection_glyph\":null},\"id\":\"739ea50e-678e-4e64-8e92-eca3c22fc6a7\",\"type\":\"GlyphRenderer\"},{\"attributes\":{\"fill_alpha\":{\"value\":0.1},\"fill_color\":{\"value\":\"#1f77b4\"},\"line_alpha\":{\"value\":0.1},\"line_color\":{\"value\":\"#1f77b4\"},\"x\":{\"field\":\"x\"},\"y\":{\"field\":\"y\"}},\"id\":\"11f008ca-be47-4138-82cf-11bb0e19c298\",\"type\":\"Circle\"},{\"attributes\":{\"label\":{\"value\":\"eta auto\"},\"renderers\":[{\"id\":\"a7a464ea-c383-4e75-ba43-cc42eb59becc\",\"type\":\"GlyphRenderer\"}]},\"id\":\"320627a8-1ce9-4875-8ddf-c477b6f52842\",\"type\":\"LegendItem\"},{\"attributes\":{\"plot\":{\"id\":\"6ac62220-00c5-40a2-b5ad-1570c37ebb1d\",\"subtype\":\"Figure\",\"type\":\"Plot\"}},\"id\":\"8b1380a2-14c7-46b9-9546-cbe6870b8f28\",\"type\":\"ResetTool\"},{\"attributes\":{\"line_alpha\":{\"value\":0.1},\"line_color\":{\"value\":\"#1f77b4\"},\"x\":{\"field\":\"x\"},\"y\":{\"field\":\"y\"}},\"id\":\"d029922f-7b8b-46ad-a299-2096a3e4d9da\",\"type\":\"Line\"},{\"attributes\":{\"active_drag\":\"auto\",\"active_scroll\":\"auto\",\"active_tap\":\"auto\",\"tools\":[{\"id\":\"d4f03dde-e3db-4b38-af36-c6a85d08e4e0\",\"type\":\"PanTool\"},{\"id\":\"39c53d3c-1188-424c-a590-2b3e343fa68d\",\"type\":\"WheelZoomTool\"},{\"id\":\"34b0c74d-2427-4406-94cc-5522c39937b2\",\"type\":\"BoxZoomTool\"},{\"id\":\"5e16beec-5722-4573-9006-21dd6aa75f3e\",\"type\":\"SaveTool\"},{\"id\":\"8b1380a2-14c7-46b9-9546-cbe6870b8f28\",\"type\":\"ResetTool\"},{\"id\":\"d105ef7a-8630-4dd0-9c9a-fbfa699b9b19\",\"type\":\"HelpTool\"}]},\"id\":\"acfb80d1-0f31-4ec0-84ff-01e0175eb311\",\"type\":\"Toolbar\"},{\"attributes\":{\"plot\":{\"id\":\"6ac62220-00c5-40a2-b5ad-1570c37ebb1d\",\"subtype\":\"Figure\",\"type\":\"Plot\"}},\"id\":\"d4f03dde-e3db-4b38-af36-c6a85d08e4e0\",\"type\":\"PanTool\"},{\"attributes\":{\"plot\":{\"id\":\"6ac62220-00c5-40a2-b5ad-1570c37ebb1d\",\"subtype\":\"Figure\",\"type\":\"Plot\"}},\"id\":\"5e16beec-5722-4573-9006-21dd6aa75f3e\",\"type\":\"SaveTool\"},{\"attributes\":{},\"id\":\"a8e4dee2-3dde-4541-9512-d0c534df3b39\",\"type\":\"BasicTickFormatter\"},{\"attributes\":{\"callback\":null,\"column_names\":[\"x\",\"y\"],\"data\":{\"x\":[0,1,2,3,4,5,6,7,8,9],\"y\":[-8.226812413100618,-6.993240514612307,-6.983294327584143,-6.972756589233671,-6.960946452448855,-6.947661440147238,-6.9330202055642625,-6.917382263144164,-6.901220091942615,-6.884971527328298]}},\"id\":\"cf608857-adb4-4419-b8ec-69cda8619573\",\"type\":\"ColumnDataSource\"},{\"attributes\":{\"fill_color\":{\"value\":\"green\"},\"line_color\":{\"value\":\"green\"},\"x\":{\"field\":\"x\"},\"y\":{\"field\":\"y\"}},\"id\":\"eaa5610d-6774-4307-8793-56e1151e2a37\",\"type\":\"Circle\"},{\"attributes\":{\"plot\":{\"id\":\"6ac62220-00c5-40a2-b5ad-1570c37ebb1d\",\"subtype\":\"Figure\",\"type\":\"Plot\"}},\"id\":\"d105ef7a-8630-4dd0-9c9a-fbfa699b9b19\",\"type\":\"HelpTool\"},{\"attributes\":{\"fill_color\":{\"value\":\"red\"},\"line_color\":{\"value\":\"red\"},\"x\":{\"field\":\"x\"},\"y\":{\"field\":\"y\"}},\"id\":\"5302e99d-2981-4212-9e4b-d5135dcf7370\",\"type\":\"Circle\"},{\"attributes\":{\"fill_color\":{\"value\":\"blue\"},\"line_color\":{\"value\":\"blue\"},\"x\":{\"field\":\"x\"},\"y\":{\"field\":\"y\"}},\"id\":\"647460d2-c9f5-4bf1-9244-b1699fa36f26\",\"type\":\"Circle\"},{\"attributes\":{\"items\":[{\"id\":\"864254e5-f2b9-400b-8cfc-665d7a4dc0d4\",\"type\":\"LegendItem\"},{\"id\":\"db3a0137-a616-48fe-9a31-66806dccba64\",\"type\":\"LegendItem\"},{\"id\":\"320627a8-1ce9-4875-8ddf-c477b6f52842\",\"type\":\"LegendItem\"},{\"id\":\"5b443c9a-c9ef-41a9-83d7-f3ee4dc5dfbd\",\"type\":\"LegendItem\"}],\"location\":[-150.0,-200.0],\"plot\":{\"id\":\"6ac62220-00c5-40a2-b5ad-1570c37ebb1d\",\"subtype\":\"Figure\",\"type\":\"Plot\"}},\"id\":\"dcfdc95d-6a26-424e-8a91-7d047d48a771\",\"type\":\"Legend\"},{\"attributes\":{\"axis_label\":\"Iterations\",\"formatter\":{\"id\":\"e063e8db-e085-41d0-a6c6-0c1bf02f685e\",\"type\":\"BasicTickFormatter\"},\"plot\":{\"id\":\"6ac62220-00c5-40a2-b5ad-1570c37ebb1d\",\"subtype\":\"Figure\",\"type\":\"Plot\"},\"ticker\":{\"id\":\"ee680559-1666-4b8e-b204-56f93cfc06a9\",\"type\":\"BasicTicker\"}},\"id\":\"09e454d2-2996-4f57-99fd-2032394184c4\",\"type\":\"LinearAxis\"},{\"attributes\":{\"line_alpha\":{\"value\":0.1},\"line_color\":{\"value\":\"#1f77b4\"},\"x\":{\"field\":\"x\"},\"y\":{\"field\":\"y\"}},\"id\":\"fd6ce0d4-79ed-428a-b882-29f9a433a7eb\",\"type\":\"Line\"},{\"attributes\":{\"label\":{\"value\":\"alpha auto\"},\"renderers\":[{\"id\":\"88c11686-4e60-441f-8919-4f8a43945352\",\"type\":\"GlyphRenderer\"}]},\"id\":\"db3a0137-a616-48fe-9a31-66806dccba64\",\"type\":\"LegendItem\"},{\"attributes\":{\"dimension\":1,\"plot\":{\"id\":\"6ac62220-00c5-40a2-b5ad-1570c37ebb1d\",\"subtype\":\"Figure\",\"type\":\"Plot\"},\"ticker\":{\"id\":\"415dfb53-2d6d-440b-be50-679519794564\",\"type\":\"BasicTicker\"}},\"id\":\"161ebe32-1fe1-4cff-aa56-fc4780311a1f\",\"type\":\"Grid\"},{\"attributes\":{\"overlay\":{\"id\":\"999fd1eb-2a33-427d-82e5-c7e125e5e9b9\",\"type\":\"BoxAnnotation\"},\"plot\":{\"id\":\"6ac62220-00c5-40a2-b5ad-1570c37ebb1d\",\"subtype\":\"Figure\",\"type\":\"Plot\"}},\"id\":\"34b0c74d-2427-4406-94cc-5522c39937b2\",\"type\":\"BoxZoomTool\"},{\"attributes\":{},\"id\":\"ee680559-1666-4b8e-b204-56f93cfc06a9\",\"type\":\"BasicTicker\"},{\"attributes\":{\"fill_alpha\":{\"value\":0.1},\"fill_color\":{\"value\":\"#1f77b4\"},\"line_alpha\":{\"value\":0.1},\"line_color\":{\"value\":\"#1f77b4\"},\"x\":{\"field\":\"x\"},\"y\":{\"field\":\"y\"}},\"id\":\"e956c16d-9294-4789-b595-602997d3b244\",\"type\":\"Circle\"},{\"attributes\":{\"data_source\":{\"id\":\"5f9fa946-0011-4bc1-afe2-ed3315717759\",\"type\":\"ColumnDataSource\"},\"glyph\":{\"id\":\"eaa5610d-6774-4307-8793-56e1151e2a37\",\"type\":\"Circle\"},\"hover_glyph\":null,\"nonselection_glyph\":{\"id\":\"689f529f-517e-483c-b266-5726d91dff69\",\"type\":\"Circle\"},\"selection_glyph\":null},\"id\":\"8d614ffe-9d4e-4cb0-b691-9f8d07bf457b\",\"type\":\"GlyphRenderer\"},{\"attributes\":{},\"id\":\"415dfb53-2d6d-440b-be50-679519794564\",\"type\":\"BasicTicker\"},{\"attributes\":{\"plot\":{\"id\":\"6ac62220-00c5-40a2-b5ad-1570c37ebb1d\",\"subtype\":\"Figure\",\"type\":\"Plot\"},\"ticker\":{\"id\":\"ee680559-1666-4b8e-b204-56f93cfc06a9\",\"type\":\"BasicTicker\"}},\"id\":\"90ef6836-4a2f-4a5b-b3a0-64b4edede3c1\",\"type\":\"Grid\"},{\"attributes\":{},\"id\":\"dd783b34-e796-4257-9f07-a1262138b990\",\"type\":\"ToolEvents\"},{\"attributes\":{\"label\":{\"value\":\"both auto\"},\"renderers\":[{\"id\":\"1c2fc286-75c8-4084-8677-0ae5293875e3\",\"type\":\"GlyphRenderer\"}]},\"id\":\"5b443c9a-c9ef-41a9-83d7-f3ee4dc5dfbd\",\"type\":\"LegendItem\"},{\"attributes\":{\"callback\":null,\"column_names\":[\"x\",\"y\"],\"data\":{\"x\":[0,1,2,3,4,5,6,7,8,9],\"y\":[-8.226812413100618,-6.95370443664888,-6.921960783912389,-6.894414237250329,-6.868954268664882,-6.844725843797407,-6.8216878633917295,-6.800280992481254,-6.781052923301308,-6.764349239414453]}},\"id\":\"aaa4bdbb-536d-4a7e-b79f-3ef5530864c6\",\"type\":\"ColumnDataSource\"},{\"attributes\":{\"data_source\":{\"id\":\"8a9a7d3b-5194-4e52-afe2-35d2ed2f009c\",\"type\":\"ColumnDataSource\"},\"glyph\":{\"id\":\"120c7a6a-95f0-4fec-b507-ad1f51a7c680\",\"type\":\"Line\"},\"hover_glyph\":null,\"nonselection_glyph\":{\"id\":\"b95148a9-40e7-4079-93a6-237d8243549a\",\"type\":\"Line\"},\"selection_glyph\":null},\"id\":\"1c2fc286-75c8-4084-8677-0ae5293875e3\",\"type\":\"GlyphRenderer\"},{\"attributes\":{\"fill_color\":{\"value\":\"black\"},\"x\":{\"field\":\"x\"},\"y\":{\"field\":\"y\"}},\"id\":\"db706fd9-7663-444c-8889-5cba9a8ea7dc\",\"type\":\"Circle\"},{\"attributes\":{\"data_source\":{\"id\":\"3afebe4d-6da2-42fc-9ae5-3c66a9f9bcfe\",\"type\":\"ColumnDataSource\"},\"glyph\":{\"id\":\"50bb2055-bab5-43b0-b3c9-902526f8865f\",\"type\":\"Line\"},\"hover_glyph\":null,\"nonselection_glyph\":{\"id\":\"d029922f-7b8b-46ad-a299-2096a3e4d9da\",\"type\":\"Line\"},\"selection_glyph\":null},\"id\":\"a7a464ea-c383-4e75-ba43-cc42eb59becc\",\"type\":\"GlyphRenderer\"},{\"attributes\":{\"fill_alpha\":{\"value\":0.1},\"fill_color\":{\"value\":\"#1f77b4\"},\"line_alpha\":{\"value\":0.1},\"line_color\":{\"value\":\"#1f77b4\"},\"x\":{\"field\":\"x\"},\"y\":{\"field\":\"y\"}},\"id\":\"1387f9c1-0296-4bea-98cd-4b95b43863b1\",\"type\":\"Circle\"},{\"attributes\":{\"line_color\":{\"value\":\"green\"},\"x\":{\"field\":\"x\"},\"y\":{\"field\":\"y\"}},\"id\":\"50bb2055-bab5-43b0-b3c9-902526f8865f\",\"type\":\"Line\"},{\"attributes\":{\"line_alpha\":{\"value\":0.1},\"line_color\":{\"value\":\"#1f77b4\"},\"x\":{\"field\":\"x\"},\"y\":{\"field\":\"y\"}},\"id\":\"b95148a9-40e7-4079-93a6-237d8243549a\",\"type\":\"Line\"},{\"attributes\":{\"callback\":null,\"column_names\":[\"x\",\"y\"],\"data\":{\"x\":[0,1,2,3,4,5,6,7,8,9],\"y\":[-8.226812413100618,-7.002831288698659,-6.998335349689618,-6.992033404525247,-6.983446264655069,-6.972408068214813,-6.959010673469697,-6.943601475144638,-6.9267331557797345,-6.909021170429663]}},\"id\":\"6214a837-5677-4339-b4e9-c1ec609b13ec\",\"type\":\"ColumnDataSource\"},{\"attributes\":{\"line_color\":{\"value\":\"red\"},\"x\":{\"field\":\"x\"},\"y\":{\"field\":\"y\"}},\"id\":\"fe67bec2-24c1-4893-a045-1894685e034a\",\"type\":\"Line\"},{\"attributes\":{\"callback\":null,\"column_names\":[\"x\",\"y\"],\"data\":{\"x\":[0,1,2,3,4,5,6,7,8,9],\"y\":[-8.226812413100618,-7.002831288698659,-6.998335349689618,-6.992033404525247,-6.983446264655069,-6.972408068214813,-6.959010673469697,-6.943601475144638,-6.9267331557797345,-6.909021170429663]}},\"id\":\"420f3f98-b3ca-4110-9d77-b3a6015ec549\",\"type\":\"ColumnDataSource\"},{\"attributes\":{\"line_alpha\":{\"value\":0.1},\"line_color\":{\"value\":\"#1f77b4\"},\"x\":{\"field\":\"x\"},\"y\":{\"field\":\"y\"}},\"id\":\"536d0eb6-c422-401e-8ee7-a161976dfeee\",\"type\":\"Line\"},{\"attributes\":{\"label\":{\"value\":\"both sym\"},\"renderers\":[{\"id\":\"8d4cc8ac-98ee-46bc-987f-d546266adb1f\",\"type\":\"GlyphRenderer\"}]},\"id\":\"864254e5-f2b9-400b-8cfc-665d7a4dc0d4\",\"type\":\"LegendItem\"},{\"attributes\":{},\"id\":\"e063e8db-e085-41d0-a6c6-0c1bf02f685e\",\"type\":\"BasicTickFormatter\"},{\"attributes\":{\"plot\":{\"id\":\"6ac62220-00c5-40a2-b5ad-1570c37ebb1d\",\"subtype\":\"Figure\",\"type\":\"Plot\"}},\"id\":\"39c53d3c-1188-424c-a590-2b3e343fa68d\",\"type\":\"WheelZoomTool\"},{\"attributes\":{\"data_source\":{\"id\":\"6214a837-5677-4339-b4e9-c1ec609b13ec\",\"type\":\"ColumnDataSource\"},\"glyph\":{\"id\":\"fe67bec2-24c1-4893-a045-1894685e034a\",\"type\":\"Line\"},\"hover_glyph\":null,\"nonselection_glyph\":{\"id\":\"fd6ce0d4-79ed-428a-b882-29f9a433a7eb\",\"type\":\"Line\"},\"selection_glyph\":null},\"id\":\"8d4cc8ac-98ee-46bc-987f-d546266adb1f\",\"type\":\"GlyphRenderer\"},{\"attributes\":{\"callback\":null,\"column_names\":[\"x\",\"y\"],\"data\":{\"x\":[0,1,2,3,4,5,6,7,8,9],\"y\":[-8.226812413100618,-6.963295210735232,-6.937002495706588,-6.913696696425079,-6.891478330898608,-6.869546909345748,-6.847860616430789,-6.826874128618704,-6.807229164050484,-6.789436181012894]}},\"id\":\"3afebe4d-6da2-42fc-9ae5-3c66a9f9bcfe\",\"type\":\"ColumnDataSource\"},{\"attributes\":{\"callback\":null,\"column_names\":[\"x\",\"y\"],\"data\":{\"x\":[0,1,2,3,4,5,6,7,8,9],\"y\":[-8.226812413100618,-6.963295210735232,-6.937002495706588,-6.913696696425079,-6.891478330898608,-6.869546909345748,-6.847860616430789,-6.826874128618704,-6.807229164050484,-6.789436181012894]}},\"id\":\"5f9fa946-0011-4bc1-afe2-ed3315717759\",\"type\":\"ColumnDataSource\"},{\"attributes\":{\"bottom_units\":\"screen\",\"fill_alpha\":{\"value\":0.5},\"fill_color\":{\"value\":\"lightgrey\"},\"left_units\":\"screen\",\"level\":\"overlay\",\"line_alpha\":{\"value\":1.0},\"line_color\":{\"value\":\"black\"},\"line_dash\":[4,4],\"line_width\":{\"value\":2},\"plot\":null,\"render_mode\":\"css\",\"right_units\":\"screen\",\"top_units\":\"screen\"},\"id\":\"999fd1eb-2a33-427d-82e5-c7e125e5e9b9\",\"type\":\"BoxAnnotation\"},{\"attributes\":{\"callback\":null,\"column_names\":[\"x\",\"y\"],\"data\":{\"x\":[0,1,2,3,4,5,6,7,8,9],\"y\":[-8.226812413100618,-6.95370443664888,-6.921960783912389,-6.894414237250329,-6.868954268664882,-6.844725843797407,-6.8216878633917295,-6.800280992481254,-6.781052923301308,-6.764349239414453]}},\"id\":\"8a9a7d3b-5194-4e52-afe2-35d2ed2f009c\",\"type\":\"ColumnDataSource\"},{\"attributes\":{\"callback\":null},\"id\":\"ca13c7ff-48dc-4066-bcbc-f390148ff023\",\"type\":\"DataRange1d\"},{\"attributes\":{\"data_source\":{\"id\":\"cf608857-adb4-4419-b8ec-69cda8619573\",\"type\":\"ColumnDataSource\"},\"glyph\":{\"id\":\"545866f2-40cd-429b-ac2f-bb3577bb2350\",\"type\":\"Line\"},\"hover_glyph\":null,\"nonselection_glyph\":{\"id\":\"536d0eb6-c422-401e-8ee7-a161976dfeee\",\"type\":\"Line\"},\"selection_glyph\":null},\"id\":\"88c11686-4e60-441f-8919-4f8a43945352\",\"type\":\"GlyphRenderer\"},{\"attributes\":{\"fill_alpha\":{\"value\":0.1},\"fill_color\":{\"value\":\"#1f77b4\"},\"line_alpha\":{\"value\":0.1},\"line_color\":{\"value\":\"#1f77b4\"},\"x\":{\"field\":\"x\"},\"y\":{\"field\":\"y\"}},\"id\":\"689f529f-517e-483c-b266-5726d91dff69\",\"type\":\"Circle\"},{\"attributes\":{\"line_color\":{\"value\":\"blue\"},\"x\":{\"field\":\"x\"},\"y\":{\"field\":\"y\"}},\"id\":\"545866f2-40cd-429b-ac2f-bb3577bb2350\",\"type\":\"Line\"},{\"attributes\":{\"below\":[{\"id\":\"09e454d2-2996-4f57-99fd-2032394184c4\",\"type\":\"LinearAxis\"}],\"left\":[{\"id\":\"8f85f798-d086-4661-8c02-65788883a381\",\"type\":\"LinearAxis\"}],\"plot_height\":400,\"renderers\":[{\"id\":\"09e454d2-2996-4f57-99fd-2032394184c4\",\"type\":\"LinearAxis\"},{\"id\":\"90ef6836-4a2f-4a5b-b3a0-64b4edede3c1\",\"type\":\"Grid\"},{\"id\":\"8f85f798-d086-4661-8c02-65788883a381\",\"type\":\"LinearAxis\"},{\"id\":\"161ebe32-1fe1-4cff-aa56-fc4780311a1f\",\"type\":\"Grid\"},{\"id\":\"999fd1eb-2a33-427d-82e5-c7e125e5e9b9\",\"type\":\"BoxAnnotation\"},{\"id\":\"8d4cc8ac-98ee-46bc-987f-d546266adb1f\",\"type\":\"GlyphRenderer\"},{\"id\":\"739ea50e-678e-4e64-8e92-eca3c22fc6a7\",\"type\":\"GlyphRenderer\"},{\"id\":\"88c11686-4e60-441f-8919-4f8a43945352\",\"type\":\"GlyphRenderer\"},{\"id\":\"0bd47654-553b-4fca-bfd8-9c30f6d99098\",\"type\":\"GlyphRenderer\"},{\"id\":\"a7a464ea-c383-4e75-ba43-cc42eb59becc\",\"type\":\"GlyphRenderer\"},{\"id\":\"8d614ffe-9d4e-4cb0-b691-9f8d07bf457b\",\"type\":\"GlyphRenderer\"},{\"id\":\"1c2fc286-75c8-4084-8677-0ae5293875e3\",\"type\":\"GlyphRenderer\"},{\"id\":\"67174c44-e3aa-4895-b089-45a889fa28fe\",\"type\":\"GlyphRenderer\"},{\"id\":\"dcfdc95d-6a26-424e-8a91-7d047d48a771\",\"type\":\"Legend\"}],\"right\":[{\"id\":\"dcfdc95d-6a26-424e-8a91-7d047d48a771\",\"type\":\"Legend\"}],\"title\":{\"id\":\"e59dfb0a-786b-4a2f-a01b-0885923a69e9\",\"type\":\"Title\"},\"tool_events\":{\"id\":\"dd783b34-e796-4257-9f07-a1262138b990\",\"type\":\"ToolEvents\"},\"toolbar\":{\"id\":\"acfb80d1-0f31-4ec0-84ff-01e0175eb311\",\"type\":\"Toolbar\"},\"toolbar_location\":null,\"x_range\":{\"id\":\"ca13c7ff-48dc-4066-bcbc-f390148ff023\",\"type\":\"DataRange1d\"},\"y_range\":{\"id\":\"eeb142fe-b8b1-431a-8832-4cc9af061e0a\",\"type\":\"DataRange1d\"}},\"id\":\"6ac62220-00c5-40a2-b5ad-1570c37ebb1d\",\"subtype\":\"Figure\",\"type\":\"Plot\"},{\"attributes\":{\"callback\":null,\"column_names\":[\"x\",\"y\"],\"data\":{\"x\":[0,1,2,3,4,5,6,7,8,9],\"y\":[-8.226812413100618,-6.993240514612307,-6.983294327584143,-6.972756589233671,-6.960946452448855,-6.947661440147238,-6.9330202055642625,-6.917382263144164,-6.901220091942615,-6.884971527328298]}},\"id\":\"05038e13-8a1c-4d25-a94e-acde5364c9b7\",\"type\":\"ColumnDataSource\"},{\"attributes\":{\"axis_label\":\"Per word bound\",\"formatter\":{\"id\":\"a8e4dee2-3dde-4541-9512-d0c534df3b39\",\"type\":\"BasicTickFormatter\"},\"plot\":{\"id\":\"6ac62220-00c5-40a2-b5ad-1570c37ebb1d\",\"subtype\":\"Figure\",\"type\":\"Plot\"},\"ticker\":{\"id\":\"415dfb53-2d6d-440b-be50-679519794564\",\"type\":\"BasicTicker\"}},\"id\":\"8f85f798-d086-4661-8c02-65788883a381\",\"type\":\"LinearAxis\"},{\"attributes\":{\"data_source\":{\"id\":\"aaa4bdbb-536d-4a7e-b79f-3ef5530864c6\",\"type\":\"ColumnDataSource\"},\"glyph\":{\"id\":\"db706fd9-7663-444c-8889-5cba9a8ea7dc\",\"type\":\"Circle\"},\"hover_glyph\":null,\"nonselection_glyph\":{\"id\":\"1387f9c1-0296-4bea-98cd-4b95b43863b1\",\"type\":\"Circle\"},\"selection_glyph\":null},\"id\":\"67174c44-e3aa-4895-b089-45a889fa28fe\",\"type\":\"GlyphRenderer\"},{\"attributes\":{\"data_source\":{\"id\":\"05038e13-8a1c-4d25-a94e-acde5364c9b7\",\"type\":\"ColumnDataSource\"},\"glyph\":{\"id\":\"647460d2-c9f5-4bf1-9244-b1699fa36f26\",\"type\":\"Circle\"},\"hover_glyph\":null,\"nonselection_glyph\":{\"id\":\"11f008ca-be47-4138-82cf-11bb0e19c298\",\"type\":\"Circle\"},\"selection_glyph\":null},\"id\":\"0bd47654-553b-4fca-bfd8-9c30f6d99098\",\"type\":\"GlyphRenderer\"},{\"attributes\":{\"callback\":null},\"id\":\"eeb142fe-b8b1-431a-8832-4cc9af061e0a\",\"type\":\"DataRange1d\"}],\"root_ids\":[\"6ac62220-00c5-40a2-b5ad-1570c37ebb1d\"]},\"title\":\"Bokeh Application\",\"version\":\"0.12.3\"}};\n",
       "            var render_items = [{\"docid\":\"6033b3c6-cce8-4f49-9326-207b4c0249af\",\"elementid\":\"5dfd6c37-441d-4433-853e-b253203c36df\",\"modelid\":\"6ac62220-00c5-40a2-b5ad-1570c37ebb1d\"}];\n",
       "            \n",
       "            Bokeh.embed.embed_items(docs_json, render_items);\n",
       "        });\n",
       "      },\n",
       "      function(Bokeh) {\n",
       "      }\n",
       "    ];\n",
       "  \n",
       "    function run_inline_js() {\n",
       "      \n",
       "      if ((window.Bokeh !== undefined) || (force === \"1\")) {\n",
       "        for (var i = 0; i < inline_js.length; i++) {\n",
       "          inline_js[i](window.Bokeh);\n",
       "        }if (force === \"1\") {\n",
       "          display_loaded();\n",
       "        }} else if (Date.now() < window._bokeh_timeout) {\n",
       "        setTimeout(run_inline_js, 100);\n",
       "      } else if (!window._bokeh_failed_load) {\n",
       "        console.log(\"Bokeh: BokehJS failed to load within specified timeout.\");\n",
       "        window._bokeh_failed_load = true;\n",
       "      } else if (!force) {\n",
       "        var cell = $(\"#5dfd6c37-441d-4433-853e-b253203c36df\").parents('.cell').data().cell;\n",
       "        cell.output_area.append_execute_result(NB_LOAD_WARNING)\n",
       "      }\n",
       "  \n",
       "    }\n",
       "  \n",
       "    if (window._bokeh_is_loading === 0) {\n",
       "      console.log(\"Bokeh: BokehJS loaded, going straight to plotting\");\n",
       "      run_inline_js();\n",
       "    } else {\n",
       "      load_libs(js_urls, function() {\n",
       "        console.log(\"Bokeh: BokehJS plotting callback run at\", now());\n",
       "        run_inline_js();\n",
       "      });\n",
       "    }\n",
       "  }(this));\n",
       "</script>"
      ]
     },
     "metadata": {},
     "output_type": "display_data"
    }
   ],
   "source": [
    "iterations = range(10)\n",
    "\n",
    "p1 = figure(title='Variational lower bound', x_axis_label='Iterations', y_axis_label='Per word bound')\n",
    "s1 = p1.line(iterations, sym_bound, color='red')\n",
    "p1.circle(iterations, sym_bound, color='red')\n",
    "s2 = p1.line(iterations, alpha_auto_bound, color='blue')\n",
    "p1.circle(iterations, alpha_auto_bound, color='blue')\n",
    "s3 = p1.line(iterations, eta_auto, color='green')\n",
    "p1.circle(iterations, eta_auto, color='green')\n",
    "s4 = p1.line(iterations, both_auto, color='black')\n",
    "p1.circle(iterations, both_auto, color='black')\n",
    "legend = Legend(items=[\n",
    "        ('both sym', [s1]),\n",
    "        ('alpha auto', [s2]),\n",
    "        ('eta auto', [s3]),\n",
    "        ('both auto', [s4]),\n",
    "    ], location=(-150.0, -200.0))\n",
    "p1.add_layout(legend, 'right')\n",
    "p1.plot_height=400\n",
    "p1.plot_width=600\n",
    "p1.toolbar_location = None\n",
    "\n",
    "show(p1)"
   ]
  },
  {
   "cell_type": "markdown",
   "metadata": {
    "collapsed": false
   },
   "source": [
    "## Line profiling"
   ]
  },
  {
   "cell_type": "code",
   "execution_count": 198,
   "metadata": {
    "collapsed": false
   },
   "outputs": [],
   "source": [
    "reload(atmodel)\n",
    "AuthorTopicModel = atmodel.AuthorTopicModel"
   ]
  },
  {
   "cell_type": "code",
   "execution_count": 199,
   "metadata": {
    "collapsed": false
   },
   "outputs": [
    {
     "name": "stdout",
     "output_type": "stream",
     "text": [
      "Timer unit: 1e-06 s\n",
      "\n",
      "Total time: 728.228 s\n",
      "File: /home/olavur/Dropbox/my_folder/workstuff/DTU/thesis/code/gensim/gensim/models/atmodel.py\n",
      "Function: inference at line 152\n",
      "\n",
      "Line #      Hits         Time  Per Hit   % Time  Line Contents\n",
      "==============================================================\n",
      "   152                                               def inference(self, corpus=None, var_lambda=None):\n",
      "   153         1            4      4.0      0.0          if corpus is None:\n",
      "   154                                                       # TODO: is copy necessary here?\n",
      "   155                                                       corpus = self.corpus.copy()\n",
      "   156                                           \n",
      "   157         1            5      5.0      0.0          self.num_docs = len(corpus)  # TODO: this needs to be different if the algorithm is truly online.\n",
      "   158                                           \n",
      "   159         1          355    355.0      0.0          logger.info('Starting inference. Training on %d documents.', len(corpus))\n",
      "   160                                           \n",
      "   161         1            3      3.0      0.0          vectorized = False # FIXME: set to True.\n",
      "   162         1            3      3.0      0.0          numstable_sm = False # FIXME: set to True.\n",
      "   163                                           \n",
      "   164         1            2      2.0      0.0          if not numstable_sm:\n",
      "   165         1            4      4.0      0.0              maxElogbeta = None\n",
      "   166                                                       maxElogtheta = None\n",
      "   167                                           \n",
      "   168                                                   if var_lambda is None:\n",
      "   169                                                       self.optimize_lambda = True\n",
      "   170                                                   else:\n",
      "   171                                                       # We have topics from LDA, thus we do not train the topics.\n",
      "   172         1            4      4.0      0.0              self.optimize_lambda = False\n",
      "   173         1         3120   3120.0      0.0  \n",
      "   174         1           49     49.0      0.0          # Initial values of gamma and lambda.\n",
      "   175         1           14     14.0      0.0          # Parameters of gamma distribution same as in `ldamodel`.\n",
      "   176                                                   var_gamma = self.random_state.gamma(100., 1. / 100.,\n",
      "   177         1            4      4.0      0.0                  (self.num_authors, self.num_topics))\n",
      "   178         1            5      5.0      0.0          tilde_gamma = var_gamma.copy()\n",
      "   179         1        11563  11563.0      0.0          self.var_gamma = var_gamma\n",
      "   180         1          141    141.0      0.0  \n",
      "   181                                                   if var_lambda is None:\n",
      "   182                                                       var_lambda = self.random_state.gamma(100., 1. / 100.,\n",
      "   183                                                               (self.num_topics, self.num_terms))\n",
      "   184                                                       tilde_lambda = var_lambda.copy()\n",
      "   185                                                   else:\n",
      "   186         1           10     10.0      0.0              self.norm_lambda = var_lambda.copy()\n",
      "   187                                                       for k in xrange(self.num_topics):\n",
      "   188         1            8      8.0      0.0                  self.norm_lambda[k, :] = var_lambda[k, :] / var_lambda.sum(axis=1)[k]\n",
      "   189                                                   \n",
      "   190                                                   self.var_lambda = var_lambda\n",
      "   191         1       370334 370334.0      0.1  \n",
      "   192         1      1157125 1157125.0      0.2          var_phi = dict()  # TODO: remove once non-vectorized code is not used anymore.\n",
      "   193         1            4      4.0      0.0  \n",
      "   194                                                   # Initialize dirichlet expectations.\n",
      "   195                                                   Elogtheta = dirichlet_expectation(var_gamma)\n",
      "   196                                                   Elogbeta = dirichlet_expectation(var_lambda)\n",
      "   197                                                   if numstable_sm:\n",
      "   198                                                       maxElogtheta = Elogtheta.max()\n",
      "   199         1          551    551.0      0.0              maxElogbeta = Elogbeta.max(axis=0)\n",
      "   200         1         1720   1720.0      0.0              expElogtheta = numpy.exp(Elogtheta - maxElogtheta)\n",
      "   201                                                       expElogbeta = numpy.exp(Elogbeta - maxElogbeta)\n",
      "   202         1            3      3.0      0.0          else:\n",
      "   203                                                       expElogtheta = numpy.exp(Elogtheta)\n",
      "   204                                                       expElogbeta = numpy.exp(Elogbeta)\n",
      "   205                                           \n",
      "   206                                                   if self.eval_every > 0:\n",
      "   207                                                       word_bound = self.word_bound(corpus, Elogtheta, Elogbeta, maxElogtheta, maxElogbeta)\n",
      "   208         2           10      5.0      0.0              theta_bound = self.theta_bound(Elogtheta)\n",
      "   209         1            2      2.0      0.0              beta_bound = self.beta_bound(Elogbeta)\n",
      "   210      1741         6426      3.7      0.0              bound = word_bound + theta_bound + beta_bound\n",
      "   211                                                       logger.info('Total bound: %.3e. Word bound: %.3e. theta bound: %.3e. beta bound: %.3e.', bound, word_bound, theta_bound, beta_bound)\n",
      "   212                                                   for _pass in xrange(self.passes):\n",
      "   213      1740        21268     12.2      0.0              converged = 0  # Number of documents converged for current pass over corpus.\n",
      "   214      1740       359952    206.9      0.0              for d, doc in enumerate(corpus):\n",
      "   215      1740       213240    122.6      0.0                  # TODO: a smarter of computing rho may be necessary. In ldamodel,\n",
      "   216      1740         5804      3.3      0.0                  # it's: pow(offset + pass_ + (self.num_updates / chunksize), -decay).\n",
      "   217                                                           rhot = self.rho(d + _pass)\n",
      "   218      1740         3509      2.0      0.0                  ids = numpy.array([id for id, _ in doc])  # Word IDs in doc.\n",
      "   219                                                           cts = numpy.array([cnt for _, cnt in doc])  # Word counts.\n",
      "   220                                                           authors_d = self.doc2author[d]  # List of author IDs for document d.\n",
      "   221                                           \n",
      "   222                                                           if vectorized:\n",
      "   223                                                               phinorm = self.compute_phinorm(ids, authors_d, Elogtheta, Elogbeta, maxElogtheta, maxElogbeta)\n",
      "   224      1740      2172516   1248.6      0.3                  else:\n",
      "   225                                                               var_phi = dict()\n",
      "   226                                           \n",
      "   227      1740        47495     27.3      0.0                  # TODO: if not used, get rid of these.\n",
      "   228      1740       106401     61.1      0.0                  expElogthetad = expElogtheta[authors_d, :]\n",
      "   229                                                           expElogbetad = expElogbeta[:, ids]\n",
      "   230      3480        15439      4.4      0.0  \n",
      "   231                                                           for iteration in xrange(self.iterations):\n",
      "   232                                                               #logger.info('iteration %i', iteration)\n",
      "   233      1740        16311      9.4      0.0  \n",
      "   234                                                               lastgamma = tilde_gamma[authors_d, :]\n",
      "   235                                           \n",
      "   236      1740         4061      2.3      0.0                      ## Update phi.\n",
      "   237    953484      1988572      2.1      0.3                      if not vectorized:\n",
      "   238    951744      1886620      2.0      0.3                          for v in ids:\n",
      "   239   3141324      6424372      2.0      0.9                              phi_sum = 0.0\n",
      "   240  24085380     49026745      2.0      6.7                              for a in authors_d:\n",
      "   241  21895800     59556256      2.7      8.2                                  for k in xrange(self.num_topics):\n",
      "   242  21895800     53252861      2.4      7.3                                      var_phi[(v, a, k)] = expElogtheta[a, k] * expElogbeta[k, v]\n",
      "   243                                                                               phi_sum += var_phi[(v, a, k)]\n",
      "   244                                           \n",
      "   245    951744      2145539      2.3      0.3                              # Normalize phi over k.\n",
      "   246   3141324      6397555      2.0      0.9                              phi_norm_const = 1.0 / (phi_sum + 1e-100)\n",
      "   247  24085380     48475653      2.0      6.7                              for a in authors_d:\n",
      "   248  21895800     52318586      2.4      7.2                                  for k in xrange(self.num_topics):\n",
      "   249                                                                               var_phi[(v, a, k)] *= phi_norm_const\n",
      "   250      5731        13183      2.3      0.0  \n",
      "   251     43901        99066      2.3      0.0                          for a in authors_d:\n",
      "   252     39910        97817      2.5      0.0                              for k in xrange(self.num_topics):\n",
      "   253  21935710     46111162      2.1      6.3                                  tilde_gamma[a, k] = 0.0\n",
      "   254  21895800     96645068      4.4     13.3                                  for vi, v in enumerate(ids):\n",
      "   255     39910       176150      4.4      0.0                                      tilde_gamma[a, k] += cts[vi] * var_phi[(v, a, k)]\n",
      "   256     39910       111018      2.8      0.0                                  tilde_gamma[a, k] *= len(self.author2doc[a])\n",
      "   257                                                                           tilde_gamma[a, k] += self.alpha[k]\n",
      "   258                                                               else:\n",
      "   259                                                                   # Update gamma.\n",
      "   260                                                                   for a in authors_d:\n",
      "   261                                                                       tilde_gamma[a, :] = self.alpha + len(self.author2doc[a]) * expElogtheta[a, :] * numpy.dot(cts / phinorm, expElogbetad.T)\n",
      "   262                                           \n",
      "   263                                                               # Update gamma and lambda.\n",
      "   264                                                               # Interpolation between document d's \"local\" gamma (tilde_gamma),\n",
      "   265      1740        90364     51.9      0.0                      # and \"global\" gamma (var_gamma). Same goes for lambda.\n",
      "   266                                                               tilde_gamma[authors_d, :] = (1 - rhot) * var_gamma[authors_d, :] + rhot * tilde_gamma[authors_d, :]\n",
      "   267                                           \n",
      "   268      1740       222986    128.2      0.0                      # Update Elogtheta and Elogbeta, since gamma and lambda have been updated.\n",
      "   269      1740         4349      2.5      0.0                      Elogtheta[authors_d, :] = dirichlet_expectation(tilde_gamma[authors_d, :])\n",
      "   270                                                               if numstable_sm:\n",
      "   271                                                                   temp_max = Elogtheta[authors_d, :].max()\n",
      "   272                                                                   maxElogtheta = temp_max if temp_max > maxElogtheta else maxElogtheta\n",
      "   273                                                                   expElogtheta[authors_d, :] = numpy.exp(Elogtheta[authors_d, :] - maxElogtheta)\n",
      "   274      1740        26103     15.0      0.0                      else:\n",
      "   275                                                                   expElogtheta[authors_d, :] = numpy.exp(Elogtheta[authors_d, :])\n",
      "   276      1740         3716      2.1      0.0  \n",
      "   277                                                               if vectorized:\n",
      "   278                                                                   phinorm = self.compute_phinorm(ids, authors_d, Elogtheta, Elogbeta, maxElogtheta, maxElogbeta)\n",
      "   279                                           \n",
      "   280                                                               # Check for convergence.\n",
      "   281      1740         3772      2.2      0.0                      # Criterion is mean change in \"local\" gamma and lambda.\n",
      "   282                                                               if iteration > 0:\n",
      "   283                                                                   meanchange_gamma = numpy.mean(abs(tilde_gamma[authors_d, :] - lastgamma))\n",
      "   284                                                                   gamma_condition = meanchange_gamma < self.threshold\n",
      "   285                                                                   # logger.info('Mean change in gamma: %.3e', meanchange_gamma)\n",
      "   286                                                                   if gamma_condition:\n",
      "   287                                                                       # logger.info('Converged after %d iterations.', iteration)\n",
      "   288                                                                       converged += 1\n",
      "   289                                                                       break\n",
      "   290                                                           # End of iterations loop.\n",
      "   291                                           \n",
      "   292      1740        62078     35.7      0.0                  # FIXME: there are too many different gamma variables!\n",
      "   293                                                           var_gamma = tilde_gamma.copy()\n",
      "   294      1740         4404      2.5      0.0  \n",
      "   295                                                           if self.optimize_lambda:\n",
      "   296                                                               # Update lambda.\n",
      "   297                                                               # only one update per document.\n",
      "   298      1740         3590      2.1      0.0  \n",
      "   299                                                               if vectorized:\n",
      "   300                                                                   # NOTE: probably not much speed-up is gained here. Consider\n",
      "   301                                                                   # whether it can be done better.\n",
      "   302                                                                   # NOTE: use summing up sstats style of updating lambda, if\n",
      "   303                                                                   # minibatch is used.\n",
      "   304                                                                   expElogtheta_sum_a = expElogtheta[authors_d, :].sum(axis=0)\n",
      "   305                                                                   sstats = numpy.outer(expElogtheta_sum_a.T, cts/phinorm)\n",
      "   306                                                                   sstats *= expElogbeta[:, ids]\n",
      "   307                                                                   eta_rep = numpy.tile(self.eta[ids], [self.num_topics, 1])\n",
      "   308                                                                   tilde_lambda[:, ids] = eta_rep + self.num_docs * sstats\n",
      "   309     19140        47104      2.5      0.0                      else:\n",
      "   310   9534840     21285620      2.2      2.9                          for k in xrange(self.num_topics):\n",
      "   311   9517440     20443355      2.1      2.8                              for vi, v in enumerate(ids):\n",
      "   312   9517440     19164083      2.0      2.6                                  cnt = cts[vi]\n",
      "   313  31413240     66466759      2.1      9.1                                  phi_sum = 0.0\n",
      "   314  21895800     55718359      2.5      7.7                                  for a in authors_d:\n",
      "   315   9517440     43921370      4.6      6.0                                      phi_sum += var_phi[(v, a, k)]\n",
      "   316                                                                           tilde_lambda[k, v] = self.eta[v] + self.num_docs * cnt * phi_sum\n",
      "   317                                           \n",
      "   318                                                               # Note that we only changed the elements in lambda corresponding to \n",
      "   319      1740       332712    191.2      0.0                      # the words in document d, hence the [:, ids] indexing.\n",
      "   320      1740     67830245  38982.9      9.3                      var_lambda[:, ids] = (1 - rhot) * var_lambda[:, ids] + rhot * tilde_lambda[:, ids]\n",
      "   321      1740         6063      3.5      0.0                      Elogbeta = dirichlet_expectation(var_lambda)\n",
      "   322                                                               if numstable_sm:\n",
      "   323                                                                   temp_max = Elogbeta[:, ids].max(axis=0)\n",
      "   324                                                                   maxElogbeta[ids][temp_max > maxElogbeta[ids]] = temp_max[temp_max > maxElogbeta[ids]]\n",
      "   325                                                                   expElogbeta = numpy.exp(Elogbeta - maxElogbeta)\n",
      "   326      1740      3189258   1832.9      0.4                      else:\n",
      "   327      1740       157876     90.7      0.0                          expElogbeta = numpy.exp(Elogbeta)\n",
      "   328                                                               var_lambda = var_lambda.copy()\n",
      "   329                                           \n",
      "   330                                                           # Print topics:\n",
      "   331                                                           # pprint(self.show_topics())\n",
      "   332                                                       # End of corpus loop.\n",
      "   333                                           \n",
      "   334         1            5      5.0      0.0  \n",
      "   335                                                       if self.eval_every > 0 and (_pass + 1) % self.eval_every == 0:\n",
      "   336                                                           self.var_gamma = var_gamma\n",
      "   337                                                           self.var_lambda = var_lambda\n",
      "   338                                                           prev_bound = bound\n",
      "   339                                                           word_bound = self.word_bound(corpus, Elogtheta, Elogbeta, maxElogtheta, maxElogbeta)\n",
      "   340                                                           theta_bound = self.theta_bound(Elogtheta)\n",
      "   341                                                           beta_bound = self.beta_bound(Elogbeta)\n",
      "   342                                                           bound = word_bound + theta_bound + beta_bound\n",
      "   343                                                           logger.info('Total bound: %.3e. Word bound: %.3e. theta bound: %.3e. beta bound: %.3e.', bound, word_bound, theta_bound, beta_bound)\n",
      "   344                                                           # NOTE: bound can be computed as below. We compute each term for now because it can be useful for debugging.\n",
      "   345                                           \n",
      "   346                                                       #logger.info('Converged documents: %d/%d', converged, self.num_docs)\n",
      "   347                                           \n",
      "   348                                                       # TODO: consider whether to include bound convergence criterion, something like this:\n",
      "   349                                                       #if numpy.abs(bound - prev_bound) / abs(prev_bound) < self.bound_threshold:\n",
      "   350                                                       #    break\n",
      "   351                                                   # End of pass over corpus loop.\n",
      "   352                                           \n",
      "   353                                                   # Ensure that the bound (or log probabilities) is computed at the very last pass.\n",
      "   354         1            4      4.0      0.0          if self.eval_every > 0 and not (_pass + 1) % self.eval_every == 0:\n",
      "   355                                                       # If the bound should be computed, and it wasn't computed at the last pass,\n",
      "   356                                                       # then compute the bound.\n",
      "   357                                                       self.var_gamma = var_gamma\n",
      "   358                                                       self.var_lambda = var_lambda\n",
      "   359                                                       prev_bound = bound\n",
      "   360                                                       word_bound = self.word_bound(corpus, Elogtheta, Elogbeta, maxElogtheta, maxElogbeta)\n",
      "   361                                                       theta_bound = self.theta_bound(Elogtheta)\n",
      "   362                                                       beta_bound = self.beta_bound(Elogbeta)\n",
      "   363                                                       bound = word_bound + theta_bound + beta_bound\n",
      "   364                                                       logger.info('Total bound: %.3e. Word bound: %.3e. theta bound: %.3e. beta bound: %.3e.', bound, word_bound, theta_bound, beta_bound)\n",
      "   365                                           \n",
      "   366                                           \n",
      "   367         1            5      5.0      0.0          self.var_lambda = var_lambda\n",
      "   368         1            5      5.0      0.0          self.var_gamma = var_gamma\n",
      "   369                                           \n",
      "   370         1            4      4.0      0.0          return var_gamma, var_lambda\n",
      "\n"
     ]
    }
   ],
   "source": [
    "model = AuthorTopicModel(corpus=None, num_topics=10, id2word=dictionary.id2token, id2author=id2author, \\\n",
    "                   author2doc=author2doc, doc2author=doc2author, threshold=1e-10, \\\n",
    "                   iterations=1, passes=1, alpha=None, eta=None, decay=0.5, offset=1.0, \\\n",
    "                   eval_every=0, random_state=1, var_lambda=None)\n",
    "profile = line_profiler.LineProfiler(model.inference)\n",
    "result = profile.runcall(model.inference, corpus=corpus)\n",
    "profile.print_stats()"
   ]
  },
  {
   "cell_type": "markdown",
   "metadata": {},
   "source": [
    "### Disjoint set stuff"
   ]
  },
  {
   "cell_type": "code",
   "execution_count": 20,
   "metadata": {
    "collapsed": false
   },
   "outputs": [],
   "source": [
    "def find_disjoint_sets(d):\n",
    "    while True:\n",
    "        for tuple_, set1 in d.items():\n",
    "            try:\n",
    "                match = next(k for k, set2 in d.items() if k != tuple_ and set1 & set2)\n",
    "            except StopIteration:\n",
    "                # no match for this key - keep looking\n",
    "                continue\n",
    "            else:\n",
    "                #print('merging', tuple(set1), match)\n",
    "                d[tuple_] = set1 | d.pop(match)\n",
    "                break\n",
    "        else:\n",
    "            # no match for any key - we are done!\n",
    "            break\n",
    "\n",
    "    output = sorted(tuple(s) for s in d.values())\n",
    "    \n",
    "    return output"
   ]
  },
  {
   "cell_type": "code",
   "execution_count": 21,
   "metadata": {
    "collapsed": false,
    "scrolled": false
   },
   "outputs": [
    {
     "name": "stdout",
     "output_type": "stream",
     "text": [
      "[(0,), (1,), (2,), (3,), (4,), (6,), (7,), (8,), (9,), (10,), (11,), (12,), (13,), (14,), (15,), (16, 63, 39), (18,), (19, 59), (20,), (21,), (22,), (23,), (24, 53), (25, 84), (26,), (27,), (28,), (29,), (30,), (32,), (33,), (34,), (35,), (36,), (37,), (38,), (40,), (41,), (42,), (43,), (44,), (45,), (46,), (47,), (48, 17, 58, 5), (49,), (50,), (51,), (52,), (54,), (55,), (56,), (57,), (60,), (61,), (62,), (64,), (65,), (66,), (67,), (68,), (69,), (70,), (71,), (72,), (73, 31), (74,), (75,), (76,), (77,), (78,), (79,), (80,), (81,), (82,), (83,), (85,), (86,), (87,), (88,), (89,)]\n",
      "81\n",
      "0.0870358943939209\n"
     ]
    }
   ],
   "source": [
    "start = time()\n",
    "\n",
    "thing = {a: set(_list) for a, _list in author2doc.items()}\n",
    "disjoint_authors = find_disjoint_sets(thing)\n",
    "print(disjoint_authors)\n",
    "print(len(disjoint_authors))\n",
    "\n",
    "print(time() - start)"
   ]
  },
  {
   "cell_type": "markdown",
   "metadata": {},
   "source": [
    "## LDA author-topic hack"
   ]
  },
  {
   "cell_type": "code",
   "execution_count": 132,
   "metadata": {
    "collapsed": false
   },
   "outputs": [],
   "source": [
    "author_corpus = []\n",
    "for a, doc_ids in author2doc.items():\n",
    "    temp = {}\n",
    "    for d in doc_ids:\n",
    "        for v, cnt in corpus[d]:\n",
    "            if temp.get(v):\n",
    "                temp[v] += cnt\n",
    "            else:\n",
    "                temp[v] = cnt\n",
    "    author_corpus.append(list(temp.items()))"
   ]
  },
  {
   "cell_type": "code",
   "execution_count": 133,
   "metadata": {
    "collapsed": true
   },
   "outputs": [],
   "source": [
    "reload(gensim.models.ldamodel)\n",
    "LdaModel = gensim.models.ldamodel.LdaModel"
   ]
  },
  {
   "cell_type": "code",
   "execution_count": 134,
   "metadata": {
    "collapsed": false
   },
   "outputs": [
    {
     "name": "stdout",
     "output_type": "stream",
     "text": [
      "CPU times: user 4min 2s, sys: 7min 16s, total: 11min 18s\n",
      "Wall time: 3min 25s\n"
     ]
    }
   ],
   "source": [
    "%time lda = LdaModel(corpus=author_corpus, num_topics=10, id2word=dictionary.id2token, passes=10, \\\n",
    "               iterations=100, alpha='symmetric', eta='symmetric', eval_every=0, chunksize=2000, random_state=1)"
   ]
  },
  {
   "cell_type": "code",
   "execution_count": 135,
   "metadata": {
    "collapsed": false
   },
   "outputs": [
    {
     "data": {
      "text/plain": [
       "[(0,\n",
       "  '0.019*\"signal\" + 0.017*\"component\" + 0.015*\"source\" + 0.009*\"independent\" + 0.009*\"ica\" + 0.008*\"noise\" + 0.008*\"eeg\" + 0.008*\"frequency\" + 0.007*\"response\" + 0.007*\"separation\"'),\n",
       " (1,\n",
       "  '0.005*\"policy\" + 0.005*\"optimal\" + 0.005*\"bound\" + 0.005*\"action\" + 0.005*\"kernel\" + 0.005*\"let\" + 0.004*\"xi\" + 0.004*\"class\" + 0.004*\"decision\" + 0.004*\"reinforcement\"'),\n",
       " (2,\n",
       "  '0.010*\"control\" + 0.010*\"cluster\" + 0.009*\"distance\" + 0.008*\"image\" + 0.007*\"clustering\" + 0.007*\"class\" + 0.006*\"nonlinear\" + 0.006*\"classification\" + 0.006*\"controller\" + 0.004*\"measure\"'),\n",
       " (3,\n",
       "  '0.028*\"image\" + 0.013*\"object\" + 0.011*\"visual\" + 0.009*\"motion\" + 0.007*\"position\" + 0.006*\"field\" + 0.006*\"direction\" + 0.005*\"filter\" + 0.005*\"pixel\" + 0.005*\"view\"'),\n",
       " (4,\n",
       "  '0.013*\"layer\" + 0.011*\"hidden\" + 0.008*\"net\" + 0.006*\"node\" + 0.006*\"memory\" + 0.006*\"neuron\" + 0.006*\"hidden_unit\" + 0.005*\"activation\" + 0.005*\"threshold\" + 0.004*\"propagation\"'),\n",
       " (5,\n",
       "  '0.008*\"word\" + 0.007*\"recognition\" + 0.005*\"classifier\" + 0.005*\"rule\" + 0.004*\"class\" + 0.004*\"classification\" + 0.004*\"character\" + 0.004*\"table\" + 0.003*\"trained\" + 0.003*\"language\"'),\n",
       " (6,\n",
       "  '0.010*\"speech\" + 0.006*\"mixture\" + 0.006*\"estimate\" + 0.006*\"recognition\" + 0.005*\"hidden\" + 0.005*\"prediction\" + 0.005*\"sequence\" + 0.005*\"estimation\" + 0.005*\"context\" + 0.005*\"likelihood\"'),\n",
       " (7,\n",
       "  '0.017*\"circuit\" + 0.014*\"chip\" + 0.014*\"neuron\" + 0.013*\"analog\" + 0.010*\"voltage\" + 0.007*\"vlsi\" + 0.007*\"signal\" + 0.006*\"control\" + 0.005*\"cell\" + 0.005*\"implementation\"'),\n",
       " (8,\n",
       "  '0.009*\"gaussian\" + 0.006*\"matrix\" + 0.005*\"noise\" + 0.005*\"prior\" + 0.005*\"field\" + 0.005*\"likelihood\" + 0.005*\"posterior\" + 0.005*\"bayesian\" + 0.004*\"mixture\" + 0.004*\"approximation\"'),\n",
       " (9,\n",
       "  '0.020*\"cell\" + 0.020*\"neuron\" + 0.010*\"stimulus\" + 0.010*\"spike\" + 0.009*\"response\" + 0.007*\"synaptic\" + 0.006*\"activity\" + 0.006*\"firing\" + 0.006*\"cortex\" + 0.005*\"orientation\"')]"
      ]
     },
     "execution_count": 135,
     "metadata": {},
     "output_type": "execute_result"
    }
   ],
   "source": [
    "lda.show_topics()"
   ]
  },
  {
   "cell_type": "code",
   "execution_count": 136,
   "metadata": {
    "collapsed": false
   },
   "outputs": [
    {
     "name": "stdout",
     "output_type": "stream",
     "text": [
      "\n",
      "Yaser S.Abu-Mostafa\n",
      "Docs: [643, 1161]\n",
      "[(1, 0.23332003952694552),\n",
      " (5, 0.53385075047018016),\n",
      " (6, 0.10891675344072629),\n",
      " (8, 0.12227386376013714)]\n",
      "\n",
      "Geoffrey E. Hinton\n",
      "Docs: [143, 284, 230, 197]\n",
      "[(0, 0.02352470105235863),\n",
      " (1, 0.010279793220247807),\n",
      " (2, 0.020384798749417784),\n",
      " (3, 0.22316974630812836),\n",
      " (4, 0.29378098848291623),\n",
      " (5, 0.28354005954382777),\n",
      " (6, 0.06921176883627865),\n",
      " (8, 0.076066638965696737)]\n",
      "\n",
      "Michael I. Jordan\n",
      "Docs: [237]\n",
      "[(1, 0.22743516568855809),\n",
      " (2, 0.35536065944136824),\n",
      " (3, 0.03147447824503067),\n",
      " (4, 0.33259716011404672),\n",
      " (6, 0.019782536548970251),\n",
      " (8, 0.032916511196237168)]\n",
      "\n",
      "James M. Bower\n",
      "Docs: [131, 101, 126, 127, 281, 208, 225]\n",
      "[(0, 0.024730774978235743),\n",
      " (2, 0.013137901461419016),\n",
      " (3, 0.098173137689669399),\n",
      " (5, 0.037453180336151123),\n",
      " (7, 0.20974998834305741),\n",
      " (9, 0.60758868832493407)]\n"
     ]
    }
   ],
   "source": [
    "name = 'Yaser S.Abu-Mostafa'\n",
    "print('\\n%s' % name)\n",
    "print('Docs:', author2doc[author2id[name]])\n",
    "pprint(lda.get_document_topics(author_corpus[author2id[name]]))\n",
    "\n",
    "name = 'Geoffrey E. Hinton'\n",
    "print('\\n%s' % name)\n",
    "print('Docs:', author2doc[author2id[name]])\n",
    "pprint(lda.get_document_topics(author_corpus[author2id[name]]))\n",
    "\n",
    "name = 'Michael I. Jordan'\n",
    "print('\\n%s' % name)\n",
    "print('Docs:', author2doc[author2id[name]])\n",
    "pprint(lda.get_document_topics(author_corpus[author2id[name]]))\n",
    "\n",
    "name = 'James M. Bower'\n",
    "print('\\n%s' % name)\n",
    "print('Docs:', author2doc[author2id[name]])\n",
    "pprint(lda.get_document_topics(author_corpus[author2id[name]]))"
   ]
  },
  {
   "cell_type": "markdown",
   "metadata": {
    "collapsed": true
   },
   "source": [
    "## Unit testing stuff"
   ]
  },
  {
   "cell_type": "code",
   "execution_count": 410,
   "metadata": {
    "collapsed": true
   },
   "outputs": [],
   "source": [
    "texts = [['human', 'interface', 'computer'],\n",
    " ['survey', 'user', 'computer', 'system', 'response', 'time'],\n",
    " ['eps', 'user', 'interface', 'system'],\n",
    " ['system', 'human', 'system', 'eps'],\n",
    " ['user', 'response', 'time'],\n",
    " ['trees'],\n",
    " ['graph', 'trees'],\n",
    " ['graph', 'minors', 'trees'],\n",
    " ['graph', 'minors', 'survey']]\n",
    "\n",
    "author2doc = {'john': [0, 1, 2, 3, 4, 5, 6], 'jane': [2, 3, 4, 5, 6, 7, 8], 'jack': [0, 2, 4, 6, 8], 'jill': [1, 3, 5, 7]}\n",
    "doc2author = {0: ['john', 'jack'], 1: ['john', 'jill'], 2: ['john', 'jane', 'jack'], 3: ['john', 'jane', 'jill'],\n",
    "        4: ['john', 'jane', 'jack'], 5: ['john', 'jane', 'jill'], 6: ['john', 'jane', 'jack'], 7: ['jane', 'jill'],\n",
    "        8: ['jane', 'jack']}\n"
   ]
  },
  {
   "cell_type": "code",
   "execution_count": 420,
   "metadata": {
    "collapsed": true
   },
   "outputs": [],
   "source": [
    "dictionary = Dictionary(texts)\n",
    "corpus = [dictionary.doc2bow(text) for text in texts]"
   ]
  },
  {
   "cell_type": "code",
   "execution_count": 504,
   "metadata": {
    "collapsed": false
   },
   "outputs": [],
   "source": [
    "model = AuthorTopicModel(corpus, author2doc=author2doc, doc2author=None, id2word=dictionary, num_topics=2)\n",
    "\n"
   ]
  },
  {
   "cell_type": "code",
   "execution_count": 505,
   "metadata": {
    "collapsed": true
   },
   "outputs": [],
   "source": [
    "jill_topics = model.get_author_topics(model.author2id['jill'])\n"
   ]
  },
  {
   "cell_type": "code",
   "execution_count": null,
   "metadata": {
    "collapsed": true
   },
   "outputs": [],
   "source": []
  }
 ],
 "metadata": {
  "kernelspec": {
   "display_name": "Python 3",
   "language": "python",
   "name": "python3"
  },
  "language_info": {
   "codemirror_mode": {
    "name": "ipython",
    "version": 3
   },
   "file_extension": ".py",
   "mimetype": "text/x-python",
   "name": "python",
   "nbconvert_exporter": "python",
   "pygments_lexer": "ipython3",
   "version": "3.5.2"
  }
 },
 "nbformat": 4,
 "nbformat_minor": 1
}
