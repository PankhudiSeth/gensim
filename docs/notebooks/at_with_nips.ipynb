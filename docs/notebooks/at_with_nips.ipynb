{
 "cells": [
  {
   "cell_type": "code",
   "execution_count": 1,
   "metadata": {
    "collapsed": false
   },
   "outputs": [
    {
     "data": {
      "application/javascript": [
       "// Run for table of contents.\n",
       "$.getScript('https://kmahelona.github.io/ipython_notebook_goodies/ipython_notebook_toc.js')\n",
       "\n",
       "// https://github.com/kmahelona/ipython_notebook_goodies"
      ],
      "text/plain": [
       "<IPython.core.display.Javascript object>"
      ]
     },
     "metadata": {},
     "output_type": "display_data"
    }
   ],
   "source": [
    "%%javascript\n",
    "// Run for table of contents.\n",
    "$.getScript('https://kmahelona.github.io/ipython_notebook_goodies/ipython_notebook_toc.js')\n",
    "\n",
    "// https://github.com/kmahelona/ipython_notebook_goodies"
   ]
  },
  {
   "cell_type": "markdown",
   "metadata": {},
   "source": [
    "# Tests with NIPS data\n",
    "\n",
    "<h2 id=\"tocheading\">Table of Contents</h2>\n",
    "<div id=\"toc\"></div>\n"
   ]
  },
  {
   "cell_type": "code",
   "execution_count": 2,
   "metadata": {
    "collapsed": false
   },
   "outputs": [],
   "source": [
    "import numpy as np\n",
    "import matplotlib\n",
    "import matplotlib.pyplot as plt\n",
    "from nltk.tokenize import RegexpTokenizer\n",
    "from nltk.stem.wordnet import WordNetLemmatizer\n",
    "import gensim\n",
    "from gensim.models import Phrases\n",
    "from gensim.corpora import Dictionary\n",
    "from gensim.models import LdaModel\n",
    "from imp import reload\n",
    "from pprint import pprint\n",
    "from random import sample\n",
    "import bokeh\n",
    "import line_profiler\n",
    "\n",
    "import logging\n",
    "\n",
    "from gensim.models import AuthorTopicModel\n",
    "from gensim.models import atmodel\n",
    "\n",
    "from time import time\n",
    "\n",
    "%matplotlib inline"
   ]
  },
  {
   "cell_type": "code",
   "execution_count": 3,
   "metadata": {
    "collapsed": false
   },
   "outputs": [],
   "source": [
    "# Configure logging.\n",
    "\n",
    "log_dir = '../../../log_files/log.log'  # On my own machine.\n",
    "#log_dir = '../../../../log_files/log.log'  # On Hetzner\n",
    "\n",
    "logger = logging.getLogger()\n",
    "fhandler = logging.FileHandler(filename=log_dir, mode='a')\n",
    "formatter = logging.Formatter('%(asctime)s - %(name)s - %(levelname)s - %(message)s')\n",
    "fhandler.setFormatter(formatter)\n",
    "logger.addHandler(fhandler)\n",
    "logger.setLevel(logging.DEBUG)"
   ]
  },
  {
   "cell_type": "markdown",
   "metadata": {},
   "source": [
    "## Load and prepare data structure"
   ]
  },
  {
   "cell_type": "code",
   "execution_count": 283,
   "metadata": {
    "collapsed": false
   },
   "outputs": [],
   "source": [
    "import os\n",
    "import re\n",
    "\n",
    "# Folder containing all NIPS papers.\n",
    "data_dir = '../../../../data/nipstxt/'  # On my own machine.\n",
    "#data_dir = '../../../nipstxt/'  # On Hetzner.\n",
    "\n",
    "# Folders containin individual NIPS papers.\n",
    "yrs = ['00', '01', '02', '03', '04', '05', '06', '07', '08', '09', '10', '11', '12']\n",
    "#yrs = ['00', '01', '02']\n",
    "dirs = ['nips' + yr for yr in yrs]\n",
    "\n",
    "# Get all document texts and their corresponding IDs.\n",
    "docs = []\n",
    "doc_ids = []\n",
    "for yr_dir in dirs:\n",
    "    files = os.listdir(data_dir + yr_dir)  # List of filenames.\n",
    "    for filen in files:\n",
    "        # Get document ID.\n",
    "        (idx1, idx2) = re.search('[0-9]+', filen).span()  # Matches the indexes of the start end end of the ID.\n",
    "        doc_ids.append(yr_dir[4:] + '_' + str(int(filen[idx1:idx2])))\n",
    "        \n",
    "        # Read document text.\n",
    "        # Note: ignoring characters that cause encoding errors.\n",
    "        with open(data_dir + yr_dir + '/' + filen, errors='ignore', encoding='utf-8') as fid:\n",
    "            txt = fid.read()\n",
    "        docs.append(txt)"
   ]
  },
  {
   "cell_type": "code",
   "execution_count": 284,
   "metadata": {
    "collapsed": false
   },
   "outputs": [],
   "source": [
    "filenames = [data_dir + 'idx/a' + yr + '.txt' for yr in yrs]  # Using the years defined in previous cell.\n",
    "\n",
    "# Get all author names and their corresponding document IDs.\n",
    "author2id = dict()\n",
    "author2doc = dict()\n",
    "i = 0\n",
    "for yr in yrs:\n",
    "    filename = data_dir + 'idx/a' + yr + '.txt'\n",
    "    for line in open(filename, errors='ignore', encoding='utf-8'):\n",
    "        contents = re.split(',', line)\n",
    "        author_name = (contents[1] + contents[0]).strip()\n",
    "        ids = [c.strip() for c in contents[2:]]\n",
    "        if not author2id.get(author_name):\n",
    "            author2id[author_name] = i\n",
    "            author2doc[i] = []\n",
    "            i += 1\n",
    "        \n",
    "        author_id = author2id[author_name]\n",
    "        author2doc[author_id].extend([yr + '_' + id for id in ids])\n",
    "        "
   ]
  },
  {
   "cell_type": "code",
   "execution_count": 285,
   "metadata": {
    "collapsed": false
   },
   "outputs": [],
   "source": [
    "# Make a mapping from author ID to author name.\n",
    "id2author = dict(zip(author2id.values(), author2id.keys()))"
   ]
  },
  {
   "cell_type": "code",
   "execution_count": 286,
   "metadata": {
    "collapsed": false
   },
   "outputs": [],
   "source": [
    "# Use an integer ID in author2doc, instead of the IDs provided in the NIPS dataset.\n",
    "\n",
    "# Mapping from ID of document in NIPS datast, to an integer ID.\n",
    "doc_id_dict = dict(zip(doc_ids, range(len(doc_ids))))\n",
    "\n",
    "for a, a_doc_ids in author2doc.items():\n",
    "    for i, doc_id in enumerate(a_doc_ids):\n",
    "        author2doc[a][i] = doc_id_dict[doc_id]"
   ]
  },
  {
   "cell_type": "code",
   "execution_count": 287,
   "metadata": {
    "collapsed": false
   },
   "outputs": [],
   "source": [
    "# Make a mapping from document IDs to author IDs.\n",
    "# Same as in the atvb code.\n",
    "doc2author = {}\n",
    "for d, _ in enumerate(docs):\n",
    "    author_ids = []\n",
    "    for a, a_doc_ids in author2doc.items():\n",
    "        if d in a_doc_ids:\n",
    "            author_ids.append(a)\n",
    "    doc2author[d] = author_ids"
   ]
  },
  {
   "cell_type": "markdown",
   "metadata": {},
   "source": [
    "## Pre-process and vectorize data"
   ]
  },
  {
   "cell_type": "code",
   "execution_count": 288,
   "metadata": {
    "collapsed": false
   },
   "outputs": [],
   "source": [
    "# Tokenize the documents.\n",
    "\n",
    "# Split the documents into tokens.\n",
    "tokenizer = RegexpTokenizer(r'\\w+')\n",
    "for idx in range(len(docs)):\n",
    "    docs[idx] = docs[idx].lower()  # Convert to lowercase.\n",
    "    docs[idx] = tokenizer.tokenize(docs[idx])  # Split into words.\n",
    "\n",
    "# Remove numbers, but not words that contain numbers.\n",
    "docs = [[token for token in doc if not token.isnumeric()] for doc in docs]\n",
    "\n",
    "# Remove words that are only one character.\n",
    "docs = [[token for token in doc if len(token) > 1] for doc in docs]"
   ]
  },
  {
   "cell_type": "code",
   "execution_count": 289,
   "metadata": {
    "collapsed": false
   },
   "outputs": [],
   "source": [
    "# Lemmatize the documents.\n",
    "\n",
    "# Lemmatize all words in documents.\n",
    "lemmatizer = WordNetLemmatizer()\n",
    "docs = [[lemmatizer.lemmatize(token) for token in doc] for doc in docs]"
   ]
  },
  {
   "cell_type": "code",
   "execution_count": 290,
   "metadata": {
    "collapsed": false
   },
   "outputs": [],
   "source": [
    "# Compute bigrams.\n",
    "\n",
    "# Add bigrams and trigrams to docs (only ones that appear 20 times or more).\n",
    "bigram = Phrases(docs, min_count=20)\n",
    "for idx in range(len(docs)):\n",
    "    for token in bigram[docs[idx]]:\n",
    "        if '_' in token:\n",
    "            # Token is a bigram, add to document.\n",
    "            docs[idx].append(token)"
   ]
  },
  {
   "cell_type": "code",
   "execution_count": 291,
   "metadata": {
    "collapsed": true
   },
   "outputs": [],
   "source": [
    "# Create a dictionary representation of the documents.\n",
    "dictionary = Dictionary(docs)"
   ]
  },
  {
   "cell_type": "code",
   "execution_count": 292,
   "metadata": {
    "collapsed": false
   },
   "outputs": [],
   "source": [
    "# Remove rare and common tokens.\n",
    "\n",
    "# Filter out words that occur too frequently or too rarely.\n",
    "max_freq = 0.5\n",
    "min_wordcount = 20\n",
    "dictionary.filter_extremes(no_below=min_wordcount, no_above=max_freq)\n",
    "\n",
    "dict0 = dictionary[0]  # This sort of \"initializes\" dictionary.id2token."
   ]
  },
  {
   "cell_type": "code",
   "execution_count": 293,
   "metadata": {
    "collapsed": false
   },
   "outputs": [
    {
     "data": {
      "image/png": "[encoded data removed]",
      "text/plain": [
       "<matplotlib.figure.Figure at 0x7f1db27fc2e8>"
      ]
     },
     "metadata": {},
     "output_type": "display_data"
    }
   ],
   "source": [
    "# Frequency distribution of words.\n",
    "\n",
    "one_doc = []\n",
    "for doc in docs:\n",
    "    one_doc.extend(doc)\n",
    "\n",
    "bow = dictionary.doc2bow(one_doc)\n",
    "word_freq = [cnt for _, cnt in bow]\n",
    "\n",
    "plt.plot(sorted(word_freq))\n",
    "plt.xlabel('Words')\n",
    "plt.ylabel('#Occurences')\n",
    "plt.title('Frequency distribution of words.\\nPower-law behaviour.')\n",
    "plt.show()"
   ]
  },
  {
   "cell_type": "code",
   "execution_count": 294,
   "metadata": {
    "collapsed": true
   },
   "outputs": [],
   "source": [
    "# Vectorize data.\n",
    "\n",
    "# Bag-of-words representation of the documents.\n",
    "corpus = [dictionary.doc2bow(doc) for doc in docs]"
   ]
  },
  {
   "cell_type": "code",
   "execution_count": 295,
   "metadata": {
    "collapsed": false
   },
   "outputs": [
    {
     "name": "stdout",
     "output_type": "stream",
     "text": [
      "Number of authors: 2720\n",
      "Number of unique tokens: 8640\n",
      "Number of documents: 1740\n"
     ]
    }
   ],
   "source": [
    "print('Number of authors: %d' % len(author2doc))\n",
    "print('Number of unique tokens: %d' % len(dictionary))\n",
    "print('Number of documents: %d' % len(corpus))"
   ]
  },
  {
   "cell_type": "markdown",
   "metadata": {},
   "source": [
    "## Train model"
   ]
  },
  {
   "cell_type": "code",
   "execution_count": 238,
   "metadata": {
    "collapsed": false
   },
   "outputs": [],
   "source": [
    "reload(atmodel)\n",
    "AuthorTopicModel = atmodel.AuthorTopicModel"
   ]
  },
  {
   "cell_type": "code",
   "execution_count": 304,
   "metadata": {
    "collapsed": false
   },
   "outputs": [
    {
     "name": "stdout",
     "output_type": "stream",
     "text": [
      "CPU times: user 3min, sys: 9.52 s, total: 3min 9s\n",
      "Wall time: 2min 59s\n"
     ]
    }
   ],
   "source": [
    "%time model = AuthorTopicModel(corpus=corpus, num_topics=10, id2word=dictionary.id2token, id2author=id2author, \\\n",
    "                   author2doc=author2doc, doc2author=doc2author, threshold=1e-10, \\\n",
    "                   iterations=100, passes=10, alpha=None, eta=None, decay=0.5, offset=1.0, \\\n",
    "                   eval_every=2000, random_state=1, var_lambda=None, chunksize=2000)"
   ]
  },
  {
   "cell_type": "code",
   "execution_count": 305,
   "metadata": {
    "collapsed": false,
    "scrolled": false
   },
   "outputs": [
    {
     "data": {
      "text/plain": [
       "[(0,\n",
       "  '0.011*classifier + 0.007*control + 0.005*policy + 0.005*optimal + 0.004*action + 0.004*let + 0.004*decision + 0.004*theorem + 0.003*fig + 0.003*bound'),\n",
       " (1,\n",
       "  '0.007*memory + 0.006*image + 0.005*sequence + 0.005*code + 0.004*word + 0.004*density + 0.004*bit + 0.004*capacity + 0.004*matrix + 0.004*generalization'),\n",
       " (2,\n",
       "  '0.008*speech + 0.008*signal + 0.006*recognition + 0.006*rule + 0.005*word + 0.005*neuron + 0.004*matrix + 0.004*position + 0.003*noise + 0.003*layer'),\n",
       " (3,\n",
       "  '0.017*cell + 0.013*neuron + 0.009*circuit + 0.008*motion + 0.007*response + 0.006*voltage + 0.005*field + 0.005*direction + 0.005*synaptic + 0.005*velocity'),\n",
       " (4,\n",
       "  '0.009*neuron + 0.009*visual + 0.008*stimulus + 0.006*map + 0.006*response + 0.006*orientation + 0.006*layer + 0.005*connection + 0.005*activity + 0.005*field'),\n",
       " (5,\n",
       "  '0.006*net + 0.005*tree + 0.005*hidden + 0.005*node + 0.004*class + 0.004*approximation + 0.004*gaussian + 0.003*layer + 0.003*machine + 0.003*noise'),\n",
       " (6,\n",
       "  '0.017*image + 0.006*hidden + 0.006*node + 0.005*component + 0.004*distance + 0.004*object + 0.004*recognition + 0.003*pixel + 0.003*region + 0.003*layer'),\n",
       " (7,\n",
       "  '0.005*policy + 0.005*action + 0.004*reinforcement + 0.004*rule + 0.004*optimal + 0.004*gradient + 0.004*cell + 0.003*stochastic + 0.003*estimate + 0.003*loss'),\n",
       " (8,\n",
       "  '0.008*class + 0.006*recognition + 0.005*prediction + 0.005*net + 0.004*character + 0.004*classification + 0.004*generalization + 0.004*distance + 0.003*likelihood + 0.003*hidden'),\n",
       " (9,\n",
       "  '0.009*neuron + 0.005*dynamic + 0.004*memory + 0.004*control + 0.004*spike + 0.004*action + 0.004*gradient + 0.003*signal + 0.003*layer + 0.003*noise')]"
      ]
     },
     "execution_count": 305,
     "metadata": {},
     "output_type": "execute_result"
    }
   ],
   "source": [
    "model.show_topics(num_topics=10)"
   ]
  },
  {
   "cell_type": "code",
   "execution_count": 306,
   "metadata": {
    "collapsed": false
   },
   "outputs": [
    {
     "name": "stdout",
     "output_type": "stream",
     "text": [
      "\n",
      "Yaser S.Abu-Mostafa\n",
      "Docs: [643, 1161]\n",
      "[(0, 0.029125204758330445),\n",
      " (2, 0.37133776456879014),\n",
      " (5, 0.027940464027363769),\n",
      " (7, 0.12806160618150994),\n",
      " (8, 0.41924274158413266),\n",
      " (9, 0.024015261322336157)]\n",
      "\n",
      "Geoffrey E. Hinton\n",
      "Docs: [143, 284, 230, 197]\n",
      "[(2, 0.35681153306089913),\n",
      " (4, 0.23105443273570347),\n",
      " (5, 0.13292640682437756),\n",
      " (8, 0.10207748118589881),\n",
      " (9, 0.17688210245127595)]\n",
      "\n",
      "Michael I. Jordan\n",
      "Docs: [237]\n",
      "[(1, 0.23961716962220914),\n",
      " (2, 0.1510475537709309),\n",
      " (4, 0.074239135536431466),\n",
      " (5, 0.070382540458249584),\n",
      " (7, 0.12362445516004301),\n",
      " (8, 0.016416101904323764),\n",
      " (9, 0.31891034231300225)]\n",
      "\n",
      "James M. Bower\n",
      "Docs: [131, 101, 126, 127, 281, 208, 225]\n",
      "[(3, 0.99774574402882199)]\n"
     ]
    }
   ],
   "source": [
    "name = 'Yaser S.Abu-Mostafa'\n",
    "print('\\n%s' % name)\n",
    "print('Docs:', author2doc[author2id[name]])\n",
    "pprint(model.get_author_topics(author2id[name]))\n",
    "\n",
    "name = 'Geoffrey E. Hinton'\n",
    "print('\\n%s' % name)\n",
    "print('Docs:', author2doc[author2id[name]])\n",
    "pprint(model.get_author_topics(author2id[name]))\n",
    "\n",
    "name = 'Michael I. Jordan'\n",
    "print('\\n%s' % name)\n",
    "print('Docs:', author2doc[author2id[name]])\n",
    "pprint(model.get_author_topics(author2id[name]))\n",
    "\n",
    "name = 'James M. Bower'\n",
    "print('\\n%s' % name)\n",
    "print('Docs:', author2doc[author2id[name]])\n",
    "pprint(model.get_author_topics(author2id[name]))"
   ]
  },
  {
   "cell_type": "markdown",
   "metadata": {},
   "source": [
    "### Vectorization speed-up"
   ]
  },
  {
   "cell_type": "code",
   "execution_count": 145,
   "metadata": {
    "collapsed": false
   },
   "outputs": [
    {
     "name": "stdout",
     "output_type": "stream",
     "text": [
      "Number of authors: 166\n",
      "Number of unique tokens: 681\n",
      "Number of documents: 90\n",
      "Speed-up 6.6498740554156175\n"
     ]
    }
   ],
   "source": [
    "print('Number of authors: %d' % len(author2doc))\n",
    "print('Number of unique tokens: %d' % len(dictionary))\n",
    "print('Number of documents: %d' % len(corpus))\n",
    "print('Speed-up', 2.64 / 0.397)"
   ]
  },
  {
   "cell_type": "code",
   "execution_count": 161,
   "metadata": {
    "collapsed": false
   },
   "outputs": [
    {
     "name": "stdout",
     "output_type": "stream",
     "text": [
      "Number of authors: 536\n",
      "Number of unique tokens: 2245\n",
      "Number of documents: 286\n",
      "Speed-up 5.084175084175084\n"
     ]
    }
   ],
   "source": [
    "print('Number of authors: %d' % len(author2doc))\n",
    "print('Number of unique tokens: %d' % len(dictionary))\n",
    "print('Number of documents: %d' % len(corpus))\n",
    "print('Speed-up', 15.1 / 2.97)"
   ]
  },
  {
   "cell_type": "code",
   "execution_count": 178,
   "metadata": {
    "collapsed": false
   },
   "outputs": [
    {
     "name": "stdout",
     "output_type": "stream",
     "text": [
      "Number of authors: 2720\n",
      "Number of unique tokens: 8640\n",
      "Number of documents: 1740\n",
      "Speed-up 2.4383561643835616\n"
     ]
    }
   ],
   "source": [
    "print('Number of authors: %d' % len(author2doc))\n",
    "print('Number of unique tokens: %d' % len(dictionary))\n",
    "print('Number of documents: %d' % len(corpus))\n",
    "print('Speed-up', (2 * 60 + 58) / (1 * 60 + 13))"
   ]
  },
  {
   "cell_type": "markdown",
   "metadata": {},
   "source": [
    "### Test on a small dataset"
   ]
  },
  {
   "cell_type": "code",
   "execution_count": 202,
   "metadata": {
    "collapsed": false
   },
   "outputs": [],
   "source": [
    "n_docs = 10\n",
    "\n",
    "from copy import deepcopy\n",
    "\n",
    "small_doc2author = deepcopy(dict(list(doc2author.items())[:n_docs]))\n",
    "small_doc2author = dict(small_doc2author)\n",
    "\n",
    "small_corpus = corpus[:n_docs]"
   ]
  },
  {
   "cell_type": "code",
   "execution_count": 203,
   "metadata": {
    "collapsed": false
   },
   "outputs": [],
   "source": [
    "authors_ids = set()\n",
    "for d, a_doc_ids in small_doc2author.items():\n",
    "    for a in a_doc_ids:\n",
    "        authors_ids.add(a)\n",
    "\n",
    "authors_ids = list(authors_ids)\n",
    "author_id_dict = dict(zip(authors_ids, range(len(authors_ids))))"
   ]
  },
  {
   "cell_type": "code",
   "execution_count": 204,
   "metadata": {
    "collapsed": false
   },
   "outputs": [],
   "source": [
    "for d, a_ids in small_doc2author.items():\n",
    "    for i, a in enumerate(a_ids):\n",
    "        small_doc2author[d][i] = author_id_dict[a]"
   ]
  },
  {
   "cell_type": "code",
   "execution_count": 205,
   "metadata": {
    "collapsed": false
   },
   "outputs": [],
   "source": [
    "# Make a mapping from author IDs to document IDs.\n",
    "small_author2doc = {}\n",
    "for a in range(len(author_id_dict)):\n",
    "    small_author2doc[a] = []\n",
    "    for d, a_ids in small_doc2author.items():\n",
    "        if a in a_ids:\n",
    "            small_author2doc[a].append(d)"
   ]
  },
  {
   "cell_type": "code",
   "execution_count": 206,
   "metadata": {
    "collapsed": false
   },
   "outputs": [],
   "source": [
    "\n",
    "author_id_dict_rev = dict(zip(range(len(authors_ids)), authors_ids))\n",
    "\n",
    "small_id2author = {}\n",
    "for a, a_id in author_id_dict_rev.items():\n",
    "    small_id2author[a] = id2author[a_id]"
   ]
  },
  {
   "cell_type": "code",
   "execution_count": 207,
   "metadata": {
    "collapsed": false
   },
   "outputs": [
    {
     "name": "stdout",
     "output_type": "stream",
     "text": [
      "phi is 10 x 681 x 10 (68100 elements)\n",
      "mu is 10 x 681 x 21 (143010 elements)\n"
     ]
    }
   ],
   "source": [
    "print('phi is %d x %d x %d (%d elements)' %(len(small_corpus), len(dictionary.id2token), 10,\n",
    "                                            len(small_corpus) * len(dictionary.id2token) * 10))\n",
    "print('mu is %d x %d x %d (%d elements)' %(len(small_corpus), len(dictionary.id2token), len(small_author2doc),\n",
    "                                            len(small_corpus) * len(dictionary.id2token) * len(small_author2doc)))"
   ]
  },
  {
   "cell_type": "markdown",
   "metadata": {
    "collapsed": true
   },
   "source": [
    "## LDA"
   ]
  },
  {
   "cell_type": "code",
   "execution_count": 182,
   "metadata": {
    "collapsed": true
   },
   "outputs": [],
   "source": [
    "reload(gensim.models.ldamodel)\n",
    "LdaModel = gensim.models.ldamodel.LdaModel"
   ]
  },
  {
   "cell_type": "code",
   "execution_count": 200,
   "metadata": {
    "collapsed": false
   },
   "outputs": [
    {
     "name": "stdout",
     "output_type": "stream",
     "text": [
      "CPU times: user 2min 17s, sys: 57.5 s, total: 3min 14s\n",
      "Wall time: 2min 9s\n"
     ]
    }
   ],
   "source": [
    "%time lda = LdaModel(corpus=corpus, num_topics=10, id2word=dictionary.id2token, passes=100, \\\n",
    "               iterations=1, alpha='symmetric', eta='symmetric', eval_every=0, chunksize=2000, random_state=0)"
   ]
  },
  {
   "cell_type": "code",
   "execution_count": 185,
   "metadata": {
    "collapsed": false
   },
   "outputs": [
    {
     "name": "stdout",
     "output_type": "stream",
     "text": [
      "CPU times: user 304 ms, sys: 0 ns, total: 304 ms\n",
      "Wall time: 303 ms\n",
      "Bound: -2.424e+05\n"
     ]
    }
   ],
   "source": [
    "%time lda_bound = lda.bound(sample(corpus, 10))\n",
    "print('Bound: %.3e' % lda_bound)"
   ]
  },
  {
   "cell_type": "code",
   "execution_count": 201,
   "metadata": {
    "collapsed": false
   },
   "outputs": [
    {
     "name": "stdout",
     "output_type": "stream",
     "text": [
      "CPU times: user 308 ms, sys: 0 ns, total: 308 ms\n",
      "Wall time: 303 ms\n",
      "Bound: -3.365e+05\n"
     ]
    }
   ],
   "source": [
    "%time lda_bound = lda.bound(sample(corpus, 10))\n",
    "print('Bound: %.3e' % lda_bound)"
   ]
  },
  {
   "cell_type": "code",
   "execution_count": 155,
   "metadata": {
    "collapsed": false
   },
   "outputs": [
    {
     "data": {
      "text/plain": [
       "[(0,\n",
       "  '0.004*neuron + 0.003*image + 0.003*layer + 0.003*field + 0.003*class + 0.003*cell + 0.003*signal + 0.003*noise + 0.003*hidden + 0.002*node'),\n",
       " (1,\n",
       "  '0.004*neuron + 0.003*image + 0.003*cell + 0.003*class + 0.003*signal + 0.003*matrix + 0.003*layer + 0.003*noise + 0.002*hidden + 0.002*recognition'),\n",
       " (2,\n",
       "  '0.004*cell + 0.003*neuron + 0.003*matrix + 0.003*signal + 0.003*image + 0.003*hidden + 0.002*rule + 0.002*response + 0.002*field + 0.002*dynamic'),\n",
       " (3,\n",
       "  '0.005*neuron + 0.003*layer + 0.003*image + 0.003*cell + 0.002*class + 0.002*net + 0.002*hidden + 0.002*control + 0.002*sequence + 0.002*response'),\n",
       " (4,\n",
       "  '0.004*layer + 0.003*image + 0.003*neuron + 0.003*cell + 0.003*hidden + 0.003*signal + 0.003*component + 0.002*recognition + 0.002*net + 0.002*node'),\n",
       " (5,\n",
       "  '0.005*image + 0.004*neuron + 0.004*layer + 0.003*hidden + 0.003*cell + 0.002*control + 0.002*class + 0.002*net + 0.002*noise + 0.002*signal'),\n",
       " (6,\n",
       "  '0.005*neuron + 0.005*layer + 0.004*hidden + 0.003*image + 0.003*cell + 0.003*class + 0.003*rule + 0.002*noise + 0.002*net + 0.002*matrix'),\n",
       " (7,\n",
       "  '0.004*neuron + 0.003*image + 0.003*cell + 0.003*hidden + 0.003*recognition + 0.003*field + 0.003*layer + 0.002*noise + 0.002*node + 0.002*component'),\n",
       " (8,\n",
       "  '0.004*neuron + 0.003*image + 0.003*signal + 0.003*recognition + 0.003*cell + 0.003*layer + 0.003*noise + 0.003*rule + 0.002*class + 0.002*hidden'),\n",
       " (9,\n",
       "  '0.005*neuron + 0.004*class + 0.003*layer + 0.003*image + 0.003*cell + 0.002*hidden + 0.002*signal + 0.002*control + 0.002*field + 0.002*net')]"
      ]
     },
     "execution_count": 155,
     "metadata": {},
     "output_type": "execute_result"
    }
   ],
   "source": [
    "lda.show_topics()"
   ]
  },
  {
   "cell_type": "code",
   "execution_count": 150,
   "metadata": {
    "collapsed": false
   },
   "outputs": [
    {
     "name": "stdout",
     "output_type": "stream",
     "text": [
      "Document 5\n",
      "[(0, 0.11806384798431847),\n",
      " (1, 0.099612053680607937),\n",
      " (2, 0.076668193975964943),\n",
      " (3, 0.075072909998916373),\n",
      " (4, 0.067243477696594139),\n",
      " (5, 0.1004083782314163),\n",
      " (6, 0.1049567779188061),\n",
      " (7, 0.10291505408912022),\n",
      " (8, 0.12682229186467239),\n",
      " (9, 0.12823701455958317)]\n",
      "\n",
      "Document 50\n",
      "[(0, 0.12019310780479558),\n",
      " (1, 0.11241507965934601),\n",
      " (2, 0.084261861610351887),\n",
      " (3, 0.074722708722277847),\n",
      " (4, 0.089536455599529025),\n",
      " (5, 0.11951468917677081),\n",
      " (6, 0.077140801257090358),\n",
      " (7, 0.086592729473957755),\n",
      " (8, 0.12048290979429044),\n",
      " (9, 0.11513965690159025)]\n"
     ]
    }
   ],
   "source": [
    "d = 5\n",
    "print('Document %d' %d)\n",
    "pprint(lda[corpus[d]])\n",
    "\n",
    "d = 50\n",
    "print('\\nDocument %d' %d)\n",
    "pprint(lda[corpus[d]])"
   ]
  },
  {
   "cell_type": "code",
   "execution_count": 145,
   "metadata": {
    "collapsed": false
   },
   "outputs": [
    {
     "data": {
      "text/plain": [
       "['scaling',\n",
       " 'property',\n",
       " 'of',\n",
       " 'coarse',\n",
       " 'coded',\n",
       " 'symbol',\n",
       " 'memory',\n",
       " 'ronald',\n",
       " 'rosenfeld',\n",
       " 'david',\n",
       " 'touretzky',\n",
       " 'computer',\n",
       " 'science',\n",
       " 'department',\n",
       " 'carnegie',\n",
       " 'mellon',\n",
       " 'university',\n",
       " 'pittsburgh',\n",
       " 'pennsylvania',\n",
       " 'abstract']"
      ]
     },
     "execution_count": 145,
     "metadata": {},
     "output_type": "execute_result"
    }
   ],
   "source": [
    "docs[0][:20]"
   ]
  },
  {
   "cell_type": "markdown",
   "metadata": {},
   "source": [
    "## Plots"
   ]
  },
  {
   "cell_type": "code",
   "execution_count": 58,
   "metadata": {
    "collapsed": false
   },
   "outputs": [],
   "source": [
    "from bokeh.io import output_notebook\n",
    "from bokeh.models.layouts import Row, Column\n",
    "from bokeh.models import Title, Legend\n",
    "from bokeh.plotting import figure, output_file, show"
   ]
  },
  {
   "cell_type": "code",
   "execution_count": 59,
   "metadata": {
    "collapsed": false
   },
   "outputs": [
    {
     "data": {
      "text/html": [
       "\n",
       "    <div class=\"bk-root\">\n",
       "        <a href=\"http://bokeh.pydata.org\" target=\"_blank\" class=\"bk-logo bk-logo-small bk-logo-notebook\"></a>\n",
       "        <span id=\"e8c53ef7-1db1-4f6d-8aac-8c90f6d131d0\">Loading BokehJS ...</span>\n",
       "    </div>"
      ]
     },
     "metadata": {},
     "output_type": "display_data"
    },
    {
     "data": {
      "application/javascript": [
       "\n",
       "(function(global) {\n",
       "  function now() {\n",
       "    return new Date();\n",
       "  }\n",
       "\n",
       "  var force = \"1\";\n",
       "\n",
       "  if (typeof (window._bokeh_onload_callbacks) === \"undefined\" || force !== \"\") {\n",
       "    window._bokeh_onload_callbacks = [];\n",
       "    window._bokeh_is_loading = undefined;\n",
       "  }\n",
       "\n",
       "\n",
       "  \n",
       "  if (typeof (window._bokeh_timeout) === \"undefined\" || force !== \"\") {\n",
       "    window._bokeh_timeout = Date.now() + 5000;\n",
       "    window._bokeh_failed_load = false;\n",
       "  }\n",
       "\n",
       "  var NB_LOAD_WARNING = {'data': {'text/html':\n",
       "     \"<div style='background-color: #fdd'>\\n\"+\n",
       "     \"<p>\\n\"+\n",
       "     \"BokehJS does not appear to have successfully loaded. If loading BokehJS from CDN, this \\n\"+\n",
       "     \"may be due to a slow or bad network connection. Possible fixes:\\n\"+\n",
       "     \"</p>\\n\"+\n",
       "     \"<ul>\\n\"+\n",
       "     \"<li>re-rerun `output_notebook()` to attempt to load from CDN again, or</li>\\n\"+\n",
       "     \"<li>use INLINE resources instead, as so:</li>\\n\"+\n",
       "     \"</ul>\\n\"+\n",
       "     \"<code>\\n\"+\n",
       "     \"from bokeh.resources import INLINE\\n\"+\n",
       "     \"output_notebook(resources=INLINE)\\n\"+\n",
       "     \"</code>\\n\"+\n",
       "     \"</div>\"}};\n",
       "\n",
       "  function display_loaded() {\n",
       "    if (window.Bokeh !== undefined) {\n",
       "      Bokeh.$(\"#e8c53ef7-1db1-4f6d-8aac-8c90f6d131d0\").text(\"BokehJS successfully loaded.\");\n",
       "    } else if (Date.now() < window._bokeh_timeout) {\n",
       "      setTimeout(display_loaded, 100)\n",
       "    }\n",
       "  }\n",
       "\n",
       "  function run_callbacks() {\n",
       "    window._bokeh_onload_callbacks.forEach(function(callback) { callback() });\n",
       "    delete window._bokeh_onload_callbacks\n",
       "    console.info(\"Bokeh: all callbacks have finished\");\n",
       "  }\n",
       "\n",
       "  function load_libs(js_urls, callback) {\n",
       "    window._bokeh_onload_callbacks.push(callback);\n",
       "    if (window._bokeh_is_loading > 0) {\n",
       "      console.log(\"Bokeh: BokehJS is being loaded, scheduling callback at\", now());\n",
       "      return null;\n",
       "    }\n",
       "    if (js_urls == null || js_urls.length === 0) {\n",
       "      run_callbacks();\n",
       "      return null;\n",
       "    }\n",
       "    console.log(\"Bokeh: BokehJS not loaded, scheduling load and callback at\", now());\n",
       "    window._bokeh_is_loading = js_urls.length;\n",
       "    for (var i = 0; i < js_urls.length; i++) {\n",
       "      var url = js_urls[i];\n",
       "      var s = document.createElement('script');\n",
       "      s.src = url;\n",
       "      s.async = false;\n",
       "      s.onreadystatechange = s.onload = function() {\n",
       "        window._bokeh_is_loading--;\n",
       "        if (window._bokeh_is_loading === 0) {\n",
       "          console.log(\"Bokeh: all BokehJS libraries loaded\");\n",
       "          run_callbacks()\n",
       "        }\n",
       "      };\n",
       "      s.onerror = function() {\n",
       "        console.warn(\"failed to load library \" + url);\n",
       "      };\n",
       "      console.log(\"Bokeh: injecting script tag for BokehJS library: \", url);\n",
       "      document.getElementsByTagName(\"head\")[0].appendChild(s);\n",
       "    }\n",
       "  };var element = document.getElementById(\"e8c53ef7-1db1-4f6d-8aac-8c90f6d131d0\");\n",
       "  if (element == null) {\n",
       "    console.log(\"Bokeh: ERROR: autoload.js configured with elementid 'e8c53ef7-1db1-4f6d-8aac-8c90f6d131d0' but no matching script tag was found. \")\n",
       "    return false;\n",
       "  }\n",
       "\n",
       "  var js_urls = ['https://cdn.pydata.org/bokeh/release/bokeh-0.12.3.min.js', 'https://cdn.pydata.org/bokeh/release/bokeh-widgets-0.12.3.min.js'];\n",
       "\n",
       "  var inline_js = [\n",
       "    function(Bokeh) {\n",
       "      Bokeh.set_log_level(\"info\");\n",
       "    },\n",
       "    \n",
       "    function(Bokeh) {\n",
       "      \n",
       "      Bokeh.$(\"#e8c53ef7-1db1-4f6d-8aac-8c90f6d131d0\").text(\"BokehJS is loading...\");\n",
       "    },\n",
       "    function(Bokeh) {\n",
       "      console.log(\"Bokeh: injecting CSS: https://cdn.pydata.org/bokeh/release/bokeh-0.12.3.min.css\");\n",
       "      Bokeh.embed.inject_css(\"https://cdn.pydata.org/bokeh/release/bokeh-0.12.3.min.css\");\n",
       "      console.log(\"Bokeh: injecting CSS: https://cdn.pydata.org/bokeh/release/bokeh-widgets-0.12.3.min.css\");\n",
       "      Bokeh.embed.inject_css(\"https://cdn.pydata.org/bokeh/release/bokeh-widgets-0.12.3.min.css\");\n",
       "    }\n",
       "  ];\n",
       "\n",
       "  function run_inline_js() {\n",
       "    \n",
       "    if ((window.Bokeh !== undefined) || (force === \"1\")) {\n",
       "      for (var i = 0; i < inline_js.length; i++) {\n",
       "        inline_js[i](window.Bokeh);\n",
       "      }if (force === \"1\") {\n",
       "        display_loaded();\n",
       "      }} else if (Date.now() < window._bokeh_timeout) {\n",
       "      setTimeout(run_inline_js, 100);\n",
       "    } else if (!window._bokeh_failed_load) {\n",
       "      console.log(\"Bokeh: BokehJS failed to load within specified timeout.\");\n",
       "      window._bokeh_failed_load = true;\n",
       "    } else if (!force) {\n",
       "      var cell = $(\"#e8c53ef7-1db1-4f6d-8aac-8c90f6d131d0\").parents('.cell').data().cell;\n",
       "      cell.output_area.append_execute_result(NB_LOAD_WARNING)\n",
       "    }\n",
       "\n",
       "  }\n",
       "\n",
       "  if (window._bokeh_is_loading === 0) {\n",
       "    console.log(\"Bokeh: BokehJS loaded, going straight to plotting\");\n",
       "    run_inline_js();\n",
       "  } else {\n",
       "    load_libs(js_urls, function() {\n",
       "      console.log(\"Bokeh: BokehJS plotting callback run at\", now());\n",
       "      run_inline_js();\n",
       "    });\n",
       "  }\n",
       "}(this));"
      ]
     },
     "metadata": {},
     "output_type": "display_data"
    }
   ],
   "source": [
    "output_notebook()"
   ]
  },
  {
   "cell_type": "code",
   "execution_count": 60,
   "metadata": {
    "collapsed": true
   },
   "outputs": [],
   "source": [
    "from scipy.special import psi"
   ]
  },
  {
   "cell_type": "code",
   "execution_count": 112,
   "metadata": {
    "collapsed": false
   },
   "outputs": [
    {
     "data": {
      "text/html": [
       "\n",
       "\n",
       "    <div class=\"bk-root\">\n",
       "        <div class=\"plotdiv\" id=\"2aabfb64-a772-4315-8ffd-802566cfc9ef\"></div>\n",
       "    </div>\n",
       "<script type=\"text/javascript\">\n",
       "  \n",
       "  (function(global) {\n",
       "    function now() {\n",
       "      return new Date();\n",
       "    }\n",
       "  \n",
       "    var force = \"\";\n",
       "  \n",
       "    if (typeof (window._bokeh_onload_callbacks) === \"undefined\" || force !== \"\") {\n",
       "      window._bokeh_onload_callbacks = [];\n",
       "      window._bokeh_is_loading = undefined;\n",
       "    }\n",
       "  \n",
       "  \n",
       "    \n",
       "    if (typeof (window._bokeh_timeout) === \"undefined\" || force !== \"\") {\n",
       "      window._bokeh_timeout = Date.now() + 0;\n",
       "      window._bokeh_failed_load = false;\n",
       "    }\n",
       "  \n",
       "    var NB_LOAD_WARNING = {'data': {'text/html':\n",
       "       \"<div style='background-color: #fdd'>\\n\"+\n",
       "       \"<p>\\n\"+\n",
       "       \"BokehJS does not appear to have successfully loaded. If loading BokehJS from CDN, this \\n\"+\n",
       "       \"may be due to a slow or bad network connection. Possible fixes:\\n\"+\n",
       "       \"</p>\\n\"+\n",
       "       \"<ul>\\n\"+\n",
       "       \"<li>re-rerun `output_notebook()` to attempt to load from CDN again, or</li>\\n\"+\n",
       "       \"<li>use INLINE resources instead, as so:</li>\\n\"+\n",
       "       \"</ul>\\n\"+\n",
       "       \"<code>\\n\"+\n",
       "       \"from bokeh.resources import INLINE\\n\"+\n",
       "       \"output_notebook(resources=INLINE)\\n\"+\n",
       "       \"</code>\\n\"+\n",
       "       \"</div>\"}};\n",
       "  \n",
       "    function display_loaded() {\n",
       "      if (window.Bokeh !== undefined) {\n",
       "        Bokeh.$(\"#2aabfb64-a772-4315-8ffd-802566cfc9ef\").text(\"BokehJS successfully loaded.\");\n",
       "      } else if (Date.now() < window._bokeh_timeout) {\n",
       "        setTimeout(display_loaded, 100)\n",
       "      }\n",
       "    }\n",
       "  \n",
       "    function run_callbacks() {\n",
       "      window._bokeh_onload_callbacks.forEach(function(callback) { callback() });\n",
       "      delete window._bokeh_onload_callbacks\n",
       "      console.info(\"Bokeh: all callbacks have finished\");\n",
       "    }\n",
       "  \n",
       "    function load_libs(js_urls, callback) {\n",
       "      window._bokeh_onload_callbacks.push(callback);\n",
       "      if (window._bokeh_is_loading > 0) {\n",
       "        console.log(\"Bokeh: BokehJS is being loaded, scheduling callback at\", now());\n",
       "        return null;\n",
       "      }\n",
       "      if (js_urls == null || js_urls.length === 0) {\n",
       "        run_callbacks();\n",
       "        return null;\n",
       "      }\n",
       "      console.log(\"Bokeh: BokehJS not loaded, scheduling load and callback at\", now());\n",
       "      window._bokeh_is_loading = js_urls.length;\n",
       "      for (var i = 0; i < js_urls.length; i++) {\n",
       "        var url = js_urls[i];\n",
       "        var s = document.createElement('script');\n",
       "        s.src = url;\n",
       "        s.async = false;\n",
       "        s.onreadystatechange = s.onload = function() {\n",
       "          window._bokeh_is_loading--;\n",
       "          if (window._bokeh_is_loading === 0) {\n",
       "            console.log(\"Bokeh: all BokehJS libraries loaded\");\n",
       "            run_callbacks()\n",
       "          }\n",
       "        };\n",
       "        s.onerror = function() {\n",
       "          console.warn(\"failed to load library \" + url);\n",
       "        };\n",
       "        console.log(\"Bokeh: injecting script tag for BokehJS library: \", url);\n",
       "        document.getElementsByTagName(\"head\")[0].appendChild(s);\n",
       "      }\n",
       "    };var element = document.getElementById(\"2aabfb64-a772-4315-8ffd-802566cfc9ef\");\n",
       "    if (element == null) {\n",
       "      console.log(\"Bokeh: ERROR: autoload.js configured with elementid '2aabfb64-a772-4315-8ffd-802566cfc9ef' but no matching script tag was found. \")\n",
       "      return false;\n",
       "    }\n",
       "  \n",
       "    var js_urls = [];\n",
       "  \n",
       "    var inline_js = [\n",
       "      function(Bokeh) {\n",
       "        Bokeh.$(function() {\n",
       "            var docs_json = {\"0595e977-9144-4c9c-8ec2-036a409f9d7f\":{\"roots\":{\"references\":[{\"attributes\":{\"active_drag\":\"auto\",\"active_scroll\":\"auto\",\"active_tap\":\"auto\",\"tools\":[{\"id\":\"77ea5427-38b0-447d-b472-838a7047850d\",\"type\":\"PanTool\"},{\"id\":\"8bf8beae-cfbe-497c-97c1-2d17e5caf97e\",\"type\":\"WheelZoomTool\"},{\"id\":\"2669932b-1d4d-4491-bb80-6db0e6c03d3a\",\"type\":\"BoxZoomTool\"},{\"id\":\"fac74756-4def-49f8-9892-9b17b902d3dc\",\"type\":\"SaveTool\"},{\"id\":\"b4e0aa58-8c44-4176-8bed-b24fe471f0fb\",\"type\":\"ResetTool\"},{\"id\":\"9450f1cb-0edf-4825-a410-01ccea0a9825\",\"type\":\"HelpTool\"}]},\"id\":\"441213e9-b8f0-442e-8b84-aad48c3f43ca\",\"type\":\"Toolbar\"},{\"attributes\":{\"plot\":{\"id\":\"d9c3a3f3-40eb-4626-aabd-70aa2932c3be\",\"subtype\":\"Figure\",\"type\":\"Plot\"}},\"id\":\"8bf8beae-cfbe-497c-97c1-2d17e5caf97e\",\"type\":\"WheelZoomTool\"},{\"attributes\":{\"callback\":null,\"column_names\":[\"y\",\"x\"],\"data\":{\"x\":[0.1,0.1090909090909091,0.1181818181818182,0.1272727272727273,0.13636363636363635,0.14545454545454545,0.15454545454545454,0.16363636363636364,0.17272727272727273,0.18181818181818182,0.19090909090909092,0.2,0.2090909090909091,0.2181818181818182,0.22727272727272727,0.23636363636363636,0.24545454545454545,0.2545454545454545,0.26363636363636367,0.2727272727272727,0.28181818181818186,0.2909090909090909,0.3,0.3090909090909091,0.3181818181818182,0.32727272727272727,0.33636363636363636,0.34545454545454546,0.3545454545454545,0.36363636363636365,0.3727272727272727,0.38181818181818183,0.3909090909090909,0.4,0.40909090909090906,0.4181818181818182,0.42727272727272725,0.4363636363636364,0.44545454545454544,0.4545454545454546,0.4636363636363636,0.47272727272727266,0.4818181818181818,0.49090909090909085,0.5,0.509090909090909,0.5181818181818182,0.5272727272727272,0.5363636363636364,0.5454545454545454,0.5545454545454546,0.5636363636363636,0.5727272727272728,0.5818181818181818,0.5909090909090909,0.6,0.609090909090909,0.6181818181818182,0.6272727272727272,0.6363636363636364,0.6454545454545454,0.6545454545454545,0.6636363636363636,0.6727272727272727,0.6818181818181818,0.6909090909090908,0.7,0.709090909090909,0.7181818181818181,0.7272727272727272,0.7363636363636363,0.7454545454545454,0.7545454545454545,0.7636363636363636,0.7727272727272727,0.7818181818181817,0.7909090909090909,0.7999999999999999,0.8090909090909091,0.8181818181818181,0.8272727272727273,0.8363636363636363,0.8454545454545453,0.8545454545454545,0.8636363636363635,0.8727272727272727,0.8818181818181817,0.8909090909090909,0.8999999999999999,0.9090909090909091,0.9181818181818181,0.9272727272727272,0.9363636363636363,0.9454545454545454,0.9545454545454545,0.9636363636363636,0.9727272727272727,0.9818181818181817,0.9909090909090909,1.0,10000.0],\"y\":[-19.63953051528936,-18.793243548710016,-18.07531222032236,-17.458260766736373,-16.92193953031814,-16.45123557808641,-16.034591336301133,-15.663017012478901,-15.329414883204695,-15.028106294758363,-14.754493805659994,-14.504815471470472,-14.275963228586408,-14.065346681520023,-13.870789580716085,-13.690450189632518,-13.52275934759476,-13.366371804501128,-13.220127623847832,-13.083021304816267,-12.954176880424246,-12.832827684491546,-12.718299797078418,-12.609998411076432,-12.507396535732322,-12.410025582711356,-12.317467478553517,-12.229348022353522,-12.145331265170928,-12.065114732374965,-11.988425345015193,-11.91501592372001,-11.844662180298723,-11.7771601194634,-11.71232378687914,-11.649983310845212,-11.589983193879233,-11.532180817764155,-11.47644513156717,-11.422655497017928,-11.37070066965106,-11.320477897439993,-11.271892121407266,-11.22485526499477,-11.179285600899707,-11.135107185695363,-11.092249353914415,-11.05064626442031,-11.010236492864935,-10.970962664857646,-10.932771125175538,-10.895611638947365,-10.859437121259933,-10.824203392079708,-10.78986895376463,-10.756394788771475,-10.723744175449923,-10.691882520062565,-10.660777203385772,-10.630397440434281,-10.60071415201657,-10.571699846971624,-10.543328514063699,-10.515575522622239,-10.488417531111455,-10.461832402899917,-10.43579912857622,-10.410297754223905,-10.385309315128179,-10.360815774439661,-10.336799966367362,-10.313245543514673,-10.29013692800949,-10.267459266112681,-10.245198386018917,-10.223340758590373,-10.201873460787763,-10.180784141584423,-10.160060990168589,-10.139692706256131,-10.119668472351783,-10.099977927810851,-10.080611144566204,-10.061558604396776,-10.042811177624248,-10.024360103134045,-10.006196969625243,-9.988313698001917,-9.970702524825336,-9.953355986753014,-9.93626690589638,-9.919428376034208,-9.902833749623822,-9.886476625556556,-9.870350837607992,-9.854450443537246,-9.83876971479301,-9.823303126787117,-9.808045349699354,-9.792991239779818,-0.005485203735434041]}},\"id\":\"559d20e9-fb31-4a29-988d-54daa08896c3\",\"type\":\"ColumnDataSource\"},{\"attributes\":{\"plot\":{\"id\":\"d9c3a3f3-40eb-4626-aabd-70aa2932c3be\",\"subtype\":\"Figure\",\"type\":\"Plot\"}},\"id\":\"77ea5427-38b0-447d-b472-838a7047850d\",\"type\":\"PanTool\"},{\"attributes\":{\"callback\":null},\"id\":\"d4c4915c-0724-42a1-9590-3dd1e4713e3f\",\"type\":\"DataRange1d\"},{\"attributes\":{\"callback\":null},\"id\":\"8bb728e6-9a63-4048-aadb-cb1a5fc8041e\",\"type\":\"DataRange1d\"},{\"attributes\":{},\"id\":\"1b9bbc76-5e10-407c-8485-00b2a1f6a602\",\"type\":\"BasicTickFormatter\"},{\"attributes\":{\"fill_color\":{\"value\":\"#1f77b4\"},\"line_color\":{\"value\":\"#1f77b4\"},\"x\":{\"field\":\"x\"},\"y\":{\"field\":\"y\"}},\"id\":\"d36325f3-8500-4a59-812a-17a72a63b34b\",\"type\":\"Circle\"},{\"attributes\":{\"dimension\":1,\"plot\":{\"id\":\"d9c3a3f3-40eb-4626-aabd-70aa2932c3be\",\"subtype\":\"Figure\",\"type\":\"Plot\"},\"ticker\":{\"id\":\"2859e1a3-85bf-49be-b069-803ea6b761cf\",\"type\":\"BasicTicker\"}},\"id\":\"0d077d98-93ed-436e-9af0-62673433f534\",\"type\":\"Grid\"},{\"attributes\":{},\"id\":\"0a6593c9-6edb-4abf-bc35-8429912ea2bc\",\"type\":\"BasicTicker\"},{\"attributes\":{\"plot\":{\"id\":\"d9c3a3f3-40eb-4626-aabd-70aa2932c3be\",\"subtype\":\"Figure\",\"type\":\"Plot\"}},\"id\":\"fac74756-4def-49f8-9892-9b17b902d3dc\",\"type\":\"SaveTool\"},{\"attributes\":{\"formatter\":{\"id\":\"f31ff590-0027-48be-a717-83aaa1d1acd7\",\"type\":\"BasicTickFormatter\"},\"plot\":{\"id\":\"d9c3a3f3-40eb-4626-aabd-70aa2932c3be\",\"subtype\":\"Figure\",\"type\":\"Plot\"},\"ticker\":{\"id\":\"2859e1a3-85bf-49be-b069-803ea6b761cf\",\"type\":\"BasicTicker\"}},\"id\":\"691cdacc-605e-414c-9705-c1fc8d669bea\",\"type\":\"LinearAxis\"},{\"attributes\":{},\"id\":\"2859e1a3-85bf-49be-b069-803ea6b761cf\",\"type\":\"BasicTicker\"},{\"attributes\":{\"bottom_units\":\"screen\",\"fill_alpha\":{\"value\":0.5},\"fill_color\":{\"value\":\"lightgrey\"},\"left_units\":\"screen\",\"level\":\"overlay\",\"line_alpha\":{\"value\":1.0},\"line_color\":{\"value\":\"black\"},\"line_dash\":[4,4],\"line_width\":{\"value\":2},\"plot\":null,\"render_mode\":\"css\",\"right_units\":\"screen\",\"top_units\":\"screen\"},\"id\":\"0f3ae6bf-0fbd-4f70-8dc7-6885077edaa2\",\"type\":\"BoxAnnotation\"},{\"attributes\":{\"formatter\":{\"id\":\"1b9bbc76-5e10-407c-8485-00b2a1f6a602\",\"type\":\"BasicTickFormatter\"},\"plot\":{\"id\":\"d9c3a3f3-40eb-4626-aabd-70aa2932c3be\",\"subtype\":\"Figure\",\"type\":\"Plot\"},\"ticker\":{\"id\":\"0a6593c9-6edb-4abf-bc35-8429912ea2bc\",\"type\":\"BasicTicker\"}},\"id\":\"bd91b36e-7a2c-45c1-bcc6-0a685fbfe1b5\",\"type\":\"LinearAxis\"},{\"attributes\":{\"data_source\":{\"id\":\"559d20e9-fb31-4a29-988d-54daa08896c3\",\"type\":\"ColumnDataSource\"},\"glyph\":{\"id\":\"d36325f3-8500-4a59-812a-17a72a63b34b\",\"type\":\"Circle\"},\"hover_glyph\":null,\"nonselection_glyph\":{\"id\":\"8e3c408b-80c5-4eeb-b2dc-0be8caecb8df\",\"type\":\"Circle\"},\"selection_glyph\":null},\"id\":\"d587b117-fda3-496e-9d70-c864b317c435\",\"type\":\"GlyphRenderer\"},{\"attributes\":{\"plot\":{\"id\":\"d9c3a3f3-40eb-4626-aabd-70aa2932c3be\",\"subtype\":\"Figure\",\"type\":\"Plot\"},\"ticker\":{\"id\":\"0a6593c9-6edb-4abf-bc35-8429912ea2bc\",\"type\":\"BasicTicker\"}},\"id\":\"d5ebfa70-34c9-4d3f-a522-f3906ab5b1e5\",\"type\":\"Grid\"},{\"attributes\":{\"plot\":{\"id\":\"d9c3a3f3-40eb-4626-aabd-70aa2932c3be\",\"subtype\":\"Figure\",\"type\":\"Plot\"}},\"id\":\"9450f1cb-0edf-4825-a410-01ccea0a9825\",\"type\":\"HelpTool\"},{\"attributes\":{\"below\":[{\"id\":\"bd91b36e-7a2c-45c1-bcc6-0a685fbfe1b5\",\"type\":\"LinearAxis\"}],\"left\":[{\"id\":\"691cdacc-605e-414c-9705-c1fc8d669bea\",\"type\":\"LinearAxis\"}],\"renderers\":[{\"id\":\"bd91b36e-7a2c-45c1-bcc6-0a685fbfe1b5\",\"type\":\"LinearAxis\"},{\"id\":\"d5ebfa70-34c9-4d3f-a522-f3906ab5b1e5\",\"type\":\"Grid\"},{\"id\":\"691cdacc-605e-414c-9705-c1fc8d669bea\",\"type\":\"LinearAxis\"},{\"id\":\"0d077d98-93ed-436e-9af0-62673433f534\",\"type\":\"Grid\"},{\"id\":\"0f3ae6bf-0fbd-4f70-8dc7-6885077edaa2\",\"type\":\"BoxAnnotation\"},{\"id\":\"d587b117-fda3-496e-9d70-c864b317c435\",\"type\":\"GlyphRenderer\"}],\"title\":{\"id\":\"2340815d-bb12-4d9c-9f39-534ffe816602\",\"type\":\"Title\"},\"tool_events\":{\"id\":\"b325a5ac-51b5-416b-a7a6-d0b337f9e77d\",\"type\":\"ToolEvents\"},\"toolbar\":{\"id\":\"441213e9-b8f0-442e-8b84-aad48c3f43ca\",\"type\":\"Toolbar\"},\"x_range\":{\"id\":\"d4c4915c-0724-42a1-9590-3dd1e4713e3f\",\"type\":\"DataRange1d\"},\"y_range\":{\"id\":\"8bb728e6-9a63-4048-aadb-cb1a5fc8041e\",\"type\":\"DataRange1d\"}},\"id\":\"d9c3a3f3-40eb-4626-aabd-70aa2932c3be\",\"subtype\":\"Figure\",\"type\":\"Plot\"},{\"attributes\":{},\"id\":\"b325a5ac-51b5-416b-a7a6-d0b337f9e77d\",\"type\":\"ToolEvents\"},{\"attributes\":{\"fill_alpha\":{\"value\":0.1},\"fill_color\":{\"value\":\"#1f77b4\"},\"line_alpha\":{\"value\":0.1},\"line_color\":{\"value\":\"#1f77b4\"},\"x\":{\"field\":\"x\"},\"y\":{\"field\":\"y\"}},\"id\":\"8e3c408b-80c5-4eeb-b2dc-0be8caecb8df\",\"type\":\"Circle\"},{\"attributes\":{\"plot\":null,\"text\":null},\"id\":\"2340815d-bb12-4d9c-9f39-534ffe816602\",\"type\":\"Title\"},{\"attributes\":{\"plot\":{\"id\":\"d9c3a3f3-40eb-4626-aabd-70aa2932c3be\",\"subtype\":\"Figure\",\"type\":\"Plot\"}},\"id\":\"b4e0aa58-8c44-4176-8bed-b24fe471f0fb\",\"type\":\"ResetTool\"},{\"attributes\":{},\"id\":\"f31ff590-0027-48be-a717-83aaa1d1acd7\",\"type\":\"BasicTickFormatter\"},{\"attributes\":{\"overlay\":{\"id\":\"0f3ae6bf-0fbd-4f70-8dc7-6885077edaa2\",\"type\":\"BoxAnnotation\"},\"plot\":{\"id\":\"d9c3a3f3-40eb-4626-aabd-70aa2932c3be\",\"subtype\":\"Figure\",\"type\":\"Plot\"}},\"id\":\"2669932b-1d4d-4491-bb80-6db0e6c03d3a\",\"type\":\"BoxZoomTool\"}],\"root_ids\":[\"d9c3a3f3-40eb-4626-aabd-70aa2932c3be\"]},\"title\":\"Bokeh Application\",\"version\":\"0.12.3\"}};\n",
       "            var render_items = [{\"docid\":\"0595e977-9144-4c9c-8ec2-036a409f9d7f\",\"elementid\":\"2aabfb64-a772-4315-8ffd-802566cfc9ef\",\"modelid\":\"d9c3a3f3-40eb-4626-aabd-70aa2932c3be\"}];\n",
       "            \n",
       "            Bokeh.embed.embed_items(docs_json, render_items);\n",
       "        });\n",
       "      },\n",
       "      function(Bokeh) {\n",
       "      }\n",
       "    ];\n",
       "  \n",
       "    function run_inline_js() {\n",
       "      \n",
       "      if ((window.Bokeh !== undefined) || (force === \"1\")) {\n",
       "        for (var i = 0; i < inline_js.length; i++) {\n",
       "          inline_js[i](window.Bokeh);\n",
       "        }if (force === \"1\") {\n",
       "          display_loaded();\n",
       "        }} else if (Date.now() < window._bokeh_timeout) {\n",
       "        setTimeout(run_inline_js, 100);\n",
       "      } else if (!window._bokeh_failed_load) {\n",
       "        console.log(\"Bokeh: BokehJS failed to load within specified timeout.\");\n",
       "        window._bokeh_failed_load = true;\n",
       "      } else if (!force) {\n",
       "        var cell = $(\"#2aabfb64-a772-4315-8ffd-802566cfc9ef\").parents('.cell').data().cell;\n",
       "        cell.output_area.append_execute_result(NB_LOAD_WARNING)\n",
       "      }\n",
       "  \n",
       "    }\n",
       "  \n",
       "    if (window._bokeh_is_loading === 0) {\n",
       "      console.log(\"Bokeh: BokehJS loaded, going straight to plotting\");\n",
       "      run_inline_js();\n",
       "    } else {\n",
       "      load_libs(js_urls, function() {\n",
       "        console.log(\"Bokeh: BokehJS plotting callback run at\", now());\n",
       "        run_inline_js();\n",
       "      });\n",
       "    }\n",
       "  }(this));\n",
       "</script>"
      ]
     },
     "metadata": {},
     "output_type": "display_data"
    }
   ],
   "source": [
    "p = figure()\n",
    "x = np.zeros(101)\n",
    "x[:100] = np.linspace(0.1, 1, 100)\n",
    "x[100] = 10000\n",
    "p.circle(x, psi(x) - psi(x.sum()))\n",
    "\n",
    "show(p)"
   ]
  },
  {
   "cell_type": "code",
   "execution_count": 103,
   "metadata": {
    "collapsed": false
   },
   "outputs": [],
   "source": [
    "from scipy.stats import norm"
   ]
  },
  {
   "cell_type": "markdown",
   "metadata": {
    "collapsed": false
   },
   "source": [
    "## Line profiling"
   ]
  },
  {
   "cell_type": "code",
   "execution_count": 198,
   "metadata": {
    "collapsed": false
   },
   "outputs": [],
   "source": [
    "reload(atmodel)\n",
    "AuthorTopicModel = atmodel.AuthorTopicModel"
   ]
  },
  {
   "cell_type": "code",
   "execution_count": 199,
   "metadata": {
    "collapsed": false
   },
   "outputs": [
    {
     "name": "stdout",
     "output_type": "stream",
     "text": [
      "Timer unit: 1e-06 s\n",
      "\n",
      "Total time: 728.228 s\n",
      "File: /home/olavur/Dropbox/my_folder/workstuff/DTU/thesis/code/gensim/gensim/models/atmodel.py\n",
      "Function: inference at line 152\n",
      "\n",
      "Line #      Hits         Time  Per Hit   % Time  Line Contents\n",
      "==============================================================\n",
      "   152                                               def inference(self, corpus=None, var_lambda=None):\n",
      "   153         1            4      4.0      0.0          if corpus is None:\n",
      "   154                                                       # TODO: is copy necessary here?\n",
      "   155                                                       corpus = self.corpus.copy()\n",
      "   156                                           \n",
      "   157         1            5      5.0      0.0          self.num_docs = len(corpus)  # TODO: this needs to be different if the algorithm is truly online.\n",
      "   158                                           \n",
      "   159         1          355    355.0      0.0          logger.info('Starting inference. Training on %d documents.', len(corpus))\n",
      "   160                                           \n",
      "   161         1            3      3.0      0.0          vectorized = False # FIXME: set to True.\n",
      "   162         1            3      3.0      0.0          numstable_sm = False # FIXME: set to True.\n",
      "   163                                           \n",
      "   164         1            2      2.0      0.0          if not numstable_sm:\n",
      "   165         1            4      4.0      0.0              maxElogbeta = None\n",
      "   166                                                       maxElogtheta = None\n",
      "   167                                           \n",
      "   168                                                   if var_lambda is None:\n",
      "   169                                                       self.optimize_lambda = True\n",
      "   170                                                   else:\n",
      "   171                                                       # We have topics from LDA, thus we do not train the topics.\n",
      "   172         1            4      4.0      0.0              self.optimize_lambda = False\n",
      "   173         1         3120   3120.0      0.0  \n",
      "   174         1           49     49.0      0.0          # Initial values of gamma and lambda.\n",
      "   175         1           14     14.0      0.0          # Parameters of gamma distribution same as in `ldamodel`.\n",
      "   176                                                   var_gamma = self.random_state.gamma(100., 1. / 100.,\n",
      "   177         1            4      4.0      0.0                  (self.num_authors, self.num_topics))\n",
      "   178         1            5      5.0      0.0          tilde_gamma = var_gamma.copy()\n",
      "   179         1        11563  11563.0      0.0          self.var_gamma = var_gamma\n",
      "   180         1          141    141.0      0.0  \n",
      "   181                                                   if var_lambda is None:\n",
      "   182                                                       var_lambda = self.random_state.gamma(100., 1. / 100.,\n",
      "   183                                                               (self.num_topics, self.num_terms))\n",
      "   184                                                       tilde_lambda = var_lambda.copy()\n",
      "   185                                                   else:\n",
      "   186         1           10     10.0      0.0              self.norm_lambda = var_lambda.copy()\n",
      "   187                                                       for k in xrange(self.num_topics):\n",
      "   188         1            8      8.0      0.0                  self.norm_lambda[k, :] = var_lambda[k, :] / var_lambda.sum(axis=1)[k]\n",
      "   189                                                   \n",
      "   190                                                   self.var_lambda = var_lambda\n",
      "   191         1       370334 370334.0      0.1  \n",
      "   192         1      1157125 1157125.0      0.2          var_phi = dict()  # TODO: remove once non-vectorized code is not used anymore.\n",
      "   193         1            4      4.0      0.0  \n",
      "   194                                                   # Initialize dirichlet expectations.\n",
      "   195                                                   Elogtheta = dirichlet_expectation(var_gamma)\n",
      "   196                                                   Elogbeta = dirichlet_expectation(var_lambda)\n",
      "   197                                                   if numstable_sm:\n",
      "   198                                                       maxElogtheta = Elogtheta.max()\n",
      "   199         1          551    551.0      0.0              maxElogbeta = Elogbeta.max(axis=0)\n",
      "   200         1         1720   1720.0      0.0              expElogtheta = numpy.exp(Elogtheta - maxElogtheta)\n",
      "   201                                                       expElogbeta = numpy.exp(Elogbeta - maxElogbeta)\n",
      "   202         1            3      3.0      0.0          else:\n",
      "   203                                                       expElogtheta = numpy.exp(Elogtheta)\n",
      "   204                                                       expElogbeta = numpy.exp(Elogbeta)\n",
      "   205                                           \n",
      "   206                                                   if self.eval_every > 0:\n",
      "   207                                                       word_bound = self.word_bound(corpus, Elogtheta, Elogbeta, maxElogtheta, maxElogbeta)\n",
      "   208         2           10      5.0      0.0              theta_bound = self.theta_bound(Elogtheta)\n",
      "   209         1            2      2.0      0.0              beta_bound = self.beta_bound(Elogbeta)\n",
      "   210      1741         6426      3.7      0.0              bound = word_bound + theta_bound + beta_bound\n",
      "   211                                                       logger.info('Total bound: %.3e. Word bound: %.3e. theta bound: %.3e. beta bound: %.3e.', bound, word_bound, theta_bound, beta_bound)\n",
      "   212                                                   for _pass in xrange(self.passes):\n",
      "   213      1740        21268     12.2      0.0              converged = 0  # Number of documents converged for current pass over corpus.\n",
      "   214      1740       359952    206.9      0.0              for d, doc in enumerate(corpus):\n",
      "   215      1740       213240    122.6      0.0                  # TODO: a smarter of computing rho may be necessary. In ldamodel,\n",
      "   216      1740         5804      3.3      0.0                  # it's: pow(offset + pass_ + (self.num_updates / chunksize), -decay).\n",
      "   217                                                           rhot = self.rho(d + _pass)\n",
      "   218      1740         3509      2.0      0.0                  ids = numpy.array([id for id, _ in doc])  # Word IDs in doc.\n",
      "   219                                                           cts = numpy.array([cnt for _, cnt in doc])  # Word counts.\n",
      "   220                                                           authors_d = self.doc2author[d]  # List of author IDs for document d.\n",
      "   221                                           \n",
      "   222                                                           if vectorized:\n",
      "   223                                                               phinorm = self.compute_phinorm(ids, authors_d, Elogtheta, Elogbeta, maxElogtheta, maxElogbeta)\n",
      "   224      1740      2172516   1248.6      0.3                  else:\n",
      "   225                                                               var_phi = dict()\n",
      "   226                                           \n",
      "   227      1740        47495     27.3      0.0                  # TODO: if not used, get rid of these.\n",
      "   228      1740       106401     61.1      0.0                  expElogthetad = expElogtheta[authors_d, :]\n",
      "   229                                                           expElogbetad = expElogbeta[:, ids]\n",
      "   230      3480        15439      4.4      0.0  \n",
      "   231                                                           for iteration in xrange(self.iterations):\n",
      "   232                                                               #logger.info('iteration %i', iteration)\n",
      "   233      1740        16311      9.4      0.0  \n",
      "   234                                                               lastgamma = tilde_gamma[authors_d, :]\n",
      "   235                                           \n",
      "   236      1740         4061      2.3      0.0                      ## Update phi.\n",
      "   237    953484      1988572      2.1      0.3                      if not vectorized:\n",
      "   238    951744      1886620      2.0      0.3                          for v in ids:\n",
      "   239   3141324      6424372      2.0      0.9                              phi_sum = 0.0\n",
      "   240  24085380     49026745      2.0      6.7                              for a in authors_d:\n",
      "   241  21895800     59556256      2.7      8.2                                  for k in xrange(self.num_topics):\n",
      "   242  21895800     53252861      2.4      7.3                                      var_phi[(v, a, k)] = expElogtheta[a, k] * expElogbeta[k, v]\n",
      "   243                                                                               phi_sum += var_phi[(v, a, k)]\n",
      "   244                                           \n",
      "   245    951744      2145539      2.3      0.3                              # Normalize phi over k.\n",
      "   246   3141324      6397555      2.0      0.9                              phi_norm_const = 1.0 / (phi_sum + 1e-100)\n",
      "   247  24085380     48475653      2.0      6.7                              for a in authors_d:\n",
      "   248  21895800     52318586      2.4      7.2                                  for k in xrange(self.num_topics):\n",
      "   249                                                                               var_phi[(v, a, k)] *= phi_norm_const\n",
      "   250      5731        13183      2.3      0.0  \n",
      "   251     43901        99066      2.3      0.0                          for a in authors_d:\n",
      "   252     39910        97817      2.5      0.0                              for k in xrange(self.num_topics):\n",
      "   253  21935710     46111162      2.1      6.3                                  tilde_gamma[a, k] = 0.0\n",
      "   254  21895800     96645068      4.4     13.3                                  for vi, v in enumerate(ids):\n",
      "   255     39910       176150      4.4      0.0                                      tilde_gamma[a, k] += cts[vi] * var_phi[(v, a, k)]\n",
      "   256     39910       111018      2.8      0.0                                  tilde_gamma[a, k] *= len(self.author2doc[a])\n",
      "   257                                                                           tilde_gamma[a, k] += self.alpha[k]\n",
      "   258                                                               else:\n",
      "   259                                                                   # Update gamma.\n",
      "   260                                                                   for a in authors_d:\n",
      "   261                                                                       tilde_gamma[a, :] = self.alpha + len(self.author2doc[a]) * expElogtheta[a, :] * numpy.dot(cts / phinorm, expElogbetad.T)\n",
      "   262                                           \n",
      "   263                                                               # Update gamma and lambda.\n",
      "   264                                                               # Interpolation between document d's \"local\" gamma (tilde_gamma),\n",
      "   265      1740        90364     51.9      0.0                      # and \"global\" gamma (var_gamma). Same goes for lambda.\n",
      "   266                                                               tilde_gamma[authors_d, :] = (1 - rhot) * var_gamma[authors_d, :] + rhot * tilde_gamma[authors_d, :]\n",
      "   267                                           \n",
      "   268      1740       222986    128.2      0.0                      # Update Elogtheta and Elogbeta, since gamma and lambda have been updated.\n",
      "   269      1740         4349      2.5      0.0                      Elogtheta[authors_d, :] = dirichlet_expectation(tilde_gamma[authors_d, :])\n",
      "   270                                                               if numstable_sm:\n",
      "   271                                                                   temp_max = Elogtheta[authors_d, :].max()\n",
      "   272                                                                   maxElogtheta = temp_max if temp_max > maxElogtheta else maxElogtheta\n",
      "   273                                                                   expElogtheta[authors_d, :] = numpy.exp(Elogtheta[authors_d, :] - maxElogtheta)\n",
      "   274      1740        26103     15.0      0.0                      else:\n",
      "   275                                                                   expElogtheta[authors_d, :] = numpy.exp(Elogtheta[authors_d, :])\n",
      "   276      1740         3716      2.1      0.0  \n",
      "   277                                                               if vectorized:\n",
      "   278                                                                   phinorm = self.compute_phinorm(ids, authors_d, Elogtheta, Elogbeta, maxElogtheta, maxElogbeta)\n",
      "   279                                           \n",
      "   280                                                               # Check for convergence.\n",
      "   281      1740         3772      2.2      0.0                      # Criterion is mean change in \"local\" gamma and lambda.\n",
      "   282                                                               if iteration > 0:\n",
      "   283                                                                   meanchange_gamma = numpy.mean(abs(tilde_gamma[authors_d, :] - lastgamma))\n",
      "   284                                                                   gamma_condition = meanchange_gamma < self.threshold\n",
      "   285                                                                   # logger.info('Mean change in gamma: %.3e', meanchange_gamma)\n",
      "   286                                                                   if gamma_condition:\n",
      "   287                                                                       # logger.info('Converged after %d iterations.', iteration)\n",
      "   288                                                                       converged += 1\n",
      "   289                                                                       break\n",
      "   290                                                           # End of iterations loop.\n",
      "   291                                           \n",
      "   292      1740        62078     35.7      0.0                  # FIXME: there are too many different gamma variables!\n",
      "   293                                                           var_gamma = tilde_gamma.copy()\n",
      "   294      1740         4404      2.5      0.0  \n",
      "   295                                                           if self.optimize_lambda:\n",
      "   296                                                               # Update lambda.\n",
      "   297                                                               # only one update per document.\n",
      "   298      1740         3590      2.1      0.0  \n",
      "   299                                                               if vectorized:\n",
      "   300                                                                   # NOTE: probably not much speed-up is gained here. Consider\n",
      "   301                                                                   # whether it can be done better.\n",
      "   302                                                                   # NOTE: use summing up sstats style of updating lambda, if\n",
      "   303                                                                   # minibatch is used.\n",
      "   304                                                                   expElogtheta_sum_a = expElogtheta[authors_d, :].sum(axis=0)\n",
      "   305                                                                   sstats = numpy.outer(expElogtheta_sum_a.T, cts/phinorm)\n",
      "   306                                                                   sstats *= expElogbeta[:, ids]\n",
      "   307                                                                   eta_rep = numpy.tile(self.eta[ids], [self.num_topics, 1])\n",
      "   308                                                                   tilde_lambda[:, ids] = eta_rep + self.num_docs * sstats\n",
      "   309     19140        47104      2.5      0.0                      else:\n",
      "   310   9534840     21285620      2.2      2.9                          for k in xrange(self.num_topics):\n",
      "   311   9517440     20443355      2.1      2.8                              for vi, v in enumerate(ids):\n",
      "   312   9517440     19164083      2.0      2.6                                  cnt = cts[vi]\n",
      "   313  31413240     66466759      2.1      9.1                                  phi_sum = 0.0\n",
      "   314  21895800     55718359      2.5      7.7                                  for a in authors_d:\n",
      "   315   9517440     43921370      4.6      6.0                                      phi_sum += var_phi[(v, a, k)]\n",
      "   316                                                                           tilde_lambda[k, v] = self.eta[v] + self.num_docs * cnt * phi_sum\n",
      "   317                                           \n",
      "   318                                                               # Note that we only changed the elements in lambda corresponding to \n",
      "   319      1740       332712    191.2      0.0                      # the words in document d, hence the [:, ids] indexing.\n",
      "   320      1740     67830245  38982.9      9.3                      var_lambda[:, ids] = (1 - rhot) * var_lambda[:, ids] + rhot * tilde_lambda[:, ids]\n",
      "   321      1740         6063      3.5      0.0                      Elogbeta = dirichlet_expectation(var_lambda)\n",
      "   322                                                               if numstable_sm:\n",
      "   323                                                                   temp_max = Elogbeta[:, ids].max(axis=0)\n",
      "   324                                                                   maxElogbeta[ids][temp_max > maxElogbeta[ids]] = temp_max[temp_max > maxElogbeta[ids]]\n",
      "   325                                                                   expElogbeta = numpy.exp(Elogbeta - maxElogbeta)\n",
      "   326      1740      3189258   1832.9      0.4                      else:\n",
      "   327      1740       157876     90.7      0.0                          expElogbeta = numpy.exp(Elogbeta)\n",
      "   328                                                               var_lambda = var_lambda.copy()\n",
      "   329                                           \n",
      "   330                                                           # Print topics:\n",
      "   331                                                           # pprint(self.show_topics())\n",
      "   332                                                       # End of corpus loop.\n",
      "   333                                           \n",
      "   334         1            5      5.0      0.0  \n",
      "   335                                                       if self.eval_every > 0 and (_pass + 1) % self.eval_every == 0:\n",
      "   336                                                           self.var_gamma = var_gamma\n",
      "   337                                                           self.var_lambda = var_lambda\n",
      "   338                                                           prev_bound = bound\n",
      "   339                                                           word_bound = self.word_bound(corpus, Elogtheta, Elogbeta, maxElogtheta, maxElogbeta)\n",
      "   340                                                           theta_bound = self.theta_bound(Elogtheta)\n",
      "   341                                                           beta_bound = self.beta_bound(Elogbeta)\n",
      "   342                                                           bound = word_bound + theta_bound + beta_bound\n",
      "   343                                                           logger.info('Total bound: %.3e. Word bound: %.3e. theta bound: %.3e. beta bound: %.3e.', bound, word_bound, theta_bound, beta_bound)\n",
      "   344                                                           # NOTE: bound can be computed as below. We compute each term for now because it can be useful for debugging.\n",
      "   345                                           \n",
      "   346                                                       #logger.info('Converged documents: %d/%d', converged, self.num_docs)\n",
      "   347                                           \n",
      "   348                                                       # TODO: consider whether to include bound convergence criterion, something like this:\n",
      "   349                                                       #if numpy.abs(bound - prev_bound) / abs(prev_bound) < self.bound_threshold:\n",
      "   350                                                       #    break\n",
      "   351                                                   # End of pass over corpus loop.\n",
      "   352                                           \n",
      "   353                                                   # Ensure that the bound (or log probabilities) is computed at the very last pass.\n",
      "   354         1            4      4.0      0.0          if self.eval_every > 0 and not (_pass + 1) % self.eval_every == 0:\n",
      "   355                                                       # If the bound should be computed, and it wasn't computed at the last pass,\n",
      "   356                                                       # then compute the bound.\n",
      "   357                                                       self.var_gamma = var_gamma\n",
      "   358                                                       self.var_lambda = var_lambda\n",
      "   359                                                       prev_bound = bound\n",
      "   360                                                       word_bound = self.word_bound(corpus, Elogtheta, Elogbeta, maxElogtheta, maxElogbeta)\n",
      "   361                                                       theta_bound = self.theta_bound(Elogtheta)\n",
      "   362                                                       beta_bound = self.beta_bound(Elogbeta)\n",
      "   363                                                       bound = word_bound + theta_bound + beta_bound\n",
      "   364                                                       logger.info('Total bound: %.3e. Word bound: %.3e. theta bound: %.3e. beta bound: %.3e.', bound, word_bound, theta_bound, beta_bound)\n",
      "   365                                           \n",
      "   366                                           \n",
      "   367         1            5      5.0      0.0          self.var_lambda = var_lambda\n",
      "   368         1            5      5.0      0.0          self.var_gamma = var_gamma\n",
      "   369                                           \n",
      "   370         1            4      4.0      0.0          return var_gamma, var_lambda\n",
      "\n"
     ]
    }
   ],
   "source": [
    "model = AuthorTopicModel(corpus=None, num_topics=10, id2word=dictionary.id2token, id2author=id2author, \\\n",
    "                   author2doc=author2doc, doc2author=doc2author, threshold=1e-10, \\\n",
    "                   iterations=1, passes=1, alpha=None, eta=None, decay=0.5, offset=1.0, \\\n",
    "                   eval_every=0, random_state=1, var_lambda=None)\n",
    "profile = line_profiler.LineProfiler(model.inference)\n",
    "result = profile.runcall(model.inference, corpus=corpus)\n",
    "profile.print_stats()"
   ]
  },
  {
   "cell_type": "markdown",
   "metadata": {},
   "source": [
    "### Disjoint set stuff"
   ]
  },
  {
   "cell_type": "code",
   "execution_count": 20,
   "metadata": {
    "collapsed": false
   },
   "outputs": [],
   "source": [
    "def find_disjoint_sets(d):\n",
    "    while True:\n",
    "        for tuple_, set1 in d.items():\n",
    "            try:\n",
    "                match = next(k for k, set2 in d.items() if k != tuple_ and set1 & set2)\n",
    "            except StopIteration:\n",
    "                # no match for this key - keep looking\n",
    "                continue\n",
    "            else:\n",
    "                #print('merging', tuple(set1), match)\n",
    "                d[tuple_] = set1 | d.pop(match)\n",
    "                break\n",
    "        else:\n",
    "            # no match for any key - we are done!\n",
    "            break\n",
    "\n",
    "    output = sorted(tuple(s) for s in d.values())\n",
    "    \n",
    "    return output"
   ]
  },
  {
   "cell_type": "code",
   "execution_count": 21,
   "metadata": {
    "collapsed": false,
    "scrolled": false
   },
   "outputs": [
    {
     "name": "stdout",
     "output_type": "stream",
     "text": [
      "[(0,), (1,), (2,), (3,), (4,), (6,), (7,), (8,), (9,), (10,), (11,), (12,), (13,), (14,), (15,), (16, 63, 39), (18,), (19, 59), (20,), (21,), (22,), (23,), (24, 53), (25, 84), (26,), (27,), (28,), (29,), (30,), (32,), (33,), (34,), (35,), (36,), (37,), (38,), (40,), (41,), (42,), (43,), (44,), (45,), (46,), (47,), (48, 17, 58, 5), (49,), (50,), (51,), (52,), (54,), (55,), (56,), (57,), (60,), (61,), (62,), (64,), (65,), (66,), (67,), (68,), (69,), (70,), (71,), (72,), (73, 31), (74,), (75,), (76,), (77,), (78,), (79,), (80,), (81,), (82,), (83,), (85,), (86,), (87,), (88,), (89,)]\n",
      "81\n",
      "0.0870358943939209\n"
     ]
    }
   ],
   "source": [
    "start = time()\n",
    "\n",
    "thing = {a: set(_list) for a, _list in author2doc.items()}\n",
    "disjoint_authors = find_disjoint_sets(thing)\n",
    "print(disjoint_authors)\n",
    "print(len(disjoint_authors))\n",
    "\n",
    "print(time() - start)"
   ]
  }
 ],
 "metadata": {
  "kernelspec": {
   "display_name": "Python 3",
   "language": "python",
   "name": "python3"
  },
  "language_info": {
   "codemirror_mode": {
    "name": "ipython",
    "version": 3
   },
   "file_extension": ".py",
   "mimetype": "text/x-python",
   "name": "python",
   "nbconvert_exporter": "python",
   "pygments_lexer": "ipython3",
   "version": "3.5.2"
  }
 },
 "nbformat": 4,
 "nbformat_minor": 1
}
