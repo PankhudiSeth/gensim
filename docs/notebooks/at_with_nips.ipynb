{
 "cells": [
  {
   "cell_type": "code",
   "execution_count": 1,
   "metadata": {
    "collapsed": false
   },
   "outputs": [
    {
     "data": {
      "application/javascript": [
       "// Run for table of contents.\n",
       "$.getScript('https://kmahelona.github.io/ipython_notebook_goodies/ipython_notebook_toc.js')\n",
       "\n",
       "// https://github.com/kmahelona/ipython_notebook_goodies"
      ],
      "text/plain": [
       "<IPython.core.display.Javascript object>"
      ]
     },
     "metadata": {},
     "output_type": "display_data"
    }
   ],
   "source": [
    "%%javascript\n",
    "// Run for table of contents.\n",
    "$.getScript('https://kmahelona.github.io/ipython_notebook_goodies/ipython_notebook_toc.js')\n",
    "\n",
    "// https://github.com/kmahelona/ipython_notebook_goodies"
   ]
  },
  {
   "cell_type": "markdown",
   "metadata": {},
   "source": [
    "# Tests with NIPS data\n",
    "\n",
    "<h2 id=\"tocheading\">Table of Contents</h2>\n",
    "<div id=\"toc\"></div>\n"
   ]
  },
  {
   "cell_type": "code",
   "execution_count": 89,
   "metadata": {
    "collapsed": false
   },
   "outputs": [],
   "source": [
    "import numpy as np\n",
    "import matplotlib\n",
    "import matplotlib.pyplot as plt\n",
    "from nltk.tokenize import RegexpTokenizer\n",
    "from nltk.stem.wordnet import WordNetLemmatizer\n",
    "import gensim\n",
    "from gensim.models import Phrases\n",
    "from gensim.corpora import Dictionary\n",
    "from gensim.models import LdaModel\n",
    "from imp import reload\n",
    "from pprint import pprint\n",
    "\n",
    "import logging\n",
    "\n",
    "from gensim.models import AtVb\n",
    "from gensim.models import atvb\n",
    "from gensim.models import OnlineAtVb\n",
    "from gensim.models import onlineatvb\n",
    "\n",
    "%matplotlib inline"
   ]
  },
  {
   "cell_type": "code",
   "execution_count": 3,
   "metadata": {
    "collapsed": false
   },
   "outputs": [],
   "source": [
    "# Configure logging.\n",
    "logger = logging.getLogger()\n",
    "fhandler = logging.FileHandler(filename='../../../../log_files/log.log', mode='a')\n",
    "formatter = logging.Formatter('%(asctime)s - %(name)s - %(levelname)s - %(message)s')\n",
    "fhandler.setFormatter(formatter)\n",
    "logger.addHandler(fhandler)\n",
    "logger.setLevel(logging.DEBUG)"
   ]
  },
  {
   "cell_type": "markdown",
   "metadata": {},
   "source": [
    "## Load and prepare data structure"
   ]
  },
  {
   "cell_type": "code",
   "execution_count": 65,
   "metadata": {
    "collapsed": false
   },
   "outputs": [],
   "source": [
    "import os\n",
    "import re\n",
    "\n",
    "# Folder containing all NIPS papers.\n",
    "data_dir = '../../../nipstxt/'\n",
    "\n",
    "# Folders containin individual NIPS papers.\n",
    "#yrs = ['00', '01', '02', '03', '04', '05', '06', '07', '08', '09', '10', '11', '12']\n",
    "yrs = ['00', '01', '02']\n",
    "dirs = ['nips' + yr for yr in yrs]\n",
    "\n",
    "# Get all document texts and their corresponding IDs.\n",
    "docs = []\n",
    "doc_ids = []\n",
    "for yr_dir in dirs:\n",
    "    files = os.listdir(data_dir + yr_dir)  # List of filenames.\n",
    "    for filen in files:\n",
    "        # Get document ID.\n",
    "        (idx1, idx2) = re.search('[0-9]+', filen).span()  # Matches the indexes of the start end end of the ID.\n",
    "        doc_ids.append(yr_dir[4:] + '_' + str(int(filen[idx1:idx2])))\n",
    "        \n",
    "        # Read document text.\n",
    "        # Note: ignoring characters that cause encoding errors.\n",
    "        with open(data_dir + yr_dir + '/' + filen, errors='ignore', encoding='utf-8') as fid:\n",
    "            txt = fid.read()\n",
    "        docs.append(txt)"
   ]
  },
  {
   "cell_type": "code",
   "execution_count": 66,
   "metadata": {
    "collapsed": false
   },
   "outputs": [],
   "source": [
    "filenames = [data_dir + 'idx/a' + yr + '.txt' for yr in yrs]  # Using the years defined in previous cell.\n",
    "\n",
    "# Get all author names and their corresponding document IDs.\n",
    "authors_names = []\n",
    "author2doc = {}\n",
    "author_id = 0\n",
    "for yr in yrs:\n",
    "    filename = data_dir + 'idx/a' + yr + '.txt'\n",
    "    for line in open(filename, errors='ignore', encoding='utf-8'):\n",
    "        contents = re.split(',', line)\n",
    "        author_name = (contents[1] + contents[0]).strip()\n",
    "        ids = [c.strip() for c in contents[2:]]\n",
    "        authors_names.append(author_name)\n",
    "        author2doc[author_id] = [yr + '_' + id for id in ids]\n",
    "        author_id += 1"
   ]
  },
  {
   "cell_type": "code",
   "execution_count": 67,
   "metadata": {
    "collapsed": true
   },
   "outputs": [],
   "source": [
    "# Make a mapping from author ID to author name.\n",
    "id2author = dict(zip(range(len(authors_names)), authors_names))\n",
    "\n",
    "# Also the reverse mapping.\n",
    "author2id = dict(zip(authors_names, range(len(authors_names))))"
   ]
  },
  {
   "cell_type": "code",
   "execution_count": 68,
   "metadata": {
    "collapsed": false
   },
   "outputs": [],
   "source": [
    "# Use an integer ID in author2doc, instead of the IDs provided in the NIPS dataset.\n",
    "\n",
    "# Mapping from ID of document in NIPS datast, to an integer ID.\n",
    "doc_id_dict = dict(zip(doc_ids, range(len(doc_ids))))\n",
    "\n",
    "for a, a_doc_ids in author2doc.items():\n",
    "    for i, doc_id in enumerate(a_doc_ids):\n",
    "        author2doc[a][i] = doc_id_dict[doc_id]"
   ]
  },
  {
   "cell_type": "code",
   "execution_count": 69,
   "metadata": {
    "collapsed": false
   },
   "outputs": [],
   "source": [
    "# Make a mapping from document IDs to author IDs.\n",
    "# Same as in the atvb code.\n",
    "doc2author = {}\n",
    "for d, _ in enumerate(docs):\n",
    "    author_ids = []\n",
    "    for a, a_doc_ids in author2doc.items():\n",
    "        if d in a_doc_ids:\n",
    "            author_ids.append(a)\n",
    "    doc2author[d] = author_ids"
   ]
  },
  {
   "cell_type": "markdown",
   "metadata": {},
   "source": [
    "## Pre-process and vectorize data"
   ]
  },
  {
   "cell_type": "code",
   "execution_count": 70,
   "metadata": {
    "collapsed": false
   },
   "outputs": [],
   "source": [
    "# Tokenize the documents.\n",
    "\n",
    "# Split the documents into tokens.\n",
    "tokenizer = RegexpTokenizer(r'\\w+')\n",
    "for idx in range(len(docs)):\n",
    "    docs[idx] = docs[idx].lower()  # Convert to lowercase.\n",
    "    docs[idx] = tokenizer.tokenize(docs[idx])  # Split into words.\n",
    "\n",
    "# Remove numbers, but not words that contain numbers.\n",
    "docs = [[token for token in doc if not token.isnumeric()] for doc in docs]\n",
    "\n",
    "# Remove words that are only one character.\n",
    "docs = [[token for token in doc if len(token) > 1] for doc in docs]"
   ]
  },
  {
   "cell_type": "code",
   "execution_count": 71,
   "metadata": {
    "collapsed": true
   },
   "outputs": [],
   "source": [
    "# Lemmatize the documents.\n",
    "\n",
    "# Lemmatize all words in documents.\n",
    "lemmatizer = WordNetLemmatizer()\n",
    "docs = [[lemmatizer.lemmatize(token) for token in doc] for doc in docs]"
   ]
  },
  {
   "cell_type": "code",
   "execution_count": 72,
   "metadata": {
    "collapsed": true
   },
   "outputs": [],
   "source": [
    "# Compute bigrams.\n",
    "\n",
    "# Add bigrams and trigrams to docs (only ones that appear 20 times or more).\n",
    "bigram = Phrases(docs, min_count=20)\n",
    "for idx in range(len(docs)):\n",
    "    for token in bigram[docs[idx]]:\n",
    "        if '_' in token:\n",
    "            # Token is a bigram, add to document.\n",
    "            docs[idx].append(token)"
   ]
  },
  {
   "cell_type": "code",
   "execution_count": 73,
   "metadata": {
    "collapsed": true
   },
   "outputs": [],
   "source": [
    "# Create a dictionary representation of the documents.\n",
    "dictionary = Dictionary(docs)"
   ]
  },
  {
   "cell_type": "code",
   "execution_count": 74,
   "metadata": {
    "collapsed": false
   },
   "outputs": [
    {
     "data": {
      "image/png": "[encoded data removed]",
      "text/plain": [
       "<matplotlib.figure.Figure at 0x7efc2eac4f98>"
      ]
     },
     "metadata": {},
     "output_type": "display_data"
    }
   ],
   "source": [
    "# Frequency distribution of words.\n",
    "\n",
    "one_doc = []\n",
    "for doc in docs:\n",
    "    one_doc.extend(doc)\n",
    "\n",
    "bow = dictionary.doc2bow(one_doc)\n",
    "word_freq = [cnt for _, cnt in bow]\n",
    "\n",
    "plt.plot(sorted(word_freq))\n",
    "plt.xlabel('Words')\n",
    "plt.ylabel('#Occurences')\n",
    "plt.title('Frequency distribution of words.\\nPower-law behaviour.')\n",
    "plt.show()"
   ]
  },
  {
   "cell_type": "code",
   "execution_count": 75,
   "metadata": {
    "collapsed": true
   },
   "outputs": [],
   "source": [
    "# Remove rare and common tokens.\n",
    "\n",
    "# Filter out words that occur too frequently or too rarely.\n",
    "max_freq = 0.5\n",
    "min_wordcount = 20\n",
    "dictionary.filter_extremes(no_below=min_wordcount, no_above=max_freq)\n",
    "\n",
    "dict0 = dictionary[0]  # This sort of \"initializes\" dictionary.id2token."
   ]
  },
  {
   "cell_type": "code",
   "execution_count": 76,
   "metadata": {
    "collapsed": true
   },
   "outputs": [],
   "source": [
    "# Vectorize data.\n",
    "\n",
    "# Bag-of-words representation of the documents.\n",
    "corpus = [dictionary.doc2bow(doc) for doc in docs]"
   ]
  },
  {
   "cell_type": "code",
   "execution_count": 77,
   "metadata": {
    "collapsed": false
   },
   "outputs": [
    {
     "name": "stdout",
     "output_type": "stream",
     "text": [
      "Number of authors: 578\n",
      "Number of unique tokens: 2245\n",
      "Number of documents: 286\n"
     ]
    }
   ],
   "source": [
    "print('Number of authors: %d' % len(author2doc))\n",
    "print('Number of unique tokens: %d' % len(dictionary))\n",
    "print('Number of documents: %d' % len(corpus))"
   ]
  },
  {
   "cell_type": "markdown",
   "metadata": {},
   "source": [
    "## \"Offline\" AT VB"
   ]
  },
  {
   "cell_type": "code",
   "execution_count": 78,
   "metadata": {
    "collapsed": false
   },
   "outputs": [
    {
     "name": "stdout",
     "output_type": "stream",
     "text": [
      "phi is 286 x 2245 x 10 (6420700 elements)\n",
      "mu is 286 x 2245 x 578 (371116460 elements)\n"
     ]
    }
   ],
   "source": [
    "print('phi is %d x %d x %d (%d elements)' %(len(corpus), len(dictionary.id2token), 10,\n",
    "                                            len(corpus) * len(dictionary.id2token) * 10))\n",
    "print('mu is %d x %d x %d (%d elements)' %(len(corpus), len(dictionary.id2token), len(author2doc),\n",
    "                                            len(corpus) * len(dictionary.id2token) * len(author2doc)))"
   ]
  },
  {
   "cell_type": "code",
   "execution_count": 79,
   "metadata": {
    "collapsed": false
   },
   "outputs": [],
   "source": [
    "reload(atvb)\n",
    "AtVb = atvb.AtVb"
   ]
  },
  {
   "cell_type": "code",
   "execution_count": 91,
   "metadata": {
    "collapsed": false
   },
   "outputs": [],
   "source": [
    "model = AtVb(corpus=corpus, num_topics=10, id2word=dictionary.id2token, id2author=id2author,\n",
    "                   author2doc=author2doc, doc2author=doc2author, threshold=1e-12,\n",
    "                   iterations=40, alpha=None, eta=None,\n",
    "                   eval_every=1, random_state=1)"
   ]
  },
  {
   "cell_type": "code",
   "execution_count": 92,
   "metadata": {
    "collapsed": false
   },
   "outputs": [
    {
     "data": {
      "text/plain": [
       "[(0,\n",
       "  '0.046*image + 0.022*object + 0.014*visual + 0.013*field + 0.012*motion + 0.011*filter + 0.011*velocity + 0.009*pixel + 0.009*line + 0.008*noise'),\n",
       " (1,\n",
       "  '0.023*fig + 0.023*cell + 0.012*delay + 0.011*cortex + 0.010*noise + 0.009*eye + 0.009*phase + 0.008*activity + 0.008*cortical + 0.008*oscillation'),\n",
       " (2,\n",
       "  '0.020*map + 0.015*field + 0.013*cell + 0.013*region + 0.012*human + 0.012*receptive + 0.011*receptive_field + 0.009*response + 0.008*chain + 0.008*orientation'),\n",
       " (3,\n",
       "  '0.023*vector + 0.019*matrix + 0.015*hopfield + 0.009*probability + 0.008*let + 0.008*code + 0.008*optimization + 0.008*convergence + 0.008*theorem + 0.007*minimum'),\n",
       " (4,\n",
       "  '0.027*memory + 0.015*vector + 0.013*activation + 0.010*bit + 0.009*processor + 0.008*associative + 0.008*capacity + 0.008*hidden + 0.007*machine + 0.006*address'),\n",
       " (5,\n",
       "  '0.012*hidden + 0.010*energy + 0.009*gradient + 0.007*probability + 0.007*hidden_unit + 0.006*learning_algorithm + 0.006*adaptive + 0.006*forward + 0.006*procedure + 0.006*recurrent'),\n",
       " (6,\n",
       "  '0.019*classifier + 0.019*recognition + 0.019*hidden + 0.018*speech + 0.011*classification + 0.011*trained + 0.009*test + 0.009*class + 0.008*hidden_layer + 0.008*propagation'),\n",
       " (7,\n",
       "  '0.031*node + 0.007*surface + 0.006*sample + 0.006*distribution + 0.005*noise + 0.005*scale + 0.005*back_propagation + 0.005*dimensional + 0.005*propagation + 0.005*neural_net'),\n",
       " (8,\n",
       "  '0.034*circuit + 0.023*chip + 0.021*analog + 0.018*voltage + 0.017*current + 0.014*synapse + 0.010*vlsi + 0.010*transistor + 0.010*threshold + 0.009*implementation'),\n",
       " (9,\n",
       "  '0.029*cell + 0.019*firing + 0.015*activity + 0.014*response + 0.013*stimulus + 0.013*potential + 0.012*synaptic + 0.012*spike + 0.010*frequency + 0.009*motor')]"
      ]
     },
     "execution_count": 92,
     "metadata": {},
     "output_type": "execute_result"
    }
   ],
   "source": [
    "model.show_topics()"
   ]
  },
  {
   "cell_type": "code",
   "execution_count": 118,
   "metadata": {
    "collapsed": false
   },
   "outputs": [
    {
     "name": "stdout",
     "output_type": "stream",
     "text": [
      "\n",
      "Yaser S.Abu-Mostafa\n",
      "Docs: [21]\n",
      "[(0, 0.090225715808980797),\n",
      " (1, 0.014047723409152875),\n",
      " (3, 0.38971799227229242),\n",
      " (4, 0.30695125800680684),\n",
      " (5, 0.11680215128570454),\n",
      " (7, 0.012641840087616362),\n",
      " (8, 0.069095036605336377)]\n",
      "\n",
      "Geoffrey E. Hinton\n",
      "Docs: [276, 235, 270]\n",
      "[(0, 0.17326190127690461),\n",
      " (2, 0.062709625689712375),\n",
      " (3, 0.023215349136065065),\n",
      " (4, 0.096803072840719678),\n",
      " (5, 0.1267901905748583),\n",
      " (6, 0.47635551675437715),\n",
      " (7, 0.025581291656655011),\n",
      " (9, 0.013530262666658776)]\n",
      "\n",
      "Michael I. Jordan\n",
      "Docs: [205]\n",
      "[(0, 0.22189029162114421),\n",
      " (2, 0.033072831647105602),\n",
      " (4, 0.051509519512663651),\n",
      " (5, 0.63361728214218349),\n",
      " (7, 0.045992411979857574),\n",
      " (9, 0.012757930948596466)]\n",
      "\n",
      "James M. Bower\n",
      "Docs: [188, 251, 244]\n",
      "[(1, 0.29194178492747924),\n",
      " (2, 0.47740737076112999),\n",
      " (3, 0.023636461735819542),\n",
      " (4, 0.010413505064807139),\n",
      " (7, 0.018554608959817139),\n",
      " (9, 0.17063597622983562)]\n"
     ]
    }
   ],
   "source": [
    "name = 'Yaser S.Abu-Mostafa'\n",
    "print('\\n%s' % name)\n",
    "print('Docs:', author2doc[author2id[name]])\n",
    "pprint(model.get_author_topics(author2id[name]))\n",
    "\n",
    "name = 'Geoffrey E. Hinton'\n",
    "print('\\n%s' % name)\n",
    "print('Docs:', author2doc[author2id[name]])\n",
    "pprint(model.get_author_topics(author2id[name]))\n",
    "\n",
    "name = 'Michael I. Jordan'\n",
    "print('\\n%s' % name)\n",
    "print('Docs:', author2doc[author2id[name]])\n",
    "pprint(model.get_author_topics(author2id[name]))\n",
    "\n",
    "name = 'James M. Bower'\n",
    "print('\\n%s' % name)\n",
    "print('Docs:', author2doc[author2id[name]])\n",
    "pprint(model.get_author_topics(author2id[name]))"
   ]
  },
  {
   "cell_type": "markdown",
   "metadata": {},
   "source": [
    "### Test on a small dataset"
   ]
  },
  {
   "cell_type": "code",
   "execution_count": 44,
   "metadata": {
    "collapsed": false
   },
   "outputs": [],
   "source": [
    "n_docs = 10\n",
    "\n",
    "from copy import deepcopy\n",
    "\n",
    "small_doc2author = deepcopy(dict(list(doc2author.items())[:n_docs]))\n",
    "small_doc2author = dict(small_doc2author)\n",
    "\n",
    "small_corpus = corpus[:n_docs]"
   ]
  },
  {
   "cell_type": "code",
   "execution_count": 45,
   "metadata": {
    "collapsed": false
   },
   "outputs": [],
   "source": [
    "authors_ids = set()\n",
    "for d, a_doc_ids in small_doc2author.items():\n",
    "    for a in a_doc_ids:\n",
    "        authors_ids.add(a)\n",
    "\n",
    "authors_ids = list(authors_ids)\n",
    "author_id_dict = dict(zip(authors_ids, range(len(authors_ids))))"
   ]
  },
  {
   "cell_type": "code",
   "execution_count": 46,
   "metadata": {
    "collapsed": false
   },
   "outputs": [],
   "source": [
    "for d, a_ids in small_doc2author.items():\n",
    "    for i, a in enumerate(a_ids):\n",
    "        small_doc2author[d][i] = author_id_dict[a]"
   ]
  },
  {
   "cell_type": "code",
   "execution_count": 47,
   "metadata": {
    "collapsed": false
   },
   "outputs": [],
   "source": [
    "# Make a mapping from author IDs to document IDs.\n",
    "small_author2doc = {}\n",
    "for a in range(len(author_id_dict)):\n",
    "    small_author2doc[a] = []\n",
    "    for d, a_ids in small_doc2author.items():\n",
    "        if a in a_ids:\n",
    "            small_author2doc[a].append(d)"
   ]
  },
  {
   "cell_type": "code",
   "execution_count": 48,
   "metadata": {
    "collapsed": false
   },
   "outputs": [],
   "source": [
    "\n",
    "author_id_dict_rev = dict(zip(range(len(authors_ids)), authors_ids))\n",
    "\n",
    "small_id2author = {}\n",
    "for a, a_id in author_id_dict_rev.items():\n",
    "    small_id2author[a] = id2author[a_id]"
   ]
  },
  {
   "cell_type": "code",
   "execution_count": 49,
   "metadata": {
    "collapsed": false
   },
   "outputs": [
    {
     "name": "stdout",
     "output_type": "stream",
     "text": [
      "phi is 10 x 681 x 10 (68100 elements)\n",
      "mu is 10 x 681 x 21 (143010 elements)\n"
     ]
    }
   ],
   "source": [
    "print('phi is %d x %d x %d (%d elements)' %(len(small_corpus), len(dictionary.id2token), 10,\n",
    "                                            len(small_corpus) * len(dictionary.id2token) * 10))\n",
    "print('mu is %d x %d x %d (%d elements)' %(len(small_corpus), len(dictionary.id2token), len(small_author2doc),\n",
    "                                            len(small_corpus) * len(dictionary.id2token) * len(small_author2doc)))"
   ]
  },
  {
   "cell_type": "code",
   "execution_count": 50,
   "metadata": {
    "collapsed": false
   },
   "outputs": [],
   "source": [
    "reload(atvb)\n",
    "AtVb = atvb.AtVb"
   ]
  },
  {
   "cell_type": "code",
   "execution_count": 51,
   "metadata": {
    "collapsed": false
   },
   "outputs": [],
   "source": [
    "model = AtVb(corpus=small_corpus, num_topics=10, id2word=dictionary.id2token, id2author=small_id2author,\n",
    "                   author2doc=small_author2doc, doc2author=small_doc2author, threshold=1e-12,\n",
    "                   iterations=10, alpha=None, eta=None,\n",
    "                   eval_every=1, random_state=1)"
   ]
  },
  {
   "cell_type": "code",
   "execution_count": 52,
   "metadata": {
    "collapsed": false
   },
   "outputs": [
    {
     "data": {
      "text/plain": [
       "[(0,\n",
       "  '0.045*hopfield + 0.042*matrix + 0.025*gradient + 0.022*classification + 0.022*descent + 0.019*minimum + 0.018*training + 0.014*positive + 0.014*indicated + 0.014*called'),\n",
       " (1,\n",
       "  '0.063*cell + 0.037*activity + 0.026*region + 0.016*interaction + 0.016*connectivity + 0.014*along + 0.014*synaptic + 0.014*principle + 0.013*spatial + 0.013*robust'),\n",
       " (2,\n",
       "  '0.056*principle + 0.033*region + 0.031*noise + 0.029*position + 0.024*center + 0.020*dimensional + 0.018*mapping + 0.018*map + 0.016*previous + 0.016*coordinate'),\n",
       " (3,\n",
       "  '0.049*scheme + 0.037*capacity + 0.027*probability + 0.025*stored + 0.025*binary + 0.024*representation + 0.017*feature + 0.016*represented + 0.016*code + 0.016*bound'),\n",
       " (4,\n",
       "  '0.063*control + 0.033*brain + 0.026*action + 0.024*situation + 0.024*goal + 0.018*associative_memory + 0.018*task + 0.017*iv + 0.017*basic + 0.016*higher'),\n",
       " (5,\n",
       "  '0.059*architecture + 0.046*potential + 0.037*connectivity + 0.036*energy + 0.035*computational + 0.029*storage + 0.019*current + 0.017*artificial + 0.015*dynamic + 0.015*though'),\n",
       " (6,\n",
       "  '0.052*dynamic + 0.042*training + 0.021*hidden + 0.021*noise + 0.019*propagation + 0.017*matrix + 0.015*hidden_unit + 0.015*context + 0.014*back + 0.014*architecture'),\n",
       " (7,\n",
       "  '0.056*training + 0.030*human + 0.029*speed + 0.027*block + 0.026*he + 0.020*decision + 0.019*control + 0.018*distance + 0.017*distribution + 0.015*artificial'),\n",
       " (8,\n",
       "  '0.020*produced + 0.018*relative + 0.017*capability + 0.016*other_hand + 0.016*potential + 0.015*magnitude + 0.015*circuit + 0.015*cell + 0.014*consequence + 0.014*interconnected'),\n",
       " (9,\n",
       "  '0.093*cell + 0.054*firing + 0.045*synaptic + 0.040*produce + 0.035*probability + 0.029*potential + 0.029*relation + 0.027*correlation + 0.023*produced + 0.023*connection_between')]"
      ]
     },
     "execution_count": 52,
     "metadata": {},
     "output_type": "execute_result"
    }
   ],
   "source": [
    "model.show_topics()"
   ]
  },
  {
   "cell_type": "code",
   "execution_count": 45,
   "metadata": {
    "collapsed": false
   },
   "outputs": [
    {
     "data": {
      "text/plain": [
       "[(0, 0.34230097594591424),\n",
       " (4, 0.2487692783005907),\n",
       " (6, 0.19935367234756304),\n",
       " (8, 0.20805744284415623)]"
      ]
     },
     "execution_count": 45,
     "metadata": {},
     "output_type": "execute_result"
    }
   ],
   "source": [
    "model.get_author_topics(0)"
   ]
  },
  {
   "cell_type": "markdown",
   "metadata": {},
   "source": [
    "## Online AT VB"
   ]
  },
  {
   "cell_type": "code",
   "execution_count": 83,
   "metadata": {
    "collapsed": false
   },
   "outputs": [],
   "source": [
    "reload(onlineatvb)\n",
    "OnlineAtVb = onlineatvb.OnlineAtVb"
   ]
  },
  {
   "cell_type": "code",
   "execution_count": 84,
   "metadata": {
    "collapsed": false
   },
   "outputs": [],
   "source": [
    "model = OnlineAtVb(corpus=small_corpus, num_topics=10, id2word=dictionary.id2token, \n",
    "                   author2doc=small_author2doc, doc2author=small_doc2author, threshold=1e-12,\n",
    "                   iterations=10, alpha=None, eta=None, decay=0.5, offset=64.0,\n",
    "                   eval_every=1, random_state=0)"
   ]
  },
  {
   "cell_type": "markdown",
   "metadata": {
    "collapsed": true
   },
   "source": [
    "## LDA"
   ]
  },
  {
   "cell_type": "code",
   "execution_count": 96,
   "metadata": {
    "collapsed": true
   },
   "outputs": [],
   "source": [
    "lda = LdaModel(corpus=corpus, num_topics=10, id2word=dictionary.id2token, passes=10)"
   ]
  },
  {
   "cell_type": "code",
   "execution_count": 98,
   "metadata": {
    "collapsed": false
   },
   "outputs": [
    {
     "data": {
      "text/plain": [
       "[(0,\n",
       "  '0.025*node + 0.015*processor + 0.012*constraint + 0.012*propagation + 0.010*activation + 0.009*back_propagation + 0.009*classifier + 0.009*update + 0.007*hidden + 0.007*energy'),\n",
       " (1,\n",
       "  '0.022*image + 0.019*classifier + 0.010*classification + 0.009*noise + 0.008*region + 0.007*gaussian + 0.007*class + 0.007*node + 0.006*decision + 0.006*vector'),\n",
       " (2,\n",
       "  '0.028*hidden + 0.020*speech + 0.012*hidden_unit + 0.011*chain + 0.010*region + 0.009*hidden_layer + 0.008*human + 0.007*propagation + 0.007*orientation + 0.007*acoustic'),\n",
       " (3,\n",
       "  '0.028*memory + 0.024*vector + 0.010*capacity + 0.010*bit + 0.010*associative + 0.008*code + 0.008*associative_memory + 0.007*stored + 0.006*matrix + 0.006*threshold'),\n",
       " (4,\n",
       "  '0.023*circuit + 0.018*chip + 0.015*analog + 0.014*voltage + 0.013*current + 0.011*synapse + 0.008*pulse + 0.008*transistor + 0.007*vlsi + 0.007*synaptic'),\n",
       " (5,\n",
       "  '0.009*node + 0.008*hidden + 0.007*activation + 0.005*generalization + 0.005*hidden_unit + 0.005*connectionist + 0.004*training_set + 0.004*trained + 0.004*word + 0.004*probability'),\n",
       " (6,\n",
       "  '0.033*cell + 0.012*response + 0.011*stimulus + 0.011*firing + 0.008*synaptic + 0.008*activity + 0.008*potential + 0.007*spike + 0.006*fig + 0.006*cortex'),\n",
       " (7,\n",
       "  '0.009*energy + 0.007*gradient + 0.007*field + 0.007*hopfield + 0.006*matrix + 0.006*minimum + 0.006*convergence + 0.006*hidden + 0.005*vector + 0.004*equilibrium'),\n",
       " (8,\n",
       "  '0.019*recognition + 0.009*joint + 0.009*visual + 0.009*speech + 0.008*field + 0.007*speaker + 0.007*object + 0.007*motion + 0.005*aspect + 0.005*control'),\n",
       " (9,\n",
       "  '0.016*map + 0.010*delay + 0.010*region + 0.008*cortex + 0.008*activity + 0.008*brain + 0.008*oscillation + 0.008*distribution + 0.007*phase + 0.007*cell')]"
      ]
     },
     "execution_count": 98,
     "metadata": {},
     "output_type": "execute_result"
    }
   ],
   "source": [
    "lda.show_topics()"
   ]
  },
  {
   "cell_type": "code",
   "execution_count": 59,
   "metadata": {
    "collapsed": false
   },
   "outputs": [
    {
     "data": {
      "text/plain": [
       "[(0, 0.14679045510589872),\n",
       " (2, 0.024722847345847499),\n",
       " (3, 0.036692535207794273),\n",
       " (4, 0.10874558108160597),\n",
       " (6, 0.29675634369596471),\n",
       " (9, 0.38555538612902118)]"
      ]
     },
     "execution_count": 59,
     "metadata": {},
     "output_type": "execute_result"
    }
   ],
   "source": [
    "lda[corpus[0]]"
   ]
  }
 ],
 "metadata": {
  "kernelspec": {
   "display_name": "Python 3",
   "language": "python",
   "name": "python3"
  },
  "language_info": {
   "codemirror_mode": {
    "name": "ipython",
    "version": 3
   },
   "file_extension": ".py",
   "mimetype": "text/x-python",
   "name": "python",
   "nbconvert_exporter": "python",
   "pygments_lexer": "ipython3",
   "version": "3.4.3+"
  }
 },
 "nbformat": 4,
 "nbformat_minor": 1
}
