{
 "cells": [
  {
   "cell_type": "code",
   "execution_count": 123,
   "metadata": {
    "collapsed": false
   },
   "outputs": [
    {
     "data": {
      "application/javascript": [
       "// Run for table of contents.\n",
       "$.getScript('https://kmahelona.github.io/ipython_notebook_goodies/ipython_notebook_toc.js')\n",
       "\n",
       "// https://github.com/kmahelona/ipython_notebook_goodies"
      ],
      "text/plain": [
       "<IPython.core.display.Javascript object>"
      ]
     },
     "metadata": {},
     "output_type": "display_data"
    }
   ],
   "source": [
    "%%javascript\n",
    "// Run for table of contents.\n",
    "$.getScript('https://kmahelona.github.io/ipython_notebook_goodies/ipython_notebook_toc.js')\n",
    "\n",
    "// https://github.com/kmahelona/ipython_notebook_goodies"
   ]
  },
  {
   "cell_type": "markdown",
   "metadata": {},
   "source": [
    "# Tests with NIPS data\n",
    "\n",
    "<h2 id=\"tocheading\">Table of Contents</h2>\n",
    "<div id=\"toc\"></div>\n"
   ]
  },
  {
   "cell_type": "code",
   "execution_count": 231,
   "metadata": {
    "collapsed": false
   },
   "outputs": [],
   "source": [
    "import numpy as np\n",
    "import matplotlib\n",
    "import matplotlib.pyplot as plt\n",
    "from nltk.tokenize import RegexpTokenizer\n",
    "from nltk.stem.wordnet import WordNetLemmatizer\n",
    "import gensim\n",
    "from gensim.models import Phrases\n",
    "from gensim.corpora import Dictionary\n",
    "from gensim.models import LdaModel\n",
    "from imp import reload\n",
    "from pprint import pprint\n",
    "\n",
    "import logging\n",
    "\n",
    "from gensim.models import AtVb\n",
    "from gensim.models import atvb\n",
    "from gensim.models import OnlineAtVb\n",
    "from gensim.models import onlineatvb\n",
    "\n",
    "from time import time\n",
    "\n",
    "%matplotlib inline"
   ]
  },
  {
   "cell_type": "code",
   "execution_count": 3,
   "metadata": {
    "collapsed": false
   },
   "outputs": [],
   "source": [
    "# Configure logging.\n",
    "\n",
    "#log_dir = '../../../log_files/log.log'  # On my own machine.\n",
    "log_dir = '../../../../log_files/log.log'  # On Hetzner\n",
    "\n",
    "logger = logging.getLogger()\n",
    "fhandler = logging.FileHandler(filename=log_dir, mode='a')\n",
    "formatter = logging.Formatter('%(asctime)s - %(name)s - %(levelname)s - %(message)s')\n",
    "fhandler.setFormatter(formatter)\n",
    "logger.addHandler(fhandler)\n",
    "logger.setLevel(logging.DEBUG)"
   ]
  },
  {
   "cell_type": "markdown",
   "metadata": {},
   "source": [
    "## Load and prepare data structure"
   ]
  },
  {
   "cell_type": "code",
   "execution_count": 247,
   "metadata": {
    "collapsed": false
   },
   "outputs": [],
   "source": [
    "import os\n",
    "import re\n",
    "\n",
    "# Folder containing all NIPS papers.\n",
    "#data_dir = '../../../../data/nipstxt/'  # On my own machine.\n",
    "data_dir = '../../../nipstxt/'  # On Hetzner.\n",
    "\n",
    "# Folders containin individual NIPS papers.\n",
    "yrs = ['00', '01', '02', '03', '04', '05', '06', '07', '08', '09', '10', '11', '12']\n",
    "#yrs = ['00']\n",
    "dirs = ['nips' + yr for yr in yrs]\n",
    "\n",
    "# Get all document texts and their corresponding IDs.\n",
    "docs = []\n",
    "doc_ids = []\n",
    "for yr_dir in dirs:\n",
    "    files = os.listdir(data_dir + yr_dir)  # List of filenames.\n",
    "    for filen in files:\n",
    "        # Get document ID.\n",
    "        (idx1, idx2) = re.search('[0-9]+', filen).span()  # Matches the indexes of the start end end of the ID.\n",
    "        doc_ids.append(yr_dir[4:] + '_' + str(int(filen[idx1:idx2])))\n",
    "        \n",
    "        # Read document text.\n",
    "        # Note: ignoring characters that cause encoding errors.\n",
    "        with open(data_dir + yr_dir + '/' + filen, errors='ignore', encoding='utf-8') as fid:\n",
    "            txt = fid.read()\n",
    "        docs.append(txt)"
   ]
  },
  {
   "cell_type": "code",
   "execution_count": 248,
   "metadata": {
    "collapsed": false
   },
   "outputs": [],
   "source": [
    "filenames = [data_dir + 'idx/a' + yr + '.txt' for yr in yrs]  # Using the years defined in previous cell.\n",
    "\n",
    "# Get all author names and their corresponding document IDs.\n",
    "authors_names = []\n",
    "author2doc = {}\n",
    "author_id = 0\n",
    "for yr in yrs:\n",
    "    filename = data_dir + 'idx/a' + yr + '.txt'\n",
    "    for line in open(filename, errors='ignore', encoding='utf-8'):\n",
    "        contents = re.split(',', line)\n",
    "        author_name = (contents[1] + contents[0]).strip()\n",
    "        ids = [c.strip() for c in contents[2:]]\n",
    "        authors_names.append(author_name)\n",
    "        author2doc[author_id] = [yr + '_' + id for id in ids]\n",
    "        author_id += 1"
   ]
  },
  {
   "cell_type": "code",
   "execution_count": 249,
   "metadata": {
    "collapsed": true
   },
   "outputs": [],
   "source": [
    "# Make a mapping from author ID to author name.\n",
    "id2author = dict(zip(range(len(authors_names)), authors_names))\n",
    "\n",
    "# Also the reverse mapping.\n",
    "author2id = dict(zip(authors_names, range(len(authors_names))))"
   ]
  },
  {
   "cell_type": "code",
   "execution_count": 250,
   "metadata": {
    "collapsed": false
   },
   "outputs": [],
   "source": [
    "# Use an integer ID in author2doc, instead of the IDs provided in the NIPS dataset.\n",
    "\n",
    "# Mapping from ID of document in NIPS datast, to an integer ID.\n",
    "doc_id_dict = dict(zip(doc_ids, range(len(doc_ids))))\n",
    "\n",
    "for a, a_doc_ids in author2doc.items():\n",
    "    for i, doc_id in enumerate(a_doc_ids):\n",
    "        author2doc[a][i] = doc_id_dict[doc_id]"
   ]
  },
  {
   "cell_type": "code",
   "execution_count": 251,
   "metadata": {
    "collapsed": false
   },
   "outputs": [],
   "source": [
    "# Make a mapping from document IDs to author IDs.\n",
    "# Same as in the atvb code.\n",
    "doc2author = {}\n",
    "for d, _ in enumerate(docs):\n",
    "    author_ids = []\n",
    "    for a, a_doc_ids in author2doc.items():\n",
    "        if d in a_doc_ids:\n",
    "            author_ids.append(a)\n",
    "    doc2author[d] = author_ids"
   ]
  },
  {
   "cell_type": "markdown",
   "metadata": {},
   "source": [
    "## Pre-process and vectorize data"
   ]
  },
  {
   "cell_type": "code",
   "execution_count": 252,
   "metadata": {
    "collapsed": false
   },
   "outputs": [],
   "source": [
    "# Tokenize the documents.\n",
    "\n",
    "# Split the documents into tokens.\n",
    "tokenizer = RegexpTokenizer(r'\\w+')\n",
    "for idx in range(len(docs)):\n",
    "    docs[idx] = docs[idx].lower()  # Convert to lowercase.\n",
    "    docs[idx] = tokenizer.tokenize(docs[idx])  # Split into words.\n",
    "\n",
    "# Remove numbers, but not words that contain numbers.\n",
    "docs = [[token for token in doc if not token.isnumeric()] for doc in docs]\n",
    "\n",
    "# Remove words that are only one character.\n",
    "docs = [[token for token in doc if len(token) > 1] for doc in docs]"
   ]
  },
  {
   "cell_type": "code",
   "execution_count": 253,
   "metadata": {
    "collapsed": true
   },
   "outputs": [],
   "source": [
    "# Lemmatize the documents.\n",
    "\n",
    "# Lemmatize all words in documents.\n",
    "lemmatizer = WordNetLemmatizer()\n",
    "docs = [[lemmatizer.lemmatize(token) for token in doc] for doc in docs]"
   ]
  },
  {
   "cell_type": "code",
   "execution_count": 254,
   "metadata": {
    "collapsed": true
   },
   "outputs": [],
   "source": [
    "# Compute bigrams.\n",
    "\n",
    "# Add bigrams and trigrams to docs (only ones that appear 20 times or more).\n",
    "bigram = Phrases(docs, min_count=20)\n",
    "for idx in range(len(docs)):\n",
    "    for token in bigram[docs[idx]]:\n",
    "        if '_' in token:\n",
    "            # Token is a bigram, add to document.\n",
    "            docs[idx].append(token)"
   ]
  },
  {
   "cell_type": "code",
   "execution_count": 255,
   "metadata": {
    "collapsed": true
   },
   "outputs": [],
   "source": [
    "# Create a dictionary representation of the documents.\n",
    "dictionary = Dictionary(docs)"
   ]
  },
  {
   "cell_type": "code",
   "execution_count": 256,
   "metadata": {
    "collapsed": false
   },
   "outputs": [
    {
     "data": {
      "image/png": "[encoded data removed]",
      "text/plain": [
       "<matplotlib.figure.Figure at 0x7f91673dc160>"
      ]
     },
     "metadata": {},
     "output_type": "display_data"
    }
   ],
   "source": [
    "# Frequency distribution of words.\n",
    "\n",
    "one_doc = []\n",
    "for doc in docs:\n",
    "    one_doc.extend(doc)\n",
    "\n",
    "bow = dictionary.doc2bow(one_doc)\n",
    "word_freq = [cnt for _, cnt in bow]\n",
    "\n",
    "plt.plot(sorted(word_freq))\n",
    "plt.xlabel('Words')\n",
    "plt.ylabel('#Occurences')\n",
    "plt.title('Frequency distribution of words.\\nPower-law behaviour.')\n",
    "plt.show()"
   ]
  },
  {
   "cell_type": "code",
   "execution_count": 257,
   "metadata": {
    "collapsed": true
   },
   "outputs": [],
   "source": [
    "# Remove rare and common tokens.\n",
    "\n",
    "# Filter out words that occur too frequently or too rarely.\n",
    "max_freq = 0.5\n",
    "min_wordcount = 20\n",
    "dictionary.filter_extremes(no_below=min_wordcount, no_above=max_freq)\n",
    "\n",
    "dict0 = dictionary[0]  # This sort of \"initializes\" dictionary.id2token."
   ]
  },
  {
   "cell_type": "code",
   "execution_count": 258,
   "metadata": {
    "collapsed": true
   },
   "outputs": [],
   "source": [
    "# Vectorize data.\n",
    "\n",
    "# Bag-of-words representation of the documents.\n",
    "corpus = [dictionary.doc2bow(doc) for doc in docs]"
   ]
  },
  {
   "cell_type": "code",
   "execution_count": 259,
   "metadata": {
    "collapsed": false
   },
   "outputs": [
    {
     "name": "stdout",
     "output_type": "stream",
     "text": [
      "Number of authors: 3467\n",
      "Number of unique tokens: 8640\n",
      "Number of documents: 1740\n"
     ]
    }
   ],
   "source": [
    "print('Number of authors: %d' % len(author2doc))\n",
    "print('Number of unique tokens: %d' % len(dictionary))\n",
    "print('Number of documents: %d' % len(corpus))"
   ]
  },
  {
   "cell_type": "markdown",
   "metadata": {},
   "source": [
    "### Disjoint set stuff"
   ]
  },
  {
   "cell_type": "code",
   "execution_count": 260,
   "metadata": {
    "collapsed": false
   },
   "outputs": [],
   "source": [
    "def find_disjoint_sets(d):\n",
    "    while True:\n",
    "        for tuple_, set1 in d.items():\n",
    "            try:\n",
    "                match = next(k for k, set2 in d.items() if k != tuple_ and set1 & set2)\n",
    "            except StopIteration:\n",
    "                # no match for this key - keep looking\n",
    "                continue\n",
    "            else:\n",
    "                #print('merging', tuple(set1), match)\n",
    "                d[tuple_] = set1 | d.pop(match)\n",
    "                break\n",
    "        else:\n",
    "            # no match for any key - we are done!\n",
    "            break\n",
    "\n",
    "    output = sorted(tuple(s) for s in d.values())\n",
    "    \n",
    "    return output"
   ]
  },
  {
   "cell_type": "code",
   "execution_count": 261,
   "metadata": {
    "collapsed": false
   },
   "outputs": [
    {
     "name": "stdout",
     "output_type": "stream",
     "text": [
      "[(0,), (1, 27), (2,), (3,), (4,), (5,), (7,), (8,), (9,), (10,), (11, 44, 77, 54), (12,), (15,), (16,), (17,), (18,), (20,), (21,), (22,), (23,), (24,), (25,), (26,), (28,), (29,), (30,), (31,), (32,), (33,), (34, 13), (35, 19), (36,), (37,), (38,), (39,), (40,), (41,), (42,), (45,), (46,), (47,), (48,), (49,), (50,), (51,), (52,), (53,), (55,), (56,), (57,), (58,), (59,), (60,), (61,), (62,), (63,), (64,), (65,), (66,), (67,), (68,), (69,), (70,), (71,), (72,), (73,), (74,), (75, 43), (76,), (78,), (79,), (80,), (81,), (82, 14, 6), (83,), (84,), (85,), (86,), (87,), (88,), (89,), (90,), (92,), (94,), (95,), (96,), (97,), (98,), (100,), (102,), (103,), (104,), (105,), (106,), (107, 166), (108,), (109,), (110,), (111,), (112,), (113,), (114,), (115,), (116,), (117,), (118,), (119,), (120, 93), (121, 148), (122,), (123,), (124,), (125,), (126,), (127,), (128, 162, 99, 163, 101, 150), (129,), (130,), (131,), (133,), (134,), (135,), (136,), (137,), (138,), (139, 181), (140,), (141,), (142,), (143,), (144, 132), (145,), (146,), (147,), (149,), (151,), (152,), (153,), (154,), (155,), (156,), (157,), (158,), (159,), (160,), (161,), (164,), (165,), (167,), (168,), (169,), (170, 91), (171,), (172,), (173,), (174,), (175,), (176,), (177,), (178,), (179,), (180,), (182,), (183,), (184,), (185, 231), (186, 207), (187,), (189,), (190, 271), (191,), (192, 236, 268), (193,), (194,), (196,), (197,), (200,), (201, 210), (202, 237), (203,), (204,), (205,), (206,), (208,), (209,), (211, 252), (213,), (214,), (215,), (216,), (217, 281), (218, 228), (219,), (220,), (221,), (224,), (225,), (226, 242), (227,), (229,), (230,), (232,), (233,), (234, 198), (235, 212, 276, 270), (238,), (240,), (241,), (243,), (245,), (246,), (247,), (248, 284, 222, 239), (249,), (250,), (251, 188, 244), (253,), (254,), (255,), (256,), (257, 223), (258, 195), (259,), (260,), (261,), (262,), (263,), (264,), (265,), (266,), (267,), (269,), (272,), (273,), (274,), (275, 199), (277,), (278,), (279,), (280,), (282,), (283,), (285,), (286,), (287,), (288,), (289,), (290,), (291,), (292,), (294,), (296,), (297,), (298, 325), (299,), (300,), (301,), (302,), (303,), (304,), (305,), (306, 359), (307,), (310,), (311,), (312,), (313,), (314,), (315,), (316,), (317,), (318,), (319,), (320,), (321,), (322,), (323,), (328,), (329, 383), (330,), (331,), (332,), (333,), (335,), (336, 295), (337,), (338,), (340,), (341,), (345,), (346,), (347,), (348,), (349,), (350, 326), (351,), (352, 358, 327, 393, 367, 342, 406, 344), (353,), (354, 339), (357,), (360, 293), (361,), (362,), (363, 374), (364,), (365,), (366,), (368,), (369,), (370,), (371,), (372,), (373,), (375,), (376,), (378,), (379,), (380,), (381,), (382, 334), (384,), (385,), (386,), (387, 356, 414), (388,), (389, 343), (390,), (391,), (392,), (394,), (395,), (396,), (398,), (399,), (400,), (401,), (402,), (403,), (404,), (405,), (407,), (408, 308), (409,), (410, 355, 324), (411,), (412,), (413,), (415,), (416,), (417, 309), (418,), (419,), (420,), (421,), (422,), (423,), (424,), (425, 377, 397), (426,), (427,), (428,), (429,), (430,), (431, 515, 549, 535), (432, 489, 508, 510), (433,), (434,), (437,), (439,), (440, 435, 556), (441,), (442, 501), (443,), (448,), (449,), (450, 459), (451,), (452,), (453,), (454,), (455,), (456,), (457, 469, 566, 471), (458,), (460,), (462,), (463,), (464,), (465,), (466,), (467,), (468, 487), (470,), (472,), (473, 546, 509), (474,), (475,), (476,), (477,), (479,), (480,), (481, 524), (482,), (484,), (486,), (488,), (490,), (491, 461), (492,), (494,), (495,), (496,), (497,), (498, 478), (499,), (500,), (502,), (503,), (504,), (505, 444), (506,), (507,), (511,), (512,), (513,), (514, 541, 551), (516,), (517,), (518,), (520,), (521,), (522,), (523,), (525,), (526,), (527,), (528,), (529,), (530,), (531,), (532, 485, 565), (533,), (534,), (536, 562, 447), (537,), (538,), (539,), (540,), (542,), (543, 438, 446), (544,), (545,), (547,), (548,), (550,), (552,), (553,), (554, 436), (555,), (557,), (558,), (559,), (560,), (561,), (563, 445), (564,), (567,), (568,), (569, 493), (570,), (571, 483), (572, 519), (573,), (574,), (575,), (576, 674, 642, 666, 621), (577,), (578,), (579,), (581,), (582,), (583,), (584,), (585,), (586,), (587,), (588,), (590,), (592, 606), (593,), (594,), (595,), (597,), (599, 661, 639), (600,), (601,), (602,), (603,), (604,), (605,), (608, 641), (609,), (610, 580, 596), (611,), (614,), (615,), (618,), (619,), (620,), (622,), (624,), (625,), (626,), (627,), (628,), (629,), (630,), (632,), (633, 685), (634,), (636,), (637,), (638,), (640,), (643,), (644,), (645, 678), (646,), (647,), (648,), (649,), (650,), (651,), (652, 684), (653, 631), (654,), (656,), (657, 598), (658,), (659,), (660,), (663,), (665, 662), (667,), (668,), (669,), (670,), (671,), (672, 681, 617, 635, 607), (673,), (675, 613), (676,), (677,), (679,), (680,), (682,), (683,), (686,), (687, 655), (688,), (689, 612), (690,), (691,), (692,), (693,), (694,), (695, 591), (696, 664, 616), (697,), (698, 623), (699, 589), (700,), (704,), (705,), (706,), (707, 799), (708,), (709,), (710,), (711,), (713,), (714,), (715,), (717,), (720, 793, 701), (721,), (722,), (723,), (724,), (725,), (728,), (729, 788), (731,), (732,), (733,), (735, 822, 791), (736,), (737,), (738, 730, 758), (739,), (740,), (742,), (743,), (744, 786), (745,), (746,), (747, 798, 775), (748,), (749,), (750,), (751,), (752,), (753,), (754,), (755,), (756,), (757, 741), (759,), (760,), (761,), (762,), (763, 726), (764,), (765,), (766,), (768,), (769, 702), (772,), (773,), (774,), (776, 771, 767), (777, 831), (778,), (779,), (780,), (781,), (782,), (783,), (784,), (785,), (787, 805, 727, 734), (789,), (792,), (794,), (795, 716), (797, 790), (800,), (801, 712, 827, 718, 719), (802,), (803, 796), (807,), (808, 804, 703), (809,), (810,), (811,), (812, 806), (813,), (815,), (816,), (817,), (818, 814), (819,), (820,), (821,), (823,), (824, 825, 826), (829,), (830,), (832,), (833,), (834, 828), (835,), (836,), (837,), (838,), (839,), (840, 770), (841,), (842,), (843,), (845,), (846,), (847,), (848,), (850, 851), (853,), (855,), (856,), (857,), (859, 927), (861, 894, 869), (863,), (864,), (865,), (866,), (867,), (871,), (872,), (873, 858, 970, 973), (874, 958), (875,), (876,), (877, 862), (880,), (882,), (884, 967), (885,), (886,), (887,), (888,), (889,), (892,), (893,), (895,), (896,), (897, 849, 860), (898, 868), (900,), (902,), (904, 971), (905,), (906,), (907, 911), (908,), (909,), (910,), (912,), (913,), (915,), (916,), (917,), (918,), (919,), (920,), (921, 891), (922, 943), (923,), (924,), (925,), (926,), (929,), (930,), (931, 901, 903, 878, 942, 881, 946, 852, 980, 854, 890), (932,), (934,), (935,), (936,), (937,), (938,), (939,), (940,), (941,), (944,), (945, 914), (947, 870), (948,), (949,), (950,), (951,), (952,), (953,), (954,), (955,), (956,), (957,), (959,), (960, 928, 899, 883, 983, 974, 975), (961,), (962,), (963,), (964,), (965,), (966,), (968, 844, 933), (969,), (972,), (976, 977), (978,), (979,), (981, 879), (982,), (985, 1068), (986,), (987, 1111), (988,), (991,), (992, 1122), (993,), (994, 1007), (995,), (996,), (997, 1078), (999,), (1000,), (1001,), (1002,), (1003,), (1004,), (1006,), (1008, 1053), (1009,), (1010,), (1011, 1037), (1012,), (1014,), (1015,), (1016,), (1017,), (1018,), (1019,), (1022,), (1023,), (1024,), (1025,), (1027,), (1028,), (1029,), (1030, 1102, 1103, 1074, 1079, 984, 1020, 1055), (1031,), (1032, 1107, 1115), (1033,), (1034,), (1035,), (1036,), (1039,), (1040, 1089, 998, 1130), (1041,), (1042,), (1043,), (1044,), (1045,), (1046,), (1048,), (1049,), (1050, 1047), (1051,), (1054,), (1056,), (1057, 1021), (1058, 1099), (1059,), (1060,), (1061,), (1062,), (1064,), (1065, 1052), (1066, 1077, 1085), (1067,), (1069,), (1071,), (1072, 1026, 1063, 1005, 1070), (1073, 1125), (1075,), (1076,), (1080,), (1081, 1114), (1082,), (1083,), (1084,), (1086,), (1088,), (1090, 990), (1091,), (1092,), (1094,), (1095,), (1096,), (1097,), (1098, 1013, 1119), (1100,), (1101,), (1104,), (1105,), (1106,), (1108,), (1109,), (1110,), (1112,), (1113,), (1116, 1093, 989, 1038), (1117, 1087), (1118,), (1120,), (1121,), (1123,), (1124,), (1126,), (1127,), (1128,), (1129,), (1131,), (1132,), (1133,), (1134,), (1135,), (1136, 1186), (1137,), (1138, 1181), (1139,), (1140,), (1141,), (1142,), (1145,), (1146,), (1147,), (1148,), (1150,), (1151,), (1152,), (1155,), (1156,), (1157,), (1158,), (1160,), (1161,), (1162,), (1163,), (1166,), (1167,), (1169, 1211, 1279), (1170, 1172, 1189, 1159), (1171,), (1173,), (1175,), (1176,), (1177,), (1178,), (1179,), (1180,), (1182,), (1183, 1215), (1184, 1257), (1185,), (1187, 1285), (1188,), (1192,), (1193, 1164, 1230), (1194,), (1195,), (1196, 1254), (1197,), (1198,), (1200,), (1201,), (1202,), (1203, 1174, 1262), (1204,), (1205,), (1208,), (1209,), (1210, 1244, 1206), (1213,), (1216,), (1217,), (1219, 1259, 1227, 1144, 1212, 1214), (1220,), (1221,), (1222,), (1223,), (1225,), (1226,), (1228,), (1229,), (1231,), (1232,), (1233,), (1234,), (1235,), (1236, 1190, 1207), (1238,), (1239,), (1240,), (1241,), (1243,), (1245,), (1246,), (1247,), (1248,), (1250,), (1251, 1199), (1253, 1278), (1256,), (1258,), (1260,), (1261,), (1263,), (1264,), (1265,), (1266,), (1267,), (1268, 1143), (1269,), (1270,), (1271,), (1272, 1149), (1273,), (1274,), (1275,), (1277,), (1280, 1153, 1218, 1282, 1284, 1154, 1224, 1165, 1168, 1237, 1242, 1249, 1252, 1255, 1191, 1276), (1281,), (1283,), (1286,), (1287,), (1288,), (1290,), (1291,), (1292,), (1293,), (1294,), (1296,), (1297,), (1300,), (1301,), (1302,), (1303,), (1304, 1410, 1346), (1305, 1406), (1306,), (1307,), (1308,), (1309, 1327), (1311,), (1312,), (1313,), (1314, 1379, 1357, 1298, 1332, 1430, 1432, 1373, 1343), (1316,), (1318,), (1319,), (1320,), (1321,), (1322,), (1323,), (1324,), (1326,), (1328, 1333), (1329, 1364), (1330, 1334), (1331,), (1335,), (1336,), (1337,), (1338,), (1339,), (1341,), (1344,), (1345, 1402), (1347, 1355, 1366), (1348, 1349, 1317, 1325, 1425, 1363, 1428, 1374), (1350,), (1351, 1375), (1352, 1398), (1353,), (1354, 1365), (1356,), (1358,), (1359, 1362, 1407), (1360, 1340), (1361,), (1367,), (1368,), (1369, 1315), (1370,), (1371, 1422), (1372,), (1376,), (1377,), (1378, 1295), (1380,), (1381,), (1382,), (1383,), (1384,), (1385,), (1386, 1390), (1387, 1391), (1388,), (1389, 1405), (1392,), (1393, 1289), (1395,), (1396,), (1397,), (1399,), (1400, 1299), (1401,), (1403,), (1404,), (1408,), (1409, 1438), (1411,), (1412,), (1413,), (1414,), (1415,), (1416,), (1417,), (1418,), (1419,), (1420,), (1421,), (1423,), (1424, 1394), (1426,), (1427, 1310, 1342), (1429,), (1431,), (1433,), (1434,), (1435,), (1436,), (1437,), (1440, 1462, 1464, 1452, 1581, 1518, 1455), (1441, 1476), (1443,), (1444,), (1445,), (1446,), (1448,), (1450,), (1456,), (1457,), (1458, 1451, 1439), (1459, 1540, 1571), (1461,), (1465,), (1466,), (1467, 1516), (1468,), (1469,), (1470,), (1471,), (1472,), (1473,), (1474, 1579, 1565), (1475, 1580), (1477, 1463, 1449, 1482, 1548, 1454, 1519), (1478,), (1480, 1490), (1481,), (1483,), (1484,), (1485,), (1486,), (1487,), (1488, 1542, 1526), (1489,), (1491, 1532, 1589), (1493,), (1496,), (1497,), (1498,), (1500,), (1501,), (1502,), (1504, 1479), (1505,), (1506,), (1507, 1460, 1453), (1509,), (1510,), (1512,), (1513,), (1514,), (1517,), (1520,), (1521,), (1523,), (1525,), (1528,), (1529,), (1530,), (1531,), (1533,), (1536, 1572, 1508, 1559, 1545, 1535), (1537, 1442, 1515, 1524), (1538, 1499, 1527), (1539,), (1541,), (1543,), (1544,), (1546,), (1547,), (1549,), (1550,), (1551,), (1552, 1568, 1570, 1492, 1574, 1494), (1553,), (1554,), (1555,), (1557,), (1558,), (1560, 1503), (1561, 1495), (1562,), (1563,), (1564,), (1566, 1534), (1567,), (1569,), (1573,), (1575,), (1576,), (1577, 1522, 1511), (1578,), (1582, 1447), (1583,), (1584, 1556), (1585,), (1586,), (1587,), (1588,), (1590, 1695), (1591, 1598, 1711), (1592,), (1593,), (1594, 1653), (1595,), (1596,), (1597,), (1599,), (1600, 1721), (1601,), (1602, 1702), (1603, 1691, 1710), (1605,), (1606,), (1607,), (1608,), (1610,), (1611,), (1612,), (1613,), (1616,), (1617, 1679), (1621,), (1622,), (1623,), (1624, 1642, 1635, 1650), (1625,), (1627,), (1628,), (1629,), (1630,), (1631,), (1632,), (1633,), (1634, 1643, 1618, 1683, 1714, 1654, 1688, 1722, 1725, 1663), (1637,), (1639,), (1640, 1708), (1641,), (1644,), (1646,), (1647,), (1648,), (1649,), (1651,), (1655,), (1656, 1614), (1657,), (1658,), (1659,), (1660,), (1661, 1669), (1664, 1718), (1665, 1693), (1666,), (1667,), (1668, 1604, 1685), (1670,), (1672,), (1673, 1732, 1615), (1674, 1715), (1675,), (1676, 1694, 1678), (1677,), (1680, 1645), (1681,), (1682,), (1684,), (1686,), (1687,), (1689, 1739, 1735), (1690,), (1692,), (1696,), (1697,), (1698,), (1699,), (1701,), (1703,), (1704, 1652), (1705,), (1707,), (1709,), (1712, 1734), (1713, 1619, 1700, 1733, 1620, 1609, 1706), (1716, 1636), (1719, 1717, 1662, 1638), (1720,), (1723,), (1724,), (1726,), (1727,), (1728,), (1729,), (1730, 1626), (1731,), (1736, 1671), (1737,), (1738,)]\n",
      "1312\n",
      "278.3766186237335\n"
     ]
    }
   ],
   "source": [
    "start = time()\n",
    "\n",
    "thing = {a: set(_list) for a, _list in author2doc.items()}\n",
    "disjoint_authors = find_disjoint_sets(thing)\n",
    "print(disjoint_authors)\n",
    "print(len(disjoint_authors))\n",
    "\n",
    "print(time() - start)"
   ]
  },
  {
   "cell_type": "markdown",
   "metadata": {},
   "source": [
    "## Online AT VB"
   ]
  },
  {
   "cell_type": "code",
   "execution_count": 38,
   "metadata": {
    "collapsed": false
   },
   "outputs": [
    {
     "name": "stdout",
     "output_type": "stream",
     "text": [
      "CPU times: user 13.6 s, sys: 16 ms, total: 13.6 s\n",
      "Wall time: 13.6 s\n"
     ]
    }
   ],
   "source": [
    "%time lda = LdaModel(corpus=corpus, num_topics=10, id2word=dictionary.id2token, passes=10, \\\n",
    "               iterations=100, alpha='auto', eta='symmetric', random_state=1)\n",
    "var_lambda = lda.state.get_lambda()"
   ]
  },
  {
   "cell_type": "code",
   "execution_count": 98,
   "metadata": {
    "collapsed": true
   },
   "outputs": [],
   "source": [
    "reload(onlineatvb)\n",
    "OnlineAtVb = onlineatvb.OnlineAtVb"
   ]
  },
  {
   "cell_type": "code",
   "execution_count": 138,
   "metadata": {
    "collapsed": false
   },
   "outputs": [
    {
     "name": "stdout",
     "output_type": "stream",
     "text": [
      "CPU times: user 2min 35s, sys: 0 ns, total: 2min 35s\n",
      "Wall time: 2min 35s\n"
     ]
    }
   ],
   "source": [
    "%time model_online = OnlineAtVb(corpus=corpus, num_topics=10, id2word=dictionary.id2token, id2author=id2author, \\\n",
    "                   author2doc=author2doc, doc2author=doc2author, threshold=1e-10, \\\n",
    "                   iterations=10, passes=10, alpha=None, eta=None, decay=0.5, offset=1.0, \\\n",
    "                   eval_every=1000, random_state=1, var_lambda=None)"
   ]
  },
  {
   "cell_type": "code",
   "execution_count": 139,
   "metadata": {
    "collapsed": false
   },
   "outputs": [
    {
     "data": {
      "text/plain": [
       "[(0,\n",
       "  '0.041*training + 0.040*hidden + 0.037*representation + 0.024*role + 0.023*gradient + 0.021*hidden_unit + 0.021*procedure + 0.020*back_propagation + 0.020*node + 0.018*connectionist'),\n",
       " (1,\n",
       "  '0.039*differential + 0.035*search + 0.031*strategy + 0.023*control + 0.020*he + 0.018*goal + 0.017*target + 0.015*start + 0.014*question + 0.014*influence'),\n",
       " (2,\n",
       "  '0.062*code + 0.056*node + 0.051*activation + 0.044*adaptive + 0.029*sequence + 0.022*update + 0.022*learned + 0.014*past + 0.013*summation + 0.013*machine'),\n",
       " (3,\n",
       "  '0.070*cell + 0.043*stimulus + 0.030*synapsis + 0.030*current + 0.029*firing + 0.028*activity + 0.023*synaptic + 0.022*spatial + 0.019*classification + 0.015*channel'),\n",
       " (4,\n",
       "  '0.047*processor + 0.037*dynamic + 0.035*interconnection + 0.032*group + 0.029*iv + 0.023*temporal + 0.022*delay + 0.019*learning_rule + 0.018*vol + 0.017*sigmoid'),\n",
       " (5,\n",
       "  '0.058*image + 0.025*convergence + 0.025*energy + 0.024*matrix + 0.018*hopfield + 0.018*minimum + 0.015*recall + 0.015*recognition + 0.015*associative_memory + 0.013*field'),\n",
       " (6,\n",
       "  '0.050*capacity + 0.042*bit + 0.025*stored + 0.024*analog + 0.023*bound + 0.016*definition + 0.015*off + 0.014*binary + 0.014*word + 0.013*correct'),\n",
       " (7,\n",
       "  '0.058*cell + 0.040*probability + 0.035*firing + 0.025*cycle + 0.019*phase + 0.019*active + 0.018*specific + 0.017*shape + 0.017*region + 0.015*action'),\n",
       " (8,\n",
       "  '0.057*visual + 0.048*constraint + 0.037*map + 0.034*noise + 0.027*optimization + 0.025*gain + 0.022*mapping + 0.020*field + 0.020*device + 0.019*stage'),\n",
       " (9,\n",
       "  '0.074*loop + 0.044*path + 0.044*product + 0.037*circuit + 0.036*edge + 0.025*magnitude + 0.025*eq + 0.021*direction + 0.020*interaction + 0.017*higher')]"
      ]
     },
     "execution_count": 139,
     "metadata": {},
     "output_type": "execute_result"
    }
   ],
   "source": [
    "model_online.show_topics()"
   ]
  },
  {
   "cell_type": "code",
   "execution_count": 122,
   "metadata": {
    "collapsed": false
   },
   "outputs": [
    {
     "name": "stdout",
     "output_type": "stream",
     "text": [
      "\n",
      "Yaser S.Abu-Mostafa\n",
      "Docs: [21]\n",
      "[(0, 0.43981727821822292),\n",
      " (1, 0.028347213089721844),\n",
      " (3, 0.096034791617892343),\n",
      " (5, 0.11974213992896583),\n",
      " (6, 0.04818530676877044),\n",
      " (7, 0.052015356949023761),\n",
      " (8, 0.19358105735922765),\n",
      " (9, 0.012210592598702002)]\n",
      "\n",
      "Geoffrey E. Hinton\n",
      "Docs: [276, 235, 270]\n",
      "[(0, 0.23709584775467316),\n",
      " (1, 0.036278840277891584),\n",
      " (2, 0.060881928460912567),\n",
      " (3, 0.040860020890840953),\n",
      " (4, 0.22120874865101597),\n",
      " (5, 0.17881352536707981),\n",
      " (6, 0.011552682298532534),\n",
      " (7, 0.17862704317305195),\n",
      " (8, 0.034587306660400441)]\n",
      "\n",
      "Michael I. Jordan\n",
      "Docs: [205]\n",
      "[(0, 0.2657244791505019),\n",
      " (1, 0.042233864299392278),\n",
      " (2, 0.056208047768936259),\n",
      " (3, 0.020408371858599395),\n",
      " (4, 0.075285256015344873),\n",
      " (5, 0.44939042793717449),\n",
      " (7, 0.064270462578477641),\n",
      " (8, 0.014524432524677481),\n",
      " (9, 0.011664709291004252)]\n",
      "\n",
      "James M. Bower\n",
      "Docs: [188, 251, 244]\n",
      "[(0, 0.35369888348382267),\n",
      " (1, 0.097782509316364244),\n",
      " (2, 0.11873783156273017),\n",
      " (3, 0.02244484445927224),\n",
      " (5, 0.11510615687752906),\n",
      " (6, 0.01642214092725941),\n",
      " (7, 0.056016631498195003),\n",
      " (9, 0.21370723667506888)]\n"
     ]
    }
   ],
   "source": [
    "name = 'Yaser S.Abu-Mostafa'\n",
    "print('\\n%s' % name)\n",
    "print('Docs:', author2doc[author2id[name]])\n",
    "pprint(model_online.get_author_topics(author2id[name]))\n",
    "\n",
    "name = 'Geoffrey E. Hinton'\n",
    "print('\\n%s' % name)\n",
    "print('Docs:', author2doc[author2id[name]])\n",
    "pprint(model_online.get_author_topics(author2id[name]))\n",
    "\n",
    "name = 'Michael I. Jordan'\n",
    "print('\\n%s' % name)\n",
    "print('Docs:', author2doc[author2id[name]])\n",
    "pprint(model_online.get_author_topics(author2id[name]))\n",
    "\n",
    "name = 'James M. Bower'\n",
    "print('\\n%s' % name)\n",
    "print('Docs:', author2doc[author2id[name]])\n",
    "pprint(model_online.get_author_topics(author2id[name]))"
   ]
  },
  {
   "cell_type": "markdown",
   "metadata": {},
   "source": [
    "### Test on a small dataset"
   ]
  },
  {
   "cell_type": "code",
   "execution_count": 36,
   "metadata": {
    "collapsed": false
   },
   "outputs": [],
   "source": [
    "n_docs = 10\n",
    "\n",
    "from copy import deepcopy\n",
    "\n",
    "small_doc2author = deepcopy(dict(list(doc2author.items())[:n_docs]))\n",
    "small_doc2author = dict(small_doc2author)\n",
    "\n",
    "small_corpus = corpus[:n_docs]"
   ]
  },
  {
   "cell_type": "code",
   "execution_count": 37,
   "metadata": {
    "collapsed": false
   },
   "outputs": [],
   "source": [
    "authors_ids = set()\n",
    "for d, a_doc_ids in small_doc2author.items():\n",
    "    for a in a_doc_ids:\n",
    "        authors_ids.add(a)\n",
    "\n",
    "authors_ids = list(authors_ids)\n",
    "author_id_dict = dict(zip(authors_ids, range(len(authors_ids))))"
   ]
  },
  {
   "cell_type": "code",
   "execution_count": 38,
   "metadata": {
    "collapsed": false
   },
   "outputs": [],
   "source": [
    "for d, a_ids in small_doc2author.items():\n",
    "    for i, a in enumerate(a_ids):\n",
    "        small_doc2author[d][i] = author_id_dict[a]"
   ]
  },
  {
   "cell_type": "code",
   "execution_count": 39,
   "metadata": {
    "collapsed": false
   },
   "outputs": [],
   "source": [
    "# Make a mapping from author IDs to document IDs.\n",
    "small_author2doc = {}\n",
    "for a in range(len(author_id_dict)):\n",
    "    small_author2doc[a] = []\n",
    "    for d, a_ids in small_doc2author.items():\n",
    "        if a in a_ids:\n",
    "            small_author2doc[a].append(d)"
   ]
  },
  {
   "cell_type": "code",
   "execution_count": 40,
   "metadata": {
    "collapsed": false
   },
   "outputs": [],
   "source": [
    "\n",
    "author_id_dict_rev = dict(zip(range(len(authors_ids)), authors_ids))\n",
    "\n",
    "small_id2author = {}\n",
    "for a, a_id in author_id_dict_rev.items():\n",
    "    small_id2author[a] = id2author[a_id]"
   ]
  },
  {
   "cell_type": "code",
   "execution_count": 41,
   "metadata": {
    "collapsed": false
   },
   "outputs": [
    {
     "name": "stdout",
     "output_type": "stream",
     "text": [
      "phi is 10 x 681 x 10 (68100 elements)\n",
      "mu is 10 x 681 x 22 (149820 elements)\n"
     ]
    }
   ],
   "source": [
    "print('phi is %d x %d x %d (%d elements)' %(len(small_corpus), len(dictionary.id2token), 10,\n",
    "                                            len(small_corpus) * len(dictionary.id2token) * 10))\n",
    "print('mu is %d x %d x %d (%d elements)' %(len(small_corpus), len(dictionary.id2token), len(small_author2doc),\n",
    "                                            len(small_corpus) * len(dictionary.id2token) * len(small_author2doc)))"
   ]
  },
  {
   "cell_type": "code",
   "execution_count": 42,
   "metadata": {
    "collapsed": false
   },
   "outputs": [],
   "source": [
    "reload(onlineatvb)\n",
    "OnlineAtVb = onlineatvb.OnlineAtVb"
   ]
  },
  {
   "cell_type": "code",
   "execution_count": 43,
   "metadata": {
    "collapsed": false
   },
   "outputs": [
    {
     "name": "stdout",
     "output_type": "stream",
     "text": [
      "CPU times: user 16.5 s, sys: 4 ms, total: 16.5 s\n",
      "Wall time: 16.5 s\n"
     ]
    }
   ],
   "source": [
    "%time model = OnlineAtVb(corpus=small_corpus, num_topics=10, id2word=dictionary.id2token, id2author=small_id2author, \\\n",
    "                   author2doc=small_author2doc, doc2author=small_doc2author, threshold=1e-3, \\\n",
    "                   iterations=10, passes=5, alpha=None, eta=None, decay=0.5, offset=1.0, \\\n",
    "                   eval_every=1, random_state=1, var_lambda=None)"
   ]
  },
  {
   "cell_type": "code",
   "execution_count": 133,
   "metadata": {
    "collapsed": false
   },
   "outputs": [
    {
     "name": "stdout",
     "output_type": "stream",
     "text": [
      "\n",
      "Amir F.Atiya\n",
      "Docs: [5]\n",
      "[(0, 0.26236663424329809),\n",
      " (1, 0.055837758145413023),\n",
      " (2, 0.32385947243135804),\n",
      " (4, 0.031231118362347546),\n",
      " (5, 0.049702348068489471),\n",
      " (6, 0.063277167602715914),\n",
      " (7, 0.11515798924424819),\n",
      " (9, 0.098115022122885684)]\n",
      "\n",
      "FrankWilczek\n",
      "Docs: [1]\n",
      "[(0, 0.21018310687516228),\n",
      " (1, 0.39886126379385306),\n",
      " (2, 0.18071281961456737),\n",
      " (3, 0.052218386110533886),\n",
      " (5, 0.039636353968810233),\n",
      " (8, 0.032375816267307712),\n",
      " (9, 0.073725725628590477)]\n"
     ]
    }
   ],
   "source": [
    "name = 'Amir F.Atiya'\n",
    "print('\\n%s' % name)\n",
    "print('Docs:', model.author2doc[model.author2id[name]])\n",
    "pprint(model.get_author_topics(model.author2id[name]))\n",
    "\n",
    "name = 'FrankWilczek'\n",
    "print('\\n%s' % name)\n",
    "print('Docs:', model.author2doc[model.author2id[name]])\n",
    "pprint(model.get_author_topics(model.author2id[name]))\n"
   ]
  },
  {
   "cell_type": "markdown",
   "metadata": {},
   "source": [
    "## \"Offline\" AT VB"
   ]
  },
  {
   "cell_type": "code",
   "execution_count": 356,
   "metadata": {
    "collapsed": false
   },
   "outputs": [
    {
     "name": "stdout",
     "output_type": "stream",
     "text": [
      "phi is 286 x 2245 x 10 (6420700 elements)\n",
      "mu is 286 x 2245 x 578 (371116460 elements)\n"
     ]
    }
   ],
   "source": [
    "print('phi is %d x %d x %d (%d elements)' %(len(corpus), len(dictionary.id2token), 10,\n",
    "                                            len(corpus) * len(dictionary.id2token) * 10))\n",
    "print('mu is %d x %d x %d (%d elements)' %(len(corpus), len(dictionary.id2token), len(author2doc),\n",
    "                                            len(corpus) * len(dictionary.id2token) * len(author2doc)))"
   ]
  },
  {
   "cell_type": "code",
   "execution_count": 238,
   "metadata": {
    "collapsed": false
   },
   "outputs": [
    {
     "name": "stdout",
     "output_type": "stream",
     "text": [
      "CPU times: user 7.81 s, sys: 0 ns, total: 7.81 s\n",
      "Wall time: 7.81 s\n"
     ]
    }
   ],
   "source": [
    "%time lda = LdaModel(corpus=corpus, num_topics=10, id2word=dictionary.id2token, passes=10, \\\n",
    "               iterations=100, alpha='auto', eta='symmetric', random_state=1)\n",
    "var_lambda = lda.state.get_lambda()"
   ]
  },
  {
   "cell_type": "code",
   "execution_count": 140,
   "metadata": {
    "collapsed": false
   },
   "outputs": [],
   "source": [
    "reload(atvb)\n",
    "AtVb = atvb.AtVb"
   ]
  },
  {
   "cell_type": "code",
   "execution_count": 144,
   "metadata": {
    "collapsed": false
   },
   "outputs": [
    {
     "name": "stdout",
     "output_type": "stream",
     "text": [
      "CPU times: user 1min 19s, sys: 28 ms, total: 1min 19s\n",
      "Wall time: 1min 20s\n"
     ]
    }
   ],
   "source": [
    "%time model_offline = AtVb(corpus=corpus, num_topics=10, id2word=dictionary.id2token, id2author=id2author, \\\n",
    "                   author2doc=author2doc, doc2author=doc2author, threshold=1e-12, \\\n",
    "                   iterations=10, alpha='symmetric', eta='symmetric', var_lambda=None, \\\n",
    "                   eval_every=10, random_state=1)"
   ]
  },
  {
   "cell_type": "code",
   "execution_count": 143,
   "metadata": {
    "collapsed": false
   },
   "outputs": [
    {
     "data": {
      "text/plain": [
       "[(0,\n",
       "  '0.017*cell + 0.008*activity + 0.008*training + 0.007*matrix + 0.007*field + 0.007*representation + 0.006*hopfield + 0.006*probability + 0.006*stimulus + 0.006*current'),\n",
       " (1,\n",
       "  '0.015*cell + 0.009*matrix + 0.007*probability + 0.007*hopfield + 0.007*training + 0.006*activity + 0.006*feature + 0.006*stimulus + 0.006*hidden + 0.005*representation'),\n",
       " (2,\n",
       "  '0.015*cell + 0.008*matrix + 0.008*training + 0.007*representation + 0.006*image + 0.006*field + 0.006*dynamic + 0.006*probability + 0.006*activity + 0.006*sequence'),\n",
       " (3,\n",
       "  '0.013*cell + 0.009*training + 0.007*activity + 0.006*hidden + 0.006*node + 0.005*matrix + 0.005*probability + 0.005*hopfield + 0.005*representation + 0.005*sequence'),\n",
       " (4,\n",
       "  '0.016*cell + 0.007*activity + 0.007*training + 0.007*matrix + 0.007*representation + 0.006*hidden + 0.006*feature + 0.006*synaptic + 0.006*rate + 0.005*field'),\n",
       " (5,\n",
       "  '0.015*cell + 0.008*training + 0.006*matrix + 0.006*sequence + 0.006*field + 0.006*bit + 0.006*stimulus + 0.006*hopfield + 0.006*noise + 0.005*firing'),\n",
       " (6,\n",
       "  '0.018*cell + 0.008*representation + 0.008*matrix + 0.006*hopfield + 0.006*hidden + 0.005*rate + 0.005*firing + 0.005*training + 0.005*capacity + 0.005*node'),\n",
       " (7,\n",
       "  '0.014*cell + 0.007*activity + 0.007*matrix + 0.007*field + 0.007*training + 0.007*node + 0.006*hopfield + 0.006*representation + 0.006*rate + 0.005*synaptic'),\n",
       " (8,\n",
       "  '0.013*cell + 0.008*activity + 0.007*hidden + 0.007*training + 0.007*matrix + 0.006*feature + 0.006*capacity + 0.006*hopfield + 0.006*synaptic + 0.005*rate'),\n",
       " (9,\n",
       "  '0.014*cell + 0.009*matrix + 0.008*representation + 0.007*image + 0.007*activity + 0.007*hidden + 0.006*stimulus + 0.006*training + 0.006*hopfield + 0.006*firing')]"
      ]
     },
     "execution_count": 143,
     "metadata": {},
     "output_type": "execute_result"
    }
   ],
   "source": [
    "model_offline.show_topics()"
   ]
  },
  {
   "cell_type": "code",
   "execution_count": 142,
   "metadata": {
    "collapsed": false
   },
   "outputs": [
    {
     "data": {
      "text/plain": [
       "[(0,\n",
       "  '0.015*dynamic + 0.014*delay + 0.012*frequency + 0.011*phase + 0.010*noise + 0.008*temporal + 0.007*filter + 0.007*oscillation + 0.007*target + 0.007*controller'),\n",
       " (1,\n",
       "  '0.017*memory + 0.017*vector + 0.015*matrix + 0.013*hopfield + 0.011*probability + 0.008*capacity + 0.008*let + 0.008*fig + 0.007*code + 0.007*distribution'),\n",
       " (2,\n",
       "  '0.035*cell + 0.018*response + 0.012*region + 0.012*stimulus + 0.011*cortex + 0.009*fig + 0.009*sensory + 0.009*motor + 0.009*control + 0.009*velocity'),\n",
       " (3,\n",
       "  '0.041*image + 0.038*field + 0.023*visual + 0.016*map + 0.015*receptive + 0.014*receptive_field + 0.014*motion + 0.012*eye + 0.011*direction + 0.008*vision'),\n",
       " (4,\n",
       "  '0.030*hidden + 0.017*hidden_unit + 0.016*activation + 0.012*propagation + 0.010*processor + 0.009*back_propagation + 0.008*gradient + 0.007*hidden_layer + 0.007*bit + 0.006*internal'),\n",
       " (5,\n",
       "  '0.018*vector + 0.016*sequence + 0.016*object + 0.014*memory + 0.009*adaptive + 0.009*matrix + 0.008*recurrent + 0.008*action + 0.008*self + 0.008*view'),\n",
       " (6,\n",
       "  '0.025*classifier + 0.024*recognition + 0.023*speech + 0.014*classification + 0.013*trained + 0.011*class + 0.010*test + 0.010*noise + 0.010*hidden + 0.009*word'),\n",
       " (7,\n",
       "  '0.033*node + 0.008*position + 0.007*connectionist + 0.005*neural_net + 0.005*tree + 0.005*character + 0.004*move + 0.004*generalization + 0.004*search + 0.004*human'),\n",
       " (8,\n",
       "  '0.036*circuit + 0.024*analog + 0.024*chip + 0.020*voltage + 0.020*current + 0.014*synapse + 0.010*transistor + 0.010*vlsi + 0.009*device + 0.009*implementation'),\n",
       " (9,\n",
       "  '0.030*cell + 0.021*firing + 0.019*synaptic + 0.017*activity + 0.016*potential + 0.010*synapsis + 0.010*spike + 0.009*stimulus + 0.009*memory + 0.009*membrane')]"
      ]
     },
     "execution_count": 142,
     "metadata": {},
     "output_type": "execute_result"
    }
   ],
   "source": [
    "model.show_topics()"
   ]
  },
  {
   "cell_type": "code",
   "execution_count": 119,
   "metadata": {
    "collapsed": false
   },
   "outputs": [
    {
     "name": "stdout",
     "output_type": "stream",
     "text": [
      "\n",
      "Yaser S.Abu-Mostafa\n",
      "Docs: [21]\n",
      "[(0, 0.13509546636836239),\n",
      " (1, 0.44987514305413251),\n",
      " (3, 0.015628876899866424),\n",
      " (4, 0.17133899219205551),\n",
      " (5, 0.12622125049769653),\n",
      " (7, 0.038299020391926251),\n",
      " (8, 0.060545623938452663)]\n",
      "\n",
      "Geoffrey E. Hinton\n",
      "Docs: [276, 235, 270]\n",
      "[(0, 0.051128741737399293),\n",
      " (2, 0.031947903095827117),\n",
      " (3, 0.12717064775550488),\n",
      " (4, 0.14970319940657217),\n",
      " (5, 0.22650616321963829),\n",
      " (6, 0.27680468289365207),\n",
      " (7, 0.13302071076542252)]\n",
      "\n",
      "Michael I. Jordan\n",
      "Docs: [205]\n",
      "[(0, 0.62535055104859583),\n",
      " (4, 0.087850011456332838),\n",
      " (5, 0.18252069201813775),\n",
      " (7, 0.094925833198552231)]\n",
      "\n",
      "James M. Bower\n",
      "Docs: [188, 251, 244]\n",
      "[(0, 0.066667129031022732),\n",
      " (1, 0.01033213561317742),\n",
      " (2, 0.60401298021861427),\n",
      " (3, 0.073436683842966574),\n",
      " (4, 0.024716090603344801),\n",
      " (8, 0.023197011324340159),\n",
      " (9, 0.19741318615356793)]\n"
     ]
    }
   ],
   "source": [
    "name = 'Yaser S.Abu-Mostafa'\n",
    "print('\\n%s' % name)\n",
    "print('Docs:', author2doc[author2id[name]])\n",
    "pprint(model.get_author_topics(author2id[name]))\n",
    "\n",
    "name = 'Geoffrey E. Hinton'\n",
    "print('\\n%s' % name)\n",
    "print('Docs:', author2doc[author2id[name]])\n",
    "pprint(model.get_author_topics(author2id[name]))\n",
    "\n",
    "name = 'Michael I. Jordan'\n",
    "print('\\n%s' % name)\n",
    "print('Docs:', author2doc[author2id[name]])\n",
    "pprint(model.get_author_topics(author2id[name]))\n",
    "\n",
    "name = 'James M. Bower'\n",
    "print('\\n%s' % name)\n",
    "print('Docs:', author2doc[author2id[name]])\n",
    "pprint(model.get_author_topics(author2id[name]))"
   ]
  },
  {
   "cell_type": "code",
   "execution_count": 31,
   "metadata": {
    "collapsed": false
   },
   "outputs": [
    {
     "data": {
      "text/plain": [
       "[(0,\n",
       "  '0.019*cell + 0.008*matrix + 0.008*representation + 0.008*training + 0.007*activity + 0.007*node + 0.006*dynamic + 0.006*field + 0.006*probability + 0.005*hopfield'),\n",
       " (1,\n",
       "  '0.016*cell + 0.007*matrix + 0.007*capacity + 0.006*feature + 0.006*activity + 0.006*node + 0.006*field + 0.006*dynamic + 0.006*training + 0.006*stimulus'),\n",
       " (2,\n",
       "  '0.012*cell + 0.010*training + 0.008*matrix + 0.007*stimulus + 0.007*hopfield + 0.006*image + 0.006*noise + 0.006*representation + 0.006*hidden + 0.006*convergence'),\n",
       " (3,\n",
       "  '0.011*cell + 0.008*hopfield + 0.007*activity + 0.007*rate + 0.006*matrix + 0.006*hidden + 0.006*field + 0.006*training + 0.005*node + 0.005*representation'),\n",
       " (4,\n",
       "  '0.012*cell + 0.008*activity + 0.007*matrix + 0.007*training + 0.006*field + 0.006*code + 0.006*representation + 0.006*firing + 0.006*current + 0.005*synaptic'),\n",
       " (5,\n",
       "  '0.014*cell + 0.008*hidden + 0.007*sequence + 0.007*training + 0.006*field + 0.006*noise + 0.006*node + 0.006*dynamic + 0.006*hopfield + 0.006*representation'),\n",
       " (6,\n",
       "  '0.025*cell + 0.011*matrix + 0.009*training + 0.006*activity + 0.006*probability + 0.006*hopfield + 0.006*synaptic + 0.005*node + 0.005*stimulus + 0.005*representation'),\n",
       " (7,\n",
       "  '0.016*cell + 0.008*training + 0.007*activity + 0.007*representation + 0.007*matrix + 0.007*hidden + 0.007*noise + 0.006*hopfield + 0.006*probability + 0.006*firing'),\n",
       " (8,\n",
       "  '0.012*cell + 0.008*image + 0.007*training + 0.006*feature + 0.006*hopfield + 0.006*representation + 0.006*probability + 0.006*firing + 0.006*activity + 0.005*synaptic'),\n",
       " (9,\n",
       "  '0.012*cell + 0.008*matrix + 0.008*activity + 0.007*representation + 0.007*training + 0.006*image + 0.006*capacity + 0.006*rate + 0.006*hopfield + 0.006*node')]"
      ]
     },
     "execution_count": 31,
     "metadata": {},
     "output_type": "execute_result"
    }
   ],
   "source": [
    "model.show_topics()"
   ]
  },
  {
   "cell_type": "code",
   "execution_count": 118,
   "metadata": {
    "collapsed": false
   },
   "outputs": [
    {
     "name": "stdout",
     "output_type": "stream",
     "text": [
      "\n",
      "Yaser S.Abu-Mostafa\n",
      "Docs: [21]\n",
      "[(0, 0.090225715808980797),\n",
      " (1, 0.014047723409152875),\n",
      " (3, 0.38971799227229242),\n",
      " (4, 0.30695125800680684),\n",
      " (5, 0.11680215128570454),\n",
      " (7, 0.012641840087616362),\n",
      " (8, 0.069095036605336377)]\n",
      "\n",
      "Geoffrey E. Hinton\n",
      "Docs: [276, 235, 270]\n",
      "[(0, 0.17326190127690461),\n",
      " (2, 0.062709625689712375),\n",
      " (3, 0.023215349136065065),\n",
      " (4, 0.096803072840719678),\n",
      " (5, 0.1267901905748583),\n",
      " (6, 0.47635551675437715),\n",
      " (7, 0.025581291656655011),\n",
      " (9, 0.013530262666658776)]\n",
      "\n",
      "Michael I. Jordan\n",
      "Docs: [205]\n",
      "[(0, 0.22189029162114421),\n",
      " (2, 0.033072831647105602),\n",
      " (4, 0.051509519512663651),\n",
      " (5, 0.63361728214218349),\n",
      " (7, 0.045992411979857574),\n",
      " (9, 0.012757930948596466)]\n",
      "\n",
      "James M. Bower\n",
      "Docs: [188, 251, 244]\n",
      "[(1, 0.29194178492747924),\n",
      " (2, 0.47740737076112999),\n",
      " (3, 0.023636461735819542),\n",
      " (4, 0.010413505064807139),\n",
      " (7, 0.018554608959817139),\n",
      " (9, 0.17063597622983562)]\n"
     ]
    }
   ],
   "source": [
    "name = 'Yaser S.Abu-Mostafa'\n",
    "print('\\n%s' % name)\n",
    "print('Docs:', author2doc[author2id[name]])\n",
    "pprint(model.get_author_topics(author2id[name]))\n",
    "\n",
    "name = 'Geoffrey E. Hinton'\n",
    "print('\\n%s' % name)\n",
    "print('Docs:', author2doc[author2id[name]])\n",
    "pprint(model.get_author_topics(author2id[name]))\n",
    "\n",
    "name = 'Michael I. Jordan'\n",
    "print('\\n%s' % name)\n",
    "print('Docs:', author2doc[author2id[name]])\n",
    "pprint(model.get_author_topics(author2id[name]))\n",
    "\n",
    "name = 'James M. Bower'\n",
    "print('\\n%s' % name)\n",
    "print('Docs:', author2doc[author2id[name]])\n",
    "pprint(model.get_author_topics(author2id[name]))"
   ]
  },
  {
   "cell_type": "markdown",
   "metadata": {},
   "source": [
    "### Test on small corpus"
   ]
  },
  {
   "cell_type": "code",
   "execution_count": 30,
   "metadata": {
    "collapsed": true
   },
   "outputs": [],
   "source": [
    "lda = LdaModel(corpus=small_corpus, num_topics=10, id2word=dictionary.id2token, passes=10)\n",
    "var_lambda = lda.state.get_lambda()"
   ]
  },
  {
   "cell_type": "code",
   "execution_count": 44,
   "metadata": {
    "collapsed": false
   },
   "outputs": [],
   "source": [
    "reload(atvb)\n",
    "AtVb = atvb.AtVb"
   ]
  },
  {
   "cell_type": "code",
   "execution_count": 45,
   "metadata": {
    "collapsed": false
   },
   "outputs": [
    {
     "name": "stdout",
     "output_type": "stream",
     "text": [
      "CPU times: user 8.61 s, sys: 4 ms, total: 8.61 s\n",
      "Wall time: 8.62 s\n"
     ]
    }
   ],
   "source": [
    "%time model = AtVb(corpus=small_corpus, num_topics=10, id2word=dictionary.id2token, id2author=small_id2author, \\\n",
    "                   author2doc=small_author2doc, doc2author=small_doc2author, threshold=1e-12, \\\n",
    "                   iterations=5, alpha='symmetric', eta='symmetric', \\\n",
    "                   eval_every=1, random_state=1, var_lambda=None)"
   ]
  },
  {
   "cell_type": "code",
   "execution_count": 34,
   "metadata": {
    "collapsed": false
   },
   "outputs": [
    {
     "data": {
      "text/plain": [
       "[(0,\n",
       "  '0.071*group + 0.039*matrix + 0.032*feedback + 0.027*whose + 0.018*obtain + 0.016*scheme + 0.015*constraint + 0.015*expression + 0.014*unique + 0.013*computational'),\n",
       " (1,\n",
       "  '0.041*map + 0.040*field + 0.034*location + 0.033*brain + 0.030*node + 0.021*requires + 0.020*propagation + 0.016*back_propagation + 0.016*distribution + 0.014*mechanism'),\n",
       " (2,\n",
       "  '0.084*processor + 0.075*edge + 0.052*activation + 0.034*update + 0.021*column + 0.020*run + 0.019*implementation + 0.018*control + 0.018*operation + 0.017*content'),\n",
       " (3,\n",
       "  '0.046*image + 0.038*gradient + 0.027*flow + 0.025*field + 0.024*analog + 0.023*circuit + 0.022*constraint + 0.018*square + 0.017*vision + 0.017*technique'),\n",
       " (4,\n",
       "  '0.023*dynamic + 0.021*phase + 0.018*cell + 0.018*variable + 0.017*with_respect + 0.017*respect + 0.016*path + 0.015*noise + 0.014*energy + 0.011*limit'),\n",
       " (5,\n",
       "  '0.080*processor + 0.061*activation + 0.040*edge + 0.040*update + 0.021*store + 0.020*operation + 0.018*required + 0.018*address + 0.017*stored + 0.016*machine'),\n",
       " (6,\n",
       "  '0.038*map + 0.037*brain + 0.033*stimulus + 0.024*functional + 0.021*noise + 0.020*associative_memory + 0.020*recall + 0.017*series + 0.015*scale + 0.015*associated'),\n",
       " (7,\n",
       "  '0.049*potential + 0.044*cell + 0.035*connectivity + 0.026*synaptic + 0.025*artificial + 0.023*architecture + 0.015*temporal + 0.014*brain + 0.014*computational + 0.013*action'),\n",
       " (8,\n",
       "  '0.075*image + 0.032*log + 0.024*dimensional + 0.018*mapping + 0.017*matrix + 0.016*center + 0.015*node + 0.014*recall + 0.013*back + 0.013*th'),\n",
       " (9,\n",
       "  '0.058*scheme + 0.048*capacity + 0.047*probability + 0.040*representation + 0.030*stored + 0.028*binary + 0.025*represented + 0.023*code + 0.022*relationship + 0.021*bound')]"
      ]
     },
     "execution_count": 34,
     "metadata": {},
     "output_type": "execute_result"
    }
   ],
   "source": [
    "model.show_topics()"
   ]
  },
  {
   "cell_type": "code",
   "execution_count": 35,
   "metadata": {
    "collapsed": false
   },
   "outputs": [
    {
     "data": {
      "text/plain": [
       "[(0, 0.55485121572041607),\n",
       " (4, 0.17897884328936686),\n",
       " (6, 0.14414251935372879),\n",
       " (8, 0.11957893769069983)]"
      ]
     },
     "execution_count": 35,
     "metadata": {},
     "output_type": "execute_result"
    }
   ],
   "source": [
    "model.get_author_topics(0)"
   ]
  },
  {
   "cell_type": "markdown",
   "metadata": {
    "collapsed": true
   },
   "source": [
    "## LDA"
   ]
  },
  {
   "cell_type": "code",
   "execution_count": 158,
   "metadata": {
    "collapsed": true
   },
   "outputs": [],
   "source": [
    "reload(gensim.models.ldamodel)\n",
    "LdaModel = gensim.models.ldamodel.LdaModel"
   ]
  },
  {
   "cell_type": "code",
   "execution_count": 151,
   "metadata": {
    "collapsed": true
   },
   "outputs": [],
   "source": [
    "lda = LdaModel(corpus=corpus, num_topics=10, id2word=dictionary.id2token, passes=10,\n",
    "               iterations=100, alpha='auto', eta='symmetric')"
   ]
  },
  {
   "cell_type": "code",
   "execution_count": 154,
   "metadata": {
    "collapsed": false
   },
   "outputs": [
    {
     "data": {
      "text/plain": [
       "[(0,\n",
       "  '0.020*memory + 0.015*chip + 0.010*synapse + 0.009*hidden + 0.009*energy + 0.008*activation + 0.008*bit + 0.007*analog + 0.007*associative + 0.007*circuit'),\n",
       " (1,\n",
       "  '0.013*node + 0.010*vector + 0.008*dynamic + 0.007*role + 0.006*matrix + 0.006*temporal + 0.006*sequence + 0.005*propagation + 0.005*action + 0.004*noise'),\n",
       " (2,\n",
       "  '0.022*processor + 0.017*activation + 0.013*cycle + 0.011*path + 0.009*machine + 0.008*cm + 0.007*letter + 0.007*array + 0.006*update + 0.006*string'),\n",
       " (3,\n",
       "  '0.017*node + 0.010*circuit + 0.008*threshold + 0.007*classifier + 0.007*probability + 0.006*distribution + 0.005*bit + 0.005*vector + 0.005*let + 0.004*polynomial'),\n",
       " (4,\n",
       "  '0.017*memory + 0.010*vector + 0.010*fig + 0.009*matrix + 0.009*delay + 0.008*cell + 0.008*cortex + 0.007*associative + 0.007*map + 0.006*dynamic'),\n",
       " (5,\n",
       "  '0.028*cell + 0.010*response + 0.010*firing + 0.009*stimulus + 0.008*activity + 0.007*frequency + 0.007*potential + 0.007*current + 0.006*synaptic + 0.006*spike'),\n",
       " (6,\n",
       "  '0.016*hidden + 0.012*recognition + 0.011*speech + 0.008*propagation + 0.007*classifier + 0.007*hidden_unit + 0.007*back_propagation + 0.006*trained + 0.006*hidden_layer + 0.005*training_set'),\n",
       " (7,\n",
       "  '0.013*vector + 0.008*code + 0.008*region + 0.007*chain + 0.007*class + 0.006*matrix + 0.005*probability + 0.005*hopfield + 0.005*let + 0.005*domain'),\n",
       " (8,\n",
       "  '0.012*field + 0.007*constraint + 0.007*analog + 0.006*noise + 0.006*line + 0.006*image + 0.006*energy + 0.005*gradient + 0.005*velocity + 0.005*minimum'),\n",
       " (9,\n",
       "  '0.032*image + 0.019*object + 0.008*visual + 0.008*vector + 0.008*joint + 0.007*fig + 0.006*pixel + 0.006*position + 0.006*region + 0.006*view')]"
      ]
     },
     "execution_count": 154,
     "metadata": {},
     "output_type": "execute_result"
    }
   ],
   "source": [
    "lda.show_topics()"
   ]
  },
  {
   "cell_type": "code",
   "execution_count": 59,
   "metadata": {
    "collapsed": false
   },
   "outputs": [
    {
     "data": {
      "text/plain": [
       "[(0, 0.14679045510589872),\n",
       " (2, 0.024722847345847499),\n",
       " (3, 0.036692535207794273),\n",
       " (4, 0.10874558108160597),\n",
       " (6, 0.29675634369596471),\n",
       " (9, 0.38555538612902118)]"
      ]
     },
     "execution_count": 59,
     "metadata": {},
     "output_type": "execute_result"
    }
   ],
   "source": [
    "lda[corpus[0]]"
   ]
  }
 ],
 "metadata": {
  "kernelspec": {
   "display_name": "Python 3",
   "language": "python",
   "name": "python3"
  },
  "language_info": {
   "codemirror_mode": {
    "name": "ipython",
    "version": 3
   },
   "file_extension": ".py",
   "mimetype": "text/x-python",
   "name": "python",
   "nbconvert_exporter": "python",
   "pygments_lexer": "ipython3",
   "version": "3.4.3+"
  }
 },
 "nbformat": 4,
 "nbformat_minor": 1
}
