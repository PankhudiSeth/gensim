{
 "cells": [
  {
   "cell_type": "markdown",
   "metadata": {},
   "source": [
    "# Word Mover's Distance\n",
    "\n",
    "Word Mover's Distance (WMD) is a new method that seeks to find the distance between two sets of words (documents, sentences, etc.). The method uses word embeddings via word2vec, and the rest is quite intuitive: match the closest words and sum the distances between them. Another way of saying it is that we find the \"minimum traveling distance\" from one document to another. \n",
    "\n",
    "WMD is illustrated below for two very similar sentences. The sentences have no words in common (non-trivial ones), but by matching the relevant words, WMD is able to accurately measure the similarity between the two sentences.\n",
    "\n",
    "<img src='https://vene.ro/images/wmd-obama.png' height='700' width='700'>\n",
    "\n",
    "\n",
    "This method comes from the article \"From Word Embeddings To Document Distances\" by Matt Kusner et al. ([link to PDF](http://jmlr.org/proceedings/papers/v37/kusnerb15.pdf)). It is inspired by the \"Earth Mover's Distance\", and employs a solver of the \"transportation problem\".\n",
    "\n",
    "This short tutorial shows the use of the `wmdistance` method of the Gensim `Word2Vec` class. Stay tuned for another tutorial in kNN classification using Gensim's [docsim](http://radimrehurek.com/gensim/similarities/docsim.html), when this functionality is implemented!\n",
    "\n",
    "## Using WMD\n",
    "\n",
    "To use WMD, we need some word embeddings first of all. You could train a word2vec (see tutorial [here](http://rare-technologies.com/word2vec-tutorial/)) model on some corpus, but in this tutorial we will simply download some pre-trained word2vec embeddings. Download these embeddings [here](https://drive.google.com/file/d/0B7XkCwpI5KDYNlNUTTlSS21pQmM/edit).\n",
    "\n",
    "Let's take some sentences to compute the distance between."
   ]
  },
  {
   "cell_type": "code",
   "execution_count": 1,
   "metadata": {
    "collapsed": true
   },
   "outputs": [],
   "source": [
    "import logging\n",
    "logging.basicConfig(format='%(asctime)s : %(levelname)s : %(message)s')\n",
    "\n",
    "sentence1 = 'Obama speaks to the media in Illinois'\n",
    "sentence2 = 'The president greets the press in Chicago'\n",
    "sentence1 = sentence1.lower().split()\n",
    "sentence2 = sentence2.lower().split()"
   ]
  },
  {
   "cell_type": "markdown",
   "metadata": {},
   "source": [
    "These sentences have very similar content, and as such the WMD should be low. Before we compute the WMD, we want to remove stopwords (\"the\", \"to\", etc.), as these do not contribute a lot to the information in the sentences."
   ]
  },
  {
   "cell_type": "code",
   "execution_count": 2,
   "metadata": {
    "collapsed": false
   },
   "outputs": [
    {
     "name": "stdout",
     "output_type": "stream",
     "text": [
      "[nltk_data] Downloading package stopwords to /home/olavur/nltk_data...\n",
      "[nltk_data]   Package stopwords is already up-to-date!\n"
     ]
    }
   ],
   "source": [
    "# Import and download stopwords from NLTK.\n",
    "from nltk.corpus import stopwords\n",
    "from nltk import download\n",
    "download('stopwords')\n",
    "\n",
    "# Remove stopwords.\n",
    "stop_words = stopwords.words('english')\n",
    "sentence1 = [w for w in sentence1 if w not in stop_words]\n",
    "sentence2 = [w for w in sentence2 if w not in stop_words]"
   ]
  },
  {
   "cell_type": "markdown",
   "metadata": {},
   "source": [
    "Now, as mentioned earlier, we will be using some downloaded pre-trained embeddings. We load these into a Gensim Word2Vec model class. Note that the embeddings we have chosen here require a lot of memory."
   ]
  },
  {
   "cell_type": "code",
   "execution_count": 3,
   "metadata": {
    "collapsed": false
   },
   "outputs": [],
   "source": [
    "from gensim.models import Word2Vec\n",
    "model = Word2Vec.load_word2vec_format('/data/w2v_googlenews/GoogleNews-vectors-negative300.bin.gz', binary=True)"
   ]
  },
  {
   "cell_type": "markdown",
   "metadata": {},
   "source": [
    "So let's compute the WMD using the `wmdistance` method."
   ]
  },
  {
   "cell_type": "code",
   "execution_count": 4,
   "metadata": {
    "collapsed": false
   },
   "outputs": [
    {
     "name": "stdout",
     "output_type": "stream",
     "text": [
      "1.01746462593\n"
     ]
    }
   ],
   "source": [
    "distance = model.wmdistance(sentence1, sentence2)\n",
    "\n",
    "print distance"
   ]
  },
  {
   "cell_type": "markdown",
   "metadata": {},
   "source": [
    "Let's try the same thing with two completely unrelated sentences. Notice that the distance is larger."
   ]
  },
  {
   "cell_type": "code",
   "execution_count": 5,
   "metadata": {
    "collapsed": false
   },
   "outputs": [
    {
     "name": "stdout",
     "output_type": "stream",
     "text": [
      "1.36042560915\n"
     ]
    }
   ],
   "source": [
    "sentence1 = 'Obama speaks to the media in Illinois'\n",
    "sentence2 = 'Oranges are my favorite type of fruit'\n",
    "sentence1 = sentence1.lower().split()\n",
    "sentence2 = sentence2.lower().split()\n",
    "stop_words = stopwords.words('english')\n",
    "sentence1 = [w for w in sentence1 if w not in stop_words]\n",
    "sentence2 = [w for w in sentence2 if w not in stop_words]\n",
    "\n",
    "distance = model.wmdistance(sentence1, sentence2)\n",
    "\n",
    "print distance"
   ]
  },
  {
   "cell_type": "markdown",
   "metadata": {},
   "source": [
    "## WmdSimilarity\n",
    "\n",
    "You can use WMD to get the most similar documents to a query, using `WmdSimilarity`. Its interface is similar to what is described in the [Similarity Queries](https://radimrehurek.com/gensim/tut3.html) Gensim tutorial.\n",
    "\n",
    "We need some documents to try it out on, and for that we'll be using Yelp reviews, available at http://www.yelp.com/dataset_challenge. We are going to keep using the GoogleNews embeddings, although we could also have trained a word2vec model on the Yelp data.\n",
    "\n",
    "Below a JSON file with Yelp reviews is read line by line, the text is extracted, tokenized, and stopwords and punctuation are removed."
   ]
  },
  {
   "cell_type": "code",
   "execution_count": 27,
   "metadata": {
    "collapsed": false
   },
   "outputs": [
    {
     "name": "stdout",
     "output_type": "stream",
     "text": [
      "[nltk_data] Downloading package punkt to /home/olavur/nltk_data...\n",
      "[nltk_data]   Package punkt is already up-to-date!\n"
     ]
    }
   ],
   "source": [
    "import json\n",
    "from nltk import word_tokenize\n",
    "download('punkt')  # Download data for tokenizer.\n",
    "\n",
    "# Load some text data.\n",
    "n_items = 20\n",
    "corpus = []\n",
    "with open('/home/olavur/yelp_dataset_challenge_academic_dataset/yelp_academic_dataset_review.json') as data_file:\n",
    "    for i, line in enumerate(data_file):\n",
    "        if i == n_items:\n",
    "            break\n",
    "            \n",
    "        json_line = json.loads(line)\n",
    "        text = json_line['text'].lower()  # Lower the text.\n",
    "        text = word_tokenize(text)  # Split into words.\n",
    "        text = [w for w in text if not w in stop_words]  # Remove stopwords.\n",
    "        text = [w for w in text if w.isalpha()]  # Remove numbers and punctuation.\n",
    "        corpus.append(text)"
   ]
  },
  {
   "cell_type": "markdown",
   "metadata": {},
   "source": [
    "Now we want to initialize the similarity class with a corpus and a word2vec model (which provides the embeddings and the `wmdistance` method itself)."
   ]
  },
  {
   "cell_type": "code",
   "execution_count": 28,
   "metadata": {
    "collapsed": true
   },
   "outputs": [],
   "source": [
    "from gensim.similarities import WmdSimilarity\n",
    "instance = WmdSimilarity(corpus, model, num_best=10)"
   ]
  },
  {
   "cell_type": "markdown",
   "metadata": {},
   "source": [
    "The `num_best` parameter decides how many results the queries return. Now let's try making a query."
   ]
  },
  {
   "cell_type": "code",
   "execution_count": 29,
   "metadata": {
    "collapsed": false
   },
   "outputs": [
    {
     "name": "stdout",
     "output_type": "stream",
     "text": [
      "[(13, -1.1387773003809611), (10, -1.1666546691779864), (12, -1.1725773024431625), (11, -1.1919036977021324), (14, -1.1993376932711148), (2, -1.2032962138672465), (18, -1.2063037700971175), (0, -1.2096674475548443), (6, -1.2106174098981202), (9, -1.2137328878539591)]\n"
     ]
    }
   ],
   "source": [
    "sent = 'the food in this restaurant is quite delicious'\n",
    "sent = sent.split()\n",
    "sims = instance[sent]\n",
    "print sims"
   ]
  },
  {
   "cell_type": "markdown",
   "metadata": {},
   "source": [
    "We can also compare all the documents in the corpus, simply by iterating over the similarity class."
   ]
  },
  {
   "cell_type": "code",
   "execution_count": 31,
   "metadata": {
    "collapsed": false
   },
   "outputs": [
    {
     "name": "stdout",
     "output_type": "stream",
     "text": [
      "18 -1.02450615166\n",
      "5 -0.927757094667\n",
      "7 -0.946903190483\n",
      "7 -1.01046151423\n",
      "2 -0.970021707804\n",
      "1 -0.927757094667\n",
      "3 -1.01838309872\n",
      "1 -0.934173622083\n",
      "5 -0.93840869294\n",
      "5 -0.967889142254\n",
      "11 -0.844034032851\n",
      "10 -0.844034032851\n",
      "11 -0.90776322182\n",
      "10 -0.977599374215\n",
      "15 -0.99086094287\n",
      "17 -0.980916173889\n",
      "15 -1.0030764677\n",
      "15 -0.980916173889\n",
      "14 -1.02268712348\n",
      "8 -1.03511599213\n"
     ]
    }
   ],
   "source": [
    "for i, result in enumerate(instance):\n",
    "    print result[0][0], result[0][1]  # Print index and similarity to the most similar document."
   ]
  },
  {
   "cell_type": "markdown",
   "metadata": {},
   "source": [
    "As mentioned previously, for more information about Gensim's similarity classes in general, turn to [this tutorial](https://radimrehurek.com/gensim/tut3.html)."
   ]
  }
 ],
 "metadata": {
  "kernelspec": {
   "display_name": "Python 2",
   "language": "python",
   "name": "python2"
  },
  "language_info": {
   "codemirror_mode": {
    "name": "ipython",
    "version": 2
   },
   "file_extension": ".py",
   "mimetype": "text/x-python",
   "name": "python",
   "nbconvert_exporter": "python",
   "pygments_lexer": "ipython2",
   "version": "2.7.6"
  }
 },
 "nbformat": 4,
 "nbformat_minor": 0
}
