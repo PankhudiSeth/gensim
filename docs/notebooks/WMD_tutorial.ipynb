{
 "cells": [
  {
   "cell_type": "markdown",
   "metadata": {},
   "source": [
    "# Word Mover's Distance\n",
    "\n",
    "Word Mover's Distance (WMD) is a new method that seeks to find the distance between two sets of words (documents, sentences, etc.). The method uses word embeddings via word2vec, and the rest is quite intuitive: match the closest words and sum the distances between them. Another way of saying it is that we find the \"minimum traveling distance\" from one document to another. \n",
    "\n",
    "WMD is illustrated below for two very similar sentences. The sentences have no words in common (non-trivial ones), but by matching the relevant words, WMD is able to accurately measure the similarity between the two sentences.\n",
    "\n",
    "<img src='https://vene.ro/images/wmd-obama.png' height='700' width='700'>\n",
    "\n",
    "\n",
    "This method comes from the article \"From Word Embeddings To Document Distances\" by Matt Kusner et al. ([link to PDF](http://jmlr.org/proceedings/papers/v37/kusnerb15.pdf)). It is inspired by the \"Earth Mover's Distance\", and employs a solver of the \"transportation problem\".\n",
    "\n",
    "This short tutorial shows the use of the `wmdistance` method of the Gensim `Word2Vec` class. Stay tuned for another tutorial in kNN classification using Gensim's [docsim](http://radimrehurek.com/gensim/similarities/docsim.html), when this functionality is implemented!\n",
    "\n",
    "> **Note**:\n",
    ">\n",
    "> If you use this software, please consider citing the following papers:\n",
    ">\n",
    "> Ofir Pele and Michael Werman, \"A linear time histogram metric for improved SIFT matching\".\n",
    "> \n",
    "> Ofir Pele and Michael Werman, \"Fast and robust earth mover's distances\".\n",
    ">\n",
    "> Matt Kusner et al. \"From Word Embeddings To Document Distances\".\n",
    "\n",
    "## Using WMD\n",
    "\n",
    "To use WMD, we need some word embeddings first of all. You could train a word2vec (see tutorial [here](http://rare-technologies.com/word2vec-tutorial/)) model on some corpus, but in this tutorial we will simply download some pre-trained word2vec embeddings. Download these embeddings [here](https://drive.google.com/file/d/0B7XkCwpI5KDYNlNUTTlSS21pQmM/edit). Training your own embeddings can be beneficial, but to simplify this tutorial, we will be using pre-trained embeddings.\n",
    "\n",
    "Let's take some sentences to compute the distance between."
   ]
  },
  {
   "cell_type": "code",
   "execution_count": 1,
   "metadata": {
    "collapsed": true
   },
   "outputs": [],
   "source": [
    "import logging\n",
    "logging.basicConfig(format='%(asctime)s : %(levelname)s : %(message)s')\n",
    "\n",
    "sentence1 = 'Obama speaks to the media in Illinois'\n",
    "sentence2 = 'The president greets the press in Chicago'\n",
    "sentence1 = sentence1.lower().split()\n",
    "sentence2 = sentence2.lower().split()"
   ]
  },
  {
   "cell_type": "markdown",
   "metadata": {},
   "source": [
    "These sentences have very similar content, and as such the WMD should be low. Before we compute the WMD, we want to remove stopwords (\"the\", \"to\", etc.), as these do not contribute a lot to the information in the sentences."
   ]
  },
  {
   "cell_type": "code",
   "execution_count": 2,
   "metadata": {
    "collapsed": false
   },
   "outputs": [
    {
     "name": "stdout",
     "output_type": "stream",
     "text": [
      "[nltk_data] Downloading package stopwords to /home/olavur/nltk_data...\n",
      "[nltk_data]   Package stopwords is already up-to-date!\n"
     ]
    }
   ],
   "source": [
    "# Import and download stopwords from NLTK.\n",
    "from nltk.corpus import stopwords\n",
    "from nltk import download\n",
    "download('stopwords')\n",
    "\n",
    "# Remove stopwords.\n",
    "stop_words = stopwords.words('english')\n",
    "sentence1 = [w for w in sentence1 if w not in stop_words]\n",
    "sentence2 = [w for w in sentence2 if w not in stop_words]"
   ]
  },
  {
   "cell_type": "markdown",
   "metadata": {},
   "source": [
    "Now, as mentioned earlier, we will be using some downloaded pre-trained embeddings. We load these into a Gensim Word2Vec model class. Note that the embeddings we have chosen here require a lot of memory."
   ]
  },
  {
   "cell_type": "code",
   "execution_count": 3,
   "metadata": {
    "collapsed": false
   },
   "outputs": [],
   "source": [
    "from gensim.models import Word2Vec\n",
    "model = Word2Vec.load_word2vec_format('/data/w2v_googlenews/GoogleNews-vectors-negative300.bin.gz', binary=True)"
   ]
  },
  {
   "cell_type": "markdown",
   "metadata": {},
   "source": [
    "So let's compute the WMD using the `wmdistance` method."
   ]
  },
  {
   "cell_type": "code",
   "execution_count": 4,
   "metadata": {
    "collapsed": false
   },
   "outputs": [
    {
     "name": "stdout",
     "output_type": "stream",
     "text": [
      "1.01746462593\n"
     ]
    }
   ],
   "source": [
    "distance = model.wmdistance(sentence1, sentence2)\n",
    "\n",
    "print distance"
   ]
  },
  {
   "cell_type": "markdown",
   "metadata": {},
   "source": [
    "Let's try the same thing with two completely unrelated sentences. Notice that the distance is larger."
   ]
  },
  {
   "cell_type": "code",
   "execution_count": 5,
   "metadata": {
    "collapsed": false
   },
   "outputs": [
    {
     "name": "stdout",
     "output_type": "stream",
     "text": [
      "1.36042560915\n"
     ]
    }
   ],
   "source": [
    "sentence1 = 'Obama speaks to the media in Illinois'\n",
    "sentence2 = 'Oranges are my favorite type of fruit'\n",
    "sentence1 = sentence1.lower().split()\n",
    "sentence2 = sentence2.lower().split()\n",
    "stop_words = stopwords.words('english')\n",
    "sentence1 = [w for w in sentence1 if w not in stop_words]\n",
    "sentence2 = [w for w in sentence2 if w not in stop_words]\n",
    "\n",
    "distance = model.wmdistance(sentence1, sentence2)\n",
    "\n",
    "print distance"
   ]
  },
  {
   "cell_type": "markdown",
   "metadata": {},
   "source": [
    "## WmdSimilarity\n",
    "\n",
    "You can use WMD to get the most similar documents to a query, using `WmdSimilarity`. Its interface is similar to what is described in the [Similarity Queries](https://radimrehurek.com/gensim/tut3.html) Gensim tutorial.\n",
    "\n",
    "We need some documents to try it out on, and for that we'll be using Yelp reviews, available at http://www.yelp.com/dataset_challenge. We are going to keep using the GoogleNews embeddings, although we could also have trained a word2vec model on the Yelp data.\n",
    "\n",
    "Below a JSON file with Yelp reviews is read line by line, the text is extracted, tokenized, and stopwords and punctuation are removed."
   ]
  },
  {
   "cell_type": "code",
   "execution_count": 26,
   "metadata": {
    "collapsed": false
   },
   "outputs": [
    {
     "name": "stdout",
     "output_type": "stream",
     "text": [
      "[nltk_data] Downloading package punkt to /home/olavur/nltk_data...\n",
      "[nltk_data]   Package punkt is already up-to-date!\n"
     ]
    }
   ],
   "source": [
    "import json\n",
    "from nltk import word_tokenize\n",
    "download('punkt')  # Download data for tokenizer.\n",
    "\n",
    "# Load some text data.\n",
    "n_items = 100\n",
    "corpus = []\n",
    "with open('/home/olavur/yelp_dataset_challenge_academic_dataset/yelp_academic_dataset_review.json') as data_file:\n",
    "    for i, line in enumerate(data_file):\n",
    "        if i == n_items:\n",
    "            break\n",
    "            \n",
    "        json_line = json.loads(line)\n",
    "        text = json_line['text'].lower()  # Lower the text.\n",
    "        text = word_tokenize(text)  # Split into words.\n",
    "        text = [w for w in text if not w in stop_words]  # Remove stopwords.\n",
    "        text = [w for w in text if w.isalpha()]  # Remove numbers and punctuation.\n",
    "        corpus.append(text)"
   ]
  },
  {
   "cell_type": "markdown",
   "metadata": {},
   "source": [
    "Now we want to initialize the similarity class with a corpus and a word2vec model (which provides the embeddings and the `wmdistance` method itself)."
   ]
  },
  {
   "cell_type": "code",
   "execution_count": 29,
   "metadata": {
    "collapsed": true
   },
   "outputs": [],
   "source": [
    "from gensim.similarities import WmdSimilarity\n",
    "instance = WmdSimilarity(corpus, model, num_best=10)"
   ]
  },
  {
   "cell_type": "markdown",
   "metadata": {},
   "source": [
    "The `num_best` parameter decides how many results the queries return. Now let's try making a query. The output is a list of indeces and similarities of documents in the corpus, sorted by similarity. Note that the output format is slightly different when `num_best` is `None` (i.e. not assigned)."
   ]
  },
  {
   "cell_type": "code",
   "execution_count": 33,
   "metadata": {
    "collapsed": false
   },
   "outputs": [
    {
     "name": "stdout",
     "output_type": "stream",
     "text": [
      "[(36, -1.062348209519419), (91, -1.067123447878296), (69, -1.0888095046298369), (97, -1.1154110031054827), (25, -1.1262297295077295), (82, -1.1274604703822992), (62, -1.1308998428055204), (73, -1.1350289419661039), (37, -1.1376939276185776), (24, -1.1383382727165794)]\n"
     ]
    }
   ],
   "source": [
    "sent = 'the food in this restaurant is quite delicious'\n",
    "sent = sent.split()\n",
    "sims = instance[sent]  # A query is simply a \"look-up\" in the similarity class.\n",
    "print sims"
   ]
  },
  {
   "cell_type": "markdown",
   "metadata": {},
   "source": [
    "The most similar document is printed below. The topic seems to be food, so it is not far off."
   ]
  },
  {
   "cell_type": "code",
   "execution_count": 32,
   "metadata": {
    "collapsed": false
   },
   "outputs": [
    {
     "name": "stdout",
     "output_type": "stream",
     "text": [
      "[u'cool', u'doubt', u'visiting', u'service', u'prices', u'restrooms', u'clean', u'buffalo', u'chicken', u'sandwich', u'delicious', u'menu', u'consists', u'typical', u'bar', u'food', u'food', u'however', u'theres', u'different', u'items', u'stand', u'cool', u'bar', u'beaten', u'path', u'worth', u'trip', u'cheers']\n"
     ]
    }
   ],
   "source": [
    "print corpus[sims[0][0]]"
   ]
  },
  {
   "cell_type": "markdown",
   "metadata": {},
   "source": [
    "Let's try an illustrative example. We take the two sentences from the figure in the begining concerning the president of the United States, and a third sentence that has a completely different topic. We then get the similarities of each sentence to the other two."
   ]
  },
  {
   "cell_type": "code",
   "execution_count": 44,
   "metadata": {
    "collapsed": false
   },
   "outputs": [
    {
     "name": "stdout",
     "output_type": "stream",
     "text": [
      "Query: obama speaks media illinois\n",
      "Similarity     Result\n",
      "-1.01746462593 president greets press chicago\n",
      "-1.35325235589 nearest train station\n",
      "\n",
      "Query: president greets press chicago\n",
      "Similarity     Result\n",
      "-1.01746462593 obama speaks media illinois\n",
      "-1.34451587064 nearest train station\n",
      "\n",
      "Query: nearest train station\n",
      "Similarity     Result\n",
      "-1.34451587064 president greets press chicago\n",
      "-1.35325235589 obama speaks media illinois\n",
      "\n"
     ]
    }
   ],
   "source": [
    "sentences = ['Obama speaks to the media in Illinois',\n",
    "             'The president greets the press in Chicago',\n",
    "             'Where is the nearest train station']\n",
    "sentences = [s.lower().split() for s in sentences]\n",
    "sentences = [[w for w in s if not w in stop_words] for s in sentences]\n",
    "\n",
    "instance = WmdSimilarity(sentences, model, num_best=3)\n",
    "\n",
    "for i, result in enumerate(instance):\n",
    "    print 'Query: ' + ' '.join(sentences[i])\n",
    "    print 'Similarity     Result'\n",
    "    for idx, sim in result:\n",
    "        print sim, ' '.join(sentences[idx])\n",
    "    print"
   ]
  },
  {
   "cell_type": "markdown",
   "metadata": {},
   "source": [
    "The output makes intuitive sense; when the query is about the president, the top result is as well.\n",
    "\n",
    "As mentioned previously, for more information about Gensim's similarity classes in general, turn to [this tutorial](https://radimrehurek.com/gensim/tut3.html)."
   ]
  }
 ],
 "metadata": {
  "kernelspec": {
   "display_name": "Python 2",
   "language": "python",
   "name": "python2"
  },
  "language_info": {
   "codemirror_mode": {
    "name": "ipython",
    "version": 2
   },
   "file_extension": ".py",
   "mimetype": "text/x-python",
   "name": "python",
   "nbconvert_exporter": "python",
   "pygments_lexer": "ipython2",
   "version": "2.7.6"
  }
 },
 "nbformat": 4,
 "nbformat_minor": 0
}
